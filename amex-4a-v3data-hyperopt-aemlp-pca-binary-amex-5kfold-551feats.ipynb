{
 "cells": [
  {
   "cell_type": "raw",
   "metadata": {
    "execution": {
     "iopub.execute_input": "2022-07-15T10:17:59.084452Z",
     "iopub.status.busy": "2022-07-15T10:17:59.083961Z",
     "iopub.status.idle": "2022-07-15T10:17:59.127435Z",
     "shell.execute_reply": "2022-07-15T10:17:59.126487Z",
     "shell.execute_reply.started": "2022-07-15T10:17:59.084360Z"
    }
   },
   "source": [
    "# This Python 3 environment comes with many helpful analytics libraries installed\n",
    "# It is defined by the kaggle/python Docker image: https://github.com/kaggle/docker-python\n",
    "# For example, here's several helpful packages to load\n",
    "\n",
    "import numpy as np # linear algebra\n",
    "import pandas as pd # data processing, CSV file I/O (e.g. pd.read_csv)\n",
    "\n",
    "# Input data files are available in the read-only \"../input/\" directory\n",
    "# For example, running this (by clicking run or pressing Shift+Enter) will list all files under the input directory\n",
    "\n",
    "import os\n",
    "for dirname, _, filenames in os.walk('/kaggle/input'):\n",
    "    for filename in filenames:\n",
    "        print(os.path.join(dirname, filename))\n",
    "\n",
    "# You can write up to 20GB to the current directory (/kaggle/working/) that gets preserved as output when you create a version using \"Save & Run All\" \n",
    "# You can also write temporary files to /kaggle/temp/, but they won't be saved outside of the current session"
   ]
  },
  {
   "cell_type": "code",
   "execution_count": 1,
   "metadata": {
    "execution": {
     "iopub.execute_input": "2022-07-15T10:18:47.560362Z",
     "iopub.status.busy": "2022-07-15T10:18:47.559981Z",
     "iopub.status.idle": "2022-07-15T10:18:47.628781Z",
     "shell.execute_reply": "2022-07-15T10:18:47.627569Z",
     "shell.execute_reply.started": "2022-07-15T10:18:47.560330Z"
    }
   },
   "outputs": [],
   "source": [
    "import pandas as pd\n",
    "import numpy as np\n",
    "import os\n",
    "from pathlib import Path\n",
    "\n",
    "from datetime import datetime, timedelta\n",
    "import time\n",
    "\n",
    "import gc\n",
    "import copy\n",
    "\n",
    "import pyarrow.parquet as pq\n",
    "import pyarrow as pa\n",
    "\n",
    " \n",
    "from dateutil.relativedelta import relativedelta\n",
    "from sklearn.preprocessing import StandardScaler, MinMaxScaler\n",
    "\n",
    "from sklearn.metrics import mean_squared_error, roc_auc_score\n",
    "from sklearn.model_selection import StratifiedKFold, KFold"
   ]
  },
  {
   "cell_type": "code",
   "execution_count": 2,
   "metadata": {
    "execution": {
     "iopub.execute_input": "2022-07-15T10:18:52.696455Z",
     "iopub.status.busy": "2022-07-15T10:18:52.696068Z",
     "iopub.status.idle": "2022-07-15T10:19:05.833381Z",
     "shell.execute_reply": "2022-07-15T10:19:05.832162Z",
     "shell.execute_reply.started": "2022-07-15T10:18:52.696425Z"
    }
   },
   "outputs": [
    {
     "name": "stderr",
     "output_type": "stream",
     "text": [
      "Global seed set to 1234\n"
     ]
    },
    {
     "data": {
      "text/plain": [
       "1234"
      ]
     },
     "execution_count": 2,
     "metadata": {},
     "output_type": "execute_result"
    }
   ],
   "source": [
    "pd.options.display.max_rows = 100\n",
    "pd.options.display.max_columns = 100\n",
    "\n",
    "import warnings\n",
    "warnings.filterwarnings(\"ignore\")\n",
    "\n",
    "import pytorch_lightning as pl\n",
    "random_seed=1234\n",
    "pl.seed_everything(random_seed)"
   ]
  },
  {
   "cell_type": "code",
   "execution_count": 3,
   "metadata": {
    "execution": {
     "iopub.execute_input": "2022-07-15T10:19:45.805187Z",
     "iopub.status.busy": "2022-07-15T10:19:45.804820Z",
     "iopub.status.idle": "2022-07-15T10:19:46.560234Z",
     "shell.execute_reply": "2022-07-15T10:19:46.559125Z",
     "shell.execute_reply.started": "2022-07-15T10:19:45.805159Z"
    }
   },
   "outputs": [
    {
     "data": {
      "text/plain": [
       "551"
      ]
     },
     "execution_count": 3,
     "metadata": {},
     "output_type": "execute_result"
    }
   ],
   "source": [
    "\n",
    "id_feats = ['customer_ID']\n",
    "#date_col =  'S_2'\n",
    "target_col = 'target'\n",
    "\n",
    "feats = ['B_10__last', 'B_10__mean', 'B_11__last', 'B_11__last2max', 'B_11__last__log', 'B_11__mean', 'B_11__mean__log', 'B_11__min', 'B_12__last', 'B_12__last__log', 'B_13__last', 'B_13__last__log', 'B_14__last', 'B_14__last2max', 'B_14__min', 'B_15__last', 'B_15__mean', 'B_16__last', 'B_16__max', 'B_16__min', 'B_17__last', 'B_17__max', 'B_17__mean', 'B_17__mean2std', 'B_17__min', 'B_18__last', 'B_18__last__log', 'B_18__mean', 'B_18__mean__log', 'B_18__min', 'B_19__last', 'B_19__last__log', 'B_19__min', 'B_1__last', 'B_1__last2max', 'B_1__max', 'B_1__mean', 'B_1__min', 'B_20__last', 'B_20__last__log', 'B_20__max', 'B_20__mean', 'B_20__mean__log', 'B_20__min', 'B_21__last', 'B_21__last__log', 'B_21__max', 'B_21__mean__log', 'B_22__last', 'B_22__last__log', 'B_22__max', 'B_22__mean', 'B_22__mean__log', 'B_22__min', 'B_23__last', 'B_23__last__log', 'B_23__mean', 'B_23__min', 'B_24__last', 'B_24__last__log', 'B_24__mean', 'B_24__mean__log', 'B_25__last', 'B_25__last2max', 'B_25__min', 'B_26__last', 'B_26__last__log', 'B_26__mean__log', 'B_27__last', 'B_27__last__log', 'B_28__last', 'B_29__last', 'B_29__last__log', 'B_2__last', 'B_2__last2max', 'B_2__last__log', 'B_2__mean', 'B_2__mean__log', 'B_2__min', 'B_30=0.0', 'B_30=1.0', 'B_30=2.0', 'B_30__last', 'B_30__nunique', 'B_31__last', 'B_31__nunique', 'B_32__last', 'B_32__last__log', 'B_32__max', 'B_33__last', 'B_33__last2max', 'B_33__last__log', 'B_33__max', 'B_33__mean', 'B_33__mean__log', 'B_33__min', 'B_36__last', 'B_36__last__log', 'B_37__last', 'B_37__last2max', 'B_37__max', 'B_37__mean', 'B_38=4.0', 'B_38=5.0', 'B_38=6.0', 'B_38=7.0', 'B_38__last', 'B_38__nunique', 'B_39__last', 'B_3__last', 'B_3__last__log', 'B_3__max', 'B_3__mean', 'B_3__mean__log', 'B_3__min', 'B_3__std', 'B_40__last', 'B_40__last__log', 'B_40__mean__log', 'B_40__min', 'B_41__last', 'B_41__last__log', 'B_42__last', 'B_42__last__log', 'B_4__last', 'B_4__last2max', 'B_4__last__log', 'B_4__max', 'B_4__mean2std', 'B_4__mean__log', 'B_5__last', 'B_5__last__log', 'B_5__mean', 'B_6__last', 'B_6__min', 'B_7__last', 'B_7__max', 'B_7__mean', 'B_7__min', 'B_8__last', 'B_8__last__log', 'B_8__max', 'B_8__mean', 'B_8__mean__log', 'B_8__min', 'B_9__last', 'B_9__last2max', 'B_9__last__log', 'B_9__max', 'B_9__mean', 'B_9__mean__log', 'B_9__min', 'D_102__last', 'D_102__last__log', 'D_102__max', 'D_103__last', 'D_104__last', 'D_105__last', 'D_105__max', 'D_106__last', 'D_106__last__log', 'D_107__last', 'D_107__last__log', 'D_107__max', 'D_107__mean__log', 'D_108__last', 'D_108__last__log', 'D_109__last', 'D_109__last__log', 'D_109__mean', 'D_110__last', 'D_111__last', 'D_112__last', 'D_112__last__log', 'D_113__last', 'D_113__last__log', 'D_113__max', 'D_114=0.0', 'D_114__last', 'D_114__nunique', 'D_115__last', 'D_115__last__log', 'D_116__last', 'D_117__last', 'D_118__last', 'D_118__last__log', 'D_118__mean__log', 'D_119__last', 'D_119__last__log', 'D_120=1.0', 'D_120__last', 'D_120__nunique', 'D_121__last', 'D_122__last', 'D_122__max', 'D_122__min', 'D_123__last', 'D_123__last__log', 'D_123__mean', 'D_124__last', 'D_125__last', 'D_125__last__log', 'D_126__last', 'D_127__last', 'D_128__last', 'D_128__max', 'D_128__min', 'D_129__last', 'D_129__max', 'D_129__mean', 'D_130__last', 'D_130__max', 'D_131__last', 'D_131__last__log', 'D_131__max', 'D_131__min', 'D_132__last', 'D_132__mean2std', 'D_132__min', 'D_133__last', 'D_133__last__log', 'D_133__max', 'D_133__min', 'D_134__last', 'D_134__min', 'D_135__last', 'D_135__last__log', 'D_135__mean2std', 'D_136__last', 'D_136__last__log', 'D_137__last', 'D_137__last__log', 'D_138__last', 'D_138__last__log', 'D_139__last', 'D_139__mean', 'D_140__last', 'D_140__last__log', 'D_140__max', 'D_141__last', 'D_142__last', 'D_143__last', 'D_144__last', 'D_145__last', 'D_39__last', 'D_39__last__log', 'D_39__max', 'D_39__mean', 'D_39__range', 'D_39__std', 'D_41__last', 'D_41__last__log', 'D_41__max', 'D_41__mean', 'D_41__min', 'D_42__first', 'D_42__last', 'D_42__max', 'D_42__mean', 'D_42__mean2std', 'D_42__min', 'D_43__last', 'D_43__last__log', 'D_43__max', 'D_43__mean', 'D_43__mean__log', 'D_43__min', 'D_44__last', 'D_44__last2max', 'D_44__last__log', 'D_44__max', 'D_44__mean', 'D_44__mean__log', 'D_44__min', 'D_44__range', 'D_44__std', 'D_45__first', 'D_45__last', 'D_45__last__log', 'D_45__max', 'D_45__mean', 'D_45__mean__log', 'D_45__min', 'D_46__last', 'D_46__mean', 'D_46__mean2std', 'D_46__min', 'D_47__last', 'D_48__first', 'D_48__last', 'D_48__max', 'D_48__mean', 'D_48__min', 'D_49__last', 'D_49__last__log', 'D_49__mean2std', 'D_50__last', 'D_51__last', 'D_51__last__log', 'D_51__mean', 'D_52__last', 'D_52__max', 'D_52__mean', 'D_52__mean2std', 'D_52__min', 'D_53__last', 'D_53__last__log', 'D_53__max', 'D_53__mean2std', 'D_53__min', 'D_54__last', 'D_55__last', 'D_55__last__log', 'D_55__max', 'D_55__min', 'D_56__last', 'D_56__min', 'D_58__last', 'D_58__min', 'D_59__last', 'D_59__max', 'D_60__last', 'D_60__last__log', 'D_60__max', 'D_61__last', 'D_61__max', 'D_61__mean', 'D_61__min', 'D_62__last', 'D_62__max', 'D_62__mean', 'D_62__min', 'D_64=U', 'D_65__last', 'D_65__last__log', 'D_65__max', 'D_65__mean', 'D_65__mean__log', 'D_68=1.0', 'D_68__last', 'D_69__last', 'D_69__min', 'D_70__last', 'D_70__max', 'D_70__mean2std', 'D_70__min', 'D_71__last', 'D_72__last', 'D_72__max', 'D_72__min', 'D_73__last', 'D_74__last', 'D_74__max', 'D_74__mean', 'D_75__last', 'D_75__last__log', 'D_75__max', 'D_75__mean', 'D_75__mean__log', 'D_76__last', 'D_77__last', 'D_77__max', 'D_77__mean', 'D_77__min', 'D_78__last', 'D_78__max', 'D_78__mean', 'D_78__mean__log', 'D_79__last', 'D_79__max', 'D_80__last', 'D_81__last', 'D_81__max', 'D_81__mean', 'D_82__last', 'D_83__last', 'D_84__last', 'D_84__max', 'D_84__mean', 'D_86__last', 'D_87__last', 'D_88__last', 'D_89__last', 'D_89__max', 'D_89__mean', 'D_91__last', 'D_92__last', 'D_93__last', 'D_94__last', 'D_96__last', 'P_2__first', 'P_2__last', 'P_2__last2max', 'P_2__max', 'P_2__mean', 'P_2__min', 'P_3__last', 'P_3__max', 'P_3__mean', 'P_3__min', 'P_4__last', 'P_4__max', 'P_4__mean', 'P_4__min', 'R_10__last', 'R_10__max', 'R_10__mean', 'R_10__mean__log', 'R_10__std', 'R_11__last', 'R_11__max', 'R_11__mean', 'R_12__last', 'R_12__max', 'R_12__mean', 'R_13__last', 'R_13__max', 'R_13__mean', 'R_13__mean2std', 'R_14__last', 'R_15__last', 'R_15__max', 'R_15__mean', 'R_16__last', 'R_16__max', 'R_16__mean', 'R_16__mean__log', 'R_17__last', 'R_17__max', 'R_18__last', 'R_18__max', 'R_19__last', 'R_19__min', 'R_1__last', 'R_1__last__log', 'R_1__max', 'R_1__mean', 'R_1__mean__log', 'R_1__min', 'R_1__range', 'R_1__std', 'R_20__last', 'R_20__max', 'R_20__mean', 'R_21__last', 'R_22__last', 'R_22__max', 'R_23__last', 'R_24__last', 'R_24__max', 'R_24__mean', 'R_25__last', 'R_25__max', 'R_26__last', 'R_26__mean2std', 'R_27__last', 'R_27__max', 'R_27__mean', 'R_27__min', 'R_28__last', 'R_28__last__log', 'R_2__last', 'R_2__last__log', 'R_2__max', 'R_2__mean', 'R_2__mean__log', 'R_2__min', 'R_2__range', 'R_2__std', 'R_3__last', 'R_3__last__log', 'R_3__max', 'R_3__mean', 'R_3__mean__log', 'R_3__min', 'R_4__last', 'R_4__max', 'R_4__mean', 'R_4__mean__log', 'R_4__min', 'R_5__last', 'R_5__max', 'R_5__mean', 'R_5__mean__log', 'R_5__range', 'R_6__last', 'R_6__last__log', 'R_6__max', 'R_6__mean', 'R_6__mean__log', 'R_7__last', 'R_7__max', 'R_7__mean', 'R_7__range', 'R_8__last', 'R_8__max', 'R_8__mean', 'R_8__mean__log', 'R_9__last', 'R_9__mean2std', 'S_11__last', 'S_11__mean', 'S_12__last', 'S_12__max', 'S_13__last', 'S_15__last', 'S_15__max', 'S_15__mean', 'S_16__last', 'S_17__last', 'S_17__min', 'S_18__last', 'S_19__last', 'S_20__last', 'S_20__max', 'S_22__last', 'S_22__max', 'S_22__mean', 'S_23__last', 'S_23__max', 'S_23__mean', 'S_24__last', 'S_25__last', 'S_25__last2max', 'S_25__mean', 'S_25__min', 'S_25__range', 'S_25__std', 'S_26__last', 'S_26__last__log', 'S_27__last', 'S_27__mean2std', 'S_3__last', 'S_3__max', 'S_3__mean', 'S_3__min', 'S_5__last', 'S_5__last__log', 'S_5__mean__log', 'S_6__last', 'S_6__max', 'S_6__min', 'S_7__last', 'S_7__max', 'S_7__mean', 'S_7__min', 'S_8__last', 'S_8__mean', 'S_8__min', 'S_9__last', 'S_9__max']\n",
    "\n",
    "len(feats)"
   ]
  },
  {
   "cell_type": "code",
   "execution_count": 4,
   "metadata": {
    "execution": {
     "iopub.execute_input": "2022-07-15T10:19:18.301625Z",
     "iopub.status.busy": "2022-07-15T10:19:18.300994Z",
     "iopub.status.idle": "2022-07-15T10:19:40.609214Z",
     "shell.execute_reply": "2022-07-15T10:19:40.608273Z",
     "shell.execute_reply.started": "2022-07-15T10:19:18.301594Z"
    }
   },
   "outputs": [
    {
     "name": "stdout",
     "output_type": "stream",
     "text": [
      "Wall time: 11.2 s\n"
     ]
    }
   ],
   "source": [
    "%%time\n",
    "# train_file = r'/kaggle/input/amex-agg-data-rev2/agg_train_all_rev2_rev.parquet'\n",
    "train_file = r'amex/agg_v3/agg_train_all_small.parquet'\n",
    "df = pd.read_parquet(train_file, columns=id_feats + [target_col] + feats, engine='pyarrow')\n"
   ]
  },
  {
   "cell_type": "markdown",
   "metadata": {},
   "source": [
    "## define autoencoder-mlp model"
   ]
  },
  {
   "cell_type": "code",
   "execution_count": 8,
   "metadata": {
    "execution": {
     "iopub.execute_input": "2022-07-15T10:19:49.950150Z",
     "iopub.status.busy": "2022-07-15T10:19:49.949787Z",
     "iopub.status.idle": "2022-07-15T10:19:49.969212Z",
     "shell.execute_reply": "2022-07-15T10:19:49.968073Z",
     "shell.execute_reply.started": "2022-07-15T10:19:49.950123Z"
    }
   },
   "outputs": [],
   "source": [
    "#https://pytorch-forecasting.readthedocs.io/en/latest/_modules/pytorch_forecasting/models/mlp/submodules.html#FullyConnectedModule\n",
    "#https://www.kaggle.com/c/jane-street-market-prediction/discussion/224348\n",
    "#https://www.kaggle.com/code/gogo827jz/jane-street-supervised-autoencoder-mlp/notebook?scriptVersionId=73762661\n",
    "\n",
    "import torch\n",
    "from torch import nn\n",
    "import numpy as np\n",
    "\n",
    "\n",
    "class AE_MLP(nn.Module):\n",
    "    def __init__(\n",
    "        self,\n",
    "        input_size: int,\n",
    "        output_size: int,\n",
    "        hidden_sizes: list,\n",
    "        dropouts: list,\n",
    "    ):\n",
    "        super().__init__()\n",
    "        self.input_size = input_size\n",
    "        self.output_size = output_size\n",
    "        self.hidden_sizes = hidden_sizes\n",
    "        self.dropouts = dropouts\n",
    "        \n",
    "        #----normalize input data--------------\n",
    "        self.bn0 = nn.BatchNorm1d(input_size)\n",
    "        \n",
    "        #---encoder layer----------------\n",
    "        self.encoder = nn.Sequential(nn.Linear(input_size, hidden_sizes[0]), \n",
    "                                     nn.BatchNorm1d(hidden_sizes[0]), \n",
    "                                     nn.SiLU()\n",
    "                                    )\n",
    "        #---decoder layer----------------\n",
    "        self.decoder = nn.Sequential(nn.Dropout(dropouts[0]), \n",
    "                                     nn.Linear(hidden_sizes[0], input_size) \n",
    "                                    )\n",
    "        #----AE output layer-------------\n",
    "        self.ae_out = nn.Sequential(nn.Linear(input_size, hidden_sizes[1]), \n",
    "                                    nn.BatchNorm1d(hidden_sizes[1]), \n",
    "                                    nn.SiLU(), \n",
    "                                    nn.Dropout(dropouts[1]), \n",
    "                                    nn.Linear(hidden_sizes[1], output_size),\n",
    "                                    nn.Sigmoid(), #for binary classification loss function BCELoss\n",
    "                                    )\n",
    "        #---MLP--------------------------\n",
    "                \n",
    "        # input layer\n",
    "        size2 = input_size+hidden_sizes[0]\n",
    "        module_list = [nn.BatchNorm1d(size2), \n",
    "                       nn.Dropout(dropouts[2]), \n",
    "                       nn.Linear(size2, hidden_sizes[2]), \n",
    "                       nn.BatchNorm1d(hidden_sizes[2]), \n",
    "                       nn.SiLU(), \n",
    "                       nn.Dropout(dropouts[2])]\n",
    "    \n",
    "        # hidden layers\n",
    "        for i in range(3, len(hidden_sizes)):\n",
    "            module_list.extend([nn.Linear(hidden_sizes[i-1], hidden_sizes[i]), \n",
    "                                nn.BatchNorm1d(hidden_sizes[i]), \n",
    "                                nn.SiLU(), \n",
    "                                nn.Dropout(dropouts[i])]\n",
    "                              )\n",
    "        # output layer\n",
    "        module_list.extend([nn.Linear(hidden_sizes[-1], output_size), \n",
    "                           nn.Sigmoid()])\n",
    "\n",
    "        self.mlp = nn.Sequential(*module_list)\n",
    "        \n",
    "    def forward(self, x):\n",
    "        x0 = self.bn0(x)\n",
    "        encoder = self.encoder(x0)\n",
    "        decoder = self.decoder(encoder)\n",
    "        out_ae = self.ae_out(decoder)\n",
    "        \n",
    "        #x0 shape is n*m - n samples, m features\n",
    "        #encoder is n*k - n samples, k features\n",
    "        #x1 is n*(k+m) - n samples, (k+m) features\n",
    "        #if x0 is n*w*m with w as the width for 3d array, the output will be n*w*(k+m)\n",
    "        x1 = torch.cat((x0, encoder), dim = -1) #\n",
    "        out = self.mlp(x1)\n",
    "\n",
    "        return decoder, out_ae, out"
   ]
  },
  {
   "cell_type": "code",
   "execution_count": 9,
   "metadata": {
    "execution": {
     "iopub.execute_input": "2022-07-15T10:19:51.807443Z",
     "iopub.status.busy": "2022-07-15T10:19:51.806637Z",
     "iopub.status.idle": "2022-07-15T10:19:51.818205Z",
     "shell.execute_reply": "2022-07-15T10:19:51.817097Z",
     "shell.execute_reply.started": "2022-07-15T10:19:51.807396Z"
    }
   },
   "outputs": [],
   "source": [
    "import torch\n",
    "from torch.utils.data import (Dataset, DataLoader)\n",
    "  \n",
    "\n",
    "class TS_Data(Dataset):\n",
    "    \n",
    "    def __init__(self, X, y): \n",
    "        \n",
    "        features = torch.FloatTensor(X)\n",
    "        targets = torch.FloatTensor(y)\n",
    "        \n",
    "        self.features = features\n",
    "        self.targets = targets\n",
    "        \n",
    "        self.n_samples = X.shape[0]\n",
    "        self.n_features = X.shape[1]\n",
    "        \n",
    "    def __len__(self):\n",
    "        return self.n_samples\n",
    "\n",
    "    def __getitem__(self, idx):\n",
    "        \n",
    "\n",
    "        x = self.features[idx]\n",
    "        y = self.targets[idx]\n",
    "        \n",
    "        return x, y\n",
    "    \n",
    "\n",
    "def load_data(X, y, batch_size, n_workers=0, shuffle=False):\n",
    "    data = TS_Data(X, y)\n",
    "    \n",
    "    loader = DataLoader(data, batch_size=batch_size, num_workers=n_workers, shuffle=shuffle)\n",
    "    \n",
    "    return loader"
   ]
  },
  {
   "cell_type": "markdown",
   "metadata": {},
   "source": [
    "## hyperopt parameters"
   ]
  },
  {
   "cell_type": "code",
   "execution_count": 10,
   "metadata": {
    "execution": {
     "iopub.execute_input": "2022-07-15T10:19:55.519461Z",
     "iopub.status.busy": "2022-07-15T10:19:55.518468Z",
     "iopub.status.idle": "2022-07-15T10:19:55.532052Z",
     "shell.execute_reply": "2022-07-15T10:19:55.530612Z",
     "shell.execute_reply.started": "2022-07-15T10:19:55.519413Z"
    }
   },
   "outputs": [
    {
     "data": {
      "text/plain": [
       "(22, 10, 500)"
      ]
     },
     "execution_count": 10,
     "metadata": {},
     "output_type": "execute_result"
    }
   ],
   "source": [
    "learn_rates = np.concatenate((#np.arange(0.00001, 0.0001, 0.00001),  \n",
    "                           np.arange(0.0001, 0.001, 0.0001), \n",
    "                           np.arange(0.001, 0.01, 0.001), \n",
    "                           np.arange(0.01, 0.05, 0.01)\n",
    "                          ), \n",
    "                          axis=0)\n",
    "\n",
    "learn_rates = np.round(learn_rates, 4)\n",
    "\n",
    "hidden_sizes=[32, 48, 64, 96, 128, 256, 448, 512, 896, 1024] \n",
    "encoder_outputsize = range(5, 101)\n",
    "dropouts = np.round(np.arange(0.001, 0.501, 0.001), 4)\n",
    "\n",
    "len(learn_rates), len(hidden_sizes), len(dropouts)"
   ]
  },
  {
   "cell_type": "code",
   "execution_count": 11,
   "metadata": {
    "execution": {
     "iopub.execute_input": "2022-07-15T10:23:11.024738Z",
     "iopub.status.busy": "2022-07-15T10:23:11.024282Z",
     "iopub.status.idle": "2022-07-15T10:23:11.511141Z",
     "shell.execute_reply": "2022-07-15T10:23:11.510044Z",
     "shell.execute_reply.started": "2022-07-15T10:23:11.024691Z"
    }
   },
   "outputs": [],
   "source": [
    "from hyperopt import hp\n",
    "import numpy as np\n",
    "space  = { \n",
    "             'batch_size': hp.choice('batch_size', [128*i for i in [1, 2, 4, 8, 16, 20, 32, 40, 80, 100]]),\n",
    "             'num_epochs':hp.choice('num_epochs', range(5, 51, 5)),\n",
    "             'learning_rate':hp.choice('learning_rate', learn_rates),\n",
    "             'n_layers':hp.choice('n_layers', [1, 2, 3, 4, 5]), #1 means 1 hidden layer\n",
    "             'hidden_size1':hp.choice('hidden_size1', encoder_outputsize),\n",
    "             'hidden_size2':hp.choice('hidden_size2', hidden_sizes),\n",
    "             'hidden_size3':hp.choice('hidden_size3', hidden_sizes),\n",
    "             'hidden_size4':hp.choice('hidden_size4', hidden_sizes), #1st hidden layer\n",
    "             'hidden_size5':hp.choice('hidden_size5', hidden_sizes),\n",
    "             'hidden_size6':hp.choice('hidden_size6', hidden_sizes),\n",
    "             'hidden_size7':hp.choice('hidden_size7', hidden_sizes),\n",
    "             'hidden_size8':hp.choice('hidden_size8', hidden_sizes),\n",
    "             'dropout1':  hp.choice('dropout1', dropouts), \n",
    "             'dropout2':  hp.choice('dropout2', dropouts), \n",
    "             'dropout3':  hp.choice('dropout3', dropouts), \n",
    "             'dropout4':  hp.choice('dropout4', dropouts), \n",
    "             'dropout5':  hp.choice('dropout5', dropouts), \n",
    "             'dropout6':  hp.choice('dropout6', dropouts), \n",
    "             'dropout7':  hp.choice('dropout7', dropouts), \n",
    "             'dropout8':  hp.choice('dropout8', dropouts), \n",
    "    \n",
    "            }           "
   ]
  },
  {
   "cell_type": "markdown",
   "metadata": {},
   "source": [
    "### Train"
   ]
  },
  {
   "cell_type": "code",
   "execution_count": 12,
   "metadata": {
    "execution": {
     "iopub.execute_input": "2022-07-15T10:23:56.864482Z",
     "iopub.status.busy": "2022-07-15T10:23:56.864071Z",
     "iopub.status.idle": "2022-07-15T10:23:56.874899Z",
     "shell.execute_reply": "2022-07-15T10:23:56.873955Z",
     "shell.execute_reply.started": "2022-07-15T10:23:56.864451Z"
    }
   },
   "outputs": [],
   "source": [
    "# @yunchonggan's fast metric implementation\n",
    "# From https://www.kaggle.com/competitions/amex-default-prediction/discussion/328020\n",
    "# https://www.kaggle.com/code/ambrosm/amex-lightgbm-quickstart\n",
    "def amex_metric(y_true: np.array, y_pred: np.array) -> float:\n",
    "\n",
    "    # count of positives and negatives\n",
    "    n_pos = y_true.sum()\n",
    "    n_neg = y_true.shape[0] - n_pos\n",
    "\n",
    "    # sorting by descring prediction values\n",
    "    indices = np.argsort(y_pred)[::-1]\n",
    "    preds, target = y_pred[indices], y_true[indices]\n",
    "\n",
    "    # filter the top 4% by cumulative row weights\n",
    "    weight = 20.0 - target * 19.0\n",
    "    cum_norm_weight = (weight / weight.sum()).cumsum()\n",
    "    four_pct_filter = cum_norm_weight <= 0.04\n",
    "\n",
    "    # default rate captured at 4%\n",
    "    d = target[four_pct_filter].sum() / n_pos\n",
    "\n",
    "    # weighted gini coefficient\n",
    "    lorentz = (target / n_pos).cumsum()\n",
    "    gini = ((lorentz - cum_norm_weight) * weight).sum()\n",
    "\n",
    "    # max weighted gini coefficient\n",
    "    gini_max = 10 * n_neg * (1 - 19 / (n_pos + 20 * n_neg))\n",
    "\n",
    "    # normalized weighted gini coefficient\n",
    "    g = gini / gini_max\n",
    "\n",
    "    return 0.5 * (g + d)\n"
   ]
  },
  {
   "cell_type": "code",
   "execution_count": 13,
   "metadata": {
    "execution": {
     "iopub.execute_input": "2022-07-15T10:24:27.927576Z",
     "iopub.status.busy": "2022-07-15T10:24:27.927149Z",
     "iopub.status.idle": "2022-07-15T10:24:29.632500Z",
     "shell.execute_reply": "2022-07-15T10:24:29.631225Z",
     "shell.execute_reply.started": "2022-07-15T10:24:27.927544Z"
    }
   },
   "outputs": [],
   "source": [
    "X = df[feats]\n",
    "y = df[['target']]"
   ]
  },
  {
   "cell_type": "code",
   "execution_count": 14,
   "metadata": {
    "execution": {
     "iopub.execute_input": "2022-07-15T10:24:35.065974Z",
     "iopub.status.busy": "2022-07-15T10:24:35.065151Z",
     "iopub.status.idle": "2022-07-15T10:24:35.538913Z",
     "shell.execute_reply": "2022-07-15T10:24:35.537782Z",
     "shell.execute_reply.started": "2022-07-15T10:24:35.065934Z"
    }
   },
   "outputs": [
    {
     "data": {
      "text/plain": [
       "63"
      ]
     },
     "execution_count": 14,
     "metadata": {},
     "output_type": "execute_result"
    }
   ],
   "source": [
    "del df\n",
    "gc.collect()"
   ]
  },
  {
   "cell_type": "code",
   "execution_count": 15,
   "metadata": {
    "execution": {
     "iopub.execute_input": "2022-07-15T10:24:37.083558Z",
     "iopub.status.busy": "2022-07-15T10:24:37.082563Z",
     "iopub.status.idle": "2022-07-15T10:24:37.090572Z",
     "shell.execute_reply": "2022-07-15T10:24:37.089383Z",
     "shell.execute_reply.started": "2022-07-15T10:24:37.083510Z"
    }
   },
   "outputs": [],
   "source": [
    "skf = KFold(n_splits=5)"
   ]
  },
  {
   "cell_type": "code",
   "execution_count": 16,
   "metadata": {
    "execution": {
     "iopub.execute_input": "2022-07-15T10:24:49.295927Z",
     "iopub.status.busy": "2022-07-15T10:24:49.295496Z",
     "iopub.status.idle": "2022-07-15T10:24:49.343312Z",
     "shell.execute_reply": "2022-07-15T10:24:49.342289Z",
     "shell.execute_reply.started": "2022-07-15T10:24:49.295889Z"
    }
   },
   "outputs": [
    {
     "name": "stdout",
     "output_type": "stream",
     "text": [
      "KFold(n_splits=5, random_state=None, shuffle=False)\n",
      "0    0.739636\n",
      "1    0.260364\n",
      "Name: target, dtype: float64\n",
      "0    0.741424\n",
      "1    0.258576\n",
      "Name: target, dtype: float64\n",
      "0    0.741107\n",
      "1    0.258893\n",
      "Name: target, dtype: float64\n",
      "0    0.741056\n",
      "1    0.258944\n",
      "Name: target, dtype: float64\n",
      "0    0.738862\n",
      "1    0.261138\n",
      "Name: target, dtype: float64\n",
      "0    0.741617\n",
      "1    0.258383\n",
      "Name: target, dtype: float64\n",
      "0    0.743065\n",
      "1    0.256935\n",
      "Name: target, dtype: float64\n",
      "0    0.740567\n",
      "1    0.259433\n",
      "Name: target, dtype: float64\n",
      "0    0.742662\n",
      "1    0.257338\n",
      "Name: target, dtype: float64\n",
      "0    0.740668\n",
      "1    0.259332\n",
      "Name: target, dtype: float64\n"
     ]
    }
   ],
   "source": [
    "print(skf)\n",
    "\n",
    "for train_index, test_index in skf.split(X, y):\n",
    "#     print(\"TRAIN:\", train_index, \"TEST:\", test_index)\n",
    "#     print(\"TRAIN:\", len(train_index), \"TEST:\", len(test_index), len(test_index)/(len(test_index)+len(train_index)))\n",
    "    print(y.iloc[test_index]['target'].value_counts()/len(test_index)) \n",
    "    print(y.iloc[train_index]['target'].value_counts()/len(train_index))"
   ]
  },
  {
   "cell_type": "code",
   "execution_count": 17,
   "metadata": {
    "execution": {
     "iopub.execute_input": "2022-07-15T10:24:50.767107Z",
     "iopub.status.busy": "2022-07-15T10:24:50.766662Z",
     "iopub.status.idle": "2022-07-15T10:24:50.774622Z",
     "shell.execute_reply": "2022-07-15T10:24:50.773524Z",
     "shell.execute_reply.started": "2022-07-15T10:24:50.767073Z"
    }
   },
   "outputs": [
    {
     "data": {
      "text/plain": [
       "device(type='cuda')"
      ]
     },
     "execution_count": 17,
     "metadata": {},
     "output_type": "execute_result"
    }
   ],
   "source": [
    "device = torch.device(\"cuda\" if torch.cuda.is_available() else \"cpu\")\n",
    "device"
   ]
  },
  {
   "cell_type": "code",
   "execution_count": 18,
   "metadata": {
    "execution": {
     "iopub.execute_input": "2022-07-15T10:24:52.522988Z",
     "iopub.status.busy": "2022-07-15T10:24:52.522605Z",
     "iopub.status.idle": "2022-07-15T10:24:52.528340Z",
     "shell.execute_reply": "2022-07-15T10:24:52.527243Z",
     "shell.execute_reply.started": "2022-07-15T10:24:52.522959Z"
    }
   },
   "outputs": [],
   "source": [
    "import numpy as np\n",
    "import torch\n",
    "from tqdm import tqdm\n",
    "import torch.optim as optim\n",
    "from torch.nn import CrossEntropyLoss, MSELoss, BCELoss"
   ]
  },
  {
   "cell_type": "code",
   "execution_count": 20,
   "metadata": {},
   "outputs": [],
   "source": [
    "log_file = 'amex/agg_v3/amex-hyperopt-aemlp-5fold-551feats.csv'"
   ]
  },
  {
   "cell_type": "code",
   "execution_count": 21,
   "metadata": {
    "execution": {
     "iopub.execute_input": "2022-07-15T10:28:50.498307Z",
     "iopub.status.busy": "2022-07-15T10:28:50.497249Z",
     "iopub.status.idle": "2022-07-15T10:28:50.521623Z",
     "shell.execute_reply": "2022-07-15T10:28:50.520633Z",
     "shell.execute_reply.started": "2022-07-15T10:28:50.498262Z"
    }
   },
   "outputs": [],
   "source": [
    "loss_dict = []\n",
    "\n",
    "def score(params):\n",
    "    pl.seed_everything(1)\n",
    "    print(params)\n",
    "    \n",
    "    learning_rate = params['learning_rate']\n",
    "    num_epochs = params['num_epochs']\n",
    "    batch_size = params['batch_size']\n",
    "    n_layers = params['n_layers']\n",
    "    h_sizes = [params[f'hidden_size{i}'] for i in range(1,9)][:(n_layers + 3)]\n",
    "    drop_list = [params[f'dropout{i}'] for i in range(1,9)][:(n_layers + 3)]\n",
    "\n",
    "\n",
    "    losses = []\n",
    "    \n",
    "    for train_index, test_index in skf.split(X, y):\n",
    "        \n",
    "        #----start: data prep-------------------------------------\n",
    "        X_train, X_test = X.iloc[train_index], X.iloc[test_index]\n",
    "        y_train, y_test = y.iloc[train_index], y.iloc[test_index]\n",
    "\n",
    "        #----end: data prep-------------------------------------\n",
    "        \n",
    "#         print(X_train.shape, X_test.shape)\n",
    "        \n",
    "        \n",
    "        scaler_ = StandardScaler()\n",
    "        scaler_.fit(X_train)\n",
    "        # minmax_scaler.fit_transform(X_train[x_cols])\n",
    "\n",
    "        train_loader = load_data(scaler_.transform(X_train), y_train['target'].values, \n",
    "                                 batch_size=batch_size, n_workers=0, shuffle=False)\n",
    "\n",
    "        test_loader = load_data(scaler_.transform(X_test), y_test['target'].values, \n",
    "                                 batch_size=batch_size, n_workers=0, shuffle=False)\n",
    "        #----end: data prep-------------------------------------\n",
    "\n",
    "\n",
    "        model = AE_MLP(input_size=len(feats), output_size=1, \n",
    "                       hidden_sizes=h_sizes, \n",
    "                       dropouts = drop_list)\n",
    "\n",
    "        model = model.to(device)\n",
    "\n",
    "        # optimizer = torch.optim.RMSprop(model.parameters(), lr=learning_rate)  \n",
    "        optimizer = torch.optim.RMSprop([\n",
    "                {'params': model.encoder.parameters()},\n",
    "                {'params': model.decoder.parameters()},\n",
    "                {'params': model.ae_out.parameters()},\n",
    "                {'params': model.mlp.parameters()},\n",
    "            ], lr=learning_rate)\n",
    "\n",
    "        scheduler = torch.optim.lr_scheduler.OneCycleLR(optimizer=optimizer, pct_start=0.1, div_factor=1e3, \n",
    "                                                  max_lr=1e-2, epochs=num_epochs, steps_per_epoch=len(train_loader))\n",
    "        \n",
    "        decoder_loss = MSELoss()\n",
    "        out_ae_loss = BCELoss()\n",
    "        out_loss = BCELoss()\n",
    "\n",
    "\n",
    "        #------train models--------------------------\n",
    "        for epoch in range(num_epochs):\n",
    "            model.train()\n",
    "            for batch_idx, (features, targets) in enumerate(train_loader):\n",
    "                optimizer.zero_grad()\n",
    "                features = features.to(device)\n",
    "                targets = targets.to(device)\n",
    "\n",
    "                ### FORWARD AND BACK PROP\n",
    "                decoder, out_ae, out = model(features)\n",
    "                decoder_cost = decoder_loss(decoder, features)\n",
    "                out_ae_cost = out_ae_loss(out_ae.squeeze(), targets)  \n",
    "                out_cost = out_loss(out.squeeze(), targets) #squeeze the n_samples*1 2d array to 1d array of n_samples\n",
    "                total_cost = (decoder_cost + out_ae_cost + out_cost)/3               \n",
    "\n",
    "                total_cost.backward()\n",
    "                ### UPDATE MODEL PARAMETERS\n",
    "                optimizer.step()\n",
    "                scheduler.step()\n",
    "\n",
    "        #-----eval models-------------------------------\n",
    "        model.eval()\n",
    "\n",
    "        y_preds = []\n",
    "        y_trues = []\n",
    "        with torch.no_grad():\n",
    "            for features, targets in test_loader:\n",
    "                features = features.to(device)\n",
    "                targets = targets.to(device)\n",
    "                _, _, outputs = model(features)\n",
    "                y_preds.extend(outputs.squeeze().cpu().numpy())\n",
    "                y_trues.extend(targets.squeeze().cpu().numpy())\n",
    "\n",
    "        #-----start: train mlp---------------------------------------\n",
    "        \n",
    "        #-----end: train mlp---------------------------------------\n",
    "#         loss = roc_auc_score(y_trues, y_preds)\n",
    "#         loss = amex_metric(y_test, \n",
    "#                            pd.DataFrame(data={'prediction': y_preds}))\n",
    "        y_preds = np.array(y_preds)\n",
    "    \n",
    "        loss = amex_metric(y_test['target'].values, y_preds)\n",
    "        losses.append(loss)\n",
    "        \n",
    "        \n",
    "    loss = np.mean(losses)\n",
    "    print(loss)\n",
    "    loss_dict.append({'params': params, 'losses': losses, 'mean_loss': loss})\n",
    "    if len(loss_dict)%3==0:\n",
    "        pd.DataFrame(data=loss_dict).to_csv(log_file, index=False)\n",
    "    return {'loss': -loss, 'status': STATUS_OK}"
   ]
  },
  {
   "cell_type": "code",
   "execution_count": 22,
   "metadata": {
    "execution": {
     "iopub.execute_input": "2022-07-15T10:28:53.527497Z",
     "iopub.status.busy": "2022-07-15T10:28:53.527063Z",
     "iopub.status.idle": "2022-07-15T10:28:53.535142Z",
     "shell.execute_reply": "2022-07-15T10:28:53.534122Z",
     "shell.execute_reply.started": "2022-07-15T10:28:53.527461Z"
    }
   },
   "outputs": [],
   "source": [
    "from hyperopt import hp\n",
    "from hyperopt import fmin, tpe, hp, STATUS_OK, Trials, anneal, rand\n",
    "from functools import partial\n",
    "def optimize(space, evals, cores, trials, optimizer=tpe.suggest, random_state=1234, n_startup_jobs=10):\n",
    "    algo = partial(optimizer, n_startup_jobs=n_startup_jobs)\n",
    "    best = fmin(score, space, algo=algo, max_evals=evals, trials = trials)\n",
    "    print(best)\n",
    "    return best"
   ]
  },
  {
   "cell_type": "code",
   "execution_count": 23,
   "metadata": {
    "execution": {
     "iopub.execute_input": "2022-07-15T10:28:53.772468Z",
     "iopub.status.busy": "2022-07-15T10:28:53.772063Z",
     "iopub.status.idle": "2022-07-15T10:28:53.777934Z",
     "shell.execute_reply": "2022-07-15T10:28:53.776795Z",
     "shell.execute_reply.started": "2022-07-15T10:28:53.772436Z"
    }
   },
   "outputs": [],
   "source": [
    "cores = 4\n",
    "n=500\n",
    "verbose = False\n",
    "trials = Trials()"
   ]
  },
  {
   "cell_type": "code",
   "execution_count": 24,
   "metadata": {
    "execution": {
     "iopub.execute_input": "2022-07-15T10:28:54.155932Z",
     "iopub.status.busy": "2022-07-15T10:28:54.155241Z"
    }
   },
   "outputs": [
    {
     "name": "stdout",
     "output_type": "stream",
     "text": [
      "\r",
      "  0%|                                                                            | 0/500 [00:00<?, ?it/s, best loss: ?]"
     ]
    },
    {
     "name": "stderr",
     "output_type": "stream",
     "text": [
      "Global seed set to 1\n"
     ]
    },
    {
     "name": "stdout",
     "output_type": "stream",
     "text": [
      "{'batch_size': 1024, 'dropout1': 0.072, 'dropout2': 0.226, 'dropout3': 0.498, 'dropout4': 0.202, 'dropout5': 0.052, 'dropout6': 0.175, 'dropout7': 0.214, 'dropout8': 0.239, 'hidden_size1': 29, 'hidden_size2': 128, 'hidden_size3': 48, 'hidden_size4': 48, 'hidden_size5': 64, 'hidden_size6': 48, 'hidden_size7': 1024, 'hidden_size8': 256, 'learning_rate': 0.006, 'n_layers': 4, 'num_epochs': 50}\n",
      "0.7860573476673458                                                                                                     \n",
      "  0%|                                             | 1/500 [16:36<138:08:39, 996.63s/it, best loss: -0.7860573476673458]"
     ]
    },
    {
     "name": "stderr",
     "output_type": "stream",
     "text": [
      "Global seed set to 1\n"
     ]
    },
    {
     "name": "stdout",
     "output_type": "stream",
     "text": [
      "{'batch_size': 5120, 'dropout1': 0.268, 'dropout2': 0.005, 'dropout3': 0.458, 'dropout4': 0.11, 'dropout5': 0.417, 'dropout6': 0.272, 'dropout7': 0.255, 'dropout8': 0.19, 'hidden_size1': 98, 'hidden_size2': 64, 'hidden_size3': 896, 'hidden_size4': 96, 'hidden_size5': 1024, 'hidden_size6': 96, 'hidden_size7': 512, 'hidden_size8': 96, 'learning_rate': 0.01, 'n_layers': 5, 'num_epochs': 10}\n",
      "0.7875642194728351                                                                                                     \n",
      "  0%|▏                                             | 2/500 [19:34<71:15:05, 515.07s/it, best loss: -0.7875642194728351]"
     ]
    },
    {
     "name": "stderr",
     "output_type": "stream",
     "text": [
      "Global seed set to 1\n"
     ]
    },
    {
     "name": "stdout",
     "output_type": "stream",
     "text": [
      "{'batch_size': 2560, 'dropout1': 0.291, 'dropout2': 0.428, 'dropout3': 0.301, 'dropout4': 0.45, 'dropout5': 0.099, 'dropout6': 0.017, 'dropout7': 0.431, 'dropout8': 0.429, 'hidden_size1': 38, 'hidden_size2': 256, 'hidden_size3': 512, 'hidden_size4': 448, 'hidden_size5': 32, 'hidden_size6': 96, 'hidden_size7': 48, 'hidden_size8': 256, 'learning_rate': 0.003, 'n_layers': 2, 'num_epochs': 25}\n",
      "0.7879431620135813                                                                                                     \n",
      "  1%|▎                                             | 3/500 [26:14<63:51:09, 462.51s/it, best loss: -0.7879431620135813]"
     ]
    },
    {
     "name": "stderr",
     "output_type": "stream",
     "text": [
      "Global seed set to 1\n"
     ]
    },
    {
     "name": "stdout",
     "output_type": "stream",
     "text": [
      "{'batch_size': 2048, 'dropout1': 0.301, 'dropout2': 0.211, 'dropout3': 0.285, 'dropout4': 0.417, 'dropout5': 0.116, 'dropout6': 0.231, 'dropout7': 0.304, 'dropout8': 0.201, 'hidden_size1': 31, 'hidden_size2': 96, 'hidden_size3': 128, 'hidden_size4': 48, 'hidden_size5': 32, 'hidden_size6': 128, 'hidden_size7': 896, 'hidden_size8': 48, 'learning_rate': 0.008, 'n_layers': 4, 'num_epochs': 25}\n",
      "0.7891808770471029                                                                                                     \n",
      "  1%|▎                                             | 4/500 [33:26<62:02:13, 450.27s/it, best loss: -0.7891808770471029]"
     ]
    },
    {
     "name": "stderr",
     "output_type": "stream",
     "text": [
      "Global seed set to 1\n"
     ]
    },
    {
     "name": "stdout",
     "output_type": "stream",
     "text": [
      "{'batch_size': 5120, 'dropout1': 0.489, 'dropout2': 0.419, 'dropout3': 0.03, 'dropout4': 0.321, 'dropout5': 0.467, 'dropout6': 0.491, 'dropout7': 0.142, 'dropout8': 0.047, 'hidden_size1': 47, 'hidden_size2': 32, 'hidden_size3': 256, 'hidden_size4': 48, 'hidden_size5': 48, 'hidden_size6': 512, 'hidden_size7': 96, 'hidden_size8': 128, 'learning_rate': 0.0001, 'n_layers': 3, 'num_epochs': 10}\n",
      "0.7890689604928665                                                                                                     \n",
      "  1%|▍                                             | 5/500 [36:23<48:22:16, 351.79s/it, best loss: -0.7891808770471029]"
     ]
    },
    {
     "name": "stderr",
     "output_type": "stream",
     "text": [
      "Global seed set to 1\n"
     ]
    },
    {
     "name": "stdout",
     "output_type": "stream",
     "text": [
      "{'batch_size': 512, 'dropout1': 0.355, 'dropout2': 0.413, 'dropout3': 0.204, 'dropout4': 0.455, 'dropout5': 0.187, 'dropout6': 0.31, 'dropout7': 0.24, 'dropout8': 0.198, 'hidden_size1': 46, 'hidden_size2': 896, 'hidden_size3': 48, 'hidden_size4': 96, 'hidden_size5': 48, 'hidden_size6': 64, 'hidden_size7': 512, 'hidden_size8': 448, 'learning_rate': 0.007, 'n_layers': 3, 'num_epochs': 35}\n",
      "0.7868430998115693                                                                                                     \n",
      "  1%|▌                                             | 6/500 [52:06<75:51:17, 552.79s/it, best loss: -0.7891808770471029]"
     ]
    },
    {
     "name": "stderr",
     "output_type": "stream",
     "text": [
      "Global seed set to 1\n"
     ]
    },
    {
     "name": "stdout",
     "output_type": "stream",
     "text": [
      "{'batch_size': 4096, 'dropout1': 0.279, 'dropout2': 0.328, 'dropout3': 0.081, 'dropout4': 0.183, 'dropout5': 0.06, 'dropout6': 0.351, 'dropout7': 0.335, 'dropout8': 0.466, 'hidden_size1': 21, 'hidden_size2': 512, 'hidden_size3': 1024, 'hidden_size4': 32, 'hidden_size5': 448, 'hidden_size6': 128, 'hidden_size7': 32, 'hidden_size8': 1024, 'learning_rate': 0.0009, 'n_layers': 4, 'num_epochs': 5}\n",
      "0.7879598450263565                                                                                                     \n",
      "  1%|▋                                             | 7/500 [53:49<55:35:49, 405.98s/it, best loss: -0.7891808770471029]"
     ]
    },
    {
     "name": "stderr",
     "output_type": "stream",
     "text": [
      "Global seed set to 1\n"
     ]
    },
    {
     "name": "stdout",
     "output_type": "stream",
     "text": [
      "{'batch_size': 128, 'dropout1': 0.087, 'dropout2': 0.117, 'dropout3': 0.251, 'dropout4': 0.169, 'dropout5': 0.48, 'dropout6': 0.159, 'dropout7': 0.1, 'dropout8': 0.164, 'hidden_size1': 46, 'hidden_size2': 512, 'hidden_size3': 448, 'hidden_size4': 32, 'hidden_size5': 128, 'hidden_size6': 256, 'hidden_size7': 32, 'hidden_size8': 1024, 'learning_rate': 0.007, 'n_layers': 2, 'num_epochs': 35}\n",
      "0.7767940087278162                                                                                                     \n",
      "  2%|▋                                         | 8/500 [1:32:59<140:02:40, 1024.72s/it, best loss: -0.7891808770471029]"
     ]
    },
    {
     "name": "stderr",
     "output_type": "stream",
     "text": [
      "Global seed set to 1\n"
     ]
    },
    {
     "name": "stdout",
     "output_type": "stream",
     "text": [
      "{'batch_size': 4096, 'dropout1': 0.271, 'dropout2': 0.404, 'dropout3': 0.003, 'dropout4': 0.236, 'dropout5': 0.011, 'dropout6': 0.488, 'dropout7': 0.243, 'dropout8': 0.052, 'hidden_size1': 72, 'hidden_size2': 448, 'hidden_size3': 48, 'hidden_size4': 896, 'hidden_size5': 1024, 'hidden_size6': 128, 'hidden_size7': 896, 'hidden_size8': 448, 'learning_rate': 0.0002, 'n_layers': 5, 'num_epochs': 25}\n",
      "0.7792968931739628                                                                                                     \n",
      "  2%|▊                                          | 9/500 [1:39:50<113:34:32, 832.74s/it, best loss: -0.7891808770471029]"
     ]
    },
    {
     "name": "stderr",
     "output_type": "stream",
     "text": [
      "Global seed set to 1\n"
     ]
    },
    {
     "name": "stdout",
     "output_type": "stream",
     "text": [
      "{'batch_size': 128, 'dropout1': 0.352, 'dropout2': 0.031, 'dropout3': 0.313, 'dropout4': 0.152, 'dropout5': 0.326, 'dropout6': 0.256, 'dropout7': 0.278, 'dropout8': 0.12, 'hidden_size1': 83, 'hidden_size2': 128, 'hidden_size3': 896, 'hidden_size4': 256, 'hidden_size5': 448, 'hidden_size6': 48, 'hidden_size7': 64, 'hidden_size8': 1024, 'learning_rate': 0.02, 'n_layers': 1, 'num_epochs': 25}\n",
      "0.7845593397390915                                                                                                     \n",
      "  2%|▊                                        | 10/500 [2:04:59<141:46:27, 1041.61s/it, best loss: -0.7891808770471029]"
     ]
    },
    {
     "name": "stderr",
     "output_type": "stream",
     "text": [
      "Global seed set to 1\n"
     ]
    },
    {
     "name": "stdout",
     "output_type": "stream",
     "text": [
      "{'batch_size': 2048, 'dropout1': 0.081, 'dropout2': 0.232, 'dropout3': 0.066, 'dropout4': 0.379, 'dropout5': 0.214, 'dropout6': 0.025, 'dropout7': 0.15, 'dropout8': 0.483, 'hidden_size1': 31, 'hidden_size2': 96, 'hidden_size3': 128, 'hidden_size4': 512, 'hidden_size5': 256, 'hidden_size6': 896, 'hidden_size7': 896, 'hidden_size8': 48, 'learning_rate': 0.008, 'n_layers': 4, 'num_epochs': 15}\n",
      "0.7856682619483994                                                                                                     \n",
      "  2%|▉                                         | 11/500 [2:09:22<109:06:26, 803.25s/it, best loss: -0.7891808770471029]"
     ]
    },
    {
     "name": "stderr",
     "output_type": "stream",
     "text": [
      "Global seed set to 1\n"
     ]
    },
    {
     "name": "stdout",
     "output_type": "stream",
     "text": [
      "{'batch_size': 2048, 'dropout1': 0.383, 'dropout2': 0.481, 'dropout3': 0.426, 'dropout4': 0.129, 'dropout5': 0.452, 'dropout6': 0.11, 'dropout7': 0.186, 'dropout8': 0.427, 'hidden_size1': 31, 'hidden_size2': 96, 'hidden_size3': 96, 'hidden_size4': 64, 'hidden_size5': 512, 'hidden_size6': 32, 'hidden_size7': 448, 'hidden_size8': 32, 'learning_rate': 0.002, 'n_layers': 1, 'num_epochs': 40}\n",
      "0.788719714726996                                                                                                      \n",
      "  2%|█                                         | 12/500 [2:19:23<100:33:43, 741.85s/it, best loss: -0.7891808770471029]"
     ]
    },
    {
     "name": "stderr",
     "output_type": "stream",
     "text": [
      "Global seed set to 1\n"
     ]
    },
    {
     "name": "stdout",
     "output_type": "stream",
     "text": [
      "{'batch_size': 12800, 'dropout1': 0.097, 'dropout2': 0.371, 'dropout3': 0.393, 'dropout4': 0.086, 'dropout5': 0.313, 'dropout6': 0.32, 'dropout7': 0.347, 'dropout8': 0.208, 'hidden_size1': 9, 'hidden_size2': 48, 'hidden_size3': 32, 'hidden_size4': 128, 'hidden_size5': 32, 'hidden_size6': 1024, 'hidden_size7': 256, 'hidden_size8': 64, 'learning_rate': 0.0006, 'n_layers': 4, 'num_epochs': 45}\n",
      "0.7857724063612761                                                                                                     \n",
      "  3%|█                                          | 13/500 [2:31:10<98:55:10, 731.23s/it, best loss: -0.7891808770471029]"
     ]
    },
    {
     "name": "stderr",
     "output_type": "stream",
     "text": [
      "Global seed set to 1\n"
     ]
    },
    {
     "name": "stdout",
     "output_type": "stream",
     "text": [
      "{'batch_size': 10240, 'dropout1': 0.44, 'dropout2': 0.461, 'dropout3': 0.364, 'dropout4': 0.319, 'dropout5': 0.073, 'dropout6': 0.209, 'dropout7': 0.179, 'dropout8': 0.264, 'hidden_size1': 82, 'hidden_size2': 96, 'hidden_size3': 128, 'hidden_size4': 1024, 'hidden_size5': 896, 'hidden_size6': 128, 'hidden_size7': 896, 'hidden_size8': 48, 'learning_rate': 0.0003, 'n_layers': 4, 'num_epochs': 20}\n",
      "0.7866988924869405                                                                                                     \n",
      "  3%|█▏                                         | 14/500 [2:36:35<82:08:21, 608.44s/it, best loss: -0.7891808770471029]"
     ]
    },
    {
     "name": "stderr",
     "output_type": "stream",
     "text": [
      "Global seed set to 1\n"
     ]
    },
    {
     "name": "stdout",
     "output_type": "stream",
     "text": [
      "{'batch_size': 256, 'dropout1': 0.003, 'dropout2': 0.345, 'dropout3': 0.181, 'dropout4': 0.21, 'dropout5': 0.158, 'dropout6': 0.213, 'dropout7': 0.395, 'dropout8': 0.08, 'hidden_size1': 58, 'hidden_size2': 1024, 'hidden_size3': 64, 'hidden_size4': 48, 'hidden_size5': 96, 'hidden_size6': 448, 'hidden_size7': 128, 'hidden_size8': 512, 'learning_rate': 0.008, 'n_layers': 5, 'num_epochs': 30}\n",
      "0.7854891001085131                                                                                                     \n",
      "  3%|█▎                                        | 15/500 [3:00:51<116:23:39, 863.96s/it, best loss: -0.7891808770471029]"
     ]
    },
    {
     "name": "stderr",
     "output_type": "stream",
     "text": [
      "Global seed set to 1\n"
     ]
    },
    {
     "name": "stdout",
     "output_type": "stream",
     "text": [
      "{'batch_size': 2048, 'dropout1': 0.173, 'dropout2': 0.43, 'dropout3': 0.122, 'dropout4': 0.387, 'dropout5': 0.101, 'dropout6': 0.073, 'dropout7': 0.103, 'dropout8': 0.388, 'hidden_size1': 77, 'hidden_size2': 896, 'hidden_size3': 128, 'hidden_size4': 448, 'hidden_size5': 32, 'hidden_size6': 1024, 'hidden_size7': 256, 'hidden_size8': 896, 'learning_rate': 0.03, 'n_layers': 2, 'num_epochs': 40}\n",
      "0.7801871509197091                                                                                                     \n",
      "  3%|█▎                                        | 16/500 [3:11:12<106:20:54, 791.02s/it, best loss: -0.7891808770471029]"
     ]
    },
    {
     "name": "stderr",
     "output_type": "stream",
     "text": [
      "Global seed set to 1\n"
     ]
    },
    {
     "name": "stdout",
     "output_type": "stream",
     "text": [
      "{'batch_size': 1024, 'dropout1': 0.446, 'dropout2': 0.287, 'dropout3': 0.176, 'dropout4': 0.411, 'dropout5': 0.478, 'dropout6': 0.44, 'dropout7': 0.424, 'dropout8': 0.444, 'hidden_size1': 78, 'hidden_size2': 448, 'hidden_size3': 64, 'hidden_size4': 64, 'hidden_size5': 32, 'hidden_size6': 64, 'hidden_size7': 896, 'hidden_size8': 48, 'learning_rate': 0.0007, 'n_layers': 4, 'num_epochs': 5}\n",
      "0.7866630379976732                                                                                                     \n",
      "  3%|█▍                                         | 17/500 [3:13:14<79:06:36, 589.64s/it, best loss: -0.7891808770471029]"
     ]
    },
    {
     "name": "stderr",
     "output_type": "stream",
     "text": [
      "Global seed set to 1\n"
     ]
    },
    {
     "name": "stdout",
     "output_type": "stream",
     "text": [
      "{'batch_size': 5120, 'dropout1': 0.489, 'dropout2': 0.017, 'dropout3': 0.238, 'dropout4': 0.321, 'dropout5': 0.298, 'dropout6': 0.043, 'dropout7': 0.33, 'dropout8': 0.421, 'hidden_size1': 85, 'hidden_size2': 32, 'hidden_size3': 256, 'hidden_size4': 48, 'hidden_size5': 48, 'hidden_size6': 512, 'hidden_size7': 96, 'hidden_size8': 128, 'learning_rate': 0.0001, 'n_layers': 3, 'num_epochs': 10}\n",
      "0.7879470699894484                                                                                                     \n",
      "  4%|█▌                                         | 18/500 [3:16:08<62:14:36, 464.89s/it, best loss: -0.7891808770471029]"
     ]
    },
    {
     "name": "stderr",
     "output_type": "stream",
     "text": [
      "Global seed set to 1\n"
     ]
    },
    {
     "name": "stdout",
     "output_type": "stream",
     "text": [
      "{'batch_size': 5120, 'dropout1': 0.465, 'dropout2': 0.485, 'dropout3': 0.44, 'dropout4': 0.417, 'dropout5': 0.061, 'dropout6': 0.359, 'dropout7': 0.299, 'dropout8': 0.171, 'hidden_size1': 25, 'hidden_size2': 32, 'hidden_size3': 256, 'hidden_size4': 48, 'hidden_size5': 48, 'hidden_size6': 512, 'hidden_size7': 96, 'hidden_size8': 128, 'learning_rate': 0.0001, 'n_layers': 3, 'num_epochs': 10}\n",
      "0.7852960779544806                                                                                                     \n",
      "  4%|█▋                                         | 19/500 [3:19:02<50:27:02, 377.59s/it, best loss: -0.7891808770471029]"
     ]
    },
    {
     "name": "stderr",
     "output_type": "stream",
     "text": [
      "Global seed set to 1\n"
     ]
    },
    {
     "name": "stdout",
     "output_type": "stream",
     "text": [
      "{'batch_size': 2048, 'dropout1': 0.436, 'dropout2': 0.384, 'dropout3': 0.182, 'dropout4': 0.049, 'dropout5': 0.116, 'dropout6': 0.205, 'dropout7': 0.37, 'dropout8': 0.359, 'hidden_size1': 47, 'hidden_size2': 32, 'hidden_size3': 256, 'hidden_size4': 48, 'hidden_size5': 48, 'hidden_size6': 512, 'hidden_size7': 96, 'hidden_size8': 128, 'learning_rate': 0.0004, 'n_layers': 3, 'num_epochs': 10}\n",
      "0.7894973446645352                                                                                                     \n",
      "  4%|█▋                                         | 20/500 [3:22:02<42:24:06, 318.01s/it, best loss: -0.7894973446645352]"
     ]
    },
    {
     "name": "stderr",
     "output_type": "stream",
     "text": [
      "Global seed set to 1\n"
     ]
    },
    {
     "name": "stdout",
     "output_type": "stream",
     "text": [
      "{'batch_size': 2048, 'dropout1': 0.189, 'dropout2': 0.23, 'dropout3': 0.011, 'dropout4': 0.064, 'dropout5': 0.465, 'dropout6': 0.365, 'dropout7': 0.304, 'dropout8': 0.242, 'hidden_size1': 59, 'hidden_size2': 1024, 'hidden_size3': 96, 'hidden_size4': 48, 'hidden_size5': 512, 'hidden_size6': 128, 'hidden_size7': 1024, 'hidden_size8': 96, 'learning_rate': 0.0004, 'n_layers': 3, 'num_epochs': 45}\n",
      "0.7593702033676708                                                                                                     \n",
      "  4%|█▊                                         | 21/500 [3:34:02<58:22:42, 438.75s/it, best loss: -0.7894973446645352]"
     ]
    },
    {
     "name": "stderr",
     "output_type": "stream",
     "text": [
      "Global seed set to 1\n"
     ]
    },
    {
     "name": "stdout",
     "output_type": "stream",
     "text": [
      "{'batch_size': 2048, 'dropout1': 0.423, 'dropout2': 0.239, 'dropout3': 0.035, 'dropout4': 0.038, 'dropout5': 0.275, 'dropout6': 0.185, 'dropout7': 0.249, 'dropout8': 0.438, 'hidden_size1': 24, 'hidden_size2': 32, 'hidden_size3': 1024, 'hidden_size4': 128, 'hidden_size5': 256, 'hidden_size6': 896, 'hidden_size7': 64, 'hidden_size8': 512, 'learning_rate': 0.0005, 'n_layers': 3, 'num_epochs': 20}\n",
      "0.7536650355194194                                                                                                     \n",
      "  4%|█▉                                         | 22/500 [3:39:34<54:00:57, 406.82s/it, best loss: -0.7894973446645352]"
     ]
    },
    {
     "name": "stderr",
     "output_type": "stream",
     "text": [
      "Global seed set to 1\n"
     ]
    },
    {
     "name": "stdout",
     "output_type": "stream",
     "text": [
      "{'batch_size': 10240, 'dropout1': 0.338, 'dropout2': 0.211, 'dropout3': 0.402, 'dropout4': 0.049, 'dropout5': 0.134, 'dropout6': 0.125, 'dropout7': 0.02, 'dropout8': 0.068, 'hidden_size1': 68, 'hidden_size2': 48, 'hidden_size3': 128, 'hidden_size4': 512, 'hidden_size5': 64, 'hidden_size6': 448, 'hidden_size7': 96, 'hidden_size8': 128, 'learning_rate': 0.0008, 'n_layers': 1, 'num_epochs': 15}\n",
      "0.782414163249347                                                                                                      \n",
      "  5%|█▉                                         | 23/500 [3:43:40<47:29:34, 358.44s/it, best loss: -0.7894973446645352]"
     ]
    },
    {
     "name": "stderr",
     "output_type": "stream",
     "text": [
      "Global seed set to 1\n"
     ]
    },
    {
     "name": "stdout",
     "output_type": "stream",
     "text": [
      "{'batch_size': 2048, 'dropout1': 0.301, 'dropout2': 0.384, 'dropout3': 0.443, 'dropout4': 0.231, 'dropout5': 0.028, 'dropout6': 0.313, 'dropout7': 0.272, 'dropout8': 0.201, 'hidden_size1': 23, 'hidden_size2': 256, 'hidden_size3': 32, 'hidden_size4': 1024, 'hidden_size5': 896, 'hidden_size6': 512, 'hidden_size7': 896, 'hidden_size8': 32, 'learning_rate': 0.0004, 'n_layers': 3, 'num_epochs': 50}\n",
      "0.7860851327786035                                                                                                     \n",
      "  5%|██                                         | 24/500 [3:57:00<64:54:38, 490.92s/it, best loss: -0.7894973446645352]"
     ]
    },
    {
     "name": "stderr",
     "output_type": "stream",
     "text": [
      "Global seed set to 1\n"
     ]
    },
    {
     "name": "stdout",
     "output_type": "stream",
     "text": [
      "{'batch_size': 256, 'dropout1': 0.038, 'dropout2': 0.252, 'dropout3': 0.391, 'dropout4': 0.302, 'dropout5': 0.332, 'dropout6': 0.205, 'dropout7': 0.067, 'dropout8': 0.035, 'hidden_size1': 47, 'hidden_size2': 96, 'hidden_size3': 512, 'hidden_size4': 256, 'hidden_size5': 96, 'hidden_size6': 256, 'hidden_size7': 128, 'hidden_size8': 48, 'learning_rate': 0.005, 'n_layers': 4, 'num_epochs': 30}\n",
      "0.7876119071741539                                                                                                     \n",
      "  5%|██▏                                        | 25/500 [4:19:52<99:39:47, 755.34s/it, best loss: -0.7894973446645352]"
     ]
    },
    {
     "name": "stderr",
     "output_type": "stream",
     "text": [
      "Global seed set to 1\n"
     ]
    },
    {
     "name": "stdout",
     "output_type": "stream",
     "text": [
      "{'batch_size': 12800, 'dropout1': 0.323, 'dropout2': 0.296, 'dropout3': 0.285, 'dropout4': 0.031, 'dropout5': 0.182, 'dropout6': 0.287, 'dropout7': 0.352, 'dropout8': 0.332, 'hidden_size1': 43, 'hidden_size2': 64, 'hidden_size3': 448, 'hidden_size4': 896, 'hidden_size5': 128, 'hidden_size6': 32, 'hidden_size7': 448, 'hidden_size8': 64, 'learning_rate': 0.04, 'n_layers': 5, 'num_epochs': 25}\n",
      "0.7896158551402097                                                                                                     \n",
      "  5%|██▏                                        | 26/500 [4:26:38<85:38:24, 650.43s/it, best loss: -0.7896158551402097]"
     ]
    },
    {
     "name": "stderr",
     "output_type": "stream",
     "text": [
      "Global seed set to 1\n"
     ]
    },
    {
     "name": "stdout",
     "output_type": "stream",
     "text": [
      "{'batch_size': 12800, 'dropout1': 0.436, 'dropout2': 0.065, 'dropout3': 0.129, 'dropout4': 0.192, 'dropout5': 0.456, 'dropout6': 0.075, 'dropout7': 0.439, 'dropout8': 0.218, 'hidden_size1': 43, 'hidden_size2': 64, 'hidden_size3': 448, 'hidden_size4': 896, 'hidden_size5': 128, 'hidden_size6': 32, 'hidden_size7': 448, 'hidden_size8': 64, 'learning_rate': 0.04, 'n_layers': 5, 'num_epochs': 10}\n",
      "0.785476595639271                                                                                                      \n",
      "  5%|██▎                                        | 27/500 [4:29:35<66:49:08, 508.56s/it, best loss: -0.7896158551402097]"
     ]
    },
    {
     "name": "stderr",
     "output_type": "stream",
     "text": [
      "Global seed set to 1\n"
     ]
    },
    {
     "name": "stdout",
     "output_type": "stream",
     "text": [
      "{'batch_size': 12800, 'dropout1': 0.403, 'dropout2': 0.478, 'dropout3': 0.063, 'dropout4': 0.049, 'dropout5': 0.428, 'dropout6': 0.002, 'dropout7': 0.03, 'dropout8': 0.359, 'hidden_size1': 27, 'hidden_size2': 64, 'hidden_size3': 448, 'hidden_size4': 896, 'hidden_size5': 128, 'hidden_size6': 32, 'hidden_size7': 448, 'hidden_size8': 64, 'learning_rate': 0.04, 'n_layers': 5, 'num_epochs': 25}\n",
      "0.7769812630995093                                                                                                     \n",
      "  6%|██▍                                        | 28/500 [4:36:21<62:37:35, 477.66s/it, best loss: -0.7896158551402097]"
     ]
    },
    {
     "name": "stderr",
     "output_type": "stream",
     "text": [
      "Global seed set to 1\n"
     ]
    },
    {
     "name": "stdout",
     "output_type": "stream",
     "text": [
      "{'batch_size': 2560, 'dropout1': 0.178, 'dropout2': 0.048, 'dropout3': 0.144, 'dropout4': 0.488, 'dropout5': 0.014, 'dropout6': 0.027, 'dropout7': 0.352, 'dropout8': 0.332, 'hidden_size1': 30, 'hidden_size2': 64, 'hidden_size3': 448, 'hidden_size4': 896, 'hidden_size5': 128, 'hidden_size6': 32, 'hidden_size7': 448, 'hidden_size8': 64, 'learning_rate': 0.004, 'n_layers': 5, 'num_epochs': 50}\n",
      "0.7622411880942372                                                                                                     \n",
      "  6%|██▍                                        | 29/500 [4:49:54<75:40:30, 578.41s/it, best loss: -0.7896158551402097]"
     ]
    },
    {
     "name": "stderr",
     "output_type": "stream",
     "text": [
      "Global seed set to 1\n"
     ]
    },
    {
     "name": "stdout",
     "output_type": "stream",
     "text": [
      "{'batch_size': 12800, 'dropout1': 0.243, 'dropout2': 0.296, 'dropout3': 0.182, 'dropout4': 0.356, 'dropout5': 0.182, 'dropout6': 0.48, 'dropout7': 0.102, 'dropout8': 0.322, 'hidden_size1': 69, 'hidden_size2': 128, 'hidden_size3': 256, 'hidden_size4': 896, 'hidden_size5': 64, 'hidden_size6': 48, 'hidden_size7': 48, 'hidden_size8': 896, 'learning_rate': 0.009, 'n_layers': 5, 'num_epochs': 25}\n",
      "0.7888218666876549                                                                                                     \n",
      "  6%|██▌                                        | 30/500 [4:56:40<68:44:19, 526.51s/it, best loss: -0.7896158551402097]"
     ]
    },
    {
     "name": "stderr",
     "output_type": "stream",
     "text": [
      "Global seed set to 1\n"
     ]
    },
    {
     "name": "stdout",
     "output_type": "stream",
     "text": [
      "{'batch_size': 512, 'dropout1': 0.47, 'dropout2': 0.233, 'dropout3': 0.492, 'dropout4': 0.369, 'dropout5': 0.126, 'dropout6': 0.082, 'dropout7': 0.23, 'dropout8': 0.307, 'hidden_size1': 16, 'hidden_size2': 64, 'hidden_size3': 256, 'hidden_size4': 96, 'hidden_size5': 128, 'hidden_size6': 32, 'hidden_size7': 1024, 'hidden_size8': 256, 'learning_rate': 0.001, 'n_layers': 5, 'num_epochs': 10}\n",
      "0.7849649611910374                                                                                                     \n",
      "  6%|██▋                                        | 31/500 [5:01:59<60:29:33, 464.34s/it, best loss: -0.7896158551402097]"
     ]
    },
    {
     "name": "stderr",
     "output_type": "stream",
     "text": [
      "Global seed set to 1\n"
     ]
    },
    {
     "name": "stdout",
     "output_type": "stream",
     "text": [
      "{'batch_size': 1024, 'dropout1': 0.009, 'dropout2': 0.323, 'dropout3': 0.049, 'dropout4': 0.36, 'dropout5': 0.133, 'dropout6': 0.081, 'dropout7': 0.462, 'dropout8': 0.07, 'hidden_size1': 90, 'hidden_size2': 32, 'hidden_size3': 896, 'hidden_size4': 448, 'hidden_size5': 1024, 'hidden_size6': 96, 'hidden_size7': 512, 'hidden_size8': 96, 'learning_rate': 0.01, 'n_layers': 2, 'num_epochs': 5}\n",
      "0.788944983600181                                                                                                      \n",
      "  6%|██▊                                        | 32/500 [5:03:53<46:42:05, 359.24s/it, best loss: -0.7896158551402097]"
     ]
    },
    {
     "name": "stderr",
     "output_type": "stream",
     "text": [
      "Global seed set to 1\n"
     ]
    },
    {
     "name": "stdout",
     "output_type": "stream",
     "text": [
      "{'batch_size': 2560, 'dropout1': 0.091, 'dropout2': 0.135, 'dropout3': 0.235, 'dropout4': 0.288, 'dropout5': 0.146, 'dropout6': 0.376, 'dropout7': 0.392, 'dropout8': 0.332, 'hidden_size1': 79, 'hidden_size2': 256, 'hidden_size3': 512, 'hidden_size4': 256, 'hidden_size5': 48, 'hidden_size6': 512, 'hidden_size7': 448, 'hidden_size8': 128, 'learning_rate': 0.006, 'n_layers': 1, 'num_epochs': 40}\n",
      "0.7811657131703788                                                                                                     \n",
      "  7%|██▊                                        | 33/500 [5:13:49<55:49:34, 430.35s/it, best loss: -0.7896158551402097]"
     ]
    },
    {
     "name": "stderr",
     "output_type": "stream",
     "text": [
      "Global seed set to 1\n"
     ]
    },
    {
     "name": "stdout",
     "output_type": "stream",
     "text": [
      "{'batch_size': 12800, 'dropout1': 0.498, 'dropout2': 0.003, 'dropout3': 0.163, 'dropout4': 0.465, 'dropout5': 0.248, 'dropout6': 0.173, 'dropout7': 0.368, 'dropout8': 0.173, 'hidden_size1': 87, 'hidden_size2': 64, 'hidden_size3': 448, 'hidden_size4': 32, 'hidden_size5': 48, 'hidden_size6': 96, 'hidden_size7': 96, 'hidden_size8': 256, 'learning_rate': 0.003, 'n_layers': 3, 'num_epochs': 30}\n",
      "0.78540446772098                                                                                                       \n",
      "  7%|██▉                                        | 34/500 [5:21:46<57:30:15, 444.24s/it, best loss: -0.7896158551402097]"
     ]
    },
    {
     "name": "stderr",
     "output_type": "stream",
     "text": [
      "Global seed set to 1\n"
     ]
    },
    {
     "name": "stdout",
     "output_type": "stream",
     "text": [
      "{'batch_size': 512, 'dropout1': 0.449, 'dropout2': 0.246, 'dropout3': 0.386, 'dropout4': 0.389, 'dropout5': 0.141, 'dropout6': 0.287, 'dropout7': 0.167, 'dropout8': 0.221, 'hidden_size1': 57, 'hidden_size2': 32, 'hidden_size3': 256, 'hidden_size4': 896, 'hidden_size5': 448, 'hidden_size6': 512, 'hidden_size7': 48, 'hidden_size8': 64, 'learning_rate': 0.04, 'n_layers': 5, 'num_epochs': 35}\n",
      "0.7890562817646796                                                                                                     \n",
      "  7%|███                                        | 35/500 [5:39:22<81:05:53, 627.86s/it, best loss: -0.7896158551402097]"
     ]
    },
    {
     "name": "stderr",
     "output_type": "stream",
     "text": [
      "Global seed set to 1\n"
     ]
    },
    {
     "name": "stdout",
     "output_type": "stream",
     "text": [
      "{'batch_size': 4096, 'dropout1': 0.141, 'dropout2': 0.401, 'dropout3': 0.039, 'dropout4': 0.493, 'dropout5': 0.178, 'dropout6': 0.377, 'dropout7': 0.032, 'dropout8': 0.206, 'hidden_size1': 36, 'hidden_size2': 896, 'hidden_size3': 48, 'hidden_size4': 96, 'hidden_size5': 128, 'hidden_size6': 64, 'hidden_size7': 96, 'hidden_size8': 448, 'learning_rate': 0.0004, 'n_layers': 3, 'num_epochs': 10}\n",
      "0.7880199250336808                                                                                                     \n",
      "  7%|███                                        | 36/500 [5:42:18<63:25:51, 492.14s/it, best loss: -0.7896158551402097]"
     ]
    },
    {
     "name": "stderr",
     "output_type": "stream",
     "text": [
      "Global seed set to 1\n"
     ]
    },
    {
     "name": "stdout",
     "output_type": "stream",
     "text": [
      "{'batch_size': 128, 'dropout1': 0.142, 'dropout2': 0.249, 'dropout3': 0.09, 'dropout4': 0.492, 'dropout5': 0.247, 'dropout6': 0.029, 'dropout7': 0.01, 'dropout8': 0.14, 'hidden_size1': 43, 'hidden_size2': 512, 'hidden_size3': 1024, 'hidden_size4': 48, 'hidden_size5': 896, 'hidden_size6': 256, 'hidden_size7': 512, 'hidden_size8': 128, 'learning_rate': 0.001, 'n_layers': 2, 'num_epochs': 25}\n",
      "0.7677728182658031                                                                                                     \n",
      "  7%|███                                       | 37/500 [6:10:20<109:13:57, 849.33s/it, best loss: -0.7896158551402097]"
     ]
    },
    {
     "name": "stderr",
     "output_type": "stream",
     "text": [
      "Global seed set to 1\n"
     ]
    },
    {
     "name": "stdout",
     "output_type": "stream",
     "text": [
      "{'batch_size': 12800, 'dropout1': 0.422, 'dropout2': 0.367, 'dropout3': 0.413, 'dropout4': 0.067, 'dropout5': 0.116, 'dropout6': 0.233, 'dropout7': 0.088, 'dropout8': 0.101, 'hidden_size1': 12, 'hidden_size2': 448, 'hidden_size3': 448, 'hidden_size4': 512, 'hidden_size5': 96, 'hidden_size6': 448, 'hidden_size7': 32, 'hidden_size8': 512, 'learning_rate': 0.0009, 'n_layers': 3, 'num_epochs': 45}\n",
      "0.7894276253009682                                                                                                     \n",
      "  8%|███▏                                      | 38/500 [6:22:03<103:21:17, 805.36s/it, best loss: -0.7896158551402097]"
     ]
    },
    {
     "name": "stderr",
     "output_type": "stream",
     "text": [
      "Global seed set to 1\n"
     ]
    },
    {
     "name": "stdout",
     "output_type": "stream",
     "text": [
      "{'batch_size': 10240, 'dropout1': 0.212, 'dropout2': 0.326, 'dropout3': 0.193, 'dropout4': 0.022, 'dropout5': 0.201, 'dropout6': 0.277, 'dropout7': 0.015, 'dropout8': 0.049, 'hidden_size1': 32, 'hidden_size2': 128, 'hidden_size3': 32, 'hidden_size4': 64, 'hidden_size5': 1024, 'hidden_size6': 48, 'hidden_size7': 64, 'hidden_size8': 896, 'learning_rate': 0.0002, 'n_layers': 5, 'num_epochs': 15}\n",
      "0.7822155393809413                                                                                                     \n",
      "  8%|███▎                                       | 39/500 [6:26:16<81:53:47, 639.54s/it, best loss: -0.7896158551402097]"
     ]
    },
    {
     "name": "stderr",
     "output_type": "stream",
     "text": [
      "Global seed set to 1\n"
     ]
    },
    {
     "name": "stdout",
     "output_type": "stream",
     "text": [
      "{'batch_size': 256, 'dropout1': 0.092, 'dropout2': 0.386, 'dropout3': 0.432, 'dropout4': 0.353, 'dropout5': 0.202, 'dropout6': 0.228, 'dropout7': 0.113, 'dropout8': 0.267, 'hidden_size1': 89, 'hidden_size2': 48, 'hidden_size3': 896, 'hidden_size4': 128, 'hidden_size5': 48, 'hidden_size6': 896, 'hidden_size7': 448, 'hidden_size8': 64, 'learning_rate': 0.02, 'n_layers': 1, 'num_epochs': 20}\n",
      "0.788483117777681                                                                                                      \n",
      "  8%|███▍                                       | 40/500 [6:38:10<84:34:49, 661.93s/it, best loss: -0.7896158551402097]"
     ]
    },
    {
     "name": "stderr",
     "output_type": "stream",
     "text": [
      "Global seed set to 1\n"
     ]
    },
    {
     "name": "stdout",
     "output_type": "stream",
     "text": [
      "{'batch_size': 1024, 'dropout1': 0.367, 'dropout2': 0.35, 'dropout3': 0.267, 'dropout4': 0.187, 'dropout5': 0.136, 'dropout6': 0.177, 'dropout7': 0.092, 'dropout8': 0.214, 'hidden_size1': 40, 'hidden_size2': 1024, 'hidden_size3': 96, 'hidden_size4': 1024, 'hidden_size5': 256, 'hidden_size6': 32, 'hidden_size7': 128, 'hidden_size8': 1024, 'learning_rate': 0.002, 'n_layers': 2, 'num_epochs': 25}\n",
      "0.7892580104946912                                                                                                     \n",
      "  8%|███▌                                       | 41/500 [6:46:00<77:03:23, 604.36s/it, best loss: -0.7896158551402097]"
     ]
    },
    {
     "name": "stderr",
     "output_type": "stream",
     "text": [
      "Global seed set to 1\n"
     ]
    },
    {
     "name": "stdout",
     "output_type": "stream",
     "text": [
      "{'batch_size': 4096, 'dropout1': 0.458, 'dropout2': 0.353, 'dropout3': 0.045, 'dropout4': 0.031, 'dropout5': 0.258, 'dropout6': 0.119, 'dropout7': 0.334, 'dropout8': 0.017, 'hidden_size1': 60, 'hidden_size2': 512, 'hidden_size3': 64, 'hidden_size4': 32, 'hidden_size5': 512, 'hidden_size6': 1024, 'hidden_size7': 1024, 'hidden_size8': 32, 'learning_rate': 0.0006, 'n_layers': 5, 'num_epochs': 35}\n",
      "0.7764605491606046                                                                                                     \n",
      "  8%|███▌                                       | 42/500 [6:55:26<75:26:03, 592.93s/it, best loss: -0.7896158551402097]"
     ]
    },
    {
     "name": "stderr",
     "output_type": "stream",
     "text": [
      "Global seed set to 1\n"
     ]
    },
    {
     "name": "stdout",
     "output_type": "stream",
     "text": [
      "{'batch_size': 128, 'dropout1': 0.222, 'dropout2': 0.332, 'dropout3': 0.47, 'dropout4': 0.297, 'dropout5': 0.008, 'dropout6': 0.02, 'dropout7': 0.37, 'dropout8': 0.351, 'hidden_size1': 5, 'hidden_size2': 64, 'hidden_size3': 48, 'hidden_size4': 448, 'hidden_size5': 128, 'hidden_size6': 512, 'hidden_size7': 256, 'hidden_size8': 96, 'learning_rate': 0.007, 'n_layers': 3, 'num_epochs': 50}\n",
      "0.7815364310154329                                                                                                     \n",
      "  9%|███▌                                     | 43/500 [7:56:18<191:46:13, 1510.66s/it, best loss: -0.7896158551402097]"
     ]
    },
    {
     "name": "stderr",
     "output_type": "stream",
     "text": [
      "Global seed set to 1\n"
     ]
    },
    {
     "name": "stdout",
     "output_type": "stream",
     "text": [
      "{'batch_size': 2560, 'dropout1': 0.077, 'dropout2': 0.439, 'dropout3': 0.206, 'dropout4': 0.16, 'dropout5': 0.165, 'dropout6': 0.339, 'dropout7': 0.477, 'dropout8': 0.23, 'hidden_size1': 86, 'hidden_size2': 32, 'hidden_size3': 256, 'hidden_size4': 48, 'hidden_size5': 48, 'hidden_size6': 64, 'hidden_size7': 32, 'hidden_size8': 128, 'learning_rate': 0.0003, 'n_layers': 5, 'num_epochs': 10}\n",
      "0.7904488722220264                                                                                                     \n",
      "  9%|███▌                                     | 44/500 [7:59:20<140:52:14, 1112.14s/it, best loss: -0.7904488722220264]"
     ]
    },
    {
     "name": "stderr",
     "output_type": "stream",
     "text": [
      "Global seed set to 1\n"
     ]
    },
    {
     "name": "stdout",
     "output_type": "stream",
     "text": [
      "{'batch_size': 2560, 'dropout1': 0.077, 'dropout2': 0.074, 'dropout3': 0.285, 'dropout4': 0.215, 'dropout5': 0.33, 'dropout6': 0.055, 'dropout7': 0.176, 'dropout8': 0.066, 'hidden_size1': 86, 'hidden_size2': 256, 'hidden_size3': 512, 'hidden_size4': 896, 'hidden_size5': 448, 'hidden_size6': 64, 'hidden_size7': 32, 'hidden_size8': 256, 'learning_rate': 0.0003, 'n_layers': 5, 'num_epochs': 25}\n",
      "0.7859261455770671                                                                                                     \n",
      "  9%|███▊                                      | 45/500 [8:06:20<114:17:31, 904.29s/it, best loss: -0.7904488722220264]"
     ]
    },
    {
     "name": "stderr",
     "output_type": "stream",
     "text": [
      "Global seed set to 1\n"
     ]
    },
    {
     "name": "stdout",
     "output_type": "stream",
     "text": [
      "{'batch_size': 2560, 'dropout1': 0.107, 'dropout2': 0.281, 'dropout3': 0.111, 'dropout4': 0.318, 'dropout5': 0.032, 'dropout6': 0.339, 'dropout7': 0.494, 'dropout8': 0.257, 'hidden_size1': 91, 'hidden_size2': 896, 'hidden_size3': 448, 'hidden_size4': 96, 'hidden_size5': 64, 'hidden_size6': 64, 'hidden_size7': 32, 'hidden_size8': 448, 'learning_rate': 0.0003, 'n_layers': 5, 'num_epochs': 5}\n",
      "0.7887483206484139                                                                                                     \n",
      "  9%|███▉                                       | 46/500 [8:08:04<83:45:43, 664.19s/it, best loss: -0.7904488722220264]"
     ]
    },
    {
     "name": "stderr",
     "output_type": "stream",
     "text": [
      "Global seed set to 1\n"
     ]
    },
    {
     "name": "stdout",
     "output_type": "stream",
     "text": [
      "{'batch_size': 2560, 'dropout1': 0.09, 'dropout2': 0.207, 'dropout3': 0.262, 'dropout4': 0.16, 'dropout5': 0.271, 'dropout6': 0.407, 'dropout7': 0.488, 'dropout8': 0.323, 'hidden_size1': 39, 'hidden_size2': 448, 'hidden_size3': 1024, 'hidden_size4': 64, 'hidden_size5': 1024, 'hidden_size6': 64, 'hidden_size7': 32, 'hidden_size8': 1024, 'learning_rate': 0.0003, 'n_layers': 5, 'num_epochs': 40}\n",
      "0.7762063860683194                                                                                                     \n",
      "  9%|████                                       | 47/500 [8:19:00<83:15:47, 661.69s/it, best loss: -0.7904488722220264]"
     ]
    },
    {
     "name": "stderr",
     "output_type": "stream",
     "text": [
      "Global seed set to 1\n"
     ]
    },
    {
     "name": "stdout",
     "output_type": "stream",
     "text": [
      "{'batch_size': 2560, 'dropout1': 0.339, 'dropout2': 0.445, 'dropout3': 0.418, 'dropout4': 0.292, 'dropout5': 0.122, 'dropout6': 0.285, 'dropout7': 0.383, 'dropout8': 0.195, 'hidden_size1': 74, 'hidden_size2': 32, 'hidden_size3': 256, 'hidden_size4': 48, 'hidden_size5': 256, 'hidden_size6': 64, 'hidden_size7': 32, 'hidden_size8': 64, 'learning_rate': 0.0007, 'n_layers': 5, 'num_epochs': 10}\n",
      "0.7880988284743771                                                                                                     \n",
      " 10%|████▏                                      | 48/500 [8:22:02<65:02:02, 517.97s/it, best loss: -0.7904488722220264]"
     ]
    },
    {
     "name": "stderr",
     "output_type": "stream",
     "text": [
      "Global seed set to 1\n"
     ]
    },
    {
     "name": "stdout",
     "output_type": "stream",
     "text": [
      "{'batch_size': 5120, 'dropout1': 0.37, 'dropout2': 0.439, 'dropout3': 0.467, 'dropout4': 0.092, 'dropout5': 0.165, 'dropout6': 0.43, 'dropout7': 0.205, 'dropout8': 0.174, 'hidden_size1': 49, 'hidden_size2': 128, 'hidden_size3': 64, 'hidden_size4': 256, 'hidden_size5': 32, 'hidden_size6': 32, 'hidden_size7': 48, 'hidden_size8': 128, 'learning_rate': 0.0008, 'n_layers': 5, 'num_epochs': 15}\n",
      "0.7849953113508858                                                                                                     \n",
      " 10%|████▏                                      | 49/500 [8:26:18<55:01:55, 439.28s/it, best loss: -0.7904488722220264]"
     ]
    },
    {
     "name": "stderr",
     "output_type": "stream",
     "text": [
      "Global seed set to 1\n"
     ]
    },
    {
     "name": "stdout",
     "output_type": "stream",
     "text": [
      "{'batch_size': 512, 'dropout1': 0.126, 'dropout2': 0.268, 'dropout3': 0.268, 'dropout4': 0.051, 'dropout5': 0.411, 'dropout6': 0.023, 'dropout7': 0.484, 'dropout8': 0.32, 'hidden_size1': 45, 'hidden_size2': 64, 'hidden_size3': 96, 'hidden_size4': 512, 'hidden_size5': 512, 'hidden_size6': 96, 'hidden_size7': 448, 'hidden_size8': 32, 'learning_rate': 0.0005, 'n_layers': 4, 'num_epochs': 45}\n",
      "0.7858806500619442                                                                                                     \n",
      " 10%|████▎                                      | 50/500 [8:47:25<85:57:06, 687.61s/it, best loss: -0.7904488722220264]"
     ]
    },
    {
     "name": "stderr",
     "output_type": "stream",
     "text": [
      "Global seed set to 1\n"
     ]
    },
    {
     "name": "stdout",
     "output_type": "stream",
     "text": [
      "{'batch_size': 2560, 'dropout1': 0.323, 'dropout2': 0.206, 'dropout3': 0.367, 'dropout4': 0.056, 'dropout5': 0.144, 'dropout6': 0.464, 'dropout7': 0.289, 'dropout8': 0.071, 'hidden_size1': 55, 'hidden_size2': 48, 'hidden_size3': 32, 'hidden_size4': 128, 'hidden_size5': 48, 'hidden_size6': 1024, 'hidden_size7': 256, 'hidden_size8': 448, 'learning_rate': 0.03, 'n_layers': 1, 'num_epochs': 25}\n",
      "0.7865386489846764                                                                                                     \n",
      " 10%|████▍                                      | 51/500 [8:53:48<74:22:15, 596.29s/it, best loss: -0.7904488722220264]"
     ]
    },
    {
     "name": "stderr",
     "output_type": "stream",
     "text": [
      "Global seed set to 1\n"
     ]
    },
    {
     "name": "stdout",
     "output_type": "stream",
     "text": [
      "{'batch_size': 12800, 'dropout1': 0.263, 'dropout2': 0.305, 'dropout3': 0.441, 'dropout4': 0.014, 'dropout5': 0.168, 'dropout6': 0.371, 'dropout7': 0.091, 'dropout8': 0.176, 'hidden_size1': 66, 'hidden_size2': 1024, 'hidden_size3': 896, 'hidden_size4': 1024, 'hidden_size5': 896, 'hidden_size6': 256, 'hidden_size7': 512, 'hidden_size8': 512, 'learning_rate': 0.04, 'n_layers': 5, 'num_epochs': 20}\n",
      "0.7870481278747257                                                                                                     \n",
      " 10%|████▍                                      | 52/500 [8:59:20<64:18:52, 516.81s/it, best loss: -0.7904488722220264]"
     ]
    },
    {
     "name": "stderr",
     "output_type": "stream",
     "text": [
      "Global seed set to 1\n"
     ]
    },
    {
     "name": "stdout",
     "output_type": "stream",
     "text": [
      "{'batch_size': 10240, 'dropout1': 0.426, 'dropout2': 0.235, 'dropout3': 0.466, 'dropout4': 0.009, 'dropout5': 0.426, 'dropout6': 0.032, 'dropout7': 0.157, 'dropout8': 0.077, 'hidden_size1': 94, 'hidden_size2': 512, 'hidden_size3': 48, 'hidden_size4': 48, 'hidden_size5': 448, 'hidden_size6': 128, 'hidden_size7': 64, 'hidden_size8': 128, 'learning_rate': 0.009, 'n_layers': 2, 'num_epochs': 35}\n",
      "0.7869938767563631                                                                                                     \n",
      " 11%|████▌                                      | 53/500 [9:08:25<65:13:16, 525.27s/it, best loss: -0.7904488722220264]"
     ]
    },
    {
     "name": "stderr",
     "output_type": "stream",
     "text": [
      "Global seed set to 1\n"
     ]
    },
    {
     "name": "stdout",
     "output_type": "stream",
     "text": [
      "{'batch_size': 256, 'dropout1': 0.064, 'dropout2': 0.119, 'dropout3': 0.407, 'dropout4': 0.346, 'dropout5': 0.064, 'dropout6': 0.487, 'dropout7': 0.491, 'dropout8': 0.23, 'hidden_size1': 28, 'hidden_size2': 96, 'hidden_size3': 128, 'hidden_size4': 32, 'hidden_size5': 96, 'hidden_size6': 896, 'hidden_size7': 32, 'hidden_size8': 48, 'learning_rate': 0.005, 'n_layers': 5, 'num_epochs': 10}\n",
      "0.7853988093163151                                                                                                     \n",
      " 11%|████▋                                      | 54/500 [9:16:49<64:18:55, 519.14s/it, best loss: -0.7904488722220264]"
     ]
    },
    {
     "name": "stderr",
     "output_type": "stream",
     "text": [
      "Global seed set to 1\n"
     ]
    },
    {
     "name": "stdout",
     "output_type": "stream",
     "text": [
      "{'batch_size': 4096, 'dropout1': 0.3, 'dropout2': 0.12, 'dropout3': 0.077, 'dropout4': 0.39, 'dropout5': 0.072, 'dropout6': 0.419, 'dropout7': 0.064, 'dropout8': 0.045, 'hidden_size1': 10, 'hidden_size2': 32, 'hidden_size3': 448, 'hidden_size4': 896, 'hidden_size5': 128, 'hidden_size6': 48, 'hidden_size7': 128, 'hidden_size8': 64, 'learning_rate': 0.004, 'n_layers': 4, 'num_epochs': 30}\n",
      "0.7637275228947187                                                                                                     \n",
      " 11%|████▋                                      | 55/500 [9:24:50<62:45:21, 507.69s/it, best loss: -0.7904488722220264]"
     ]
    },
    {
     "name": "stderr",
     "output_type": "stream",
     "text": [
      "Global seed set to 1\n"
     ]
    },
    {
     "name": "stdout",
     "output_type": "stream",
     "text": [
      "{'batch_size': 128, 'dropout1': 0.341, 'dropout2': 0.147, 'dropout3': 0.477, 'dropout4': 0.027, 'dropout5': 0.012, 'dropout6': 0.5, 'dropout7': 0.3, 'dropout8': 0.449, 'hidden_size1': 65, 'hidden_size2': 896, 'hidden_size3': 256, 'hidden_size4': 448, 'hidden_size5': 48, 'hidden_size6': 448, 'hidden_size7': 448, 'hidden_size8': 96, 'learning_rate': 0.006, 'n_layers': 1, 'num_epochs': 5}\n",
      "0.7812738442133886                                                                                                     \n",
      " 11%|████▊                                      | 56/500 [9:30:16<55:53:25, 453.17s/it, best loss: -0.7904488722220264]"
     ]
    },
    {
     "name": "stderr",
     "output_type": "stream",
     "text": [
      "Global seed set to 1\n"
     ]
    },
    {
     "name": "stdout",
     "output_type": "stream",
     "text": [
      "{'batch_size': 5120, 'dropout1': 0.013, 'dropout2': 0.279, 'dropout3': 0.1, 'dropout4': 0.424, 'dropout5': 0.125, 'dropout6': 0.166, 'dropout7': 0.098, 'dropout8': 0.281, 'hidden_size1': 95, 'hidden_size2': 448, 'hidden_size3': 512, 'hidden_size4': 48, 'hidden_size5': 32, 'hidden_size6': 64, 'hidden_size7': 896, 'hidden_size8': 896, 'learning_rate': 0.003, 'n_layers': 5, 'num_epochs': 50}\n",
      "0.7523237082697928                                                                                                     \n",
      " 11%|████▉                                      | 57/500 [9:43:31<68:23:13, 555.74s/it, best loss: -0.7904488722220264]"
     ]
    },
    {
     "name": "stderr",
     "output_type": "stream",
     "text": [
      "Global seed set to 1\n"
     ]
    },
    {
     "name": "stdout",
     "output_type": "stream",
     "text": [
      "{'batch_size': 12800, 'dropout1': 0.318, 'dropout2': 0.296, 'dropout3': 0.007, 'dropout4': 0.406, 'dropout5': 0.087, 'dropout6': 0.344, 'dropout7': 0.28, 'dropout8': 0.36, 'hidden_size1': 11, 'hidden_size2': 64, 'hidden_size3': 1024, 'hidden_size4': 64, 'hidden_size5': 64, 'hidden_size6': 32, 'hidden_size7': 32, 'hidden_size8': 1024, 'learning_rate': 0.008, 'n_layers': 5, 'num_epochs': 25}\n",
      "0.7693281077424541                                                                                                     \n",
      " 12%|████▉                                      | 58/500 [9:50:22<62:53:51, 512.29s/it, best loss: -0.7904488722220264]"
     ]
    },
    {
     "name": "stderr",
     "output_type": "stream",
     "text": [
      "Global seed set to 1\n"
     ]
    },
    {
     "name": "stdout",
     "output_type": "stream",
     "text": [
      "{'batch_size': 1024, 'dropout1': 0.014, 'dropout2': 0.142, 'dropout3': 0.465, 'dropout4': 0.303, 'dropout5': 0.11, 'dropout6': 0.045, 'dropout7': 0.29, 'dropout8': 0.271, 'hidden_size1': 13, 'hidden_size2': 32, 'hidden_size3': 448, 'hidden_size4': 896, 'hidden_size5': 128, 'hidden_size6': 128, 'hidden_size7': 1024, 'hidden_size8': 128, 'learning_rate': 0.01, 'n_layers': 2, 'num_epochs': 10}\n",
      "0.7870698460125954                                                                                                     \n",
      " 12%|█████                                      | 59/500 [9:53:47<51:27:31, 420.07s/it, best loss: -0.7904488722220264]"
     ]
    },
    {
     "name": "stderr",
     "output_type": "stream",
     "text": [
      "Global seed set to 1\n"
     ]
    },
    {
     "name": "stdout",
     "output_type": "stream",
     "text": [
      "{'batch_size': 2560, 'dropout1': 0.247, 'dropout2': 0.439, 'dropout3': 0.259, 'dropout4': 0.228, 'dropout5': 0.256, 'dropout6': 0.27, 'dropout7': 0.325, 'dropout8': 0.498, 'hidden_size1': 37, 'hidden_size2': 256, 'hidden_size3': 256, 'hidden_size4': 512, 'hidden_size5': 512, 'hidden_size6': 64, 'hidden_size7': 256, 'hidden_size8': 64, 'learning_rate': 0.0009, 'n_layers': 4, 'num_epochs': 40}\n",
      "0.7843884931005627                                                                                                     \n",
      " 12%|█████                                     | 60/500 [10:04:39<59:50:17, 489.58s/it, best loss: -0.7904488722220264]"
     ]
    },
    {
     "name": "stderr",
     "output_type": "stream",
     "text": [
      "Global seed set to 1\n"
     ]
    },
    {
     "name": "stdout",
     "output_type": "stream",
     "text": [
      "{'batch_size': 12800, 'dropout1': 0.476, 'dropout2': 0.061, 'dropout3': 0.473, 'dropout4': 0.031, 'dropout5': 0.34, 'dropout6': 0.339, 'dropout7': 0.403, 'dropout8': 0.227, 'hidden_size1': 76, 'hidden_size2': 96, 'hidden_size3': 64, 'hidden_size4': 256, 'hidden_size5': 256, 'hidden_size6': 32, 'hidden_size7': 448, 'hidden_size8': 256, 'learning_rate': 0.0001, 'n_layers': 5, 'num_epochs': 15}\n",
      "0.7802473085321509                                                                                                     \n",
      " 12%|█████                                     | 61/500 [10:08:53<51:06:02, 419.05s/it, best loss: -0.7904488722220264]"
     ]
    },
    {
     "name": "stderr",
     "output_type": "stream",
     "text": [
      "Global seed set to 1\n"
     ]
    },
    {
     "name": "stdout",
     "output_type": "stream",
     "text": [
      "{'batch_size': 512, 'dropout1': 0.155, 'dropout2': 0.285, 'dropout3': 0.186, 'dropout4': 0.472, 'dropout5': 0.299, 'dropout6': 0.423, 'dropout7': 0.169, 'dropout8': 0.385, 'hidden_size1': 54, 'hidden_size2': 1024, 'hidden_size3': 96, 'hidden_size4': 48, 'hidden_size5': 48, 'hidden_size6': 1024, 'hidden_size7': 48, 'hidden_size8': 32, 'learning_rate': 0.0003, 'n_layers': 5, 'num_epochs': 45}\n",
      "0.7835413229455372                                                                                                     \n",
      " 12%|█████▏                                    | 62/500 [10:31:14<84:36:20, 695.39s/it, best loss: -0.7904488722220264]"
     ]
    },
    {
     "name": "stderr",
     "output_type": "stream",
     "text": [
      "Global seed set to 1\n"
     ]
    },
    {
     "name": "stdout",
     "output_type": "stream",
     "text": [
      "{'batch_size': 256, 'dropout1': 0.223, 'dropout2': 0.109, 'dropout3': 0.168, 'dropout4': 0.083, 'dropout5': 0.392, 'dropout6': 0.245, 'dropout7': 0.477, 'dropout8': 0.038, 'hidden_size1': 63, 'hidden_size2': 48, 'hidden_size3': 128, 'hidden_size4': 96, 'hidden_size5': 896, 'hidden_size6': 896, 'hidden_size7': 64, 'hidden_size8': 512, 'learning_rate': 0.04, 'n_layers': 1, 'num_epochs': 20}\n",
      "0.7856312001868401                                                                                                     \n",
      " 13%|█████▎                                    | 63/500 [10:43:12<85:14:35, 702.23s/it, best loss: -0.7904488722220264]"
     ]
    },
    {
     "name": "stderr",
     "output_type": "stream",
     "text": [
      "Global seed set to 1\n"
     ]
    },
    {
     "name": "stdout",
     "output_type": "stream",
     "text": [
      "{'batch_size': 10240, 'dropout1': 0.264, 'dropout2': 0.192, 'dropout3': 0.104, 'dropout4': 0.261, 'dropout5': 0.384, 'dropout6': 0.321, 'dropout7': 0.219, 'dropout8': 0.394, 'hidden_size1': 53, 'hidden_size2': 64, 'hidden_size3': 256, 'hidden_size4': 128, 'hidden_size5': 96, 'hidden_size6': 96, 'hidden_size7': 512, 'hidden_size8': 48, 'learning_rate': 0.0002, 'n_layers': 4, 'num_epochs': 30}\n",
      "0.7808822383166365                                                                                                     \n",
      " 13%|█████▍                                    | 64/500 [10:51:10<76:54:59, 635.09s/it, best loss: -0.7904488722220264]"
     ]
    },
    {
     "name": "stderr",
     "output_type": "stream",
     "text": [
      "Global seed set to 1\n"
     ]
    },
    {
     "name": "stdout",
     "output_type": "stream",
     "text": [
      "{'batch_size': 5120, 'dropout1': 0.308, 'dropout2': 0.018, 'dropout3': 0.162, 'dropout4': 0.151, 'dropout5': 0.368, 'dropout6': 0.287, 'dropout7': 0.352, 'dropout8': 0.317, 'hidden_size1': 44, 'hidden_size2': 32, 'hidden_size3': 32, 'hidden_size4': 1024, 'hidden_size5': 128, 'hidden_size6': 448, 'hidden_size7': 896, 'hidden_size8': 128, 'learning_rate': 0.002, 'n_layers': 5, 'num_epochs': 10}\n",
      "0.7859901180213565                                                                                                     \n",
      " 13%|█████▍                                    | 65/500 [10:54:10<60:14:17, 498.52s/it, best loss: -0.7904488722220264]"
     ]
    },
    {
     "name": "stderr",
     "output_type": "stream",
     "text": [
      "Global seed set to 1\n"
     ]
    },
    {
     "name": "stdout",
     "output_type": "stream",
     "text": [
      "{'batch_size': 2048, 'dropout1': 0.167, 'dropout2': 0.242, 'dropout3': 0.237, 'dropout4': 0.082, 'dropout5': 0.217, 'dropout6': 0.206, 'dropout7': 0.449, 'dropout8': 0.065, 'hidden_size1': 47, 'hidden_size2': 32, 'hidden_size3': 256, 'hidden_size4': 48, 'hidden_size5': 48, 'hidden_size6': 512, 'hidden_size7': 96, 'hidden_size8': 128, 'learning_rate': 0.0004, 'n_layers': 3, 'num_epochs': 10}\n",
      "0.7897202130958945                                                                                                     \n",
      " 13%|█████▌                                    | 66/500 [10:57:08<48:30:19, 402.35s/it, best loss: -0.7904488722220264]"
     ]
    },
    {
     "name": "stderr",
     "output_type": "stream",
     "text": [
      "Global seed set to 1\n"
     ]
    },
    {
     "name": "stdout",
     "output_type": "stream",
     "text": [
      "{'batch_size': 2048, 'dropout1': 0.49, 'dropout2': 0.155, 'dropout3': 0.346, 'dropout4': 0.274, 'dropout5': 0.217, 'dropout6': 0.091, 'dropout7': 0.449, 'dropout8': 0.167, 'hidden_size1': 20, 'hidden_size2': 32, 'hidden_size3': 256, 'hidden_size4': 48, 'hidden_size5': 48, 'hidden_size6': 512, 'hidden_size7': 96, 'hidden_size8': 128, 'learning_rate': 0.02, 'n_layers': 3, 'num_epochs': 10}\n",
      "0.7884645677958424                                                                                                     \n",
      " 13%|█████▋                                    | 67/500 [11:00:05<40:16:40, 334.87s/it, best loss: -0.7904488722220264]"
     ]
    },
    {
     "name": "stderr",
     "output_type": "stream",
     "text": [
      "Global seed set to 1\n"
     ]
    },
    {
     "name": "stdout",
     "output_type": "stream",
     "text": [
      "{'batch_size': 2048, 'dropout1': 0.119, 'dropout2': 0.453, 'dropout3': 0.237, 'dropout4': 0.252, 'dropout5': 0.474, 'dropout6': 0.206, 'dropout7': 0.114, 'dropout8': 0.04, 'hidden_size1': 86, 'hidden_size2': 32, 'hidden_size3': 256, 'hidden_size4': 48, 'hidden_size5': 48, 'hidden_size6': 512, 'hidden_size7': 96, 'hidden_size8': 128, 'learning_rate': 0.0004, 'n_layers': 3, 'num_epochs': 10}\n",
      "0.7898096026198463                                                                                                     \n",
      " 14%|█████▋                                    | 68/500 [11:03:03<34:31:55, 287.77s/it, best loss: -0.7904488722220264]"
     ]
    },
    {
     "name": "stderr",
     "output_type": "stream",
     "text": [
      "Global seed set to 1\n"
     ]
    },
    {
     "name": "stdout",
     "output_type": "stream",
     "text": [
      "{'batch_size': 2048, 'dropout1': 0.331, 'dropout2': 0.453, 'dropout3': 0.325, 'dropout4': 0.082, 'dropout5': 0.474, 'dropout6': 0.206, 'dropout7': 0.114, 'dropout8': 0.316, 'hidden_size1': 86, 'hidden_size2': 32, 'hidden_size3': 256, 'hidden_size4': 48, 'hidden_size5': 48, 'hidden_size6': 512, 'hidden_size7': 96, 'hidden_size8': 128, 'learning_rate': 0.0004, 'n_layers': 3, 'num_epochs': 10}\n",
      "0.7893055253768866                                                                                                     \n",
      " 14%|█████▊                                    | 69/500 [11:06:01<30:30:22, 254.81s/it, best loss: -0.7904488722220264]"
     ]
    },
    {
     "name": "stderr",
     "output_type": "stream",
     "text": [
      "Global seed set to 1\n"
     ]
    },
    {
     "name": "stdout",
     "output_type": "stream",
     "text": [
      "{'batch_size': 2048, 'dropout1': 0.406, 'dropout2': 0.288, 'dropout3': 0.237, 'dropout4': 0.252, 'dropout5': 0.462, 'dropout6': 0.024, 'dropout7': 0.496, 'dropout8': 0.04, 'hidden_size1': 92, 'hidden_size2': 32, 'hidden_size3': 256, 'hidden_size4': 48, 'hidden_size5': 48, 'hidden_size6': 512, 'hidden_size7': 96, 'hidden_size8': 128, 'learning_rate': 0.0004, 'n_layers': 3, 'num_epochs': 10}\n",
      "0.790207514499379                                                                                                      \n",
      " 14%|█████▉                                    | 70/500 [11:08:59<27:40:26, 231.69s/it, best loss: -0.7904488722220264]"
     ]
    },
    {
     "name": "stderr",
     "output_type": "stream",
     "text": [
      "Global seed set to 1\n"
     ]
    },
    {
     "name": "stdout",
     "output_type": "stream",
     "text": [
      "{'batch_size': 2048, 'dropout1': 0.119, 'dropout2': 0.234, 'dropout3': 0.203, 'dropout4': 0.269, 'dropout5': 0.264, 'dropout6': 0.352, 'dropout7': 0.426, 'dropout8': 0.184, 'hidden_size1': 7, 'hidden_size2': 32, 'hidden_size3': 256, 'hidden_size4': 48, 'hidden_size5': 48, 'hidden_size6': 512, 'hidden_size7': 96, 'hidden_size8': 128, 'learning_rate': 0.0004, 'n_layers': 3, 'num_epochs': 10}\n",
      "0.7894235099474978                                                                                                     \n",
      " 14%|█████▉                                    | 71/500 [11:11:57<25:40:34, 215.47s/it, best loss: -0.7904488722220264]"
     ]
    },
    {
     "name": "stderr",
     "output_type": "stream",
     "text": [
      "Global seed set to 1\n"
     ]
    },
    {
     "name": "stdout",
     "output_type": "stream",
     "text": [
      "{'batch_size': 2048, 'dropout1': 0.327, 'dropout2': 0.263, 'dropout3': 0.296, 'dropout4': 0.258, 'dropout5': 0.267, 'dropout6': 0.242, 'dropout7': 0.232, 'dropout8': 0.092, 'hidden_size1': 42, 'hidden_size2': 32, 'hidden_size3': 256, 'hidden_size4': 48, 'hidden_size5': 48, 'hidden_size6': 512, 'hidden_size7': 96, 'hidden_size8': 128, 'learning_rate': 0.0004, 'n_layers': 3, 'num_epochs': 10}\n",
      "0.7894284420139674                                                                                                     \n",
      " 14%|██████                                    | 72/500 [11:14:55<24:16:44, 204.21s/it, best loss: -0.7904488722220264]"
     ]
    },
    {
     "name": "stderr",
     "output_type": "stream",
     "text": [
      "Global seed set to 1\n"
     ]
    },
    {
     "name": "stdout",
     "output_type": "stream",
     "text": [
      "{'batch_size': 2048, 'dropout1': 0.005, 'dropout2': 0.179, 'dropout3': 0.436, 'dropout4': 0.436, 'dropout5': 0.436, 'dropout6': 0.188, 'dropout7': 0.336, 'dropout8': 0.306, 'hidden_size1': 92, 'hidden_size2': 32, 'hidden_size3': 256, 'hidden_size4': 48, 'hidden_size5': 48, 'hidden_size6': 512, 'hidden_size7': 96, 'hidden_size8': 128, 'learning_rate': 0.0006, 'n_layers': 3, 'num_epochs': 10}\n",
      "0.7881516603386183                                                                                                     \n",
      " 15%|██████▏                                   | 73/500 [11:17:52<23:16:48, 196.27s/it, best loss: -0.7904488722220264]"
     ]
    },
    {
     "name": "stderr",
     "output_type": "stream",
     "text": [
      "Global seed set to 1\n"
     ]
    },
    {
     "name": "stdout",
     "output_type": "stream",
     "text": [
      "{'batch_size': 2048, 'dropout1': 0.496, 'dropout2': 0.359, 'dropout3': 0.054, 'dropout4': 0.485, 'dropout5': 0.308, 'dropout6': 0.466, 'dropout7': 0.42, 'dropout8': 0.475, 'hidden_size1': 15, 'hidden_size2': 32, 'hidden_size3': 256, 'hidden_size4': 48, 'hidden_size5': 48, 'hidden_size6': 256, 'hidden_size7': 96, 'hidden_size8': 128, 'learning_rate': 0.007, 'n_layers': 3, 'num_epochs': 10}\n",
      "0.7870020156396418                                                                                                     \n",
      " 15%|██████▏                                   | 74/500 [11:20:50<22:33:31, 190.64s/it, best loss: -0.7904488722220264]"
     ]
    },
    {
     "name": "stderr",
     "output_type": "stream",
     "text": [
      "Global seed set to 1\n"
     ]
    },
    {
     "name": "stdout",
     "output_type": "stream",
     "text": [
      "{'batch_size': 2048, 'dropout1': 0.001, 'dropout2': 0.397, 'dropout3': 0.173, 'dropout4': 0.012, 'dropout5': 0.344, 'dropout6': 0.033, 'dropout7': 0.485, 'dropout8': 0.487, 'hidden_size1': 48, 'hidden_size2': 32, 'hidden_size3': 896, 'hidden_size4': 48, 'hidden_size5': 48, 'hidden_size6': 512, 'hidden_size7': 128, 'hidden_size8': 128, 'learning_rate': 0.03, 'n_layers': 3, 'num_epochs': 10}\n",
      "0.7893502029084114                                                                                                     \n",
      " 15%|██████▎                                   | 75/500 [11:23:48<22:04:25, 186.98s/it, best loss: -0.7904488722220264]"
     ]
    },
    {
     "name": "stderr",
     "output_type": "stream",
     "text": [
      "Global seed set to 1\n"
     ]
    },
    {
     "name": "stdout",
     "output_type": "stream",
     "text": [
      "{'batch_size': 2048, 'dropout1': 0.11, 'dropout2': 0.062, 'dropout3': 0.237, 'dropout4': 0.482, 'dropout5': 0.295, 'dropout6': 0.06, 'dropout7': 0.357, 'dropout8': 0.259, 'hidden_size1': 52, 'hidden_size2': 128, 'hidden_size3': 256, 'hidden_size4': 32, 'hidden_size5': 1024, 'hidden_size6': 48, 'hidden_size7': 96, 'hidden_size8': 896, 'learning_rate': 0.0004, 'n_layers': 3, 'num_epochs': 50}\n",
      "0.7839465674813928                                                                                                     \n",
      " 15%|██████▍                                   | 76/500 [11:36:59<43:22:07, 368.23s/it, best loss: -0.7904488722220264]"
     ]
    },
    {
     "name": "stderr",
     "output_type": "stream",
     "text": [
      "Global seed set to 1\n"
     ]
    },
    {
     "name": "stdout",
     "output_type": "stream",
     "text": [
      "{'batch_size': 1024, 'dropout1': 0.156, 'dropout2': 0.198, 'dropout3': 0.353, 'dropout4': 0.16, 'dropout5': 0.111, 'dropout6': 0.333, 'dropout7': 0.22, 'dropout8': 0.04, 'hidden_size1': 92, 'hidden_size2': 512, 'hidden_size3': 48, 'hidden_size4': 448, 'hidden_size5': 48, 'hidden_size6': 64, 'hidden_size7': 32, 'hidden_size8': 448, 'learning_rate': 0.0008, 'n_layers': 3, 'num_epochs': 10}\n",
      "0.7868634676423027                                                                                                     \n",
      " 15%|██████▍                                   | 77/500 [11:40:33<37:48:12, 321.73s/it, best loss: -0.7904488722220264]"
     ]
    },
    {
     "name": "stderr",
     "output_type": "stream",
     "text": [
      "Global seed set to 1\n"
     ]
    },
    {
     "name": "stdout",
     "output_type": "stream",
     "text": [
      "{'batch_size': 4096, 'dropout1': 0.077, 'dropout2': 0.127, 'dropout3': 0.206, 'dropout4': 0.241, 'dropout5': 0.03, 'dropout6': 0.474, 'dropout7': 0.045, 'dropout8': 0.328, 'hidden_size1': 17, 'hidden_size2': 32, 'hidden_size3': 256, 'hidden_size4': 48, 'hidden_size5': 448, 'hidden_size6': 512, 'hidden_size7': 1024, 'hidden_size8': 96, 'learning_rate': 0.0007, 'n_layers': 3, 'num_epochs': 35}\n",
      "0.7839119717777769                                                                                                     \n",
      " 16%|██████▌                                   | 78/500 [11:49:45<45:49:18, 390.90s/it, best loss: -0.7904488722220264]"
     ]
    },
    {
     "name": "stderr",
     "output_type": "stream",
     "text": [
      "Global seed set to 1\n"
     ]
    },
    {
     "name": "stdout",
     "output_type": "stream",
     "text": [
      "{'batch_size': 128, 'dropout1': 0.254, 'dropout2': 0.272, 'dropout3': 0.357, 'dropout4': 0.075, 'dropout5': 0.406, 'dropout6': 0.322, 'dropout7': 0.071, 'dropout8': 0.04, 'hidden_size1': 86, 'hidden_size2': 896, 'hidden_size3': 512, 'hidden_size4': 48, 'hidden_size5': 64, 'hidden_size6': 512, 'hidden_size7': 96, 'hidden_size8': 128, 'learning_rate': 0.001, 'n_layers': 2, 'num_epochs': 5}\n",
      "0.783652866310708                                                                                                      \n",
      " 16%|██████▋                                   | 79/500 [11:55:44<44:36:03, 381.39s/it, best loss: -0.7904488722220264]"
     ]
    },
    {
     "name": "stderr",
     "output_type": "stream",
     "text": [
      "Global seed set to 1\n"
     ]
    },
    {
     "name": "stdout",
     "output_type": "stream",
     "text": [
      "{'batch_size': 2560, 'dropout1': 0.26, 'dropout2': 0.081, 'dropout3': 0.305, 'dropout4': 0.158, 'dropout5': 0.351, 'dropout6': 0.09, 'dropout7': 0.323, 'dropout8': 0.375, 'hidden_size1': 26, 'hidden_size2': 448, 'hidden_size3': 1024, 'hidden_size4': 64, 'hidden_size5': 32, 'hidden_size6': 96, 'hidden_size7': 48, 'hidden_size8': 1024, 'learning_rate': 0.0005, 'n_layers': 3, 'num_epochs': 40}\n",
      "0.7808808967181037                                                                                                     \n",
      " 16%|██████▋                                   | 80/500 [12:06:11<53:05:34, 455.08s/it, best loss: -0.7904488722220264]"
     ]
    },
    {
     "name": "stderr",
     "output_type": "stream",
     "text": [
      "Global seed set to 1\n"
     ]
    },
    {
     "name": "stdout",
     "output_type": "stream",
     "text": [
      "{'batch_size': 2048, 'dropout1': 0.354, 'dropout2': 0.433, 'dropout3': 0.232, 'dropout4': 0.063, 'dropout5': 0.006, 'dropout6': 0.452, 'dropout7': 0.008, 'dropout8': 0.476, 'hidden_size1': 61, 'hidden_size2': 32, 'hidden_size3': 256, 'hidden_size4': 256, 'hidden_size5': 48, 'hidden_size6': 128, 'hidden_size7': 32, 'hidden_size8': 256, 'learning_rate': 0.0003, 'n_layers': 3, 'num_epochs': 10}\n",
      "0.7902869024328263                                                                                                     \n",
      " 16%|██████▊                                   | 81/500 [12:09:09<43:17:22, 371.94s/it, best loss: -0.7904488722220264]"
     ]
    },
    {
     "name": "stderr",
     "output_type": "stream",
     "text": [
      "Global seed set to 1\n"
     ]
    },
    {
     "name": "stdout",
     "output_type": "stream",
     "text": [
      "{'batch_size': 512, 'dropout1': 0.354, 'dropout2': 0.06, 'dropout3': 0.387, 'dropout4': 0.34, 'dropout5': 0.002, 'dropout6': 0.198, 'dropout7': 0.199, 'dropout8': 0.361, 'hidden_size1': 96, 'hidden_size2': 256, 'hidden_size3': 128, 'hidden_size4': 256, 'hidden_size5': 256, 'hidden_size6': 128, 'hidden_size7': 32, 'hidden_size8': 256, 'learning_rate': 0.0003, 'n_layers': 1, 'num_epochs': 15}\n",
      "0.7871961447450613                                                                                                     \n",
      " 16%|██████▉                                   | 82/500 [12:15:13<42:53:27, 369.40s/it, best loss: -0.7904488722220264]"
     ]
    },
    {
     "name": "stderr",
     "output_type": "stream",
     "text": [
      "Global seed set to 1\n"
     ]
    },
    {
     "name": "stdout",
     "output_type": "stream",
     "text": [
      "{'batch_size': 2560, 'dropout1': 0.296, 'dropout2': 0.302, 'dropout3': 0.198, 'dropout4': 0.355, 'dropout5': 0.371, 'dropout6': 0.024, 'dropout7': 0.423, 'dropout8': 0.441, 'hidden_size1': 73, 'hidden_size2': 96, 'hidden_size3': 96, 'hidden_size4': 256, 'hidden_size5': 48, 'hidden_size6': 128, 'hidden_size7': 32, 'hidden_size8': 256, 'learning_rate': 0.0003, 'n_layers': 3, 'num_epochs': 45}\n",
      "0.7860378376360422                                                                                                     \n",
      " 17%|██████▉                                   | 83/500 [12:27:01<54:34:36, 471.17s/it, best loss: -0.7904488722220264]"
     ]
    },
    {
     "name": "stderr",
     "output_type": "stream",
     "text": [
      "Global seed set to 1\n"
     ]
    },
    {
     "name": "stdout",
     "output_type": "stream",
     "text": [
      "{'batch_size': 256, 'dropout1': 0.43, 'dropout2': 0.306, 'dropout3': 0.439, 'dropout4': 0.148, 'dropout5': 0.282, 'dropout6': 0.413, 'dropout7': 0.256, 'dropout8': 0.401, 'hidden_size1': 61, 'hidden_size2': 48, 'hidden_size3': 64, 'hidden_size4': 256, 'hidden_size5': 512, 'hidden_size6': 128, 'hidden_size7': 32, 'hidden_size8': 256, 'learning_rate': 0.0003, 'n_layers': 2, 'num_epochs': 20}\n",
      "0.7844378001167106                                                                                                     \n",
      " 17%|███████                                   | 84/500 [12:40:27<66:02:47, 571.56s/it, best loss: -0.7904488722220264]"
     ]
    },
    {
     "name": "stderr",
     "output_type": "stream",
     "text": [
      "Global seed set to 1\n"
     ]
    },
    {
     "name": "stdout",
     "output_type": "stream",
     "text": [
      "{'batch_size': 10240, 'dropout1': 0.088, 'dropout2': 0.161, 'dropout3': 0.261, 'dropout4': 0.035, 'dropout5': 0.115, 'dropout6': 0.088, 'dropout7': 0.008, 'dropout8': 0.099, 'hidden_size1': 97, 'hidden_size2': 128, 'hidden_size3': 32, 'hidden_size4': 256, 'hidden_size5': 896, 'hidden_size6': 128, 'hidden_size7': 32, 'hidden_size8': 256, 'learning_rate': 0.005, 'n_layers': 4, 'num_epochs': 30}\n",
      "0.7885976339622337                                                                                                     \n",
      " 17%|███████▏                                  | 85/500 [12:48:41<63:12:12, 548.27s/it, best loss: -0.7904488722220264]"
     ]
    },
    {
     "name": "stderr",
     "output_type": "stream",
     "text": [
      "Global seed set to 1\n"
     ]
    },
    {
     "name": "stdout",
     "output_type": "stream",
     "text": [
      "{'batch_size': 2048, 'dropout1': 0.406, 'dropout2': 0.433, 'dropout3': 0.317, 'dropout4': 0.281, 'dropout5': 0.461, 'dropout6': 0.452, 'dropout7': 0.427, 'dropout8': 0.356, 'hidden_size1': 22, 'hidden_size2': 32, 'hidden_size3': 896, 'hidden_size4': 256, 'hidden_size5': 1024, 'hidden_size6': 128, 'hidden_size7': 32, 'hidden_size8': 256, 'learning_rate': 0.009, 'n_layers': 3, 'num_epochs': 10}\n",
      "0.7900825963757735                                                                                                     \n",
      " 17%|███████▏                                  | 86/500 [12:51:44<50:27:41, 438.80s/it, best loss: -0.7904488722220264]"
     ]
    },
    {
     "name": "stderr",
     "output_type": "stream",
     "text": [
      "Global seed set to 1\n"
     ]
    },
    {
     "name": "stdout",
     "output_type": "stream",
     "text": [
      "{'batch_size': 5120, 'dropout1': 0.451, 'dropout2': 0.077, 'dropout3': 0.001, 'dropout4': 0.094, 'dropout5': 0.006, 'dropout6': 0.012, 'dropout7': 0.496, 'dropout8': 0.476, 'hidden_size1': 61, 'hidden_size2': 1024, 'hidden_size3': 256, 'hidden_size4': 96, 'hidden_size5': 96, 'hidden_size6': 64, 'hidden_size7': 256, 'hidden_size8': 512, 'learning_rate': 0.004, 'n_layers': 1, 'num_epochs': 35}\n",
      "0.7415598320247838                                                                                                     \n",
      " 17%|███████▎                                  | 87/500 [13:00:46<53:53:34, 469.77s/it, best loss: -0.7904488722220264]"
     ]
    },
    {
     "name": "stderr",
     "output_type": "stream",
     "text": [
      "Global seed set to 1\n"
     ]
    },
    {
     "name": "stdout",
     "output_type": "stream",
     "text": [
      "{'batch_size': 4096, 'dropout1': 0.164, 'dropout2': 0.037, 'dropout3': 0.114, 'dropout4': 0.171, 'dropout5': 0.374, 'dropout6': 0.254, 'dropout7': 0.254, 'dropout8': 0.095, 'hidden_size1': 6, 'hidden_size2': 512, 'hidden_size3': 48, 'hidden_size4': 128, 'hidden_size5': 48, 'hidden_size6': 1024, 'hidden_size7': 64, 'hidden_size8': 48, 'learning_rate': 0.008, 'n_layers': 3, 'num_epochs': 50}\n",
      "0.7845192345774061                                                                                                     \n",
      " 18%|███████▍                                  | 88/500 [13:13:46<64:24:50, 562.84s/it, best loss: -0.7904488722220264]"
     ]
    },
    {
     "name": "stderr",
     "output_type": "stream",
     "text": [
      "Global seed set to 1\n"
     ]
    },
    {
     "name": "stdout",
     "output_type": "stream",
     "text": [
      "{'batch_size': 2560, 'dropout1': 0.14, 'dropout2': 0.393, 'dropout3': 0.206, 'dropout4': 0.41, 'dropout5': 0.155, 'dropout6': 0.456, 'dropout7': 0.264, 'dropout8': 0.476, 'hidden_size1': 8, 'hidden_size2': 32, 'hidden_size3': 256, 'hidden_size4': 512, 'hidden_size5': 448, 'hidden_size6': 256, 'hidden_size7': 512, 'hidden_size8': 32, 'learning_rate': 0.0003, 'n_layers': 2, 'num_epochs': 10}\n",
      "0.7896553106895448                                                                                                     \n",
      " 18%|███████▍                                  | 89/500 [13:16:39<50:53:12, 445.72s/it, best loss: -0.7904488722220264]"
     ]
    },
    {
     "name": "stderr",
     "output_type": "stream",
     "text": [
      "Global seed set to 1\n"
     ]
    },
    {
     "name": "stdout",
     "output_type": "stream",
     "text": [
      "{'batch_size': 1024, 'dropout1': 0.026, 'dropout2': 0.288, 'dropout3': 0.421, 'dropout4': 0.253, 'dropout5': 0.472, 'dropout6': 0.018, 'dropout7': 0.122, 'dropout8': 0.23, 'hidden_size1': 14, 'hidden_size2': 896, 'hidden_size3': 512, 'hidden_size4': 1024, 'hidden_size5': 64, 'hidden_size6': 896, 'hidden_size7': 896, 'hidden_size8': 896, 'learning_rate': 0.006, 'n_layers': 4, 'num_epochs': 5}\n",
      "0.7856471236608892                                                                                                     \n",
      " 18%|███████▌                                  | 90/500 [13:18:42<39:43:43, 348.84s/it, best loss: -0.7904488722220264]"
     ]
    },
    {
     "name": "stderr",
     "output_type": "stream",
     "text": [
      "Global seed set to 1\n"
     ]
    },
    {
     "name": "stdout",
     "output_type": "stream",
     "text": [
      "{'batch_size': 128, 'dropout1': 0.304, 'dropout2': 0.471, 'dropout3': 0.306, 'dropout4': 0.223, 'dropout5': 0.418, 'dropout6': 0.483, 'dropout7': 0.456, 'dropout8': 0.108, 'hidden_size1': 62, 'hidden_size2': 256, 'hidden_size3': 1024, 'hidden_size4': 32, 'hidden_size5': 32, 'hidden_size6': 128, 'hidden_size7': 128, 'hidden_size8': 448, 'learning_rate': 0.01, 'n_layers': 3, 'num_epochs': 40}\n",
      "0.7803164300327209                                                                                                     \n",
      " 18%|███████▎                                | 91/500 [14:07:13<126:58:32, 1117.63s/it, best loss: -0.7904488722220264]"
     ]
    },
    {
     "name": "stderr",
     "output_type": "stream",
     "text": [
      "Global seed set to 1\n"
     ]
    },
    {
     "name": "stdout",
     "output_type": "stream",
     "text": [
      "{'batch_size': 2048, 'dropout1': 0.213, 'dropout2': 0.286, 'dropout3': 0.428, 'dropout4': 0.364, 'dropout5': 0.413, 'dropout6': 0.133, 'dropout7': 0.376, 'dropout8': 0.072, 'hidden_size1': 88, 'hidden_size2': 448, 'hidden_size3': 256, 'hidden_size4': 256, 'hidden_size5': 48, 'hidden_size6': 48, 'hidden_size7': 32, 'hidden_size8': 256, 'learning_rate': 0.003, 'n_layers': 3, 'num_epochs': 10}\n",
      "0.7887047628066413                                                                                                     \n",
      " 18%|███████▋                                  | 92/500 [14:10:11<94:42:58, 835.73s/it, best loss: -0.7904488722220264]"
     ]
    },
    {
     "name": "stderr",
     "output_type": "stream",
     "text": [
      "Global seed set to 1\n"
     ]
    },
    {
     "name": "stdout",
     "output_type": "stream",
     "text": [
      "{'batch_size': 2560, 'dropout1': 0.206, 'dropout2': 0.042, 'dropout3': 0.232, 'dropout4': 0.063, 'dropout5': 0.232, 'dropout6': 0.343, 'dropout7': 0.127, 'dropout8': 0.01, 'hidden_size1': 18, 'hidden_size2': 32, 'hidden_size3': 64, 'hidden_size4': 448, 'hidden_size5': 256, 'hidden_size6': 448, 'hidden_size7': 1024, 'hidden_size8': 96, 'learning_rate': 0.0001, 'n_layers': 1, 'num_epochs': 45}\n",
      "0.7882486119865855                                                                                                     \n",
      " 19%|███████▊                                  | 93/500 [14:21:22<88:54:45, 786.45s/it, best loss: -0.7904488722220264]"
     ]
    },
    {
     "name": "stderr",
     "output_type": "stream",
     "text": [
      "Global seed set to 1\n"
     ]
    },
    {
     "name": "stdout",
     "output_type": "stream",
     "text": [
      "{'batch_size': 512, 'dropout1': 0.046, 'dropout2': 0.093, 'dropout3': 0.389, 'dropout4': 0.419, 'dropout5': 0.498, 'dropout6': 0.485, 'dropout7': 0.002, 'dropout8': 0.393, 'hidden_size1': 67, 'hidden_size2': 96, 'hidden_size3': 96, 'hidden_size4': 64, 'hidden_size5': 48, 'hidden_size6': 64, 'hidden_size7': 32, 'hidden_size8': 1024, 'learning_rate': 0.0002, 'n_layers': 5, 'num_epochs': 15}\n",
      "0.7867069406129985                                                                                                     \n",
      " 19%|███████▉                                  | 94/500 [14:29:05<77:44:08, 689.28s/it, best loss: -0.7904488722220264]"
     ]
    },
    {
     "name": "stderr",
     "output_type": "stream",
     "text": [
      "Global seed set to 1\n"
     ]
    },
    {
     "name": "stdout",
     "output_type": "stream",
     "text": [
      "{'batch_size': 256, 'dropout1': 0.397, 'dropout2': 0.035, 'dropout3': 0.046, 'dropout4': 0.484, 'dropout5': 0.001, 'dropout6': 0.121, 'dropout7': 0.422, 'dropout8': 0.21, 'hidden_size1': 19, 'hidden_size2': 48, 'hidden_size3': 128, 'hidden_size4': 512, 'hidden_size5': 512, 'hidden_size6': 64, 'hidden_size7': 256, 'hidden_size8': 256, 'learning_rate': 0.0009, 'n_layers': 2, 'num_epochs': 20}\n",
      "0.7799132132959592                                                                                                     \n",
      " 19%|███████▉                                  | 95/500 [14:42:07<80:39:48, 717.01s/it, best loss: -0.7904488722220264]"
     ]
    },
    {
     "name": "stderr",
     "output_type": "stream",
     "text": [
      "Global seed set to 1\n"
     ]
    },
    {
     "name": "stdout",
     "output_type": "stream",
     "text": [
      "{'batch_size': 10240, 'dropout1': 0.409, 'dropout2': 0.181, 'dropout3': 0.071, 'dropout4': 0.408, 'dropout5': 0.183, 'dropout6': 0.135, 'dropout7': 0.042, 'dropout8': 0.325, 'hidden_size1': 100, 'hidden_size2': 1024, 'hidden_size3': 32, 'hidden_size4': 96, 'hidden_size5': 896, 'hidden_size6': 1024, 'hidden_size7': 48, 'hidden_size8': 48, 'learning_rate': 0.0003, 'n_layers': 4, 'num_epochs': 30}\n",
      "0.7882617159763825                                                                                                     \n",
      " 19%|████████                                  | 96/500 [14:50:07<72:29:11, 645.92s/it, best loss: -0.7904488722220264]"
     ]
    },
    {
     "name": "stderr",
     "output_type": "stream",
     "text": [
      "Global seed set to 1\n"
     ]
    },
    {
     "name": "stdout",
     "output_type": "stream",
     "text": [
      "{'batch_size': 2048, 'dropout1': 0.354, 'dropout2': 0.334, 'dropout3': 0.232, 'dropout4': 0.063, 'dropout5': 0.431, 'dropout6': 0.249, 'dropout7': 0.308, 'dropout8': 0.142, 'hidden_size1': 51, 'hidden_size2': 32, 'hidden_size3': 256, 'hidden_size4': 128, 'hidden_size5': 96, 'hidden_size6': 96, 'hidden_size7': 32, 'hidden_size8': 512, 'learning_rate': 0.02, 'n_layers': 3, 'num_epochs': 10}\n",
      "0.7893979549842436                                                                                                     \n",
      " 19%|████████▏                                 | 97/500 [14:53:04<56:34:48, 505.43s/it, best loss: -0.7904488722220264]"
     ]
    },
    {
     "name": "stderr",
     "output_type": "stream",
     "text": [
      "Global seed set to 1\n"
     ]
    },
    {
     "name": "stdout",
     "output_type": "stream",
     "text": [
      "{'batch_size': 5120, 'dropout1': 0.065, 'dropout2': 0.448, 'dropout3': 0.447, 'dropout4': 0.218, 'dropout5': 0.038, 'dropout6': 0.171, 'dropout7': 0.051, 'dropout8': 0.494, 'hidden_size1': 50, 'hidden_size2': 128, 'hidden_size3': 896, 'hidden_size4': 256, 'hidden_size5': 1024, 'hidden_size6': 128, 'hidden_size7': 64, 'hidden_size8': 32, 'learning_rate': 0.002, 'n_layers': 5, 'num_epochs': 35}\n",
      "0.7884955907634463                                                                                                     \n",
      " 20%|████████▏                                 | 98/500 [15:02:29<58:24:41, 523.09s/it, best loss: -0.7904488722220264]"
     ]
    },
    {
     "name": "stderr",
     "output_type": "stream",
     "text": [
      "Global seed set to 1\n"
     ]
    },
    {
     "name": "stdout",
     "output_type": "stream",
     "text": [
      "{'batch_size': 2560, 'dropout1': 0.329, 'dropout2': 0.054, 'dropout3': 0.089, 'dropout4': 0.428, 'dropout5': 0.197, 'dropout6': 0.152, 'dropout7': 0.324, 'dropout8': 0.032, 'hidden_size1': 81, 'hidden_size2': 32, 'hidden_size3': 256, 'hidden_size4': 32, 'hidden_size5': 48, 'hidden_size6': 256, 'hidden_size7': 512, 'hidden_size8': 448, 'learning_rate': 0.0007, 'n_layers': 3, 'num_epochs': 10}\n",
      "0.7890108593579516                                                                                                     \n",
      " 20%|████████▎                                 | 99/500 [15:05:24<46:38:57, 418.80s/it, best loss: -0.7904488722220264]"
     ]
    },
    {
     "name": "stderr",
     "output_type": "stream",
     "text": [
      "Global seed set to 1\n"
     ]
    },
    {
     "name": "stdout",
     "output_type": "stream",
     "text": [
      "{'batch_size': 4096, 'dropout1': 0.035, 'dropout2': 0.349, 'dropout3': 0.277, 'dropout4': 0.285, 'dropout5': 0.309, 'dropout6': 0.129, 'dropout7': 0.247, 'dropout8': 0.326, 'hidden_size1': 80, 'hidden_size2': 896, 'hidden_size3': 48, 'hidden_size4': 1024, 'hidden_size5': 448, 'hidden_size6': 896, 'hidden_size7': 128, 'hidden_size8': 896, 'learning_rate': 0.0006, 'n_layers': 1, 'num_epochs': 50}\n",
      "0.7888769582508349                                                                                                     \n",
      " 20%|████████▏                                | 100/500 [15:17:58<57:41:40, 519.25s/it, best loss: -0.7904488722220264]"
     ]
    },
    {
     "name": "stderr",
     "output_type": "stream",
     "text": [
      "Global seed set to 1\n"
     ]
    },
    {
     "name": "stdout",
     "output_type": "stream",
     "text": [
      "{'batch_size': 1024, 'dropout1': 0.309, 'dropout2': 0.001, 'dropout3': 0.453, 'dropout4': 0.004, 'dropout5': 0.499, 'dropout6': 0.182, 'dropout7': 0.381, 'dropout8': 0.185, 'hidden_size1': 70, 'hidden_size2': 512, 'hidden_size3': 256, 'hidden_size4': 448, 'hidden_size5': 48, 'hidden_size6': 448, 'hidden_size7': 32, 'hidden_size8': 96, 'learning_rate': 0.001, 'n_layers': 5, 'num_epochs': 5}\n",
      "0.7853705854400967                                                                                                     \n",
      " 20%|████████▎                                | 101/500 [15:20:04<44:28:49, 401.33s/it, best loss: -0.7904488722220264]"
     ]
    },
    {
     "name": "stderr",
     "output_type": "stream",
     "text": [
      "Global seed set to 1\n"
     ]
    },
    {
     "name": "stdout",
     "output_type": "stream",
     "text": [
      "{'batch_size': 128, 'dropout1': 0.462, 'dropout2': 0.435, 'dropout3': 0.184, 'dropout4': 0.312, 'dropout5': 0.383, 'dropout6': 0.203, 'dropout7': 0.315, 'dropout8': 0.213, 'hidden_size1': 33, 'hidden_size2': 32, 'hidden_size3': 512, 'hidden_size4': 256, 'hidden_size5': 32, 'hidden_size6': 48, 'hidden_size7': 1024, 'hidden_size8': 256, 'learning_rate': 0.007, 'n_layers': 3, 'num_epochs': 10}\n",
      "0.7874930997785532                                                                                                     \n",
      " 20%|████████▎                                | 102/500 [15:32:36<55:59:31, 506.46s/it, best loss: -0.7904488722220264]"
     ]
    },
    {
     "name": "stderr",
     "output_type": "stream",
     "text": [
      "Global seed set to 1\n"
     ]
    },
    {
     "name": "stdout",
     "output_type": "stream",
     "text": [
      "{'batch_size': 2048, 'dropout1': 0.172, 'dropout2': 0.027, 'dropout3': 0.493, 'dropout4': 0.267, 'dropout5': 0.037, 'dropout6': 0.024, 'dropout7': 0.333, 'dropout8': 0.064, 'hidden_size1': 41, 'hidden_size2': 256, 'hidden_size3': 256, 'hidden_size4': 64, 'hidden_size5': 64, 'hidden_size6': 64, 'hidden_size7': 896, 'hidden_size8': 128, 'learning_rate': 0.0005, 'n_layers': 4, 'num_epochs': 40}\n",
      "0.7895928150131452                                                                                                     \n",
      " 21%|████████▍                                | 103/500 [15:43:30<60:45:19, 550.93s/it, best loss: -0.7904488722220264]"
     ]
    },
    {
     "name": "stderr",
     "output_type": "stream",
     "text": [
      "Global seed set to 1\n"
     ]
    },
    {
     "name": "stdout",
     "output_type": "stream",
     "text": [
      "{'batch_size': 2048, 'dropout1': 0.027, 'dropout2': 0.388, 'dropout3': 0.128, 'dropout4': 0.162, 'dropout5': 0.003, 'dropout6': 0.22, 'dropout7': 0.145, 'dropout8': 0.33, 'hidden_size1': 38, 'hidden_size2': 32, 'hidden_size3': 1024, 'hidden_size4': 48, 'hidden_size5': 48, 'hidden_size6': 128, 'hidden_size7': 32, 'hidden_size8': 1024, 'learning_rate': 0.03, 'n_layers': 2, 'num_epochs': 10}\n",
      "0.7875774148054864                                                                                                     \n",
      " 21%|████████▌                                | 104/500 [15:46:24<48:08:21, 437.63s/it, best loss: -0.7904488722220264]"
     ]
    },
    {
     "name": "stderr",
     "output_type": "stream",
     "text": [
      "Global seed set to 1\n"
     ]
    },
    {
     "name": "stdout",
     "output_type": "stream",
     "text": [
      "{'batch_size': 2560, 'dropout1': 0.394, 'dropout2': 0.387, 'dropout3': 0.157, 'dropout4': 0.13, 'dropout5': 0.13, 'dropout6': 0.392, 'dropout7': 0.477, 'dropout8': 0.331, 'hidden_size1': 75, 'hidden_size2': 448, 'hidden_size3': 64, 'hidden_size4': 512, 'hidden_size5': 256, 'hidden_size6': 64, 'hidden_size7': 256, 'hidden_size8': 128, 'learning_rate': 0.0008, 'n_layers': 5, 'num_epochs': 15}\n",
      "0.7895562783547501                                                                                                     \n",
      " 21%|████████▌                                | 105/500 [15:50:46<42:14:20, 384.96s/it, best loss: -0.7904488722220264]"
     ]
    },
    {
     "name": "stderr",
     "output_type": "stream",
     "text": [
      "Global seed set to 1\n"
     ]
    },
    {
     "name": "stdout",
     "output_type": "stream",
     "text": [
      "{'batch_size': 10240, 'dropout1': 0.265, 'dropout2': 0.417, 'dropout3': 0.398, 'dropout4': 0.332, 'dropout5': 0.249, 'dropout6': 0.302, 'dropout7': 0.339, 'dropout8': 0.378, 'hidden_size1': 64, 'hidden_size2': 96, 'hidden_size3': 96, 'hidden_size4': 96, 'hidden_size5': 48, 'hidden_size6': 1024, 'hidden_size7': 48, 'hidden_size8': 48, 'learning_rate': 0.0003, 'n_layers': 3, 'num_epochs': 45}\n",
      "0.7893467097606015                                                                                                     \n",
      " 21%|████████▋                                | 106/500 [16:02:28<52:33:45, 480.27s/it, best loss: -0.7904488722220264]"
     ]
    },
    {
     "name": "stderr",
     "output_type": "stream",
     "text": [
      "Global seed set to 1\n"
     ]
    },
    {
     "name": "stdout",
     "output_type": "stream",
     "text": [
      "{'batch_size': 512, 'dropout1': 0.042, 'dropout2': 0.44, 'dropout3': 0.126, 'dropout4': 0.304, 'dropout5': 0.228, 'dropout6': 0.264, 'dropout7': 0.12, 'dropout8': 0.474, 'hidden_size1': 84, 'hidden_size2': 48, 'hidden_size3': 128, 'hidden_size4': 896, 'hidden_size5': 512, 'hidden_size6': 96, 'hidden_size7': 64, 'hidden_size8': 32, 'learning_rate': 0.009, 'n_layers': 3, 'num_epochs': 25}\n",
      "0.7835170423302269                                                                                                     \n",
      " 21%|████████▊                                | 107/500 [16:13:44<58:50:37, 539.03s/it, best loss: -0.7904488722220264]"
     ]
    },
    {
     "name": "stderr",
     "output_type": "stream",
     "text": [
      "Global seed set to 1\n"
     ]
    },
    {
     "name": "stdout",
     "output_type": "stream",
     "text": [
      "{'batch_size': 256, 'dropout1': 0.379, 'dropout2': 0.423, 'dropout3': 0.478, 'dropout4': 0.473, 'dropout5': 0.435, 'dropout6': 0.465, 'dropout7': 0.474, 'dropout8': 0.148, 'hidden_size1': 35, 'hidden_size2': 32, 'hidden_size3': 32, 'hidden_size4': 128, 'hidden_size5': 896, 'hidden_size6': 256, 'hidden_size7': 512, 'hidden_size8': 512, 'learning_rate': 0.005, 'n_layers': 5, 'num_epochs': 20}\n",
      "0.7815467006703273                                                                                                     \n",
      " 22%|████████▊                                | 108/500 [16:30:13<73:21:45, 673.74s/it, best loss: -0.7904488722220264]"
     ]
    },
    {
     "name": "stderr",
     "output_type": "stream",
     "text": [
      "Global seed set to 1\n"
     ]
    },
    {
     "name": "stdout",
     "output_type": "stream",
     "text": [
      "{'batch_size': 2048, 'dropout1': 0.028, 'dropout2': 0.356, 'dropout3': 0.233, 'dropout4': 0.287, 'dropout5': 0.254, 'dropout6': 0.312, 'dropout7': 0.455, 'dropout8': 0.008, 'hidden_size1': 72, 'hidden_size2': 1024, 'hidden_size3': 448, 'hidden_size4': 48, 'hidden_size5': 96, 'hidden_size6': 448, 'hidden_size7': 32, 'hidden_size8': 64, 'learning_rate': 0.004, 'n_layers': 1, 'num_epochs': 10}\n",
      "0.7897055946970156                                                                                                     \n",
      " 22%|████████▉                                | 109/500 [16:33:02<56:44:47, 522.47s/it, best loss: -0.7904488722220264]"
     ]
    },
    {
     "name": "stderr",
     "output_type": "stream",
     "text": [
      "Global seed set to 1\n"
     ]
    },
    {
     "name": "stdout",
     "output_type": "stream",
     "text": [
      "{'batch_size': 12800, 'dropout1': 0.084, 'dropout2': 0.063, 'dropout3': 0.274, 'dropout4': 0.174, 'dropout5': 0.079, 'dropout6': 0.437, 'dropout7': 0.204, 'dropout8': 0.153, 'hidden_size1': 34, 'hidden_size2': 128, 'hidden_size3': 256, 'hidden_size4': 1024, 'hidden_size5': 48, 'hidden_size6': 32, 'hidden_size7': 448, 'hidden_size8': 128, 'learning_rate': 0.01, 'n_layers': 3, 'num_epochs': 30}\n",
      "0.7895133385710548                                                                                                     \n",
      " 22%|█████████                                | 110/500 [16:41:00<55:09:57, 509.22s/it, best loss: -0.7904488722220264]"
     ]
    },
    {
     "name": "stderr",
     "output_type": "stream",
     "text": [
      "Global seed set to 1\n"
     ]
    },
    {
     "name": "stdout",
     "output_type": "stream",
     "text": [
      "{'batch_size': 5120, 'dropout1': 0.175, 'dropout2': 0.48, 'dropout3': 0.347, 'dropout4': 0.322, 'dropout5': 0.165, 'dropout6': 0.013, 'dropout7': 0.437, 'dropout8': 0.188, 'hidden_size1': 56, 'hidden_size2': 32, 'hidden_size3': 896, 'hidden_size4': 256, 'hidden_size5': 1024, 'hidden_size6': 896, 'hidden_size7': 896, 'hidden_size8': 256, 'learning_rate': 0.008, 'n_layers': 5, 'num_epochs': 10}\n",
      "0.789030619189315                                                                                                      \n",
      " 22%|█████████                                | 111/500 [16:44:00<44:20:54, 410.42s/it, best loss: -0.7904488722220264]"
     ]
    },
    {
     "name": "stderr",
     "output_type": "stream",
     "text": [
      "Global seed set to 1\n"
     ]
    },
    {
     "name": "stdout",
     "output_type": "stream",
     "text": [
      "{'batch_size': 2560, 'dropout1': 0.312, 'dropout2': 0.078, 'dropout3': 0.388, 'dropout4': 0.093, 'dropout5': 0.357, 'dropout6': 0.273, 'dropout7': 0.126, 'dropout8': 0.063, 'hidden_size1': 58, 'hidden_size2': 512, 'hidden_size3': 256, 'hidden_size4': 48, 'hidden_size5': 48, 'hidden_size6': 128, 'hidden_size7': 128, 'hidden_size8': 896, 'learning_rate': 0.006, 'n_layers': 4, 'num_epochs': 35}\n",
      "0.7892535148918476                                                                                                     \n",
      " 22%|█████████▏                               | 112/500 [16:53:25<49:13:57, 456.80s/it, best loss: -0.7904488722220264]"
     ]
    },
    {
     "name": "stderr",
     "output_type": "stream",
     "text": [
      "Global seed set to 1\n"
     ]
    },
    {
     "name": "stdout",
     "output_type": "stream",
     "text": [
      "{'batch_size': 2048, 'dropout1': 0.468, 'dropout2': 0.427, 'dropout3': 0.061, 'dropout4': 0.197, 'dropout5': 0.386, 'dropout6': 0.022, 'dropout7': 0.109, 'dropout8': 0.386, 'hidden_size1': 98, 'hidden_size2': 64, 'hidden_size3': 48, 'hidden_size4': 32, 'hidden_size5': 448, 'hidden_size6': 48, 'hidden_size7': 96, 'hidden_size8': 128, 'learning_rate': 0.0003, 'n_layers': 3, 'num_epochs': 10}\n",
      "0.7888124028166914                                                                                                     \n",
      " 23%|█████████▎                               | 113/500 [16:56:23<40:06:34, 373.11s/it, best loss: -0.7904488722220264]"
     ]
    },
    {
     "name": "stderr",
     "output_type": "stream",
     "text": [
      "Global seed set to 1\n"
     ]
    },
    {
     "name": "stdout",
     "output_type": "stream",
     "text": [
      "{'batch_size': 128, 'dropout1': 0.209, 'dropout2': 0.007, 'dropout3': 0.293, 'dropout4': 0.139, 'dropout5': 0.243, 'dropout6': 0.117, 'dropout7': 0.14, 'dropout8': 0.263, 'hidden_size1': 99, 'hidden_size2': 32, 'hidden_size3': 256, 'hidden_size4': 48, 'hidden_size5': 128, 'hidden_size6': 64, 'hidden_size7': 32, 'hidden_size8': 96, 'learning_rate': 0.003, 'n_layers': 2, 'num_epochs': 50}\n",
      "0.7818292759857626                                                                                                     \n",
      " 23%|████████▉                              | 114/500 [17:51:35<134:31:37, 1254.66s/it, best loss: -0.7904488722220264]"
     ]
    },
    {
     "name": "stderr",
     "output_type": "stream",
     "text": [
      "Global seed set to 1\n"
     ]
    },
    {
     "name": "stdout",
     "output_type": "stream",
     "text": [
      "{'batch_size': 4096, 'dropout1': 0.036, 'dropout2': 0.088, 'dropout3': 0.471, 'dropout4': 0.252, 'dropout5': 0.419, 'dropout6': 0.415, 'dropout7': 0.421, 'dropout8': 0.398, 'hidden_size1': 46, 'hidden_size2': 256, 'hidden_size3': 512, 'hidden_size4': 448, 'hidden_size5': 64, 'hidden_size6': 512, 'hidden_size7': 1024, 'hidden_size8': 448, 'learning_rate': 0.0001, 'n_layers': 3, 'num_epochs': 5}\n",
      "0.7808746305634126                                                                                                     \n",
      " 23%|█████████▍                               | 115/500 [17:53:15<97:08:57, 908.41s/it, best loss: -0.7904488722220264]"
     ]
    },
    {
     "name": "stderr",
     "output_type": "stream",
     "text": [
      "Global seed set to 1\n"
     ]
    },
    {
     "name": "stdout",
     "output_type": "stream",
     "text": [
      "{'batch_size': 1024, 'dropout1': 0.078, 'dropout2': 0.205, 'dropout3': 0.4, 'dropout4': 0.1, 'dropout5': 0.225, 'dropout6': 0.238, 'dropout7': 0.093, 'dropout8': 0.125, 'hidden_size1': 93, 'hidden_size2': 896, 'hidden_size3': 256, 'hidden_size4': 256, 'hidden_size5': 32, 'hidden_size6': 128, 'hidden_size7': 32, 'hidden_size8': 128, 'learning_rate': 0.0009, 'n_layers': 5, 'num_epochs': 40}\n",
      "0.7880929533117415                                                                                                     \n",
      " 23%|█████████▌                               | 116/500 [18:07:10<94:31:59, 886.25s/it, best loss: -0.7904488722220264]"
     ]
    },
    {
     "name": "stderr",
     "output_type": "stream",
     "text": [
      "Global seed set to 1\n"
     ]
    },
    {
     "name": "stdout",
     "output_type": "stream",
     "text": [
      "{'batch_size': 2048, 'dropout1': 0.406, 'dropout2': 0.028, 'dropout3': 0.468, 'dropout4': 0.05, 'dropout5': 0.423, 'dropout6': 0.34, 'dropout7': 0.257, 'dropout8': 0.083, 'hidden_size1': 68, 'hidden_size2': 32, 'hidden_size3': 1024, 'hidden_size4': 64, 'hidden_size5': 48, 'hidden_size6': 64, 'hidden_size7': 96, 'hidden_size8': 256, 'learning_rate': 0.02, 'n_layers': 1, 'num_epochs': 10}\n",
      "0.7883896015649341                                                                                                     \n",
      " 23%|█████████▌                               | 117/500 [18:09:59<71:24:16, 671.16s/it, best loss: -0.7904488722220264]"
     ]
    },
    {
     "name": "stderr",
     "output_type": "stream",
     "text": [
      "Global seed set to 1\n"
     ]
    },
    {
     "name": "stdout",
     "output_type": "stream",
     "text": [
      "{'batch_size': 2560, 'dropout1': 0.132, 'dropout2': 0.215, 'dropout3': 0.445, 'dropout4': 0.456, 'dropout5': 0.477, 'dropout6': 0.45, 'dropout7': 0.276, 'dropout8': 0.425, 'hidden_size1': 29, 'hidden_size2': 96, 'hidden_size3': 128, 'hidden_size4': 48, 'hidden_size5': 48, 'hidden_size6': 96, 'hidden_size7': 48, 'hidden_size8': 1024, 'learning_rate': 0.0002, 'n_layers': 3, 'num_epochs': 25}\n",
      "0.7886934812094862                                                                                                     \n",
      " 24%|█████████▋                               | 118/500 [18:16:41<62:38:39, 590.37s/it, best loss: -0.7904488722220264]"
     ]
    },
    {
     "name": "stderr",
     "output_type": "stream",
     "text": [
      "Global seed set to 1\n"
     ]
    },
    {
     "name": "stdout",
     "output_type": "stream",
     "text": [
      "{'batch_size': 512, 'dropout1': 0.112, 'dropout2': 0.166, 'dropout3': 0.121, 'dropout4': 0.039, 'dropout5': 0.401, 'dropout6': 0.317, 'dropout7': 0.008, 'dropout8': 0.121, 'hidden_size1': 9, 'hidden_size2': 448, 'hidden_size3': 448, 'hidden_size4': 896, 'hidden_size5': 256, 'hidden_size6': 1024, 'hidden_size7': 256, 'hidden_size8': 64, 'learning_rate': 0.002, 'n_layers': 5, 'num_epochs': 15}\n",
      "0.7831456031125521                                                                                                     \n",
      " 24%|█████████▊                               | 119/500 [18:24:28<58:34:12, 553.42s/it, best loss: -0.7904488722220264]"
     ]
    },
    {
     "name": "stderr",
     "output_type": "stream",
     "text": [
      "Global seed set to 1\n"
     ]
    },
    {
     "name": "stdout",
     "output_type": "stream",
     "text": [
      "{'batch_size': 2048, 'dropout1': 0.069, 'dropout2': 0.053, 'dropout3': 0.02, 'dropout4': 0.052, 'dropout5': 0.095, 'dropout6': 0.411, 'dropout7': 0.32, 'dropout8': 0.341, 'hidden_size1': 77, 'hidden_size2': 32, 'hidden_size3': 64, 'hidden_size4': 96, 'hidden_size5': 512, 'hidden_size6': 512, 'hidden_size7': 448, 'hidden_size8': 128, 'learning_rate': 0.0003, 'n_layers': 3, 'num_epochs': 45}\n",
      "0.7701070630525246                                                                                                     \n",
      " 24%|█████████▊                               | 120/500 [18:36:23<63:31:18, 601.79s/it, best loss: -0.7904488722220264]"
     ]
    },
    {
     "name": "stderr",
     "output_type": "stream",
     "text": [
      "Global seed set to 1\n"
     ]
    },
    {
     "name": "stdout",
     "output_type": "stream",
     "text": [
      "{'batch_size': 12800, 'dropout1': 0.076, 'dropout2': 0.363, 'dropout3': 0.406, 'dropout4': 0.382, 'dropout5': 0.006, 'dropout6': 0.107, 'dropout7': 0.48, 'dropout8': 0.097, 'hidden_size1': 78, 'hidden_size2': 48, 'hidden_size3': 96, 'hidden_size4': 512, 'hidden_size5': 896, 'hidden_size6': 32, 'hidden_size7': 64, 'hidden_size8': 48, 'learning_rate': 0.0004, 'n_layers': 4, 'num_epochs': 10}\n",
      "0.7784036166568691                                                                                                     \n",
      " 24%|█████████▉                               | 121/500 [18:39:20<49:57:38, 474.56s/it, best loss: -0.7904488722220264]"
     ]
    },
    {
     "name": "stderr",
     "output_type": "stream",
     "text": [
      "Global seed set to 1\n"
     ]
    },
    {
     "name": "stdout",
     "output_type": "stream",
     "text": [
      "{'batch_size': 10240, 'dropout1': 0.148, 'dropout2': 0.009, 'dropout3': 0.276, 'dropout4': 0.326, 'dropout5': 0.462, 'dropout6': 0.019, 'dropout7': 0.06, 'dropout8': 0.499, 'hidden_size1': 92, 'hidden_size2': 1024, 'hidden_size3': 256, 'hidden_size4': 128, 'hidden_size5': 48, 'hidden_size6': 896, 'hidden_size7': 32, 'hidden_size8': 512, 'learning_rate': 0.0006, 'n_layers': 2, 'num_epochs': 20}\n",
      "0.7889248286386021                                                                                                     \n",
      " 24%|██████████                               | 122/500 [18:44:45<45:06:48, 429.65s/it, best loss: -0.7904488722220264]"
     ]
    },
    {
     "name": "stderr",
     "output_type": "stream",
     "text": [
      "Global seed set to 1\n"
     ]
    },
    {
     "name": "stdout",
     "output_type": "stream",
     "text": [
      "{'batch_size': 256, 'dropout1': 0.241, 'dropout2': 0.146, 'dropout3': 0.405, 'dropout4': 0.407, 'dropout5': 0.22, 'dropout6': 0.402, 'dropout7': 0.496, 'dropout8': 0.42, 'hidden_size1': 21, 'hidden_size2': 128, 'hidden_size3': 32, 'hidden_size4': 1024, 'hidden_size5': 96, 'hidden_size6': 256, 'hidden_size7': 512, 'hidden_size8': 32, 'learning_rate': 0.007, 'n_layers': 3, 'num_epochs': 30}\n",
      "0.7839937580624067                                                                                                     \n",
      " 25%|██████████                               | 123/500 [19:05:54<71:20:59, 681.33s/it, best loss: -0.7904488722220264]"
     ]
    },
    {
     "name": "stderr",
     "output_type": "stream",
     "text": [
      "Global seed set to 1\n"
     ]
    },
    {
     "name": "stdout",
     "output_type": "stream",
     "text": [
      "{'batch_size': 5120, 'dropout1': 0.347, 'dropout2': 0.084, 'dropout3': 0.395, 'dropout4': 0.108, 'dropout5': 0.285, 'dropout6': 0.356, 'dropout7': 0.178, 'dropout8': 0.027, 'hidden_size1': 83, 'hidden_size2': 32, 'hidden_size3': 256, 'hidden_size4': 48, 'hidden_size5': 1024, 'hidden_size6': 128, 'hidden_size7': 96, 'hidden_size8': 256, 'learning_rate': 0.04, 'n_layers': 5, 'num_epochs': 10}\n",
      "0.7866072050871983                                                                                                     \n",
      " 25%|██████████▏                              | 124/500 [19:08:53<55:26:14, 530.78s/it, best loss: -0.7904488722220264]"
     ]
    },
    {
     "name": "stderr",
     "output_type": "stream",
     "text": [
      "Global seed set to 1\n"
     ]
    },
    {
     "name": "stdout",
     "output_type": "stream",
     "text": [
      "{'batch_size': 2560, 'dropout1': 0.363, 'dropout2': 0.348, 'dropout3': 0.106, 'dropout4': 0.226, 'dropout5': 0.091, 'dropout6': 0.345, 'dropout7': 0.303, 'dropout8': 0.016, 'hidden_size1': 25, 'hidden_size2': 64, 'hidden_size3': 896, 'hidden_size4': 256, 'hidden_size5': 48, 'hidden_size6': 448, 'hidden_size7': 896, 'hidden_size8': 128, 'learning_rate': 0.0007, 'n_layers': 1, 'num_epochs': 35}\n",
      "0.7657372326560787                                                                                                     \n",
      " 25%|██████████▎                              | 125/500 [19:17:42<55:12:29, 530.00s/it, best loss: -0.7904488722220264]"
     ]
    },
    {
     "name": "stderr",
     "output_type": "stream",
     "text": [
      "Global seed set to 1\n"
     ]
    },
    {
     "name": "stdout",
     "output_type": "stream",
     "text": [
      "{'batch_size': 2048, 'dropout1': 0.123, 'dropout2': 0.288, 'dropout3': 0.451, 'dropout4': 0.414, 'dropout5': 0.203, 'dropout6': 0.072, 'dropout7': 0.08, 'dropout8': 0.161, 'hidden_size1': 23, 'hidden_size2': 512, 'hidden_size3': 48, 'hidden_size4': 32, 'hidden_size5': 128, 'hidden_size6': 48, 'hidden_size7': 32, 'hidden_size8': 896, 'learning_rate': 0.001, 'n_layers': 3, 'num_epochs': 10}\n",
      "0.7839277363246344                                                                                                     \n",
      " 25%|██████████▎                              | 126/500 [19:20:39<44:04:18, 424.22s/it, best loss: -0.7904488722220264]"
     ]
    },
    {
     "name": "stderr",
     "output_type": "stream",
     "text": [
      "Global seed set to 1\n"
     ]
    },
    {
     "name": "stdout",
     "output_type": "stream",
     "text": [
      "{'batch_size': 4096, 'dropout1': 0.418, 'dropout2': 0.13, 'dropout3': 0.079, 'dropout4': 0.256, 'dropout5': 0.449, 'dropout6': 0.308, 'dropout7': 0.182, 'dropout8': 0.18, 'hidden_size1': 71, 'hidden_size2': 32, 'hidden_size3': 256, 'hidden_size4': 48, 'hidden_size5': 448, 'hidden_size6': 64, 'hidden_size7': 1024, 'hidden_size8': 448, 'learning_rate': 0.0003, 'n_layers': 5, 'num_epochs': 50}\n",
      "0.7601737468094536                                                                                                     \n",
      " 25%|██████████▍                              | 127/500 [19:33:58<55:35:20, 536.52s/it, best loss: -0.7904488722220264]"
     ]
    },
    {
     "name": "stderr",
     "output_type": "stream",
     "text": [
      "Global seed set to 1\n"
     ]
    },
    {
     "name": "stdout",
     "output_type": "stream",
     "text": [
      "{'batch_size': 1024, 'dropout1': 0.473, 'dropout2': 0.343, 'dropout3': 0.351, 'dropout4': 0.277, 'dropout5': 0.483, 'dropout6': 0.08, 'dropout7': 0.344, 'dropout8': 0.166, 'hidden_size1': 82, 'hidden_size2': 896, 'hidden_size3': 512, 'hidden_size4': 448, 'hidden_size5': 48, 'hidden_size6': 512, 'hidden_size7': 128, 'hidden_size8': 96, 'learning_rate': 0.0008, 'n_layers': 3, 'num_epochs': 5}\n",
      "0.7872826424169599                                                                                                     \n",
      " 26%|██████████▍                              | 128/500 [19:35:56<42:28:49, 411.10s/it, best loss: -0.7904488722220264]"
     ]
    },
    {
     "name": "stderr",
     "output_type": "stream",
     "text": [
      "Global seed set to 1\n"
     ]
    },
    {
     "name": "stdout",
     "output_type": "stream",
     "text": [
      "{'batch_size': 128, 'dropout1': 0.116, 'dropout2': 0.472, 'dropout3': 0.422, 'dropout4': 0.33, 'dropout5': 0.464, 'dropout6': 0.478, 'dropout7': 0.46, 'dropout8': 0.352, 'hidden_size1': 31, 'hidden_size2': 32, 'hidden_size3': 256, 'hidden_size4': 256, 'hidden_size5': 32, 'hidden_size6': 128, 'hidden_size7': 96, 'hidden_size8': 128, 'learning_rate': 0.0005, 'n_layers': 4, 'num_epochs': 10}\n",
      "0.7837368252453295                                                                                                     \n",
      " 26%|██████████▌                              | 129/500 [19:49:34<54:57:00, 533.21s/it, best loss: -0.7904488722220264]"
     ]
    },
    {
     "name": "stderr",
     "output_type": "stream",
     "text": [
      "Global seed set to 1\n"
     ]
    },
    {
     "name": "stdout",
     "output_type": "stream",
     "text": [
      "{'batch_size': 2048, 'dropout1': 0.382, 'dropout2': 0.444, 'dropout3': 0.434, 'dropout4': 0.002, 'dropout5': 0.118, 'dropout6': 0.197, 'dropout7': 0.19, 'dropout8': 0.282, 'hidden_size1': 27, 'hidden_size2': 256, 'hidden_size3': 1024, 'hidden_size4': 64, 'hidden_size5': 64, 'hidden_size6': 512, 'hidden_size7': 32, 'hidden_size8': 256, 'learning_rate': 0.03, 'n_layers': 2, 'num_epochs': 40}\n",
      "0.787877247430756                                                                                                      \n",
      " 26%|██████████▋                              | 130/500 [19:59:51<57:22:30, 558.25s/it, best loss: -0.7904488722220264]"
     ]
    },
    {
     "name": "stderr",
     "output_type": "stream",
     "text": [
      "Global seed set to 1\n"
     ]
    },
    {
     "name": "stdout",
     "output_type": "stream",
     "text": [
      "{'batch_size': 2560, 'dropout1': 0.115, 'dropout2': 0.5, 'dropout3': 0.15, 'dropout4': 0.105, 'dropout5': 0.035, 'dropout6': 0.42, 'dropout7': 0.138, 'dropout8': 0.392, 'hidden_size1': 85, 'hidden_size2': 448, 'hidden_size3': 64, 'hidden_size4': 896, 'hidden_size5': 48, 'hidden_size6': 64, 'hidden_size7': 48, 'hidden_size8': 1024, 'learning_rate': 0.0004, 'n_layers': 3, 'num_epochs': 25}\n",
      "0.7878800087173123                                                                                                     \n",
      " 26%|██████████▋                              | 131/500 [20:06:33<52:25:53, 511.53s/it, best loss: -0.7904488722220264]"
     ]
    },
    {
     "name": "stderr",
     "output_type": "stream",
     "text": [
      "Global seed set to 1\n"
     ]
    },
    {
     "name": "stdout",
     "output_type": "stream",
     "text": [
      "{'batch_size': 2048, 'dropout1': 0.272, 'dropout2': 0.214, 'dropout3': 0.318, 'dropout4': 0.315, 'dropout5': 0.009, 'dropout6': 0.176, 'dropout7': 0.097, 'dropout8': 0.456, 'hidden_size1': 24, 'hidden_size2': 96, 'hidden_size3': 448, 'hidden_size4': 48, 'hidden_size5': 256, 'hidden_size6': 32, 'hidden_size7': 256, 'hidden_size8': 128, 'learning_rate': 0.004, 'n_layers': 5, 'num_epochs': 15}\n",
      "0.7898305314899107                                                                                                     \n",
      " 26%|██████████▊                              | 132/500 [20:11:01<44:48:51, 438.40s/it, best loss: -0.7904488722220264]"
     ]
    },
    {
     "name": "stderr",
     "output_type": "stream",
     "text": [
      "Global seed set to 1\n"
     ]
    },
    {
     "name": "stdout",
     "output_type": "stream",
     "text": [
      "{'batch_size': 512, 'dropout1': 0.037, 'dropout2': 0.336, 'dropout3': 0.381, 'dropout4': 0.072, 'dropout5': 0.176, 'dropout6': 0.039, 'dropout7': 0.17, 'dropout8': 0.141, 'hidden_size1': 57, 'hidden_size2': 32, 'hidden_size3': 128, 'hidden_size4': 512, 'hidden_size5': 512, 'hidden_size6': 96, 'hidden_size7': 32, 'hidden_size8': 64, 'learning_rate': 0.009, 'n_layers': 1, 'num_epochs': 45}\n",
      "0.7886639247090216                                                                                                     \n",
      " 27%|██████████▉                              | 133/500 [20:28:24<63:11:14, 619.82s/it, best loss: -0.7904488722220264]"
     ]
    },
    {
     "name": "stderr",
     "output_type": "stream",
     "text": [
      "Global seed set to 1\n"
     ]
    },
    {
     "name": "stdout",
     "output_type": "stream",
     "text": [
      "{'batch_size': 12800, 'dropout1': 0.02, 'dropout2': 0.433, 'dropout3': 0.472, 'dropout4': 0.345, 'dropout5': 0.468, 'dropout6': 0.255, 'dropout7': 0.226, 'dropout8': 0.276, 'hidden_size1': 61, 'hidden_size2': 48, 'hidden_size3': 256, 'hidden_size4': 128, 'hidden_size5': 896, 'hidden_size6': 1024, 'hidden_size7': 448, 'hidden_size8': 512, 'learning_rate': 0.008, 'n_layers': 3, 'num_epochs': 10}\n",
      "0.7749895825967104                                                                                                     \n",
      " 27%|██████████▉                              | 134/500 [20:31:21<49:30:30, 486.97s/it, best loss: -0.7904488722220264]"
     ]
    },
    {
     "name": "stderr",
     "output_type": "stream",
     "text": [
      "Global seed set to 1\n"
     ]
    },
    {
     "name": "stdout",
     "output_type": "stream",
     "text": [
      "{'batch_size': 256, 'dropout1': 0.047, 'dropout2': 0.039, 'dropout3': 0.344, 'dropout4': 0.37, 'dropout5': 0.255, 'dropout6': 0.101, 'dropout7': 0.265, 'dropout8': 0.424, 'hidden_size1': 69, 'hidden_size2': 1024, 'hidden_size3': 96, 'hidden_size4': 96, 'hidden_size5': 48, 'hidden_size6': 128, 'hidden_size7': 64, 'hidden_size8': 48, 'learning_rate': 0.0003, 'n_layers': 5, 'num_epochs': 20}\n",
      "0.7875249943935121                                                                                                     \n",
      " 27%|███████████                              | 135/500 [20:47:38<64:17:06, 634.05s/it, best loss: -0.7904488722220264]"
     ]
    },
    {
     "name": "stderr",
     "output_type": "stream",
     "text": [
      "Global seed set to 1\n"
     ]
    },
    {
     "name": "stdout",
     "output_type": "stream",
     "text": [
      "{'batch_size': 10240, 'dropout1': 0.321, 'dropout2': 0.368, 'dropout3': 0.038, 'dropout4': 0.451, 'dropout5': 0.166, 'dropout6': 0.116, 'dropout7': 0.218, 'dropout8': 0.406, 'hidden_size1': 89, 'hidden_size2': 32, 'hidden_size3': 32, 'hidden_size4': 48, 'hidden_size5': 96, 'hidden_size6': 896, 'hidden_size7': 512, 'hidden_size8': 32, 'learning_rate': 0.005, 'n_layers': 3, 'num_epochs': 30}\n",
      "0.7871097334611737                                                                                                     \n",
      " 27%|███████████▏                             | 136/500 [20:55:35<59:19:44, 586.77s/it, best loss: -0.7904488722220264]"
     ]
    },
    {
     "name": "stderr",
     "output_type": "stream",
     "text": [
      "Global seed set to 1\n"
     ]
    },
    {
     "name": "stdout",
     "output_type": "stream",
     "text": [
      "{'batch_size': 2560, 'dropout1': 0.174, 'dropout2': 0.118, 'dropout3': 0.378, 'dropout4': 0.116, 'dropout5': 0.387, 'dropout6': 0.037, 'dropout7': 0.105, 'dropout8': 0.395, 'hidden_size1': 32, 'hidden_size2': 128, 'hidden_size3': 256, 'hidden_size4': 1024, 'hidden_size5': 48, 'hidden_size6': 256, 'hidden_size7': 96, 'hidden_size8': 256, 'learning_rate': 0.01, 'n_layers': 4, 'num_epochs': 10}\n",
      "0.7882278055798944                                                                                                     \n",
      " 27%|███████████▏                             | 137/500 [20:58:35<46:51:39, 464.74s/it, best loss: -0.7904488722220264]"
     ]
    },
    {
     "name": "stderr",
     "output_type": "stream",
     "text": [
      "Global seed set to 1\n"
     ]
    },
    {
     "name": "stdout",
     "output_type": "stream",
     "text": [
      "{'batch_size': 2048, 'dropout1': 0.008, 'dropout2': 0.38, 'dropout3': 0.288, 'dropout4': 0.375, 'dropout5': 0.128, 'dropout6': 0.452, 'dropout7': 0.201, 'dropout8': 0.357, 'hidden_size1': 55, 'hidden_size2': 64, 'hidden_size3': 896, 'hidden_size4': 256, 'hidden_size5': 1024, 'hidden_size6': 448, 'hidden_size7': 896, 'hidden_size8': 128, 'learning_rate': 0.003, 'n_layers': 2, 'num_epochs': 35}\n",
      "0.7813465426125192                                                                                                     \n",
      " 28%|███████████▎                             | 138/500 [21:07:39<49:07:39, 488.56s/it, best loss: -0.7904488722220264]"
     ]
    },
    {
     "name": "stderr",
     "output_type": "stream",
     "text": [
      "Global seed set to 1\n"
     ]
    },
    {
     "name": "stdout",
     "output_type": "stream",
     "text": [
      "{'batch_size': 5120, 'dropout1': 0.242, 'dropout2': 0.201, 'dropout3': 0.487, 'dropout4': 0.249, 'dropout5': 0.345, 'dropout6': 0.008, 'dropout7': 0.275, 'dropout8': 0.231, 'hidden_size1': 16, 'hidden_size2': 32, 'hidden_size3': 256, 'hidden_size4': 32, 'hidden_size5': 128, 'hidden_size6': 512, 'hidden_size7': 128, 'hidden_size8': 448, 'learning_rate': 0.006, 'n_layers': 3, 'num_epochs': 10}\n",
      "0.7833301233364472                                                                                                     \n",
      " 28%|███████████▍                             | 139/500 [21:10:35<39:34:48, 394.70s/it, best loss: -0.7904488722220264]"
     ]
    },
    {
     "name": "stderr",
     "output_type": "stream",
     "text": [
      "Global seed set to 1\n"
     ]
    },
    {
     "name": "stdout",
     "output_type": "stream",
     "text": [
      "{'batch_size': 4096, 'dropout1': 0.305, 'dropout2': 0.439, 'dropout3': 0.452, 'dropout4': 0.416, 'dropout5': 0.167, 'dropout6': 0.05, 'dropout7': 0.397, 'dropout8': 0.212, 'hidden_size1': 40, 'hidden_size2': 896, 'hidden_size3': 48, 'hidden_size4': 48, 'hidden_size5': 448, 'hidden_size6': 64, 'hidden_size7': 32, 'hidden_size8': 896, 'learning_rate': 0.0004, 'n_layers': 5, 'num_epochs': 50}\n",
      "0.7872208911916274                                                                                                     \n",
      " 28%|███████████▍                             | 140/500 [21:23:52<51:33:19, 515.55s/it, best loss: -0.7904488722220264]"
     ]
    },
    {
     "name": "stderr",
     "output_type": "stream",
     "text": [
      "Global seed set to 1\n"
     ]
    },
    {
     "name": "stdout",
     "output_type": "stream",
     "text": [
      "{'batch_size': 1024, 'dropout1': 0.316, 'dropout2': 0.409, 'dropout3': 0.41, 'dropout4': 0.01, 'dropout5': 0.09, 'dropout6': 0.035, 'dropout7': 0.371, 'dropout8': 0.128, 'hidden_size1': 87, 'hidden_size2': 512, 'hidden_size3': 512, 'hidden_size4': 256, 'hidden_size5': 48, 'hidden_size6': 48, 'hidden_size7': 1024, 'hidden_size8': 96, 'learning_rate': 0.0001, 'n_layers': 1, 'num_epochs': 5}\n",
      "0.7866488110995726                                                                                                     \n",
      " 28%|███████████▌                             | 141/500 [21:25:42<39:16:05, 393.78s/it, best loss: -0.7904488722220264]"
     ]
    },
    {
     "name": "stderr",
     "output_type": "stream",
     "text": [
      "Global seed set to 1\n"
     ]
    },
    {
     "name": "stdout",
     "output_type": "stream",
     "text": [
      "{'batch_size': 128, 'dropout1': 0.235, 'dropout2': 0.29, 'dropout3': 0.362, 'dropout4': 0.282, 'dropout5': 0.054, 'dropout6': 0.246, 'dropout7': 0.375, 'dropout8': 0.007, 'hidden_size1': 79, 'hidden_size2': 32, 'hidden_size3': 256, 'hidden_size4': 448, 'hidden_size5': 64, 'hidden_size6': 128, 'hidden_size7': 96, 'hidden_size8': 128, 'learning_rate': 0.0009, 'n_layers': 3, 'num_epochs': 10}\n",
      "0.7846144420240918                                                                                                     \n",
      " 28%|███████████▋                             | 142/500 [21:38:13<49:48:24, 500.85s/it, best loss: -0.7904488722220264]"
     ]
    },
    {
     "name": "stderr",
     "output_type": "stream",
     "text": [
      "Global seed set to 1\n"
     ]
    },
    {
     "name": "stdout",
     "output_type": "stream",
     "text": [
      "{'batch_size': 2048, 'dropout1': 0.025, 'dropout2': 0.157, 'dropout3': 0.01, 'dropout4': 0.237, 'dropout5': 0.343, 'dropout6': 0.189, 'dropout7': 0.35, 'dropout8': 0.249, 'hidden_size1': 59, 'hidden_size2': 256, 'hidden_size3': 1024, 'hidden_size4': 64, 'hidden_size5': 48, 'hidden_size6': 512, 'hidden_size7': 32, 'hidden_size8': 256, 'learning_rate': 0.0002, 'n_layers': 5, 'num_epochs': 40}\n",
      "0.7277530183996186                                                                                                     \n",
      " 29%|███████████▋                             | 143/500 [21:49:43<55:17:58, 557.64s/it, best loss: -0.7904488722220264]"
     ]
    },
    {
     "name": "stderr",
     "output_type": "stream",
     "text": [
      "Global seed set to 1\n"
     ]
    },
    {
     "name": "stdout",
     "output_type": "stream",
     "text": [
      "{'batch_size': 2560, 'dropout1': 0.369, 'dropout2': 0.469, 'dropout3': 0.027, 'dropout4': 0.191, 'dropout5': 0.131, 'dropout6': 0.011, 'dropout7': 0.078, 'dropout8': 0.235, 'hidden_size1': 30, 'hidden_size2': 448, 'hidden_size3': 448, 'hidden_size4': 48, 'hidden_size5': 32, 'hidden_size6': 64, 'hidden_size7': 256, 'hidden_size8': 1024, 'learning_rate': 0.0003, 'n_layers': 3, 'num_epochs': 25}\n",
      "0.7615653523008202                                                                                                     \n",
      " 29%|███████████▊                             | 144/500 [21:56:36<50:51:55, 514.37s/it, best loss: -0.7904488722220264]"
     ]
    },
    {
     "name": "stderr",
     "output_type": "stream",
     "text": [
      "Global seed set to 1\n"
     ]
    },
    {
     "name": "stdout",
     "output_type": "stream",
     "text": [
      "{'batch_size': 512, 'dropout1': 0.133, 'dropout2': 0.013, 'dropout3': 0.403, 'dropout4': 0.209, 'dropout5': 0.253, 'dropout6': 0.196, 'dropout7': 0.5, 'dropout8': 0.408, 'hidden_size1': 28, 'hidden_size2': 32, 'hidden_size3': 256, 'hidden_size4': 896, 'hidden_size5': 256, 'hidden_size6': 96, 'hidden_size7': 48, 'hidden_size8': 128, 'learning_rate': 0.02, 'n_layers': 4, 'num_epochs': 15}\n",
      "0.7883741296911028                                                                                                     \n",
      " 29%|███████████▉                             | 145/500 [22:04:06<48:48:54, 495.03s/it, best loss: -0.7904488722220264]"
     ]
    },
    {
     "name": "stderr",
     "output_type": "stream",
     "text": [
      "Global seed set to 1\n"
     ]
    },
    {
     "name": "stdout",
     "output_type": "stream",
     "text": [
      "{'batch_size': 2048, 'dropout1': 0.118, 'dropout2': 0.346, 'dropout3': 0.028, 'dropout4': 0.466, 'dropout5': 0.047, 'dropout6': 0.218, 'dropout7': 0.47, 'dropout8': 0.462, 'hidden_size1': 22, 'hidden_size2': 32, 'hidden_size3': 896, 'hidden_size4': 256, 'hidden_size5': 1024, 'hidden_size6': 128, 'hidden_size7': 32, 'hidden_size8': 256, 'learning_rate': 0.009, 'n_layers': 3, 'num_epochs': 10}\n",
      "0.779580346503075                                                                                                      \n",
      " 29%|███████████▉                             | 146/500 [22:07:07<39:25:00, 400.85s/it, best loss: -0.7904488722220264]"
     ]
    },
    {
     "name": "stderr",
     "output_type": "stream",
     "text": [
      "Global seed set to 1\n"
     ]
    },
    {
     "name": "stdout",
     "output_type": "stream",
     "text": [
      "{'batch_size': 2048, 'dropout1': 0.294, 'dropout2': 0.137, 'dropout3': 0.147, 'dropout4': 0.06, 'dropout5': 0.334, 'dropout6': 0.363, 'dropout7': 0.427, 'dropout8': 0.356, 'hidden_size1': 22, 'hidden_size2': 32, 'hidden_size3': 896, 'hidden_size4': 256, 'hidden_size5': 1024, 'hidden_size6': 128, 'hidden_size7': 32, 'hidden_size8': 256, 'learning_rate': 0.009, 'n_layers': 3, 'num_epochs': 10}\n",
      "0.7877919989687615                                                                                                     \n",
      " 29%|████████████                             | 147/500 [22:10:07<32:49:12, 334.71s/it, best loss: -0.7904488722220264]"
     ]
    },
    {
     "name": "stderr",
     "output_type": "stream",
     "text": [
      "Global seed set to 1\n"
     ]
    },
    {
     "name": "stdout",
     "output_type": "stream",
     "text": [
      "{'batch_size': 2048, 'dropout1': 0.475, 'dropout2': 0.278, 'dropout3': 0.36, 'dropout4': 0.044, 'dropout5': 0.349, 'dropout6': 0.452, 'dropout7': 0.038, 'dropout8': 0.407, 'hidden_size1': 12, 'hidden_size2': 32, 'hidden_size3': 896, 'hidden_size4': 256, 'hidden_size5': 1024, 'hidden_size6': 128, 'hidden_size7': 32, 'hidden_size8': 256, 'learning_rate': 0.009, 'n_layers': 3, 'num_epochs': 10}\n",
      "0.7897483724510508                                                                                                     \n",
      " 30%|████████████▏                            | 148/500 [22:13:09<28:13:08, 288.60s/it, best loss: -0.7904488722220264]"
     ]
    },
    {
     "name": "stderr",
     "output_type": "stream",
     "text": [
      "Global seed set to 1\n"
     ]
    },
    {
     "name": "stdout",
     "output_type": "stream",
     "text": [
      "{'batch_size': 2048, 'dropout1': 0.401, 'dropout2': 0.377, 'dropout3': 0.315, 'dropout4': 0.178, 'dropout5': 0.077, 'dropout6': 0.131, 'dropout7': 0.026, 'dropout8': 0.216, 'hidden_size1': 49, 'hidden_size2': 32, 'hidden_size3': 64, 'hidden_size4': 256, 'hidden_size5': 1024, 'hidden_size6': 128, 'hidden_size7': 32, 'hidden_size8': 256, 'learning_rate': 0.009, 'n_layers': 3, 'num_epochs': 10}\n",
      "0.7877238385003144                                                                                                     \n",
      " 30%|████████████▏                            | 149/500 [22:16:11<25:01:23, 256.65s/it, best loss: -0.7904488722220264]"
     ]
    },
    {
     "name": "stderr",
     "output_type": "stream",
     "text": [
      "Global seed set to 1\n"
     ]
    },
    {
     "name": "stdout",
     "output_type": "stream",
     "text": [
      "{'batch_size': 2048, 'dropout1': 0.39, 'dropout2': 0.222, 'dropout3': 0.356, 'dropout4': 0.468, 'dropout5': 0.152, 'dropout6': 0.1, 'dropout7': 0.058, 'dropout8': 0.303, 'hidden_size1': 90, 'hidden_size2': 32, 'hidden_size3': 896, 'hidden_size4': 256, 'hidden_size5': 1024, 'hidden_size6': 128, 'hidden_size7': 32, 'hidden_size8': 256, 'learning_rate': 0.002, 'n_layers': 3, 'num_epochs': 10}\n",
      "0.7898782558731241                                                                                                     \n",
      " 30%|████████████▎                            | 150/500 [22:19:14<22:48:26, 234.59s/it, best loss: -0.7904488722220264]"
     ]
    },
    {
     "name": "stderr",
     "output_type": "stream",
     "text": [
      "Global seed set to 1\n"
     ]
    },
    {
     "name": "stdout",
     "output_type": "stream",
     "text": [
      "{'batch_size': 2048, 'dropout1': 0.454, 'dropout2': 0.158, 'dropout3': 0.249, 'dropout4': 0.281, 'dropout5': 0.484, 'dropout6': 0.257, 'dropout7': 0.362, 'dropout8': 0.009, 'hidden_size1': 60, 'hidden_size2': 32, 'hidden_size3': 896, 'hidden_size4': 256, 'hidden_size5': 1024, 'hidden_size6': 128, 'hidden_size7': 32, 'hidden_size8': 256, 'learning_rate': 0.009, 'n_layers': 3, 'num_epochs': 10}\n",
      "0.7905278665966281                                                                                                     \n",
      " 30%|████████████▍                            | 151/500 [22:22:17<21:15:49, 219.34s/it, best loss: -0.7905278665966281]"
     ]
    },
    {
     "name": "stderr",
     "output_type": "stream",
     "text": [
      "Global seed set to 1\n"
     ]
    },
    {
     "name": "stdout",
     "output_type": "stream",
     "text": [
      "{'batch_size': 2048, 'dropout1': 0.461, 'dropout2': 0.496, 'dropout3': 0.383, 'dropout4': 0.309, 'dropout5': 0.053, 'dropout6': 0.486, 'dropout7': 0.039, 'dropout8': 0.157, 'hidden_size1': 36, 'hidden_size2': 32, 'hidden_size3': 896, 'hidden_size4': 256, 'hidden_size5': 1024, 'hidden_size6': 128, 'hidden_size7': 32, 'hidden_size8': 256, 'learning_rate': 0.0006, 'n_layers': 3, 'num_epochs': 10}\n",
      "0.7896087081062811                                                                                                     \n",
      " 30%|████████████▍                            | 152/500 [22:25:21<20:10:26, 208.70s/it, best loss: -0.7905278665966281]"
     ]
    },
    {
     "name": "stderr",
     "output_type": "stream",
     "text": [
      "Global seed set to 1\n"
     ]
    },
    {
     "name": "stdout",
     "output_type": "stream",
     "text": [
      "{'batch_size': 2048, 'dropout1': 0.215, 'dropout2': 0.149, 'dropout3': 0.448, 'dropout4': 0.247, 'dropout5': 0.069, 'dropout6': 0.115, 'dropout7': 0.154, 'dropout8': 0.252, 'hidden_size1': 66, 'hidden_size2': 96, 'hidden_size3': 896, 'hidden_size4': 256, 'hidden_size5': 1024, 'hidden_size6': 128, 'hidden_size7': 32, 'hidden_size8': 256, 'learning_rate': 0.007, 'n_layers': 3, 'num_epochs': 10}\n",
      "0.7892396995489638                                                                                                     \n",
      " 31%|████████████▌                            | 153/500 [22:28:23<19:20:14, 200.62s/it, best loss: -0.7905278665966281]"
     ]
    },
    {
     "name": "stderr",
     "output_type": "stream",
     "text": [
      "Global seed set to 1\n"
     ]
    },
    {
     "name": "stdout",
     "output_type": "stream",
     "text": [
      "{'batch_size': 10240, 'dropout1': 0.435, 'dropout2': 0.342, 'dropout3': 0.475, 'dropout4': 0.147, 'dropout5': 0.462, 'dropout6': 0.257, 'dropout7': 0.348, 'dropout8': 0.428, 'hidden_size1': 60, 'hidden_size2': 32, 'hidden_size3': 896, 'hidden_size4': 512, 'hidden_size5': 512, 'hidden_size6': 1024, 'hidden_size7': 448, 'hidden_size8': 64, 'learning_rate': 0.0007, 'n_layers': 3, 'num_epochs': 45}\n",
      "0.7896341131377307                                                                                                     \n",
      " 31%|████████████▋                            | 154/500 [22:40:28<34:23:28, 357.83s/it, best loss: -0.7905278665966281]"
     ]
    },
    {
     "name": "stderr",
     "output_type": "stream",
     "text": [
      "Global seed set to 1\n"
     ]
    },
    {
     "name": "stdout",
     "output_type": "stream",
     "text": [
      "{'batch_size': 12800, 'dropout1': 0.411, 'dropout2': 0.156, 'dropout3': 0.024, 'dropout4': 0.16, 'dropout5': 0.013, 'dropout6': 0.339, 'dropout7': 0.118, 'dropout8': 0.364, 'hidden_size1': 65, 'hidden_size2': 1024, 'hidden_size3': 128, 'hidden_size4': 96, 'hidden_size5': 48, 'hidden_size6': 32, 'hidden_size7': 64, 'hidden_size8': 48, 'learning_rate': 0.04, 'n_layers': 3, 'num_epochs': 10}\n",
      "0.7847394627787427                                                                                                     \n",
      " 31%|████████████▋                            | 155/500 [22:43:29<29:13:01, 304.87s/it, best loss: -0.7905278665966281]"
     ]
    },
    {
     "name": "stderr",
     "output_type": "stream",
     "text": [
      "Global seed set to 1\n"
     ]
    },
    {
     "name": "stdout",
     "output_type": "stream",
     "text": [
      "{'batch_size': 2048, 'dropout1': 0.454, 'dropout2': 0.121, 'dropout3': 0.494, 'dropout4': 0.281, 'dropout5': 0.27, 'dropout6': 0.14, 'dropout7': 0.414, 'dropout8': 0.178, 'hidden_size1': 60, 'hidden_size2': 48, 'hidden_size3': 96, 'hidden_size4': 128, 'hidden_size5': 96, 'hidden_size6': 896, 'hidden_size7': 32, 'hidden_size8': 32, 'learning_rate': 0.03, 'n_layers': 3, 'num_epochs': 20}\n",
      "0.7869480286161107                                                                                                     \n",
      " 31%|████████████▊                            | 156/500 [22:49:05<30:01:23, 314.20s/it, best loss: -0.7905278665966281]"
     ]
    },
    {
     "name": "stderr",
     "output_type": "stream",
     "text": [
      "Global seed set to 1\n"
     ]
    },
    {
     "name": "stdout",
     "output_type": "stream",
     "text": [
      "{'batch_size': 2560, 'dropout1': 0.145, 'dropout2': 0.318, 'dropout3': 0.148, 'dropout4': 0.415, 'dropout5': 0.301, 'dropout6': 0.144, 'dropout7': 0.09, 'dropout8': 0.131, 'hidden_size1': 92, 'hidden_size2': 32, 'hidden_size3': 32, 'hidden_size4': 48, 'hidden_size5': 896, 'hidden_size6': 128, 'hidden_size7': 512, 'hidden_size8': 512, 'learning_rate': 0.0003, 'n_layers': 2, 'num_epochs': 10}\n",
      "0.788520973268798                                                                                                      \n",
      " 31%|████████████▊                            | 157/500 [22:52:00<25:58:05, 272.55s/it, best loss: -0.7905278665966281]"
     ]
    },
    {
     "name": "stderr",
     "output_type": "stream",
     "text": [
      "Global seed set to 1\n"
     ]
    },
    {
     "name": "stdout",
     "output_type": "stream",
     "text": [
      "{'batch_size': 256, 'dropout1': 0.281, 'dropout2': 0.15, 'dropout3': 0.249, 'dropout4': 0.188, 'dropout5': 0.236, 'dropout6': 0.349, 'dropout7': 0.314, 'dropout8': 0.098, 'hidden_size1': 39, 'hidden_size2': 128, 'hidden_size3': 256, 'hidden_size4': 1024, 'hidden_size5': 48, 'hidden_size6': 256, 'hidden_size7': 96, 'hidden_size8': 256, 'learning_rate': 0.0008, 'n_layers': 3, 'num_epochs': 30}\n",
      "0.7841462271135814                                                                                                     \n",
      " 32%|████████████▉                            | 158/500 [23:13:30<54:52:36, 577.65s/it, best loss: -0.7905278665966281]"
     ]
    },
    {
     "name": "stderr",
     "output_type": "stream",
     "text": [
      "Global seed set to 1\n"
     ]
    },
    {
     "name": "stdout",
     "output_type": "stream",
     "text": [
      "{'batch_size': 5120, 'dropout1': 0.487, 'dropout2': 0.026, 'dropout3': 0.219, 'dropout4': 0.193, 'dropout5': 0.051, 'dropout6': 0.098, 'dropout7': 0.362, 'dropout8': 0.172, 'hidden_size1': 45, 'hidden_size2': 64, 'hidden_size3': 896, 'hidden_size4': 256, 'hidden_size5': 128, 'hidden_size6': 448, 'hidden_size7': 896, 'hidden_size8': 128, 'learning_rate': 0.001, 'n_layers': 5, 'num_epochs': 10}\n",
      "0.7902195239268627                                                                                                     \n",
      " 32%|█████████████                            | 159/500 [23:16:34<43:31:22, 459.48s/it, best loss: -0.7905278665966281]"
     ]
    },
    {
     "name": "stderr",
     "output_type": "stream",
     "text": [
      "Global seed set to 1\n"
     ]
    },
    {
     "name": "stdout",
     "output_type": "stream",
     "text": [
      "{'batch_size': 5120, 'dropout1': 0.36, 'dropout2': 0.158, 'dropout3': 0.31, 'dropout4': 0.14, 'dropout5': 0.373, 'dropout6': 0.145, 'dropout7': 0.362, 'dropout8': 0.278, 'hidden_size1': 45, 'hidden_size2': 64, 'hidden_size3': 896, 'hidden_size4': 256, 'hidden_size5': 128, 'hidden_size6': 448, 'hidden_size7': 896, 'hidden_size8': 896, 'learning_rate': 0.001, 'n_layers': 5, 'num_epochs': 35}\n",
      "0.7822081438957293                                                                                                     \n",
      " 32%|█████████████                            | 160/500 [23:26:08<46:38:40, 493.88s/it, best loss: -0.7905278665966281]"
     ]
    },
    {
     "name": "stderr",
     "output_type": "stream",
     "text": [
      "Global seed set to 1\n"
     ]
    },
    {
     "name": "stdout",
     "output_type": "stream",
     "text": [
      "{'batch_size': 5120, 'dropout1': 0.348, 'dropout2': 0.266, 'dropout3': 0.185, 'dropout4': 0.193, 'dropout5': 0.494, 'dropout6': 0.132, 'dropout7': 0.412, 'dropout8': 0.029, 'hidden_size1': 45, 'hidden_size2': 64, 'hidden_size3': 896, 'hidden_size4': 256, 'hidden_size5': 128, 'hidden_size6': 448, 'hidden_size7': 896, 'hidden_size8': 128, 'learning_rate': 0.001, 'n_layers': 5, 'num_epochs': 50}\n",
      "0.7603457803928247                                                                                                     \n",
      " 32%|█████████████▏                           | 161/500 [23:39:43<55:34:09, 590.12s/it, best loss: -0.7905278665966281]"
     ]
    },
    {
     "name": "stderr",
     "output_type": "stream",
     "text": [
      "Global seed set to 1\n"
     ]
    },
    {
     "name": "stdout",
     "output_type": "stream",
     "text": [
      "{'batch_size': 5120, 'dropout1': 0.27, 'dropout2': 0.158, 'dropout3': 0.484, 'dropout4': 0.193, 'dropout5': 0.17, 'dropout6': 0.142, 'dropout7': 0.016, 'dropout8': 0.372, 'hidden_size1': 11, 'hidden_size2': 64, 'hidden_size3': 896, 'hidden_size4': 256, 'hidden_size5': 128, 'hidden_size6': 448, 'hidden_size7': 896, 'hidden_size8': 96, 'learning_rate': 0.0005, 'n_layers': 5, 'num_epochs': 10}\n",
      "0.7858080997550632                                                                                                     \n",
      " 32%|█████████████▎                           | 162/500 [23:42:49<44:02:35, 469.10s/it, best loss: -0.7905278665966281]"
     ]
    },
    {
     "name": "stderr",
     "output_type": "stream",
     "text": [
      "Global seed set to 1\n"
     ]
    },
    {
     "name": "stdout",
     "output_type": "stream",
     "text": [
      "{'batch_size': 5120, 'dropout1': 0.219, 'dropout2': 0.299, 'dropout3': 0.13, 'dropout4': 0.31, 'dropout5': 0.338, 'dropout6': 0.244, 'dropout7': 0.161, 'dropout8': 0.043, 'hidden_size1': 5, 'hidden_size2': 64, 'hidden_size3': 896, 'hidden_size4': 256, 'hidden_size5': 128, 'hidden_size6': 448, 'hidden_size7': 896, 'hidden_size8': 448, 'learning_rate': 0.001, 'n_layers': 5, 'num_epochs': 5}\n",
      "0.7847490473229362                                                                                                     \n",
      " 33%|█████████████▎                           | 163/500 [23:44:34<33:40:46, 359.78s/it, best loss: -0.7905278665966281]"
     ]
    },
    {
     "name": "stderr",
     "output_type": "stream",
     "text": [
      "Global seed set to 1\n"
     ]
    },
    {
     "name": "stdout",
     "output_type": "stream",
     "text": [
      "{'batch_size': 4096, 'dropout1': 0.46, 'dropout2': 0.4, 'dropout3': 0.326, 'dropout4': 0.107, 'dropout5': 0.337, 'dropout6': 0.098, 'dropout7': 0.417, 'dropout8': 0.39, 'hidden_size1': 86, 'hidden_size2': 64, 'hidden_size3': 896, 'hidden_size4': 256, 'hidden_size5': 128, 'hidden_size6': 448, 'hidden_size7': 896, 'hidden_size8': 256, 'learning_rate': 0.001, 'n_layers': 5, 'num_epochs': 40}\n",
      "0.782339926686291                                                                                                      \n",
      " 33%|█████████████▍                           | 164/500 [23:55:30<41:52:37, 448.68s/it, best loss: -0.7905278665966281]"
     ]
    },
    {
     "name": "stderr",
     "output_type": "stream",
     "text": [
      "Global seed set to 1\n"
     ]
    },
    {
     "name": "stdout",
     "output_type": "stream",
     "text": [
      "{'batch_size': 5120, 'dropout1': 0.168, 'dropout2': 0.298, 'dropout3': 0.07, 'dropout4': 0.135, 'dropout5': 0.051, 'dropout6': 0.049, 'dropout7': 0.086, 'dropout8': 0.255, 'hidden_size1': 63, 'hidden_size2': 64, 'hidden_size3': 896, 'hidden_size4': 256, 'hidden_size5': 128, 'hidden_size6': 448, 'hidden_size7': 896, 'hidden_size8': 128, 'learning_rate': 0.001, 'n_layers': 5, 'num_epochs': 10}\n",
      "0.788839408174023                                                                                                      \n",
      " 33%|█████████████▌                           | 165/500 [23:58:35<34:23:05, 369.51s/it, best loss: -0.7905278665966281]"
     ]
    },
    {
     "name": "stderr",
     "output_type": "stream",
     "text": [
      "Global seed set to 1\n"
     ]
    },
    {
     "name": "stdout",
     "output_type": "stream",
     "text": [
      "{'batch_size': 5120, 'dropout1': 0.149, 'dropout2': 0.248, 'dropout3': 0.138, 'dropout4': 0.025, 'dropout5': 0.205, 'dropout6': 0.222, 'dropout7': 0.444, 'dropout8': 0.293, 'hidden_size1': 91, 'hidden_size2': 64, 'hidden_size3': 896, 'hidden_size4': 256, 'hidden_size5': 128, 'hidden_size6': 448, 'hidden_size7': 896, 'hidden_size8': 1024, 'learning_rate': 0.004, 'n_layers': 5, 'num_epochs': 25}\n",
      "0.7638943407181035                                                                                                     \n",
      " 33%|█████████████▌                           | 166/500 [24:05:34<35:39:10, 384.28s/it, best loss: -0.7905278665966281]"
     ]
    },
    {
     "name": "stderr",
     "output_type": "stream",
     "text": [
      "Global seed set to 1\n"
     ]
    },
    {
     "name": "stdout",
     "output_type": "stream",
     "text": [
      "{'batch_size': 5120, 'dropout1': 0.214, 'dropout2': 0.491, 'dropout3': 0.187, 'dropout4': 0.459, 'dropout5': 0.484, 'dropout6': 0.291, 'dropout7': 0.478, 'dropout8': 0.005, 'hidden_size1': 37, 'hidden_size2': 512, 'hidden_size3': 48, 'hidden_size4': 32, 'hidden_size5': 448, 'hidden_size6': 64, 'hidden_size7': 128, 'hidden_size8': 64, 'learning_rate': 0.005, 'n_layers': 5, 'num_epochs': 15}\n",
      "0.7883755006436031                                                                                                     \n",
      " 33%|█████████████▋                           | 167/500 [24:09:53<32:04:22, 346.73s/it, best loss: -0.7905278665966281]"
     ]
    },
    {
     "name": "stderr",
     "output_type": "stream",
     "text": [
      "Global seed set to 1\n"
     ]
    },
    {
     "name": "stdout",
     "output_type": "stream",
     "text": [
      "{'batch_size': 1024, 'dropout1': 0.004, 'dropout2': 0.136, 'dropout3': 0.272, 'dropout4': 0.348, 'dropout5': 0.378, 'dropout6': 0.455, 'dropout7': 0.349, 'dropout8': 0.238, 'hidden_size1': 10, 'hidden_size2': 64, 'hidden_size3': 896, 'hidden_size4': 256, 'hidden_size5': 1024, 'hidden_size6': 448, 'hidden_size7': 32, 'hidden_size8': 256, 'learning_rate': 0.0003, 'n_layers': 5, 'num_epochs': 10}\n",
      "0.7891642065963731                                                                                                     \n",
      " 34%|█████████████▊                           | 168/500 [24:13:42<28:44:18, 311.62s/it, best loss: -0.7905278665966281]"
     ]
    },
    {
     "name": "stderr",
     "output_type": "stream",
     "text": [
      "Global seed set to 1\n"
     ]
    },
    {
     "name": "stdout",
     "output_type": "stream",
     "text": [
      "{'batch_size': 5120, 'dropout1': 0.134, 'dropout2': 0.374, 'dropout3': 0.429, 'dropout4': 0.005, 'dropout5': 0.102, 'dropout6': 0.403, 'dropout7': 0.448, 'dropout8': 0.155, 'hidden_size1': 53, 'hidden_size2': 896, 'hidden_size3': 512, 'hidden_size4': 448, 'hidden_size5': 64, 'hidden_size6': 48, 'hidden_size7': 896, 'hidden_size8': 48, 'learning_rate': 0.009, 'n_layers': 5, 'num_epochs': 45}\n",
      "0.78860789407451                                                                                                       \n",
      " 34%|█████████████▊                           | 169/500 [24:25:52<40:10:16, 436.91s/it, best loss: -0.7905278665966281]"
     ]
    },
    {
     "name": "stderr",
     "output_type": "stream",
     "text": [
      "Global seed set to 1\n"
     ]
    },
    {
     "name": "stdout",
     "output_type": "stream",
     "text": [
      "{'batch_size': 2560, 'dropout1': 0.234, 'dropout2': 0.366, 'dropout3': 0.097, 'dropout4': 0.161, 'dropout5': 0.044, 'dropout6': 0.112, 'dropout7': 0.231, 'dropout8': 0.338, 'hidden_size1': 76, 'hidden_size2': 256, 'hidden_size3': 448, 'hidden_size4': 256, 'hidden_size5': 128, 'hidden_size6': 128, 'hidden_size7': 1024, 'hidden_size8': 512, 'learning_rate': 0.008, 'n_layers': 5, 'num_epochs': 30}\n",
      "0.7662742047013716                                                                                                     \n",
      " 34%|█████████████▉                           | 170/500 [24:34:23<42:05:25, 459.17s/it, best loss: -0.7905278665966281]"
     ]
    },
    {
     "name": "stderr",
     "output_type": "stream",
     "text": [
      "Global seed set to 1\n"
     ]
    },
    {
     "name": "stdout",
     "output_type": "stream",
     "text": [
      "{'batch_size': 128, 'dropout1': 0.322, 'dropout2': 0.456, 'dropout3': 0.219, 'dropout4': 0.154, 'dropout5': 0.376, 'dropout6': 0.248, 'dropout7': 0.079, 'dropout8': 0.23, 'hidden_size1': 94, 'hidden_size2': 448, 'hidden_size3': 1024, 'hidden_size4': 64, 'hidden_size5': 256, 'hidden_size6': 64, 'hidden_size7': 32, 'hidden_size8': 128, 'learning_rate': 0.006, 'n_layers': 1, 'num_epochs': 20}\n",
      "0.7807385970672229                                                                                                     \n",
      " 34%|██████████████                           | 171/500 [24:54:58<63:14:55, 692.08s/it, best loss: -0.7905278665966281]"
     ]
    },
    {
     "name": "stderr",
     "output_type": "stream",
     "text": [
      "Global seed set to 1\n"
     ]
    },
    {
     "name": "stdout",
     "output_type": "stream",
     "text": [
      "{'batch_size': 512, 'dropout1': 0.424, 'dropout2': 0.204, 'dropout3': 0.464, 'dropout4': 0.331, 'dropout5': 0.104, 'dropout6': 0.426, 'dropout7': 0.237, 'dropout8': 0.118, 'hidden_size1': 54, 'hidden_size2': 48, 'hidden_size3': 64, 'hidden_size4': 896, 'hidden_size5': 32, 'hidden_size6': 96, 'hidden_size7': 48, 'hidden_size8': 32, 'learning_rate': 0.01, 'n_layers': 5, 'num_epochs': 10}\n",
      "0.7837952297583873                                                                                                     \n",
      " 34%|██████████████                           | 172/500 [25:00:25<53:03:54, 582.42s/it, best loss: -0.7905278665966281]"
     ]
    },
    {
     "name": "stderr",
     "output_type": "stream",
     "text": [
      "Global seed set to 1\n"
     ]
    },
    {
     "name": "stdout",
     "output_type": "stream",
     "text": [
      "{'batch_size': 12800, 'dropout1': 0.487, 'dropout2': 0.176, 'dropout3': 0.229, 'dropout4': 0.432, 'dropout5': 0.143, 'dropout6': 0.048, 'dropout7': 0.367, 'dropout8': 0.186, 'hidden_size1': 95, 'hidden_size2': 1024, 'hidden_size3': 96, 'hidden_size4': 512, 'hidden_size5': 512, 'hidden_size6': 128, 'hidden_size7': 256, 'hidden_size8': 128, 'learning_rate': 0.0001, 'n_layers': 2, 'num_epochs': 10}\n",
      "0.777471556337398                                                                                                      \n",
      " 35%|██████████████▏                          | 173/500 [25:03:28<42:01:28, 462.66s/it, best loss: -0.7905278665966281]"
     ]
    },
    {
     "name": "stderr",
     "output_type": "stream",
     "text": [
      "Global seed set to 1\n"
     ]
    },
    {
     "name": "stdout",
     "output_type": "stream",
     "text": [
      "{'batch_size': 10240, 'dropout1': 0.244, 'dropout2': 0.101, 'dropout3': 0.125, 'dropout4': 0.028, 'dropout5': 0.082, 'dropout6': 0.076, 'dropout7': 0.033, 'dropout8': 0.342, 'hidden_size1': 97, 'hidden_size2': 96, 'hidden_size3': 32, 'hidden_size4': 96, 'hidden_size5': 896, 'hidden_size6': 1024, 'hidden_size7': 32, 'hidden_size8': 896, 'learning_rate': 0.0009, 'n_layers': 4, 'num_epochs': 35}\n",
      "0.788165606334332                                                                                                      \n",
      " 35%|██████████████▎                          | 174/500 [25:13:02<44:54:29, 495.92s/it, best loss: -0.7905278665966281]"
     ]
    },
    {
     "name": "stderr",
     "output_type": "stream",
     "text": [
      "Global seed set to 1\n"
     ]
    },
    {
     "name": "stdout",
     "output_type": "stream",
     "text": [
      "{'batch_size': 256, 'dropout1': 0.395, 'dropout2': 0.411, 'dropout3': 0.16, 'dropout4': 0.186, 'dropout5': 0.484, 'dropout6': 0.065, 'dropout7': 0.197, 'dropout8': 0.009, 'hidden_size1': 74, 'hidden_size2': 64, 'hidden_size3': 128, 'hidden_size4': 128, 'hidden_size5': 96, 'hidden_size6': 32, 'hidden_size7': 64, 'hidden_size8': 256, 'learning_rate': 0.0003, 'n_layers': 5, 'num_epochs': 50}\n",
      "0.7794905268869681                                                                                                     \n",
      " 35%|██████████████                          | 175/500 [25:53:46<97:32:06, 1080.39s/it, best loss: -0.7905278665966281]"
     ]
    },
    {
     "name": "stderr",
     "output_type": "stream",
     "text": [
      "Global seed set to 1\n"
     ]
    },
    {
     "name": "stdout",
     "output_type": "stream",
     "text": [
      "{'batch_size': 5120, 'dropout1': 0.039, 'dropout2': 0.273, 'dropout3': 0.254, 'dropout4': 0.136, 'dropout5': 0.399, 'dropout6': 0.398, 'dropout7': 0.238, 'dropout8': 0.122, 'hidden_size1': 7, 'hidden_size2': 128, 'hidden_size3': 896, 'hidden_size4': 256, 'hidden_size5': 1024, 'hidden_size6': 896, 'hidden_size7': 448, 'hidden_size8': 448, 'learning_rate': 0.002, 'n_layers': 5, 'num_epochs': 5}\n",
      "0.7830111913425641                                                                                                     \n",
      " 35%|██████████████▍                          | 176/500 [25:55:29<70:50:45, 787.18s/it, best loss: -0.7905278665966281]"
     ]
    },
    {
     "name": "stderr",
     "output_type": "stream",
     "text": [
      "Global seed set to 1\n"
     ]
    },
    {
     "name": "stdout",
     "output_type": "stream",
     "text": [
      "{'batch_size': 4096, 'dropout1': 0.077, 'dropout2': 0.477, 'dropout3': 0.172, 'dropout4': 0.221, 'dropout5': 0.47, 'dropout6': 0.492, 'dropout7': 0.248, 'dropout8': 0.289, 'hidden_size1': 42, 'hidden_size2': 512, 'hidden_size3': 48, 'hidden_size4': 256, 'hidden_size5': 128, 'hidden_size6': 256, 'hidden_size7': 512, 'hidden_size8': 96, 'learning_rate': 0.003, 'n_layers': 1, 'num_epochs': 10}\n",
      "0.7875579724614703                                                                                                     \n",
      " 35%|██████████████▌                          | 177/500 [25:58:21<54:03:46, 602.56s/it, best loss: -0.7905278665966281]"
     ]
    },
    {
     "name": "stderr",
     "output_type": "stream",
     "text": [
      "Global seed set to 1\n"
     ]
    },
    {
     "name": "stdout",
     "output_type": "stream",
     "text": [
      "{'batch_size': 2560, 'dropout1': 0.362, 'dropout2': 0.1, 'dropout3': 0.153, 'dropout4': 0.316, 'dropout5': 0.363, 'dropout6': 0.304, 'dropout7': 0.085, 'dropout8': 0.489, 'hidden_size1': 44, 'hidden_size2': 896, 'hidden_size3': 896, 'hidden_size4': 1024, 'hidden_size5': 448, 'hidden_size6': 448, 'hidden_size7': 896, 'hidden_size8': 128, 'learning_rate': 0.02, 'n_layers': 5, 'num_epochs': 40}\n",
      "0.7602865013305046                                                                                                     \n",
      " 36%|██████████████▌                          | 178/500 [26:09:24<55:31:09, 620.71s/it, best loss: -0.7905278665966281]"
     ]
    },
    {
     "name": "stderr",
     "output_type": "stream",
     "text": [
      "Global seed set to 1\n"
     ]
    },
    {
     "name": "stdout",
     "output_type": "stream",
     "text": [
      "{'batch_size': 1024, 'dropout1': 0.06, 'dropout2': 0.3, 'dropout3': 0.265, 'dropout4': 0.243, 'dropout5': 0.096, 'dropout6': 0.046, 'dropout7': 0.057, 'dropout8': 0.443, 'hidden_size1': 13, 'hidden_size2': 256, 'hidden_size3': 512, 'hidden_size4': 32, 'hidden_size5': 64, 'hidden_size6': 64, 'hidden_size7': 32, 'hidden_size8': 1024, 'learning_rate': 0.001, 'n_layers': 4, 'num_epochs': 25}\n",
      "0.7845620371975082                                                                                                     \n",
      " 36%|██████████████▋                          | 179/500 [26:17:55<52:25:51, 588.01s/it, best loss: -0.7905278665966281]"
     ]
    },
    {
     "name": "stderr",
     "output_type": "stream",
     "text": [
      "Global seed set to 1\n"
     ]
    },
    {
     "name": "stdout",
     "output_type": "stream",
     "text": [
      "{'batch_size': 128, 'dropout1': 0.099, 'dropout2': 0.076, 'dropout3': 0.134, 'dropout4': 0.427, 'dropout5': 0.39, 'dropout6': 0.026, 'dropout7': 0.134, 'dropout8': 0.044, 'hidden_size1': 20, 'hidden_size2': 448, 'hidden_size3': 1024, 'hidden_size4': 448, 'hidden_size5': 1024, 'hidden_size6': 48, 'hidden_size7': 128, 'hidden_size8': 256, 'learning_rate': 0.0002, 'n_layers': 2, 'num_epochs': 10}\n",
      "0.7843373525429371                                                                                                     \n",
      " 36%|██████████████▊                          | 180/500 [26:29:23<54:55:54, 617.98s/it, best loss: -0.7905278665966281]"
     ]
    },
    {
     "name": "stderr",
     "output_type": "stream",
     "text": [
      "Global seed set to 1\n"
     ]
    },
    {
     "name": "stdout",
     "output_type": "stream",
     "text": [
      "{'batch_size': 2560, 'dropout1': 0.428, 'dropout2': 0.051, 'dropout3': 0.449, 'dropout4': 0.131, 'dropout5': 0.42, 'dropout6': 0.098, 'dropout7': 0.359, 'dropout8': 0.41, 'hidden_size1': 96, 'hidden_size2': 64, 'hidden_size3': 448, 'hidden_size4': 256, 'hidden_size5': 32, 'hidden_size6': 128, 'hidden_size7': 32, 'hidden_size8': 128, 'learning_rate': 0.009, 'n_layers': 5, 'num_epochs': 15}\n",
      "0.7893290383487994                                                                                                     \n",
      " 36%|██████████████▊                          | 181/500 [26:33:47<45:20:19, 511.66s/it, best loss: -0.7905278665966281]"
     ]
    },
    {
     "name": "stderr",
     "output_type": "stream",
     "text": [
      "Global seed set to 1\n"
     ]
    },
    {
     "name": "stdout",
     "output_type": "stream",
     "text": [
      "{'batch_size': 5120, 'dropout1': 0.372, 'dropout2': 0.038, 'dropout3': 0.219, 'dropout4': 0.234, 'dropout5': 0.439, 'dropout6': 0.179, 'dropout7': 0.301, 'dropout8': 0.432, 'hidden_size1': 48, 'hidden_size2': 96, 'hidden_size3': 896, 'hidden_size4': 64, 'hidden_size5': 128, 'hidden_size6': 128, 'hidden_size7': 32, 'hidden_size8': 64, 'learning_rate': 0.0006, 'n_layers': 1, 'num_epochs': 45}\n",
      "0.775486565149132                                                                                                      \n",
      " 36%|██████████████▉                          | 182/500 [26:45:14<49:50:32, 564.25s/it, best loss: -0.7905278665966281]"
     ]
    },
    {
     "name": "stderr",
     "output_type": "stream",
     "text": [
      "Global seed set to 1\n"
     ]
    },
    {
     "name": "stdout",
     "output_type": "stream",
     "text": [
      "{'batch_size': 512, 'dropout1': 0.193, 'dropout2': 0.479, 'dropout3': 0.234, 'dropout4': 0.392, 'dropout5': 0.07, 'dropout6': 0.137, 'dropout7': 0.04, 'dropout8': 0.16, 'hidden_size1': 18, 'hidden_size2': 48, 'hidden_size3': 64, 'hidden_size4': 256, 'hidden_size5': 256, 'hidden_size6': 64, 'hidden_size7': 1024, 'hidden_size8': 512, 'learning_rate': 0.04, 'n_layers': 5, 'num_epochs': 10}\n",
      "0.7871713179647536                                                                                                     \n",
      " 37%|███████████████                          | 183/500 [26:50:34<43:14:19, 491.04s/it, best loss: -0.7905278665966281]"
     ]
    },
    {
     "name": "stderr",
     "output_type": "stream",
     "text": [
      "Global seed set to 1\n"
     ]
    },
    {
     "name": "stdout",
     "output_type": "stream",
     "text": [
      "{'batch_size': 256, 'dropout1': 0.364, 'dropout2': 0.407, 'dropout3': 0.113, 'dropout4': 0.335, 'dropout5': 0.193, 'dropout6': 0.259, 'dropout7': 0.362, 'dropout8': 0.115, 'hidden_size1': 73, 'hidden_size2': 1024, 'hidden_size3': 96, 'hidden_size4': 896, 'hidden_size5': 512, 'hidden_size6': 448, 'hidden_size7': 896, 'hidden_size8': 48, 'learning_rate': 0.0003, 'n_layers': 4, 'num_epochs': 20}\n",
      "0.783906558949722                                                                                                      \n",
      " 37%|███████████████                          | 184/500 [27:05:55<54:25:03, 619.95s/it, best loss: -0.7905278665966281]"
     ]
    },
    {
     "name": "stderr",
     "output_type": "stream",
     "text": [
      "Global seed set to 1\n"
     ]
    },
    {
     "name": "stdout",
     "output_type": "stream",
     "text": [
      "{'batch_size': 12800, 'dropout1': 0.256, 'dropout2': 0.026, 'dropout3': 0.161, 'dropout4': 0.452, 'dropout5': 0.071, 'dropout6': 0.183, 'dropout7': 0.25, 'dropout8': 0.256, 'hidden_size1': 67, 'hidden_size2': 32, 'hidden_size3': 32, 'hidden_size4': 512, 'hidden_size5': 896, 'hidden_size6': 96, 'hidden_size7': 48, 'hidden_size8': 256, 'learning_rate': 0.007, 'n_layers': 5, 'num_epochs': 30}\n",
      "0.7885045491942668                                                                                                     \n",
      " 37%|███████████████▏                         | 185/500 [27:14:00<50:42:36, 579.54s/it, best loss: -0.7905278665966281]"
     ]
    },
    {
     "name": "stderr",
     "output_type": "stream",
     "text": [
      "Global seed set to 1\n"
     ]
    },
    {
     "name": "stdout",
     "output_type": "stream",
     "text": [
      "{'batch_size': 10240, 'dropout1': 0.224, 'dropout2': 0.129, 'dropout3': 0.136, 'dropout4': 0.149, 'dropout5': 0.235, 'dropout6': 0.103, 'dropout7': 0.139, 'dropout8': 0.1, 'hidden_size1': 62, 'hidden_size2': 128, 'hidden_size3': 896, 'hidden_size4': 96, 'hidden_size5': 96, 'hidden_size6': 1024, 'hidden_size7': 256, 'hidden_size8': 32, 'learning_rate': 0.0007, 'n_layers': 2, 'num_epochs': 10}\n",
      "0.7866795436546036                                                                                                     \n",
      " 37%|███████████████▎                         | 186/500 [27:16:56<39:59:31, 458.51s/it, best loss: -0.7905278665966281]"
     ]
    },
    {
     "name": "stderr",
     "output_type": "stream",
     "text": [
      "Global seed set to 1\n"
     ]
    },
    {
     "name": "stdout",
     "output_type": "stream",
     "text": [
      "{'batch_size': 2560, 'dropout1': 0.204, 'dropout2': 0.159, 'dropout3': 0.227, 'dropout4': 0.458, 'dropout5': 0.324, 'dropout6': 0.383, 'dropout7': 0.003, 'dropout8': 0.365, 'hidden_size1': 15, 'hidden_size2': 32, 'hidden_size3': 128, 'hidden_size4': 128, 'hidden_size5': 128, 'hidden_size6': 32, 'hidden_size7': 32, 'hidden_size8': 128, 'learning_rate': 0.0008, 'n_layers': 5, 'num_epochs': 10}\n",
      "0.7890912875267843                                                                                                     \n",
      " 37%|███████████████▎                         | 187/500 [27:20:00<32:41:54, 376.08s/it, best loss: -0.7905278665966281]"
     ]
    },
    {
     "name": "stderr",
     "output_type": "stream",
     "text": [
      "Global seed set to 1\n"
     ]
    },
    {
     "name": "stdout",
     "output_type": "stream",
     "text": [
      "{'batch_size': 5120, 'dropout1': 0.015, 'dropout2': 0.218, 'dropout3': 0.249, 'dropout4': 0.47, 'dropout5': 0.342, 'dropout6': 0.462, 'dropout7': 0.087, 'dropout8': 0.119, 'hidden_size1': 61, 'hidden_size2': 64, 'hidden_size3': 256, 'hidden_size4': 256, 'hidden_size5': 1024, 'hidden_size6': 128, 'hidden_size7': 448, 'hidden_size8': 896, 'learning_rate': 0.03, 'n_layers': 1, 'num_epochs': 35}\n",
      "0.7872605726968681                                                                                                     \n",
      " 38%|███████████████▍                         | 188/500 [27:29:00<36:51:32, 425.30s/it, best loss: -0.7905278665966281]"
     ]
    },
    {
     "name": "stderr",
     "output_type": "stream",
     "text": [
      "Global seed set to 1\n"
     ]
    },
    {
     "name": "stdout",
     "output_type": "stream",
     "text": [
      "{'batch_size': 4096, 'dropout1': 0.05, 'dropout2': 0.362, 'dropout3': 0.307, 'dropout4': 0.423, 'dropout5': 0.442, 'dropout6': 0.385, 'dropout7': 0.063, 'dropout8': 0.172, 'hidden_size1': 17, 'hidden_size2': 32, 'hidden_size3': 512, 'hidden_size4': 32, 'hidden_size5': 448, 'hidden_size6': 896, 'hidden_size7': 512, 'hidden_size8': 256, 'learning_rate': 0.0005, 'n_layers': 5, 'num_epochs': 50}\n",
      "0.7831606272114214                                                                                                     \n",
      " 38%|███████████████▍                         | 189/500 [27:42:22<46:29:47, 538.22s/it, best loss: -0.7905278665966281]"
     ]
    },
    {
     "name": "stderr",
     "output_type": "stream",
     "text": [
      "Global seed set to 1\n"
     ]
    },
    {
     "name": "stdout",
     "output_type": "stream",
     "text": [
      "{'batch_size': 2048, 'dropout1': 0.192, 'dropout2': 0.069, 'dropout3': 0.158, 'dropout4': 0.453, 'dropout5': 0.261, 'dropout6': 0.292, 'dropout7': 0.362, 'dropout8': 0.312, 'hidden_size1': 26, 'hidden_size2': 896, 'hidden_size3': 48, 'hidden_size4': 1024, 'hidden_size5': 48, 'hidden_size6': 256, 'hidden_size7': 64, 'hidden_size8': 448, 'learning_rate': 0.0003, 'n_layers': 3, 'num_epochs': 10}\n",
      "0.7889298667606262                                                                                                     \n",
      " 38%|███████████████▌                         | 190/500 [27:45:20<37:03:16, 430.31s/it, best loss: -0.7905278665966281]"
     ]
    },
    {
     "name": "stderr",
     "output_type": "stream",
     "text": [
      "Global seed set to 1\n"
     ]
    },
    {
     "name": "stdout",
     "output_type": "stream",
     "text": [
      "{'batch_size': 1024, 'dropout1': 0.04, 'dropout2': 0.138, 'dropout3': 0.411, 'dropout4': 0.201, 'dropout5': 0.165, 'dropout6': 0.389, 'dropout7': 0.471, 'dropout8': 0.285, 'hidden_size1': 8, 'hidden_size2': 512, 'hidden_size3': 896, 'hidden_size4': 256, 'hidden_size5': 1024, 'hidden_size6': 64, 'hidden_size7': 32, 'hidden_size8': 96, 'learning_rate': 0.004, 'n_layers': 4, 'num_epochs': 5}\n",
      "0.7862942102903506                                                                                                     \n",
      " 38%|███████████████▋                         | 191/500 [27:47:23<29:00:23, 337.94s/it, best loss: -0.7905278665966281]"
     ]
    },
    {
     "name": "stderr",
     "output_type": "stream",
     "text": [
      "Global seed set to 1\n"
     ]
    },
    {
     "name": "stdout",
     "output_type": "stream",
     "text": [
      "{'batch_size': 128, 'dropout1': 0.105, 'dropout2': 0.303, 'dropout3': 0.123, 'dropout4': 0.498, 'dropout5': 0.029, 'dropout6': 0.094, 'dropout7': 0.287, 'dropout8': 0.404, 'hidden_size1': 60, 'hidden_size2': 448, 'hidden_size3': 256, 'hidden_size4': 448, 'hidden_size5': 64, 'hidden_size6': 128, 'hidden_size7': 128, 'hidden_size8': 128, 'learning_rate': 0.005, 'n_layers': 3, 'num_epochs': 40}\n",
      "0.7638833249264283                                                                                                     \n",
      " 38%|███████████████▎                        | 192/500 [28:36:01<95:09:16, 1112.20s/it, best loss: -0.7905278665966281]"
     ]
    },
    {
     "name": "stderr",
     "output_type": "stream",
     "text": [
      "Global seed set to 1\n"
     ]
    },
    {
     "name": "stdout",
     "output_type": "stream",
     "text": [
      "{'batch_size': 2560, 'dropout1': 0.058, 'dropout2': 0.338, 'dropout3': 0.334, 'dropout4': 0.011, 'dropout5': 0.045, 'dropout6': 0.153, 'dropout7': 0.27, 'dropout8': 0.057, 'hidden_size1': 6, 'hidden_size2': 256, 'hidden_size3': 448, 'hidden_size4': 256, 'hidden_size5': 32, 'hidden_size6': 448, 'hidden_size7': 896, 'hidden_size8': 256, 'learning_rate': 0.009, 'n_layers': 5, 'num_epochs': 10}\n",
      "0.7890514518826256                                                                                                     \n",
      " 39%|███████████████▊                         | 193/500 [28:39:05<71:05:58, 833.74s/it, best loss: -0.7905278665966281]"
     ]
    },
    {
     "name": "stderr",
     "output_type": "stream",
     "text": [
      "Global seed set to 1\n"
     ]
    },
    {
     "name": "stdout",
     "output_type": "stream",
     "text": [
      "{'batch_size': 2048, 'dropout1': 0.365, 'dropout2': 0.47, 'dropout3': 0.408, 'dropout4': 0.2, 'dropout5': 0.119, 'dropout6': 0.071, 'dropout7': 0.404, 'dropout8': 0.113, 'hidden_size1': 33, 'hidden_size2': 32, 'hidden_size3': 1024, 'hidden_size4': 64, 'hidden_size5': 48, 'hidden_size6': 48, 'hidden_size7': 32, 'hidden_size8': 1024, 'learning_rate': 0.008, 'n_layers': 2, 'num_epochs': 25}\n",
      "0.7895435938646759                                                                                                     \n",
      " 39%|███████████████▉                         | 194/500 [28:45:43<59:44:12, 702.78s/it, best loss: -0.7905278665966281]"
     ]
    },
    {
     "name": "stderr",
     "output_type": "stream",
     "text": [
      "Global seed set to 1\n"
     ]
    },
    {
     "name": "stdout",
     "output_type": "stream",
     "text": [
      "{'batch_size': 512, 'dropout1': 0.257, 'dropout2': 0.148, 'dropout3': 0.092, 'dropout4': 0.397, 'dropout5': 0.241, 'dropout6': 0.498, 'dropout7': 0.487, 'dropout8': 0.17, 'hidden_size1': 43, 'hidden_size2': 64, 'hidden_size3': 64, 'hidden_size4': 896, 'hidden_size5': 128, 'hidden_size6': 128, 'hidden_size7': 1024, 'hidden_size8': 64, 'learning_rate': 0.001, 'n_layers': 3, 'num_epochs': 15}\n",
      "0.786797001269814                                                                                                      \n",
      " 39%|███████████████▉                         | 195/500 [28:52:38<52:14:12, 616.56s/it, best loss: -0.7905278665966281]"
     ]
    },
    {
     "name": "stderr",
     "output_type": "stream",
     "text": [
      "Global seed set to 1\n"
     ]
    },
    {
     "name": "stdout",
     "output_type": "stream",
     "text": [
      "{'batch_size': 5120, 'dropout1': 0.151, 'dropout2': 0.42, 'dropout3': 0.154, 'dropout4': 0.175, 'dropout5': 0.058, 'dropout6': 0.459, 'dropout7': 0.343, 'dropout8': 0.248, 'hidden_size1': 14, 'hidden_size2': 96, 'hidden_size3': 896, 'hidden_size4': 256, 'hidden_size5': 512, 'hidden_size6': 64, 'hidden_size7': 32, 'hidden_size8': 128, 'learning_rate': 0.006, 'n_layers': 5, 'num_epochs': 10}\n",
      "0.7900158003005167                                                                                                     \n",
      " 39%|████████████████                         | 196/500 [28:55:38<41:00:18, 485.59s/it, best loss: -0.7905278665966281]"
     ]
    },
    {
     "name": "stderr",
     "output_type": "stream",
     "text": [
      "Global seed set to 1\n"
     ]
    },
    {
     "name": "stdout",
     "output_type": "stream",
     "text": [
      "{'batch_size': 12800, 'dropout1': 0.121, 'dropout2': 0.186, 'dropout3': 0.352, 'dropout4': 0.398, 'dropout5': 0.051, 'dropout6': 0.085, 'dropout7': 0.019, 'dropout8': 0.34, 'hidden_size1': 50, 'hidden_size2': 32, 'hidden_size3': 128, 'hidden_size4': 512, 'hidden_size5': 256, 'hidden_size6': 448, 'hidden_size7': 48, 'hidden_size8': 256, 'learning_rate': 0.0001, 'n_layers': 1, 'num_epochs': 45}\n",
      "0.7895810088167471                                                                                                     \n",
      " 39%|████████████████▏                        | 197/500 [29:07:24<46:26:34, 551.80s/it, best loss: -0.7905278665966281]"
     ]
    },
    {
     "name": "stderr",
     "output_type": "stream",
     "text": [
      "Global seed set to 1\n"
     ]
    },
    {
     "name": "stdout",
     "output_type": "stream",
     "text": [
      "{'batch_size': 10240, 'dropout1': 0.068, 'dropout2': 0.373, 'dropout3': 0.04, 'dropout4': 0.446, 'dropout5': 0.137, 'dropout6': 0.36, 'dropout7': 0.274, 'dropout8': 0.154, 'hidden_size1': 51, 'hidden_size2': 48, 'hidden_size3': 256, 'hidden_size4': 96, 'hidden_size5': 896, 'hidden_size6': 96, 'hidden_size7': 896, 'hidden_size8': 48, 'learning_rate': 0.01, 'n_layers': 3, 'num_epochs': 20}\n",
      "0.7851331338127494                                                                                                     \n",
      " 40%|████████████████▏                        | 198/500 [29:12:52<40:38:33, 484.48s/it, best loss: -0.7905278665966281]"
     ]
    },
    {
     "name": "stderr",
     "output_type": "stream",
     "text": [
      "Global seed set to 1\n"
     ]
    },
    {
     "name": "stdout",
     "output_type": "stream",
     "text": [
      "{'batch_size': 2048, 'dropout1': 0.454, 'dropout2': 0.437, 'dropout3': 0.032, 'dropout4': 0.499, 'dropout5': 0.01, 'dropout6': 0.28, 'dropout7': 0.068, 'dropout8': 0.036, 'hidden_size1': 88, 'hidden_size2': 1024, 'hidden_size3': 32, 'hidden_size4': 128, 'hidden_size5': 48, 'hidden_size6': 1024, 'hidden_size7': 256, 'hidden_size8': 512, 'learning_rate': 0.0003, 'n_layers': 5, 'num_epochs': 10}\n",
      "0.7884569944759288                                                                                                     \n",
      " 40%|████████████████▎                        | 199/500 [29:15:59<33:03:55, 395.47s/it, best loss: -0.7905278665966281]"
     ]
    },
    {
     "name": "stderr",
     "output_type": "stream",
     "text": [
      "Global seed set to 1\n"
     ]
    },
    {
     "name": "stdout",
     "output_type": "stream",
     "text": [
      "{'batch_size': 2560, 'dropout1': 0.437, 'dropout2': 0.24, 'dropout3': 0.164, 'dropout4': 0.27, 'dropout5': 0.074, 'dropout6': 0.086, 'dropout7': 0.056, 'dropout8': 0.181, 'hidden_size1': 52, 'hidden_size2': 32, 'hidden_size3': 96, 'hidden_size4': 256, 'hidden_size5': 1024, 'hidden_size6': 32, 'hidden_size7': 32, 'hidden_size8': 32, 'learning_rate': 0.0002, 'n_layers': 3, 'num_epochs': 30}\n",
      "0.7867350886059665                                                                                                     \n",
      " 40%|████████████████▍                        | 200/500 [29:24:00<35:04:34, 420.92s/it, best loss: -0.7905278665966281]"
     ]
    },
    {
     "name": "stderr",
     "output_type": "stream",
     "text": [
      "Global seed set to 1\n"
     ]
    },
    {
     "name": "stdout",
     "output_type": "stream",
     "text": [
      "{'batch_size': 256, 'dropout1': 0.169, 'dropout2': 0.196, 'dropout3': 0.329, 'dropout4': 0.045, 'dropout5': 0.45, 'dropout6': 0.157, 'dropout7': 0.175, 'dropout8': 0.182, 'hidden_size1': 100, 'hidden_size2': 128, 'hidden_size3': 896, 'hidden_size4': 1024, 'hidden_size5': 96, 'hidden_size6': 128, 'hidden_size7': 448, 'hidden_size8': 128, 'learning_rate': 0.003, 'n_layers': 4, 'num_epochs': 10}\n",
      "0.7876537665679174                                                                                                     \n",
      " 40%|████████████████▍                        | 201/500 [29:31:51<36:13:31, 436.16s/it, best loss: -0.7905278665966281]"
     ]
    },
    {
     "name": "stderr",
     "output_type": "stream",
     "text": [
      "Global seed set to 1\n"
     ]
    },
    {
     "name": "stdout",
     "output_type": "stream",
     "text": [
      "{'batch_size': 2048, 'dropout1': 0.442, 'dropout2': 0.361, 'dropout3': 0.211, 'dropout4': 0.053, 'dropout5': 0.37, 'dropout6': 0.315, 'dropout7': 0.155, 'dropout8': 0.439, 'hidden_size1': 19, 'hidden_size2': 64, 'hidden_size3': 256, 'hidden_size4': 48, 'hidden_size5': 48, 'hidden_size6': 896, 'hidden_size7': 64, 'hidden_size8': 256, 'learning_rate': 0.0009, 'n_layers': 5, 'num_epochs': 35}\n",
      "0.783676919680788                                                                                                      \n",
      " 40%|████████████████▌                        | 202/500 [29:41:44<39:59:11, 483.06s/it, best loss: -0.7905278665966281]"
     ]
    },
    {
     "name": "stderr",
     "output_type": "stream",
     "text": [
      "Global seed set to 1\n"
     ]
    },
    {
     "name": "stdout",
     "output_type": "stream",
     "text": [
      "{'batch_size': 5120, 'dropout1': 0.492, 'dropout2': 0.059, 'dropout3': 0.355, 'dropout4': 0.28, 'dropout5': 0.268, 'dropout6': 0.156, 'dropout7': 0.262, 'dropout8': 0.001, 'hidden_size1': 45, 'hidden_size2': 32, 'hidden_size3': 48, 'hidden_size4': 256, 'hidden_size5': 128, 'hidden_size6': 256, 'hidden_size7': 32, 'hidden_size8': 896, 'learning_rate': 0.002, 'n_layers': 2, 'num_epochs': 50}\n",
      "0.7887624047098273                                                                                                     \n",
      " 41%|████████████████▋                        | 203/500 [29:54:34<46:56:48, 569.05s/it, best loss: -0.7905278665966281]"
     ]
    },
    {
     "name": "stderr",
     "output_type": "stream",
     "text": [
      "Global seed set to 1\n"
     ]
    },
    {
     "name": "stdout",
     "output_type": "stream",
     "text": [
      "{'batch_size': 1024, 'dropout1': 0.45, 'dropout2': 0.375, 'dropout3': 0.108, 'dropout4': 0.145, 'dropout5': 0.251, 'dropout6': 0.052, 'dropout7': 0.251, 'dropout8': 0.476, 'hidden_size1': 34, 'hidden_size2': 896, 'hidden_size3': 896, 'hidden_size4': 32, 'hidden_size5': 448, 'hidden_size6': 64, 'hidden_size7': 896, 'hidden_size8': 448, 'learning_rate': 0.02, 'n_layers': 3, 'num_epochs': 10}\n",
      "0.7876095863554211                                                                                                     \n",
      " 41%|████████████████▋                        | 204/500 [29:58:06<37:59:14, 462.01s/it, best loss: -0.7905278665966281]"
     ]
    },
    {
     "name": "stderr",
     "output_type": "stream",
     "text": [
      "Global seed set to 1\n"
     ]
    },
    {
     "name": "stdout",
     "output_type": "stream",
     "text": [
      "{'batch_size': 4096, 'dropout1': 0.396, 'dropout2': 0.247, 'dropout3': 0.053, 'dropout4': 0.194, 'dropout5': 0.105, 'dropout6': 0.095, 'dropout7': 0.027, 'dropout8': 0.055, 'hidden_size1': 80, 'hidden_size2': 512, 'hidden_size3': 256, 'hidden_size4': 448, 'hidden_size5': 1024, 'hidden_size6': 128, 'hidden_size7': 512, 'hidden_size8': 96, 'learning_rate': 0.001, 'n_layers': 5, 'num_epochs': 40}\n",
      "0.7545860115149943                                                                                                     \n",
      " 41%|████████████████▊                        | 205/500 [30:08:53<42:25:09, 517.66s/it, best loss: -0.7905278665966281]"
     ]
    },
    {
     "name": "stderr",
     "output_type": "stream",
     "text": [
      "Global seed set to 1\n"
     ]
    },
    {
     "name": "stdout",
     "output_type": "stream",
     "text": [
      "{'batch_size': 128, 'dropout1': 0.487, 'dropout2': 0.36, 'dropout3': 0.065, 'dropout4': 0.068, 'dropout5': 0.455, 'dropout6': 0.096, 'dropout7': 0.306, 'dropout8': 0.464, 'hidden_size1': 64, 'hidden_size2': 32, 'hidden_size3': 1024, 'hidden_size4': 256, 'hidden_size5': 64, 'hidden_size6': 448, 'hidden_size7': 128, 'hidden_size8': 128, 'learning_rate': 0.009, 'n_layers': 3, 'num_epochs': 10}\n",
      "0.7813061348458104                                                                                                     \n",
      " 41%|████████████████▉                        | 206/500 [30:21:29<48:06:11, 589.02s/it, best loss: -0.7905278665966281]"
     ]
    },
    {
     "name": "stderr",
     "output_type": "stream",
     "text": [
      "Global seed set to 1\n"
     ]
    },
    {
     "name": "stdout",
     "output_type": "stream",
     "text": [
      "{'batch_size': 2560, 'dropout1': 0.494, 'dropout2': 0.191, 'dropout3': 0.461, 'dropout4': 0.112, 'dropout5': 0.286, 'dropout6': 0.224, 'dropout7': 0.477, 'dropout8': 0.321, 'hidden_size1': 81, 'hidden_size2': 256, 'hidden_size3': 512, 'hidden_size4': 48, 'hidden_size5': 32, 'hidden_size6': 48, 'hidden_size7': 32, 'hidden_size8': 256, 'learning_rate': 0.0006, 'n_layers': 1, 'num_epochs': 25}\n",
      "0.7899274319860996                                                                                                     \n",
      " 41%|████████████████▉                        | 207/500 [30:27:55<42:58:48, 528.08s/it, best loss: -0.7905278665966281]"
     ]
    },
    {
     "name": "stderr",
     "output_type": "stream",
     "text": [
      "Global seed set to 1\n"
     ]
    },
    {
     "name": "stdout",
     "output_type": "stream",
     "text": [
      "{'batch_size': 2048, 'dropout1': 0.41, 'dropout2': 0.075, 'dropout3': 0.085, 'dropout4': 0.341, 'dropout5': 0.213, 'dropout6': 0.441, 'dropout7': 0.069, 'dropout8': 0.397, 'hidden_size1': 99, 'hidden_size2': 64, 'hidden_size3': 448, 'hidden_size4': 64, 'hidden_size5': 48, 'hidden_size6': 128, 'hidden_size7': 1024, 'hidden_size8': 1024, 'learning_rate': 0.007, 'n_layers': 5, 'num_epochs': 5}\n",
      "0.7896365133006225                                                                                                     \n",
      " 42%|█████████████████                        | 208/500 [30:29:42<32:34:47, 401.67s/it, best loss: -0.7905278665966281]"
     ]
    },
    {
     "name": "stderr",
     "output_type": "stream",
     "text": [
      "Global seed set to 1\n"
     ]
    },
    {
     "name": "stdout",
     "output_type": "stream",
     "text": [
      "{'batch_size': 5120, 'dropout1': 0.208, 'dropout2': 0.269, 'dropout3': 0.029, 'dropout4': 0.343, 'dropout5': 0.185, 'dropout6': 0.257, 'dropout7': 0.316, 'dropout8': 0.309, 'hidden_size1': 84, 'hidden_size2': 448, 'hidden_size3': 256, 'hidden_size4': 896, 'hidden_size5': 256, 'hidden_size6': 64, 'hidden_size7': 32, 'hidden_size8': 128, 'learning_rate': 0.0003, 'n_layers': 3, 'num_epochs': 15}\n",
      "0.7813785494431003                                                                                                     \n",
      " 42%|█████████████████▏                       | 209/500 [30:33:53<28:49:40, 356.63s/it, best loss: -0.7905278665966281]"
     ]
    },
    {
     "name": "stderr",
     "output_type": "stream",
     "text": [
      "Global seed set to 1\n"
     ]
    },
    {
     "name": "stdout",
     "output_type": "stream",
     "text": [
      "{'batch_size': 2048, 'dropout1': 0.346, 'dropout2': 0.487, 'dropout3': 0.018, 'dropout4': 0.251, 'dropout5': 0.112, 'dropout6': 0.337, 'dropout7': 0.143, 'dropout8': 0.202, 'hidden_size1': 70, 'hidden_size2': 32, 'hidden_size3': 896, 'hidden_size4': 256, 'hidden_size5': 128, 'hidden_size6': 448, 'hidden_size7': 48, 'hidden_size8': 64, 'learning_rate': 0.0007, 'n_layers': 4, 'num_epochs': 10}\n",
      "0.779141259944953                                                                                                      \n",
      " 42%|█████████████████▏                       | 210/500 [30:36:57<24:32:35, 304.67s/it, best loss: -0.7905278665966281]"
     ]
    },
    {
     "name": "stderr",
     "output_type": "stream",
     "text": [
      "Global seed set to 1\n"
     ]
    },
    {
     "name": "stdout",
     "output_type": "stream",
     "text": [
      "{'batch_size': 512, 'dropout1': 0.404, 'dropout2': 0.011, 'dropout3': 0.072, 'dropout4': 0.339, 'dropout5': 0.139, 'dropout6': 0.324, 'dropout7': 0.165, 'dropout8': 0.009, 'hidden_size1': 21, 'hidden_size2': 96, 'hidden_size3': 128, 'hidden_size4': 128, 'hidden_size5': 512, 'hidden_size6': 96, 'hidden_size7': 896, 'hidden_size8': 256, 'learning_rate': 0.04, 'n_layers': 5, 'num_epochs': 45}\n",
      "0.7702220303859736                                                                                                     \n",
      " 42%|█████████████████▎                       | 211/500 [30:59:23<49:32:18, 617.09s/it, best loss: -0.7905278665966281]"
     ]
    },
    {
     "name": "stderr",
     "output_type": "stream",
     "text": [
      "Global seed set to 1\n"
     ]
    },
    {
     "name": "stdout",
     "output_type": "stream",
     "text": [
      "{'batch_size': 10240, 'dropout1': 0.273, 'dropout2': 0.212, 'dropout3': 0.275, 'dropout4': 0.344, 'dropout5': 0.027, 'dropout6': 0.211, 'dropout7': 0.076, 'dropout8': 0.021, 'hidden_size1': 98, 'hidden_size2': 48, 'hidden_size3': 96, 'hidden_size4': 512, 'hidden_size5': 48, 'hidden_size6': 1024, 'hidden_size7': 32, 'hidden_size8': 48, 'learning_rate': 0.0008, 'n_layers': 2, 'num_epochs': 20}\n",
      "0.7873799922339325                                                                                                     \n",
      " 42%|█████████████████▍                       | 212/500 [31:04:48<42:21:43, 529.53s/it, best loss: -0.7905278665966281]"
     ]
    },
    {
     "name": "stderr",
     "output_type": "stream",
     "text": [
      "Global seed set to 1\n"
     ]
    },
    {
     "name": "stdout",
     "output_type": "stream",
     "text": [
      "{'batch_size': 256, 'dropout1': 0.499, 'dropout2': 0.223, 'dropout3': 0.481, 'dropout4': 0.444, 'dropout5': 0.151, 'dropout6': 0.386, 'dropout7': 0.49, 'dropout8': 0.138, 'hidden_size1': 38, 'hidden_size2': 1024, 'hidden_size3': 64, 'hidden_size4': 96, 'hidden_size5': 896, 'hidden_size6': 128, 'hidden_size7': 256, 'hidden_size8': 512, 'learning_rate': 0.0003, 'n_layers': 3, 'num_epochs': 10}\n",
      "0.782102663877506                                                                                                      \n",
      " 43%|█████████████████▍                       | 213/500 [31:12:06<40:01:22, 502.03s/it, best loss: -0.7905278665966281]"
     ]
    },
    {
     "name": "stderr",
     "output_type": "stream",
     "text": [
      "Global seed set to 1\n"
     ]
    },
    {
     "name": "stdout",
     "output_type": "stream",
     "text": [
      "{'batch_size': 12800, 'dropout1': 0.431, 'dropout2': 0.497, 'dropout3': 0.424, 'dropout4': 0.163, 'dropout5': 0.156, 'dropout6': 0.497, 'dropout7': 0.233, 'dropout8': 0.158, 'hidden_size1': 47, 'hidden_size2': 32, 'hidden_size3': 32, 'hidden_size4': 256, 'hidden_size5': 1024, 'hidden_size6': 32, 'hidden_size7': 448, 'hidden_size8': 32, 'learning_rate': 0.03, 'n_layers': 5, 'num_epochs': 30}\n",
      "0.7845529501757293                                                                                                     \n",
      " 43%|█████████████████▌                       | 214/500 [31:20:12<39:30:31, 497.31s/it, best loss: -0.7905278665966281]"
     ]
    },
    {
     "name": "stderr",
     "output_type": "stream",
     "text": [
      "Global seed set to 1\n"
     ]
    },
    {
     "name": "stdout",
     "output_type": "stream",
     "text": [
      "{'batch_size': 2560, 'dropout1': 0.354, 'dropout2': 0.275, 'dropout3': 0.206, 'dropout4': 0.284, 'dropout5': 0.454, 'dropout6': 0.193, 'dropout7': 0.183, 'dropout8': 0.457, 'hidden_size1': 71, 'hidden_size2': 128, 'hidden_size3': 256, 'hidden_size4': 48, 'hidden_size5': 96, 'hidden_size6': 896, 'hidden_size7': 32, 'hidden_size8': 128, 'learning_rate': 0.005, 'n_layers': 3, 'num_epochs': 10}\n",
      "0.7901566506094649                                                                                                     \n",
      " 43%|█████████████████▋                       | 215/500 [31:23:09<31:45:40, 401.19s/it, best loss: -0.7905278665966281]"
     ]
    },
    {
     "name": "stderr",
     "output_type": "stream",
     "text": [
      "Global seed set to 1\n"
     ]
    },
    {
     "name": "stdout",
     "output_type": "stream",
     "text": [
      "{'batch_size': 2048, 'dropout1': 0.368, 'dropout2': 0.295, 'dropout3': 0.232, 'dropout4': 0.425, 'dropout5': 0.204, 'dropout6': 0.102, 'dropout7': 0.124, 'dropout8': 0.469, 'hidden_size1': 35, 'hidden_size2': 64, 'hidden_size3': 896, 'hidden_size4': 1024, 'hidden_size5': 48, 'hidden_size6': 256, 'hidden_size7': 64, 'hidden_size8': 256, 'learning_rate': 0.004, 'n_layers': 5, 'num_epochs': 35}\n",
      "0.7743762643975325                                                                                                     \n",
      " 43%|█████████████████▋                       | 216/500 [31:33:02<36:11:17, 458.72s/it, best loss: -0.7905278665966281]"
     ]
    },
    {
     "name": "stderr",
     "output_type": "stream",
     "text": [
      "Global seed set to 1\n"
     ]
    },
    {
     "name": "stdout",
     "output_type": "stream",
     "text": [
      "{'batch_size': 5120, 'dropout1': 0.444, 'dropout2': 0.026, 'dropout3': 0.442, 'dropout4': 0.487, 'dropout5': 0.175, 'dropout6': 0.314, 'dropout7': 0.4, 'dropout8': 0.243, 'hidden_size1': 75, 'hidden_size2': 32, 'hidden_size3': 48, 'hidden_size4': 256, 'hidden_size5': 128, 'hidden_size6': 64, 'hidden_size7': 512, 'hidden_size8': 896, 'learning_rate': 0.0005, 'n_layers': 1, 'num_epochs': 50}\n",
      "0.7885569338244668                                                                                                     \n",
      " 43%|█████████████████▊                       | 217/500 [31:45:43<43:11:59, 549.54s/it, best loss: -0.7905278665966281]"
     ]
    },
    {
     "name": "stderr",
     "output_type": "stream",
     "text": [
      "Global seed set to 1\n"
     ]
    },
    {
     "name": "stdout",
     "output_type": "stream",
     "text": [
      "{'batch_size': 2560, 'dropout1': 0.399, 'dropout2': 0.079, 'dropout3': 0.485, 'dropout4': 0.098, 'dropout5': 0.302, 'dropout6': 0.229, 'dropout7': 0.036, 'dropout8': 0.327, 'hidden_size1': 93, 'hidden_size2': 512, 'hidden_size3': 256, 'hidden_size4': 32, 'hidden_size5': 448, 'hidden_size6': 128, 'hidden_size7': 896, 'hidden_size8': 96, 'learning_rate': 0.009, 'n_layers': 3, 'num_epochs': 10}\n",
      "0.7876502064139939                                                                                                     \n",
      " 44%|█████████████████▉                       | 218/500 [31:48:40<34:17:47, 437.83s/it, best loss: -0.7905278665966281]"
     ]
    },
    {
     "name": "stderr",
     "output_type": "stream",
     "text": [
      "Global seed set to 1\n"
     ]
    },
    {
     "name": "stdout",
     "output_type": "stream",
     "text": [
      "{'batch_size': 4096, 'dropout1': 0.413, 'dropout2': 0.194, 'dropout3': 0.22, 'dropout4': 0.454, 'dropout5': 0.172, 'dropout6': 0.061, 'dropout7': 0.416, 'dropout8': 0.45, 'hidden_size1': 86, 'hidden_size2': 896, 'hidden_size3': 896, 'hidden_size4': 448, 'hidden_size5': 1024, 'hidden_size6': 448, 'hidden_size7': 32, 'hidden_size8': 448, 'learning_rate': 0.001, 'n_layers': 4, 'num_epochs': 5}\n",
      "0.78619821718091                                                                                                       \n",
      " 44%|█████████████████▉                       | 219/500 [31:50:23<26:19:05, 337.17s/it, best loss: -0.7905278665966281]"
     ]
    },
    {
     "name": "stderr",
     "output_type": "stream",
     "text": [
      "Global seed set to 1\n"
     ]
    },
    {
     "name": "stdout",
     "output_type": "stream",
     "text": [
      "{'batch_size': 128, 'dropout1': 0.469, 'dropout2': 0.199, 'dropout3': 0.044, 'dropout4': 0.336, 'dropout5': 0.381, 'dropout6': 0.201, 'dropout7': 0.387, 'dropout8': 0.156, 'hidden_size1': 83, 'hidden_size2': 32, 'hidden_size3': 512, 'hidden_size4': 256, 'hidden_size5': 64, 'hidden_size6': 48, 'hidden_size7': 128, 'hidden_size8': 128, 'learning_rate': 0.008, 'n_layers': 5, 'num_epochs': 40}\n",
      "0.7493803510618239                                                                                                     \n",
      " 44%|█████████████████▌                      | 220/500 [32:47:40<98:33:32, 1267.19s/it, best loss: -0.7905278665966281]"
     ]
    },
    {
     "name": "stderr",
     "output_type": "stream",
     "text": [
      "Global seed set to 1\n"
     ]
    },
    {
     "name": "stdout",
     "output_type": "stream",
     "text": [
      "{'batch_size': 1024, 'dropout1': 0.385, 'dropout2': 0.493, 'dropout3': 0.263, 'dropout4': 0.376, 'dropout5': 0.358, 'dropout6': 0.318, 'dropout7': 0.326, 'dropout8': 0.144, 'hidden_size1': 9, 'hidden_size2': 256, 'hidden_size3': 1024, 'hidden_size4': 48, 'hidden_size5': 32, 'hidden_size6': 128, 'hidden_size7': 1024, 'hidden_size8': 256, 'learning_rate': 0.006, 'n_layers': 2, 'num_epochs': 10}\n",
      "0.7897183669893997                                                                                                     \n",
      " 44%|██████████████████                       | 221/500 [32:51:03<73:28:12, 948.00s/it, best loss: -0.7905278665966281]"
     ]
    },
    {
     "name": "stderr",
     "output_type": "stream",
     "text": [
      "Global seed set to 1\n"
     ]
    },
    {
     "name": "stdout",
     "output_type": "stream",
     "text": [
      "{'batch_size': 2048, 'dropout1': 0.096, 'dropout2': 0.369, 'dropout3': 0.05, 'dropout4': 0.23, 'dropout5': 0.3, 'dropout6': 0.23, 'dropout7': 0.396, 'dropout8': 0.172, 'hidden_size1': 46, 'hidden_size2': 448, 'hidden_size3': 448, 'hidden_size4': 64, 'hidden_size5': 48, 'hidden_size6': 64, 'hidden_size7': 32, 'hidden_size8': 1024, 'learning_rate': 0.003, 'n_layers': 3, 'num_epochs': 25}\n",
      "0.7677192422114206                                                                                                     \n",
      " 44%|██████████████████▏                      | 222/500 [32:57:54<60:45:19, 786.76s/it, best loss: -0.7905278665966281]"
     ]
    },
    {
     "name": "stderr",
     "output_type": "stream",
     "text": [
      "Global seed set to 1\n"
     ]
    },
    {
     "name": "stdout",
     "output_type": "stream",
     "text": [
      "{'batch_size': 5120, 'dropout1': 0.284, 'dropout2': 0.429, 'dropout3': 0.202, 'dropout4': 0.157, 'dropout5': 0.414, 'dropout6': 0.083, 'dropout7': 0.123, 'dropout8': 0.061, 'hidden_size1': 61, 'hidden_size2': 64, 'hidden_size3': 896, 'hidden_size4': 896, 'hidden_size5': 128, 'hidden_size6': 448, 'hidden_size7': 48, 'hidden_size8': 128, 'learning_rate': 0.0001, 'n_layers': 5, 'num_epochs': 15}\n",
      "0.7874357977667216                                                                                                     \n",
      " 45%|██████████████████▎                      | 223/500 [33:02:11<48:18:09, 627.76s/it, best loss: -0.7905278665966281]"
     ]
    },
    {
     "name": "stderr",
     "output_type": "stream",
     "text": [
      "Global seed set to 1\n"
     ]
    },
    {
     "name": "stdout",
     "output_type": "stream",
     "text": [
      "{'batch_size': 512, 'dropout1': 0.31, 'dropout2': 0.32, 'dropout3': 0.244, 'dropout4': 0.449, 'dropout5': 0.226, 'dropout6': 0.26, 'dropout7': 0.162, 'dropout8': 0.012, 'hidden_size1': 77, 'hidden_size2': 32, 'hidden_size3': 256, 'hidden_size4': 256, 'hidden_size5': 256, 'hidden_size6': 96, 'hidden_size7': 896, 'hidden_size8': 64, 'learning_rate': 0.0003, 'n_layers': 3, 'num_epochs': 10}\n",
      "0.7885023369656385                                                                                                     \n",
      " 45%|██████████████████▎                      | 224/500 [33:06:57<40:16:05, 525.24s/it, best loss: -0.7905278665966281]"
     ]
    },
    {
     "name": "stderr",
     "output_type": "stream",
     "text": [
      "Global seed set to 1\n"
     ]
    },
    {
     "name": "stdout",
     "output_type": "stream",
     "text": [
      "{'batch_size': 2048, 'dropout1': 0.466, 'dropout2': 0.016, 'dropout3': 0.435, 'dropout4': 0.063, 'dropout5': 0.171, 'dropout6': 0.146, 'dropout7': 0.328, 'dropout8': 0.219, 'hidden_size1': 85, 'hidden_size2': 48, 'hidden_size3': 64, 'hidden_size4': 512, 'hidden_size5': 512, 'hidden_size6': 1024, 'hidden_size7': 32, 'hidden_size8': 256, 'learning_rate': 0.01, 'n_layers': 1, 'num_epochs': 20}\n",
      "0.7873566647745418                                                                                                     \n",
      " 45%|██████████████████▍                      | 225/500 [33:12:11<35:17:42, 462.05s/it, best loss: -0.7905278665966281]"
     ]
    },
    {
     "name": "stderr",
     "output_type": "stream",
     "text": [
      "Global seed set to 1\n"
     ]
    },
    {
     "name": "stdout",
     "output_type": "stream",
     "text": [
      "{'batch_size': 12800, 'dropout1': 0.061, 'dropout2': 0.024, 'dropout3': 0.323, 'dropout4': 0.153, 'dropout5': 0.407, 'dropout6': 0.015, 'dropout7': 0.211, 'dropout8': 0.146, 'hidden_size1': 72, 'hidden_size2': 96, 'hidden_size3': 128, 'hidden_size4': 96, 'hidden_size5': 48, 'hidden_size6': 128, 'hidden_size7': 256, 'hidden_size8': 48, 'learning_rate': 0.0009, 'n_layers': 5, 'num_epochs': 45}\n",
      "0.7898556057689963                                                                                                     \n",
      " 45%|██████████████████▌                      | 226/500 [33:24:08<40:58:23, 538.33s/it, best loss: -0.7905278665966281]"
     ]
    },
    {
     "name": "stderr",
     "output_type": "stream",
     "text": [
      "Global seed set to 1\n"
     ]
    },
    {
     "name": "stdout",
     "output_type": "stream",
     "text": [
      "{'batch_size': 10240, 'dropout1': 0.229, 'dropout2': 0.106, 'dropout3': 0.143, 'dropout4': 0.329, 'dropout5': 0.222, 'dropout6': 0.294, 'dropout7': 0.005, 'dropout8': 0.405, 'hidden_size1': 41, 'hidden_size2': 1024, 'hidden_size3': 32, 'hidden_size4': 128, 'hidden_size5': 896, 'hidden_size6': 896, 'hidden_size7': 448, 'hidden_size8': 32, 'learning_rate': 0.02, 'n_layers': 3, 'num_epochs': 10}\n",
      "0.7796642128552018                                                                                                     \n",
      " 45%|██████████████████▌                      | 227/500 [33:27:05<32:36:20, 429.97s/it, best loss: -0.7905278665966281]"
     ]
    },
    {
     "name": "stderr",
     "output_type": "stream",
     "text": [
      "Global seed set to 1\n"
     ]
    },
    {
     "name": "stdout",
     "output_type": "stream",
     "text": [
      "{'batch_size': 256, 'dropout1': 0.35, 'dropout2': 0.39, 'dropout3': 0.022, 'dropout4': 0.43, 'dropout5': 0.24, 'dropout6': 0.319, 'dropout7': 0.129, 'dropout8': 0.29, 'hidden_size1': 82, 'hidden_size2': 32, 'hidden_size3': 896, 'hidden_size4': 256, 'hidden_size5': 1024, 'hidden_size6': 32, 'hidden_size7': 64, 'hidden_size8': 512, 'learning_rate': 0.0002, 'n_layers': 4, 'num_epochs': 30}\n",
      "0.7455316047093068                                                                                                     \n",
      " 46%|██████████████████▋                      | 228/500 [33:49:45<53:34:25, 709.06s/it, best loss: -0.7905278665966281]"
     ]
    },
    {
     "name": "stderr",
     "output_type": "stream",
     "text": [
      "Global seed set to 1\n"
     ]
    },
    {
     "name": "stdout",
     "output_type": "stream",
     "text": [
      "{'batch_size': 2560, 'dropout1': 0.002, 'dropout2': 0.421, 'dropout3': 0.45, 'dropout4': 0.395, 'dropout5': 0.398, 'dropout6': 0.421, 'dropout7': 0.158, 'dropout8': 0.046, 'hidden_size1': 58, 'hidden_size2': 128, 'hidden_size3': 96, 'hidden_size4': 48, 'hidden_size5': 96, 'hidden_size6': 256, 'hidden_size7': 32, 'hidden_size8': 128, 'learning_rate': 0.002, 'n_layers': 5, 'num_epochs': 10}\n",
      "0.7859304659527053                                                                                                     \n",
      " 46%|██████████████████▊                      | 229/500 [33:52:51<41:34:11, 552.22s/it, best loss: -0.7905278665966281]"
     ]
    },
    {
     "name": "stderr",
     "output_type": "stream",
     "text": [
      "Global seed set to 1\n"
     ]
    },
    {
     "name": "stdout",
     "output_type": "stream",
     "text": [
      "{'batch_size': 2048, 'dropout1': 0.183, 'dropout2': 0.289, 'dropout3': 0.041, 'dropout4': 0.013, 'dropout5': 0.395, 'dropout6': 0.212, 'dropout7': 0.072, 'dropout8': 0.162, 'hidden_size1': 59, 'hidden_size2': 64, 'hidden_size3': 256, 'hidden_size4': 1024, 'hidden_size5': 48, 'hidden_size6': 64, 'hidden_size7': 512, 'hidden_size8': 256, 'learning_rate': 0.009, 'n_layers': 2, 'num_epochs': 10}\n",
      "0.7868718472325696                                                                                                     \n",
      " 46%|██████████████████▊                      | 230/500 [33:55:48<32:57:44, 439.50s/it, best loss: -0.7905278665966281]"
     ]
    },
    {
     "name": "stderr",
     "output_type": "stream",
     "text": [
      "Global seed set to 1\n"
     ]
    },
    {
     "name": "stdout",
     "output_type": "stream",
     "text": [
      "{'batch_size': 5120, 'dropout1': 0.16, 'dropout2': 0.014, 'dropout3': 0.119, 'dropout4': 0.235, 'dropout5': 0.311, 'dropout6': 0.169, 'dropout7': 0.434, 'dropout8': 0.313, 'hidden_size1': 78, 'hidden_size2': 32, 'hidden_size3': 48, 'hidden_size4': 256, 'hidden_size5': 128, 'hidden_size6': 128, 'hidden_size7': 896, 'hidden_size8': 896, 'learning_rate': 0.001, 'n_layers': 3, 'num_epochs': 35}\n",
      "0.7868958375279174                                                                                                     \n",
      " 46%|██████████████████▉                      | 231/500 [34:05:06<35:30:18, 475.16s/it, best loss: -0.7905278665966281]"
     ]
    },
    {
     "name": "stderr",
     "output_type": "stream",
     "text": [
      "Global seed set to 1\n"
     ]
    },
    {
     "name": "stdout",
     "output_type": "stream",
     "text": [
      "{'batch_size': 4096, 'dropout1': 0.227, 'dropout2': 0.313, 'dropout3': 0.417, 'dropout4': 0.393, 'dropout5': 0.266, 'dropout6': 0.391, 'dropout7': 0.34, 'dropout8': 0.111, 'hidden_size1': 27, 'hidden_size2': 512, 'hidden_size3': 896, 'hidden_size4': 32, 'hidden_size5': 448, 'hidden_size6': 448, 'hidden_size7': 32, 'hidden_size8': 96, 'learning_rate': 0.0003, 'n_layers': 5, 'num_epochs': 50}\n",
      "0.7879532265038982                                                                                                     \n",
      " 46%|███████████████████                      | 232/500 [34:18:36<42:50:25, 575.47s/it, best loss: -0.7905278665966281]"
     ]
    },
    {
     "name": "stderr",
     "output_type": "stream",
     "text": [
      "Global seed set to 1\n"
     ]
    },
    {
     "name": "stdout",
     "output_type": "stream",
     "text": [
      "{'batch_size': 1024, 'dropout1': 0.275, 'dropout2': 0.241, 'dropout3': 0.034, 'dropout4': 0.073, 'dropout5': 0.189, 'dropout6': 0.18, 'dropout7': 0.096, 'dropout8': 0.059, 'hidden_size1': 60, 'hidden_size2': 896, 'hidden_size3': 256, 'hidden_size4': 256, 'hidden_size5': 64, 'hidden_size6': 48, 'hidden_size7': 128, 'hidden_size8': 448, 'learning_rate': 0.0006, 'n_layers': 3, 'num_epochs': 5}\n",
      "0.7893708087092459                                                                                                     \n",
      " 47%|███████████████████                      | 233/500 [34:20:34<32:30:27, 438.31s/it, best loss: -0.7905278665966281]"
     ]
    },
    {
     "name": "stderr",
     "output_type": "stream",
     "text": [
      "Global seed set to 1\n"
     ]
    },
    {
     "name": "stdout",
     "output_type": "stream",
     "text": [
      "{'batch_size': 128, 'dropout1': 0.415, 'dropout2': 0.256, 'dropout3': 0.146, 'dropout4': 0.3, 'dropout5': 0.475, 'dropout6': 0.24, 'dropout7': 0.442, 'dropout8': 0.109, 'hidden_size1': 25, 'hidden_size2': 32, 'hidden_size3': 512, 'hidden_size4': 448, 'hidden_size5': 1024, 'hidden_size6': 128, 'hidden_size7': 32, 'hidden_size8': 128, 'learning_rate': 0.04, 'n_layers': 1, 'num_epochs': 10}\n",
      "0.7837919887449428                                                                                                     \n",
      " 47%|███████████████████▏                     | 234/500 [34:30:55<36:26:56, 493.29s/it, best loss: -0.7905278665966281]"
     ]
    },
    {
     "name": "stderr",
     "output_type": "stream",
     "text": [
      "Global seed set to 1\n"
     ]
    },
    {
     "name": "stdout",
     "output_type": "stream",
     "text": [
      "{'batch_size': 2560, 'dropout1': 0.221, 'dropout2': 0.094, 'dropout3': 0.118, 'dropout4': 0.121, 'dropout5': 0.121, 'dropout6': 0.063, 'dropout7': 0.021, 'dropout8': 0.403, 'hidden_size1': 23, 'hidden_size2': 256, 'hidden_size3': 1024, 'hidden_size4': 48, 'hidden_size5': 32, 'hidden_size6': 512, 'hidden_size7': 1024, 'hidden_size8': 256, 'learning_rate': 0.0008, 'n_layers': 5, 'num_epochs': 40}\n",
      "0.7536150924490377                                                                                                     \n",
      " 47%|███████████████████▎                     | 235/500 [34:42:01<40:06:42, 544.91s/it, best loss: -0.7905278665966281]"
     ]
    },
    {
     "name": "stderr",
     "output_type": "stream",
     "text": [
      "Global seed set to 1\n"
     ]
    },
    {
     "name": "stdout",
     "output_type": "stream",
     "text": [
      "{'batch_size': 2048, 'dropout1': 0.303, 'dropout2': 0.143, 'dropout3': 0.112, 'dropout4': 0.029, 'dropout5': 0.024, 'dropout6': 0.355, 'dropout7': 0.483, 'dropout8': 0.237, 'hidden_size1': 29, 'hidden_size2': 448, 'hidden_size3': 448, 'hidden_size4': 64, 'hidden_size5': 48, 'hidden_size6': 64, 'hidden_size7': 896, 'hidden_size8': 1024, 'learning_rate': 0.007, 'n_layers': 3, 'num_epochs': 25}\n",
      "0.7762862493440512                                                                                                     \n",
      " 47%|███████████████████▎                     | 236/500 [34:48:51<36:59:20, 504.39s/it, best loss: -0.7905278665966281]"
     ]
    },
    {
     "name": "stderr",
     "output_type": "stream",
     "text": [
      "Global seed set to 1\n"
     ]
    },
    {
     "name": "stdout",
     "output_type": "stream",
     "text": [
      "{'batch_size': 5120, 'dropout1': 0.202, 'dropout2': 0.398, 'dropout3': 0.486, 'dropout4': 0.198, 'dropout5': 0.354, 'dropout6': 0.326, 'dropout7': 0.18, 'dropout8': 0.491, 'hidden_size1': 24, 'hidden_size2': 64, 'hidden_size3': 896, 'hidden_size4': 256, 'hidden_size5': 256, 'hidden_size6': 448, 'hidden_size7': 48, 'hidden_size8': 128, 'learning_rate': 0.03, 'n_layers': 4, 'num_epochs': 10}\n",
      "0.786070015089805                                                                                                      \n",
      " 47%|███████████████████▍                     | 237/500 [34:51:48<29:41:28, 406.42s/it, best loss: -0.7905278665966281]"
     ]
    },
    {
     "name": "stderr",
     "output_type": "stream",
     "text": [
      "Global seed set to 1\n"
     ]
    },
    {
     "name": "stdout",
     "output_type": "stream",
     "text": [
      "{'batch_size': 512, 'dropout1': 0.484, 'dropout2': 0.174, 'dropout3': 0.476, 'dropout4': 0.126, 'dropout5': 0.18, 'dropout6': 0.208, 'dropout7': 0.482, 'dropout8': 0.44, 'hidden_size1': 56, 'hidden_size2': 32, 'hidden_size3': 256, 'hidden_size4': 896, 'hidden_size5': 128, 'hidden_size6': 128, 'hidden_size7': 32, 'hidden_size8': 64, 'learning_rate': 0.0005, 'n_layers': 5, 'num_epochs': 10}\n",
      "0.7859000152647537                                                                                                     \n",
      " 48%|███████████████████▌                     | 238/500 [34:57:07<27:40:11, 380.20s/it, best loss: -0.7905278665966281]"
     ]
    },
    {
     "name": "stderr",
     "output_type": "stream",
     "text": [
      "Global seed set to 1\n"
     ]
    },
    {
     "name": "stdout",
     "output_type": "stream",
     "text": [
      "{'batch_size': 2048, 'dropout1': 0.464, 'dropout2': 0.111, 'dropout3': 0.287, 'dropout4': 0.385, 'dropout5': 0.284, 'dropout6': 0.036, 'dropout7': 0.365, 'dropout8': 0.025, 'hidden_size1': 30, 'hidden_size2': 96, 'hidden_size3': 64, 'hidden_size4': 512, 'hidden_size5': 512, 'hidden_size6': 96, 'hidden_size7': 256, 'hidden_size8': 256, 'learning_rate': 0.0007, 'n_layers': 3, 'num_epochs': 10}\n",
      "0.7879779746541802                                                                                                     \n",
      " 48%|███████████████████▌                     | 239/500 [35:00:06<23:11:19, 319.84s/it, best loss: -0.7905278665966281]"
     ]
    },
    {
     "name": "stderr",
     "output_type": "stream",
     "text": [
      "Global seed set to 1\n"
     ]
    },
    {
     "name": "stdout",
     "output_type": "stream",
     "text": [
      "{'batch_size': 12800, 'dropout1': 0.427, 'dropout2': 0.402, 'dropout3': 0.455, 'dropout4': 0.386, 'dropout5': 0.23, 'dropout6': 0.184, 'dropout7': 0.008, 'dropout8': 0.019, 'hidden_size1': 31, 'hidden_size2': 1024, 'hidden_size3': 128, 'hidden_size4': 96, 'hidden_size5': 48, 'hidden_size6': 1024, 'hidden_size7': 96, 'hidden_size8': 48, 'learning_rate': 0.0003, 'n_layers': 2, 'num_epochs': 15}\n",
      "0.7802837653409764                                                                                                     \n",
      " 48%|███████████████████▋                     | 240/500 [35:04:19<21:38:40, 299.70s/it, best loss: -0.7905278665966281]"
     ]
    },
    {
     "name": "stderr",
     "output_type": "stream",
     "text": [
      "Global seed set to 1\n"
     ]
    },
    {
     "name": "stdout",
     "output_type": "stream",
     "text": [
      "{'batch_size': 256, 'dropout1': 0.102, 'dropout2': 0.28, 'dropout3': 0.25, 'dropout4': 0.216, 'dropout5': 0.173, 'dropout6': 0.168, 'dropout7': 0.148, 'dropout8': 0.165, 'hidden_size1': 69, 'hidden_size2': 48, 'hidden_size3': 96, 'hidden_size4': 128, 'hidden_size5': 896, 'hidden_size6': 32, 'hidden_size7': 64, 'hidden_size8': 512, 'learning_rate': 0.005, 'n_layers': 5, 'num_epochs': 45}\n",
      "0.7853233194589152                                                                                                     \n",
      " 48%|███████████████████▊                     | 241/500 [35:40:43<62:13:06, 864.81s/it, best loss: -0.7905278665966281]"
     ]
    },
    {
     "name": "stderr",
     "output_type": "stream",
     "text": [
      "Global seed set to 1\n"
     ]
    },
    {
     "name": "stdout",
     "output_type": "stream",
     "text": [
      "{'batch_size': 10240, 'dropout1': 0.261, 'dropout2': 0.22, 'dropout3': 0.316, 'dropout4': 0.383, 'dropout5': 0.218, 'dropout6': 0.387, 'dropout7': 0.267, 'dropout8': 0.4, 'hidden_size1': 68, 'hidden_size2': 32, 'hidden_size3': 32, 'hidden_size4': 256, 'hidden_size5': 1024, 'hidden_size6': 896, 'hidden_size7': 448, 'hidden_size8': 32, 'learning_rate': 0.009, 'n_layers': 3, 'num_epochs': 20}\n",
      "0.7834795733640023                                                                                                     \n",
      " 48%|███████████████████▊                     | 242/500 [35:46:11<50:26:21, 703.80s/it, best loss: -0.7905278665966281]"
     ]
    },
    {
     "name": "stderr",
     "output_type": "stream",
     "text": [
      "Global seed set to 1\n"
     ]
    },
    {
     "name": "stdout",
     "output_type": "stream",
     "text": [
      "{'batch_size': 2560, 'dropout1': 0.371, 'dropout2': 0.169, 'dropout3': 0.076, 'dropout4': 0.059, 'dropout5': 0.307, 'dropout6': 0.104, 'dropout7': 0.236, 'dropout8': 0.117, 'hidden_size1': 87, 'hidden_size2': 128, 'hidden_size3': 896, 'hidden_size4': 48, 'hidden_size5': 96, 'hidden_size6': 256, 'hidden_size7': 32, 'hidden_size8': 128, 'learning_rate': 0.004, 'n_layers': 1, 'num_epochs': 30}\n",
      "0.7611831823494003                                                                                                     \n",
      " 49%|███████████████████▉                     | 243/500 [35:53:49<44:59:49, 630.31s/it, best loss: -0.7905278665966281]"
     ]
    },
    {
     "name": "stderr",
     "output_type": "stream",
     "text": [
      "Global seed set to 1\n"
     ]
    },
    {
     "name": "stdout",
     "output_type": "stream",
     "text": [
      "{'batch_size': 2048, 'dropout1': 0.114, 'dropout2': 0.221, 'dropout3': 0.257, 'dropout4': 0.071, 'dropout5': 0.216, 'dropout6': 0.473, 'dropout7': 0.354, 'dropout8': 0.379, 'hidden_size1': 36, 'hidden_size2': 64, 'hidden_size3': 256, 'hidden_size4': 256, 'hidden_size5': 48, 'hidden_size6': 64, 'hidden_size7': 512, 'hidden_size8': 256, 'learning_rate': 0.0004, 'n_layers': 5, 'num_epochs': 35}\n",
      "0.7854251192931851                                                                                                     \n",
      " 49%|████████████████████                     | 244/500 [36:03:44<44:03:29, 619.57s/it, best loss: -0.7905278665966281]"
     ]
    },
    {
     "name": "stderr",
     "output_type": "stream",
     "text": [
      "Global seed set to 1\n"
     ]
    },
    {
     "name": "stdout",
     "output_type": "stream",
     "text": [
      "{'batch_size': 5120, 'dropout1': 0.19, 'dropout2': 0.284, 'dropout3': 0.454, 'dropout4': 0.058, 'dropout5': 0.108, 'dropout6': 0.028, 'dropout7': 0.024, 'dropout8': 0.25, 'hidden_size1': 57, 'hidden_size2': 32, 'hidden_size3': 896, 'hidden_size4': 1024, 'hidden_size5': 128, 'hidden_size6': 128, 'hidden_size7': 896, 'hidden_size8': 896, 'learning_rate': 0.001, 'n_layers': 3, 'num_epochs': 10}\n",
      "0.786974129152572                                                                                                      \n",
      " 49%|████████████████████                     | 245/500 [36:06:40<34:27:51, 486.55s/it, best loss: -0.7905278665966281]"
     ]
    },
    {
     "name": "stderr",
     "output_type": "stream",
     "text": [
      "Global seed set to 1\n"
     ]
    },
    {
     "name": "stdout",
     "output_type": "stream",
     "text": [
      "{'batch_size': 4096, 'dropout1': 0.104, 'dropout2': 0.184, 'dropout3': 0.221, 'dropout4': 0.177, 'dropout5': 0.422, 'dropout6': 0.325, 'dropout7': 0.246, 'dropout8': 0.037, 'hidden_size1': 40, 'hidden_size2': 512, 'hidden_size3': 256, 'hidden_size4': 32, 'hidden_size5': 1024, 'hidden_size6': 448, 'hidden_size7': 32, 'hidden_size8': 448, 'learning_rate': 0.006, 'n_layers': 4, 'num_epochs': 50}\n",
      "0.7796460928257645                                                                                                     \n",
      " 49%|████████████████████▏                    | 246/500 [36:19:50<40:44:28, 577.43s/it, best loss: -0.7905278665966281]"
     ]
    },
    {
     "name": "stderr",
     "output_type": "stream",
     "text": [
      "Global seed set to 1\n"
     ]
    },
    {
     "name": "stdout",
     "output_type": "stream",
     "text": [
      "{'batch_size': 1024, 'dropout1': 0.336, 'dropout2': 0.376, 'dropout3': 0.376, 'dropout4': 0.462, 'dropout5': 0.459, 'dropout6': 0.21, 'dropout7': 0.227, 'dropout8': 0.319, 'hidden_size1': 16, 'hidden_size2': 896, 'hidden_size3': 512, 'hidden_size4': 448, 'hidden_size5': 448, 'hidden_size6': 48, 'hidden_size7': 128, 'hidden_size8': 128, 'learning_rate': 0.008, 'n_layers': 5, 'num_epochs': 5}\n",
      "0.7869671321941214                                                                                                     \n",
      " 49%|████████████████████▎                    | 247/500 [36:21:56<31:04:44, 442.23s/it, best loss: -0.7905278665966281]"
     ]
    },
    {
     "name": "stderr",
     "output_type": "stream",
     "text": [
      "Global seed set to 1\n"
     ]
    },
    {
     "name": "stdout",
     "output_type": "stream",
     "text": [
      "{'batch_size': 128, 'dropout1': 0.073, 'dropout2': 0.125, 'dropout3': 0.083, 'dropout4': 0.497, 'dropout5': 0.453, 'dropout6': 0.38, 'dropout7': 0.212, 'dropout8': 0.371, 'hidden_size1': 89, 'hidden_size2': 32, 'hidden_size3': 48, 'hidden_size4': 256, 'hidden_size5': 48, 'hidden_size6': 512, 'hidden_size7': 1024, 'hidden_size8': 96, 'learning_rate': 0.01, 'n_layers': 3, 'num_epochs': 10}\n",
      "0.7823829493839405                                                                                                     \n",
      " 50%|████████████████████▎                    | 248/500 [36:34:29<37:28:03, 535.25s/it, best loss: -0.7905278665966281]"
     ]
    },
    {
     "name": "stderr",
     "output_type": "stream",
     "text": [
      "Global seed set to 1\n"
     ]
    },
    {
     "name": "stdout",
     "output_type": "stream",
     "text": [
      "{'batch_size': 2048, 'dropout1': 0.094, 'dropout2': 0.258, 'dropout3': 0.384, 'dropout4': 0.368, 'dropout5': 0.287, 'dropout6': 0.445, 'dropout7': 0.298, 'dropout8': 0.194, 'hidden_size1': 45, 'hidden_size2': 256, 'hidden_size3': 1024, 'hidden_size4': 48, 'hidden_size5': 64, 'hidden_size6': 128, 'hidden_size7': 32, 'hidden_size8': 256, 'learning_rate': 0.0003, 'n_layers': 2, 'num_epochs': 40}\n",
      "0.7870089114988392                                                                                                     \n",
      " 50%|████████████████████▍                    | 249/500 [36:44:51<39:08:59, 561.51s/it, best loss: -0.7905278665966281]"
     ]
    },
    {
     "name": "stderr",
     "output_type": "stream",
     "text": [
      "Global seed set to 1\n"
     ]
    },
    {
     "name": "stdout",
     "output_type": "stream",
     "text": [
      "{'batch_size': 2560, 'dropout1': 0.033, 'dropout2': 0.488, 'dropout3': 0.374, 'dropout4': 0.486, 'dropout5': 0.05, 'dropout6': 0.463, 'dropout7': 0.004, 'dropout8': 0.026, 'hidden_size1': 63, 'hidden_size2': 64, 'hidden_size3': 448, 'hidden_size4': 64, 'hidden_size5': 32, 'hidden_size6': 64, 'hidden_size7': 896, 'hidden_size8': 1024, 'learning_rate': 0.0001, 'n_layers': 5, 'num_epochs': 25}\n",
      "0.7900444958896232                                                                                                     \n",
      " 50%|████████████████████▌                    | 250/500 [36:51:55<36:06:46, 520.03s/it, best loss: -0.7905278665966281]"
     ]
    },
    {
     "name": "stderr",
     "output_type": "stream",
     "text": [
      "Global seed set to 1\n"
     ]
    },
    {
     "name": "stdout",
     "output_type": "stream",
     "text": [
      "{'batch_size': 5120, 'dropout1': 0.185, 'dropout2': 0.317, 'dropout3': 0.312, 'dropout4': 0.29, 'dropout5': 0.229, 'dropout6': 0.136, 'dropout7': 0.466, 'dropout8': 0.413, 'hidden_size1': 32, 'hidden_size2': 448, 'hidden_size3': 896, 'hidden_size4': 256, 'hidden_size5': 256, 'hidden_size6': 448, 'hidden_size7': 48, 'hidden_size8': 128, 'learning_rate': 0.003, 'n_layers': 3, 'num_epochs': 10}\n",
      "0.7891368483493141                                                                                                     \n",
      " 50%|████████████████████▌                    | 251/500 [36:54:51<28:49:49, 416.82s/it, best loss: -0.7905278665966281]"
     ]
    },
    {
     "name": "stderr",
     "output_type": "stream",
     "text": [
      "Global seed set to 1\n"
     ]
    },
    {
     "name": "stdout",
     "output_type": "stream",
     "text": [
      "{'batch_size': 512, 'dropout1': 0.387, 'dropout2': 0.399, 'dropout3': 0.192, 'dropout4': 0.325, 'dropout5': 0.018, 'dropout6': 0.422, 'dropout7': 0.393, 'dropout8': 0.2, 'hidden_size1': 79, 'hidden_size2': 32, 'hidden_size3': 256, 'hidden_size4': 896, 'hidden_size5': 128, 'hidden_size6': 96, 'hidden_size7': 32, 'hidden_size8': 64, 'learning_rate': 0.0009, 'n_layers': 1, 'num_epochs': 15}\n",
      "0.7870149145026655                                                                                                     \n",
      " 50%|████████████████████▋                    | 252/500 [37:00:58<27:41:12, 401.90s/it, best loss: -0.7905278665966281]"
     ]
    },
    {
     "name": "stderr",
     "output_type": "stream",
     "text": [
      "Global seed set to 1\n"
     ]
    },
    {
     "name": "stdout",
     "output_type": "stream",
     "text": [
      "{'batch_size': 2048, 'dropout1': 0.161, 'dropout2': 0.432, 'dropout3': 0.165, 'dropout4': 0.182, 'dropout5': 0.26, 'dropout6': 0.149, 'dropout7': 0.364, 'dropout8': 0.247, 'hidden_size1': 55, 'hidden_size2': 96, 'hidden_size3': 64, 'hidden_size4': 512, 'hidden_size5': 512, 'hidden_size6': 128, 'hidden_size7': 256, 'hidden_size8': 256, 'learning_rate': 0.0002, 'n_layers': 5, 'num_epochs': 45}\n",
      "0.7849851126144322                                                                                                     \n",
      " 51%|████████████████████▋                    | 253/500 [37:13:37<34:55:27, 509.02s/it, best loss: -0.7905278665966281]"
     ]
    },
    {
     "name": "stderr",
     "output_type": "stream",
     "text": [
      "Global seed set to 1\n"
     ]
    },
    {
     "name": "stdout",
     "output_type": "stream",
     "text": [
      "{'batch_size': 12800, 'dropout1': 0.075, 'dropout2': 0.297, 'dropout3': 0.012, 'dropout4': 0.017, 'dropout5': 0.36, 'dropout6': 0.453, 'dropout7': 0.291, 'dropout8': 0.28, 'hidden_size1': 39, 'hidden_size2': 32, 'hidden_size3': 128, 'hidden_size4': 96, 'hidden_size5': 48, 'hidden_size6': 32, 'hidden_size7': 96, 'hidden_size8': 512, 'learning_rate': 0.02, 'n_layers': 3, 'num_epochs': 10}\n",
      "0.7843965247230289                                                                                                     \n",
      " 51%|████████████████████▊                    | 254/500 [37:16:34<27:59:15, 409.58s/it, best loss: -0.7905278665966281]"
     ]
    },
    {
     "name": "stderr",
     "output_type": "stream",
     "text": [
      "Global seed set to 1\n"
     ]
    },
    {
     "name": "stdout",
     "output_type": "stream",
     "text": [
      "{'batch_size': 256, 'dropout1': 0.045, 'dropout2': 0.394, 'dropout3': 0.026, 'dropout4': 0.434, 'dropout5': 0.117, 'dropout6': 0.374, 'dropout7': 0.447, 'dropout8': 0.011, 'hidden_size1': 28, 'hidden_size2': 48, 'hidden_size3': 96, 'hidden_size4': 256, 'hidden_size5': 896, 'hidden_size6': 1024, 'hidden_size7': 448, 'hidden_size8': 48, 'learning_rate': 0.009, 'n_layers': 4, 'num_epochs': 20}\n",
      "0.7787489285662371                                                                                                     \n",
      " 51%|████████████████████▉                    | 255/500 [37:32:02<38:27:21, 565.07s/it, best loss: -0.7905278665966281]"
     ]
    },
    {
     "name": "stderr",
     "output_type": "stream",
     "text": [
      "Global seed set to 1\n"
     ]
    },
    {
     "name": "stdout",
     "output_type": "stream",
     "text": [
      "{'batch_size': 2560, 'dropout1': 0.307, 'dropout2': 0.16, 'dropout3': 0.419, 'dropout4': 0.279, 'dropout5': 0.486, 'dropout6': 0.301, 'dropout7': 0.454, 'dropout8': 0.411, 'hidden_size1': 86, 'hidden_size2': 1024, 'hidden_size3': 32, 'hidden_size4': 128, 'hidden_size5': 1024, 'hidden_size6': 896, 'hidden_size7': 64, 'hidden_size8': 128, 'learning_rate': 0.002, 'n_layers': 5, 'num_epochs': 30}\n",
      "0.7868488544788144                                                                                                     \n",
      " 51%|████████████████████▉                    | 256/500 [37:40:24<37:01:16, 546.22s/it, best loss: -0.7905278665966281]"
     ]
    },
    {
     "name": "stderr",
     "output_type": "stream",
     "text": [
      "Global seed set to 1\n"
     ]
    },
    {
     "name": "stdout",
     "output_type": "stream",
     "text": [
      "{'batch_size': 10240, 'dropout1': 0.356, 'dropout2': 0.178, 'dropout3': 0.246, 'dropout4': 0.388, 'dropout5': 0.191, 'dropout6': 0.37, 'dropout7': 0.101, 'dropout8': 0.272, 'hidden_size1': 10, 'hidden_size2': 64, 'hidden_size3': 896, 'hidden_size4': 48, 'hidden_size5': 96, 'hidden_size6': 256, 'hidden_size7': 32, 'hidden_size8': 256, 'learning_rate': 0.001, 'n_layers': 3, 'num_epochs': 10}\n",
      "0.7848009813090429                                                                                                     \n",
      " 51%|█████████████████████                    | 257/500 [37:43:21<29:23:20, 435.39s/it, best loss: -0.7905278665966281]"
     ]
    },
    {
     "name": "stderr",
     "output_type": "stream",
     "text": [
      "Global seed set to 1\n"
     ]
    },
    {
     "name": "stdout",
     "output_type": "stream",
     "text": [
      "{'batch_size': 2048, 'dropout1': 0.1, 'dropout2': 0.019, 'dropout3': 0.444, 'dropout4': 0.463, 'dropout5': 0.006, 'dropout6': 0.062, 'dropout7': 0.288, 'dropout8': 0.085, 'hidden_size1': 92, 'hidden_size2': 32, 'hidden_size3': 256, 'hidden_size4': 48, 'hidden_size5': 48, 'hidden_size6': 512, 'hidden_size7': 96, 'hidden_size8': 128, 'learning_rate': 0.0004, 'n_layers': 3, 'num_epochs': 10}\n",
      "0.7880431864905156                                                                                                     \n",
      " 52%|█████████████████████▏                   | 258/500 [37:46:19<24:04:31, 358.15s/it, best loss: -0.7905278665966281]"
     ]
    },
    {
     "name": "stderr",
     "output_type": "stream",
     "text": [
      "Global seed set to 1\n"
     ]
    },
    {
     "name": "stdout",
     "output_type": "stream",
     "text": [
      "{'batch_size': 2048, 'dropout1': 0.333, 'dropout2': 0.267, 'dropout3': 0.237, 'dropout4': 0.097, 'dropout5': 0.086, 'dropout6': 0.296, 'dropout7': 0.239, 'dropout8': 0.349, 'hidden_size1': 37, 'hidden_size2': 32, 'hidden_size3': 256, 'hidden_size4': 48, 'hidden_size5': 48, 'hidden_size6': 512, 'hidden_size7': 96, 'hidden_size8': 128, 'learning_rate': 0.0004, 'n_layers': 3, 'num_epochs': 10}\n",
      "0.7892878161416069                                                                                                     \n",
      " 52%|█████████████████████▏                   | 259/500 [37:49:17<20:21:22, 304.08s/it, best loss: -0.7905278665966281]"
     ]
    },
    {
     "name": "stderr",
     "output_type": "stream",
     "text": [
      "Global seed set to 1\n"
     ]
    },
    {
     "name": "stdout",
     "output_type": "stream",
     "text": [
      "{'batch_size': 2048, 'dropout1': 0.455, 'dropout2': 0.483, 'dropout3': 0.258, 'dropout4': 0.478, 'dropout5': 0.1, 'dropout6': 0.059, 'dropout7': 0.151, 'dropout8': 0.412, 'hidden_size1': 90, 'hidden_size2': 32, 'hidden_size3': 256, 'hidden_size4': 48, 'hidden_size5': 48, 'hidden_size6': 512, 'hidden_size7': 96, 'hidden_size8': 128, 'learning_rate': 0.0004, 'n_layers': 3, 'num_epochs': 10}\n",
      "0.7894033989267383                                                                                                     \n",
      " 52%|█████████████████████▎                   | 260/500 [37:52:15<17:44:39, 266.17s/it, best loss: -0.7905278665966281]"
     ]
    },
    {
     "name": "stderr",
     "output_type": "stream",
     "text": [
      "Global seed set to 1\n"
     ]
    },
    {
     "name": "stdout",
     "output_type": "stream",
     "text": [
      "{'batch_size': 2048, 'dropout1': 0.022, 'dropout2': 0.466, 'dropout3': 0.474, 'dropout4': 0.156, 'dropout5': 0.257, 'dropout6': 0.479, 'dropout7': 0.188, 'dropout8': 0.229, 'hidden_size1': 92, 'hidden_size2': 32, 'hidden_size3': 256, 'hidden_size4': 48, 'hidden_size5': 48, 'hidden_size6': 512, 'hidden_size7': 96, 'hidden_size8': 128, 'learning_rate': 0.0004, 'n_layers': 3, 'num_epochs': 10}\n",
      "0.7879656626678175                                                                                                     \n",
      " 52%|█████████████████████▍                   | 261/500 [37:55:13<15:54:39, 239.66s/it, best loss: -0.7905278665966281]"
     ]
    },
    {
     "name": "stderr",
     "output_type": "stream",
     "text": [
      "Global seed set to 1\n"
     ]
    },
    {
     "name": "stdout",
     "output_type": "stream",
     "text": [
      "{'batch_size': 2048, 'dropout1': 0.313, 'dropout2': 0.187, 'dropout3': 0.207, 'dropout4': 0.219, 'dropout5': 0.321, 'dropout6': 0.434, 'dropout7': 0.059, 'dropout8': 0.09, 'hidden_size1': 12, 'hidden_size2': 32, 'hidden_size3': 256, 'hidden_size4': 48, 'hidden_size5': 48, 'hidden_size6': 512, 'hidden_size7': 96, 'hidden_size8': 128, 'learning_rate': 0.0003, 'n_layers': 3, 'num_epochs': 10}\n",
      "0.7898701670384701                                                                                                     \n",
      " 52%|█████████████████████▍                   | 262/500 [37:58:10<14:36:44, 221.03s/it, best loss: -0.7905278665966281]"
     ]
    },
    {
     "name": "stderr",
     "output_type": "stream",
     "text": [
      "Global seed set to 1\n"
     ]
    },
    {
     "name": "stdout",
     "output_type": "stream",
     "text": [
      "{'batch_size': 2048, 'dropout1': 0.217, 'dropout2': 0.257, 'dropout3': 0.002, 'dropout4': 0.495, 'dropout5': 0.199, 'dropout6': 0.092, 'dropout7': 0.225, 'dropout8': 0.024, 'hidden_size1': 5, 'hidden_size2': 32, 'hidden_size3': 256, 'hidden_size4': 48, 'hidden_size5': 48, 'hidden_size6': 512, 'hidden_size7': 96, 'hidden_size8': 128, 'learning_rate': 0.0004, 'n_layers': 3, 'num_epochs': 10}\n",
      "0.7839032399996261                                                                                                     \n",
      " 53%|█████████████████████▌                   | 263/500 [38:01:08<13:41:32, 207.99s/it, best loss: -0.7905278665966281]"
     ]
    },
    {
     "name": "stderr",
     "output_type": "stream",
     "text": [
      "Global seed set to 1\n"
     ]
    },
    {
     "name": "stdout",
     "output_type": "stream",
     "text": [
      "{'batch_size': 2048, 'dropout1': 0.337, 'dropout2': 0.27, 'dropout3': 0.427, 'dropout4': 0.413, 'dropout5': 0.367, 'dropout6': 0.226, 'dropout7': 0.044, 'dropout8': 0.493, 'hidden_size1': 66, 'hidden_size2': 32, 'hidden_size3': 256, 'hidden_size4': 48, 'hidden_size5': 48, 'hidden_size6': 512, 'hidden_size7': 96, 'hidden_size8': 128, 'learning_rate': 0.0004, 'n_layers': 3, 'num_epochs': 10}\n",
      "0.7878487572960788                                                                                                     \n",
      " 53%|█████████████████████▋                   | 264/500 [38:04:05<13:02:19, 198.90s/it, best loss: -0.7905278665966281]"
     ]
    },
    {
     "name": "stderr",
     "output_type": "stream",
     "text": [
      "Global seed set to 1\n"
     ]
    },
    {
     "name": "stdout",
     "output_type": "stream",
     "text": [
      "{'batch_size': 2048, 'dropout1': 0.124, 'dropout2': 0.433, 'dropout3': 0.228, 'dropout4': 0.396, 'dropout5': 0.272, 'dropout6': 0.458, 'dropout7': 0.196, 'dropout8': 0.058, 'hidden_size1': 65, 'hidden_size2': 32, 'hidden_size3': 256, 'hidden_size4': 48, 'hidden_size5': 48, 'hidden_size6': 512, 'hidden_size7': 96, 'hidden_size8': 128, 'learning_rate': 0.0006, 'n_layers': 3, 'num_epochs': 10}\n",
      "0.7899260584548604                                                                                                     \n",
      " 53%|█████████████████████▋                   | 265/500 [38:07:03<12:34:25, 192.62s/it, best loss: -0.7905278665966281]"
     ]
    },
    {
     "name": "stderr",
     "output_type": "stream",
     "text": [
      "Global seed set to 1\n"
     ]
    },
    {
     "name": "stdout",
     "output_type": "stream",
     "text": [
      "{'batch_size': 2048, 'dropout1': 0.493, 'dropout2': 0.484, 'dropout3': 0.404, 'dropout4': 0.233, 'dropout5': 0.379, 'dropout6': 0.454, 'dropout7': 0.295, 'dropout8': 0.018, 'hidden_size1': 11, 'hidden_size2': 32, 'hidden_size3': 256, 'hidden_size4': 48, 'hidden_size5': 48, 'hidden_size6': 512, 'hidden_size7': 96, 'hidden_size8': 128, 'learning_rate': 0.007, 'n_layers': 3, 'num_epochs': 10}\n",
      "0.7879124487645502                                                                                                     \n",
      " 53%|█████████████████████▊                   | 266/500 [38:10:01<12:13:35, 188.10s/it, best loss: -0.7905278665966281]"
     ]
    },
    {
     "name": "stderr",
     "output_type": "stream",
     "text": [
      "Global seed set to 1\n"
     ]
    },
    {
     "name": "stdout",
     "output_type": "stream",
     "text": [
      "{'batch_size': 2048, 'dropout1': 0.197, 'dropout2': 0.082, 'dropout3': 0.175, 'dropout4': 0.448, 'dropout5': 0.479, 'dropout6': 0.024, 'dropout7': 0.446, 'dropout8': 0.006, 'hidden_size1': 76, 'hidden_size2': 32, 'hidden_size3': 256, 'hidden_size4': 48, 'hidden_size5': 48, 'hidden_size6': 512, 'hidden_size7': 96, 'hidden_size8': 128, 'learning_rate': 0.0004, 'n_layers': 3, 'num_epochs': 10}\n",
      "0.7895983236275563                                                                                                     \n",
      " 53%|█████████████████████▉                   | 267/500 [38:12:59<11:58:20, 184.98s/it, best loss: -0.7905278665966281]"
     ]
    },
    {
     "name": "stderr",
     "output_type": "stream",
     "text": [
      "Global seed set to 1\n"
     ]
    },
    {
     "name": "stdout",
     "output_type": "stream",
     "text": [
      "{'batch_size': 2048, 'dropout1': 0.276, 'dropout2': 0.202, 'dropout3': 0.021, 'dropout4': 0.246, 'dropout5': 0.184, 'dropout6': 0.172, 'dropout7': 0.457, 'dropout8': 0.324, 'hidden_size1': 7, 'hidden_size2': 128, 'hidden_size3': 256, 'hidden_size4': 256, 'hidden_size5': 48, 'hidden_size6': 512, 'hidden_size7': 512, 'hidden_size8': 32, 'learning_rate': 0.0007, 'n_layers': 3, 'num_epochs': 10}\n",
      "0.7849538189982777                                                                                                     \n",
      " 54%|█████████████████████▉                   | 268/500 [38:15:56<11:46:48, 182.80s/it, best loss: -0.7905278665966281]"
     ]
    },
    {
     "name": "stderr",
     "output_type": "stream",
     "text": [
      "Global seed set to 1\n"
     ]
    },
    {
     "name": "stdout",
     "output_type": "stream",
     "text": [
      "{'batch_size': 5120, 'dropout1': 0.103, 'dropout2': 0.253, 'dropout3': 0.152, 'dropout4': 0.327, 'dropout5': 0.093, 'dropout6': 0.178, 'dropout7': 0.131, 'dropout8': 0.244, 'hidden_size1': 94, 'hidden_size2': 32, 'hidden_size3': 256, 'hidden_size4': 1024, 'hidden_size5': 128, 'hidden_size6': 64, 'hidden_size7': 896, 'hidden_size8': 896, 'learning_rate': 0.03, 'n_layers': 3, 'num_epochs': 35}\n",
      "0.7772003720790746                                                                                                     \n",
      " 54%|██████████████████████                   | 269/500 [38:25:05<18:46:51, 292.69s/it, best loss: -0.7905278665966281]"
     ]
    },
    {
     "name": "stderr",
     "output_type": "stream",
     "text": [
      "Global seed set to 1\n"
     ]
    },
    {
     "name": "stdout",
     "output_type": "stream",
     "text": [
      "{'batch_size': 4096, 'dropout1': 0.472, 'dropout2': 0.464, 'dropout3': 0.489, 'dropout4': 0.281, 'dropout5': 0.492, 'dropout6': 0.401, 'dropout7': 0.285, 'dropout8': 0.465, 'hidden_size1': 53, 'hidden_size2': 32, 'hidden_size3': 48, 'hidden_size4': 32, 'hidden_size5': 448, 'hidden_size6': 128, 'hidden_size7': 32, 'hidden_size8': 128, 'learning_rate': 0.04, 'n_layers': 3, 'num_epochs': 50}\n",
      "0.7865731764676175                                                                                                     \n",
      " 54%|██████████████████████▏                  | 270/500 [38:37:59<27:54:59, 436.95s/it, best loss: -0.7905278665966281]"
     ]
    },
    {
     "name": "stderr",
     "output_type": "stream",
     "text": [
      "Global seed set to 1\n"
     ]
    },
    {
     "name": "stdout",
     "output_type": "stream",
     "text": [
      "{'batch_size': 2048, 'dropout1': 0.406, 'dropout2': 0.008, 'dropout3': 0.462, 'dropout4': 0.079, 'dropout5': 0.316, 'dropout6': 0.405, 'dropout7': 0.258, 'dropout8': 0.258, 'hidden_size1': 74, 'hidden_size2': 512, 'hidden_size3': 896, 'hidden_size4': 48, 'hidden_size5': 48, 'hidden_size6': 448, 'hidden_size7': 128, 'hidden_size8': 448, 'learning_rate': 0.0008, 'n_layers': 3, 'num_epochs': 10}\n",
      "0.7889924388044559                                                                                                     \n",
      " 54%|██████████████████████▏                  | 271/500 [38:40:57<22:51:24, 359.32s/it, best loss: -0.7905278665966281]"
     ]
    },
    {
     "name": "stderr",
     "output_type": "stream",
     "text": [
      "Global seed set to 1\n"
     ]
    },
    {
     "name": "stdout",
     "output_type": "stream",
     "text": [
      "{'batch_size': 128, 'dropout1': 0.433, 'dropout2': 0.259, 'dropout3': 0.29, 'dropout4': 0.111, 'dropout5': 0.059, 'dropout6': 0.382, 'dropout7': 0.496, 'dropout8': 0.015, 'hidden_size1': 91, 'hidden_size2': 896, 'hidden_size3': 512, 'hidden_size4': 256, 'hidden_size5': 1024, 'hidden_size6': 48, 'hidden_size7': 96, 'hidden_size8': 96, 'learning_rate': 0.0005, 'n_layers': 3, 'num_epochs': 5}\n",
      "0.785192396837697                                                                                                      \n",
      " 54%|██████████████████████▎                  | 272/500 [38:47:32<23:25:33, 369.88s/it, best loss: -0.7905278665966281]"
     ]
    },
    {
     "name": "stderr",
     "output_type": "stream",
     "text": [
      "Global seed set to 1\n"
     ]
    },
    {
     "name": "stdout",
     "output_type": "stream",
     "text": [
      "{'batch_size': 1024, 'dropout1': 0.085, 'dropout2': 0.097, 'dropout3': 0.166, 'dropout4': 0.081, 'dropout5': 0.476, 'dropout6': 0.235, 'dropout7': 0.441, 'dropout8': 0.197, 'hidden_size1': 42, 'hidden_size2': 32, 'hidden_size3': 256, 'hidden_size4': 448, 'hidden_size5': 64, 'hidden_size6': 128, 'hidden_size7': 32, 'hidden_size8': 256, 'learning_rate': 0.0003, 'n_layers': 2, 'num_epochs': 40}\n",
      "0.7762254045814773                                                                                                     \n",
      " 55%|██████████████████████▍                  | 273/500 [38:59:47<30:14:05, 479.50s/it, best loss: -0.7905278665966281]"
     ]
    },
    {
     "name": "stderr",
     "output_type": "stream",
     "text": [
      "Global seed set to 1\n"
     ]
    },
    {
     "name": "stdout",
     "output_type": "stream",
     "text": [
      "{'batch_size': 2560, 'dropout1': 0.448, 'dropout2': 0.312, 'dropout3': 0.048, 'dropout4': 0.293, 'dropout5': 0.4, 'dropout6': 0.138, 'dropout7': 0.269, 'dropout8': 0.145, 'hidden_size1': 61, 'hidden_size2': 256, 'hidden_size3': 1024, 'hidden_size4': 64, 'hidden_size5': 32, 'hidden_size6': 64, 'hidden_size7': 896, 'hidden_size8': 128, 'learning_rate': 0.009, 'n_layers': 3, 'num_epochs': 10}\n",
      "0.7834862517185905                                                                                                     \n",
      " 55%|██████████████████████▍                  | 274/500 [39:02:43<24:23:20, 388.50s/it, best loss: -0.7905278665966281]"
     ]
    },
    {
     "name": "stderr",
     "output_type": "stream",
     "text": [
      "Global seed set to 1\n"
     ]
    },
    {
     "name": "stdout",
     "output_type": "stream",
     "text": [
      "{'batch_size': 2048, 'dropout1': 0.051, 'dropout2': 0.238, 'dropout3': 0.225, 'dropout4': 0.286, 'dropout5': 0.025, 'dropout6': 0.093, 'dropout7': 0.464, 'dropout8': 0.48, 'hidden_size1': 95, 'hidden_size2': 64, 'hidden_size3': 896, 'hidden_size4': 256, 'hidden_size5': 48, 'hidden_size6': 448, 'hidden_size7': 1024, 'hidden_size8': 1024, 'learning_rate': 0.005, 'n_layers': 5, 'num_epochs': 25}\n",
      "0.7798188243281446                                                                                                     \n",
      " 55%|██████████████████████▌                  | 275/500 [39:09:57<25:07:44, 402.06s/it, best loss: -0.7905278665966281]"
     ]
    },
    {
     "name": "stderr",
     "output_type": "stream",
     "text": [
      "Global seed set to 1\n"
     ]
    },
    {
     "name": "stdout",
     "output_type": "stream",
     "text": [
      "{'batch_size': 5120, 'dropout1': 0.216, 'dropout2': 0.213, 'dropout3': 0.273, 'dropout4': 0.349, 'dropout5': 0.031, 'dropout6': 0.417, 'dropout7': 0.438, 'dropout8': 0.287, 'hidden_size1': 54, 'hidden_size2': 448, 'hidden_size3': 64, 'hidden_size4': 48, 'hidden_size5': 128, 'hidden_size6': 512, 'hidden_size7': 32, 'hidden_size8': 256, 'learning_rate': 0.004, 'n_layers': 3, 'num_epochs': 10}\n",
      "0.784522534132682                                                                                                      \n",
      " 55%|██████████████████████▋                  | 276/500 [39:12:54<20:48:49, 334.51s/it, best loss: -0.7905278665966281]"
     ]
    },
    {
     "name": "stderr",
     "output_type": "stream",
     "text": [
      "Global seed set to 1\n"
     ]
    },
    {
     "name": "stdout",
     "output_type": "stream",
     "text": [
      "{'batch_size': 512, 'dropout1': 0.162, 'dropout2': 0.168, 'dropout3': 0.314, 'dropout4': 0.367, 'dropout5': 0.21, 'dropout6': 0.139, 'dropout7': 0.041, 'dropout8': 0.292, 'hidden_size1': 60, 'hidden_size2': 32, 'hidden_size3': 448, 'hidden_size4': 512, 'hidden_size5': 256, 'hidden_size6': 96, 'hidden_size7': 48, 'hidden_size8': 128, 'learning_rate': 0.008, 'n_layers': 1, 'num_epochs': 45}\n",
      "0.7841469216942281                                                                                                     \n",
      " 55%|██████████████████████▋                  | 277/500 [39:30:19<33:55:26, 547.65s/it, best loss: -0.7905278665966281]"
     ]
    },
    {
     "name": "stderr",
     "output_type": "stream",
     "text": [
      "Global seed set to 1\n"
     ]
    },
    {
     "name": "stdout",
     "output_type": "stream",
     "text": [
      "{'batch_size': 2048, 'dropout1': 0.226, 'dropout2': 0.391, 'dropout3': 0.073, 'dropout4': 0.001, 'dropout5': 0.336, 'dropout6': 0.069, 'dropout7': 0.198, 'dropout8': 0.04, 'hidden_size1': 44, 'hidden_size2': 96, 'hidden_size3': 256, 'hidden_size4': 896, 'hidden_size5': 512, 'hidden_size6': 128, 'hidden_size7': 256, 'hidden_size8': 48, 'learning_rate': 0.001, 'n_layers': 5, 'num_epochs': 15}\n",
      "0.7820930712571609                                                                                                     \n",
      " 56%|██████████████████████▊                  | 278/500 [39:34:49<28:38:58, 464.59s/it, best loss: -0.7905278665966281]"
     ]
    },
    {
     "name": "stderr",
     "output_type": "stream",
     "text": [
      "Global seed set to 1\n"
     ]
    },
    {
     "name": "stdout",
     "output_type": "stream",
     "text": [
      "{'batch_size': 12800, 'dropout1': 0.016, 'dropout2': 0.025, 'dropout3': 0.248, 'dropout4': 0.087, 'dropout5': 0.081, 'dropout6': 0.467, 'dropout7': 0.377, 'dropout8': 0.348, 'hidden_size1': 97, 'hidden_size2': 48, 'hidden_size3': 128, 'hidden_size4': 96, 'hidden_size5': 1024, 'hidden_size6': 896, 'hidden_size7': 448, 'hidden_size8': 64, 'learning_rate': 0.0003, 'n_layers': 3, 'num_epochs': 10}\n",
      "0.77735670855683                                                                                                       \n",
      " 56%|██████████████████████▉                  | 279/500 [39:37:47<23:14:22, 378.56s/it, best loss: -0.7905278665966281]"
     ]
    },
    {
     "name": "stderr",
     "output_type": "stream",
     "text": [
      "Global seed set to 1\n"
     ]
    },
    {
     "name": "stdout",
     "output_type": "stream",
     "text": [
      "{'batch_size': 10240, 'dropout1': 0.377, 'dropout2': 0.141, 'dropout3': 0.412, 'dropout4': 0.024, 'dropout5': 0.12, 'dropout6': 0.253, 'dropout7': 0.022, 'dropout8': 0.297, 'hidden_size1': 49, 'hidden_size2': 1024, 'hidden_size3': 96, 'hidden_size4': 256, 'hidden_size5': 48, 'hidden_size6': 1024, 'hidden_size7': 32, 'hidden_size8': 512, 'learning_rate': 0.006, 'n_layers': 5, 'num_epochs': 20}\n",
      "0.7856495869500456                                                                                                     \n",
      " 56%|██████████████████████▉                  | 280/500 [39:43:18<22:15:12, 364.15s/it, best loss: -0.7905278665966281]"
     ]
    },
    {
     "name": "stderr",
     "output_type": "stream",
     "text": [
      "Global seed set to 1\n"
     ]
    },
    {
     "name": "stdout",
     "output_type": "stream",
     "text": [
      "{'batch_size': 2560, 'dropout1': 0.023, 'dropout2': 0.452, 'dropout3': 0.327, 'dropout4': 0.35, 'dropout5': 0.162, 'dropout6': 0.303, 'dropout7': 0.486, 'dropout8': 0.051, 'hidden_size1': 48, 'hidden_size2': 32, 'hidden_size3': 32, 'hidden_size4': 128, 'hidden_size5': 896, 'hidden_size6': 32, 'hidden_size7': 64, 'hidden_size8': 32, 'learning_rate': 0.01, 'n_layers': 4, 'num_epochs': 30}\n",
      "0.7876483902818882                                                                                                     \n",
      " 56%|███████████████████████                  | 281/500 [39:51:27<24:26:22, 401.75s/it, best loss: -0.7905278665966281]"
     ]
    },
    {
     "name": "stderr",
     "output_type": "stream",
     "text": [
      "Global seed set to 1\n"
     ]
    },
    {
     "name": "stdout",
     "output_type": "stream",
     "text": [
      "{'batch_size': 256, 'dropout1': 0.17, 'dropout2': 0.209, 'dropout3': 0.328, 'dropout4': 0.142, 'dropout5': 0.016, 'dropout6': 0.003, 'dropout7': 0.331, 'dropout8': 0.048, 'hidden_size1': 20, 'hidden_size2': 128, 'hidden_size3': 896, 'hidden_size4': 48, 'hidden_size5': 96, 'hidden_size6': 64, 'hidden_size7': 512, 'hidden_size8': 256, 'learning_rate': 0.003, 'n_layers': 2, 'num_epochs': 10}\n",
      "0.787634110331995                                                                                                      \n",
      " 56%|███████████████████████                  | 282/500 [39:58:12<24:22:38, 402.56s/it, best loss: -0.7905278665966281]"
     ]
    },
    {
     "name": "stderr",
     "output_type": "stream",
     "text": [
      "Global seed set to 1\n"
     ]
    },
    {
     "name": "stdout",
     "output_type": "stream",
     "text": [
      "{'batch_size': 5120, 'dropout1': 0.196, 'dropout2': 0.255, 'dropout3': 0.433, 'dropout4': 0.323, 'dropout5': 0.429, 'dropout6': 0.261, 'dropout7': 0.263, 'dropout8': 0.343, 'hidden_size1': 96, 'hidden_size2': 64, 'hidden_size3': 256, 'hidden_size4': 1024, 'hidden_size5': 48, 'hidden_size6': 256, 'hidden_size7': 96, 'hidden_size8': 128, 'learning_rate': 0.0001, 'n_layers': 3, 'num_epochs': 10}\n",
      "0.7861863242225035                                                                                                     \n",
      " 57%|███████████████████████▏                 | 283/500 [40:01:07<20:09:27, 334.41s/it, best loss: -0.7905278665966281]"
     ]
    },
    {
     "name": "stderr",
     "output_type": "stream",
     "text": [
      "Global seed set to 1\n"
     ]
    },
    {
     "name": "stdout",
     "output_type": "stream",
     "text": [
      "{'batch_size': 2048, 'dropout1': 0.211, 'dropout2': 0.225, 'dropout3': 0.226, 'dropout4': 0.342, 'dropout5': 0.495, 'dropout6': 0.143, 'dropout7': 0.174, 'dropout8': 0.127, 'hidden_size1': 52, 'hidden_size2': 32, 'hidden_size3': 48, 'hidden_size4': 256, 'hidden_size5': 128, 'hidden_size6': 128, 'hidden_size7': 896, 'hidden_size8': 896, 'learning_rate': 0.0002, 'n_layers': 5, 'num_epochs': 50}\n",
      "0.7875192753858509                                                                                                     \n",
      " 57%|███████████████████████▎                 | 284/500 [40:15:07<29:09:24, 485.94s/it, best loss: -0.7905278665966281]"
     ]
    },
    {
     "name": "stderr",
     "output_type": "stream",
     "text": [
      "Global seed set to 1\n"
     ]
    },
    {
     "name": "stdout",
     "output_type": "stream",
     "text": [
      "{'batch_size': 4096, 'dropout1': 0.207, 'dropout2': 0.331, 'dropout3': 0.338, 'dropout4': 0.296, 'dropout5': 0.015, 'dropout6': 0.323, 'dropout7': 0.173, 'dropout8': 0.437, 'hidden_size1': 45, 'hidden_size2': 512, 'hidden_size3': 896, 'hidden_size4': 32, 'hidden_size5': 448, 'hidden_size6': 448, 'hidden_size7': 32, 'hidden_size8': 448, 'learning_rate': 0.02, 'n_layers': 3, 'num_epochs': 35}\n",
      "0.7861872382707068                                                                                                     \n",
      " 57%|███████████████████████▎                 | 285/500 [40:24:19<30:13:05, 505.98s/it, best loss: -0.7905278665966281]"
     ]
    },
    {
     "name": "stderr",
     "output_type": "stream",
     "text": [
      "Global seed set to 1\n"
     ]
    },
    {
     "name": "stdout",
     "output_type": "stream",
     "text": [
      "{'batch_size': 128, 'dropout1': 0.267, 'dropout2': 0.108, 'dropout3': 0.392, 'dropout4': 0.22, 'dropout5': 0.132, 'dropout6': 0.058, 'dropout7': 0.166, 'dropout8': 0.041, 'hidden_size1': 15, 'hidden_size2': 32, 'hidden_size3': 256, 'hidden_size4': 256, 'hidden_size5': 1024, 'hidden_size6': 48, 'hidden_size7': 128, 'hidden_size8': 96, 'learning_rate': 0.0009, 'n_layers': 1, 'num_epochs': 5}\n",
      "0.7828554690037322                                                                                                     \n",
      " 57%|███████████████████████▍                 | 286/500 [40:29:44<26:50:36, 451.57s/it, best loss: -0.7905278665966281]"
     ]
    },
    {
     "name": "stderr",
     "output_type": "stream",
     "text": [
      "Global seed set to 1\n"
     ]
    },
    {
     "name": "stdout",
     "output_type": "stream",
     "text": [
      "{'batch_size': 2048, 'dropout1': 0.22, 'dropout2': 0.403, 'dropout3': 0.201, 'dropout4': 0.015, 'dropout5': 0.274, 'dropout6': 0.448, 'dropout7': 0.213, 'dropout8': 0.039, 'hidden_size1': 14, 'hidden_size2': 896, 'hidden_size3': 512, 'hidden_size4': 448, 'hidden_size5': 64, 'hidden_size6': 128, 'hidden_size7': 32, 'hidden_size8': 128, 'learning_rate': 0.009, 'n_layers': 5, 'num_epochs': 10}\n",
      "0.7896493134325036                                                                                                     \n",
      " 57%|███████████████████████▌                 | 287/500 [40:32:53<22:03:08, 372.72s/it, best loss: -0.7905278665966281]"
     ]
    },
    {
     "name": "stderr",
     "output_type": "stream",
     "text": [
      "Global seed set to 1\n"
     ]
    },
    {
     "name": "stdout",
     "output_type": "stream",
     "text": [
      "{'batch_size': 1024, 'dropout1': 0.326, 'dropout2': 0.264, 'dropout3': 0.023, 'dropout4': 0.275, 'dropout5': 0.021, 'dropout6': 0.327, 'dropout7': 0.436, 'dropout8': 0.433, 'hidden_size1': 17, 'hidden_size2': 256, 'hidden_size3': 1024, 'hidden_size4': 48, 'hidden_size5': 48, 'hidden_size6': 512, 'hidden_size7': 1024, 'hidden_size8': 256, 'learning_rate': 0.001, 'n_layers': 3, 'num_epochs': 40}\n",
      "0.7241681123928427                                                                                                     \n",
      " 58%|███████████████████████▌                 | 288/500 [40:45:45<29:00:46, 492.67s/it, best loss: -0.7905278665966281]"
     ]
    },
    {
     "name": "stderr",
     "output_type": "stream",
     "text": [
      "Global seed set to 1\n"
     ]
    },
    {
     "name": "stdout",
     "output_type": "stream",
     "text": [
      "{'batch_size': 2560, 'dropout1': 0.199, 'dropout2': 0.335, 'dropout3': 0.155, 'dropout4': 0.006, 'dropout5': 0.277, 'dropout6': 0.433, 'dropout7': 0.229, 'dropout8': 0.102, 'hidden_size1': 62, 'hidden_size2': 32, 'hidden_size3': 256, 'hidden_size4': 64, 'hidden_size5': 32, 'hidden_size6': 64, 'hidden_size7': 896, 'hidden_size8': 1024, 'learning_rate': 0.002, 'n_layers': 5, 'num_epochs': 10}\n",
      "0.7895367565782215                                                                                                     \n",
      " 58%|███████████████████████▋                 | 289/500 [40:48:50<23:27:35, 400.26s/it, best loss: -0.7905278665966281]"
     ]
    },
    {
     "name": "stderr",
     "output_type": "stream",
     "text": [
      "Global seed set to 1\n"
     ]
    },
    {
     "name": "stdout",
     "output_type": "stream",
     "text": [
      "{'batch_size': 5120, 'dropout1': 0.044, 'dropout2': 0.115, 'dropout3': 0.058, 'dropout4': 0.199, 'dropout5': 0.291, 'dropout6': 0.284, 'dropout7': 0.133, 'dropout8': 0.299, 'hidden_size1': 73, 'hidden_size2': 448, 'hidden_size3': 896, 'hidden_size4': 256, 'hidden_size5': 128, 'hidden_size6': 448, 'hidden_size7': 96, 'hidden_size8': 128, 'learning_rate': 0.0003, 'n_layers': 4, 'num_epochs': 25}\n",
      "0.7473741709290749                                                                                                     \n",
      " 58%|███████████████████████▊                 | 290/500 [40:55:36<23:26:30, 401.86s/it, best loss: -0.7905278665966281]"
     ]
    },
    {
     "name": "stderr",
     "output_type": "stream",
     "text": [
      "Global seed set to 1\n"
     ]
    },
    {
     "name": "stdout",
     "output_type": "stream",
     "text": [
      "{'batch_size': 2048, 'dropout1': 0.317, 'dropout2': 0.288, 'dropout3': 0.482, 'dropout4': 0.49, 'dropout5': 0.375, 'dropout6': 0.306, 'dropout7': 0.266, 'dropout8': 0.373, 'hidden_size1': 18, 'hidden_size2': 64, 'hidden_size3': 448, 'hidden_size4': 512, 'hidden_size5': 256, 'hidden_size6': 96, 'hidden_size7': 32, 'hidden_size8': 256, 'learning_rate': 0.0004, 'n_layers': 3, 'num_epochs': 15}\n",
      "0.7884204710136145                                                                                                     \n",
      " 58%|███████████████████████▊                 | 291/500 [40:59:53<20:48:27, 358.41s/it, best loss: -0.7905278665966281]"
     ]
    },
    {
     "name": "stderr",
     "output_type": "stream",
     "text": [
      "Global seed set to 1\n"
     ]
    },
    {
     "name": "stdout",
     "output_type": "stream",
     "text": [
      "{'batch_size': 10240, 'dropout1': 0.374, 'dropout2': 0.041, 'dropout3': 0.396, 'dropout4': 0.252, 'dropout5': 0.377, 'dropout6': 0.339, 'dropout7': 0.192, 'dropout8': 0.279, 'hidden_size1': 26, 'hidden_size2': 96, 'hidden_size3': 64, 'hidden_size4': 896, 'hidden_size5': 48, 'hidden_size6': 128, 'hidden_size7': 48, 'hidden_size8': 64, 'learning_rate': 0.007, 'n_layers': 2, 'num_epochs': 10}\n",
      "0.7784590351451042                                                                                                     \n",
      " 58%|███████████████████████▉                 | 292/500 [41:02:48<17:32:02, 303.48s/it, best loss: -0.7905278665966281]"
     ]
    },
    {
     "name": "stderr",
     "output_type": "stream",
     "text": [
      "Global seed set to 1\n"
     ]
    },
    {
     "name": "stdout",
     "output_type": "stream",
     "text": [
      "{'batch_size': 512, 'dropout1': 0.414, 'dropout2': 0.103, 'dropout3': 0.271, 'dropout4': 0.264, 'dropout5': 0.039, 'dropout6': 0.04, 'dropout7': 0.388, 'dropout8': 0.335, 'hidden_size1': 70, 'hidden_size2': 32, 'hidden_size3': 128, 'hidden_size4': 48, 'hidden_size5': 512, 'hidden_size6': 1024, 'hidden_size7': 256, 'hidden_size8': 48, 'learning_rate': 0.0006, 'n_layers': 3, 'num_epochs': 20}\n",
      "0.7874287006741225                                                                                                     \n",
      " 59%|████████████████████████                 | 293/500 [41:11:53<21:36:54, 375.92s/it, best loss: -0.7905278665966281]"
     ]
    },
    {
     "name": "stderr",
     "output_type": "stream",
     "text": [
      "Global seed set to 1\n"
     ]
    },
    {
     "name": "stdout",
     "output_type": "stream",
     "text": [
      "{'batch_size': 12800, 'dropout1': 0.252, 'dropout2': 0.022, 'dropout3': 0.297, 'dropout4': 0.114, 'dropout5': 0.14, 'dropout6': 0.214, 'dropout7': 0.432, 'dropout8': 0.222, 'hidden_size1': 88, 'hidden_size2': 48, 'hidden_size3': 96, 'hidden_size4': 96, 'hidden_size5': 1024, 'hidden_size6': 32, 'hidden_size7': 448, 'hidden_size8': 128, 'learning_rate': 0.0003, 'n_layers': 5, 'num_epochs': 45}\n",
      "0.7893704197252672                                                                                                     \n",
      " 59%|████████████████████████                 | 294/500 [41:23:50<27:22:18, 478.34s/it, best loss: -0.7905278665966281]"
     ]
    },
    {
     "name": "stderr",
     "output_type": "stream",
     "text": [
      "Global seed set to 1\n"
     ]
    },
    {
     "name": "stdout",
     "output_type": "stream",
     "text": [
      "{'batch_size': 2560, 'dropout1': 0.325, 'dropout2': 0.089, 'dropout3': 0.343, 'dropout4': 0.165, 'dropout5': 0.19, 'dropout6': 0.399, 'dropout7': 0.475, 'dropout8': 0.106, 'hidden_size1': 6, 'hidden_size2': 1024, 'hidden_size3': 256, 'hidden_size4': 256, 'hidden_size5': 896, 'hidden_size6': 512, 'hidden_size7': 32, 'hidden_size8': 512, 'learning_rate': 0.04, 'n_layers': 3, 'num_epochs': 10}\n",
      "0.7882070581609641                                                                                                     \n",
      " 59%|████████████████████████▏                | 295/500 [41:26:46<22:04:40, 387.71s/it, best loss: -0.7905278665966281]"
     ]
    },
    {
     "name": "stderr",
     "output_type": "stream",
     "text": [
      "Global seed set to 1\n"
     ]
    },
    {
     "name": "stdout",
     "output_type": "stream",
     "text": [
      "{'batch_size': 256, 'dropout1': 0.288, 'dropout2': 0.439, 'dropout3': 0.033, 'dropout4': 0.457, 'dropout5': 0.16, 'dropout6': 0.007, 'dropout7': 0.073, 'dropout8': 0.262, 'hidden_size1': 43, 'hidden_size2': 32, 'hidden_size3': 32, 'hidden_size4': 128, 'hidden_size5': 48, 'hidden_size6': 896, 'hidden_size7': 64, 'hidden_size8': 32, 'learning_rate': 0.0005, 'n_layers': 1, 'num_epochs': 30}\n",
      "0.7796371693120742                                                                                                     \n",
      " 59%|████████████████████████▎                | 296/500 [41:44:28<33:25:47, 589.94s/it, best loss: -0.7905278665966281]"
     ]
    },
    {
     "name": "stderr",
     "output_type": "stream",
     "text": [
      "Global seed set to 1\n"
     ]
    },
    {
     "name": "stdout",
     "output_type": "stream",
     "text": [
      "{'batch_size': 2048, 'dropout1': 0.191, 'dropout2': 0.315, 'dropout3': 0.115, 'dropout4': 0.46, 'dropout5': 0.186, 'dropout6': 0.067, 'dropout7': 0.074, 'dropout8': 0.189, 'hidden_size1': 13, 'hidden_size2': 128, 'hidden_size3': 896, 'hidden_size4': 1024, 'hidden_size5': 96, 'hidden_size6': 256, 'hidden_size7': 512, 'hidden_size8': 256, 'learning_rate': 0.0007, 'n_layers': 5, 'num_epochs': 10}\n",
      "0.7869529164417874                                                                                                     \n",
      " 59%|████████████████████████▎                | 297/500 [41:47:35<26:26:53, 469.03s/it, best loss: -0.7905278665966281]"
     ]
    },
    {
     "name": "stderr",
     "output_type": "stream",
     "text": [
      "Global seed set to 1\n"
     ]
    },
    {
     "name": "stdout",
     "output_type": "stream",
     "text": [
      "{'batch_size': 5120, 'dropout1': 0.471, 'dropout2': 0.083, 'dropout3': 0.379, 'dropout4': 0.357, 'dropout5': 0.048, 'dropout6': 0.01, 'dropout7': 0.048, 'dropout8': 0.275, 'hidden_size1': 8, 'hidden_size2': 64, 'hidden_size3': 256, 'hidden_size4': 256, 'hidden_size5': 128, 'hidden_size6': 64, 'hidden_size7': 896, 'hidden_size8': 128, 'learning_rate': 0.0008, 'n_layers': 3, 'num_epochs': 35}\n",
      "0.7890256456077765                                                                                                     \n",
      " 60%|████████████████████████▍                | 298/500 [41:56:44<27:39:44, 492.99s/it, best loss: -0.7905278665966281]"
     ]
    },
    {
     "name": "stderr",
     "output_type": "stream",
     "text": [
      "Global seed set to 1\n"
     ]
    },
    {
     "name": "stdout",
     "output_type": "stream",
     "text": [
      "{'batch_size': 2048, 'dropout1': 0.375, 'dropout2': 0.34, 'dropout3': 0.377, 'dropout4': 0.085, 'dropout5': 0.405, 'dropout6': 0.174, 'dropout7': 0.293, 'dropout8': 0.46, 'hidden_size1': 67, 'hidden_size2': 32, 'hidden_size3': 896, 'hidden_size4': 48, 'hidden_size5': 48, 'hidden_size6': 128, 'hidden_size7': 32, 'hidden_size8': 896, 'learning_rate': 0.009, 'n_layers': 5, 'num_epochs': 10}\n",
      "0.7899006183973568                                                                                                     \n",
      " 60%|████████████████████████▌                | 299/500 [41:59:51<22:23:32, 401.06s/it, best loss: -0.7905278665966281]"
     ]
    },
    {
     "name": "stderr",
     "output_type": "stream",
     "text": [
      "Global seed set to 1\n"
     ]
    },
    {
     "name": "stdout",
     "output_type": "stream",
     "text": [
      "{'batch_size': 1024, 'dropout1': 0.306, 'dropout2': 0.33, 'dropout3': 0.48, 'dropout4': 0.403, 'dropout5': 0.04, 'dropout6': 0.155, 'dropout7': 0.108, 'dropout8': 0.445, 'hidden_size1': 51, 'hidden_size2': 512, 'hidden_size3': 48, 'hidden_size4': 32, 'hidden_size5': 1024, 'hidden_size6': 448, 'hidden_size7': 96, 'hidden_size8': 448, 'learning_rate': 0.001, 'n_layers': 4, 'num_epochs': 5}\n",
      "0.7825511907019145                                                                                                     \n",
      " 60%|████████████████████████▌                | 300/500 [42:01:53<17:38:04, 317.42s/it, best loss: -0.7905278665966281]"
     ]
    },
    {
     "name": "stderr",
     "output_type": "stream",
     "text": [
      "Global seed set to 1\n"
     ]
    },
    {
     "name": "stdout",
     "output_type": "stream",
     "text": [
      "{'batch_size': 4096, 'dropout1': 0.412, 'dropout2': 0.219, 'dropout3': 0.188, 'dropout4': 0.359, 'dropout5': 0.231, 'dropout6': 0.336, 'dropout7': 0.479, 'dropout8': 0.088, 'hidden_size1': 33, 'hidden_size2': 32, 'hidden_size3': 256, 'hidden_size4': 256, 'hidden_size5': 448, 'hidden_size6': 48, 'hidden_size7': 128, 'hidden_size8': 128, 'learning_rate': 0.005, 'n_layers': 3, 'num_epochs': 50}\n",
      "0.777599590475768                                                                                                      \n",
      " 60%|████████████████████████▋                | 301/500 [42:14:48<25:08:40, 454.88s/it, best loss: -0.7905278665966281]"
     ]
    },
    {
     "name": "stderr",
     "output_type": "stream",
     "text": [
      "Global seed set to 1\n"
     ]
    },
    {
     "name": "stdout",
     "output_type": "stream",
     "text": [
      "{'batch_size': 2560, 'dropout1': 0.083, 'dropout2': 0.381, 'dropout3': 0.457, 'dropout4': 0.268, 'dropout5': 0.188, 'dropout6': 0.234, 'dropout7': 0.362, 'dropout8': 0.399, 'hidden_size1': 81, 'hidden_size2': 896, 'hidden_size3': 1024, 'hidden_size4': 448, 'hidden_size5': 64, 'hidden_size6': 128, 'hidden_size7': 32, 'hidden_size8': 96, 'learning_rate': 0.03, 'n_layers': 2, 'num_epochs': 10}\n",
      "0.7891014069606157                                                                                                     \n",
      " 60%|████████████████████████▊                | 302/500 [42:17:42<20:22:07, 370.34s/it, best loss: -0.7905278665966281]"
     ]
    },
    {
     "name": "stderr",
     "output_type": "stream",
     "text": [
      "Global seed set to 1\n"
     ]
    },
    {
     "name": "stdout",
     "output_type": "stream",
     "text": [
      "{'batch_size': 128, 'dropout1': 0.278, 'dropout2': 0.145, 'dropout3': 0.375, 'dropout4': 0.494, 'dropout5': 0.305, 'dropout6': 0.269, 'dropout7': 0.05, 'dropout8': 0.134, 'hidden_size1': 19, 'hidden_size2': 256, 'hidden_size3': 512, 'hidden_size4': 48, 'hidden_size5': 48, 'hidden_size6': 512, 'hidden_size7': 1024, 'hidden_size8': 256, 'learning_rate': 0.0004, 'n_layers': 3, 'num_epochs': 40}\n",
      "0.7848860949288496                                                                                                     \n",
      " 61%|████████████████████████▏               | 303/500 [43:06:33<62:18:26, 1138.61s/it, best loss: -0.7905278665966281]"
     ]
    },
    {
     "name": "stderr",
     "output_type": "stream",
     "text": [
      "Global seed set to 1\n"
     ]
    },
    {
     "name": "stdout",
     "output_type": "stream",
     "text": [
      "{'batch_size': 2048, 'dropout1': 0.277, 'dropout2': 0.25, 'dropout3': 0.23, 'dropout4': 0.426, 'dropout5': 0.02, 'dropout6': 0.034, 'dropout7': 0.305, 'dropout8': 0.136, 'hidden_size1': 80, 'hidden_size2': 32, 'hidden_size3': 256, 'hidden_size4': 64, 'hidden_size5': 32, 'hidden_size6': 64, 'hidden_size7': 896, 'hidden_size8': 1024, 'learning_rate': 0.008, 'n_layers': 5, 'num_epochs': 10}\n",
      "0.7900684756490709                                                                                                     \n",
      " 61%|████████████████████████▉                | 304/500 [43:09:39<46:26:18, 852.95s/it, best loss: -0.7905278665966281]"
     ]
    },
    {
     "name": "stderr",
     "output_type": "stream",
     "text": [
      "Global seed set to 1\n"
     ]
    },
    {
     "name": "stdout",
     "output_type": "stream",
     "text": [
      "{'batch_size': 5120, 'dropout1': 0.034, 'dropout2': 0.383, 'dropout3': 0.067, 'dropout4': 0.207, 'dropout5': 0.007, 'dropout6': 0.331, 'dropout7': 0.111, 'dropout8': 0.209, 'hidden_size1': 50, 'hidden_size2': 448, 'hidden_size3': 896, 'hidden_size4': 256, 'hidden_size5': 128, 'hidden_size6': 448, 'hidden_size7': 96, 'hidden_size8': 128, 'learning_rate': 0.004, 'n_layers': 3, 'num_epochs': 25}\n",
      "0.7501020984122938                                                                                                     \n",
      " 61%|█████████████████████████                | 305/500 [43:16:19<38:50:28, 717.07s/it, best loss: -0.7905278665966281]"
     ]
    },
    {
     "name": "stderr",
     "output_type": "stream",
     "text": [
      "Global seed set to 1\n"
     ]
    },
    {
     "name": "stdout",
     "output_type": "stream",
     "text": [
      "{'batch_size': 2048, 'dropout1': 0.137, 'dropout2': 0.261, 'dropout3': 0.359, 'dropout4': 0.057, 'dropout5': 0.403, 'dropout6': 0.141, 'dropout7': 0.282, 'dropout8': 0.149, 'hidden_size1': 86, 'hidden_size2': 64, 'hidden_size3': 64, 'hidden_size4': 896, 'hidden_size5': 48, 'hidden_size6': 96, 'hidden_size7': 32, 'hidden_size8': 256, 'learning_rate': 0.0003, 'n_layers': 1, 'num_epochs': 15}\n",
      "0.7878920606006742                                                                                                     \n",
      " 61%|█████████████████████████                | 306/500 [43:20:21<30:57:11, 574.39s/it, best loss: -0.7905278665966281]"
     ]
    },
    {
     "name": "stderr",
     "output_type": "stream",
     "text": [
      "Global seed set to 1\n"
     ]
    },
    {
     "name": "stdout",
     "output_type": "stream",
     "text": [
      "{'batch_size': 512, 'dropout1': 0.408, 'dropout2': 0.382, 'dropout3': 0.231, 'dropout4': 0.137, 'dropout5': 0.221, 'dropout6': 0.283, 'dropout7': 0.119, 'dropout8': 0.06, 'hidden_size1': 100, 'hidden_size2': 96, 'hidden_size3': 448, 'hidden_size4': 48, 'hidden_size5': 256, 'hidden_size6': 128, 'hidden_size7': 256, 'hidden_size8': 64, 'learning_rate': 0.0001, 'n_layers': 5, 'num_epochs': 10}\n",
      "0.7895612070553183                                                                                                     \n",
      " 61%|█████████████████████████▏               | 307/500 [43:25:38<26:39:43, 497.32s/it, best loss: -0.7905278665966281]"
     ]
    },
    {
     "name": "stderr",
     "output_type": "stream",
     "text": [
      "Global seed set to 1\n"
     ]
    },
    {
     "name": "stdout",
     "output_type": "stream",
     "text": [
      "{'batch_size': 2560, 'dropout1': 0.297, 'dropout2': 0.153, 'dropout3': 0.361, 'dropout4': 0.117, 'dropout5': 0.124, 'dropout6': 0.342, 'dropout7': 0.319, 'dropout8': 0.225, 'hidden_size1': 64, 'hidden_size2': 32, 'hidden_size3': 128, 'hidden_size4': 512, 'hidden_size5': 512, 'hidden_size6': 1024, 'hidden_size7': 48, 'hidden_size8': 128, 'learning_rate': 0.01, 'n_layers': 3, 'num_epochs': 45}\n",
      "0.78981585927216                                                                                                       \n",
      " 62%|█████████████████████████▎               | 308/500 [43:37:31<29:58:23, 562.00s/it, best loss: -0.7905278665966281]"
     ]
    },
    {
     "name": "stderr",
     "output_type": "stream",
     "text": [
      "Global seed set to 1\n"
     ]
    },
    {
     "name": "stdout",
     "output_type": "stream",
     "text": [
      "{'batch_size': 12800, 'dropout1': 0.236, 'dropout2': 0.492, 'dropout3': 0.064, 'dropout4': 0.089, 'dropout5': 0.402, 'dropout6': 0.288, 'dropout7': 0.337, 'dropout8': 0.434, 'hidden_size1': 35, 'hidden_size2': 48, 'hidden_size3': 256, 'hidden_size4': 256, 'hidden_size5': 1024, 'hidden_size6': 32, 'hidden_size7': 448, 'hidden_size8': 48, 'learning_rate': 0.0009, 'n_layers': 5, 'num_epochs': 20}\n",
      "0.7876023271422278                                                                                                     \n",
      " 62%|█████████████████████████▎               | 309/500 [43:43:08<26:14:10, 494.50s/it, best loss: -0.7905278665966281]"
     ]
    },
    {
     "name": "stderr",
     "output_type": "stream",
     "text": [
      "Global seed set to 1\n"
     ]
    },
    {
     "name": "stdout",
     "output_type": "stream",
     "text": [
      "{'batch_size': 10240, 'dropout1': 0.018, 'dropout2': 0.208, 'dropout3': 0.141, 'dropout4': 0.208, 'dropout5': 0.438, 'dropout6': 0.305, 'dropout7': 0.309, 'dropout8': 0.139, 'hidden_size1': 34, 'hidden_size2': 32, 'hidden_size3': 96, 'hidden_size4': 96, 'hidden_size5': 896, 'hidden_size6': 512, 'hidden_size7': 32, 'hidden_size8': 512, 'learning_rate': 0.003, 'n_layers': 4, 'num_epochs': 10}\n",
      "0.7844999822522334                                                                                                     \n",
      " 62%|█████████████████████████▍               | 310/500 [43:46:07<21:06:00, 399.79s/it, best loss: -0.7905278665966281]"
     ]
    },
    {
     "name": "stderr",
     "output_type": "stream",
     "text": [
      "Global seed set to 1\n"
     ]
    },
    {
     "name": "stdout",
     "output_type": "stream",
     "text": [
      "{'batch_size': 2048, 'dropout1': 0.357, 'dropout2': 0.449, 'dropout3': 0.26, 'dropout4': 0.496, 'dropout5': 0.296, 'dropout6': 0.495, 'dropout7': 0.222, 'dropout8': 0.35, 'hidden_size1': 56, 'hidden_size2': 128, 'hidden_size3': 896, 'hidden_size4': 256, 'hidden_size5': 48, 'hidden_size6': 64, 'hidden_size7': 64, 'hidden_size8': 32, 'learning_rate': 0.006, 'n_layers': 3, 'num_epochs': 30}\n",
      "0.7823655252334708                                                                                                     \n",
      " 62%|█████████████████████████▌               | 311/500 [43:54:11<22:19:11, 425.14s/it, best loss: -0.7905278665966281]"
     ]
    },
    {
     "name": "stderr",
     "output_type": "stream",
     "text": [
      "Global seed set to 1\n"
     ]
    },
    {
     "name": "stdout",
     "output_type": "stream",
     "text": [
      "{'batch_size': 256, 'dropout1': 0.289, 'dropout2': 0.058, 'dropout3': 0.016, 'dropout4': 0.181, 'dropout5': 0.294, 'dropout6': 0.281, 'dropout7': 0.202, 'dropout8': 0.002, 'hidden_size1': 84, 'hidden_size2': 1024, 'hidden_size3': 32, 'hidden_size4': 128, 'hidden_size5': 128, 'hidden_size6': 256, 'hidden_size7': 512, 'hidden_size8': 256, 'learning_rate': 0.0002, 'n_layers': 2, 'num_epochs': 10}\n",
      "0.7838459308368166                                                                                                     \n",
      " 62%|█████████████████████████▌               | 312/500 [44:00:54<21:51:21, 418.52s/it, best loss: -0.7905278665966281]"
     ]
    },
    {
     "name": "stderr",
     "output_type": "stream",
     "text": [
      "Global seed set to 1\n"
     ]
    },
    {
     "name": "stdout",
     "output_type": "stream",
     "text": [
      "{'batch_size': 5120, 'dropout1': 0.378, 'dropout2': 0.002, 'dropout3': 0.43, 'dropout4': 0.433, 'dropout5': 0.219, 'dropout6': 0.373, 'dropout7': 0.498, 'dropout8': 0.304, 'hidden_size1': 38, 'hidden_size2': 64, 'hidden_size3': 256, 'hidden_size4': 1024, 'hidden_size5': 48, 'hidden_size6': 896, 'hidden_size7': 896, 'hidden_size8': 128, 'learning_rate': 0.02, 'n_layers': 3, 'num_epochs': 35}\n",
      "0.790195645143758                                                                                                      \n",
      " 63%|█████████████████████████▋               | 313/500 [44:10:03<23:46:24, 457.67s/it, best loss: -0.7905278665966281]"
     ]
    },
    {
     "name": "stderr",
     "output_type": "stream",
     "text": [
      "Global seed set to 1\n"
     ]
    },
    {
     "name": "stdout",
     "output_type": "stream",
     "text": [
      "{'batch_size': 2048, 'dropout1': 0.059, 'dropout2': 0.434, 'dropout3': 0.284, 'dropout4': 0.159, 'dropout5': 0.31, 'dropout6': 0.186, 'dropout7': 0.156, 'dropout8': 0.105, 'hidden_size1': 99, 'hidden_size2': 32, 'hidden_size3': 896, 'hidden_size4': 48, 'hidden_size5': 96, 'hidden_size6': 128, 'hidden_size7': 32, 'hidden_size8': 896, 'learning_rate': 0.009, 'n_layers': 5, 'num_epochs': 10}\n",
      "0.7900431814388773                                                                                                     \n",
      " 63%|█████████████████████████▋               | 314/500 [44:13:10<19:26:54, 376.42s/it, best loss: -0.7905278665966281]"
     ]
    },
    {
     "name": "stderr",
     "output_type": "stream",
     "text": [
      "Global seed set to 1\n"
     ]
    },
    {
     "name": "stdout",
     "output_type": "stream",
     "text": [
      "{'batch_size': 4096, 'dropout1': 0.128, 'dropout2': 0.474, 'dropout3': 0.491, 'dropout4': 0.354, 'dropout5': 0.15, 'dropout6': 0.087, 'dropout7': 0.034, 'dropout8': 0.496, 'hidden_size1': 92, 'hidden_size2': 512, 'hidden_size3': 48, 'hidden_size4': 32, 'hidden_size5': 448, 'hidden_size6': 448, 'hidden_size7': 96, 'hidden_size8': 448, 'learning_rate': 0.001, 'n_layers': 3, 'num_epochs': 50}\n",
      "0.7875572794503979                                                                                                     \n",
      " 63%|█████████████████████████▊               | 315/500 [44:26:07<25:30:49, 496.48s/it, best loss: -0.7905278665966281]"
     ]
    },
    {
     "name": "stderr",
     "output_type": "stream",
     "text": [
      "Global seed set to 1\n"
     ]
    },
    {
     "name": "stdout",
     "output_type": "stream",
     "text": [
      "{'batch_size': 1024, 'dropout1': 0.388, 'dropout2': 0.351, 'dropout3': 0.103, 'dropout4': 0.043, 'dropout5': 0.159, 'dropout6': 0.064, 'dropout7': 0.112, 'dropout8': 0.014, 'hidden_size1': 22, 'hidden_size2': 32, 'hidden_size3': 256, 'hidden_size4': 256, 'hidden_size5': 1024, 'hidden_size6': 48, 'hidden_size7': 128, 'hidden_size8': 128, 'learning_rate': 0.0003, 'n_layers': 5, 'num_epochs': 10}\n",
      "0.7878256678450312                                                                                                     \n",
      " 63%|█████████████████████████▉               | 316/500 [44:29:54<21:14:48, 415.70s/it, best loss: -0.7905278665966281]"
     ]
    },
    {
     "name": "stderr",
     "output_type": "stream",
     "text": [
      "Global seed set to 1\n"
     ]
    },
    {
     "name": "stdout",
     "output_type": "stream",
     "text": [
      "{'batch_size': 2048, 'dropout1': 0.474, 'dropout2': 0.426, 'dropout3': 0.336, 'dropout4': 0.266, 'dropout5': 0.123, 'dropout6': 0.15, 'dropout7': 0.355, 'dropout8': 0.177, 'hidden_size1': 75, 'hidden_size2': 896, 'hidden_size3': 512, 'hidden_size4': 448, 'hidden_size5': 48, 'hidden_size6': 128, 'hidden_size7': 32, 'hidden_size8': 96, 'learning_rate': 0.0004, 'n_layers': 1, 'num_epochs': 5}\n",
      "0.78596087119509                                                                                                       \n",
      " 63%|█████████████████████████▉               | 317/500 [44:31:31<16:16:35, 320.19s/it, best loss: -0.7905278665966281]"
     ]
    },
    {
     "name": "stderr",
     "output_type": "stream",
     "text": [
      "Global seed set to 1\n"
     ]
    },
    {
     "name": "stdout",
     "output_type": "stream",
     "text": [
      "{'batch_size': 2560, 'dropout1': 0.259, 'dropout2': 0.408, 'dropout3': 0.009, 'dropout4': 0.438, 'dropout5': 0.471, 'dropout6': 0.163, 'dropout7': 0.351, 'dropout8': 0.369, 'hidden_size1': 21, 'hidden_size2': 256, 'hidden_size3': 1024, 'hidden_size4': 48, 'hidden_size5': 32, 'hidden_size6': 512, 'hidden_size7': 1024, 'hidden_size8': 256, 'learning_rate': 0.002, 'n_layers': 3, 'num_epochs': 40}\n",
      "0.7208050189901916                                                                                                     \n",
      " 64%|██████████████████████████               | 318/500 [44:42:00<20:52:13, 412.82s/it, best loss: -0.7905278665966281]"
     ]
    },
    {
     "name": "stderr",
     "output_type": "stream",
     "text": [
      "Global seed set to 1\n"
     ]
    },
    {
     "name": "stdout",
     "output_type": "stream",
     "text": [
      "{'batch_size': 128, 'dropout1': 0.33, 'dropout2': 0.195, 'dropout3': 0.135, 'dropout4': 0.16, 'dropout5': 0.462, 'dropout6': 0.097, 'dropout7': 0.493, 'dropout8': 0.442, 'hidden_size1': 47, 'hidden_size2': 32, 'hidden_size3': 256, 'hidden_size4': 256, 'hidden_size5': 64, 'hidden_size6': 64, 'hidden_size7': 896, 'hidden_size8': 128, 'learning_rate': 0.04, 'n_layers': 5, 'num_epochs': 10}\n",
      "0.7853663891022276                                                                                                     \n",
      " 64%|██████████████████████████▏              | 319/500 [44:56:47<27:54:36, 555.12s/it, best loss: -0.7905278665966281]"
     ]
    },
    {
     "name": "stderr",
     "output_type": "stream",
     "text": [
      "Global seed set to 1\n"
     ]
    },
    {
     "name": "stdout",
     "output_type": "stream",
     "text": [
      "{'batch_size': 5120, 'dropout1': 0.319, 'dropout2': 0.314, 'dropout3': 0.373, 'dropout4': 0.409, 'dropout5': 0.451, 'dropout6': 0.2, 'dropout7': 0.049, 'dropout8': 0.451, 'hidden_size1': 41, 'hidden_size2': 64, 'hidden_size3': 896, 'hidden_size4': 64, 'hidden_size5': 128, 'hidden_size6': 448, 'hidden_size7': 32, 'hidden_size8': 256, 'learning_rate': 0.0006, 'n_layers': 4, 'num_epochs': 25}\n",
      "0.7890941391971248                                                                                                     \n",
      " 64%|██████████████████████████▏              | 320/500 [45:03:31<25:29:10, 509.73s/it, best loss: -0.7905278665966281]"
     ]
    },
    {
     "name": "stderr",
     "output_type": "stream",
     "text": [
      "Global seed set to 1\n"
     ]
    },
    {
     "name": "stdout",
     "output_type": "stream",
     "text": [
      "{'batch_size': 2048, 'dropout1': 0.302, 'dropout2': 0.03, 'dropout3': 0.171, 'dropout4': 0.481, 'dropout5': 0.469, 'dropout6': 0.199, 'dropout7': 0.372, 'dropout8': 0.084, 'hidden_size1': 83, 'hidden_size2': 448, 'hidden_size3': 128, 'hidden_size4': 896, 'hidden_size5': 48, 'hidden_size6': 128, 'hidden_size7': 96, 'hidden_size8': 1024, 'learning_rate': 0.007, 'n_layers': 3, 'num_epochs': 10}\n",
      "0.7892344138449803                                                                                                     \n",
      " 64%|██████████████████████████▎              | 321/500 [45:06:29<20:23:50, 410.23s/it, best loss: -0.7905278665966281]"
     ]
    },
    {
     "name": "stderr",
     "output_type": "stream",
     "text": [
      "Global seed set to 1\n"
     ]
    },
    {
     "name": "stdout",
     "output_type": "stream",
     "text": [
      "{'batch_size': 512, 'dropout1': 0.057, 'dropout2': 0.463, 'dropout3': 0.017, 'dropout4': 0.283, 'dropout5': 0.314, 'dropout6': 0.078, 'dropout7': 0.144, 'dropout8': 0.228, 'hidden_size1': 72, 'hidden_size2': 96, 'hidden_size3': 448, 'hidden_size4': 48, 'hidden_size5': 256, 'hidden_size6': 1024, 'hidden_size7': 48, 'hidden_size8': 128, 'learning_rate': 0.0003, 'n_layers': 2, 'num_epochs': 15}\n",
      "0.7753298628485338                                                                                                     \n",
      " 64%|██████████████████████████▍              | 322/500 [45:12:58<19:57:38, 403.70s/it, best loss: -0.7905278665966281]"
     ]
    },
    {
     "name": "stderr",
     "output_type": "stream",
     "text": [
      "Global seed set to 1\n"
     ]
    },
    {
     "name": "stdout",
     "output_type": "stream",
     "text": [
      "{'batch_size': 2048, 'dropout1': 0.063, 'dropout2': 0.006, 'dropout3': 0.488, 'dropout4': 0.306, 'dropout5': 0.391, 'dropout6': 0.334, 'dropout7': 0.012, 'dropout8': 0.318, 'hidden_size1': 46, 'hidden_size2': 32, 'hidden_size3': 256, 'hidden_size4': 512, 'hidden_size5': 512, 'hidden_size6': 96, 'hidden_size7': 32, 'hidden_size8': 64, 'learning_rate': 0.0007, 'n_layers': 3, 'num_epochs': 10}\n",
      "0.7873906351354396                                                                                                     \n",
      " 65%|██████████████████████████▍              | 323/500 [45:15:57<16:31:55, 336.25s/it, best loss: -0.7905278665966281]"
     ]
    },
    {
     "name": "stderr",
     "output_type": "stream",
     "text": [
      "Global seed set to 1\n"
     ]
    },
    {
     "name": "stdout",
     "output_type": "stream",
     "text": [
      "{'batch_size': 12800, 'dropout1': 0.017, 'dropout2': 0.389, 'dropout3': 0.245, 'dropout4': 0.225, 'dropout5': 0.49, 'dropout6': 0.309, 'dropout7': 0.281, 'dropout8': 0.094, 'hidden_size1': 61, 'hidden_size2': 48, 'hidden_size3': 64, 'hidden_size4': 256, 'hidden_size5': 1024, 'hidden_size6': 32, 'hidden_size7': 448, 'hidden_size8': 512, 'learning_rate': 0.0008, 'n_layers': 5, 'num_epochs': 45}\n",
      "0.7892486991319648                                                                                                     \n",
      " 65%|██████████████████████████▌              | 324/500 [45:27:53<22:00:53, 450.30s/it, best loss: -0.7905278665966281]"
     ]
    },
    {
     "name": "stderr",
     "output_type": "stream",
     "text": [
      "Global seed set to 1\n"
     ]
    },
    {
     "name": "stdout",
     "output_type": "stream",
     "text": [
      "{'batch_size': 10240, 'dropout1': 0.324, 'dropout2': 0.02, 'dropout3': 0.431, 'dropout4': 0.307, 'dropout5': 0.164, 'dropout6': 0.266, 'dropout7': 0.054, 'dropout8': 0.033, 'hidden_size1': 9, 'hidden_size2': 1024, 'hidden_size3': 96, 'hidden_size4': 96, 'hidden_size5': 896, 'hidden_size6': 512, 'hidden_size7': 256, 'hidden_size8': 256, 'learning_rate': 0.0005, 'n_layers': 3, 'num_epochs': 20}\n",
      "0.7834942921120382                                                                                                     \n",
      " 65%|██████████████████████████▋              | 325/500 [45:33:20<20:05:24, 413.28s/it, best loss: -0.7905278665966281]"
     ]
    },
    {
     "name": "stderr",
     "output_type": "stream",
     "text": [
      "Global seed set to 1\n"
     ]
    },
    {
     "name": "stdout",
     "output_type": "stream",
     "text": [
      "{'batch_size': 2560, 'dropout1': 0.398, 'dropout2': 0.043, 'dropout3': 0.179, 'dropout4': 0.377, 'dropout5': 0.325, 'dropout6': 0.215, 'dropout7': 0.104, 'dropout8': 0.123, 'hidden_size1': 29, 'hidden_size2': 32, 'hidden_size3': 896, 'hidden_size4': 128, 'hidden_size5': 48, 'hidden_size6': 896, 'hidden_size7': 64, 'hidden_size8': 48, 'learning_rate': 0.03, 'n_layers': 5, 'num_epochs': 10}\n",
      "0.789184311909469                                                                                                      \n",
      " 65%|██████████████████████████▋              | 326/500 [45:36:24<16:38:46, 344.41s/it, best loss: -0.7905278665966281]"
     ]
    },
    {
     "name": "stderr",
     "output_type": "stream",
     "text": [
      "Global seed set to 1\n"
     ]
    },
    {
     "name": "stdout",
     "output_type": "stream",
     "text": [
      "{'batch_size': 256, 'dropout1': 0.391, 'dropout2': 0.364, 'dropout3': 0.371, 'dropout4': 0.477, 'dropout5': 0.444, 'dropout6': 0.19, 'dropout7': 0.268, 'dropout8': 0.38, 'hidden_size1': 78, 'hidden_size2': 64, 'hidden_size3': 32, 'hidden_size4': 256, 'hidden_size5': 96, 'hidden_size6': 64, 'hidden_size7': 512, 'hidden_size8': 128, 'learning_rate': 0.001, 'n_layers': 1, 'num_epochs': 10}\n",
      "0.7828076869366429                                                                                                     \n",
      " 65%|██████████████████████████▊              | 327/500 [45:42:35<16:56:00, 352.37s/it, best loss: -0.7905278665966281]"
     ]
    },
    {
     "name": "stderr",
     "output_type": "stream",
     "text": [
      "Global seed set to 1\n"
     ]
    },
    {
     "name": "stdout",
     "output_type": "stream",
     "text": [
      "{'batch_size': 5120, 'dropout1': 0.434, 'dropout2': 0.2, 'dropout3': 0.446, 'dropout4': 0.016, 'dropout5': 0.304, 'dropout6': 0.484, 'dropout7': 0.189, 'dropout8': 0.363, 'hidden_size1': 58, 'hidden_size2': 128, 'hidden_size3': 256, 'hidden_size4': 1024, 'hidden_size5': 128, 'hidden_size6': 128, 'hidden_size7': 896, 'hidden_size8': 32, 'learning_rate': 0.009, 'n_layers': 3, 'num_epochs': 30}\n",
      "0.7900702462751517                                                                                                     \n",
      " 66%|██████████████████████████▉              | 328/500 [45:50:28<18:34:26, 388.76s/it, best loss: -0.7905278665966281]"
     ]
    },
    {
     "name": "stderr",
     "output_type": "stream",
     "text": [
      "Global seed set to 1\n"
     ]
    },
    {
     "name": "stdout",
     "output_type": "stream",
     "text": [
      "{'batch_size': 2048, 'dropout1': 0.245, 'dropout2': 0.294, 'dropout3': 0.133, 'dropout4': 0.311, 'dropout5': 0.327, 'dropout6': 0.124, 'dropout7': 0.106, 'dropout8': 0.13, 'hidden_size1': 68, 'hidden_size2': 32, 'hidden_size3': 896, 'hidden_size4': 48, 'hidden_size5': 48, 'hidden_size6': 256, 'hidden_size7': 32, 'hidden_size8': 896, 'learning_rate': 0.0004, 'n_layers': 5, 'num_epochs': 35}\n",
      "0.7656833974361945                                                                                                     \n",
      " 66%|██████████████████████████▉              | 329/500 [46:00:20<21:21:56, 449.81s/it, best loss: -0.7905278665966281]"
     ]
    },
    {
     "name": "stderr",
     "output_type": "stream",
     "text": [
      "Global seed set to 1\n"
     ]
    },
    {
     "name": "stdout",
     "output_type": "stream",
     "text": [
      "{'batch_size': 4096, 'dropout1': 0.481, 'dropout2': 0.45, 'dropout3': 0.036, 'dropout4': 0.007, 'dropout5': 0.364, 'dropout6': 0.221, 'dropout7': 0.389, 'dropout8': 0.308, 'hidden_size1': 71, 'hidden_size2': 512, 'hidden_size3': 48, 'hidden_size4': 256, 'hidden_size5': 448, 'hidden_size6': 448, 'hidden_size7': 96, 'hidden_size8': 448, 'learning_rate': 0.005, 'n_layers': 4, 'num_epochs': 50}\n",
      "0.772371571220396                                                                                                      \n",
      " 66%|███████████████████████████              | 330/500 [46:13:31<26:04:00, 552.00s/it, best loss: -0.7905278665966281]"
     ]
    },
    {
     "name": "stderr",
     "output_type": "stream",
     "text": [
      "Global seed set to 1\n"
     ]
    },
    {
     "name": "stdout",
     "output_type": "stream",
     "text": [
      "{'batch_size': 1024, 'dropout1': 0.205, 'dropout2': 0.454, 'dropout3': 0.253, 'dropout4': 0.047, 'dropout5': 0.192, 'dropout6': 0.236, 'dropout7': 0.053, 'dropout8': 0.054, 'hidden_size1': 77, 'hidden_size2': 32, 'hidden_size3': 256, 'hidden_size4': 32, 'hidden_size5': 1024, 'hidden_size6': 48, 'hidden_size7': 128, 'hidden_size8': 128, 'learning_rate': 0.004, 'n_layers': 3, 'num_epochs': 10}\n",
      "0.7895419990799731                                                                                                     \n",
      " 66%|███████████████████████████▏             | 331/500 [46:17:01<21:05:55, 449.44s/it, best loss: -0.7905278665966281]"
     ]
    },
    {
     "name": "stderr",
     "output_type": "stream",
     "text": [
      "Global seed set to 1\n"
     ]
    },
    {
     "name": "stdout",
     "output_type": "stream",
     "text": [
      "{'batch_size': 2048, 'dropout1': 0.154, 'dropout2': 0.355, 'dropout3': 0.289, 'dropout4': 0.291, 'dropout5': 0.441, 'dropout6': 0.16, 'dropout7': 0.425, 'dropout8': 0.377, 'hidden_size1': 93, 'hidden_size2': 896, 'hidden_size3': 512, 'hidden_size4': 448, 'hidden_size5': 48, 'hidden_size6': 128, 'hidden_size7': 32, 'hidden_size8': 256, 'learning_rate': 0.008, 'n_layers': 2, 'num_epochs': 5}\n",
      "0.7874158711691619                                                                                                     \n",
      " 66%|███████████████████████████▏             | 332/500 [46:18:41<16:04:26, 344.45s/it, best loss: -0.7905278665966281]"
     ]
    },
    {
     "name": "stderr",
     "output_type": "stream",
     "text": [
      "Global seed set to 1\n"
     ]
    },
    {
     "name": "stdout",
     "output_type": "stream",
     "text": [
      "{'batch_size': 2560, 'dropout1': 0.439, 'dropout2': 0.107, 'dropout3': 0.354, 'dropout4': 0.103, 'dropout5': 0.245, 'dropout6': 0.195, 'dropout7': 0.07, 'dropout8': 0.333, 'hidden_size1': 98, 'hidden_size2': 256, 'hidden_size3': 1024, 'hidden_size4': 48, 'hidden_size5': 64, 'hidden_size6': 512, 'hidden_size7': 1024, 'hidden_size8': 1024, 'learning_rate': 0.0003, 'n_layers': 3, 'num_epochs': 40}\n",
      "0.7846325350614094                                                                                                     \n",
      " 67%|███████████████████████████▎             | 333/500 [46:29:09<19:55:59, 429.70s/it, best loss: -0.7905278665966281]"
     ]
    },
    {
     "name": "stderr",
     "output_type": "stream",
     "text": [
      "Global seed set to 1\n"
     ]
    },
    {
     "name": "stdout",
     "output_type": "stream",
     "text": [
      "{'batch_size': 128, 'dropout1': 0.053, 'dropout2': 0.41, 'dropout3': 0.082, 'dropout4': 0.143, 'dropout5': 0.078, 'dropout6': 0.33, 'dropout7': 0.16, 'dropout8': 0.479, 'hidden_size1': 27, 'hidden_size2': 32, 'hidden_size3': 256, 'hidden_size4': 256, 'hidden_size5': 128, 'hidden_size6': 64, 'hidden_size7': 896, 'hidden_size8': 96, 'learning_rate': 0.01, 'n_layers': 5, 'num_epochs': 10}\n",
      "0.7844430296277226                                                                                                     \n",
      " 67%|███████████████████████████▍             | 334/500 [46:43:57<26:09:17, 567.21s/it, best loss: -0.7905278665966281]"
     ]
    },
    {
     "name": "stderr",
     "output_type": "stream",
     "text": [
      "Global seed set to 1\n"
     ]
    },
    {
     "name": "stdout",
     "output_type": "stream",
     "text": [
      "{'batch_size': 5120, 'dropout1': 0.077, 'dropout2': 0.164, 'dropout3': 0.335, 'dropout4': 0.361, 'dropout5': 0.163, 'dropout6': 0.338, 'dropout7': 0.277, 'dropout8': 0.069, 'hidden_size1': 82, 'hidden_size2': 64, 'hidden_size3': 896, 'hidden_size4': 64, 'hidden_size5': 32, 'hidden_size6': 128, 'hidden_size7': 32, 'hidden_size8': 128, 'learning_rate': 0.0001, 'n_layers': 3, 'num_epochs': 25}\n",
      "0.7889059235740267                                                                                                     \n",
      " 67%|███████████████████████████▍             | 335/500 [46:50:36<23:40:53, 516.69s/it, best loss: -0.7905278665966281]"
     ]
    },
    {
     "name": "stderr",
     "output_type": "stream",
     "text": [
      "Global seed set to 1\n"
     ]
    },
    {
     "name": "stdout",
     "output_type": "stream",
     "text": [
      "{'batch_size': 2048, 'dropout1': 0.074, 'dropout2': 0.01, 'dropout3': 0.302, 'dropout4': 0.401, 'dropout5': 0.331, 'dropout6': 0.275, 'dropout7': 0.271, 'dropout8': 0.329, 'hidden_size1': 85, 'hidden_size2': 448, 'hidden_size3': 448, 'hidden_size4': 896, 'hidden_size5': 48, 'hidden_size6': 448, 'hidden_size7': 96, 'hidden_size8': 256, 'learning_rate': 0.006, 'n_layers': 5, 'num_epochs': 10}\n",
      "0.7900714913584994                                                                                                     \n",
      " 67%|███████████████████████████▌             | 336/500 [46:53:43<19:02:13, 417.89s/it, best loss: -0.7905278665966281]"
     ]
    },
    {
     "name": "stderr",
     "output_type": "stream",
     "text": [
      "Global seed set to 1\n"
     ]
    },
    {
     "name": "stdout",
     "output_type": "stream",
     "text": [
      "{'batch_size': 512, 'dropout1': 0.334, 'dropout2': 0.424, 'dropout3': 0.2, 'dropout4': 0.262, 'dropout5': 0.209, 'dropout6': 0.217, 'dropout7': 0.402, 'dropout8': 0.284, 'hidden_size1': 60, 'hidden_size2': 32, 'hidden_size3': 64, 'hidden_size4': 48, 'hidden_size5': 256, 'hidden_size6': 96, 'hidden_size7': 48, 'hidden_size8': 64, 'learning_rate': 0.0009, 'n_layers': 1, 'num_epochs': 15}\n",
      "0.7876179678869804                                                                                                     \n",
      " 67%|███████████████████████████▋             | 337/500 [46:59:47<18:11:18, 401.71s/it, best loss: -0.7905278665966281]"
     ]
    },
    {
     "name": "stderr",
     "output_type": "stream",
     "text": [
      "Global seed set to 1\n"
     ]
    },
    {
     "name": "stdout",
     "output_type": "stream",
     "text": [
      "{'batch_size': 12800, 'dropout1': 0.012, 'dropout2': 0.133, 'dropout3': 0.469, 'dropout4': 0.475, 'dropout5': 0.036, 'dropout6': 0.12, 'dropout7': 0.115, 'dropout8': 0.419, 'hidden_size1': 59, 'hidden_size2': 96, 'hidden_size3': 256, 'hidden_size4': 512, 'hidden_size5': 512, 'hidden_size6': 1024, 'hidden_size7': 256, 'hidden_size8': 128, 'learning_rate': 0.003, 'n_layers': 3, 'num_epochs': 45}\n",
      "0.7900233360807372                                                                                                     \n",
      " 68%|███████████████████████████▋             | 338/500 [47:11:39<22:15:56, 494.79s/it, best loss: -0.7905278665966281]"
     ]
    },
    {
     "name": "stderr",
     "output_type": "stream",
     "text": [
      "Global seed set to 1\n"
     ]
    },
    {
     "name": "stdout",
     "output_type": "stream",
     "text": [
      "{'batch_size': 2048, 'dropout1': 0.181, 'dropout2': 0.183, 'dropout3': 0.37, 'dropout4': 0.127, 'dropout5': 0.365, 'dropout6': 0.162, 'dropout7': 0.121, 'dropout8': 0.245, 'hidden_size1': 25, 'hidden_size2': 48, 'hidden_size3': 128, 'hidden_size4': 256, 'hidden_size5': 1024, 'hidden_size6': 32, 'hidden_size7': 32, 'hidden_size8': 48, 'learning_rate': 0.009, 'n_layers': 5, 'num_epochs': 10}\n",
      "0.7879330875284489                                                                                                     \n",
      " 68%|███████████████████████████▊             | 339/500 [47:14:46<17:59:42, 402.38s/it, best loss: -0.7905278665966281]"
     ]
    },
    {
     "name": "stderr",
     "output_type": "stream",
     "text": [
      "Global seed set to 1\n"
     ]
    },
    {
     "name": "stdout",
     "output_type": "stream",
     "text": [
      "{'batch_size': 10240, 'dropout1': 0.429, 'dropout2': 0.126, 'dropout3': 0.496, 'dropout4': 0.077, 'dropout5': 0.196, 'dropout6': 0.204, 'dropout7': 0.252, 'dropout8': 0.266, 'hidden_size1': 23, 'hidden_size2': 1024, 'hidden_size3': 896, 'hidden_size4': 96, 'hidden_size5': 48, 'hidden_size6': 512, 'hidden_size7': 64, 'hidden_size8': 512, 'learning_rate': 0.02, 'n_layers': 3, 'num_epochs': 20}\n",
      "0.7869691730821622                                                                                                     \n",
      " 68%|███████████████████████████▉             | 340/500 [47:20:14<16:53:27, 380.05s/it, best loss: -0.7905278665966281]"
     ]
    },
    {
     "name": "stderr",
     "output_type": "stream",
     "text": [
      "Global seed set to 1\n"
     ]
    },
    {
     "name": "stdout",
     "output_type": "stream",
     "text": [
      "{'batch_size': 2560, 'dropout1': 0.432, 'dropout2': 0.09, 'dropout3': 0.255, 'dropout4': 0.272, 'dropout5': 0.437, 'dropout6': 0.379, 'dropout7': 0.317, 'dropout8': 0.47, 'hidden_size1': 45, 'hidden_size2': 32, 'hidden_size3': 32, 'hidden_size4': 128, 'hidden_size5': 896, 'hidden_size6': 896, 'hidden_size7': 448, 'hidden_size8': 32, 'learning_rate': 0.001, 'n_layers': 4, 'num_epochs': 10}\n",
      "0.7862547263649343                                                                                                     \n",
      " 68%|███████████████████████████▉             | 341/500 [47:23:14<14:08:07, 320.05s/it, best loss: -0.7905278665966281]"
     ]
    },
    {
     "name": "stderr",
     "output_type": "stream",
     "text": [
      "Global seed set to 1\n"
     ]
    },
    {
     "name": "stdout",
     "output_type": "stream",
     "text": [
      "{'batch_size': 256, 'dropout1': 0.21, 'dropout2': 0.177, 'dropout3': 0.322, 'dropout4': 0.305, 'dropout5': 0.339, 'dropout6': 0.388, 'dropout7': 0.332, 'dropout8': 0.003, 'hidden_size1': 31, 'hidden_size2': 64, 'hidden_size3': 96, 'hidden_size4': 256, 'hidden_size5': 96, 'hidden_size6': 64, 'hidden_size7': 512, 'hidden_size8': 256, 'learning_rate': 0.0003, 'n_layers': 2, 'num_epochs': 30}\n",
      "0.7869485938863274                                                                                                     \n",
      " 68%|████████████████████████████             | 342/500 [47:42:40<25:11:07, 573.84s/it, best loss: -0.7905278665966281]"
     ]
    },
    {
     "name": "stderr",
     "output_type": "stream",
     "text": [
      "Global seed set to 1\n"
     ]
    },
    {
     "name": "stdout",
     "output_type": "stream",
     "text": [
      "{'batch_size': 5120, 'dropout1': 0.139, 'dropout2': 0.167, 'dropout3': 0.437, 'dropout4': 0.138, 'dropout5': 0.043, 'dropout6': 0.223, 'dropout7': 0.017, 'dropout8': 0.211, 'hidden_size1': 69, 'hidden_size2': 128, 'hidden_size3': 256, 'hidden_size4': 48, 'hidden_size5': 128, 'hidden_size6': 128, 'hidden_size7': 896, 'hidden_size8': 128, 'learning_rate': 0.0002, 'n_layers': 3, 'num_epochs': 10}\n",
      "0.7854819535159527                                                                                                     \n",
      " 69%|████████████████████████████▏            | 343/500 [47:45:36<19:48:49, 454.33s/it, best loss: -0.7905278665966281]"
     ]
    },
    {
     "name": "stderr",
     "output_type": "stream",
     "text": [
      "Global seed set to 1\n"
     ]
    },
    {
     "name": "stdout",
     "output_type": "stream",
     "text": [
      "{'batch_size': 2048, 'dropout1': 0.201, 'dropout2': 0.321, 'dropout3': 0.052, 'dropout4': 0.483, 'dropout5': 0.207, 'dropout6': 0.194, 'dropout7': 0.215, 'dropout8': 0.27, 'hidden_size1': 24, 'hidden_size2': 32, 'hidden_size3': 896, 'hidden_size4': 1024, 'hidden_size5': 48, 'hidden_size6': 448, 'hidden_size7': 32, 'hidden_size8': 128, 'learning_rate': 0.0004, 'n_layers': 5, 'num_epochs': 35}\n",
      "0.7399951459881157                                                                                                     \n",
      " 69%|████████████████████████████▏            | 344/500 [47:55:26<21:27:45, 495.29s/it, best loss: -0.7905278665966281]"
     ]
    },
    {
     "name": "stderr",
     "output_type": "stream",
     "text": [
      "Global seed set to 1\n"
     ]
    },
    {
     "name": "stdout",
     "output_type": "stream",
     "text": [
      "{'batch_size': 4096, 'dropout1': 0.144, 'dropout2': 0.438, 'dropout3': 0.057, 'dropout4': 0.461, 'dropout5': 0.227, 'dropout6': 0.449, 'dropout7': 0.171, 'dropout8': 0.288, 'hidden_size1': 32, 'hidden_size2': 512, 'hidden_size3': 48, 'hidden_size4': 32, 'hidden_size5': 448, 'hidden_size6': 256, 'hidden_size7': 96, 'hidden_size8': 896, 'learning_rate': 0.0006, 'n_layers': 3, 'num_epochs': 50}\n",
      "0.7812283220818237                                                                                                     \n",
      " 69%|████████████████████████████▎            | 345/500 [48:08:22<24:57:00, 579.49s/it, best loss: -0.7905278665966281]"
     ]
    },
    {
     "name": "stderr",
     "output_type": "stream",
     "text": [
      "Global seed set to 1\n"
     ]
    },
    {
     "name": "stdout",
     "output_type": "stream",
     "text": [
      "{'batch_size': 1024, 'dropout1': 0.447, 'dropout2': 0.046, 'dropout3': 0.348, 'dropout4': 0.128, 'dropout5': 0.022, 'dropout6': 0.187, 'dropout7': 0.217, 'dropout8': 0.387, 'hidden_size1': 89, 'hidden_size2': 32, 'hidden_size3': 256, 'hidden_size4': 256, 'hidden_size5': 1024, 'hidden_size6': 48, 'hidden_size7': 128, 'hidden_size8': 448, 'learning_rate': 0.002, 'n_layers': 5, 'num_epochs': 10}\n",
      "0.788938160630904                                                                                                      \n",
      " 69%|████████████████████████████▎            | 346/500 [48:12:10<20:16:39, 474.02s/it, best loss: -0.7905278665966281]"
     ]
    },
    {
     "name": "stderr",
     "output_type": "stream",
     "text": [
      "Global seed set to 1\n"
     ]
    },
    {
     "name": "stdout",
     "output_type": "stream",
     "text": [
      "{'batch_size': 2048, 'dropout1': 0.405, 'dropout2': 0.244, 'dropout3': 0.42, 'dropout4': 0.299, 'dropout5': 0.147, 'dropout6': 0.031, 'dropout7': 0.153, 'dropout8': 0.022, 'hidden_size1': 86, 'hidden_size2': 896, 'hidden_size3': 512, 'hidden_size4': 448, 'hidden_size5': 48, 'hidden_size6': 128, 'hidden_size7': 32, 'hidden_size8': 256, 'learning_rate': 0.0003, 'n_layers': 1, 'num_epochs': 5}\n",
      "0.7855193958580141                                                                                                     \n",
      " 69%|████████████████████████████▍            | 347/500 [48:13:48<15:20:32, 360.99s/it, best loss: -0.7905278665966281]"
     ]
    },
    {
     "name": "stderr",
     "output_type": "stream",
     "text": [
      "Global seed set to 1\n"
     ]
    },
    {
     "name": "stdout",
     "output_type": "stream",
     "text": [
      "{'batch_size': 2560, 'dropout1': 0.343, 'dropout2': 0.128, 'dropout3': 0.101, 'dropout4': 0.412, 'dropout5': 0.067, 'dropout6': 0.108, 'dropout7': 0.21, 'dropout8': 0.133, 'hidden_size1': 39, 'hidden_size2': 32, 'hidden_size3': 256, 'hidden_size4': 48, 'hidden_size5': 64, 'hidden_size6': 512, 'hidden_size7': 1024, 'hidden_size8': 96, 'learning_rate': 0.007, 'n_layers': 3, 'num_epochs': 10}\n",
      "0.7886011171759287                                                                                                     \n",
      " 70%|████████████████████████████▌            | 348/500 [48:16:44<12:53:55, 305.50s/it, best loss: -0.7905278665966281]"
     ]
    },
    {
     "name": "stderr",
     "output_type": "stream",
     "text": [
      "Global seed set to 1\n"
     ]
    },
    {
     "name": "stdout",
     "output_type": "stream",
     "text": [
      "{'batch_size': 128, 'dropout1': 0.113, 'dropout2': 0.292, 'dropout3': 0.131, 'dropout4': 0.125, 'dropout5': 0.206, 'dropout6': 0.232, 'dropout7': 0.452, 'dropout8': 0.383, 'hidden_size1': 57, 'hidden_size2': 256, 'hidden_size3': 1024, 'hidden_size4': 256, 'hidden_size5': 32, 'hidden_size6': 64, 'hidden_size7': 896, 'hidden_size8': 128, 'learning_rate': 0.04, 'n_layers': 5, 'num_epochs': 40}\n",
      "0.7509942487147839                                                                                                     \n",
      " 70%|███████████████████████████▉            | 349/500 [49:14:23<52:30:10, 1251.72s/it, best loss: -0.7905278665966281]"
     ]
    },
    {
     "name": "stderr",
     "output_type": "stream",
     "text": [
      "Global seed set to 1\n"
     ]
    },
    {
     "name": "stdout",
     "output_type": "stream",
     "text": [
      "{'batch_size': 5120, 'dropout1': 0.417, 'dropout2': 0.14, 'dropout3': 0.39, 'dropout4': 0.133, 'dropout5': 0.242, 'dropout6': 0.25, 'dropout7': 0.459, 'dropout8': 0.076, 'hidden_size1': 40, 'hidden_size2': 64, 'hidden_size3': 896, 'hidden_size4': 64, 'hidden_size5': 128, 'hidden_size6': 448, 'hidden_size7': 32, 'hidden_size8': 1024, 'learning_rate': 0.0008, 'n_layers': 3, 'num_epochs': 25}\n",
      "0.7897368427453378                                                                                                     \n",
      " 70%|████████████████████████████▋            | 350/500 [49:21:03<41:30:20, 996.14s/it, best loss: -0.7905278665966281]"
     ]
    },
    {
     "name": "stderr",
     "output_type": "stream",
     "text": [
      "Global seed set to 1\n"
     ]
    },
    {
     "name": "stdout",
     "output_type": "stream",
     "text": [
      "{'batch_size': 2048, 'dropout1': 0.194, 'dropout2': 0.319, 'dropout3': 0.303, 'dropout4': 0.091, 'dropout5': 0.355, 'dropout6': 0.113, 'dropout7': 0.406, 'dropout8': 0.159, 'hidden_size1': 87, 'hidden_size2': 448, 'hidden_size3': 448, 'hidden_size4': 896, 'hidden_size5': 48, 'hidden_size6': 128, 'hidden_size7': 96, 'hidden_size8': 256, 'learning_rate': 0.03, 'n_layers': 4, 'num_epochs': 10}\n",
      "0.7898034069146262                                                                                                     \n",
      " 70%|████████████████████████████▊            | 351/500 [49:24:06<31:07:59, 752.21s/it, best loss: -0.7905278665966281]"
     ]
    },
    {
     "name": "stderr",
     "output_type": "stream",
     "text": [
      "Global seed set to 1\n"
     ]
    },
    {
     "name": "stdout",
     "output_type": "stream",
     "text": [
      "{'batch_size': 512, 'dropout1': 0.203, 'dropout2': 0.091, 'dropout3': 0.132, 'dropout4': 0.25, 'dropout5': 0.353, 'dropout6': 0.154, 'dropout7': 0.273, 'dropout8': 0.467, 'hidden_size1': 5, 'hidden_size2': 32, 'hidden_size3': 64, 'hidden_size4': 48, 'hidden_size5': 256, 'hidden_size6': 96, 'hidden_size7': 48, 'hidden_size8': 64, 'learning_rate': 0.0007, 'n_layers': 2, 'num_epochs': 15}\n",
      "0.7871779675124253                                                                                                     \n",
      " 70%|████████████████████████████▊            | 352/500 [49:30:36<26:27:15, 643.48s/it, best loss: -0.7905278665966281]"
     ]
    },
    {
     "name": "stderr",
     "output_type": "stream",
     "text": [
      "Global seed set to 1\n"
     ]
    },
    {
     "name": "stdout",
     "output_type": "stream",
     "text": [
      "{'batch_size': 12800, 'dropout1': 0.274, 'dropout2': 0.032, 'dropout3': 0.117, 'dropout4': 0.239, 'dropout5': 0.427, 'dropout6': 0.47, 'dropout7': 0.356, 'dropout8': 0.23, 'hidden_size1': 16, 'hidden_size2': 96, 'hidden_size3': 256, 'hidden_size4': 256, 'hidden_size5': 512, 'hidden_size6': 1024, 'hidden_size7': 256, 'hidden_size8': 128, 'learning_rate': 0.0005, 'n_layers': 3, 'num_epochs': 10}\n",
      "0.7795020546299982                                                                                                     \n",
      " 71%|████████████████████████████▉            | 353/500 [49:33:34<20:34:35, 503.91s/it, best loss: -0.7905278665966281]"
     ]
    },
    {
     "name": "stderr",
     "output_type": "stream",
     "text": [
      "Global seed set to 1\n"
     ]
    },
    {
     "name": "stdout",
     "output_type": "stream",
     "text": [
      "{'batch_size': 2048, 'dropout1': 0.482, 'dropout2': 0.152, 'dropout3': 0.183, 'dropout4': 0.113, 'dropout5': 0.107, 'dropout6': 0.416, 'dropout7': 0.082, 'dropout8': 0.277, 'hidden_size1': 55, 'hidden_size2': 48, 'hidden_size3': 128, 'hidden_size4': 512, 'hidden_size5': 1024, 'hidden_size6': 32, 'hidden_size7': 32, 'hidden_size8': 512, 'learning_rate': 0.009, 'n_layers': 5, 'num_epochs': 20}\n",
      "0.7889741816284159                                                                                                     \n",
      " 71%|█████████████████████████████            | 354/500 [49:39:23<18:33:27, 457.59s/it, best loss: -0.7905278665966281]"
     ]
    },
    {
     "name": "stderr",
     "output_type": "stream",
     "text": [
      "Global seed set to 1\n"
     ]
    },
    {
     "name": "stdout",
     "output_type": "stream",
     "text": [
      "{'batch_size': 2560, 'dropout1': 0.314, 'dropout2': 0.105, 'dropout3': 0.24, 'dropout4': 0.19, 'dropout5': 0.497, 'dropout6': 0.276, 'dropout7': 0.463, 'dropout8': 0.415, 'hidden_size1': 36, 'hidden_size2': 32, 'hidden_size3': 96, 'hidden_size4': 96, 'hidden_size5': 48, 'hidden_size6': 512, 'hidden_size7': 448, 'hidden_size8': 48, 'learning_rate': 0.001, 'n_layers': 3, 'num_epochs': 45}\n",
      "0.7879093270391031                                                                                                     \n",
      " 71%|█████████████████████████████            | 355/500 [49:51:08<21:24:52, 531.67s/it, best loss: -0.7905278665966281]"
     ]
    },
    {
     "name": "stderr",
     "output_type": "stream",
     "text": [
      "Global seed set to 1\n"
     ]
    },
    {
     "name": "stdout",
     "output_type": "stream",
     "text": [
      "{'batch_size': 256, 'dropout1': 0.285, 'dropout2': 0.447, 'dropout3': 0.06, 'dropout4': 0.123, 'dropout5': 0.487, 'dropout6': 0.225, 'dropout7': 0.361, 'dropout8': 0.147, 'hidden_size1': 90, 'hidden_size2': 1024, 'hidden_size3': 896, 'hidden_size4': 128, 'hidden_size5': 896, 'hidden_size6': 896, 'hidden_size7': 64, 'hidden_size8': 32, 'learning_rate': 0.0004, 'n_layers': 5, 'num_epochs': 10}\n",
      "0.7857223569223133                                                                                                     \n",
      " 71%|█████████████████████████████▏           | 356/500 [49:59:32<20:56:11, 523.41s/it, best loss: -0.7905278665966281]"
     ]
    },
    {
     "name": "stderr",
     "output_type": "stream",
     "text": [
      "Global seed set to 1\n"
     ]
    },
    {
     "name": "stdout",
     "output_type": "stream",
     "text": [
      "{'batch_size': 10240, 'dropout1': 0.478, 'dropout2': 0.015, 'dropout3': 0.084, 'dropout4': 0.193, 'dropout5': 0.083, 'dropout6': 0.397, 'dropout7': 0.065, 'dropout8': 0.169, 'hidden_size1': 63, 'hidden_size2': 64, 'hidden_size3': 32, 'hidden_size4': 256, 'hidden_size5': 96, 'hidden_size6': 64, 'hidden_size7': 896, 'hidden_size8': 256, 'learning_rate': 0.0003, 'n_layers': 1, 'num_epochs': 30}\n",
      "0.7887410214293528                                                                                                     \n",
      " 71%|█████████████████████████████▎           | 357/500 [50:07:26<20:11:50, 508.46s/it, best loss: -0.7905278665966281]"
     ]
    },
    {
     "name": "stderr",
     "output_type": "stream",
     "text": [
      "Global seed set to 1\n"
     ]
    },
    {
     "name": "stdout",
     "output_type": "stream",
     "text": [
      "{'batch_size': 5120, 'dropout1': 0.255, 'dropout2': 0.057, 'dropout3': 0.311, 'dropout4': 0.144, 'dropout5': 0.019, 'dropout6': 0.267, 'dropout7': 0.451, 'dropout8': 0.283, 'hidden_size1': 12, 'hidden_size2': 128, 'hidden_size3': 256, 'hidden_size4': 48, 'hidden_size5': 128, 'hidden_size6': 128, 'hidden_size7': 512, 'hidden_size8': 128, 'learning_rate': 0.004, 'n_layers': 3, 'num_epochs': 10}\n",
      "0.7870143244658965                                                                                                     \n",
      " 72%|█████████████████████████████▎           | 358/500 [50:10:21<16:06:31, 408.39s/it, best loss: -0.7905278665966281]"
     ]
    },
    {
     "name": "stderr",
     "output_type": "stream",
     "text": [
      "Global seed set to 1\n"
     ]
    },
    {
     "name": "stdout",
     "output_type": "stream",
     "text": [
      "{'batch_size': 2048, 'dropout1': 0.228, 'dropout2': 0.056, 'dropout3': 0.08, 'dropout4': 0.26, 'dropout5': 0.329, 'dropout6': 0.014, 'dropout7': 0.137, 'dropout8': 0.112, 'hidden_size1': 49, 'hidden_size2': 32, 'hidden_size3': 896, 'hidden_size4': 1024, 'hidden_size5': 48, 'hidden_size6': 448, 'hidden_size7': 32, 'hidden_size8': 896, 'learning_rate': 0.005, 'n_layers': 5, 'num_epochs': 35}\n",
      "0.7486771536926773                                                                                                     \n",
      " 72%|█████████████████████████████▍           | 359/500 [50:20:13<18:09:28, 463.61s/it, best loss: -0.7905278665966281]"
     ]
    },
    {
     "name": "stderr",
     "output_type": "stream",
     "text": [
      "Global seed set to 1\n"
     ]
    },
    {
     "name": "stdout",
     "output_type": "stream",
     "text": [
      "{'batch_size': 4096, 'dropout1': 0.23, 'dropout2': 0.406, 'dropout3': 0.107, 'dropout4': 0.164, 'dropout5': 0.026, 'dropout6': 0.366, 'dropout7': 0.374, 'dropout8': 0.355, 'hidden_size1': 92, 'hidden_size2': 512, 'hidden_size3': 256, 'hidden_size4': 256, 'hidden_size5': 448, 'hidden_size6': 256, 'hidden_size7': 96, 'hidden_size8': 128, 'learning_rate': 0.008, 'n_layers': 3, 'num_epochs': 50}\n",
      "0.7659742016905502                                                                                                     \n",
      " 72%|█████████████████████████████▌           | 360/500 [50:33:11<21:41:25, 557.75s/it, best loss: -0.7905278665966281]"
     ]
    },
    {
     "name": "stderr",
     "output_type": "stream",
     "text": [
      "Global seed set to 1\n"
     ]
    },
    {
     "name": "stdout",
     "output_type": "stream",
     "text": [
      "{'batch_size': 2048, 'dropout1': 0.184, 'dropout2': 0.044, 'dropout3': 0.013, 'dropout4': 0.402, 'dropout5': 0.292, 'dropout6': 0.496, 'dropout7': 0.497, 'dropout8': 0.203, 'hidden_size1': 74, 'hidden_size2': 32, 'hidden_size3': 48, 'hidden_size4': 32, 'hidden_size5': 1024, 'hidden_size6': 48, 'hidden_size7': 128, 'hidden_size8': 448, 'learning_rate': 0.006, 'n_layers': 4, 'num_epochs': 10}\n",
      "0.7881045935635216                                                                                                     \n",
      " 72%|█████████████████████████████▌           | 361/500 [50:36:13<17:11:33, 445.28s/it, best loss: -0.7905278665966281]"
     ]
    },
    {
     "name": "stderr",
     "output_type": "stream",
     "text": [
      "Global seed set to 1\n"
     ]
    },
    {
     "name": "stdout",
     "output_type": "stream",
     "text": [
      "{'batch_size': 1024, 'dropout1': 0.021, 'dropout2': 0.482, 'dropout3': 0.068, 'dropout4': 0.132, 'dropout5': 0.335, 'dropout6': 0.047, 'dropout7': 0.346, 'dropout8': 0.481, 'hidden_size1': 79, 'hidden_size2': 896, 'hidden_size3': 512, 'hidden_size4': 448, 'hidden_size5': 48, 'hidden_size6': 128, 'hidden_size7': 32, 'hidden_size8': 256, 'learning_rate': 0.003, 'n_layers': 2, 'num_epochs': 10}\n",
      "0.785894550566866                                                                                                      \n",
      " 72%|█████████████████████████████▋           | 362/500 [50:39:36<14:16:22, 372.34s/it, best loss: -0.7905278665966281]"
     ]
    },
    {
     "name": "stderr",
     "output_type": "stream",
     "text": [
      "Global seed set to 1\n"
     ]
    },
    {
     "name": "stdout",
     "output_type": "stream",
     "text": [
      "{'batch_size': 2560, 'dropout1': 0.42, 'dropout2': 0.308, 'dropout3': 0.124, 'dropout4': 0.298, 'dropout5': 0.195, 'dropout6': 0.384, 'dropout7': 0.025, 'dropout8': 0.298, 'hidden_size1': 28, 'hidden_size2': 256, 'hidden_size3': 256, 'hidden_size4': 48, 'hidden_size5': 64, 'hidden_size6': 512, 'hidden_size7': 896, 'hidden_size8': 96, 'learning_rate': 0.0001, 'n_layers': 3, 'num_epochs': 5}\n",
      "0.7876997615941694                                                                                                     \n",
      " 73%|█████████████████████████████▊           | 363/500 [50:41:16<11:03:49, 290.72s/it, best loss: -0.7905278665966281]"
     ]
    },
    {
     "name": "stderr",
     "output_type": "stream",
     "text": [
      "Global seed set to 1\n"
     ]
    },
    {
     "name": "stdout",
     "output_type": "stream",
     "text": [
      "{'batch_size': 128, 'dropout1': 0.441, 'dropout2': 0.465, 'dropout3': 0.037, 'dropout4': 0.447, 'dropout5': 0.237, 'dropout6': 0.444, 'dropout7': 0.43, 'dropout8': 0.02, 'hidden_size1': 37, 'hidden_size2': 32, 'hidden_size3': 1024, 'hidden_size4': 256, 'hidden_size5': 32, 'hidden_size6': 64, 'hidden_size7': 32, 'hidden_size8': 128, 'learning_rate': 0.02, 'n_layers': 5, 'num_epochs': 40}\n",
      "0.7389539761217889                                                                                                     \n",
      " 73%|█████████████████████████████           | 364/500 [51:38:30<46:36:51, 1233.91s/it, best loss: -0.7905278665966281]"
     ]
    },
    {
     "name": "stderr",
     "output_type": "stream",
     "text": [
      "Global seed set to 1\n"
     ]
    },
    {
     "name": "stdout",
     "output_type": "stream",
     "text": [
      "{'batch_size': 5120, 'dropout1': 0.292, 'dropout2': 0.236, 'dropout3': 0.208, 'dropout4': 0.263, 'dropout5': 0.473, 'dropout6': 0.114, 'dropout7': 0.458, 'dropout8': 0.273, 'hidden_size1': 44, 'hidden_size2': 64, 'hidden_size3': 896, 'hidden_size4': 896, 'hidden_size5': 128, 'hidden_size6': 448, 'hidden_size7': 1024, 'hidden_size8': 256, 'learning_rate': 0.01, 'n_layers': 3, 'num_epochs': 10}\n",
      "0.7904701153060681                                                                                                     \n",
      " 73%|█████████████████████████████▉           | 365/500 [51:41:27<34:22:45, 916.78s/it, best loss: -0.7905278665966281]"
     ]
    },
    {
     "name": "stderr",
     "output_type": "stream",
     "text": [
      "Global seed set to 1\n"
     ]
    },
    {
     "name": "stdout",
     "output_type": "stream",
     "text": [
      "{'batch_size': 5120, 'dropout1': 0.29, 'dropout2': 0.486, 'dropout3': 0.031, 'dropout4': 0.119, 'dropout5': 0.265, 'dropout6': 0.227, 'dropout7': 0.146, 'dropout8': 0.461, 'hidden_size1': 10, 'hidden_size2': 64, 'hidden_size3': 896, 'hidden_size4': 896, 'hidden_size5': 128, 'hidden_size6': 448, 'hidden_size7': 1024, 'hidden_size8': 256, 'learning_rate': 0.01, 'n_layers': 3, 'num_epochs': 25}\n",
      "0.7329601340158842                                                                                                     \n",
      " 73%|██████████████████████████████           | 366/500 [51:48:08<28:21:27, 761.85s/it, best loss: -0.7905278665966281]"
     ]
    },
    {
     "name": "stderr",
     "output_type": "stream",
     "text": [
      "Global seed set to 1\n"
     ]
    },
    {
     "name": "stdout",
     "output_type": "stream",
     "text": [
      "{'batch_size': 5120, 'dropout1': 0.136, 'dropout2': 0.197, 'dropout3': 0.208, 'dropout4': 0.263, 'dropout5': 0.38, 'dropout6': 0.074, 'dropout7': 0.353, 'dropout8': 0.409, 'hidden_size1': 30, 'hidden_size2': 64, 'hidden_size3': 896, 'hidden_size4': 896, 'hidden_size5': 128, 'hidden_size6': 448, 'hidden_size7': 1024, 'hidden_size8': 256, 'learning_rate': 0.01, 'n_layers': 5, 'num_epochs': 10}\n",
      "0.7898805145041761                                                                                                     \n",
      " 73%|██████████████████████████████           | 367/500 [51:51:07<21:41:20, 587.07s/it, best loss: -0.7905278665966281]"
     ]
    },
    {
     "name": "stderr",
     "output_type": "stream",
     "text": [
      "Global seed set to 1\n"
     ]
    },
    {
     "name": "stdout",
     "output_type": "stream",
     "text": [
      "{'batch_size': 5120, 'dropout1': 0.251, 'dropout2': 0.276, 'dropout3': 0.056, 'dropout4': 0.254, 'dropout5': 0.273, 'dropout6': 0.114, 'dropout7': 0.495, 'dropout8': 0.273, 'hidden_size1': 91, 'hidden_size2': 64, 'hidden_size3': 896, 'hidden_size4': 896, 'hidden_size5': 128, 'hidden_size6': 448, 'hidden_size7': 1024, 'hidden_size8': 256, 'learning_rate': 0.01, 'n_layers': 1, 'num_epochs': 15}\n",
      "0.7831093053051326                                                                                                     \n",
      " 74%|██████████████████████████████▏          | 368/500 [51:55:12<17:45:45, 484.44s/it, best loss: -0.7905278665966281]"
     ]
    },
    {
     "name": "stderr",
     "output_type": "stream",
     "text": [
      "Global seed set to 1\n"
     ]
    },
    {
     "name": "stdout",
     "output_type": "stream",
     "text": [
      "{'batch_size': 5120, 'dropout1': 0.029, 'dropout2': 0.473, 'dropout3': 0.042, 'dropout4': 0.196, 'dropout5': 0.312, 'dropout6': 0.357, 'dropout7': 0.458, 'dropout8': 0.236, 'hidden_size1': 44, 'hidden_size2': 64, 'hidden_size3': 896, 'hidden_size4': 896, 'hidden_size5': 128, 'hidden_size6': 448, 'hidden_size7': 1024, 'hidden_size8': 256, 'learning_rate': 0.01, 'n_layers': 3, 'num_epochs': 45}\n",
      "0.713695015487961                                                                                                      \n",
      " 74%|██████████████████████████████▎          | 369/500 [52:06:51<19:58:28, 548.92s/it, best loss: -0.7905278665966281]"
     ]
    },
    {
     "name": "stderr",
     "output_type": "stream",
     "text": [
      "Global seed set to 1\n"
     ]
    },
    {
     "name": "stdout",
     "output_type": "stream",
     "text": [
      "{'batch_size': 5120, 'dropout1': 0.358, 'dropout2': 0.304, 'dropout3': 0.32, 'dropout4': 0.491, 'dropout5': 0.042, 'dropout6': 0.4, 'dropout7': 0.284, 'dropout8': 0.452, 'hidden_size1': 44, 'hidden_size2': 64, 'hidden_size3': 896, 'hidden_size4': 896, 'hidden_size5': 128, 'hidden_size6': 448, 'hidden_size7': 1024, 'hidden_size8': 256, 'learning_rate': 0.01, 'n_layers': 5, 'num_epochs': 10}\n",
      "0.7897642078847081                                                                                                     \n",
      " 74%|██████████████████████████████▎          | 370/500 [52:09:51<15:49:12, 438.10s/it, best loss: -0.7905278665966281]"
     ]
    },
    {
     "name": "stderr",
     "output_type": "stream",
     "text": [
      "Global seed set to 1\n"
     ]
    },
    {
     "name": "stdout",
     "output_type": "stream",
     "text": [
      "{'batch_size': 5120, 'dropout1': 0.15, 'dropout2': 0.354, 'dropout3': 0.333, 'dropout4': 0.168, 'dropout5': 0.421, 'dropout6': 0.066, 'dropout7': 0.031, 'dropout8': 0.37, 'hidden_size1': 44, 'hidden_size2': 64, 'hidden_size3': 896, 'hidden_size4': 896, 'hidden_size5': 128, 'hidden_size6': 448, 'hidden_size7': 1024, 'hidden_size8': 256, 'learning_rate': 0.01, 'n_layers': 4, 'num_epochs': 30}\n",
      "0.785481267060923                                                                                                      \n",
      " 74%|██████████████████████████████▍          | 371/500 [52:17:52<16:09:57, 451.14s/it, best loss: -0.7905278665966281]"
     ]
    },
    {
     "name": "stderr",
     "output_type": "stream",
     "text": [
      "Global seed set to 1\n"
     ]
    },
    {
     "name": "stdout",
     "output_type": "stream",
     "text": [
      "{'batch_size': 5120, 'dropout1': 0.237, 'dropout2': 0.325, 'dropout3': 0.299, 'dropout4': 0.099, 'dropout5': 0.2, 'dropout6': 0.348, 'dropout7': 0.458, 'dropout8': 0.062, 'hidden_size1': 65, 'hidden_size2': 64, 'hidden_size3': 896, 'hidden_size4': 896, 'hidden_size5': 128, 'hidden_size6': 448, 'hidden_size7': 48, 'hidden_size8': 256, 'learning_rate': 0.0009, 'n_layers': 3, 'num_epochs': 20}\n",
      "0.7888989562066684                                                                                                     \n",
      " 74%|██████████████████████████████▌          | 372/500 [52:23:18<14:42:08, 413.51s/it, best loss: -0.7905278665966281]"
     ]
    },
    {
     "name": "stderr",
     "output_type": "stream",
     "text": [
      "Global seed set to 1\n"
     ]
    },
    {
     "name": "stdout",
     "output_type": "stream",
     "text": [
      "{'batch_size': 5120, 'dropout1': 0.186, 'dropout2': 0.052, 'dropout3': 0.205, 'dropout4': 0.384, 'dropout5': 0.489, 'dropout6': 0.364, 'dropout7': 0.135, 'dropout8': 0.013, 'hidden_size1': 66, 'hidden_size2': 64, 'hidden_size3': 896, 'hidden_size4': 896, 'hidden_size5': 128, 'hidden_size6': 448, 'hidden_size7': 1024, 'hidden_size8': 256, 'learning_rate': 0.009, 'n_layers': 2, 'num_epochs': 10}\n",
      "0.7901817655759669                                                                                                     \n",
      " 75%|██████████████████████████████▌          | 373/500 [52:26:12<12:03:11, 341.67s/it, best loss: -0.7905278665966281]"
     ]
    },
    {
     "name": "stderr",
     "output_type": "stream",
     "text": [
      "Global seed set to 1\n"
     ]
    },
    {
     "name": "stdout",
     "output_type": "stream",
     "text": [
      "{'batch_size': 5120, 'dropout1': 0.384, 'dropout2': 0.113, 'dropout3': 0.078, 'dropout4': 0.362, 'dropout5': 0.252, 'dropout6': 0.311, 'dropout7': 0.415, 'dropout8': 0.418, 'hidden_size1': 53, 'hidden_size2': 64, 'hidden_size3': 896, 'hidden_size4': 896, 'hidden_size5': 128, 'hidden_size6': 448, 'hidden_size7': 1024, 'hidden_size8': 256, 'learning_rate': 0.01, 'n_layers': 5, 'num_epochs': 10}\n",
      "0.7887289872344023                                                                                                     \n",
      " 75%|██████████████████████████████▋          | 374/500 [52:29:12<10:15:20, 293.02s/it, best loss: -0.7905278665966281]"
     ]
    },
    {
     "name": "stderr",
     "output_type": "stream",
     "text": [
      "Global seed set to 1\n"
     ]
    },
    {
     "name": "stdout",
     "output_type": "stream",
     "text": [
      "{'batch_size': 5120, 'dropout1': 0.445, 'dropout2': 0.231, 'dropout3': 0.372, 'dropout4': 0.479, 'dropout5': 0.341, 'dropout6': 0.114, 'dropout7': 0.286, 'dropout8': 0.274, 'hidden_size1': 76, 'hidden_size2': 64, 'hidden_size3': 896, 'hidden_size4': 896, 'hidden_size5': 128, 'hidden_size6': 448, 'hidden_size7': 1024, 'hidden_size8': 256, 'learning_rate': 0.01, 'n_layers': 3, 'num_epochs': 10}\n",
      "0.788026210064505                                                                                                      \n",
      " 75%|███████████████████████████████▌          | 375/500 [52:32:07<8:57:12, 257.86s/it, best loss: -0.7905278665966281]"
     ]
    },
    {
     "name": "stderr",
     "output_type": "stream",
     "text": [
      "Global seed set to 1\n"
     ]
    },
    {
     "name": "stdout",
     "output_type": "stream",
     "text": [
      "{'batch_size': 5120, 'dropout1': 0.177, 'dropout2': 0.114, 'dropout3': 0.264, 'dropout4': 0.5, 'dropout5': 0.084, 'dropout6': 0.328, 'dropout7': 0.489, 'dropout8': 0.391, 'hidden_size1': 13, 'hidden_size2': 64, 'hidden_size3': 896, 'hidden_size4': 896, 'hidden_size5': 128, 'hidden_size6': 448, 'hidden_size7': 1024, 'hidden_size8': 256, 'learning_rate': 0.0002, 'n_layers': 3, 'num_epochs': 35}\n",
      "0.7792633350118193                                                                                                     \n",
      " 75%|██████████████████████████████▊          | 376/500 [52:41:19<11:55:08, 346.04s/it, best loss: -0.7905278665966281]"
     ]
    },
    {
     "name": "stderr",
     "output_type": "stream",
     "text": [
      "Global seed set to 1\n"
     ]
    },
    {
     "name": "stdout",
     "output_type": "stream",
     "text": [
      "{'batch_size': 5120, 'dropout1': 0.176, 'dropout2': 0.31, 'dropout3': 0.219, 'dropout4': 0.373, 'dropout5': 0.276, 'dropout6': 0.004, 'dropout7': 0.099, 'dropout8': 0.431, 'hidden_size1': 11, 'hidden_size2': 64, 'hidden_size3': 896, 'hidden_size4': 896, 'hidden_size5': 128, 'hidden_size6': 448, 'hidden_size7': 1024, 'hidden_size8': 256, 'learning_rate': 0.0003, 'n_layers': 5, 'num_epochs': 5}\n",
      "0.7838528150205398                                                                                                     \n",
      " 75%|███████████████████████████████▋          | 377/500 [52:43:02<9:19:44, 273.04s/it, best loss: -0.7905278665966281]"
     ]
    },
    {
     "name": "stderr",
     "output_type": "stream",
     "text": [
      "Global seed set to 1\n"
     ]
    },
    {
     "name": "stdout",
     "output_type": "stream",
     "text": [
      "{'batch_size': 5120, 'dropout1': 0.344, 'dropout2': 0.418, 'dropout3': 0.062, 'dropout4': 0.211, 'dropout5': 0.318, 'dropout6': 0.3, 'dropout7': 0.11, 'dropout8': 0.486, 'hidden_size1': 17, 'hidden_size2': 64, 'hidden_size3': 896, 'hidden_size4': 896, 'hidden_size5': 128, 'hidden_size6': 448, 'hidden_size7': 1024, 'hidden_size8': 256, 'learning_rate': 0.001, 'n_layers': 1, 'num_epochs': 50}\n",
      "0.731085768143544                                                                                                      \n",
      " 76%|██████████████████████████████▉          | 378/500 [52:55:40<14:11:21, 418.70s/it, best loss: -0.7905278665966281]"
     ]
    },
    {
     "name": "stderr",
     "output_type": "stream",
     "text": [
      "Global seed set to 1\n"
     ]
    },
    {
     "name": "stdout",
     "output_type": "stream",
     "text": [
      "{'batch_size': 5120, 'dropout1': 0.006, 'dropout2': 0.236, 'dropout3': 0.281, 'dropout4': 0.295, 'dropout5': 0.473, 'dropout6': 0.148, 'dropout7': 0.037, 'dropout8': 0.089, 'hidden_size1': 61, 'hidden_size2': 448, 'hidden_size3': 896, 'hidden_size4': 896, 'hidden_size5': 128, 'hidden_size6': 448, 'hidden_size7': 1024, 'hidden_size8': 1024, 'learning_rate': 0.002, 'n_layers': 3, 'num_epochs': 40}\n",
      "0.7780471203080579                                                                                                     \n",
      " 76%|███████████████████████████████          | 379/500 [53:06:07<16:09:53, 480.94s/it, best loss: -0.7905278665966281]"
     ]
    },
    {
     "name": "stderr",
     "output_type": "stream",
     "text": [
      "Global seed set to 1\n"
     ]
    },
    {
     "name": "stdout",
     "output_type": "stream",
     "text": [
      "{'batch_size': 12800, 'dropout1': 0.453, 'dropout2': 0.372, 'dropout3': 0.256, 'dropout4': 0.034, 'dropout5': 0.097, 'dropout6': 0.079, 'dropout7': 0.38, 'dropout8': 0.03, 'hidden_size1': 60, 'hidden_size2': 64, 'hidden_size3': 448, 'hidden_size4': 64, 'hidden_size5': 512, 'hidden_size6': 128, 'hidden_size7': 1024, 'hidden_size8': 256, 'learning_rate': 0.0006, 'n_layers': 5, 'num_epochs': 10}\n",
      "0.7819472046122679                                                                                                     \n",
      " 76%|███████████████████████████████▏         | 380/500 [53:09:06<13:01:12, 390.61s/it, best loss: -0.7905278665966281]"
     ]
    },
    {
     "name": "stderr",
     "output_type": "stream",
     "text": [
      "Global seed set to 1\n"
     ]
    },
    {
     "name": "stdout",
     "output_type": "stream",
     "text": [
      "{'batch_size': 512, 'dropout1': 0.187, 'dropout2': 0.216, 'dropout3': 0.14, 'dropout4': 0.442, 'dropout5': 0.161, 'dropout6': 0.367, 'dropout7': 0.472, 'dropout8': 0.43, 'hidden_size1': 20, 'hidden_size2': 96, 'hidden_size3': 64, 'hidden_size4': 256, 'hidden_size5': 256, 'hidden_size6': 1024, 'hidden_size7': 256, 'hidden_size8': 64, 'learning_rate': 0.01, 'n_layers': 3, 'num_epochs': 25}\n",
      "0.7857469778295595                                                                                                     \n",
      " 76%|███████████████████████████████▏         | 381/500 [53:20:20<15:43:07, 475.53s/it, best loss: -0.7905278665966281]"
     ]
    },
    {
     "name": "stderr",
     "output_type": "stream",
     "text": [
      "Global seed set to 1\n"
     ]
    },
    {
     "name": "stdout",
     "output_type": "stream",
     "text": [
      "{'batch_size': 2560, 'dropout1': 0.031, 'dropout2': 0.023, 'dropout3': 0.321, 'dropout4': 0.02, 'dropout5': 0.445, 'dropout6': 0.098, 'dropout7': 0.322, 'dropout8': 0.217, 'hidden_size1': 95, 'hidden_size2': 48, 'hidden_size3': 128, 'hidden_size4': 512, 'hidden_size5': 1024, 'hidden_size6': 96, 'hidden_size7': 32, 'hidden_size8': 48, 'learning_rate': 0.007, 'n_layers': 4, 'num_epochs': 10}\n",
      "0.7892120059880326                                                                                                     \n",
      " 76%|███████████████████████████████▎         | 382/500 [53:23:20<12:40:49, 386.86s/it, best loss: -0.7905278665966281]"
     ]
    },
    {
     "name": "stderr",
     "output_type": "stream",
     "text": [
      "Global seed set to 1\n"
     ]
    },
    {
     "name": "stdout",
     "output_type": "stream",
     "text": [
      "{'batch_size': 10240, 'dropout1': 0.419, 'dropout2': 0.414, 'dropout3': 0.309, 'dropout4': 0.276, 'dropout5': 0.372, 'dropout6': 0.13, 'dropout7': 0.009, 'dropout8': 0.129, 'hidden_size1': 54, 'hidden_size2': 1024, 'hidden_size3': 896, 'hidden_size4': 96, 'hidden_size5': 128, 'hidden_size6': 32, 'hidden_size7': 448, 'hidden_size8': 512, 'learning_rate': 0.0007, 'n_layers': 2, 'num_epochs': 15}\n",
      "0.7881182629957539                                                                                                     \n",
      " 77%|███████████████████████████████▍         | 383/500 [53:27:31<11:14:49, 346.06s/it, best loss: -0.7905278665966281]"
     ]
    },
    {
     "name": "stderr",
     "output_type": "stream",
     "text": [
      "Global seed set to 1\n"
     ]
    },
    {
     "name": "stdout",
     "output_type": "stream",
     "text": [
      "{'batch_size': 256, 'dropout1': 0.25, 'dropout2': 0.301, 'dropout3': 0.102, 'dropout4': 0.464, 'dropout5': 0.484, 'dropout6': 0.134, 'dropout7': 0.373, 'dropout8': 0.311, 'hidden_size1': 94, 'hidden_size2': 64, 'hidden_size3': 96, 'hidden_size4': 128, 'hidden_size5': 896, 'hidden_size6': 896, 'hidden_size7': 64, 'hidden_size8': 256, 'learning_rate': 0.04, 'n_layers': 5, 'num_epochs': 45}\n",
      "0.777053304039813                                                                                                      \n",
      " 77%|███████████████████████████████▍         | 384/500 [54:03:52<28:53:27, 896.61s/it, best loss: -0.7905278665966281]"
     ]
    },
    {
     "name": "stderr",
     "output_type": "stream",
     "text": [
      "Global seed set to 1\n"
     ]
    },
    {
     "name": "stdout",
     "output_type": "stream",
     "text": [
      "{'batch_size': 5120, 'dropout1': 0.03, 'dropout2': 0.073, 'dropout3': 0.3, 'dropout4': 0.018, 'dropout5': 0.482, 'dropout6': 0.298, 'dropout7': 0.45, 'dropout8': 0.205, 'hidden_size1': 97, 'hidden_size2': 128, 'hidden_size3': 896, 'hidden_size4': 256, 'hidden_size5': 96, 'hidden_size6': 64, 'hidden_size7': 896, 'hidden_size8': 32, 'learning_rate': 0.0003, 'n_layers': 3, 'num_epochs': 10}\n",
      "0.789646824552868                                                                                                      \n",
      " 77%|███████████████████████████████▌         | 385/500 [54:06:48<21:44:00, 680.35s/it, best loss: -0.7905278665966281]"
     ]
    },
    {
     "name": "stderr",
     "output_type": "stream",
     "text": [
      "Global seed set to 1\n"
     ]
    },
    {
     "name": "stdout",
     "output_type": "stream",
     "text": [
      "{'batch_size': 4096, 'dropout1': 0.166, 'dropout2': 0.17, 'dropout3': 0.46, 'dropout4': 0.263, 'dropout5': 0.457, 'dropout6': 0.158, 'dropout7': 0.152, 'dropout8': 0.286, 'hidden_size1': 7, 'hidden_size2': 512, 'hidden_size3': 32, 'hidden_size4': 1024, 'hidden_size5': 1024, 'hidden_size6': 128, 'hidden_size7': 512, 'hidden_size8': 896, 'learning_rate': 0.0008, 'n_layers': 3, 'num_epochs': 10}\n",
      "0.7817228097933855                                                                                                     \n",
      " 77%|███████████████████████████████▋         | 386/500 [54:09:43<16:44:54, 528.90s/it, best loss: -0.7905278665966281]"
     ]
    },
    {
     "name": "stderr",
     "output_type": "stream",
     "text": [
      "Global seed set to 1\n"
     ]
    },
    {
     "name": "stdout",
     "output_type": "stream",
     "text": [
      "{'batch_size': 2560, 'dropout1': 0.443, 'dropout2': 0.467, 'dropout3': 0.216, 'dropout4': 0.405, 'dropout5': 0.051, 'dropout6': 0.053, 'dropout7': 0.31, 'dropout8': 0.004, 'hidden_size1': 45, 'hidden_size2': 64, 'hidden_size3': 48, 'hidden_size4': 256, 'hidden_size5': 448, 'hidden_size6': 256, 'hidden_size7': 32, 'hidden_size8': 256, 'learning_rate': 0.009, 'n_layers': 5, 'num_epochs': 20}\n",
      "0.7896068370809954                                                                                                     \n",
      " 77%|███████████████████████████████▋         | 387/500 [54:15:25<14:50:19, 472.74s/it, best loss: -0.7905278665966281]"
     ]
    },
    {
     "name": "stderr",
     "output_type": "stream",
     "text": [
      "Global seed set to 1\n"
     ]
    },
    {
     "name": "stdout",
     "output_type": "stream",
     "text": [
      "{'batch_size': 1024, 'dropout1': 0.457, 'dropout2': 0.021, 'dropout3': 0.194, 'dropout4': 0.204, 'dropout5': 0.238, 'dropout6': 0.307, 'dropout7': 0.007, 'dropout8': 0.143, 'hidden_size1': 52, 'hidden_size2': 896, 'hidden_size3': 896, 'hidden_size4': 32, 'hidden_size5': 128, 'hidden_size6': 448, 'hidden_size7': 1024, 'hidden_size8': 96, 'learning_rate': 0.03, 'n_layers': 1, 'num_epochs': 10}\n",
      "0.7901522108591903                                                                                                     \n",
      " 78%|███████████████████████████████▊         | 388/500 [54:18:40<12:06:57, 389.44s/it, best loss: -0.7905278665966281]"
     ]
    },
    {
     "name": "stderr",
     "output_type": "stream",
     "text": [
      "Global seed set to 1\n"
     ]
    },
    {
     "name": "stdout",
     "output_type": "stream",
     "text": [
      "{'batch_size': 5120, 'dropout1': 0.454, 'dropout2': 0.309, 'dropout3': 0.33, 'dropout4': 0.301, 'dropout5': 0.293, 'dropout6': 0.469, 'dropout7': 0.382, 'dropout8': 0.163, 'hidden_size1': 42, 'hidden_size2': 448, 'hidden_size3': 512, 'hidden_size4': 896, 'hidden_size5': 64, 'hidden_size6': 48, 'hidden_size7': 128, 'hidden_size8': 448, 'learning_rate': 0.0005, 'n_layers': 3, 'num_epochs': 30}\n",
      "0.788125230889919                                                                                                      \n",
      " 78%|███████████████████████████████▉         | 389/500 [54:26:36<12:48:32, 415.43s/it, best loss: -0.7905278665966281]"
     ]
    },
    {
     "name": "stderr",
     "output_type": "stream",
     "text": [
      "Global seed set to 1\n"
     ]
    },
    {
     "name": "stdout",
     "output_type": "stream",
     "text": [
      "{'batch_size': 128, 'dropout1': 0.425, 'dropout2': 0.124, 'dropout3': 0.331, 'dropout4': 0.195, 'dropout5': 0.165, 'dropout6': 0.257, 'dropout7': 0.195, 'dropout8': 0.187, 'hidden_size1': 73, 'hidden_size2': 256, 'hidden_size3': 1024, 'hidden_size4': 448, 'hidden_size5': 32, 'hidden_size6': 128, 'hidden_size7': 32, 'hidden_size8': 256, 'learning_rate': 0.001, 'n_layers': 5, 'num_epochs': 35}\n",
      "0.7832830828539947                                                                                                     \n",
      " 78%|███████████████████████████████▏        | 390/500 [55:16:58<36:35:13, 1197.39s/it, best loss: -0.7905278665966281]"
     ]
    },
    {
     "name": "stderr",
     "output_type": "stream",
     "text": [
      "Global seed set to 1\n"
     ]
    },
    {
     "name": "stdout",
     "output_type": "stream",
     "text": [
      "{'batch_size': 512, 'dropout1': 0.135, 'dropout2': 0.036, 'dropout3': 0.196, 'dropout4': 0.003, 'dropout5': 0.46, 'dropout6': 0.427, 'dropout7': 0.164, 'dropout8': 0.346, 'hidden_size1': 96, 'hidden_size2': 64, 'hidden_size3': 448, 'hidden_size4': 256, 'hidden_size5': 128, 'hidden_size6': 448, 'hidden_size7': 896, 'hidden_size8': 1024, 'learning_rate': 0.005, 'n_layers': 3, 'num_epochs': 50}\n",
      "0.7657241828095611                                                                                                     \n",
      " 78%|███████████████████████████████▎        | 391/500 [55:39:04<37:25:14, 1235.91s/it, best loss: -0.7905278665966281]"
     ]
    },
    {
     "name": "stderr",
     "output_type": "stream",
     "text": [
      "Global seed set to 1\n"
     ]
    },
    {
     "name": "stdout",
     "output_type": "stream",
     "text": [
      "{'batch_size': 5120, 'dropout1': 0.485, 'dropout2': 0.092, 'dropout3': 0.074, 'dropout4': 0.381, 'dropout5': 0.198, 'dropout6': 0.191, 'dropout7': 0.39, 'dropout8': 0.234, 'hidden_size1': 48, 'hidden_size2': 96, 'hidden_size3': 896, 'hidden_size4': 64, 'hidden_size5': 256, 'hidden_size6': 64, 'hidden_size7': 32, 'hidden_size8': 64, 'learning_rate': 0.0003, 'n_layers': 4, 'num_epochs': 10}\n",
      "0.7894091555788018                                                                                                     \n",
      " 78%|████████████████████████████████▏        | 392/500 [55:42:02<27:33:16, 918.48s/it, best loss: -0.7905278665966281]"
     ]
    },
    {
     "name": "stderr",
     "output_type": "stream",
     "text": [
      "Global seed set to 1\n"
     ]
    },
    {
     "name": "stdout",
     "output_type": "stream",
     "text": [
      "{'batch_size': 12800, 'dropout1': 0.293, 'dropout2': 0.229, 'dropout3': 0.19, 'dropout4': 0.032, 'dropout5': 0.416, 'dropout6': 0.279, 'dropout7': 0.228, 'dropout8': 0.093, 'hidden_size1': 18, 'hidden_size2': 1024, 'hidden_size3': 128, 'hidden_size4': 256, 'hidden_size5': 1024, 'hidden_size6': 128, 'hidden_size7': 48, 'hidden_size8': 256, 'learning_rate': 0.01, 'n_layers': 2, 'num_epochs': 5}\n",
      "0.7705247721822204                                                                                                     \n",
      " 79%|████████████████████████████████▏        | 393/500 [55:43:44<20:01:02, 673.48s/it, best loss: -0.7905278665966281]"
     ]
    },
    {
     "name": "stderr",
     "output_type": "stream",
     "text": [
      "Global seed set to 1\n"
     ]
    },
    {
     "name": "stdout",
     "output_type": "stream",
     "text": [
      "{'batch_size': 2560, 'dropout1': 0.286, 'dropout2': 0.352, 'dropout3': 0.208, 'dropout4': 0.008, 'dropout5': 0.154, 'dropout6': 0.016, 'dropout7': 0.407, 'dropout8': 0.226, 'hidden_size1': 62, 'hidden_size2': 48, 'hidden_size3': 64, 'hidden_size4': 96, 'hidden_size5': 512, 'hidden_size6': 448, 'hidden_size7': 256, 'hidden_size8': 512, 'learning_rate': 0.004, 'n_layers': 5, 'num_epochs': 10}\n",
      "0.7889039174341717                                                                                                     \n",
      " 79%|████████████████████████████████▎        | 394/500 [55:46:47<15:30:08, 526.49s/it, best loss: -0.7905278665966281]"
     ]
    },
    {
     "name": "stderr",
     "output_type": "stream",
     "text": [
      "Global seed set to 1\n"
     ]
    },
    {
     "name": "stdout",
     "output_type": "stream",
     "text": [
      "{'batch_size': 10240, 'dropout1': 0.095, 'dropout2': 0.21, 'dropout3': 0.394, 'dropout4': 0.352, 'dropout5': 0.234, 'dropout6': 0.412, 'dropout7': 0.081, 'dropout8': 0.079, 'hidden_size1': 86, 'hidden_size2': 128, 'hidden_size3': 96, 'hidden_size4': 512, 'hidden_size5': 896, 'hidden_size6': 96, 'hidden_size7': 32, 'hidden_size8': 48, 'learning_rate': 0.008, 'n_layers': 3, 'num_epochs': 25}\n",
      "0.7875861378490565                                                                                                     \n",
      " 79%|████████████████████████████████▍        | 395/500 [55:53:31<14:17:03, 489.75s/it, best loss: -0.7905278665966281]"
     ]
    },
    {
     "name": "stderr",
     "output_type": "stream",
     "text": [
      "Global seed set to 1\n"
     ]
    },
    {
     "name": "stdout",
     "output_type": "stream",
     "text": [
      "{'batch_size': 5120, 'dropout1': 0.218, 'dropout2': 0.203, 'dropout3': 0.086, 'dropout4': 0.203, 'dropout5': 0.034, 'dropout6': 0.001, 'dropout7': 0.26, 'dropout8': 0.273, 'hidden_size1': 14, 'hidden_size2': 64, 'hidden_size3': 896, 'hidden_size4': 128, 'hidden_size5': 96, 'hidden_size6': 1024, 'hidden_size7': 1024, 'hidden_size8': 32, 'learning_rate': 0.006, 'n_layers': 3, 'num_epochs': 40}\n",
      "0.7386699241822446                                                                                                     \n",
      " 79%|████████████████████████████████▍        | 396/500 [56:03:57<15:19:37, 530.55s/it, best loss: -0.7905278665966281]"
     ]
    },
    {
     "name": "stderr",
     "output_type": "stream",
     "text": [
      "Global seed set to 1\n"
     ]
    },
    {
     "name": "stdout",
     "output_type": "stream",
     "text": [
      "{'batch_size': 256, 'dropout1': 0.108, 'dropout2': 0.236, 'dropout3': 0.298, 'dropout4': 0.185, 'dropout5': 0.109, 'dropout6': 0.452, 'dropout7': 0.366, 'dropout8': 0.192, 'hidden_size1': 19, 'hidden_size2': 512, 'hidden_size3': 32, 'hidden_size4': 896, 'hidden_size5': 128, 'hidden_size6': 64, 'hidden_size7': 448, 'hidden_size8': 256, 'learning_rate': 0.003, 'n_layers': 5, 'num_epochs': 10}\n",
      "0.7837191975899319                                                                                                     \n",
      " 79%|████████████████████████████████▌        | 397/500 [56:12:24<14:58:30, 523.40s/it, best loss: -0.7905278665966281]"
     ]
    },
    {
     "name": "stderr",
     "output_type": "stream",
     "text": [
      "Global seed set to 1\n"
     ]
    },
    {
     "name": "stdout",
     "output_type": "stream",
     "text": [
      "{'batch_size': 4096, 'dropout1': 0.232, 'dropout2': 0.494, 'dropout3': 0.342, 'dropout4': 0.469, 'dropout5': 0.224, 'dropout6': 0.192, 'dropout7': 0.107, 'dropout8': 0.358, 'hidden_size1': 26, 'hidden_size2': 896, 'hidden_size3': 896, 'hidden_size4': 256, 'hidden_size5': 1024, 'hidden_size6': 32, 'hidden_size7': 64, 'hidden_size8': 896, 'learning_rate': 0.0009, 'n_layers': 1, 'num_epochs': 15}\n",
      "0.789873870804897                                                                                                      \n",
      " 80%|████████████████████████████████▋        | 398/500 [56:16:28<12:27:23, 439.64s/it, best loss: -0.7905278665966281]"
     ]
    },
    {
     "name": "stderr",
     "output_type": "stream",
     "text": [
      "Global seed set to 1\n"
     ]
    },
    {
     "name": "stdout",
     "output_type": "stream",
     "text": [
      "{'batch_size': 1024, 'dropout1': 0.066, 'dropout2': 0.495, 'dropout3': 0.269, 'dropout4': 0.18, 'dropout5': 0.43, 'dropout6': 0.381, 'dropout7': 0.428, 'dropout8': 0.073, 'hidden_size1': 8, 'hidden_size2': 64, 'hidden_size3': 48, 'hidden_size4': 1024, 'hidden_size5': 448, 'hidden_size6': 896, 'hidden_size7': 896, 'hidden_size8': 448, 'learning_rate': 0.009, 'n_layers': 3, 'num_epochs': 45}\n",
      "0.7882215055622798                                                                                                     \n",
      " 80%|████████████████████████████████▋        | 399/500 [56:30:55<15:55:54, 567.86s/it, best loss: -0.7905278665966281]"
     ]
    },
    {
     "name": "stderr",
     "output_type": "stream",
     "text": [
      "Global seed set to 1\n"
     ]
    },
    {
     "name": "stdout",
     "output_type": "stream",
     "text": [
      "{'batch_size': 128, 'dropout1': 0.359, 'dropout2': 0.341, 'dropout3': 0.337, 'dropout4': 0.213, 'dropout5': 0.463, 'dropout6': 0.126, 'dropout7': 0.477, 'dropout8': 0.053, 'hidden_size1': 67, 'hidden_size2': 256, 'hidden_size3': 512, 'hidden_size4': 256, 'hidden_size5': 64, 'hidden_size6': 128, 'hidden_size7': 32, 'hidden_size8': 256, 'learning_rate': 0.0001, 'n_layers': 5, 'num_epochs': 10}\n",
      "0.7858621229387673                                                                                                     \n",
      " 80%|████████████████████████████████▊        | 400/500 [56:45:38<18:24:04, 662.44s/it, best loss: -0.7905278665966281]"
     ]
    },
    {
     "name": "stderr",
     "output_type": "stream",
     "text": [
      "Global seed set to 1\n"
     ]
    },
    {
     "name": "stdout",
     "output_type": "stream",
     "text": [
      "{'batch_size': 2560, 'dropout1': 0.28, 'dropout2': 0.457, 'dropout3': 0.249, 'dropout4': 0.391, 'dropout5': 0.443, 'dropout6': 0.406, 'dropout7': 0.149, 'dropout8': 0.199, 'hidden_size1': 15, 'hidden_size2': 448, 'hidden_size3': 896, 'hidden_size4': 32, 'hidden_size5': 32, 'hidden_size6': 448, 'hidden_size7': 512, 'hidden_size8': 96, 'learning_rate': 0.0003, 'n_layers': 3, 'num_epochs': 30}\n",
      "0.7824729644512579                                                                                                     \n",
      " 80%|████████████████████████████████▉        | 401/500 [56:53:35<16:41:13, 606.80s/it, best loss: -0.7905278665966281]"
     ]
    },
    {
     "name": "stderr",
     "output_type": "stream",
     "text": [
      "Global seed set to 1\n"
     ]
    },
    {
     "name": "stdout",
     "output_type": "stream",
     "text": [
      "{'batch_size': 2048, 'dropout1': 0.143, 'dropout2': 0.182, 'dropout3': 0.368, 'dropout4': 0.437, 'dropout5': 0.157, 'dropout6': 0.375, 'dropout7': 0.345, 'dropout8': 0.078, 'hidden_size1': 33, 'hidden_size2': 32, 'hidden_size3': 256, 'hidden_size4': 48, 'hidden_size5': 48, 'hidden_size6': 512, 'hidden_size7': 96, 'hidden_size8': 128, 'learning_rate': 0.0004, 'n_layers': 3, 'num_epochs': 10}\n",
      "0.7887817441424179                                                                                                     \n",
      " 80%|████████████████████████████████▉        | 402/500 [56:56:33<13:00:45, 478.02s/it, best loss: -0.7905278665966281]"
     ]
    },
    {
     "name": "stderr",
     "output_type": "stream",
     "text": [
      "Global seed set to 1\n"
     ]
    },
    {
     "name": "stdout",
     "output_type": "stream",
     "text": [
      "{'batch_size': 2048, 'dropout1': 0.287, 'dropout2': 0.173, 'dropout3': 0.243, 'dropout4': 0.445, 'dropout5': 0.306, 'dropout6': 0.477, 'dropout7': 0.224, 'dropout8': 0.447, 'hidden_size1': 6, 'hidden_size2': 32, 'hidden_size3': 256, 'hidden_size4': 48, 'hidden_size5': 48, 'hidden_size6': 512, 'hidden_size7': 96, 'hidden_size8': 128, 'learning_rate': 0.0004, 'n_layers': 3, 'num_epochs': 10}\n",
      "0.7898316109497274                                                                                                     \n",
      " 81%|█████████████████████████████████        | 403/500 [56:59:30<10:27:04, 387.88s/it, best loss: -0.7905278665966281]"
     ]
    },
    {
     "name": "stderr",
     "output_type": "stream",
     "text": [
      "Global seed set to 1\n"
     ]
    },
    {
     "name": "stdout",
     "output_type": "stream",
     "text": [
      "{'batch_size': 2048, 'dropout1': 0.34, 'dropout2': 0.034, 'dropout3': 0.218, 'dropout4': 0.07, 'dropout5': 0.211, 'dropout6': 0.439, 'dropout7': 0.006, 'dropout8': 0.107, 'hidden_size1': 51, 'hidden_size2': 32, 'hidden_size3': 256, 'hidden_size4': 48, 'hidden_size5': 48, 'hidden_size6': 512, 'hidden_size7': 96, 'hidden_size8': 128, 'learning_rate': 0.0002, 'n_layers': 3, 'num_epochs': 10}\n",
      "0.7898313606344497                                                                                                     \n",
      " 81%|█████████████████████████████████▉        | 404/500 [57:02:28<8:39:43, 324.83s/it, best loss: -0.7905278665966281]"
     ]
    },
    {
     "name": "stderr",
     "output_type": "stream",
     "text": [
      "Global seed set to 1\n"
     ]
    },
    {
     "name": "stdout",
     "output_type": "stream",
     "text": [
      "{'batch_size': 2048, 'dropout1': 0.093, 'dropout2': 0.029, 'dropout3': 0.109, 'dropout4': 0.314, 'dropout5': 0.388, 'dropout6': 0.482, 'dropout7': 0.095, 'dropout8': 0.124, 'hidden_size1': 43, 'hidden_size2': 32, 'hidden_size3': 256, 'hidden_size4': 48, 'hidden_size5': 48, 'hidden_size6': 128, 'hidden_size7': 96, 'hidden_size8': 128, 'learning_rate': 0.02, 'n_layers': 3, 'num_epochs': 10}\n",
      "0.7894395216021364                                                                                                     \n",
      " 81%|██████████████████████████████████        | 405/500 [57:05:26<7:24:29, 280.73s/it, best loss: -0.7905278665966281]"
     ]
    },
    {
     "name": "stderr",
     "output_type": "stream",
     "text": [
      "Global seed set to 1\n"
     ]
    },
    {
     "name": "stdout",
     "output_type": "stream",
     "text": [
      "{'batch_size': 2048, 'dropout1': 0.351, 'dropout2': 0.189, 'dropout3': 0.332, 'dropout4': 0.399, 'dropout5': 0.215, 'dropout6': 0.038, 'dropout7': 0.077, 'dropout8': 0.476, 'hidden_size1': 100, 'hidden_size2': 32, 'hidden_size3': 256, 'hidden_size4': 48, 'hidden_size5': 48, 'hidden_size6': 256, 'hidden_size7': 32, 'hidden_size8': 128, 'learning_rate': 0.0006, 'n_layers': 3, 'num_epochs': 10}\n",
      "0.7892361008256117                                                                                                     \n",
      " 81%|██████████████████████████████████        | 406/500 [57:08:23<6:31:19, 249.79s/it, best loss: -0.7905278665966281]"
     ]
    },
    {
     "name": "stderr",
     "output_type": "stream",
     "text": [
      "Global seed set to 1\n"
     ]
    },
    {
     "name": "stdout",
     "output_type": "stream",
     "text": [
      "{'batch_size': 2048, 'dropout1': 0.487, 'dropout2': 0.004, 'dropout3': 0.195, 'dropout4': 0.08, 'dropout5': 0.432, 'dropout6': 0.332, 'dropout7': 0.223, 'dropout8': 0.389, 'hidden_size1': 80, 'hidden_size2': 32, 'hidden_size3': 256, 'hidden_size4': 48, 'hidden_size5': 48, 'hidden_size6': 48, 'hidden_size7': 128, 'hidden_size8': 128, 'learning_rate': 0.001, 'n_layers': 3, 'num_epochs': 10}\n",
      "0.789806569170727                                                                                                      \n",
      " 81%|██████████████████████████████████▏       | 407/500 [57:11:22<5:53:55, 228.34s/it, best loss: -0.7905278665966281]"
     ]
    },
    {
     "name": "stderr",
     "output_type": "stream",
     "text": [
      "Global seed set to 1\n"
     ]
    },
    {
     "name": "stdout",
     "output_type": "stream",
     "text": [
      "{'batch_size': 2048, 'dropout1': 0.152, 'dropout2': 0.158, 'dropout3': 0.366, 'dropout4': 0.134, 'dropout5': 0.466, 'dropout6': 0.286, 'dropout7': 0.13, 'dropout8': 0.268, 'hidden_size1': 92, 'hidden_size2': 32, 'hidden_size3': 256, 'hidden_size4': 448, 'hidden_size5': 48, 'hidden_size6': 512, 'hidden_size7': 1024, 'hidden_size8': 128, 'learning_rate': 0.0004, 'n_layers': 3, 'num_epochs': 10}\n",
      "0.7894213635874353                                                                                                     \n",
      " 82%|██████████████████████████████████▎       | 408/500 [57:14:24<5:28:55, 214.51s/it, best loss: -0.7905278665966281]"
     ]
    },
    {
     "name": "stderr",
     "output_type": "stream",
     "text": [
      "Global seed set to 1\n"
     ]
    },
    {
     "name": "stdout",
     "output_type": "stream",
     "text": [
      "{'batch_size': 2048, 'dropout1': 0.052, 'dropout2': 0.193, 'dropout3': 0.341, 'dropout4': 0.054, 'dropout5': 0.41, 'dropout6': 0.118, 'dropout7': 0.191, 'dropout8': 0.175, 'hidden_size1': 44, 'hidden_size2': 32, 'hidden_size3': 256, 'hidden_size4': 256, 'hidden_size5': 48, 'hidden_size6': 64, 'hidden_size7': 896, 'hidden_size8': 128, 'learning_rate': 0.002, 'n_layers': 3, 'num_epochs': 10}\n",
      "0.7889789274974033                                                                                                     \n",
      " 82%|██████████████████████████████████▎       | 409/500 [57:17:23<5:09:13, 203.89s/it, best loss: -0.7905278665966281]"
     ]
    },
    {
     "name": "stderr",
     "output_type": "stream",
     "text": [
      "Global seed set to 1\n"
     ]
    },
    {
     "name": "stdout",
     "output_type": "stream",
     "text": [
      "{'batch_size': 5120, 'dropout1': 0.459, 'dropout2': 0.446, 'dropout3': 0.282, 'dropout4': 0.167, 'dropout5': 0.322, 'dropout6': 0.316, 'dropout7': 0.369, 'dropout8': 0.096, 'hidden_size1': 88, 'hidden_size2': 32, 'hidden_size3': 448, 'hidden_size4': 896, 'hidden_size5': 128, 'hidden_size6': 448, 'hidden_size7': 32, 'hidden_size8': 256, 'learning_rate': 0.007, 'n_layers': 3, 'num_epochs': 10}\n",
      "0.7883219838962807                                                                                                     \n",
      " 82%|██████████████████████████████████▍       | 410/500 [57:20:19<4:53:15, 195.51s/it, best loss: -0.7905278665966281]"
     ]
    },
    {
     "name": "stderr",
     "output_type": "stream",
     "text": [
      "Global seed set to 1\n"
     ]
    },
    {
     "name": "stdout",
     "output_type": "stream",
     "text": [
      "{'batch_size': 2048, 'dropout1': 0.131, 'dropout2': 0.165, 'dropout3': 0.209, 'dropout4': 0.471, 'dropout5': 0.35, 'dropout6': 0.404, 'dropout7': 0.469, 'dropout8': 0.251, 'hidden_size1': 99, 'hidden_size2': 32, 'hidden_size3': 1024, 'hidden_size4': 64, 'hidden_size5': 48, 'hidden_size6': 128, 'hidden_size7': 96, 'hidden_size8': 1024, 'learning_rate': 0.04, 'n_layers': 3, 'num_epochs': 10}\n",
      "0.7902257126990604                                                                                                     \n",
      " 82%|██████████████████████████████████▌       | 411/500 [57:23:17<4:42:09, 190.22s/it, best loss: -0.7905278665966281]"
     ]
    },
    {
     "name": "stderr",
     "output_type": "stream",
     "text": [
      "Global seed set to 1\n"
     ]
    },
    {
     "name": "stdout",
     "output_type": "stream",
     "text": [
      "{'batch_size': 2048, 'dropout1': 0.376, 'dropout2': 0.132, 'dropout3': 0.206, 'dropout4': 0.4, 'dropout5': 0.35, 'dropout6': 0.068, 'dropout7': 0.018, 'dropout8': 0.362, 'hidden_size1': 50, 'hidden_size2': 32, 'hidden_size3': 1024, 'hidden_size4': 64, 'hidden_size5': 48, 'hidden_size6': 128, 'hidden_size7': 48, 'hidden_size8': 1024, 'learning_rate': 0.0003, 'n_layers': 3, 'num_epochs': 10}\n",
      "0.7898329258912581                                                                                                     \n",
      " 82%|██████████████████████████████████▌       | 412/500 [57:26:15<4:33:40, 186.60s/it, best loss: -0.7905278665966281]"
     ]
    },
    {
     "name": "stderr",
     "output_type": "stream",
     "text": [
      "Global seed set to 1\n"
     ]
    },
    {
     "name": "stdout",
     "output_type": "stream",
     "text": [
      "{'batch_size': 512, 'dropout1': 0.146, 'dropout2': 0.476, 'dropout3': 0.397, 'dropout4': 0.294, 'dropout5': 0.362, 'dropout6': 0.347, 'dropout7': 0.203, 'dropout8': 0.336, 'hidden_size1': 70, 'hidden_size2': 32, 'hidden_size3': 1024, 'hidden_size4': 64, 'hidden_size5': 256, 'hidden_size6': 128, 'hidden_size7': 96, 'hidden_size8': 1024, 'learning_rate': 0.04, 'n_layers': 3, 'num_epochs': 10}\n",
      "0.7890247536121594                                                                                                     \n",
      " 83%|██████████████████████████████████▋       | 413/500 [57:30:59<5:13:01, 215.88s/it, best loss: -0.7905278665966281]"
     ]
    },
    {
     "name": "stderr",
     "output_type": "stream",
     "text": [
      "Global seed set to 1\n"
     ]
    },
    {
     "name": "stdout",
     "output_type": "stream",
     "text": [
      "{'batch_size': 5120, 'dropout1': 0.438, 'dropout2': 0.431, 'dropout3': 0.483, 'dropout4': 0.041, 'dropout5': 0.046, 'dropout6': 0.41, 'dropout7': 0.435, 'dropout8': 0.251, 'hidden_size1': 61, 'hidden_size2': 96, 'hidden_size3': 1024, 'hidden_size4': 64, 'hidden_size5': 1024, 'hidden_size6': 128, 'hidden_size7': 256, 'hidden_size8': 1024, 'learning_rate': 0.01, 'n_layers': 3, 'num_epochs': 10}\n",
      "0.7866359314969686                                                                                                     \n",
      " 83%|██████████████████████████████████▊       | 414/500 [57:33:54<4:51:59, 203.71s/it, best loss: -0.7905278665966281]"
     ]
    },
    {
     "name": "stderr",
     "output_type": "stream",
     "text": [
      "Global seed set to 1\n"
     ]
    },
    {
     "name": "stdout",
     "output_type": "stream",
     "text": [
      "{'batch_size': 12800, 'dropout1': 0.335, 'dropout2': 0.151, 'dropout3': 0.499, 'dropout4': 0.104, 'dropout5': 0.359, 'dropout6': 0.457, 'dropout7': 0.029, 'dropout8': 0.028, 'hidden_size1': 98, 'hidden_size2': 64, 'hidden_size3': 1024, 'hidden_size4': 64, 'hidden_size5': 128, 'hidden_size6': 128, 'hidden_size7': 32, 'hidden_size8': 1024, 'learning_rate': 0.0007, 'n_layers': 3, 'num_epochs': 10}\n",
      "0.780091909757452                                                                                                      \n",
      " 83%|██████████████████████████████████▊       | 415/500 [57:36:52<4:37:22, 195.79s/it, best loss: -0.7905278665966281]"
     ]
    },
    {
     "name": "stderr",
     "output_type": "stream",
     "text": [
      "Global seed set to 1\n"
     ]
    },
    {
     "name": "stdout",
     "output_type": "stream",
     "text": [
      "{'batch_size': 2048, 'dropout1': 0.402, 'dropout2': 0.134, 'dropout3': 0.209, 'dropout4': 0.179, 'dropout5': 0.289, 'dropout6': 0.17, 'dropout7': 0.279, 'dropout8': 0.034, 'hidden_size1': 99, 'hidden_size2': 48, 'hidden_size3': 1024, 'hidden_size4': 64, 'hidden_size5': 512, 'hidden_size6': 128, 'hidden_size7': 448, 'hidden_size8': 64, 'learning_rate': 0.04, 'n_layers': 3, 'num_epochs': 10}\n",
      "0.7898302118793394                                                                                                     \n",
      " 83%|██████████████████████████████████▉       | 416/500 [57:39:50<4:26:57, 190.68s/it, best loss: -0.7905278665966281]"
     ]
    },
    {
     "name": "stderr",
     "output_type": "stream",
     "text": [
      "Global seed set to 1\n"
     ]
    },
    {
     "name": "stdout",
     "output_type": "stream",
     "text": [
      "{'batch_size': 2560, 'dropout1': 0.389, 'dropout2': 0.165, 'dropout3': 0.156, 'dropout4': 0.023, 'dropout5': 0.361, 'dropout6': 0.057, 'dropout7': 0.209, 'dropout8': 0.495, 'hidden_size1': 38, 'hidden_size2': 32, 'hidden_size3': 1024, 'hidden_size4': 64, 'hidden_size5': 48, 'hidden_size6': 128, 'hidden_size7': 64, 'hidden_size8': 1024, 'learning_rate': 0.04, 'n_layers': 3, 'num_epochs': 20}\n",
      "0.7782664292439149                                                                                                     \n",
      " 83%|███████████████████████████████████       | 417/500 [57:45:17<5:20:19, 231.56s/it, best loss: -0.7905278665966281]"
     ]
    },
    {
     "name": "stderr",
     "output_type": "stream",
     "text": [
      "Global seed set to 1\n"
     ]
    },
    {
     "name": "stdout",
     "output_type": "stream",
     "text": [
      "{'batch_size': 256, 'dropout1': 0.353, 'dropout2': 0.422, 'dropout3': 0.043, 'dropout4': 0.033, 'dropout5': 0.496, 'dropout6': 0.268, 'dropout7': 0.391, 'dropout8': 0.009, 'hidden_size1': 56, 'hidden_size2': 32, 'hidden_size3': 1024, 'hidden_size4': 64, 'hidden_size5': 896, 'hidden_size6': 128, 'hidden_size7': 1024, 'hidden_size8': 1024, 'learning_rate': 0.04, 'n_layers': 3, 'num_epochs': 10}\n",
      "0.7816351088874539                                                                                                     \n",
      " 84%|███████████████████████████████████       | 418/500 [57:52:36<6:41:13, 293.59s/it, best loss: -0.7905278665966281]"
     ]
    },
    {
     "name": "stderr",
     "output_type": "stream",
     "text": [
      "Global seed set to 1\n"
     ]
    },
    {
     "name": "stdout",
     "output_type": "stream",
     "text": [
      "{'batch_size': 2048, 'dropout1': 0.38, 'dropout2': 0.333, 'dropout3': 0.239, 'dropout4': 0.084, 'dropout5': 0.049, 'dropout6': 0.358, 'dropout7': 0.294, 'dropout8': 0.454, 'hidden_size1': 99, 'hidden_size2': 1024, 'hidden_size3': 1024, 'hidden_size4': 64, 'hidden_size5': 96, 'hidden_size6': 128, 'hidden_size7': 896, 'hidden_size8': 1024, 'learning_rate': 0.0008, 'n_layers': 3, 'num_epochs': 10}\n",
      "0.7902220859936793                                                                                                     \n",
      " 84%|███████████████████████████████████▏      | 419/500 [57:55:34<5:49:33, 258.94s/it, best loss: -0.7905278665966281]"
     ]
    },
    {
     "name": "stderr",
     "output_type": "stream",
     "text": [
      "Global seed set to 1\n"
     ]
    },
    {
     "name": "stdout",
     "output_type": "stream",
     "text": [
      "{'batch_size': 2048, 'dropout1': 0.292, 'dropout2': 0.07, 'dropout3': 0.363, 'dropout4': 0.109, 'dropout5': 0.319, 'dropout6': 0.418, 'dropout7': 0.469, 'dropout8': 0.26, 'hidden_size1': 21, 'hidden_size2': 1024, 'hidden_size3': 1024, 'hidden_size4': 64, 'hidden_size5': 96, 'hidden_size6': 128, 'hidden_size7': 32, 'hidden_size8': 1024, 'learning_rate': 0.0008, 'n_layers': 3, 'num_epochs': 10}\n",
      "0.7898669918325067                                                                                                     \n",
      " 84%|███████████████████████████████████▎      | 420/500 [57:58:32<5:12:47, 234.59s/it, best loss: -0.7905278665966281]"
     ]
    },
    {
     "name": "stderr",
     "output_type": "stream",
     "text": [
      "Global seed set to 1\n"
     ]
    },
    {
     "name": "stdout",
     "output_type": "stream",
     "text": [
      "{'batch_size': 2048, 'dropout1': 0.225, 'dropout2': 0.291, 'dropout3': 0.149, 'dropout4': 0.03, 'dropout5': 0.32, 'dropout6': 0.358, 'dropout7': 0.294, 'dropout8': 0.472, 'hidden_size1': 99, 'hidden_size2': 1024, 'hidden_size3': 1024, 'hidden_size4': 64, 'hidden_size5': 96, 'hidden_size6': 128, 'hidden_size7': 96, 'hidden_size8': 1024, 'learning_rate': 0.04, 'n_layers': 3, 'num_epochs': 35}\n",
      "0.7628998612209967                                                                                                     \n",
      " 84%|███████████████████████████████████▎      | 421/500 [58:07:53<7:17:51, 332.56s/it, best loss: -0.7905278665966281]"
     ]
    },
    {
     "name": "stderr",
     "output_type": "stream",
     "text": [
      "Global seed set to 1\n"
     ]
    },
    {
     "name": "stdout",
     "output_type": "stream",
     "text": [
      "{'batch_size': 2048, 'dropout1': 0.292, 'dropout2': 0.116, 'dropout3': 0.212, 'dropout4': 0.242, 'dropout5': 0.076, 'dropout6': 0.271, 'dropout7': 0.172, 'dropout8': 0.485, 'hidden_size1': 72, 'hidden_size2': 1024, 'hidden_size3': 1024, 'hidden_size4': 64, 'hidden_size5': 96, 'hidden_size6': 128, 'hidden_size7': 512, 'hidden_size8': 1024, 'learning_rate': 0.0008, 'n_layers': 3, 'num_epochs': 50}\n",
      "0.7658032779289865                                                                                                     \n",
      " 84%|██████████████████████████████████▌      | 422/500 [58:21:08<10:12:48, 471.40s/it, best loss: -0.7905278665966281]"
     ]
    },
    {
     "name": "stderr",
     "output_type": "stream",
     "text": [
      "Global seed set to 1\n"
     ]
    },
    {
     "name": "stdout",
     "output_type": "stream",
     "text": [
      "{'batch_size': 2048, 'dropout1': 0.354, 'dropout2': 0.327, 'dropout3': 0.266, 'dropout4': 0.096, 'dropout5': 0.08, 'dropout6': 0.167, 'dropout7': 0.221, 'dropout8': 0.191, 'hidden_size1': 64, 'hidden_size2': 128, 'hidden_size3': 1024, 'hidden_size4': 64, 'hidden_size5': 96, 'hidden_size6': 128, 'hidden_size7': 896, 'hidden_size8': 1024, 'learning_rate': 0.0008, 'n_layers': 3, 'num_epochs': 10}\n",
      "0.79015644586187                                                                                                       \n",
      " 85%|███████████████████████████████████▌      | 423/500 [58:24:06<8:12:01, 383.40s/it, best loss: -0.7905278665966281]"
     ]
    },
    {
     "name": "stderr",
     "output_type": "stream",
     "text": [
      "Global seed set to 1\n"
     ]
    },
    {
     "name": "stdout",
     "output_type": "stream",
     "text": [
      "{'batch_size': 2048, 'dropout1': 0.332, 'dropout2': 0.068, 'dropout3': 0.241, 'dropout4': 0.371, 'dropout5': 0.44, 'dropout6': 0.329, 'dropout7': 0.035, 'dropout8': 0.454, 'hidden_size1': 81, 'hidden_size2': 1024, 'hidden_size3': 1024, 'hidden_size4': 64, 'hidden_size5': 96, 'hidden_size6': 128, 'hidden_size7': 32, 'hidden_size8': 1024, 'learning_rate': 0.0008, 'n_layers': 3, 'num_epochs': 5}\n",
      "0.7890100242766658                                                                                                     \n",
      " 85%|███████████████████████████████████▌      | 424/500 [58:25:48<6:18:33, 298.86s/it, best loss: -0.7905278665966281]"
     ]
    },
    {
     "name": "stderr",
     "output_type": "stream",
     "text": [
      "Global seed set to 1\n"
     ]
    },
    {
     "name": "stdout",
     "output_type": "stream",
     "text": [
      "{'batch_size': 2048, 'dropout1': 0.38, 'dropout2': 0.047, 'dropout3': 0.35, 'dropout4': 0.378, 'dropout5': 0.033, 'dropout6': 0.161, 'dropout7': 0.001, 'dropout8': 0.193, 'hidden_size1': 99, 'hidden_size2': 1024, 'hidden_size3': 1024, 'hidden_size4': 64, 'hidden_size5': 96, 'hidden_size6': 128, 'hidden_size7': 128, 'hidden_size8': 1024, 'learning_rate': 0.0008, 'n_layers': 3, 'num_epochs': 10}\n",
      "0.7899948800723418                                                                                                     \n",
      " 85%|███████████████████████████████████▋      | 425/500 [58:28:46<5:28:18, 262.64s/it, best loss: -0.7905278665966281]"
     ]
    },
    {
     "name": "stderr",
     "output_type": "stream",
     "text": [
      "Global seed set to 1\n"
     ]
    },
    {
     "name": "stdout",
     "output_type": "stream",
     "text": [
      "{'batch_size': 2048, 'dropout1': 0.049, 'dropout2': 0.112, 'dropout3': 0.051, 'dropout4': 0.471, 'dropout5': 0.323, 'dropout6': 0.404, 'dropout7': 0.307, 'dropout8': 0.215, 'hidden_size1': 99, 'hidden_size2': 1024, 'hidden_size3': 1024, 'hidden_size4': 512, 'hidden_size5': 96, 'hidden_size6': 128, 'hidden_size7': 1024, 'hidden_size8': 1024, 'learning_rate': 0.04, 'n_layers': 3, 'num_epochs': 40}\n",
      "0.7337156847347048                                                                                                     \n",
      " 85%|███████████████████████████████████▊      | 426/500 [58:39:23<7:42:38, 375.12s/it, best loss: -0.7905278665966281]"
     ]
    },
    {
     "name": "stderr",
     "output_type": "stream",
     "text": [
      "Global seed set to 1\n"
     ]
    },
    {
     "name": "stdout",
     "output_type": "stream",
     "text": [
      "{'batch_size': 2048, 'dropout1': 0.233, 'dropout2': 0.462, 'dropout3': 0.059, 'dropout4': 0.38, 'dropout5': 0.057, 'dropout6': 0.429, 'dropout7': 0.342, 'dropout8': 0.468, 'hidden_size1': 75, 'hidden_size2': 1024, 'hidden_size3': 1024, 'hidden_size4': 64, 'hidden_size5': 96, 'hidden_size6': 128, 'hidden_size7': 32, 'hidden_size8': 1024, 'learning_rate': 0.04, 'n_layers': 3, 'num_epochs': 25}\n",
      "0.7554946275124286                                                                                                     \n",
      " 85%|███████████████████████████████████▊      | 427/500 [58:46:11<7:48:22, 384.96s/it, best loss: -0.7905278665966281]"
     ]
    },
    {
     "name": "stderr",
     "output_type": "stream",
     "text": [
      "Global seed set to 1\n"
     ]
    },
    {
     "name": "stdout",
     "output_type": "stream",
     "text": [
      "{'batch_size': 2048, 'dropout1': 0.054, 'dropout2': 0.333, 'dropout3': 0.239, 'dropout4': 0.042, 'dropout5': 0.366, 'dropout6': 0.471, 'dropout7': 0.013, 'dropout8': 0.3, 'hidden_size1': 84, 'hidden_size2': 1024, 'hidden_size3': 1024, 'hidden_size4': 64, 'hidden_size5': 96, 'hidden_size6': 128, 'hidden_size7': 96, 'hidden_size8': 1024, 'learning_rate': 0.0008, 'n_layers': 3, 'num_epochs': 10}\n",
      "0.7905465500559148                                                                                                     \n",
      " 86%|███████████████████████████████████▉      | 428/500 [58:49:10<6:27:29, 322.91s/it, best loss: -0.7905465500559148]"
     ]
    },
    {
     "name": "stderr",
     "output_type": "stream",
     "text": [
      "Global seed set to 1\n"
     ]
    },
    {
     "name": "stdout",
     "output_type": "stream",
     "text": [
      "{'batch_size': 2048, 'dropout1': 0.079, 'dropout2': 0.405, 'dropout3': 0.098, 'dropout4': 0.358, 'dropout5': 0.366, 'dropout6': 0.424, 'dropout7': 0.013, 'dropout8': 0.24, 'hidden_size1': 71, 'hidden_size2': 1024, 'hidden_size3': 1024, 'hidden_size4': 64, 'hidden_size5': 96, 'hidden_size6': 128, 'hidden_size7': 96, 'hidden_size8': 1024, 'learning_rate': 0.0008, 'n_layers': 3, 'num_epochs': 10}\n",
      "0.786632956947369                                                                                                      \n",
      " 86%|████████████████████████████████████      | 429/500 [58:52:07<5:30:39, 279.43s/it, best loss: -0.7905465500559148]"
     ]
    },
    {
     "name": "stderr",
     "output_type": "stream",
     "text": [
      "Global seed set to 1\n"
     ]
    },
    {
     "name": "stdout",
     "output_type": "stream",
     "text": [
      "{'batch_size': 2048, 'dropout1': 0.239, 'dropout2': 0.337, 'dropout3': 0.369, 'dropout4': 0.227, 'dropout5': 0.212, 'dropout6': 0.241, 'dropout7': 0.235, 'dropout8': 0.376, 'hidden_size1': 35, 'hidden_size2': 1024, 'hidden_size3': 1024, 'hidden_size4': 64, 'hidden_size5': 96, 'hidden_size6': 128, 'hidden_size7': 96, 'hidden_size8': 1024, 'learning_rate': 0.04, 'n_layers': 3, 'num_epochs': 15}\n",
      "0.7902804792148466                                                                                                     \n",
      " 86%|████████████████████████████████████      | 430/500 [58:56:22<5:17:21, 272.02s/it, best loss: -0.7905465500559148]"
     ]
    },
    {
     "name": "stderr",
     "output_type": "stream",
     "text": [
      "Global seed set to 1\n"
     ]
    },
    {
     "name": "stdout",
     "output_type": "stream",
     "text": [
      "{'batch_size': 2048, 'dropout1': 0.258, 'dropout2': 0.18, 'dropout3': 0.236, 'dropout4': 0.042, 'dropout5': 0.103, 'dropout6': 0.394, 'dropout7': 0.419, 'dropout8': 0.367, 'hidden_size1': 47, 'hidden_size2': 1024, 'hidden_size3': 1024, 'hidden_size4': 64, 'hidden_size5': 96, 'hidden_size6': 128, 'hidden_size7': 96, 'hidden_size8': 1024, 'learning_rate': 0.0008, 'n_layers': 3, 'num_epochs': 15}\n",
      "0.787251440357055                                                                                                      \n",
      " 86%|████████████████████████████████████▏     | 431/500 [59:00:37<5:06:52, 266.84s/it, best loss: -0.7905465500559148]"
     ]
    },
    {
     "name": "stderr",
     "output_type": "stream",
     "text": [
      "Global seed set to 1\n"
     ]
    },
    {
     "name": "stdout",
     "output_type": "stream",
     "text": [
      "{'batch_size': 2048, 'dropout1': 0.056, 'dropout2': 0.378, 'dropout3': 0.047, 'dropout4': 0.155, 'dropout5': 0.493, 'dropout6': 0.378, 'dropout7': 0.296, 'dropout8': 0.081, 'hidden_size1': 84, 'hidden_size2': 1024, 'hidden_size3': 1024, 'hidden_size4': 64, 'hidden_size5': 96, 'hidden_size6': 128, 'hidden_size7': 96, 'hidden_size8': 1024, 'learning_rate': 0.04, 'n_layers': 3, 'num_epochs': 15}\n",
      "0.7695980742226034                                                                                                     \n",
      " 86%|████████████████████████████████████▎     | 432/500 [59:04:52<4:58:18, 263.21s/it, best loss: -0.7905465500559148]"
     ]
    },
    {
     "name": "stderr",
     "output_type": "stream",
     "text": [
      "Global seed set to 1\n"
     ]
    },
    {
     "name": "stdout",
     "output_type": "stream",
     "text": [
      "{'batch_size': 10240, 'dropout1': 0.122, 'dropout2': 0.099, 'dropout3': 0.139, 'dropout4': 0.259, 'dropout5': 0.481, 'dropout6': 0.241, 'dropout7': 0.401, 'dropout8': 0.497, 'hidden_size1': 46, 'hidden_size2': 1024, 'hidden_size3': 1024, 'hidden_size4': 64, 'hidden_size5': 96, 'hidden_size6': 128, 'hidden_size7': 96, 'hidden_size8': 1024, 'learning_rate': 0.009, 'n_layers': 3, 'num_epochs': 15}\n",
      "0.7895589747674857                                                                                                     \n",
      " 87%|████████████████████████████████████▎     | 433/500 [59:09:03<4:49:53, 259.60s/it, best loss: -0.7905465500559148]"
     ]
    },
    {
     "name": "stderr",
     "output_type": "stream",
     "text": [
      "Global seed set to 1\n"
     ]
    },
    {
     "name": "stdout",
     "output_type": "stream",
     "text": [
      "{'batch_size': 2048, 'dropout1': 0.342, 'dropout2': 0.49, 'dropout3': 0.239, 'dropout4': 0.435, 'dropout5': 0.473, 'dropout6': 0.278, 'dropout7': 0.413, 'dropout8': 0.453, 'hidden_size1': 35, 'hidden_size2': 1024, 'hidden_size3': 1024, 'hidden_size4': 64, 'hidden_size5': 96, 'hidden_size6': 128, 'hidden_size7': 96, 'hidden_size8': 1024, 'learning_rate': 0.0005, 'n_layers': 3, 'num_epochs': 15}\n",
      "0.7881521503686001                                                                                                     \n",
      " 87%|████████████████████████████████████▍     | 434/500 [59:13:18<4:44:04, 258.25s/it, best loss: -0.7905465500559148]"
     ]
    },
    {
     "name": "stderr",
     "output_type": "stream",
     "text": [
      "Global seed set to 1\n"
     ]
    },
    {
     "name": "stdout",
     "output_type": "stream",
     "text": [
      "{'batch_size': 2048, 'dropout1': 0.106, 'dropout2': 0.415, 'dropout3': 0.17, 'dropout4': 0.351, 'dropout5': 0.212, 'dropout6': 0.471, 'dropout7': 0.386, 'dropout8': 0.075, 'hidden_size1': 93, 'hidden_size2': 1024, 'hidden_size3': 1024, 'hidden_size4': 64, 'hidden_size5': 96, 'hidden_size6': 128, 'hidden_size7': 96, 'hidden_size8': 1024, 'learning_rate': 0.03, 'n_layers': 3, 'num_epochs': 15}\n",
      "0.7850464143165266                                                                                                     \n",
      " 87%|████████████████████████████████████▌     | 435/500 [59:17:34<4:39:09, 257.68s/it, best loss: -0.7905465500559148]"
     ]
    },
    {
     "name": "stderr",
     "output_type": "stream",
     "text": [
      "Global seed set to 1\n"
     ]
    },
    {
     "name": "stdout",
     "output_type": "stream",
     "text": [
      "{'batch_size': 4096, 'dropout1': 0.249, 'dropout2': 0.243, 'dropout3': 0.456, 'dropout4': 0.278, 'dropout5': 0.409, 'dropout6': 0.051, 'dropout7': 0.409, 'dropout8': 0.376, 'hidden_size1': 9, 'hidden_size2': 1024, 'hidden_size3': 1024, 'hidden_size4': 64, 'hidden_size5': 96, 'hidden_size6': 128, 'hidden_size7': 96, 'hidden_size8': 1024, 'learning_rate': 0.0008, 'n_layers': 3, 'num_epochs': 15}\n",
      "0.7891013064020262                                                                                                     \n",
      " 87%|████████████████████████████████████▌     | 436/500 [59:21:49<4:34:00, 256.88s/it, best loss: -0.7905465500559148]"
     ]
    },
    {
     "name": "stderr",
     "output_type": "stream",
     "text": [
      "Global seed set to 1\n"
     ]
    },
    {
     "name": "stdout",
     "output_type": "stream",
     "text": [
      "{'batch_size': 2560, 'dropout1': 0.071, 'dropout2': 0.055, 'dropout3': 0.014, 'dropout4': 0.227, 'dropout5': 0.29, 'dropout6': 0.408, 'dropout7': 0.379, 'dropout8': 0.11, 'hidden_size1': 84, 'hidden_size2': 1024, 'hidden_size3': 1024, 'hidden_size4': 64, 'hidden_size5': 96, 'hidden_size6': 128, 'hidden_size7': 96, 'hidden_size8': 1024, 'learning_rate': 0.004, 'n_layers': 3, 'num_epochs': 15}\n",
      "0.762571370216908                                                                                                      \n",
      " 87%|████████████████████████████████████▋     | 437/500 [59:26:03<4:28:38, 255.85s/it, best loss: -0.7905465500559148]"
     ]
    },
    {
     "name": "stderr",
     "output_type": "stream",
     "text": [
      "Global seed set to 1\n"
     ]
    },
    {
     "name": "stdout",
     "output_type": "stream",
     "text": [
      "{'batch_size': 2048, 'dropout1': 0.266, 'dropout2': 0.08, 'dropout3': 0.214, 'dropout4': 0.333, 'dropout5': 0.023, 'dropout6': 0.265, 'dropout7': 0.075, 'dropout8': 0.422, 'hidden_size1': 35, 'hidden_size2': 1024, 'hidden_size3': 1024, 'hidden_size4': 64, 'hidden_size5': 96, 'hidden_size6': 128, 'hidden_size7': 96, 'hidden_size8': 1024, 'learning_rate': 0.005, 'n_layers': 3, 'num_epochs': 15}\n",
      "0.7879492458923483                                                                                                     \n",
      " 88%|████████████████████████████████████▊     | 438/500 [59:30:19<4:24:30, 255.97s/it, best loss: -0.7905465500559148]"
     ]
    },
    {
     "name": "stderr",
     "output_type": "stream",
     "text": [
      "Global seed set to 1\n"
     ]
    },
    {
     "name": "stdout",
     "output_type": "stream",
     "text": [
      "{'batch_size': 1024, 'dropout1': 0.283, 'dropout2': 0.096, 'dropout3': 0.019, 'dropout4': 0.069, 'dropout5': 0.317, 'dropout6': 0.428, 'dropout7': 0.384, 'dropout8': 0.168, 'hidden_size1': 84, 'hidden_size2': 1024, 'hidden_size3': 1024, 'hidden_size4': 64, 'hidden_size5': 96, 'hidden_size6': 128, 'hidden_size7': 96, 'hidden_size8': 1024, 'learning_rate': 0.006, 'n_layers': 3, 'num_epochs': 15}\n",
      "0.7635130720079893                                                                                                     \n",
      " 88%|████████████████████████████████████▉     | 439/500 [59:35:24<4:35:05, 270.58s/it, best loss: -0.7905465500559148]"
     ]
    },
    {
     "name": "stderr",
     "output_type": "stream",
     "text": [
      "Global seed set to 1\n"
     ]
    },
    {
     "name": "stdout",
     "output_type": "stream",
     "text": [
      "{'batch_size': 128, 'dropout1': 0.239, 'dropout2': 0.337, 'dropout3': 0.093, 'dropout4': 0.189, 'dropout5': 0.094, 'dropout6': 0.346, 'dropout7': 0.453, 'dropout8': 0.196, 'hidden_size1': 34, 'hidden_size2': 1024, 'hidden_size3': 128, 'hidden_size4': 64, 'hidden_size5': 96, 'hidden_size6': 96, 'hidden_size7': 96, 'hidden_size8': 1024, 'learning_rate': 0.0003, 'n_layers': 3, 'num_epochs': 15}\n",
      "0.7807161978529742                                                                                                     \n",
      " 88%|████████████████████████████████████▉     | 440/500 [59:53:54<8:42:25, 522.42s/it, best loss: -0.7905465500559148]"
     ]
    },
    {
     "name": "stderr",
     "output_type": "stream",
     "text": [
      "Global seed set to 1\n"
     ]
    },
    {
     "name": "stdout",
     "output_type": "stream",
     "text": [
      "{'batch_size': 2048, 'dropout1': 0.477, 'dropout2': 0.499, 'dropout3': 0.34, 'dropout4': 0.061, 'dropout5': 0.259, 'dropout6': 0.499, 'dropout7': 0.011, 'dropout8': 0.056, 'hidden_size1': 35, 'hidden_size2': 1024, 'hidden_size3': 1024, 'hidden_size4': 128, 'hidden_size5': 96, 'hidden_size6': 128, 'hidden_size7': 96, 'hidden_size8': 256, 'learning_rate': 0.008, 'n_layers': 3, 'num_epochs': 15}\n",
      "0.790492296321508                                                                                                      \n",
      " 88%|█████████████████████████████████████     | 441/500 [59:58:15<7:16:46, 444.18s/it, best loss: -0.7905465500559148]"
     ]
    },
    {
     "name": "stderr",
     "output_type": "stream",
     "text": [
      "Global seed set to 1\n"
     ]
    },
    {
     "name": "stdout",
     "output_type": "stream",
     "text": [
      "{'batch_size': 512, 'dropout1': 0.456, 'dropout2': 0.086, 'dropout3': 0.34, 'dropout4': 0.046, 'dropout5': 0.425, 'dropout6': 0.499, 'dropout7': 0.046, 'dropout8': 0.381, 'hidden_size1': 41, 'hidden_size2': 1024, 'hidden_size3': 64, 'hidden_size4': 128, 'hidden_size5': 96, 'hidden_size6': 1024, 'hidden_size7': 96, 'hidden_size8': 256, 'learning_rate': 0.008, 'n_layers': 3, 'num_epochs': 15}\n",
      "0.7867641314222137                                                                                                     \n",
      " 88%|█████████████████████████████████████▏    | 442/500 [60:05:32<7:07:13, 441.95s/it, best loss: -0.7905465500559148]"
     ]
    },
    {
     "name": "stderr",
     "output_type": "stream",
     "text": [
      "Global seed set to 1\n"
     ]
    },
    {
     "name": "stdout",
     "output_type": "stream",
     "text": [
      "{'batch_size': 2560, 'dropout1': 0.295, 'dropout2': 0.311, 'dropout3': 0.151, 'dropout4': 0.248, 'dropout5': 0.278, 'dropout6': 0.46, 'dropout7': 0.418, 'dropout8': 0.488, 'hidden_size1': 58, 'hidden_size2': 1024, 'hidden_size3': 96, 'hidden_size4': 128, 'hidden_size5': 96, 'hidden_size6': 64, 'hidden_size7': 48, 'hidden_size8': 256, 'learning_rate': 0.008, 'n_layers': 4, 'num_epochs': 15}\n",
      "0.7887592811356258                                                                                                     \n",
      " 89%|█████████████████████████████████████▏    | 443/500 [60:09:50<6:07:30, 386.85s/it, best loss: -0.7905465500559148]"
     ]
    },
    {
     "name": "stderr",
     "output_type": "stream",
     "text": [
      "Global seed set to 1\n"
     ]
    },
    {
     "name": "stdout",
     "output_type": "stream",
     "text": [
      "{'batch_size': 2048, 'dropout1': 0.4, 'dropout2': 0.012, 'dropout3': 0.088, 'dropout4': 0.063, 'dropout5': 0.415, 'dropout6': 0.239, 'dropout7': 0.385, 'dropout8': 0.269, 'hidden_size1': 60, 'hidden_size2': 1024, 'hidden_size3': 32, 'hidden_size4': 128, 'hidden_size5': 96, 'hidden_size6': 32, 'hidden_size7': 96, 'hidden_size8': 256, 'learning_rate': 0.008, 'n_layers': 3, 'num_epochs': 15}\n",
      "0.7887310461506665                                                                                                     \n",
      " 89%|█████████████████████████████████████▎    | 444/500 [60:14:07<5:24:27, 347.64s/it, best loss: -0.7905465500559148]"
     ]
    },
    {
     "name": "stderr",
     "output_type": "stream",
     "text": [
      "Global seed set to 1\n"
     ]
    },
    {
     "name": "stdout",
     "output_type": "stream",
     "text": [
      "{'batch_size': 10240, 'dropout1': 0.381, 'dropout2': 0.098, 'dropout3': 0.215, 'dropout4': 0.076, 'dropout5': 0.145, 'dropout6': 0.468, 'dropout7': 0.159, 'dropout8': 0.471, 'hidden_size1': 77, 'hidden_size2': 1024, 'hidden_size3': 1024, 'hidden_size4': 128, 'hidden_size5': 1024, 'hidden_size6': 896, 'hidden_size7': 32, 'hidden_size8': 256, 'learning_rate': 0.008, 'n_layers': 3, 'num_epochs': 15}\n",
      "0.7888453804732922                                                                                                     \n",
      " 89%|█████████████████████████████████████▍    | 445/500 [60:18:21<4:53:01, 319.67s/it, best loss: -0.7905465500559148]"
     ]
    },
    {
     "name": "stderr",
     "output_type": "stream",
     "text": [
      "Global seed set to 1\n"
     ]
    },
    {
     "name": "stdout",
     "output_type": "stream",
     "text": [
      "{'batch_size': 12800, 'dropout1': 0.055, 'dropout2': 0.455, 'dropout3': 0.247, 'dropout4': 0.146, 'dropout5': 0.055, 'dropout6': 0.494, 'dropout7': 0.066, 'dropout8': 0.179, 'hidden_size1': 82, 'hidden_size2': 1024, 'hidden_size3': 48, 'hidden_size4': 128, 'hidden_size5': 96, 'hidden_size6': 256, 'hidden_size7': 256, 'hidden_size8': 256, 'learning_rate': 0.008, 'n_layers': 2, 'num_epochs': 20}\n",
      "0.7839940243677395                                                                                                     \n",
      " 89%|█████████████████████████████████████▍    | 446/500 [60:23:57<4:52:08, 324.60s/it, best loss: -0.7905465500559148]"
     ]
    },
    {
     "name": "stderr",
     "output_type": "stream",
     "text": [
      "Global seed set to 1\n"
     ]
    },
    {
     "name": "stdout",
     "output_type": "stream",
     "text": [
      "{'batch_size': 256, 'dropout1': 0.491, 'dropout2': 0.468, 'dropout3': 0.159, 'dropout4': 0.363, 'dropout5': 0.259, 'dropout6': 0.297, 'dropout7': 0.028, 'dropout8': 0.265, 'hidden_size1': 84, 'hidden_size2': 1024, 'hidden_size3': 512, 'hidden_size4': 128, 'hidden_size5': 96, 'hidden_size6': 128, 'hidden_size7': 448, 'hidden_size8': 256, 'learning_rate': 0.01, 'n_layers': 3, 'num_epochs': 45}\n",
      "0.7676001635823987                                                                                                     \n",
      " 89%|████████████████████████████████████▋    | 447/500 [60:55:38<11:44:34, 797.63s/it, best loss: -0.7905465500559148]"
     ]
    },
    {
     "name": "stderr",
     "output_type": "stream",
     "text": [
      "Global seed set to 1\n"
     ]
    },
    {
     "name": "stdout",
     "output_type": "stream",
     "text": [
      "{'batch_size': 2048, 'dropout1': 0.13, 'dropout2': 0.067, 'dropout3': 0.459, 'dropout4': 0.257, 'dropout5': 0.346, 'dropout6': 0.056, 'dropout7': 0.011, 'dropout8': 0.086, 'hidden_size1': 78, 'hidden_size2': 1024, 'hidden_size3': 448, 'hidden_size4': 128, 'hidden_size5': 96, 'hidden_size6': 128, 'hidden_size7': 1024, 'hidden_size8': 256, 'learning_rate': 0.008, 'n_layers': 1, 'num_epochs': 35}\n",
      "0.7900578946384911                                                                                                     \n",
      " 90%|████████████████████████████████████▋    | 448/500 [61:04:31<10:22:26, 718.21s/it, best loss: -0.7905465500559148]"
     ]
    },
    {
     "name": "stderr",
     "output_type": "stream",
     "text": [
      "Global seed set to 1\n"
     ]
    },
    {
     "name": "stdout",
     "output_type": "stream",
     "text": [
      "{'batch_size': 2048, 'dropout1': 0.043, 'dropout2': 0.085, 'dropout3': 0.11, 'dropout4': 0.088, 'dropout5': 0.065, 'dropout6': 0.395, 'dropout7': 0.292, 'dropout8': 0.295, 'hidden_size1': 68, 'hidden_size2': 1024, 'hidden_size3': 1024, 'hidden_size4': 128, 'hidden_size5': 96, 'hidden_size6': 48, 'hidden_size7': 64, 'hidden_size8': 256, 'learning_rate': 0.008, 'n_layers': 3, 'num_epochs': 30}\n",
      "0.7590820730805028                                                                                                     \n",
      " 90%|█████████████████████████████████████▋    | 449/500 [61:12:37<9:11:09, 648.43s/it, best loss: -0.7905465500559148]"
     ]
    },
    {
     "name": "stderr",
     "output_type": "stream",
     "text": [
      "Global seed set to 1\n"
     ]
    },
    {
     "name": "stdout",
     "output_type": "stream",
     "text": [
      "{'batch_size': 4096, 'dropout1': 0.392, 'dropout2': 0.475, 'dropout3': 0.137, 'dropout4': 0.271, 'dropout5': 0.5, 'dropout6': 0.471, 'dropout7': 0.013, 'dropout8': 0.164, 'hidden_size1': 83, 'hidden_size2': 896, 'hidden_size3': 64, 'hidden_size4': 128, 'hidden_size5': 64, 'hidden_size6': 64, 'hidden_size7': 32, 'hidden_size8': 256, 'learning_rate': 0.008, 'n_layers': 3, 'num_epochs': 50}\n",
      "0.7848704651325548                                                                                                     \n",
      " 90%|█████████████████████████████████████▊    | 450/500 [61:25:43<9:34:50, 689.81s/it, best loss: -0.7905465500559148]"
     ]
    },
    {
     "name": "stderr",
     "output_type": "stream",
     "text": [
      "Global seed set to 1\n"
     ]
    },
    {
     "name": "stdout",
     "output_type": "stream",
     "text": [
      "{'batch_size': 2560, 'dropout1': 0.054, 'dropout2': 0.144, 'dropout3': 0.401, 'dropout4': 0.365, 'dropout5': 0.088, 'dropout6': 0.006, 'dropout7': 0.408, 'dropout8': 0.31, 'hidden_size1': 25, 'hidden_size2': 512, 'hidden_size3': 128, 'hidden_size4': 128, 'hidden_size5': 448, 'hidden_size6': 128, 'hidden_size7': 512, 'hidden_size8': 256, 'learning_rate': 0.008, 'n_layers': 3, 'num_epochs': 15}\n",
      "0.7882143473981005                                                                                                     \n",
      " 90%|█████████████████████████████████████▉    | 451/500 [61:30:00<7:37:07, 559.75s/it, best loss: -0.7905465500559148]"
     ]
    },
    {
     "name": "stderr",
     "output_type": "stream",
     "text": [
      "Global seed set to 1\n"
     ]
    },
    {
     "name": "stdout",
     "output_type": "stream",
     "text": [
      "{'batch_size': 1024, 'dropout1': 0.269, 'dropout2': 0.442, 'dropout3': 0.197, 'dropout4': 0.439, 'dropout5': 0.25, 'dropout6': 0.164, 'dropout7': 0.302, 'dropout8': 0.183, 'hidden_size1': 69, 'hidden_size2': 256, 'hidden_size3': 96, 'hidden_size4': 128, 'hidden_size5': 32, 'hidden_size6': 128, 'hidden_size7': 96, 'hidden_size8': 256, 'learning_rate': 0.0001, 'n_layers': 4, 'num_epochs': 5}\n",
      "0.7869097689769038                                                                                                     \n",
      " 90%|█████████████████████████████████████▉    | 452/500 [61:32:04<5:43:14, 429.05s/it, best loss: -0.7905465500559148]"
     ]
    },
    {
     "name": "stderr",
     "output_type": "stream",
     "text": [
      "Global seed set to 1\n"
     ]
    },
    {
     "name": "stdout",
     "output_type": "stream",
     "text": [
      "{'batch_size': 2048, 'dropout1': 0.12, 'dropout2': 0.293, 'dropout3': 0.301, 'dropout4': 0.334, 'dropout5': 0.456, 'dropout6': 0.461, 'dropout7': 0.311, 'dropout8': 0.3, 'hidden_size1': 29, 'hidden_size2': 448, 'hidden_size3': 1024, 'hidden_size4': 128, 'hidden_size5': 96, 'hidden_size6': 96, 'hidden_size7': 32, 'hidden_size8': 256, 'learning_rate': 0.003, 'n_layers': 3, 'num_epochs': 40}\n",
      "0.7795612096179431                                                                                                     \n",
      " 91%|██████████████████████████████████████    | 453/500 [61:42:49<6:26:53, 493.90s/it, best loss: -0.7905465500559148]"
     ]
    },
    {
     "name": "stderr",
     "output_type": "stream",
     "text": [
      "Global seed set to 1\n"
     ]
    },
    {
     "name": "stdout",
     "output_type": "stream",
     "text": [
      "{'batch_size': 128, 'dropout1': 0.153, 'dropout2': 0.307, 'dropout3': 0.5, 'dropout4': 0.17, 'dropout5': 0.085, 'dropout6': 0.175, 'dropout7': 0.473, 'dropout8': 0.126, 'hidden_size1': 24, 'hidden_size2': 1024, 'hidden_size3': 48, 'hidden_size4': 128, 'hidden_size5': 256, 'hidden_size6': 1024, 'hidden_size7': 128, 'hidden_size8': 256, 'learning_rate': 0.0009, 'n_layers': 2, 'num_epochs': 25}\n",
      "0.7809342305055177                                                                                                     \n",
      " 91%|█████████████████████████████████████▏   | 454/500 [62:10:49<10:51:35, 849.91s/it, best loss: -0.7905465500559148]"
     ]
    },
    {
     "name": "stderr",
     "output_type": "stream",
     "text": [
      "Global seed set to 1\n"
     ]
    },
    {
     "name": "stdout",
     "output_type": "stream",
     "text": [
      "{'batch_size': 2048, 'dropout1': 0.067, 'dropout2': 0.499, 'dropout3': 0.21, 'dropout4': 0.021, 'dropout5': 0.447, 'dropout6': 0.109, 'dropout7': 0.363, 'dropout8': 0.253, 'hidden_size1': 23, 'hidden_size2': 96, 'hidden_size3': 512, 'hidden_size4': 96, 'hidden_size5': 1024, 'hidden_size6': 32, 'hidden_size7': 1024, 'hidden_size8': 256, 'learning_rate': 0.009, 'n_layers': 3, 'num_epochs': 45}\n",
      "0.7729139495820372                                                                                                     \n",
      " 91%|█████████████████████████████████████▎   | 455/500 [62:22:48<10:07:50, 810.45s/it, best loss: -0.7905465500559148]"
     ]
    },
    {
     "name": "stderr",
     "output_type": "stream",
     "text": [
      "Global seed set to 1\n"
     ]
    },
    {
     "name": "stdout",
     "output_type": "stream",
     "text": [
      "{'batch_size': 512, 'dropout1': 0.477, 'dropout2': 0.262, 'dropout3': 0.463, 'dropout4': 0.308, 'dropout5': 0.393, 'dropout6': 0.341, 'dropout7': 0.461, 'dropout8': 0.114, 'hidden_size1': 59, 'hidden_size2': 1024, 'hidden_size3': 32, 'hidden_size4': 896, 'hidden_size5': 512, 'hidden_size6': 64, 'hidden_size7': 96, 'hidden_size8': 48, 'learning_rate': 0.0003, 'n_layers': 3, 'num_epochs': 20}\n",
      "0.7833465544596384                                                                                                     \n",
      " 91%|██████████████████████████████████████▎   | 456/500 [62:31:57<8:56:56, 732.20s/it, best loss: -0.7905465500559148]"
     ]
    },
    {
     "name": "stderr",
     "output_type": "stream",
     "text": [
      "Global seed set to 1\n"
     ]
    },
    {
     "name": "stdout",
     "output_type": "stream",
     "text": [
      "{'batch_size': 2560, 'dropout1': 0.486, 'dropout2': 0.049, 'dropout3': 0.191, 'dropout4': 0.474, 'dropout5': 0.062, 'dropout6': 0.274, 'dropout7': 0.36, 'dropout8': 0.427, 'hidden_size1': 85, 'hidden_size2': 48, 'hidden_size3': 1024, 'hidden_size4': 128, 'hidden_size5': 896, 'hidden_size6': 128, 'hidden_size7': 32, 'hidden_size8': 512, 'learning_rate': 0.02, 'n_layers': 1, 'num_epochs': 30}\n",
      "0.7784082655476936                                                                                                     \n",
      " 91%|██████████████████████████████████████▍   | 457/500 [62:39:48<7:48:25, 653.62s/it, best loss: -0.7905465500559148]"
     ]
    },
    {
     "name": "stderr",
     "output_type": "stream",
     "text": [
      "Global seed set to 1\n"
     ]
    },
    {
     "name": "stdout",
     "output_type": "stream",
     "text": [
      "{'batch_size': 12800, 'dropout1': 0.48, 'dropout2': 0.163, 'dropout3': 0.069, 'dropout4': 0.061, 'dropout5': 0.208, 'dropout6': 0.243, 'dropout7': 0.338, 'dropout8': 0.137, 'hidden_size1': 27, 'hidden_size2': 512, 'hidden_size3': 448, 'hidden_size4': 1024, 'hidden_size5': 96, 'hidden_size6': 896, 'hidden_size7': 48, 'hidden_size8': 32, 'learning_rate': 0.0002, 'n_layers': 3, 'num_epochs': 15}\n",
      "0.787695732000221                                                                                                      \n",
      " 92%|██████████████████████████████████████▍   | 458/500 [62:44:05<6:14:22, 534.81s/it, best loss: -0.7905465500559148]"
     ]
    },
    {
     "name": "stderr",
     "output_type": "stream",
     "text": [
      "Global seed set to 1\n"
     ]
    },
    {
     "name": "stdout",
     "output_type": "stream",
     "text": [
      "{'batch_size': 2048, 'dropout1': 0.127, 'dropout2': 0.139, 'dropout3': 0.385, 'dropout4': 0.074, 'dropout5': 0.106, 'dropout6': 0.147, 'dropout7': 0.312, 'dropout8': 0.459, 'hidden_size1': 40, 'hidden_size2': 128, 'hidden_size3': 64, 'hidden_size4': 32, 'hidden_size5': 1024, 'hidden_size6': 256, 'hidden_size7': 32, 'hidden_size8': 256, 'learning_rate': 0.002, 'n_layers': 3, 'num_epochs': 35}\n",
      "0.789672855410999                                                                                                      \n",
      " 92%|██████████████████████████████████████▌   | 459/500 [62:53:35<6:12:40, 545.38s/it, best loss: -0.7905465500559148]"
     ]
    },
    {
     "name": "stderr",
     "output_type": "stream",
     "text": [
      "Global seed set to 1\n"
     ]
    },
    {
     "name": "stdout",
     "output_type": "stream",
     "text": [
      "{'batch_size': 10240, 'dropout1': 0.315, 'dropout2': 0.443, 'dropout3': 0.232, 'dropout4': 0.467, 'dropout5': 0.138, 'dropout6': 0.481, 'dropout7': 0.193, 'dropout8': 0.478, 'hidden_size1': 22, 'hidden_size2': 896, 'hidden_size3': 1024, 'hidden_size4': 448, 'hidden_size5': 448, 'hidden_size6': 128, 'hidden_size7': 96, 'hidden_size8': 256, 'learning_rate': 0.0008, 'n_layers': 3, 'num_epochs': 50}\n",
      "0.7700040342456026                                                                                                     \n",
      " 92%|██████████████████████████████████████▋   | 460/500 [63:06:43<6:52:06, 618.17s/it, best loss: -0.7905465500559148]"
     ]
    },
    {
     "name": "stderr",
     "output_type": "stream",
     "text": [
      "Global seed set to 1\n"
     ]
    },
    {
     "name": "stdout",
     "output_type": "stream",
     "text": [
      "{'batch_size': 256, 'dropout1': 0.477, 'dropout2': 0.045, 'dropout3': 0.34, 'dropout4': 0.372, 'dropout5': 0.056, 'dropout6': 0.499, 'dropout7': 0.185, 'dropout8': 0.382, 'hidden_size1': 31, 'hidden_size2': 1024, 'hidden_size3': 128, 'hidden_size4': 896, 'hidden_size5': 64, 'hidden_size6': 128, 'hidden_size7': 256, 'hidden_size8': 896, 'learning_rate': 0.0006, 'n_layers': 4, 'num_epochs': 5}\n",
      "0.7837875504967313                                                                                                     \n",
      " 92%|██████████████████████████████████████▋   | 461/500 [63:10:54<5:30:12, 508.02s/it, best loss: -0.7905465500559148]"
     ]
    },
    {
     "name": "stderr",
     "output_type": "stream",
     "text": [
      "Global seed set to 1\n"
     ]
    },
    {
     "name": "stdout",
     "output_type": "stream",
     "text": [
      "{'batch_size': 2048, 'dropout1': 0.238, 'dropout2': 0.087, 'dropout3': 0.47, 'dropout4': 0.338, 'dropout5': 0.179, 'dropout6': 0.042, 'dropout7': 0.399, 'dropout8': 0.023, 'hidden_size1': 86, 'hidden_size2': 448, 'hidden_size3': 96, 'hidden_size4': 128, 'hidden_size5': 96, 'hidden_size6': 48, 'hidden_size7': 448, 'hidden_size8': 448, 'learning_rate': 0.007, 'n_layers': 3, 'num_epochs': 40}\n",
      "0.7886028364145123                                                                                                     \n",
      " 92%|██████████████████████████████████████▊   | 462/500 [63:21:45<5:48:49, 550.77s/it, best loss: -0.7905465500559148]"
     ]
    },
    {
     "name": "stderr",
     "output_type": "stream",
     "text": [
      "Global seed set to 1\n"
     ]
    },
    {
     "name": "stdout",
     "output_type": "stream",
     "text": [
      "{'batch_size': 4096, 'dropout1': 0.18, 'dropout2': 0.499, 'dropout3': 0.308, 'dropout4': 0.037, 'dropout5': 0.366, 'dropout6': 0.077, 'dropout7': 0.318, 'dropout8': 0.301, 'hidden_size1': 89, 'hidden_size2': 256, 'hidden_size3': 32, 'hidden_size4': 512, 'hidden_size5': 32, 'hidden_size6': 64, 'hidden_size7': 1024, 'hidden_size8': 96, 'learning_rate': 0.0003, 'n_layers': 2, 'num_epochs': 15}\n",
      "0.787319797855242                                                                                                      \n",
      " 93%|██████████████████████████████████████▉   | 463/500 [63:25:59<4:44:41, 461.66s/it, best loss: -0.7905465500559148]"
     ]
    },
    {
     "name": "stderr",
     "output_type": "stream",
     "text": [
      "Global seed set to 1\n"
     ]
    },
    {
     "name": "stdout",
     "output_type": "stream",
     "text": [
      "{'batch_size': 2048, 'dropout1': 0.298, 'dropout2': 0.395, 'dropout3': 0.035, 'dropout4': 0.232, 'dropout5': 0.114, 'dropout6': 0.447, 'dropout7': 0.194, 'dropout8': 0.396, 'hidden_size1': 35, 'hidden_size2': 96, 'hidden_size3': 1024, 'hidden_size4': 896, 'hidden_size5': 256, 'hidden_size6': 128, 'hidden_size7': 64, 'hidden_size8': 256, 'learning_rate': 0.01, 'n_layers': 3, 'num_epochs': 45}\n",
      "0.724976483138932                                                                                                      \n",
      " 93%|██████████████████████████████████████▉   | 464/500 [63:38:01<5:23:59, 539.99s/it, best loss: -0.7905465500559148]"
     ]
    },
    {
     "name": "stderr",
     "output_type": "stream",
     "text": [
      "Global seed set to 1\n"
     ]
    },
    {
     "name": "stdout",
     "output_type": "stream",
     "text": [
      "{'batch_size': 2560, 'dropout1': 0.01, 'dropout2': 0.251, 'dropout3': 0.096, 'dropout4': 0.328, 'dropout5': 0.333, 'dropout6': 0.207, 'dropout7': 0.094, 'dropout8': 0.347, 'hidden_size1': 32, 'hidden_size2': 1024, 'hidden_size3': 48, 'hidden_size4': 1024, 'hidden_size5': 512, 'hidden_size6': 128, 'hidden_size7': 32, 'hidden_size8': 256, 'learning_rate': 0.0007, 'n_layers': 3, 'num_epochs': 25}\n",
      "0.7868609817778959                                                                                                     \n",
      " 93%|███████████████████████████████████████   | 465/500 [63:44:50<4:52:00, 500.59s/it, best loss: -0.7905465500559148]"
     ]
    },
    {
     "name": "stderr",
     "output_type": "stream",
     "text": [
      "Global seed set to 1\n"
     ]
    },
    {
     "name": "stdout",
     "output_type": "stream",
     "text": [
      "{'batch_size': 1024, 'dropout1': 0.125, 'dropout2': 0.19, 'dropout3': 0.425, 'dropout4': 0.042, 'dropout5': 0.434, 'dropout6': 0.372, 'dropout7': 0.41, 'dropout8': 0.435, 'hidden_size1': 16, 'hidden_size2': 128, 'hidden_size3': 512, 'hidden_size4': 128, 'hidden_size5': 1024, 'hidden_size6': 1024, 'hidden_size7': 96, 'hidden_size8': 256, 'learning_rate': 0.008, 'n_layers': 3, 'num_epochs': 20}\n",
      "0.7889201852460672                                                                                                     \n",
      " 93%|███████████████████████████████████████▏  | 466/500 [63:51:30<4:26:34, 470.43s/it, best loss: -0.7905465500559148]"
     ]
    },
    {
     "name": "stderr",
     "output_type": "stream",
     "text": [
      "Global seed set to 1\n"
     ]
    },
    {
     "name": "stdout",
     "output_type": "stream",
     "text": [
      "{'batch_size': 128, 'dropout1': 0.416, 'dropout2': 0.227, 'dropout3': 0.291, 'dropout4': 0.176, 'dropout5': 0.303, 'dropout6': 0.393, 'dropout7': 0.214, 'dropout8': 0.334, 'hidden_size1': 30, 'hidden_size2': 1024, 'hidden_size3': 1024, 'hidden_size4': 32, 'hidden_size5': 96, 'hidden_size6': 96, 'hidden_size7': 512, 'hidden_size8': 64, 'learning_rate': 0.009, 'n_layers': 1, 'num_epochs': 15}\n",
      "0.7872355738387221                                                                                                     \n",
      " 93%|███████████████████████████████████████▏  | 467/500 [64:06:51<5:33:08, 605.72s/it, best loss: -0.7905465500559148]"
     ]
    },
    {
     "name": "stderr",
     "output_type": "stream",
     "text": [
      "Global seed set to 1\n"
     ]
    },
    {
     "name": "stdout",
     "output_type": "stream",
     "text": [
      "{'batch_size': 2048, 'dropout1': 0.138, 'dropout2': 0.04, 'dropout3': 0.283, 'dropout4': 0.443, 'dropout5': 0.297, 'dropout6': 0.451, 'dropout7': 0.259, 'dropout8': 0.091, 'hidden_size1': 87, 'hidden_size2': 512, 'hidden_size3': 448, 'hidden_size4': 448, 'hidden_size5': 896, 'hidden_size6': 64, 'hidden_size7': 32, 'hidden_size8': 48, 'learning_rate': 0.03, 'n_layers': 3, 'num_epochs': 30}\n",
      "0.7853660268894409                                                                                                     \n",
      " 94%|███████████████████████████████████████▎  | 468/500 [64:14:58<5:03:56, 569.88s/it, best loss: -0.7905465500559148]"
     ]
    },
    {
     "name": "stderr",
     "output_type": "stream",
     "text": [
      "Global seed set to 1\n"
     ]
    },
    {
     "name": "stdout",
     "output_type": "stream",
     "text": [
      "{'batch_size': 2048, 'dropout1': 0.054, 'dropout2': 0.172, 'dropout3': 0.142, 'dropout4': 0.026, 'dropout5': 0.063, 'dropout6': 0.123, 'dropout7': 0.468, 'dropout8': 0.056, 'hidden_size1': 90, 'hidden_size2': 48, 'hidden_size3': 64, 'hidden_size4': 96, 'hidden_size5': 96, 'hidden_size6': 32, 'hidden_size7': 128, 'hidden_size8': 32, 'learning_rate': 0.0005, 'n_layers': 3, 'num_epochs': 35}\n",
      "0.7849900831468606                                                                                                     \n",
      " 94%|███████████████████████████████████████▍  | 469/500 [64:24:19<4:53:07, 567.34s/it, best loss: -0.7905465500559148]"
     ]
    },
    {
     "name": "stderr",
     "output_type": "stream",
     "text": [
      "Global seed set to 1\n"
     ]
    },
    {
     "name": "stdout",
     "output_type": "stream",
     "text": [
      "{'batch_size': 512, 'dropout1': 0.165, 'dropout2': 0.102, 'dropout3': 0.252, 'dropout4': 0.118, 'dropout5': 0.239, 'dropout6': 0.425, 'dropout7': 0.341, 'dropout8': 0.207, 'hidden_size1': 55, 'hidden_size2': 896, 'hidden_size3': 1024, 'hidden_size4': 896, 'hidden_size5': 1024, 'hidden_size6': 128, 'hidden_size7': 1024, 'hidden_size8': 256, 'learning_rate': 0.005, 'n_layers': 4, 'num_epochs': 10}\n",
      "0.7885228853415556                                                                                                     \n",
      " 94%|███████████████████████████████████████▍  | 470/500 [64:29:25<4:04:29, 488.97s/it, best loss: -0.7905465500559148]"
     ]
    },
    {
     "name": "stderr",
     "output_type": "stream",
     "text": [
      "Global seed set to 1\n"
     ]
    },
    {
     "name": "stdout",
     "output_type": "stream",
     "text": [
      "{'batch_size': 2560, 'dropout1': 0.262, 'dropout2': 0.459, 'dropout3': 0.44, 'dropout4': 0.173, 'dropout5': 0.348, 'dropout6': 0.099, 'dropout7': 0.055, 'dropout8': 0.339, 'hidden_size1': 36, 'hidden_size2': 1024, 'hidden_size3': 128, 'hidden_size4': 128, 'hidden_size5': 448, 'hidden_size6': 896, 'hidden_size7': 32, 'hidden_size8': 512, 'learning_rate': 0.0003, 'n_layers': 3, 'num_epochs': 10}\n",
      "0.7861349919057687                                                                                                     \n",
      " 94%|███████████████████████████████████████▌  | 471/500 [64:32:22<3:11:07, 395.43s/it, best loss: -0.7905465500559148]"
     ]
    },
    {
     "name": "stderr",
     "output_type": "stream",
     "text": [
      "Global seed set to 1\n"
     ]
    },
    {
     "name": "stdout",
     "output_type": "stream",
     "text": [
      "{'batch_size': 12800, 'dropout1': 0.129, 'dropout2': 0.277, 'dropout3': 0.004, 'dropout4': 0.493, 'dropout5': 0.113, 'dropout6': 0.489, 'dropout7': 0.011, 'dropout8': 0.152, 'hidden_size1': 44, 'hidden_size2': 448, 'hidden_size3': 96, 'hidden_size4': 512, 'hidden_size5': 64, 'hidden_size6': 256, 'hidden_size7': 96, 'hidden_size8': 896, 'learning_rate': 0.0008, 'n_layers': 2, 'num_epochs': 50}\n",
      "0.7635811717163667                                                                                                     \n",
      " 94%|███████████████████████████████████████▋  | 472/500 [64:45:31<3:59:33, 513.35s/it, best loss: -0.7905465500559148]"
     ]
    },
    {
     "name": "stderr",
     "output_type": "stream",
     "text": [
      "Global seed set to 1\n"
     ]
    },
    {
     "name": "stdout",
     "output_type": "stream",
     "text": [
      "{'batch_size': 2048, 'dropout1': 0.019, 'dropout2': 0.271, 'dropout3': 0.479, 'dropout4': 0.42, 'dropout5': 0.017, 'dropout6': 0.07, 'dropout7': 0.443, 'dropout8': 0.337, 'hidden_size1': 79, 'hidden_size2': 256, 'hidden_size3': 32, 'hidden_size4': 96, 'hidden_size5': 32, 'hidden_size6': 128, 'hidden_size7': 32, 'hidden_size8': 256, 'learning_rate': 0.004, 'n_layers': 3, 'num_epochs': 5}\n",
      "0.781930843132516                                                                                                      \n",
      " 95%|███████████████████████████████████████▋  | 473/500 [64:47:13<2:55:32, 390.10s/it, best loss: -0.7905465500559148]"
     ]
    },
    {
     "name": "stderr",
     "output_type": "stream",
     "text": [
      "Global seed set to 1\n"
     ]
    },
    {
     "name": "stdout",
     "output_type": "stream",
     "text": [
      "{'batch_size': 10240, 'dropout1': 0.231, 'dropout2': 0.237, 'dropout3': 0.358, 'dropout4': 0.166, 'dropout5': 0.223, 'dropout6': 0.084, 'dropout7': 0.216, 'dropout8': 0.466, 'hidden_size1': 66, 'hidden_size2': 96, 'hidden_size3': 1024, 'hidden_size4': 896, 'hidden_size5': 96, 'hidden_size6': 48, 'hidden_size7': 48, 'hidden_size8': 96, 'learning_rate': 0.01, 'n_layers': 3, 'num_epochs': 40}\n",
      "0.7859532460837977                                                                                                     \n",
      " 95%|███████████████████████████████████████▊  | 474/500 [64:57:51<3:21:12, 464.33s/it, best loss: -0.7905465500559148]"
     ]
    },
    {
     "name": "stderr",
     "output_type": "stream",
     "text": [
      "Global seed set to 1\n"
     ]
    },
    {
     "name": "stdout",
     "output_type": "stream",
     "text": [
      "{'batch_size': 256, 'dropout1': 0.157, 'dropout2': 0.347, 'dropout3': 0.116, 'dropout4': 0.152, 'dropout5': 0.433, 'dropout6': 0.252, 'dropout7': 0.008, 'dropout8': 0.082, 'hidden_size1': 57, 'hidden_size2': 1024, 'hidden_size3': 48, 'hidden_size4': 128, 'hidden_size5': 256, 'hidden_size6': 128, 'hidden_size7': 256, 'hidden_size8': 448, 'learning_rate': 0.003, 'n_layers': 1, 'num_epochs': 15}\n",
      "0.7856624819803552                                                                                                     \n",
      " 95%|███████████████████████████████████████▉  | 475/500 [65:07:03<3:24:24, 490.60s/it, best loss: -0.7905465500559148]"
     ]
    },
    {
     "name": "stderr",
     "output_type": "stream",
     "text": [
      "Global seed set to 1\n"
     ]
    },
    {
     "name": "stdout",
     "output_type": "stream",
     "text": [
      "{'batch_size': 2048, 'dropout1': 0.467, 'dropout2': 0.322, 'dropout3': 0.295, 'dropout4': 0.317, 'dropout5': 0.259, 'dropout6': 0.295, 'dropout7': 0.283, 'dropout8': 0.087, 'hidden_size1': 39, 'hidden_size2': 48, 'hidden_size3': 1024, 'hidden_size4': 1024, 'hidden_size5': 1024, 'hidden_size6': 64, 'hidden_size7': 96, 'hidden_size8': 256, 'learning_rate': 0.0001, 'n_layers': 3, 'num_epochs': 25}\n",
      "0.7863095274819398                                                                                                     \n",
      " 95%|███████████████████████████████████████▉  | 476/500 [65:13:54<3:06:39, 466.64s/it, best loss: -0.7905465500559148]"
     ]
    },
    {
     "name": "stderr",
     "output_type": "stream",
     "text": [
      "Global seed set to 1\n"
     ]
    },
    {
     "name": "stdout",
     "output_type": "stream",
     "text": [
      "{'batch_size': 4096, 'dropout1': 0.117, 'dropout2': 0.333, 'dropout3': 0.094, 'dropout4': 0.15, 'dropout5': 0.281, 'dropout6': 0.493, 'dropout7': 0.206, 'dropout8': 0.446, 'hidden_size1': 12, 'hidden_size2': 128, 'hidden_size3': 512, 'hidden_size4': 32, 'hidden_size5': 96, 'hidden_size6': 128, 'hidden_size7': 1024, 'hidden_size8': 256, 'learning_rate': 0.0009, 'n_layers': 3, 'num_epochs': 10}\n",
      "0.789640580312447                                                                                                      \n",
      " 95%|████████████████████████████████████████  | 477/500 [65:16:50<2:25:30, 379.57s/it, best loss: -0.7905465500559148]"
     ]
    },
    {
     "name": "stderr",
     "output_type": "stream",
     "text": [
      "Global seed set to 1\n"
     ]
    },
    {
     "name": "stdout",
     "output_type": "stream",
     "text": [
      "{'batch_size': 2048, 'dropout1': 0.488, 'dropout2': 0.185, 'dropout3': 0.174, 'dropout4': 0.019, 'dropout5': 0.148, 'dropout6': 0.35, 'dropout7': 0.405, 'dropout8': 0.223, 'hidden_size1': 10, 'hidden_size2': 1024, 'hidden_size3': 64, 'hidden_size4': 896, 'hidden_size5': 512, 'hidden_size6': 128, 'hidden_size7': 448, 'hidden_size8': 48, 'learning_rate': 0.008, 'n_layers': 3, 'num_epochs': 10}\n",
      "0.7892345982887254                                                                                                     \n",
      " 96%|████████████████████████████████████████▏ | 478/500 [65:19:49<1:57:07, 319.44s/it, best loss: -0.7905465500559148]"
     ]
    },
    {
     "name": "stderr",
     "output_type": "stream",
     "text": [
      "Global seed set to 1\n"
     ]
    },
    {
     "name": "stdout",
     "output_type": "stream",
     "text": [
      "{'batch_size': 2560, 'dropout1': 0.345, 'dropout2': 0.263, 'dropout3': 0.178, 'dropout4': 0.366, 'dropout5': 0.315, 'dropout6': 0.335, 'dropout7': 0.255, 'dropout8': 0.22, 'hidden_size1': 5, 'hidden_size2': 512, 'hidden_size3': 896, 'hidden_size4': 448, 'hidden_size5': 96, 'hidden_size6': 96, 'hidden_size7': 64, 'hidden_size8': 64, 'learning_rate': 0.009, 'n_layers': 4, 'num_epochs': 45}\n",
      "0.7615871241919272                                                                                                     \n",
      " 96%|████████████████████████████████████████▏ | 479/500 [65:32:02<2:35:14, 443.54s/it, best loss: -0.7905465500559148]"
     ]
    },
    {
     "name": "stderr",
     "output_type": "stream",
     "text": [
      "Global seed set to 1\n"
     ]
    },
    {
     "name": "stdout",
     "output_type": "stream",
     "text": [
      "{'batch_size': 1024, 'dropout1': 0.2, 'dropout2': 0.489, 'dropout3': 0.49, 'dropout4': 0.422, 'dropout5': 0.491, 'dropout6': 0.293, 'dropout7': 0.253, 'dropout8': 0.104, 'hidden_size1': 17, 'hidden_size2': 1024, 'hidden_size3': 448, 'hidden_size4': 128, 'hidden_size5': 896, 'hidden_size6': 1024, 'hidden_size7': 32, 'hidden_size8': 256, 'learning_rate': 0.0003, 'n_layers': 3, 'num_epochs': 10}\n",
      "0.787096833038951                                                                                                      \n",
      " 96%|████████████████████████████████████████▎ | 480/500 [65:35:35<2:04:48, 374.42s/it, best loss: -0.7905465500559148]"
     ]
    },
    {
     "name": "stderr",
     "output_type": "stream",
     "text": [
      "Global seed set to 1\n"
     ]
    },
    {
     "name": "stdout",
     "output_type": "stream",
     "text": [
      "{'batch_size': 2048, 'dropout1': 0.361, 'dropout2': 0.339, 'dropout3': 0.409, 'dropout4': 0.356, 'dropout5': 0.244, 'dropout6': 0.219, 'dropout7': 0.089, 'dropout8': 0.492, 'hidden_size1': 28, 'hidden_size2': 896, 'hidden_size3': 256, 'hidden_size4': 512, 'hidden_size5': 1024, 'hidden_size6': 32, 'hidden_size7': 512, 'hidden_size8': 512, 'learning_rate': 0.0002, 'n_layers': 2, 'num_epochs': 20}\n",
      "0.7901025518610478                                                                                                     \n",
      " 96%|████████████████████████████████████████▍ | 481/500 [65:41:01<1:53:58, 359.90s/it, best loss: -0.7905465500559148]"
     ]
    },
    {
     "name": "stderr",
     "output_type": "stream",
     "text": [
      "Global seed set to 1\n"
     ]
    },
    {
     "name": "stdout",
     "output_type": "stream",
     "text": [
      "{'batch_size': 128, 'dropout1': 0.082, 'dropout2': 0.392, 'dropout3': 0.497, 'dropout4': 0.374, 'dropout5': 0.394, 'dropout6': 0.247, 'dropout7': 0.476, 'dropout8': 0.315, 'hidden_size1': 61, 'hidden_size2': 448, 'hidden_size3': 1024, 'hidden_size4': 96, 'hidden_size5': 448, 'hidden_size6': 64, 'hidden_size7': 96, 'hidden_size8': 256, 'learning_rate': 0.0008, 'n_layers': 3, 'num_epochs': 10}\n",
      "0.7855554203979285                                                                                                     \n",
      " 96%|████████████████████████████████████████▍ | 482/500 [65:53:40<2:23:50, 479.50s/it, best loss: -0.7905465500559148]"
     ]
    },
    {
     "name": "stderr",
     "output_type": "stream",
     "text": [
      "Global seed set to 1\n"
     ]
    },
    {
     "name": "stdout",
     "output_type": "stream",
     "text": [
      "{'batch_size': 2048, 'dropout1': 0.098, 'dropout2': 0.441, 'dropout3': 0.495, 'dropout4': 0.101, 'dropout5': 0.129, 'dropout6': 0.181, 'dropout7': 0.321, 'dropout8': 0.414, 'hidden_size1': 63, 'hidden_size2': 256, 'hidden_size3': 128, 'hidden_size4': 896, 'hidden_size5': 64, 'hidden_size6': 128, 'hidden_size7': 32, 'hidden_size8': 32, 'learning_rate': 0.02, 'n_layers': 3, 'num_epochs': 30}\n",
      "0.7892305211980892                                                                                                     \n",
      " 97%|████████████████████████████████████████▌ | 483/500 [66:01:47<2:16:28, 481.68s/it, best loss: -0.7905465500559148]"
     ]
    },
    {
     "name": "stderr",
     "output_type": "stream",
     "text": [
      "Global seed set to 1\n"
     ]
    },
    {
     "name": "stdout",
     "output_type": "stream",
     "text": [
      "{'batch_size': 512, 'dropout1': 0.311, 'dropout2': 0.428, 'dropout3': 0.399, 'dropout4': 0.472, 'dropout5': 0.127, 'dropout6': 0.361, 'dropout7': 0.208, 'dropout8': 0.198, 'hidden_size1': 91, 'hidden_size2': 32, 'hidden_size3': 896, 'hidden_size4': 1024, 'hidden_size5': 96, 'hidden_size6': 896, 'hidden_size7': 128, 'hidden_size8': 896, 'learning_rate': 0.002, 'n_layers': 1, 'num_epochs': 15}\n",
      "0.7886520139614557                                                                                                     \n",
      " 97%|████████████████████████████████████████▋ | 484/500 [66:07:54<1:59:17, 447.32s/it, best loss: -0.7905465500559148]"
     ]
    },
    {
     "name": "stderr",
     "output_type": "stream",
     "text": [
      "Global seed set to 1\n"
     ]
    },
    {
     "name": "stdout",
     "output_type": "stream",
     "text": [
      "{'batch_size': 2560, 'dropout1': 0.171, 'dropout2': 0.122, 'dropout3': 0.217, 'dropout4': 0.212, 'dropout5': 0.283, 'dropout6': 0.106, 'dropout7': 0.136, 'dropout8': 0.294, 'hidden_size1': 49, 'hidden_size2': 1024, 'hidden_size3': 96, 'hidden_size4': 32, 'hidden_size5': 32, 'hidden_size6': 256, 'hidden_size7': 1024, 'hidden_size8': 448, 'learning_rate': 0.0006, 'n_layers': 3, 'num_epochs': 10}\n",
      "0.789194629372844                                                                                                      \n",
      " 97%|████████████████████████████████████████▋ | 485/500 [66:10:51<1:31:31, 366.12s/it, best loss: -0.7905465500559148]"
     ]
    },
    {
     "name": "stderr",
     "output_type": "stream",
     "text": [
      "Global seed set to 1\n"
     ]
    },
    {
     "name": "stdout",
     "output_type": "stream",
     "text": [
      "{'batch_size': 2048, 'dropout1': 0.495, 'dropout2': 0.228, 'dropout3': 0.167, 'dropout4': 0.102, 'dropout5': 0.233, 'dropout6': 0.39, 'dropout7': 0.117, 'dropout8': 0.482, 'hidden_size1': 7, 'hidden_size2': 96, 'hidden_size3': 256, 'hidden_size4': 128, 'hidden_size5': 256, 'hidden_size6': 128, 'hidden_size7': 32, 'hidden_size8': 256, 'learning_rate': 0.007, 'n_layers': 3, 'num_epochs': 35}\n",
      "0.7796859076950582                                                                                                     \n",
      " 97%|████████████████████████████████████████▊ | 486/500 [66:20:13<1:39:09, 424.95s/it, best loss: -0.7905465500559148]"
     ]
    },
    {
     "name": "stderr",
     "output_type": "stream",
     "text": [
      "Global seed set to 1\n"
     ]
    },
    {
     "name": "stdout",
     "output_type": "stream",
     "text": [
      "{'batch_size': 12800, 'dropout1': 0.24, 'dropout2': 0.26, 'dropout3': 0.105, 'dropout4': 0.202, 'dropout5': 0.149, 'dropout6': 0.165, 'dropout7': 0.047, 'dropout8': 0.05, 'hidden_size1': 74, 'hidden_size2': 32, 'hidden_size3': 32, 'hidden_size4': 448, 'hidden_size5': 1024, 'hidden_size6': 128, 'hidden_size7': 96, 'hidden_size8': 96, 'learning_rate': 0.0003, 'n_layers': 3, 'num_epochs': 50}\n",
      "0.786330348794133                                                                                                      \n",
      " 97%|████████████████████████████████████████▉ | 487/500 [66:33:19<1:55:33, 533.37s/it, best loss: -0.7905465500559148]"
     ]
    },
    {
     "name": "stderr",
     "output_type": "stream",
     "text": [
      "Global seed set to 1\n"
     ]
    },
    {
     "name": "stdout",
     "output_type": "stream",
     "text": [
      "{'batch_size': 10240, 'dropout1': 0.393, 'dropout2': 0.217, 'dropout3': 0.18, 'dropout4': 0.441, 'dropout5': 0.041, 'dropout6': 0.435, 'dropout7': 0.116, 'dropout8': 0.056, 'hidden_size1': 95, 'hidden_size2': 32, 'hidden_size3': 1024, 'hidden_size4': 896, 'hidden_size5': 512, 'hidden_size6': 48, 'hidden_size7': 48, 'hidden_size8': 256, 'learning_rate': 0.006, 'n_layers': 4, 'num_epochs': 10}\n",
      "0.7877983738239663                                                                                                     \n",
      " 98%|████████████████████████████████████████▉ | 488/500 [66:36:18<1:25:22, 426.91s/it, best loss: -0.7905465500559148]"
     ]
    },
    {
     "name": "stderr",
     "output_type": "stream",
     "text": [
      "Global seed set to 1\n"
     ]
    },
    {
     "name": "stdout",
     "output_type": "stream",
     "text": [
      "{'batch_size': 256, 'dropout1': 0.383, 'dropout2': 0.162, 'dropout3': 0.091, 'dropout4': 0.431, 'dropout5': 0.397, 'dropout6': 0.475, 'dropout7': 0.2, 'dropout8': 0.484, 'hidden_size1': 37, 'hidden_size2': 48, 'hidden_size3': 512, 'hidden_size4': 256, 'hidden_size5': 96, 'hidden_size6': 64, 'hidden_size7': 32, 'hidden_size8': 256, 'learning_rate': 0.01, 'n_layers': 3, 'num_epochs': 5}\n",
      "0.78788376902303                                                                                                       \n",
      " 98%|█████████████████████████████████████████ | 489/500 [66:40:11<1:07:36, 368.73s/it, best loss: -0.7905465500559148]"
     ]
    },
    {
     "name": "stderr",
     "output_type": "stream",
     "text": [
      "Global seed set to 1\n"
     ]
    },
    {
     "name": "stdout",
     "output_type": "stream",
     "text": [
      "{'batch_size': 2048, 'dropout1': 0.158, 'dropout2': 0.316, 'dropout3': 0.458, 'dropout4': 0.238, 'dropout5': 0.06, 'dropout6': 0.127, 'dropout7': 0.141, 'dropout8': 0.151, 'hidden_size1': 53, 'hidden_size2': 128, 'hidden_size3': 48, 'hidden_size4': 128, 'hidden_size5': 896, 'hidden_size6': 128, 'hidden_size7': 256, 'hidden_size8': 64, 'learning_rate': 0.009, 'n_layers': 2, 'num_epochs': 10}\n",
      "0.7845788158207505                                                                                                     \n",
      " 98%|███████████████████████████████████████████ | 490/500 [66:43:04<51:41, 310.20s/it, best loss: -0.7905465500559148]"
     ]
    },
    {
     "name": "stderr",
     "output_type": "stream",
     "text": [
      "Global seed set to 1\n"
     ]
    },
    {
     "name": "stdout",
     "output_type": "stream",
     "text": [
      "{'batch_size': 2048, 'dropout1': 0.421, 'dropout2': 0.171, 'dropout3': 0.38, 'dropout4': 0.36, 'dropout5': 0.269, 'dropout6': 0.005, 'dropout7': 0.313, 'dropout8': 0.455, 'hidden_size1': 11, 'hidden_size2': 1024, 'hidden_size3': 896, 'hidden_size4': 512, 'hidden_size5': 96, 'hidden_size6': 128, 'hidden_size7': 96, 'hidden_size8': 256, 'learning_rate': 0.0007, 'n_layers': 3, 'num_epochs': 40}\n",
      "0.7851524951952209                                                                                                     \n",
      " 98%|█████████████████████████████████████████▏| 491/500 [66:53:38<1:01:06, 407.37s/it, best loss: -0.7905465500559148]"
     ]
    },
    {
     "name": "stderr",
     "output_type": "stream",
     "text": [
      "Global seed set to 1\n"
     ]
    },
    {
     "name": "stdout",
     "output_type": "stream",
     "text": [
      "{'batch_size': 4096, 'dropout1': 0.299, 'dropout2': 0.11, 'dropout3': 0.015, 'dropout4': 0.095, 'dropout5': 0.485, 'dropout6': 0.446, 'dropout7': 0.244, 'dropout8': 0.384, 'hidden_size1': 94, 'hidden_size2': 512, 'hidden_size3': 256, 'hidden_size4': 96, 'hidden_size5': 1024, 'hidden_size6': 96, 'hidden_size7': 1024, 'hidden_size8': 48, 'learning_rate': 0.008, 'n_layers': 3, 'num_epochs': 15}\n",
      "0.7787253533499444                                                                                                     \n",
      " 98%|███████████████████████████████████████████▎| 492/500 [66:57:51<48:06, 360.86s/it, best loss: -0.7905465500559148]"
     ]
    },
    {
     "name": "stderr",
     "output_type": "stream",
     "text": [
      "Global seed set to 1\n"
     ]
    },
    {
     "name": "stdout",
     "output_type": "stream",
     "text": [
      "{'batch_size': 2560, 'dropout1': 0.007, 'dropout2': 0.224, 'dropout3': 0.12, 'dropout4': 0.048, 'dropout5': 0.011, 'dropout6': 0.369, 'dropout7': 0.433, 'dropout8': 0.135, 'hidden_size1': 97, 'hidden_size2': 32, 'hidden_size3': 1024, 'hidden_size4': 896, 'hidden_size5': 448, 'hidden_size6': 1024, 'hidden_size7': 448, 'hidden_size8': 512, 'learning_rate': 0.03, 'n_layers': 3, 'num_epochs': 25}\n",
      "0.7661031571863519                                                                                                     \n",
      " 99%|███████████████████████████████████████████▍| 493/500 [67:04:36<43:38, 374.08s/it, best loss: -0.7905465500559148]"
     ]
    },
    {
     "name": "stderr",
     "output_type": "stream",
     "text": [
      "Global seed set to 1\n"
     ]
    },
    {
     "name": "stdout",
     "output_type": "stream",
     "text": [
      "{'batch_size': 128, 'dropout1': 0.072, 'dropout2': 0.412, 'dropout3': 0.286, 'dropout4': 0.078, 'dropout5': 0.134, 'dropout6': 0.377, 'dropout7': 0.499, 'dropout8': 0.067, 'hidden_size1': 60, 'hidden_size2': 896, 'hidden_size3': 448, 'hidden_size4': 256, 'hidden_size5': 48, 'hidden_size6': 128, 'hidden_size7': 32, 'hidden_size8': 32, 'learning_rate': 0.0003, 'n_layers': 1, 'num_epochs': 10}\n",
      "0.7846505075044636                                                                                                     \n",
      " 99%|███████████████████████████████████████████▍| 494/500 [67:15:04<45:01, 450.32s/it, best loss: -0.7905465500559148]"
     ]
    },
    {
     "name": "stderr",
     "output_type": "stream",
     "text": [
      "Global seed set to 1\n"
     ]
    },
    {
     "name": "stdout",
     "output_type": "stream",
     "text": [
      "{'batch_size': 1024, 'dropout1': 0.263, 'dropout2': 0.104, 'dropout3': 0.235, 'dropout4': 0.347, 'dropout5': 0.101, 'dropout6': 0.122, 'dropout7': 0.181, 'dropout8': 0.171, 'hidden_size1': 13, 'hidden_size2': 1024, 'hidden_size3': 896, 'hidden_size4': 1024, 'hidden_size5': 64, 'hidden_size6': 32, 'hidden_size7': 64, 'hidden_size8': 256, 'learning_rate': 0.0005, 'n_layers': 3, 'num_epochs': 45}\n",
      "0.7706734514446175                                                                                                     \n",
      " 99%|███████████████████████████████████████████▌| 495/500 [67:29:37<48:05, 577.05s/it, best loss: -0.7905465500559148]"
     ]
    },
    {
     "name": "stderr",
     "output_type": "stream",
     "text": [
      "Global seed set to 1\n"
     ]
    },
    {
     "name": "stdout",
     "output_type": "stream",
     "text": [
      "{'batch_size': 2048, 'dropout1': 0.367, 'dropout2': 0.154, 'dropout3': 0.008, 'dropout4': 0.217, 'dropout5': 0.488, 'dropout6': 0.362, 'dropout7': 0.245, 'dropout8': 0.221, 'hidden_size1': 42, 'hidden_size2': 32, 'hidden_size3': 256, 'hidden_size4': 128, 'hidden_size5': 96, 'hidden_size6': 64, 'hidden_size7': 512, 'hidden_size8': 896, 'learning_rate': 0.0008, 'n_layers': 3, 'num_epochs': 10}\n",
      "0.7838039485191528                                                                                                     \n",
      " 99%|███████████████████████████████████████████▋| 496/500 [67:32:35<30:29, 457.45s/it, best loss: -0.7905465500559148]"
     ]
    },
    {
     "name": "stderr",
     "output_type": "stream",
     "text": [
      "Global seed set to 1\n"
     ]
    },
    {
     "name": "stdout",
     "output_type": "stream",
     "text": [
      "{'batch_size': 2048, 'dropout1': 0.291, 'dropout2': 0.396, 'dropout3': 0.242, 'dropout4': 0.245, 'dropout5': 0.246, 'dropout6': 0.041, 'dropout7': 0.243, 'dropout8': 0.345, 'hidden_size1': 65, 'hidden_size2': 256, 'hidden_size3': 64, 'hidden_size4': 32, 'hidden_size5': 32, 'hidden_size6': 256, 'hidden_size7': 96, 'hidden_size8': 448, 'learning_rate': 0.01, 'n_layers': 4, 'num_epochs': 20}\n",
      "0.7890022220452952                                                                                                     \n",
      " 99%|███████████████████████████████████████████▋| 497/500 [67:38:13<21:05, 421.75s/it, best loss: -0.7905465500559148]"
     ]
    },
    {
     "name": "stderr",
     "output_type": "stream",
     "text": [
      "Global seed set to 1\n"
     ]
    },
    {
     "name": "stdout",
     "output_type": "stream",
     "text": [
      "{'batch_size': 512, 'dropout1': 0.147, 'dropout2': 0.324, 'dropout3': 0.349, 'dropout4': 0.122, 'dropout5': 0.005, 'dropout6': 0.009, 'dropout7': 0.091, 'dropout8': 0.233, 'hidden_size1': 20, 'hidden_size2': 448, 'hidden_size3': 1024, 'hidden_size4': 256, 'hidden_size5': 256, 'hidden_size6': 896, 'hidden_size7': 32, 'hidden_size8': 256, 'learning_rate': 0.006, 'n_layers': 3, 'num_epochs': 30}\n",
      "0.7853230636609936                                                                                                     \n",
      "100%|███████████████████████████████████████████▊| 498/500 [67:51:50<18:00, 540.31s/it, best loss: -0.7905465500559148]"
     ]
    },
    {
     "name": "stderr",
     "output_type": "stream",
     "text": [
      "Global seed set to 1\n"
     ]
    },
    {
     "name": "stdout",
     "output_type": "stream",
     "text": [
      "{'batch_size': 2560, 'dropout1': 0.041, 'dropout2': 0.188, 'dropout3': 0.324, 'dropout4': 0.313, 'dropout5': 0.006, 'dropout6': 0.258, 'dropout7': 0.177, 'dropout8': 0.254, 'hidden_size1': 54, 'hidden_size2': 96, 'hidden_size3': 128, 'hidden_size4': 896, 'hidden_size5': 1024, 'hidden_size6': 128, 'hidden_size7': 1024, 'hidden_size8': 96, 'learning_rate': 0.004, 'n_layers': 2, 'num_epochs': 10}\n",
      "0.7887963299870164                                                                                                     \n",
      "100%|███████████████████████████████████████████▉| 499/500 [67:54:47<07:11, 431.23s/it, best loss: -0.7905465500559148]"
     ]
    },
    {
     "name": "stderr",
     "output_type": "stream",
     "text": [
      "Global seed set to 1\n"
     ]
    },
    {
     "name": "stdout",
     "output_type": "stream",
     "text": [
      "{'batch_size': 2048, 'dropout1': 0.366, 'dropout2': 0.131, 'dropout3': 0.095, 'dropout4': 0.476, 'dropout5': 0.174, 'dropout6': 0.438, 'dropout7': 0.481, 'dropout8': 0.436, 'hidden_size1': 73, 'hidden_size2': 1024, 'hidden_size3': 896, 'hidden_size4': 256, 'hidden_size5': 48, 'hidden_size6': 128, 'hidden_size7': 128, 'hidden_size8': 256, 'learning_rate': 0.003, 'n_layers': 3, 'num_epochs': 15}\n",
      "0.7787840405022484                                                                                                     \n",
      "100%|████████████████████████████████████████████| 500/500 [67:59:06<00:00, 489.49s/it, best loss: -0.7905465500559148]\n",
      "{'batch_size': 4, 'dropout1': 53, 'dropout2': 332, 'dropout3': 238, 'dropout4': 41, 'dropout5': 365, 'dropout6': 470, 'dropout7': 12, 'dropout8': 299, 'hidden_size1': 79, 'hidden_size2': 9, 'hidden_size3': 9, 'hidden_size4': 2, 'hidden_size5': 3, 'hidden_size6': 4, 'hidden_size7': 3, 'hidden_size8': 9, 'learning_rate': 7, 'n_layers': 2, 'num_epochs': 1}\n"
     ]
    }
   ],
   "source": [
    "best_param = optimize(space,\n",
    "                      evals = n,\n",
    "                      optimizer=tpe.suggest,\n",
    "                      cores = cores,\n",
    "                      trials = trials, random_state=1234, \n",
    "                      n_startup_jobs=10)"
   ]
  },
  {
   "cell_type": "code",
   "execution_count": 25,
   "metadata": {},
   "outputs": [],
   "source": [
    "pd.DataFrame(data=loss_dict).to_csv(log_file, index=False)"
   ]
  },
  {
   "cell_type": "code",
   "execution_count": null,
   "metadata": {},
   "outputs": [],
   "source": []
  }
 ],
 "metadata": {
  "kernelspec": {
   "display_name": "Python 3",
   "language": "python",
   "name": "python3"
  },
  "language_info": {
   "codemirror_mode": {
    "name": "ipython",
    "version": 3
   },
   "file_extension": ".py",
   "mimetype": "text/x-python",
   "name": "python",
   "nbconvert_exporter": "python",
   "pygments_lexer": "ipython3",
   "version": "3.6.3"
  }
 },
 "nbformat": 4,
 "nbformat_minor": 4
}
