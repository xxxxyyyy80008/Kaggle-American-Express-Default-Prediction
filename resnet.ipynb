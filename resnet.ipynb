{
 "cells": [
  {
   "cell_type": "code",
   "execution_count": 1,
   "id": "d6e0a7a0",
   "metadata": {},
   "outputs": [
    {
     "name": "stderr",
     "output_type": "stream",
     "text": [
      "Global seed set to 1234\n",
      "Global seed set to 1234\n"
     ]
    },
    {
     "data": {
      "text/plain": [
       "1234"
      ]
     },
     "execution_count": 1,
     "metadata": {},
     "output_type": "execute_result"
    }
   ],
   "source": [
    "import pandas as pd\n",
    "import numpy as np\n",
    "import os\n",
    "from pathlib import Path\n",
    "\n",
    "from datetime import datetime, timedelta\n",
    "import time\n",
    "\n",
    "import gc\n",
    "import copy\n",
    "\n",
    "import pyarrow.parquet as pq\n",
    "import pyarrow as pa\n",
    "\n",
    " \n",
    "from dateutil.relativedelta import relativedelta\n",
    "from sklearn.preprocessing import StandardScaler, MinMaxScaler\n",
    "\n",
    "from sklearn.metrics import mean_squared_error, roc_auc_score\n",
    "from sklearn.model_selection import StratifiedKFold, KFold\n",
    "\n",
    "pd.options.display.max_rows = 100\n",
    "pd.options.display.max_columns = 100\n",
    "\n",
    "import warnings\n",
    "warnings.filterwarnings(\"ignore\")\n",
    "\n",
    "import pytorch_lightning as pl\n",
    "random_seed=1234\n",
    "pl.seed_everything(random_seed)\n",
    "\n",
    "\n",
    "\n",
    "import torch\n",
    "from torch import nn\n",
    "import numpy as np\n",
    "\n",
    "\n",
    "import torch\n",
    "from torch.utils.data import (Dataset, DataLoader)\n",
    "\n",
    "\n",
    "#basic libs\n",
    "\n",
    "import pandas as pd\n",
    "import numpy as np\n",
    "import os\n",
    "from pathlib import Path\n",
    "\n",
    "from datetime import datetime, timedelta\n",
    "import time\n",
    "from dateutil.relativedelta import relativedelta\n",
    "\n",
    "import gc\n",
    "import copy\n",
    "\n",
    "#additional data processing\n",
    "\n",
    "import pyarrow.parquet as pq\n",
    "import pyarrow as pa\n",
    "\n",
    "from sklearn.preprocessing import StandardScaler, MinMaxScaler\n",
    "\n",
    "\n",
    "#visualization\n",
    "import seaborn as sns\n",
    "import matplotlib.pyplot as plt\n",
    "\n",
    "#load images\n",
    "import matplotlib.image as mpimg\n",
    "import PIL\n",
    "from PIL import Image\n",
    "\n",
    "\n",
    "\n",
    "\n",
    "#settings\n",
    "pd.options.display.max_rows = 100\n",
    "pd.options.display.max_columns = 100\n",
    "\n",
    "Image.MAX_IMAGE_PIXELS = None\n",
    "\n",
    "import warnings\n",
    "warnings.filterwarnings(\"ignore\")\n",
    "\n",
    "import pytorch_lightning as pl\n",
    "random_seed=1234\n",
    "pl.seed_everything(random_seed)"
   ]
  },
  {
   "cell_type": "code",
   "execution_count": 2,
   "id": "73b9d12b",
   "metadata": {},
   "outputs": [],
   "source": [
    "import torch\n",
    "import torch.nn as nn\n",
    "import torch.optim as optim\n",
    "from torch.optim import lr_scheduler\n",
    "import torch.backends.cudnn as cudnn\n",
    "import numpy as np\n",
    "import torchvision\n",
    "from torchvision import datasets, models, transforms\n",
    "import matplotlib.pyplot as plt"
   ]
  },
  {
   "cell_type": "code",
   "execution_count": 3,
   "id": "20cd7c7d",
   "metadata": {},
   "outputs": [],
   "source": [
    "folder = r\".\"\n",
    "# folder = '/kaggle/input/mayo-clinic-strip-ai'\n",
    "train_df = pd.read_csv(f'{folder}/train.csv')\n",
    "other_df = pd.read_csv(f'{folder}//other.csv')"
   ]
  },
  {
   "cell_type": "code",
   "execution_count": 4,
   "id": "98fb52b1",
   "metadata": {},
   "outputs": [],
   "source": [
    "other_df['label'] = 'Other'"
   ]
  },
  {
   "cell_type": "code",
   "execution_count": 5,
   "id": "52f8a5dc",
   "metadata": {},
   "outputs": [
    {
     "data": {
      "text/plain": [
       "(1150, 3)"
      ]
     },
     "execution_count": 5,
     "metadata": {},
     "output_type": "execute_result"
    }
   ],
   "source": [
    "df = pd.concat([train_df[['image_id', 'patient_id', 'label']], \n",
    "                other_df[['image_id', 'patient_id', 'label']]], axis=0)\n",
    "df.shape"
   ]
  },
  {
   "cell_type": "code",
   "execution_count": 6,
   "id": "9ce1d587",
   "metadata": {},
   "outputs": [],
   "source": [
    "label_dict ={'CE':0, 'LAA':1, 'Other':2}\n",
    "df['target']=df['label'].map(label_dict)"
   ]
  },
  {
   "cell_type": "code",
   "execution_count": 7,
   "id": "7b735773",
   "metadata": {},
   "outputs": [],
   "source": [
    "img_folder = 'images'"
   ]
  },
  {
   "cell_type": "code",
   "execution_count": 8,
   "id": "bf112bb8",
   "metadata": {},
   "outputs": [],
   "source": [
    "import torch\n",
    "from torch.utils.data import (Dataset, DataLoader)\n",
    "  \n",
    "\n",
    "class IMG_Data(Dataset):\n",
    "    \n",
    "    def __init__(self, root, data): \n",
    "        \n",
    "\n",
    "        self.data = data\n",
    "        self.root = root #image folder\n",
    "        \n",
    "    def __len__(self):\n",
    "        return len(self.data)\n",
    "\n",
    "    def __getitem__(self, idx):\n",
    "        \n",
    "        image_id = self.data.iloc[idx]['image_id']\n",
    "        img_path = f'{self.root}/{image_id}.png'\n",
    "        y = self.data.iloc[idx]['target']\n",
    "        if Path(img_path).exists():            \n",
    "\n",
    "            img = Image.open(img_path)\n",
    "            img, mask = self.mask_median(np.array(img))\n",
    "            img = self.prune_image_rows_cols(img, mask)\n",
    "            img = Image.fromarray(np.uint8(img))\n",
    "            if (img.height> img.width):\n",
    "                img = img.transpose(PIL.Image.ROTATE_90)\n",
    "            ratio = img.height/img.width\n",
    "            img = img.resize((512, int(512*ratio)), resample=Image.LANCZOS, reducing_gap=10)\n",
    "            img = transforms.functional.center_crop(img, 512)\n",
    "            img = transforms.functional.gaussian_blur(img, kernel_size=(5, 9), sigma=(0.1, 5))\n",
    "\n",
    "            img = np.asarray(img)\n",
    "\n",
    "            img = img.transpose((2,0,1))\n",
    "            img = img/255\n",
    "            img = transforms.functional.normalize(torch.FloatTensor(img), [0.485, 0.456, 0.406], [0.229, 0.224, 0.225])\n",
    "            \n",
    "            \n",
    "        else:\n",
    "            img = np.zeros((3, 512, 512), np.uint8)\n",
    "            \n",
    "        x = torch.FloatTensor(img)\n",
    "        \n",
    "        return x, y\n",
    "    \n",
    "    #https://www.kaggle.com/code/jirkaborovec/bloodclots-eda-load-wsi-prune-background?scriptVersionId=101797769\n",
    "    @staticmethod\n",
    "    def prune_image_rows_cols(im, mask, thr=0.990):\n",
    "        # delete empty columns\n",
    "        for l in reversed(range(im.shape[1])):\n",
    "            if (np.sum(mask[:, l]) / float(mask.shape[0])) > thr:\n",
    "                im = np.delete(im, l, 1)\n",
    "        # delete empty rows\n",
    "        for l in reversed(range(im.shape[0])):\n",
    "            if (np.sum(mask[l, :]) / float(mask.shape[1])) > thr:\n",
    "                im = np.delete(im, l, 0)\n",
    "        return im\n",
    "\n",
    "    @staticmethod\n",
    "    def mask_median(im, val=255):\n",
    "        masks = [None] * 3\n",
    "        for c in range(3):\n",
    "            masks[c] = im[..., c] >= np.median(im[:, :, c]) - 5\n",
    "        mask = np.logical_and(*masks)\n",
    "        im[mask, :] = val\n",
    "        return im, mask\n",
    "    \n",
    "\n",
    "def load_data(df, batch_size, n_workers=0, shuffle=False):\n",
    "    data = IMG_Data(img_folder, df)\n",
    "    \n",
    "    loader = DataLoader(data, batch_size=batch_size, num_workers=n_workers, shuffle=shuffle)\n",
    "    \n",
    "    return loader"
   ]
  },
  {
   "cell_type": "code",
   "execution_count": 9,
   "id": "5ac3170e",
   "metadata": {},
   "outputs": [],
   "source": [
    "######################################################################\n",
    "# Training the model\n",
    "# ------------------\n",
    "#\n",
    "# Now, let's write a general function to train a model. Here, we will\n",
    "# illustrate:\n",
    "#\n",
    "# -  Scheduling the learning rate\n",
    "# -  Saving the best model\n",
    "#\n",
    "# In the following, parameter ``scheduler`` is an LR scheduler object from\n",
    "# ``torch.optim.lr_scheduler``.\n",
    "\n",
    "\n",
    "\n",
    "def train_model(model, criterion, optimizer, scheduler, num_epochs=25):\n",
    "    since = time.time()\n",
    "\n",
    "    best_model_wts = copy.deepcopy(model.state_dict())\n",
    "    best_acc = 0.0\n",
    "\n",
    "    for epoch in range(num_epochs):\n",
    "        print(f'Epoch {epoch}/{num_epochs - 1}')\n",
    "        print('-' * 10)\n",
    "\n",
    "        # Each epoch has a training and validation phase\n",
    "        for phase in ['train', 'val']:\n",
    "            if phase == 'train':\n",
    "                model.train()  # Set model to training mode\n",
    "            else:\n",
    "                model.eval()   # Set model to evaluate mode\n",
    "\n",
    "            running_loss = 0.0\n",
    "            running_corrects = 0\n",
    "\n",
    "            # Iterate over data.\n",
    "            for inputs, labels in dataloaders[phase]:\n",
    "                inputs = inputs.to(device)\n",
    "                labels = labels.to(device)\n",
    "\n",
    "                # zero the parameter gradients\n",
    "                optimizer.zero_grad()\n",
    "\n",
    "                # forward\n",
    "                # track history if only in train\n",
    "                with torch.set_grad_enabled(phase == 'train'):\n",
    "                    outputs = model(inputs)\n",
    "                    _, preds = torch.max(outputs, 1)\n",
    "                    loss = criterion(outputs, labels)\n",
    "\n",
    "                    # backward + optimize only if in training phase\n",
    "                    if phase == 'train':\n",
    "                        loss.backward()\n",
    "                        optimizer.step()\n",
    "\n",
    "                # statistics\n",
    "                running_loss += loss.item() * inputs.size(0)\n",
    "                running_corrects += torch.sum(preds == labels.data)\n",
    "            if phase == 'train':\n",
    "                scheduler.step()\n",
    "\n",
    "            epoch_loss = running_loss / dataset_sizes[phase]\n",
    "            epoch_acc = running_corrects.double() / dataset_sizes[phase]\n",
    "\n",
    "            print(f'{phase} Loss: {epoch_loss:.4f} Acc: {epoch_acc:.4f}')\n",
    "\n",
    "            # deep copy the model\n",
    "            if phase == 'val' and epoch_acc > best_acc:\n",
    "                best_acc = epoch_acc\n",
    "                best_model_wts = copy.deepcopy(model.state_dict())\n",
    "\n",
    "        print()\n",
    "\n",
    "    time_elapsed = time.time() - since\n",
    "    print(f'Training complete in {time_elapsed // 60:.0f}m {time_elapsed % 60:.0f}s')\n",
    "    print(f'Best val Acc: {best_acc:4f}')\n",
    "\n",
    "    # load best model weights\n",
    "    model.load_state_dict(best_model_wts)\n",
    "    return model\n"
   ]
  },
  {
   "cell_type": "code",
   "execution_count": 10,
   "id": "e579085d",
   "metadata": {},
   "outputs": [],
   "source": [
    "train_loader = load_data(df.head(20), 4)"
   ]
  },
  {
   "cell_type": "code",
   "execution_count": 11,
   "id": "a5393ce9",
   "metadata": {},
   "outputs": [],
   "source": [
    "x, y = next(iter(train_loader))"
   ]
  },
  {
   "cell_type": "code",
   "execution_count": 12,
   "id": "81544c08",
   "metadata": {},
   "outputs": [
    {
     "name": "stderr",
     "output_type": "stream",
     "text": [
      "Clipping input data to the valid range for imshow with RGB data ([0..1] for floats or [0..255] for integers).\n",
      "Clipping input data to the valid range for imshow with RGB data ([0..1] for floats or [0..255] for integers).\n",
      "Clipping input data to the valid range for imshow with RGB data ([0..1] for floats or [0..255] for integers).\n",
      "Clipping input data to the valid range for imshow with RGB data ([0..1] for floats or [0..255] for integers).\n"
     ]
    },
    {
     "data": {
      "image/png": "[encoded data removed]",
      "text/plain": [
       "<Figure size 1440x432 with 4 Axes>"
      ]
     },
     "metadata": {
      "needs_background": "light"
     },
     "output_type": "display_data"
    }
   ],
   "source": [
    "fig, axes = plt.subplots(nrows=1, ncols=len(x), figsize=(20, 6))\n",
    "\n",
    "for i in range(len(x)):\n",
    "    x[i][x[i]<0] = 0\n",
    "    axes[i].imshow(x[i].numpy().transpose((1,2,0)))"
   ]
  },
  {
   "cell_type": "code",
   "execution_count": 13,
   "id": "fc285e0a",
   "metadata": {},
   "outputs": [
    {
     "name": "stderr",
     "output_type": "stream",
     "text": [
      "Global seed set to 1234\n"
     ]
    },
    {
     "data": {
      "text/plain": [
       "1234"
      ]
     },
     "execution_count": 13,
     "metadata": {},
     "output_type": "execute_result"
    }
   ],
   "source": [
    "import pytorch_lightning as pl\n",
    "random_seed=1234\n",
    "pl.seed_everything(random_seed)"
   ]
  },
  {
   "cell_type": "code",
   "execution_count": 14,
   "id": "d7ff4940",
   "metadata": {},
   "outputs": [],
   "source": [
    "from sklearn.model_selection import train_test_split"
   ]
  },
  {
   "cell_type": "code",
   "execution_count": 15,
   "id": "092b245c",
   "metadata": {},
   "outputs": [],
   "source": [
    "#split data into train and eval sets\n",
    "X_train, X_val, y_train, y_val = train_test_split(df[['image_id', 'label', 'target']], df['target'], test_size=0.25, random_state=1234)\n"
   ]
  },
  {
   "cell_type": "code",
   "execution_count": 16,
   "id": "6188c9d4",
   "metadata": {},
   "outputs": [
    {
     "name": "stdout",
     "output_type": "stream",
     "text": [
      "train data:  862 --------------------------------------------------\n"
     ]
    },
    {
     "data": {
      "text/plain": [
       "CE       0.476798\n",
       "Other    0.345708\n",
       "LAA      0.177494\n",
       "Name: label, dtype: float64"
      ]
     },
     "metadata": {},
     "output_type": "display_data"
    },
    {
     "name": "stdout",
     "output_type": "stream",
     "text": [
      "valuation data: 288 --------------------------------------------------\n"
     ]
    },
    {
     "data": {
      "text/plain": [
       "CE       0.472222\n",
       "Other    0.340278\n",
       "LAA      0.187500\n",
       "Name: label, dtype: float64"
      ]
     },
     "metadata": {},
     "output_type": "display_data"
    }
   ],
   "source": [
    "#check the label distribution in train and val datasets\n",
    "print('train data: ', len(X_train),  '-'*50)\n",
    "display(X_train['label'].value_counts()/X_train.shape[0])\n",
    "print('valuation data:', len(X_val), '-'*50)\n",
    "display(X_val['label'].value_counts()/X_val.shape[0])"
   ]
  },
  {
   "cell_type": "code",
   "execution_count": 17,
   "id": "525d178d",
   "metadata": {},
   "outputs": [
    {
     "name": "stderr",
     "output_type": "stream",
     "text": [
      "Global seed set to 1234\n"
     ]
    },
    {
     "data": {
      "text/plain": [
       "1234"
      ]
     },
     "execution_count": 17,
     "metadata": {},
     "output_type": "execute_result"
    }
   ],
   "source": [
    "pl.seed_everything(random_seed)"
   ]
  },
  {
   "cell_type": "code",
   "execution_count": 18,
   "id": "ecf45fc6",
   "metadata": {},
   "outputs": [
    {
     "data": {
      "text/plain": [
       "device(type='cuda', index=0)"
      ]
     },
     "execution_count": 18,
     "metadata": {},
     "output_type": "execute_result"
    }
   ],
   "source": [
    "device = torch.device(\"cuda:0\" if torch.cuda.is_available() else \"cpu\")\n",
    "device"
   ]
  },
  {
   "cell_type": "code",
   "execution_count": 19,
   "id": "c83d781a",
   "metadata": {},
   "outputs": [
    {
     "name": "stdout",
     "output_type": "stream",
     "text": [
      "Wall time: 0 ns\n"
     ]
    }
   ],
   "source": [
    "%%time\n",
    "#load data to dataloaer\n",
    "dataloaders = {'train': load_data(X_train, 4), 'val': load_data(X_val, 4)}\n",
    "dataset_sizes = {'train': len(X_train), 'val':len(X_val)}"
   ]
  },
  {
   "cell_type": "code",
   "execution_count": 23,
   "id": "4b7390e6",
   "metadata": {},
   "outputs": [],
   "source": [
    "\n",
    "######################################################################\n",
    "# ConvNet as fixed feature extractor\n",
    "# ----------------------------------\n",
    "#\n",
    "# Here, we need to freeze all the network except the final layer. We need\n",
    "# to set ``requires_grad = False`` to freeze the parameters so that the\n",
    "# gradients are not computed in ``backward()``.\n",
    "#\n",
    "# You can read more about this in the documentation\n",
    "# `here <https://pytorch.org/docs/notes/autograd.html#excluding-subgraphs-from-backward>`__.\n",
    "#\n",
    "\n",
    "model_conv = torchvision.models.resnet18(pretrained=True, progress=False)\n",
    "for param in model_conv.parameters():\n",
    "    param.requires_grad = False\n",
    "\n",
    "# Parameters of newly constructed modules have requires_grad=True by default\n",
    "num_ftrs = model_conv.fc.in_features\n",
    "model_conv.fc = nn.Linear(num_ftrs, 3)\n",
    "\n",
    "model_conv = model_conv.to(device)\n",
    "\n",
    "criterion = nn.CrossEntropyLoss()\n",
    "\n",
    "\n",
    "# Observe that only parameters of final layer are being optimized as\n",
    "# opposed to before.\n",
    "optimizer_conv = optim.SGD(model_conv.fc.parameters(), lr=0.0005, momentum=0.9)\n",
    "\n",
    "# Decay LR by a factor of 0.1 every 7 epochs\n",
    "exp_lr_scheduler = lr_scheduler.StepLR(optimizer_conv, step_size=7, gamma=0.1)"
   ]
  },
  {
   "cell_type": "code",
   "execution_count": 24,
   "id": "b361d1f5",
   "metadata": {},
   "outputs": [
    {
     "name": "stdout",
     "output_type": "stream",
     "text": [
      "Epoch 0/49\n",
      "----------\n",
      "train Loss: 1.0982 Acc: 0.4060\n",
      "val Loss: 1.0720 Acc: 0.4271\n",
      "\n",
      "Epoch 1/49\n",
      "----------\n",
      "train Loss: 1.0640 Acc: 0.4466\n",
      "val Loss: 1.0784 Acc: 0.4410\n",
      "\n",
      "Epoch 2/49\n",
      "----------\n",
      "train Loss: 1.0414 Acc: 0.4640\n",
      "val Loss: 1.0859 Acc: 0.4514\n",
      "\n",
      "Epoch 3/49\n",
      "----------\n",
      "train Loss: 1.0232 Acc: 0.4756\n",
      "val Loss: 1.0938 Acc: 0.4271\n",
      "\n",
      "Epoch 4/49\n",
      "----------\n",
      "train Loss: 1.0079 Acc: 0.4791\n",
      "val Loss: 1.1015 Acc: 0.4271\n",
      "\n",
      "Epoch 5/49\n",
      "----------\n",
      "train Loss: 0.9945 Acc: 0.4942\n",
      "val Loss: 1.1090 Acc: 0.4340\n",
      "\n",
      "Epoch 6/49\n",
      "----------\n",
      "train Loss: 0.9826 Acc: 0.5023\n",
      "val Loss: 1.1164 Acc: 0.4236\n",
      "\n",
      "Epoch 7/49\n",
      "----------\n",
      "train Loss: 0.9032 Acc: 0.5905\n",
      "val Loss: 1.0748 Acc: 0.4271\n",
      "\n",
      "Epoch 8/49\n",
      "----------\n",
      "train Loss: 0.9026 Acc: 0.5916\n",
      "val Loss: 1.0746 Acc: 0.4375\n",
      "\n",
      "Epoch 9/49\n",
      "----------\n",
      "train Loss: 0.9015 Acc: 0.5928\n",
      "val Loss: 1.0745 Acc: 0.4444\n",
      "\n",
      "Epoch 10/49\n",
      "----------\n",
      "train Loss: 0.9005 Acc: 0.5916\n",
      "val Loss: 1.0745 Acc: 0.4479\n",
      "\n",
      "Epoch 11/49\n",
      "----------\n",
      "train Loss: 0.8995 Acc: 0.5916\n",
      "val Loss: 1.0746 Acc: 0.4514\n",
      "\n",
      "Epoch 12/49\n",
      "----------\n",
      "train Loss: 0.8985 Acc: 0.5905\n",
      "val Loss: 1.0747 Acc: 0.4514\n",
      "\n",
      "Epoch 13/49\n",
      "----------\n",
      "train Loss: 0.8975 Acc: 0.5882\n",
      "val Loss: 1.0749 Acc: 0.4583\n",
      "\n",
      "Epoch 14/49\n",
      "----------\n",
      "train Loss: 0.8887 Acc: 0.5928\n",
      "val Loss: 1.0736 Acc: 0.4653\n",
      "\n",
      "Epoch 15/49\n",
      "----------\n",
      "train Loss: 0.8881 Acc: 0.5963\n",
      "val Loss: 1.0734 Acc: 0.4618\n",
      "\n",
      "Epoch 16/49\n",
      "----------\n",
      "train Loss: 0.8879 Acc: 0.5963\n",
      "val Loss: 1.0734 Acc: 0.4618\n",
      "\n",
      "Epoch 17/49\n",
      "----------\n",
      "train Loss: 0.8877 Acc: 0.5963\n",
      "val Loss: 1.0734 Acc: 0.4618\n",
      "\n",
      "Epoch 18/49\n",
      "----------\n",
      "train Loss: 0.8876 Acc: 0.5974\n",
      "val Loss: 1.0734 Acc: 0.4618\n",
      "\n",
      "Epoch 19/49\n",
      "----------\n",
      "train Loss: 0.8875 Acc: 0.5963\n",
      "val Loss: 1.0735 Acc: 0.4618\n",
      "\n",
      "Epoch 20/49\n",
      "----------\n",
      "train Loss: 0.8874 Acc: 0.5963\n",
      "val Loss: 1.0735 Acc: 0.4618\n",
      "\n",
      "Epoch 21/49\n",
      "----------\n",
      "train Loss: 0.8862 Acc: 0.5951\n",
      "val Loss: 1.0736 Acc: 0.4653\n",
      "\n",
      "Epoch 22/49\n",
      "----------\n",
      "train Loss: 0.8862 Acc: 0.5951\n",
      "val Loss: 1.0737 Acc: 0.4653\n",
      "\n",
      "Epoch 23/49\n",
      "----------\n",
      "train Loss: 0.8862 Acc: 0.5963\n",
      "val Loss: 1.0737 Acc: 0.4653\n",
      "\n",
      "Epoch 24/49\n",
      "----------\n",
      "train Loss: 0.8862 Acc: 0.5951\n",
      "val Loss: 1.0738 Acc: 0.4653\n",
      "\n",
      "Epoch 25/49\n",
      "----------\n",
      "train Loss: 0.8861 Acc: 0.5963\n",
      "val Loss: 1.0739 Acc: 0.4653\n",
      "\n",
      "Epoch 26/49\n",
      "----------\n",
      "train Loss: 0.8861 Acc: 0.5974\n",
      "val Loss: 1.0739 Acc: 0.4653\n",
      "\n",
      "Epoch 27/49\n",
      "----------\n",
      "train Loss: 0.8861 Acc: 0.5974\n",
      "val Loss: 1.0740 Acc: 0.4653\n",
      "\n",
      "Epoch 28/49\n",
      "----------\n",
      "train Loss: 0.8860 Acc: 0.5974\n",
      "val Loss: 1.0740 Acc: 0.4653\n",
      "\n",
      "Epoch 29/49\n",
      "----------\n",
      "train Loss: 0.8860 Acc: 0.5974\n",
      "val Loss: 1.0740 Acc: 0.4653\n",
      "\n",
      "Epoch 30/49\n",
      "----------\n",
      "train Loss: 0.8860 Acc: 0.5974\n",
      "val Loss: 1.0740 Acc: 0.4653\n",
      "\n",
      "Epoch 31/49\n",
      "----------\n",
      "train Loss: 0.8860 Acc: 0.5974\n",
      "val Loss: 1.0740 Acc: 0.4653\n",
      "\n",
      "Epoch 32/49\n",
      "----------\n",
      "train Loss: 0.8860 Acc: 0.5974\n",
      "val Loss: 1.0740 Acc: 0.4653\n",
      "\n",
      "Epoch 33/49\n",
      "----------\n",
      "train Loss: 0.8860 Acc: 0.5974\n",
      "val Loss: 1.0740 Acc: 0.4653\n",
      "\n",
      "Epoch 34/49\n",
      "----------\n",
      "train Loss: 0.8860 Acc: 0.5974\n",
      "val Loss: 1.0740 Acc: 0.4653\n",
      "\n",
      "Epoch 35/49\n",
      "----------\n",
      "train Loss: 0.8860 Acc: 0.5974\n",
      "val Loss: 1.0740 Acc: 0.4653\n",
      "\n",
      "Epoch 36/49\n",
      "----------\n",
      "train Loss: 0.8860 Acc: 0.5974\n",
      "val Loss: 1.0740 Acc: 0.4653\n",
      "\n",
      "Epoch 37/49\n",
      "----------\n",
      "train Loss: 0.8860 Acc: 0.5974\n",
      "val Loss: 1.0740 Acc: 0.4653\n",
      "\n",
      "Epoch 38/49\n",
      "----------\n",
      "train Loss: 0.8860 Acc: 0.5974\n",
      "val Loss: 1.0740 Acc: 0.4653\n",
      "\n",
      "Epoch 39/49\n",
      "----------\n",
      "train Loss: 0.8860 Acc: 0.5974\n",
      "val Loss: 1.0740 Acc: 0.4653\n",
      "\n",
      "Epoch 40/49\n",
      "----------\n",
      "train Loss: 0.8860 Acc: 0.5974\n",
      "val Loss: 1.0740 Acc: 0.4653\n",
      "\n",
      "Epoch 41/49\n",
      "----------\n",
      "train Loss: 0.8860 Acc: 0.5974\n",
      "val Loss: 1.0740 Acc: 0.4653\n",
      "\n",
      "Epoch 42/49\n",
      "----------\n",
      "train Loss: 0.8860 Acc: 0.5974\n",
      "val Loss: 1.0740 Acc: 0.4653\n",
      "\n",
      "Epoch 43/49\n",
      "----------\n",
      "train Loss: 0.8860 Acc: 0.5974\n",
      "val Loss: 1.0740 Acc: 0.4653\n",
      "\n",
      "Epoch 44/49\n",
      "----------\n",
      "train Loss: 0.8860 Acc: 0.5974\n",
      "val Loss: 1.0740 Acc: 0.4653\n",
      "\n",
      "Epoch 45/49\n",
      "----------\n",
      "train Loss: 0.8860 Acc: 0.5974\n",
      "val Loss: 1.0740 Acc: 0.4653\n",
      "\n",
      "Epoch 46/49\n",
      "----------\n",
      "train Loss: 0.8860 Acc: 0.5974\n",
      "val Loss: 1.0740 Acc: 0.4653\n",
      "\n",
      "Epoch 47/49\n",
      "----------\n",
      "train Loss: 0.8860 Acc: 0.5974\n",
      "val Loss: 1.0740 Acc: 0.4653\n",
      "\n",
      "Epoch 48/49\n",
      "----------\n",
      "train Loss: 0.8860 Acc: 0.5974\n",
      "val Loss: 1.0740 Acc: 0.4653\n",
      "\n",
      "Epoch 49/49\n",
      "----------\n",
      "train Loss: 0.8860 Acc: 0.5974\n",
      "val Loss: 1.0740 Acc: 0.4653\n",
      "\n",
      "Training complete in 146m 55s\n",
      "Best val Acc: 0.465278\n"
     ]
    }
   ],
   "source": [
    "######################################################################\n",
    "# Train and evaluate\n",
    "#\n",
    "# On CPU this will take about half the time compared to previous scenario.\n",
    "# This is expected as gradients don't need to be computed for most of the\n",
    "# network. However, forward does need to be computed.\n",
    "#\n",
    "\n",
    "model_conv = train_model(model_conv, criterion, optimizer_conv,\n",
    "                         exp_lr_scheduler, num_epochs=50)\n",
    "\n",
    "######################################################################\n"
   ]
  },
  {
   "cell_type": "code",
   "execution_count": null,
   "id": "10d3bed1",
   "metadata": {},
   "outputs": [],
   "source": []
  }
 ],
 "metadata": {
  "kernelspec": {
   "display_name": "Python 3",
   "language": "python",
   "name": "python3"
  },
  "language_info": {
   "codemirror_mode": {
    "name": "ipython",
    "version": 3
   },
   "file_extension": ".py",
   "mimetype": "text/x-python",
   "name": "python",
   "nbconvert_exporter": "python",
   "pygments_lexer": "ipython3",
   "version": "3.6.3"
  }
 },
 "nbformat": 4,
 "nbformat_minor": 5
}
