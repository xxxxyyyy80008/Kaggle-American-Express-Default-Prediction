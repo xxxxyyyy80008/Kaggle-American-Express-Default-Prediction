{
 "cells": [
  {
   "cell_type": "raw",
   "metadata": {
    "_cell_guid": "b1076dfc-b9ad-4769-8c92-a6c4dae69d19",
    "_uuid": "8f2839f25d086af736a60e9eeb907d3b93b6e0e5",
    "execution": {
     "iopub.execute_input": "2022-07-14T16:44:05.729752Z",
     "iopub.status.busy": "2022-07-14T16:44:05.729076Z",
     "iopub.status.idle": "2022-07-14T16:44:05.807006Z",
     "shell.execute_reply": "2022-07-14T16:44:05.806215Z",
     "shell.execute_reply.started": "2022-07-14T16:44:05.729650Z"
    }
   },
   "source": [
    "# This Python 3 environment comes with many helpful analytics libraries installed\n",
    "# It is defined by the kaggle/python Docker image: https://github.com/kaggle/docker-python\n",
    "# For example, here's several helpful packages to load\n",
    "\n",
    "import numpy as np # linear algebra\n",
    "import pandas as pd # data processing, CSV file I/O (e.g. pd.read_csv)\n",
    "\n",
    "# Input data files are available in the read-only \"../input/\" directory\n",
    "# For example, running this (by clicking run or pressing Shift+Enter) will list all files under the input directory\n",
    "\n",
    "import os\n",
    "for dirname, _, filenames in os.walk('/kaggle/input'):\n",
    "    for filename in filenames:\n",
    "        print(os.path.join(dirname, filename))\n",
    "\n",
    "# You can write up to 20GB to the current directory (/kaggle/working/) that gets preserved as output when you create a version using \"Save & Run All\" \n",
    "# You can also write temporary files to /kaggle/temp/, but they won't be saved outside of the current session"
   ]
  },
  {
   "cell_type": "code",
   "execution_count": 1,
   "metadata": {
    "execution": {
     "iopub.execute_input": "2022-07-14T16:44:05.809041Z",
     "iopub.status.busy": "2022-07-14T16:44:05.808568Z",
     "iopub.status.idle": "2022-07-14T16:44:06.777231Z",
     "shell.execute_reply": "2022-07-14T16:44:06.776257Z",
     "shell.execute_reply.started": "2022-07-14T16:44:05.809010Z"
    }
   },
   "outputs": [],
   "source": [
    "import pandas as pd\n",
    "import numpy as np\n",
    "import os \n",
    "from pathlib import Path\n",
    "\n",
    "from datetime import datetime, timedelta\n",
    "import time \n",
    "from dateutil.relativedelta import relativedelta\n",
    "\n",
    "from sklearn.preprocessing import StandardScaler, MinMaxScaler\n",
    "\n",
    "import pyarrow.parquet as pq\n",
    "import pyarrow as pa"
   ]
  },
  {
   "cell_type": "code",
   "execution_count": 2,
   "metadata": {
    "execution": {
     "iopub.execute_input": "2022-07-14T16:44:06.779556Z",
     "iopub.status.busy": "2022-07-14T16:44:06.778556Z",
     "iopub.status.idle": "2022-07-14T16:44:06.784827Z",
     "shell.execute_reply": "2022-07-14T16:44:06.783619Z",
     "shell.execute_reply.started": "2022-07-14T16:44:06.779518Z"
    }
   },
   "outputs": [],
   "source": [
    "import warnings\n",
    "warnings.filterwarnings(\"ignore\")\n",
    "\n",
    "pd.options.display.max_rows=999\n",
    "pd.options.display.max_columns=999"
   ]
  },
  {
   "cell_type": "code",
   "execution_count": 3,
   "metadata": {
    "execution": {
     "iopub.execute_input": "2022-07-14T16:44:06.787037Z",
     "iopub.status.busy": "2022-07-14T16:44:06.786727Z",
     "iopub.status.idle": "2022-07-14T16:44:45.955997Z",
     "shell.execute_reply": "2022-07-14T16:44:45.955205Z",
     "shell.execute_reply.started": "2022-07-14T16:44:06.787007Z"
    }
   },
   "outputs": [
    {
     "name": "stdout",
     "output_type": "stream",
     "text": [
      "Wall time: 36.2 s\n"
     ]
    }
   ],
   "source": [
    "%%time\n",
    "# train_file = r'/kaggle/input/amex-agg-data-rev2/agg_train_all_rev2_rev.parquet'\n",
    "train_file = r'amex\\agg_train_all_rev3.parquet'\n",
    "df=pd.read_parquet(train_file, engine='pyarrow')"
   ]
  },
  {
   "cell_type": "code",
   "execution_count": 4,
   "metadata": {
    "execution": {
     "iopub.execute_input": "2022-07-14T16:44:45.957852Z",
     "iopub.status.busy": "2022-07-14T16:44:45.957378Z",
     "iopub.status.idle": "2022-07-14T16:44:45.968768Z",
     "shell.execute_reply": "2022-07-14T16:44:45.967677Z",
     "shell.execute_reply.started": "2022-07-14T16:44:45.957821Z"
    }
   },
   "outputs": [
    {
     "name": "stdout",
     "output_type": "stream",
     "text": [
      "['B_10__first', 'B_10__last', 'B_10__last2max', 'B_10__last2min', 'B_10__max', 'B_10__mean', 'B_10__mean2std', 'B_10__min', 'B_10__range', 'B_10__std', 'B_11__first', 'B_11__last', 'B_11__last2max', 'B_11__last2min', 'B_11__last__log', 'B_11__max', 'B_11__mean', 'B_11__mean2std', 'B_11__mean__log', 'B_11__min', 'B_11__range', 'B_11__std', 'B_12__first', 'B_12__last', 'B_12__last2max', 'B_12__last2min', 'B_12__last__log', 'B_12__max', 'B_12__mean', 'B_12__mean2std', 'B_12__mean__log', 'B_12__min', 'B_12__range', 'B_12__std', 'B_13__first', 'B_13__last', 'B_13__last2max', 'B_13__last2min', 'B_13__last__log', 'B_13__max', 'B_13__mean', 'B_13__mean2std', 'B_13__mean__log', 'B_13__min', 'B_13__range', 'B_13__std', 'B_14__first', 'B_14__last', 'B_14__last2max', 'B_14__last2min', 'B_14__max', 'B_14__mean', 'B_14__mean2std', 'B_14__min', 'B_14__range', 'B_14__std', 'B_15__first', 'B_15__last', 'B_15__last2max', 'B_15__last2min', 'B_15__max', 'B_15__mean', 'B_15__mean2std', 'B_15__min', 'B_15__range', 'B_15__std', 'B_16__first', 'B_16__last', 'B_16__last2max', 'B_16__last2min', 'B_16__last__log', 'B_16__max', 'B_16__mean', 'B_16__mean2std', 'B_16__mean__log', 'B_16__min', 'B_16__range', 'B_16__std', 'B_17__first', 'B_17__last', 'B_17__last2max', 'B_17__last2min', 'B_17__last__log', 'B_17__max', 'B_17__mean', 'B_17__mean2std', 'B_17__mean__log', 'B_17__min', 'B_17__range', 'B_17__std', 'B_18__first', 'B_18__last', 'B_18__last2max', 'B_18__last2min', 'B_18__last__log', 'B_18__max', 'B_18__mean', 'B_18__mean2std', 'B_18__mean__log', 'B_18__min', 'B_18__range', 'B_18__std', 'B_19__first', 'B_19__last', 'B_19__last2max', 'B_19__last2min', 'B_19__last__log', 'B_19__max', 'B_19__mean', 'B_19__mean2std', 'B_19__mean__log', 'B_19__min', 'B_19__range', 'B_19__std', 'B_1__first', 'B_1__last', 'B_1__last2max', 'B_1__last2min', 'B_1__max', 'B_1__mean', 'B_1__mean2std', 'B_1__min', 'B_1__range', 'B_1__std', 'B_20__first', 'B_20__last', 'B_20__last2max', 'B_20__last2min', 'B_20__last__log', 'B_20__max', 'B_20__mean', 'B_20__mean2std', 'B_20__mean__log', 'B_20__min', 'B_20__range', 'B_20__std', 'B_21__first', 'B_21__last', 'B_21__last2max', 'B_21__last2min', 'B_21__last__log', 'B_21__max', 'B_21__mean', 'B_21__mean2std', 'B_21__mean__log', 'B_21__min', 'B_21__range', 'B_21__std', 'B_22__first', 'B_22__last', 'B_22__last2max', 'B_22__last2min', 'B_22__last__log', 'B_22__max', 'B_22__mean', 'B_22__mean2std', 'B_22__mean__log', 'B_22__min', 'B_22__range', 'B_22__std', 'B_23__first', 'B_23__last', 'B_23__last2max', 'B_23__last2min', 'B_23__last__log', 'B_23__max', 'B_23__mean', 'B_23__mean2std', 'B_23__mean__log', 'B_23__min', 'B_23__range', 'B_23__std', 'B_24__first', 'B_24__last', 'B_24__last2max', 'B_24__last2min', 'B_24__last__log', 'B_24__max', 'B_24__mean', 'B_24__mean2std', 'B_24__mean__log', 'B_24__min', 'B_24__range', 'B_24__std', 'B_25__first', 'B_25__last', 'B_25__last2max', 'B_25__last2min', 'B_25__max', 'B_25__mean', 'B_25__mean2std', 'B_25__min', 'B_25__range', 'B_25__std', 'B_26__first', 'B_26__last', 'B_26__last2max', 'B_26__last2min', 'B_26__last__log', 'B_26__max', 'B_26__mean', 'B_26__mean2std', 'B_26__mean__log', 'B_26__min', 'B_26__range', 'B_26__std', 'B_27__first', 'B_27__last', 'B_27__last2max', 'B_27__last2min', 'B_27__last__log', 'B_27__max', 'B_27__mean', 'B_27__mean2std', 'B_27__mean__log', 'B_27__min', 'B_27__range', 'B_27__std', 'B_28__first', 'B_28__last', 'B_28__last2max', 'B_28__last2min', 'B_28__max', 'B_28__mean', 'B_28__mean2std', 'B_28__mean__log', 'B_28__min', 'B_28__range', 'B_28__std', 'B_29__first', 'B_29__last', 'B_29__last2max', 'B_29__last2min', 'B_29__last__log', 'B_29__max', 'B_29__mean', 'B_29__mean2std', 'B_29__mean__log', 'B_29__min', 'B_29__range', 'B_29__std', 'B_2__first', 'B_2__last', 'B_2__last2max', 'B_2__last2min', 'B_2__last__log', 'B_2__max', 'B_2__mean', 'B_2__mean2std', 'B_2__mean__log', 'B_2__min', 'B_2__range', 'B_2__std', 'B_30=0.0', 'B_30=1.0', 'B_30=2.0', 'B_30=999.0', 'B_30__last', 'B_30__nunique', 'B_31=0', 'B_31=1', 'B_31__last', 'B_31__nunique', 'B_32__first', 'B_32__last', 'B_32__last2max', 'B_32__last2min', 'B_32__last__log', 'B_32__max', 'B_32__mean', 'B_32__mean2std', 'B_32__mean__log', 'B_32__min', 'B_32__range', 'B_32__std', 'B_33__first', 'B_33__last', 'B_33__last2max', 'B_33__last2min', 'B_33__last__log', 'B_33__max', 'B_33__mean', 'B_33__mean2std', 'B_33__mean__log', 'B_33__min', 'B_33__range', 'B_33__std', 'B_36__first', 'B_36__last', 'B_36__last2max', 'B_36__last2min', 'B_36__last__log', 'B_36__max', 'B_36__mean', 'B_36__mean2std', 'B_36__mean__log', 'B_36__min', 'B_36__range', 'B_36__std', 'B_37__first', 'B_37__last', 'B_37__last2max', 'B_37__last2min', 'B_37__max', 'B_37__mean', 'B_37__mean2std', 'B_37__min', 'B_37__range', 'B_37__std', 'B_38=1.0', 'B_38=2.0', 'B_38=3.0', 'B_38=4.0', 'B_38=5.0', 'B_38=6.0', 'B_38=7.0', 'B_38=999.0', 'B_38__last', 'B_38__nunique', 'B_39__first', 'B_39__last', 'B_39__last2max', 'B_39__last2min', 'B_39__max', 'B_39__mean', 'B_39__mean2std', 'B_39__min', 'B_39__range', 'B_39__std', 'B_3__first', 'B_3__last', 'B_3__last2max', 'B_3__last2min', 'B_3__last__log', 'B_3__max', 'B_3__mean', 'B_3__mean2std', 'B_3__mean__log', 'B_3__min', 'B_3__range', 'B_3__std', 'B_40__first', 'B_40__last', 'B_40__last2max', 'B_40__last2min', 'B_40__last__log', 'B_40__max', 'B_40__mean', 'B_40__mean2std', 'B_40__mean__log', 'B_40__min', 'B_40__range', 'B_40__std', 'B_41__first', 'B_41__last', 'B_41__last2max', 'B_41__last2min', 'B_41__last__log', 'B_41__max', 'B_41__mean', 'B_41__mean2std', 'B_41__mean__log', 'B_41__min', 'B_41__range', 'B_41__std', 'B_42__first', 'B_42__last', 'B_42__last2max', 'B_42__last2min', 'B_42__last__log', 'B_42__max', 'B_42__mean', 'B_42__mean2std', 'B_42__mean__log', 'B_42__min', 'B_42__range', 'B_42__std', 'B_4__first', 'B_4__last', 'B_4__last2max', 'B_4__last2min', 'B_4__last__log', 'B_4__max', 'B_4__mean', 'B_4__mean2std', 'B_4__mean__log', 'B_4__min', 'B_4__range', 'B_4__std', 'B_5__first', 'B_5__last', 'B_5__last2max', 'B_5__last2min', 'B_5__last__log', 'B_5__max', 'B_5__mean', 'B_5__mean2std', 'B_5__mean__log', 'B_5__min', 'B_5__range', 'B_5__std', 'B_6__first', 'B_6__last', 'B_6__last2max', 'B_6__last2min', 'B_6__max', 'B_6__mean', 'B_6__mean2std', 'B_6__min', 'B_6__range', 'B_6__std', 'B_7__first', 'B_7__last', 'B_7__last2max', 'B_7__last2min', 'B_7__max', 'B_7__mean', 'B_7__mean2std', 'B_7__min', 'B_7__range', 'B_7__std', 'B_8__first', 'B_8__last', 'B_8__last2max', 'B_8__last2min', 'B_8__last__log', 'B_8__max', 'B_8__mean', 'B_8__mean2std', 'B_8__mean__log', 'B_8__min', 'B_8__range', 'B_8__std', 'B_9__first', 'B_9__last', 'B_9__last2max', 'B_9__last2min', 'B_9__last__log', 'B_9__max', 'B_9__mean', 'B_9__mean2std', 'B_9__mean__log', 'B_9__min', 'B_9__range', 'B_9__std', 'D_102__first', 'D_102__last', 'D_102__last2max', 'D_102__last2min', 'D_102__last__log', 'D_102__max', 'D_102__mean', 'D_102__mean2std', 'D_102__mean__log', 'D_102__min', 'D_102__range', 'D_102__std', 'D_103__first', 'D_103__last', 'D_103__last2max', 'D_103__last2min', 'D_103__last__log', 'D_103__max', 'D_103__mean', 'D_103__mean2std', 'D_103__mean__log', 'D_103__min', 'D_103__range', 'D_103__std', 'D_104__first', 'D_104__last', 'D_104__last2max', 'D_104__last2min', 'D_104__last__log', 'D_104__max', 'D_104__mean', 'D_104__mean2std', 'D_104__mean__log', 'D_104__min', 'D_104__range', 'D_104__std', 'D_105__first', 'D_105__last', 'D_105__last2max', 'D_105__last2min', 'D_105__max', 'D_105__mean', 'D_105__mean2std', 'D_105__min', 'D_105__range', 'D_105__std', 'D_106__first', 'D_106__last', 'D_106__last2max', 'D_106__last2min', 'D_106__last__log', 'D_106__max', 'D_106__mean', 'D_106__mean2std', 'D_106__mean__log', 'D_106__min', 'D_106__range', 'D_106__std', 'D_107__first', 'D_107__last', 'D_107__last2max', 'D_107__last2min', 'D_107__last__log', 'D_107__max', 'D_107__mean', 'D_107__mean2std', 'D_107__mean__log', 'D_107__min', 'D_107__range', 'D_107__std', 'D_108__first', 'D_108__last', 'D_108__last2max', 'D_108__last2min', 'D_108__last__log', 'D_108__max', 'D_108__mean', 'D_108__mean2std', 'D_108__mean__log', 'D_108__min', 'D_108__range', 'D_108__std', 'D_109__first', 'D_109__last', 'D_109__last2max', 'D_109__last2min', 'D_109__last__log', 'D_109__max', 'D_109__mean', 'D_109__mean2std', 'D_109__mean__log', 'D_109__min', 'D_109__range', 'D_109__std', 'D_110__first', 'D_110__last', 'D_110__last2max', 'D_110__last2min', 'D_110__max', 'D_110__mean', 'D_110__mean2std', 'D_110__min', 'D_110__range', 'D_110__std', 'D_111__first', 'D_111__last', 'D_111__last2max', 'D_111__last2min', 'D_111__last__log', 'D_111__max', 'D_111__mean', 'D_111__mean2std', 'D_111__mean__log', 'D_111__min', 'D_111__range', 'D_111__std', 'D_112__first', 'D_112__last', 'D_112__last2max', 'D_112__last2min', 'D_112__last__log', 'D_112__max', 'D_112__mean', 'D_112__mean2std', 'D_112__mean__log', 'D_112__min', 'D_112__range', 'D_112__std', 'D_113__first', 'D_113__last', 'D_113__last2max', 'D_113__last2min', 'D_113__last__log', 'D_113__max', 'D_113__mean', 'D_113__mean2std', 'D_113__mean__log', 'D_113__min', 'D_113__range', 'D_113__std', 'D_114=0.0', 'D_114=1.0', 'D_114=999.0', 'D_114__last', 'D_114__nunique', 'D_115__first', 'D_115__last', 'D_115__last2max', 'D_115__last2min', 'D_115__last__log', 'D_115__max', 'D_115__mean', 'D_115__mean2std', 'D_115__mean__log', 'D_115__min', 'D_115__range', 'D_115__std', 'D_116=0.0', 'D_116=1.0', 'D_116=999.0', 'D_116__last', 'D_116__nunique', 'D_117=-1.0', 'D_117=1.0', 'D_117=2.0', 'D_117=3.0', 'D_117=4.0', 'D_117=5.0', 'D_117=6.0', 'D_117=999.0', 'D_117__last', 'D_117__nunique', 'D_118__first', 'D_118__last', 'D_118__last2max', 'D_118__last2min', 'D_118__last__log', 'D_118__max', 'D_118__mean', 'D_118__mean2std', 'D_118__mean__log', 'D_118__min', 'D_118__range', 'D_118__std', 'D_119__first', 'D_119__last', 'D_119__last2max', 'D_119__last2min', 'D_119__last__log', 'D_119__max', 'D_119__mean', 'D_119__mean2std', 'D_119__mean__log', 'D_119__min', 'D_119__range', 'D_119__std', 'D_120=0.0', 'D_120=1.0', 'D_120=999.0', 'D_120__last', 'D_120__nunique', 'D_121__first', 'D_121__last', 'D_121__last2max', 'D_121__last2min', 'D_121__max', 'D_121__mean', 'D_121__mean2std', 'D_121__min', 'D_121__range', 'D_121__std', 'D_122__first', 'D_122__last', 'D_122__last2max', 'D_122__last2min', 'D_122__last__log', 'D_122__max', 'D_122__mean', 'D_122__mean2std', 'D_122__mean__log', 'D_122__min', 'D_122__range', 'D_122__std', 'D_123__first', 'D_123__last', 'D_123__last2max', 'D_123__last2min', 'D_123__last__log', 'D_123__max', 'D_123__mean', 'D_123__mean2std', 'D_123__mean__log', 'D_123__min', 'D_123__range', 'D_123__std', 'D_124__first', 'D_124__last', 'D_124__last2max', 'D_124__last2min', 'D_124__max', 'D_124__mean', 'D_124__mean2std', 'D_124__min', 'D_124__range', 'D_124__std', 'D_125__first', 'D_125__last', 'D_125__last2max', 'D_125__last2min', 'D_125__last__log', 'D_125__max', 'D_125__mean', 'D_125__mean2std', 'D_125__mean__log', 'D_125__min', 'D_125__range', 'D_125__std', 'D_126=-1.0', 'D_126=0.0', 'D_126=1.0', 'D_126=999.0', 'D_126__last', 'D_126__nunique', 'D_127__first', 'D_127__last', 'D_127__last2max', 'D_127__last2min', 'D_127__last__log', 'D_127__max', 'D_127__mean', 'D_127__mean2std', 'D_127__mean__log', 'D_127__min', 'D_127__range', 'D_127__std', 'D_128__first', 'D_128__last', 'D_128__last2max', 'D_128__last2min', 'D_128__last__log', 'D_128__max', 'D_128__mean', 'D_128__mean2std', 'D_128__mean__log', 'D_128__min', 'D_128__range', 'D_128__std', 'D_129__first', 'D_129__last', 'D_129__last2max', 'D_129__last2min', 'D_129__last__log', 'D_129__max', 'D_129__mean', 'D_129__mean2std', 'D_129__mean__log', 'D_129__min', 'D_129__range', 'D_129__std', 'D_130__first', 'D_130__last', 'D_130__last2max', 'D_130__last2min', 'D_130__last__log', 'D_130__max', 'D_130__mean', 'D_130__mean2std', 'D_130__mean__log', 'D_130__min', 'D_130__range', 'D_130__std', 'D_131__first', 'D_131__last', 'D_131__last2max', 'D_131__last2min', 'D_131__last__log', 'D_131__max', 'D_131__mean', 'D_131__mean2std', 'D_131__mean__log', 'D_131__min', 'D_131__range', 'D_131__std', 'D_132__first', 'D_132__last', 'D_132__last2max', 'D_132__last2min', 'D_132__max', 'D_132__mean', 'D_132__mean2std', 'D_132__min', 'D_132__range', 'D_132__std', 'D_133__first', 'D_133__last', 'D_133__last2max', 'D_133__last2min', 'D_133__last__log', 'D_133__max', 'D_133__mean', 'D_133__mean2std', 'D_133__mean__log', 'D_133__min', 'D_133__range', 'D_133__std', 'D_134__first', 'D_134__last', 'D_134__last2max', 'D_134__last2min', 'D_134__max', 'D_134__mean', 'D_134__mean2std', 'D_134__min', 'D_134__range', 'D_134__std', 'D_135__first', 'D_135__last', 'D_135__last2max', 'D_135__last2min', 'D_135__last__log', 'D_135__max', 'D_135__mean', 'D_135__mean2std', 'D_135__mean__log', 'D_135__min', 'D_135__range', 'D_135__std', 'D_136__first', 'D_136__last', 'D_136__last2max', 'D_136__last2min', 'D_136__last__log', 'D_136__max', 'D_136__mean', 'D_136__mean2std', 'D_136__mean__log', 'D_136__min', 'D_136__range', 'D_136__std', 'D_137__first', 'D_137__last', 'D_137__last2max', 'D_137__last2min', 'D_137__last__log', 'D_137__max', 'D_137__mean', 'D_137__mean2std', 'D_137__mean__log', 'D_137__min', 'D_137__range', 'D_137__std', 'D_138__first', 'D_138__last', 'D_138__last2max', 'D_138__last2min', 'D_138__last__log', 'D_138__max', 'D_138__mean', 'D_138__mean2std', 'D_138__mean__log', 'D_138__min', 'D_138__range', 'D_138__std', 'D_139__first', 'D_139__last', 'D_139__last2max', 'D_139__last2min', 'D_139__last__log', 'D_139__max', 'D_139__mean', 'D_139__mean2std', 'D_139__mean__log', 'D_139__min', 'D_139__range', 'D_139__std', 'D_140__first', 'D_140__last', 'D_140__last2max', 'D_140__last2min', 'D_140__last__log', 'D_140__max', 'D_140__mean', 'D_140__mean2std', 'D_140__mean__log', 'D_140__min', 'D_140__range', 'D_140__std', 'D_141__first', 'D_141__last', 'D_141__last2max', 'D_141__last2min', 'D_141__last__log', 'D_141__max', 'D_141__mean', 'D_141__mean2std', 'D_141__mean__log', 'D_141__min', 'D_141__range', 'D_141__std', 'D_142__first', 'D_142__last', 'D_142__last2max', 'D_142__last2min', 'D_142__max', 'D_142__mean', 'D_142__mean2std', 'D_142__min', 'D_142__range', 'D_142__std', 'D_143__first', 'D_143__last', 'D_143__last2max', 'D_143__last2min', 'D_143__last__log', 'D_143__max', 'D_143__mean', 'D_143__mean2std', 'D_143__mean__log', 'D_143__min', 'D_143__range', 'D_143__std', 'D_144__first', 'D_144__last', 'D_144__last2max', 'D_144__last2min', 'D_144__last__log', 'D_144__max', 'D_144__mean', 'D_144__mean2std', 'D_144__mean__log', 'D_144__min', 'D_144__range', 'D_144__std', 'D_145__first', 'D_145__last', 'D_145__last2max', 'D_145__last2min', 'D_145__last__log', 'D_145__max', 'D_145__mean', 'D_145__mean2std', 'D_145__mean__log', 'D_145__min', 'D_145__range', 'D_145__std', 'D_39__first', 'D_39__last', 'D_39__last2max', 'D_39__last2min', 'D_39__last__log', 'D_39__max', 'D_39__mean', 'D_39__mean2std', 'D_39__mean__log', 'D_39__min', 'D_39__range', 'D_39__std', 'D_41__first', 'D_41__last', 'D_41__last2max', 'D_41__last2min', 'D_41__last__log', 'D_41__max', 'D_41__mean', 'D_41__mean2std', 'D_41__mean__log', 'D_41__min', 'D_41__range', 'D_41__std', 'D_42__first', 'D_42__last', 'D_42__last2max', 'D_42__last2min', 'D_42__max', 'D_42__mean', 'D_42__mean2std', 'D_42__min', 'D_42__range', 'D_42__std', 'D_43__first', 'D_43__last', 'D_43__last2max', 'D_43__last2min', 'D_43__last__log', 'D_43__max', 'D_43__mean', 'D_43__mean2std', 'D_43__mean__log', 'D_43__min', 'D_43__range', 'D_43__std', 'D_44__first', 'D_44__last', 'D_44__last2max', 'D_44__last2min', 'D_44__last__log', 'D_44__max', 'D_44__mean', 'D_44__mean2std', 'D_44__mean__log', 'D_44__min', 'D_44__range', 'D_44__std', 'D_45__first', 'D_45__last', 'D_45__last2max', 'D_45__last2min', 'D_45__last__log', 'D_45__max', 'D_45__mean', 'D_45__mean2std', 'D_45__mean__log', 'D_45__min', 'D_45__range', 'D_45__std', 'D_46__first', 'D_46__last', 'D_46__last2max', 'D_46__last2min', 'D_46__max', 'D_46__mean', 'D_46__mean2std', 'D_46__min', 'D_46__range', 'D_46__std', 'D_47__first', 'D_47__last', 'D_47__last2max', 'D_47__last2min', 'D_47__max', 'D_47__mean', 'D_47__mean2std', 'D_47__min', 'D_47__range', 'D_47__std', 'D_48__first', 'D_48__last', 'D_48__last2max', 'D_48__last2min', 'D_48__max', 'D_48__mean', 'D_48__mean2std', 'D_48__min', 'D_48__range', 'D_48__std', 'D_49__first', 'D_49__last', 'D_49__last2max', 'D_49__last2min', 'D_49__last__log', 'D_49__max', 'D_49__mean', 'D_49__mean2std', 'D_49__mean__log', 'D_49__min', 'D_49__range', 'D_49__std', 'D_50__first', 'D_50__last', 'D_50__last2max', 'D_50__last2min', 'D_50__max', 'D_50__mean', 'D_50__mean2std', 'D_50__min', 'D_50__range', 'D_50__std', 'D_51__first', 'D_51__last', 'D_51__last2max', 'D_51__last2min', 'D_51__last__log', 'D_51__max', 'D_51__mean', 'D_51__mean2std', 'D_51__mean__log', 'D_51__min', 'D_51__range', 'D_51__std', 'D_52__first', 'D_52__last', 'D_52__last2max', 'D_52__last2min', 'D_52__max', 'D_52__mean', 'D_52__mean2std', 'D_52__min', 'D_52__range', 'D_52__std', 'D_53__first', 'D_53__last', 'D_53__last2max', 'D_53__last2min', 'D_53__last__log', 'D_53__max', 'D_53__mean', 'D_53__mean2std', 'D_53__mean__log', 'D_53__min', 'D_53__range', 'D_53__std', 'D_54__first', 'D_54__last', 'D_54__last2max', 'D_54__last2min', 'D_54__max', 'D_54__mean', 'D_54__mean2std', 'D_54__min', 'D_54__range', 'D_54__std', 'D_55__first', 'D_55__last', 'D_55__last2max', 'D_55__last2min', 'D_55__last__log', 'D_55__max', 'D_55__mean', 'D_55__mean2std', 'D_55__mean__log', 'D_55__min', 'D_55__range', 'D_55__std', 'D_56__first', 'D_56__last', 'D_56__last2max', 'D_56__last2min', 'D_56__max', 'D_56__mean', 'D_56__mean2std', 'D_56__min', 'D_56__range', 'D_56__std', 'D_58__first', 'D_58__last', 'D_58__last2max', 'D_58__last2min', 'D_58__last__log', 'D_58__max', 'D_58__mean', 'D_58__mean2std', 'D_58__mean__log', 'D_58__min', 'D_58__range', 'D_58__std', 'D_59__first', 'D_59__last', 'D_59__last2max', 'D_59__last2min', 'D_59__max', 'D_59__mean', 'D_59__mean2std', 'D_59__min', 'D_59__range', 'D_59__std', 'D_60__first', 'D_60__last', 'D_60__last2max', 'D_60__last2min', 'D_60__last__log', 'D_60__max', 'D_60__mean', 'D_60__mean2std', 'D_60__mean__log', 'D_60__min', 'D_60__range', 'D_60__std', 'D_61__first', 'D_61__last', 'D_61__last2max', 'D_61__last2min', 'D_61__max', 'D_61__mean', 'D_61__mean2std', 'D_61__min', 'D_61__range', 'D_61__std', 'D_62__first', 'D_62__last', 'D_62__last2max', 'D_62__last2min', 'D_62__max', 'D_62__mean', 'D_62__mean2std', 'D_62__min', 'D_62__range', 'D_62__std', 'D_63=CL', 'D_63=CO', 'D_63=CR', 'D_63=XL', 'D_63=XM', 'D_63=XZ', 'D_63__last=CL', 'D_63__last=CO', 'D_63__last=CR', 'D_63__last=XL', 'D_63__last=XM', 'D_63__last=XZ', 'D_63__nunique', 'D_64=-1', 'D_64=NA', 'D_64=O', 'D_64=R', 'D_64=U', 'D_64__last=-1', 'D_64__last=NA', 'D_64__last=O', 'D_64__last=R', 'D_64__last=U', 'D_64__nunique', 'D_65__first', 'D_65__last', 'D_65__last2max', 'D_65__last2min', 'D_65__last__log', 'D_65__max', 'D_65__mean', 'D_65__mean2std', 'D_65__mean__log', 'D_65__min', 'D_65__range', 'D_65__std', 'D_66=0.0', 'D_66=1.0', 'D_66=999.0', 'D_66__last', 'D_66__nunique', 'D_68=0.0', 'D_68=1.0', 'D_68=2.0', 'D_68=3.0', 'D_68=4.0', 'D_68=5.0', 'D_68=6.0', 'D_68=999.0', 'D_68__last', 'D_68__nunique', 'D_69__first', 'D_69__last', 'D_69__last2max', 'D_69__last2min', 'D_69__last__log', 'D_69__max', 'D_69__mean', 'D_69__mean2std', 'D_69__mean__log', 'D_69__min', 'D_69__range', 'D_69__std', 'D_70__first', 'D_70__last', 'D_70__last2max', 'D_70__last2min', 'D_70__last__log', 'D_70__max', 'D_70__mean', 'D_70__mean2std', 'D_70__mean__log', 'D_70__min', 'D_70__range', 'D_70__std', 'D_71__first', 'D_71__last', 'D_71__last2max', 'D_71__last2min', 'D_71__last__log', 'D_71__max', 'D_71__mean', 'D_71__mean2std', 'D_71__mean__log', 'D_71__min', 'D_71__range', 'D_71__std', 'D_72__first', 'D_72__last', 'D_72__last2max', 'D_72__last2min', 'D_72__last__log', 'D_72__max', 'D_72__mean', 'D_72__mean2std', 'D_72__mean__log', 'D_72__min', 'D_72__range', 'D_72__std', 'D_73__first', 'D_73__last', 'D_73__last2max', 'D_73__last2min', 'D_73__max', 'D_73__mean', 'D_73__mean2std', 'D_73__min', 'D_73__range', 'D_73__std', 'D_74__first', 'D_74__last', 'D_74__last2max', 'D_74__last2min', 'D_74__last__log', 'D_74__max', 'D_74__mean', 'D_74__mean2std', 'D_74__mean__log', 'D_74__min', 'D_74__range', 'D_74__std', 'D_75__first', 'D_75__last', 'D_75__last2max', 'D_75__last2min', 'D_75__last__log', 'D_75__max', 'D_75__mean', 'D_75__mean2std', 'D_75__mean__log', 'D_75__min', 'D_75__range', 'D_75__std', 'D_76__first', 'D_76__last', 'D_76__last2max', 'D_76__last2min', 'D_76__last__log', 'D_76__max', 'D_76__mean', 'D_76__mean2std', 'D_76__mean__log', 'D_76__min', 'D_76__range', 'D_76__std', 'D_77__first', 'D_77__last', 'D_77__last2max', 'D_77__last2min', 'D_77__last__log', 'D_77__max', 'D_77__mean', 'D_77__mean2std', 'D_77__mean__log', 'D_77__min', 'D_77__range', 'D_77__std', 'D_78__first', 'D_78__last', 'D_78__last2max', 'D_78__last2min', 'D_78__last__log', 'D_78__max', 'D_78__mean', 'D_78__mean2std', 'D_78__mean__log', 'D_78__min', 'D_78__range', 'D_78__std', 'D_79__first', 'D_79__last', 'D_79__last2max', 'D_79__last2min', 'D_79__last__log', 'D_79__max', 'D_79__mean', 'D_79__mean2std', 'D_79__mean__log', 'D_79__min', 'D_79__range', 'D_79__std', 'D_80__first', 'D_80__last', 'D_80__last2max', 'D_80__last2min', 'D_80__last__log', 'D_80__max', 'D_80__mean', 'D_80__mean2std', 'D_80__mean__log', 'D_80__min', 'D_80__range', 'D_80__std', 'D_81__first', 'D_81__last', 'D_81__last2max', 'D_81__last2min', 'D_81__last__log', 'D_81__max', 'D_81__mean', 'D_81__mean2std', 'D_81__mean__log', 'D_81__min', 'D_81__range', 'D_81__std', 'D_82__first', 'D_82__last', 'D_82__last2max', 'D_82__last2min', 'D_82__last__log', 'D_82__max', 'D_82__mean', 'D_82__mean2std', 'D_82__mean__log', 'D_82__min', 'D_82__range', 'D_82__std', 'D_83__first', 'D_83__last', 'D_83__last2max', 'D_83__last2min', 'D_83__last__log', 'D_83__max', 'D_83__mean', 'D_83__mean2std', 'D_83__mean__log', 'D_83__min', 'D_83__range', 'D_83__std', 'D_84__first', 'D_84__last', 'D_84__last2max', 'D_84__last2min', 'D_84__last__log', 'D_84__max', 'D_84__mean', 'D_84__mean2std', 'D_84__mean__log', 'D_84__min', 'D_84__range', 'D_84__std', 'D_86__first', 'D_86__last', 'D_86__last2max', 'D_86__last2min', 'D_86__last__log', 'D_86__max', 'D_86__mean', 'D_86__mean2std', 'D_86__mean__log', 'D_86__min', 'D_86__range', 'D_86__std', 'D_87__first', 'D_87__last', 'D_87__last2max', 'D_87__last2min', 'D_87__last__log', 'D_87__max', 'D_87__mean', 'D_87__mean2std', 'D_87__mean__log', 'D_87__min', 'D_87__range', 'D_87__std', 'D_88__first', 'D_88__last', 'D_88__last2max', 'D_88__last2min', 'D_88__max', 'D_88__mean', 'D_88__mean2std', 'D_88__mean__log', 'D_88__min', 'D_88__range', 'D_88__std', 'D_89__first', 'D_89__last', 'D_89__last2max', 'D_89__last2min', 'D_89__last__log', 'D_89__max', 'D_89__mean', 'D_89__mean2std', 'D_89__mean__log', 'D_89__min', 'D_89__range', 'D_89__std', 'D_91__first', 'D_91__last', 'D_91__last2max', 'D_91__last2min', 'D_91__last__log', 'D_91__max', 'D_91__mean', 'D_91__mean2std', 'D_91__mean__log', 'D_91__min', 'D_91__range', 'D_91__std', 'D_92__first', 'D_92__last', 'D_92__last2max', 'D_92__last2min', 'D_92__last__log', 'D_92__max', 'D_92__mean', 'D_92__mean2std', 'D_92__mean__log', 'D_92__min', 'D_92__range', 'D_92__std', 'D_93__first', 'D_93__last', 'D_93__last2max', 'D_93__last2min', 'D_93__last__log', 'D_93__max', 'D_93__mean', 'D_93__mean2std', 'D_93__mean__log', 'D_93__min', 'D_93__range', 'D_93__std', 'D_94__first', 'D_94__last', 'D_94__last2max', 'D_94__last2min', 'D_94__last__log', 'D_94__max', 'D_94__mean', 'D_94__mean2std', 'D_94__mean__log', 'D_94__min', 'D_94__range', 'D_94__std', 'D_96__first', 'D_96__last', 'D_96__last2max', 'D_96__last2min', 'D_96__last__log', 'D_96__max', 'D_96__mean', 'D_96__mean2std', 'D_96__mean__log', 'D_96__min', 'D_96__range', 'D_96__std', 'P_2__first', 'P_2__last', 'P_2__last2max', 'P_2__last2min', 'P_2__max', 'P_2__mean', 'P_2__mean2std', 'P_2__min', 'P_2__range', 'P_2__std', 'P_3__first', 'P_3__last', 'P_3__last2max', 'P_3__last2min', 'P_3__max', 'P_3__mean', 'P_3__mean2std', 'P_3__min', 'P_3__range', 'P_3__std', 'P_4__first', 'P_4__last', 'P_4__last2max', 'P_4__last2min', 'P_4__last__log', 'P_4__max', 'P_4__mean', 'P_4__mean2std', 'P_4__mean__log', 'P_4__min', 'P_4__range', 'P_4__std', 'R_10__first', 'R_10__last', 'R_10__last2max', 'R_10__last2min', 'R_10__last__log', 'R_10__max', 'R_10__mean', 'R_10__mean2std', 'R_10__mean__log', 'R_10__min', 'R_10__range', 'R_10__std', 'R_11__first', 'R_11__last', 'R_11__last2max', 'R_11__last2min', 'R_11__last__log', 'R_11__max', 'R_11__mean', 'R_11__mean2std', 'R_11__mean__log', 'R_11__min', 'R_11__range', 'R_11__std', 'R_12__first', 'R_12__last', 'R_12__last2max', 'R_12__last2min', 'R_12__max', 'R_12__mean', 'R_12__mean2std', 'R_12__min', 'R_12__range', 'R_12__std', 'R_13__first', 'R_13__last', 'R_13__last2max', 'R_13__last2min', 'R_13__last__log', 'R_13__max', 'R_13__mean', 'R_13__mean2std', 'R_13__mean__log', 'R_13__min', 'R_13__range', 'R_13__std', 'R_14__first', 'R_14__last', 'R_14__last2max', 'R_14__last2min', 'R_14__last__log', 'R_14__max', 'R_14__mean', 'R_14__mean2std', 'R_14__mean__log', 'R_14__min', 'R_14__range', 'R_14__std', 'R_15__first', 'R_15__last', 'R_15__last2max', 'R_15__last2min', 'R_15__last__log', 'R_15__max', 'R_15__mean', 'R_15__mean2std', 'R_15__mean__log', 'R_15__min', 'R_15__range', 'R_15__std', 'R_16__first', 'R_16__last', 'R_16__last2max', 'R_16__last2min', 'R_16__last__log', 'R_16__max', 'R_16__mean', 'R_16__mean2std', 'R_16__mean__log', 'R_16__min', 'R_16__range', 'R_16__std', 'R_17__first', 'R_17__last', 'R_17__last2max', 'R_17__last2min', 'R_17__last__log', 'R_17__max', 'R_17__mean', 'R_17__mean2std', 'R_17__mean__log', 'R_17__min', 'R_17__range', 'R_17__std', 'R_18__first', 'R_18__last', 'R_18__last2max', 'R_18__last2min', 'R_18__last__log', 'R_18__max', 'R_18__mean', 'R_18__mean2std', 'R_18__mean__log', 'R_18__min', 'R_18__range', 'R_18__std', 'R_19__first', 'R_19__last', 'R_19__last2max', 'R_19__last2min', 'R_19__last__log', 'R_19__max', 'R_19__mean', 'R_19__mean2std', 'R_19__mean__log', 'R_19__min', 'R_19__range', 'R_19__std', 'R_1__first', 'R_1__last', 'R_1__last2max', 'R_1__last2min', 'R_1__last__log', 'R_1__max', 'R_1__mean', 'R_1__mean2std', 'R_1__mean__log', 'R_1__min', 'R_1__range', 'R_1__std', 'R_20__first', 'R_20__last', 'R_20__last2max', 'R_20__last2min', 'R_20__last__log', 'R_20__max', 'R_20__mean', 'R_20__mean2std', 'R_20__mean__log', 'R_20__min', 'R_20__range', 'R_20__std', 'R_21__first', 'R_21__last', 'R_21__last2max', 'R_21__last2min', 'R_21__last__log', 'R_21__max', 'R_21__mean', 'R_21__mean2std', 'R_21__mean__log', 'R_21__min', 'R_21__range', 'R_21__std', 'R_22__first', 'R_22__last', 'R_22__last2max', 'R_22__last2min', 'R_22__last__log', 'R_22__max', 'R_22__mean', 'R_22__mean2std', 'R_22__mean__log', 'R_22__min', 'R_22__range', 'R_22__std', 'R_23__first', 'R_23__last', 'R_23__last2max', 'R_23__last2min', 'R_23__last__log', 'R_23__max', 'R_23__mean', 'R_23__mean2std', 'R_23__mean__log', 'R_23__min', 'R_23__range', 'R_23__std', 'R_24__first', 'R_24__last', 'R_24__last2max', 'R_24__last2min', 'R_24__last__log', 'R_24__max', 'R_24__mean', 'R_24__mean2std', 'R_24__mean__log', 'R_24__min', 'R_24__range', 'R_24__std', 'R_25__first', 'R_25__last', 'R_25__last2max', 'R_25__last2min', 'R_25__last__log', 'R_25__max', 'R_25__mean', 'R_25__mean2std', 'R_25__mean__log', 'R_25__min', 'R_25__range', 'R_25__std', 'R_26__first', 'R_26__last', 'R_26__last2max', 'R_26__last2min', 'R_26__last__log', 'R_26__max', 'R_26__mean', 'R_26__mean2std', 'R_26__mean__log', 'R_26__min', 'R_26__range', 'R_26__std', 'R_27__first', 'R_27__last', 'R_27__last2max', 'R_27__last2min', 'R_27__max', 'R_27__mean', 'R_27__mean2std', 'R_27__min', 'R_27__range', 'R_27__std', 'R_28__first', 'R_28__last', 'R_28__last2max', 'R_28__last2min', 'R_28__last__log', 'R_28__max', 'R_28__mean', 'R_28__mean2std', 'R_28__mean__log', 'R_28__min', 'R_28__range', 'R_28__std', 'R_2__first', 'R_2__last', 'R_2__last2max', 'R_2__last2min', 'R_2__last__log', 'R_2__max', 'R_2__mean', 'R_2__mean2std', 'R_2__mean__log', 'R_2__min', 'R_2__range', 'R_2__std', 'R_3__first', 'R_3__last', 'R_3__last2max', 'R_3__last2min', 'R_3__last__log', 'R_3__max', 'R_3__mean', 'R_3__mean2std', 'R_3__mean__log', 'R_3__min', 'R_3__range', 'R_3__std', 'R_4__first', 'R_4__last', 'R_4__last2max', 'R_4__last2min', 'R_4__last__log', 'R_4__max', 'R_4__mean', 'R_4__mean2std', 'R_4__mean__log', 'R_4__min', 'R_4__range', 'R_4__std', 'R_5__first', 'R_5__last', 'R_5__last2max', 'R_5__last2min', 'R_5__last__log', 'R_5__max', 'R_5__mean', 'R_5__mean2std', 'R_5__mean__log', 'R_5__min', 'R_5__range', 'R_5__std', 'R_6__first', 'R_6__last', 'R_6__last2max', 'R_6__last2min', 'R_6__last__log', 'R_6__max', 'R_6__mean', 'R_6__mean2std', 'R_6__mean__log', 'R_6__min', 'R_6__range', 'R_6__std', 'R_7__first', 'R_7__last', 'R_7__last2max', 'R_7__last2min', 'R_7__last__log', 'R_7__max', 'R_7__mean', 'R_7__mean2std', 'R_7__mean__log', 'R_7__min', 'R_7__range', 'R_7__std', 'R_8__first', 'R_8__last', 'R_8__last2max', 'R_8__last2min', 'R_8__last__log', 'R_8__max', 'R_8__mean', 'R_8__mean2std', 'R_8__mean__log', 'R_8__min', 'R_8__range', 'R_8__std', 'R_9__first', 'R_9__last', 'R_9__last2max', 'R_9__last2min', 'R_9__last__log', 'R_9__max', 'R_9__mean', 'R_9__mean2std', 'R_9__mean__log', 'R_9__min', 'R_9__range', 'R_9__std', 'S_11__first', 'S_11__last', 'S_11__last2max', 'S_11__last2min', 'S_11__max', 'S_11__mean', 'S_11__mean2std', 'S_11__min', 'S_11__range', 'S_11__std', 'S_12__first', 'S_12__last', 'S_12__last2max', 'S_12__last2min', 'S_12__max', 'S_12__mean', 'S_12__mean2std', 'S_12__min', 'S_12__range', 'S_12__std', 'S_13__first', 'S_13__last', 'S_13__last2max', 'S_13__last2min', 'S_13__last__log', 'S_13__max', 'S_13__mean', 'S_13__mean2std', 'S_13__mean__log', 'S_13__min', 'S_13__range', 'S_13__std', 'S_15__first', 'S_15__last', 'S_15__last2max', 'S_15__last2min', 'S_15__max', 'S_15__mean', 'S_15__mean2std', 'S_15__min', 'S_15__range', 'S_15__std', 'S_16__first', 'S_16__last', 'S_16__last2max', 'S_16__last2min', 'S_16__last__log', 'S_16__max', 'S_16__mean', 'S_16__mean2std', 'S_16__mean__log', 'S_16__min', 'S_16__range', 'S_16__std', 'S_17__first', 'S_17__last', 'S_17__last2max', 'S_17__last2min', 'S_17__last__log', 'S_17__max', 'S_17__mean', 'S_17__mean2std', 'S_17__mean__log', 'S_17__min', 'S_17__range', 'S_17__std', 'S_18__first', 'S_18__last', 'S_18__last2max', 'S_18__last2min', 'S_18__last__log', 'S_18__max', 'S_18__mean', 'S_18__mean2std', 'S_18__mean__log', 'S_18__min', 'S_18__range', 'S_18__std', 'S_19__first', 'S_19__last', 'S_19__last2max', 'S_19__last2min', 'S_19__last__log', 'S_19__max', 'S_19__mean', 'S_19__mean2std', 'S_19__mean__log', 'S_19__min', 'S_19__range', 'S_19__std', 'S_20__first', 'S_20__last', 'S_20__last2max', 'S_20__last2min', 'S_20__last__log', 'S_20__max', 'S_20__mean', 'S_20__mean2std', 'S_20__mean__log', 'S_20__min', 'S_20__range', 'S_20__std', 'S_22__first', 'S_22__last', 'S_22__last2max', 'S_22__last2min', 'S_22__max', 'S_22__mean', 'S_22__mean2std', 'S_22__min', 'S_22__range', 'S_22__std', 'S_23__first', 'S_23__last', 'S_23__last2max', 'S_23__last2min', 'S_23__max', 'S_23__mean', 'S_23__mean2std', 'S_23__min', 'S_23__range', 'S_23__std', 'S_24__first', 'S_24__last', 'S_24__last2max', 'S_24__last2min', 'S_24__max', 'S_24__mean', 'S_24__mean2std', 'S_24__min', 'S_24__range', 'S_24__std', 'S_25__first', 'S_25__last', 'S_25__last2max', 'S_25__last2min', 'S_25__max', 'S_25__mean', 'S_25__mean2std', 'S_25__min', 'S_25__range', 'S_25__std', 'S_26__first', 'S_26__last', 'S_26__last2max', 'S_26__last2min', 'S_26__last__log', 'S_26__max', 'S_26__mean', 'S_26__mean2std', 'S_26__mean__log', 'S_26__min', 'S_26__range', 'S_26__std', 'S_27__first', 'S_27__last', 'S_27__last2max', 'S_27__last2min', 'S_27__last__log', 'S_27__max', 'S_27__mean', 'S_27__mean2std', 'S_27__mean__log', 'S_27__min', 'S_27__range', 'S_27__std', 'S_2=count', 'S_3__first', 'S_3__last', 'S_3__last2max', 'S_3__last2min', 'S_3__max', 'S_3__mean', 'S_3__mean2std', 'S_3__min', 'S_3__range', 'S_3__std', 'S_5__first', 'S_5__last', 'S_5__last2max', 'S_5__last2min', 'S_5__last__log', 'S_5__max', 'S_5__mean', 'S_5__mean2std', 'S_5__mean__log', 'S_5__min', 'S_5__range', 'S_5__std', 'S_6__first', 'S_6__last', 'S_6__last2max', 'S_6__last2min', 'S_6__last__log', 'S_6__max', 'S_6__mean', 'S_6__mean2std', 'S_6__mean__log', 'S_6__min', 'S_6__range', 'S_6__std', 'S_7__first', 'S_7__last', 'S_7__last2max', 'S_7__last2min', 'S_7__max', 'S_7__mean', 'S_7__mean2std', 'S_7__min', 'S_7__range', 'S_7__std', 'S_8__first', 'S_8__last', 'S_8__last2max', 'S_8__last2min', 'S_8__last__log', 'S_8__max', 'S_8__mean', 'S_8__mean2std', 'S_8__mean__log', 'S_8__min', 'S_8__range', 'S_8__std', 'S_9__first', 'S_9__last', 'S_9__last2max', 'S_9__last2min', 'S_9__last__log', 'S_9__max', 'S_9__mean', 'S_9__mean2std', 'S_9__mean__log', 'S_9__min', 'S_9__range', 'S_9__std', 'customer_ID', 'days', 'target']\n"
     ]
    },
    {
     "data": {
      "text/plain": [
       "2122"
      ]
     },
     "execution_count": 4,
     "metadata": {},
     "output_type": "execute_result"
    }
   ],
   "source": [
    "all_cols = df.columns.tolist()\n",
    "all_cols.sort()\n",
    "print(all_cols)\n",
    "len(all_cols)"
   ]
  },
  {
   "cell_type": "code",
   "execution_count": 5,
   "metadata": {
    "execution": {
     "iopub.execute_input": "2022-07-14T16:44:45.971407Z",
     "iopub.status.busy": "2022-07-14T16:44:45.970747Z",
     "iopub.status.idle": "2022-07-14T16:44:45.982134Z",
     "shell.execute_reply": "2022-07-14T16:44:45.981060Z",
     "shell.execute_reply.started": "2022-07-14T16:44:45.971370Z"
    }
   },
   "outputs": [
    {
     "data": {
      "text/plain": [
       "660"
      ]
     },
     "execution_count": 5,
     "metadata": {},
     "output_type": "execute_result"
    }
   ],
   "source": [
    "id_feats = ['customer_ID']\n",
    "date_col =  'S_2'\n",
    "target_col = 'target'\n",
    "\n",
    "# x_cols = list(set(all_cols)-set(['customer_ID', 'S_2', 'target']))\n",
    "# len(x_cols)\n",
    "\n",
    "x_cols = ['P_2__last', 'P_2__min', 'P_2__mean', 'D_48__last', 'P_2__max', 'R_1__mean__log', 'D_48__mean', 'R_1__std', 'D_44__mean__log', 'B_2__last__log', 'B_2__last', 'R_1__max', 'P_2__first', 'D_44__last__log', 'R_1__range', 'B_18__last', 'B_9__last', 'B_3__last__log', 'D_61__last', 'B_2__mean', 'D_48__max', 'D_55__last', 'B_9__mean', 'B_3__mean__log', 'R_1__mean', 'B_33__last', 'D_44__last', 'D_44__max', 'B_18__mean', 'D_48__min', 'B_23__last__log', 'B_33__mean', 'B_3__last', 'B_33__last__log', 'B_7__last', 'B_11__last__log', 'D_75__last', 'D_58__last', 'B_2__last2max', 'B_20__last__log', 'B_23__last', 'R_10__mean__log', 'B_23__mean__log', 'B_2__mean__log', 'D_55__max', 'D_61__mean', 'B_3__max', 'B_18__last__log', 'B_22__mean__log', 'D_75__mean__log', 'B_2__min', 'B_9__last__log', 'D_75__last__log', 'D_44__mean', 'B_11__mean__log', 'R_1__last', 'B_20__mean__log', 'D_75__max', 'R_10__std', 'B_18__min', 'B_16__last', 'D_61__min', 'D_78__mean__log', 'D_48__first', 'B_9__mean__log', 'D_58__max', 'B_4__last', 'D_44__std', 'B_3__range', 'B_3__std', 'D_74__last', 'B_20__last', 'B_19__last__log', 'R_10__max', 'D_75__mean', 'R_10__range', 'D_44__range', 'B_19__mean__log', 'D_58__mean', 'B_22__max', 'B_19__last', 'D_74__mean__log', 'B_7__max', 'D_74__last__log', 'B_1__last', 'B_7__mean', 'B_23__max', 'B_37__last', 'R_1__last__log', 'B_4__last__log', 'R_2__mean__log', 'D_58__last__log', 'R_2__max', 'B_19__max', 'B_18__mean__log', 'B_3__mean', 'B_23__mean', 'R_2__std', 'B_33__mean__log', 'D_55__mean', 'D_74__max', 'B_40__last__log', 'D_58__mean__log', 'B_9__max', 'R_2__range', 'B_18__max', 'B_40__mean__log', 'B_11__last', 'B_4__mean__log', 'B_9__min', 'B_20__max', 'D_78__std', 'B_30=0.0', 'D_74__mean', 'B_22__mean', 'B_30__nunique', 'B_16__max', 'R_2__last', 'D_78__range', 'B_33__last2max', 'D_78__max', 'D_55__std', 'B_22__std', 'R_4__std', 'D_55__range', 'R_5__mean__log', 'B_18__last2max', 'D_55__last__log', 'R_4__mean__log', 'R_4__max', 'D_77__mean__log', 'B_22__range', 'B_1__mean', 'B_22__last', 'B_16__last__log', 'B_4__mean', 'R_4__range', 'B_37__mean', 'R_10__mean', 'R_8__mean__log', 'B_33__min', 'B_4__max', 'D_77__last__log', 'B_30=1.0', 'D_84__mean__log', 'D_75__min', 'B_4__last2max', 'B_19__mean', 'B_22__last__log', 'B_28__last2max', 'D_39__max', 'R_6__mean__log', 'D_41__range', 'B_11__mean', 'D_39__std', 'D_41__std', 'R_2__mean', 'D_58__min', 'B_14__last2max', 'D_39__range', 'B_19__range', 'S_7__max', 'D_55__mean__log', 'B_16__mean', 'B_7__min', 'B_11__last2max', 'B_2__max', 'S_7__mean', 'S_25__std', 'D_41__last', 'B_20__mean', 'D_41__max', 'B_1__max', 'B_37__max', 'S_3__max', 'B_16__last2max', 'S_25__range', 'D_44__first', 'P_3__min', 'S_3__mean', 'D_75__first', 'D_75__last2max', 'R_7__mean__log', 'B_9__first', 'P_3__mean', 'B_19__std', 'B_23__min', 'D_41__last__log', 'S_25__min', 'D_112__last__log', 'D_70__max', 'D_41__mean__log', 'R_4__mean', 'B_16__mean__log', 'D_74__min', 'B_18__first', 'B_33__max', 'B_11__max', 'D_70__mean__log', 'P_2__range', 'B_9__last2max', 'D_44__min', 'D_62__mean', 'D_78__last__log', 'P_2__std', 'D_70__std', 'B_6__last2max', 'B_4__min', 'S_7__last', 'S_25__mean', 'R_4__last', 'R_2__last__log', 'D_65__mean__log', 'B_23__range', 'B_2__first', 'B_38=2.0', 'D_112__last', 'D_62__max', 'R_3__mean', 'R_3__max', 'D_74__first', 'B_10__min', 'D_58__first', 'D_75__std', 'B_17__min', 'D_70__mean', 'B_25__last2max', 'D_78__last', 'D_70__range', 'B_20__last2max', 'D_75__range', 'B_23__last2max', 'P_3__last', 'S_3__last', 'D_112__last2max', 'B_8__min', 'D_55__min', 'D_39__last', 'D_62__last', 'D_78__mean', 'D_74__std', 'B_7__range', 'D_77__mean', 'S_15__max', 'R_8__std', 'B_37__last2max', 'B_23__std', 'D_74__range', 'B_38=4.0', 'B_1__min', 'B_8__mean', 'D_45__mean__log', 'S_7__range', 'D_58__last2max', 'B_7__first', 'R_8__max', 'R_8__range', 'D_77__max', 'B_8__first', 'R_15__std', 'D_70__last', 'B_37__min', 'R_15__max', 'D_77__last', 'R_15__range', 'S_7__std', 'B_7__std', 'D_74__last2max', 'B_23__first', 'R_15__mean__log', 'B_38__nunique', 'S_3__range', 'B_3__min', 'R_3__mean__log', 'D_43__mean', 'D_53__last__log', 'R_5__std', 'R_5__max', 'D_58__range', 'D_58__std', 'B_1__last2max', 'R_5__range', 'R_3__range', 'D_77__first', 'D_84__max', 'D_62__first', 'R_3__std', 'B_11__min', 'S_3__std', 'D_84__range', 'B_7__last2max', 'B_8__mean__log', 'B_3__last2max', 'B_28__mean__log', 'B_16__min', 'B_8__last', 'D_77__min', 'D_51__mean__log', 'D_84__std', 'D_70__last__log', 'B_33__first', 'D_45__last__log', 'S_15__range', 'B_38=5.0', 'B_20__range', 'D_43__max', 'D_53__mean__log', 'S_15__std', 'S_7__min', 'D_44__last2max', 'D_55__last2max', 'B_8__last__log', 'B_8__max', 'D_43__mean__log', 'D_62__min', 'D_39__mean', 'D_55__first', 'P_4__first', 'P_4__max', 'D_72__mean__log', 'B_3__first', 'D_84__last__log', 'R_15__mean', 'R_10__last', 'S_7__first', 'B_4__first', 'S_3__min', 'D_112__min', 'S_3__first', 'D_47__min', 'P_3__std', 'D_47__last', 'D_41__mean', 'D_39__mean__log', 'D_47__mean', 'P_4__mean__log', 'B_4__std', 'S_25__last', 'B_26__mean__log', 'D_81__mean__log', 'B_19__min', 'R_6__last__log', 'D_43__last', 'R_8__mean', 'B_10__last2max', 'D_47__first', 'B_9__std', 'B_20__std', 'B_1__first', 'D_45__first', 'D_45__max', 'R_5__last__log', 'B_40__min', 'D_43__last__log', 'B_37__first', 'D_47__max', 'R_16__mean__log', 'B_20__min', 'R_24__max', 'R_16__std', 'R_3__first', 'B_40__last2max', 'D_51__last__log', 'D_53__max', 'R_16__mean', 'D_53__last', 'D_54__last', 'R_24__range', 'R_24__std', 'D_54__last2max', 'D_65__last__log', 'B_4__range', 'D_43__std', 'B_19__first', 'D_45__mean', 'R_4__last__log', 'D_51__mean', 'D_39__last__log', 'R_3__last', 'B_9__range', 'R_20__mean__log', 'R_24__mean__log', 'R_10__last__log', 'B_28__last', 'R_27__last', 'R_27__min', 'D_51__last', 'D_84__last', 'R_5__mean', 'D_43__range', 'D_43__min', 'R_27__mean', 'R_14__mean__log', 'D_53__range', 'B_11__first', 'D_54__min', 'D_51__max', 'D_53__std', 'R_16__max', 'R_7__last__log', 'D_45__min', 'R_16__range', 'P_4__mean', 'B_22__first', 'D_45__last', 'D_79__mean__log', 'D_131__max', 'R_26__mean2std', 'B_16__std', 'D_54__range', 'D_131__mean__log', 'D_81__max', 'B_26__last__log', 'B_20__first', 'D_81__last', 'R_1__first', 'D_84__mean', 'B_19__last2max', 'D_72__max', 'D_131__last', 'S_15__mean', 'R_27__max', 'R_27__first', 'P_3__range', 'R_5__last', 'D_42__max', 'B_1__range', 'D_53__mean', 'D_112__mean', 'D_42__first', 'B_30=2.0', 'D_42__mean', 'B_37__range', 'B_11__range', 'B_17__mean2std', 'B_16__first', 'D_120__nunique', 'B_16__range', 'D_72__range', 'D_81__range', 'D_70__first', 'D_43__first', 'B_1__std', 'B_37__std', 'D_131__mean', 'D_52__min', 'D_89__mean__log', 'D_79__max', 'D_42__min', 'B_11__std', 'D_42__last', 'D_72__std', 'D_81__last__log', 'B_17__mean', 'D_89__std', 'D_81__std', 'D_54__std', 'D_89__max', 'R_13__max', 'D_89__range', 'R_8__last__log', 'R_13__std', 'D_79__last', 'D_120=0.0', 'D_112__range', 'D_72__last', 'R_13__range', 'D_52__mean', 'D_51__first', 'D_79__mean', 'D_72__last__log', 'R_3__last__log', 'S_8__min', 'D_106__mean2std', 'D_112__std', 'B_21__mean__log', 'R_8__last', 'B_28__min', 'D_130__last', 'D_42__mean2std', 'R_3__min', 'D_49__mean2std', 'D_52__last', 'R_24__mean', 'D_46__mean', 'S_25__last2max', 'D_130__max', 'D_62__last2max', 'D_120=1.0', 'D_127__max', 'D_127__mean__log', 'D_52__first', 'D_79__last__log', 'R_11__mean', 'D_131__last__log', 'D_51__min', 'B_25__last', 'D_130__mean__log', 'B_28__mean', 'D_53__mean2std', 'R_21__max', 'D_64=O', 'R_21__mean__log', 'S_11__min', 'S_16__mean__log', 'B_8__last2max', 'R_21__std', 'D_114=1.0', 'R_11__std', 'D_59__last', 'D_130__last__log', 'R_24__last', 'R_13__mean__log', 'D_130__mean', 'R_21__range', 'P_4__range', 'R_6__max', 'S_15__last', 'D_131__first', 'D_59__mean', 'D_133__mean__log', 'R_6__range', 'R_9__mean2std', 'D_81__mean', 'B_2__std', 'R_20__max', 'D_127__mean', 'D_52__max', 'D_70__min', 'R_21__mean', 'P_4__std', 'R_20__range', 'R_20__std', 'B_12__mean__log', 'B_25__min', 'D_135__mean2std', 'D_71__last__log', 'D_59__max', 'D_89__mean', 'D_137__mean2std', 'D_138__mean2std', 'D_72__mean', 'D_79__first', 'R_6__std', 'D_53__min', 'D_136__mean2std', 'D_132__mean2std', 'R_15__last', 'S_5__mean__log', 'D_112__mean__log', 'D_41__mean2std', 'D_116__nunique', 'D_134__mean2std', 'S_13__last2max', 'D_128__min', 'D_128__first', 'D_131__min', 'D_64__last=O', 'S_20__max', 'D_128__mean', 'D_51__std', 'R_11__mean__log', 'S_27__last__log', 'D_115__mean__log', 'S_27__last2max', 'P_3__first', 'B_2__range', 'S_8__last', 'D_128__mean__log', 'D_68=6.0', 'R_13__mean', 'R_11__max', 'D_79__std', 'B_12__last__log', 'S_20__std', 'D_127__last', 'D_128__max', 'D_79__min', 'B_25__mean', 'S_20__mean__log', 'D_128__last', 'D_59__min', 'R_11__range', 'D_53__first', 'D_127__range', 'S_20__range', 'D_118__max', 'D_115__mean', 'D_51__range', 'D_130__min', 'D_79__range', 'D_115__max', 'D_62__std', 'D_71__mean__log', 'D_62__range', 'D_115__last', 'D_119__max', 'D_68__nunique', 'B_20__mean2std', 'D_78__first', 'R_17__max', 'D_130__first', 'D_128__last__log', 'B_38=6.0', 'D_127__std', 'D_115__last__log', 'D_92__mean__log', 'B_17__last', 'R_17__std', 'B_24__mean__log', 'R_17__range', 'S_8__mean', 'R_12__last', 'D_118__mean', 'B_32__max', 'B_22__min', 'S_6__range', 'R_20__mean', 'R_12__min', 'D_119__mean', 'P_4__min', 'R_6__mean', 'B_32__range', 'D_118__mean__log', 'D_115__first', 'S_20__mean', 'D_48__std', 'D_118__last', 'S_8__last2max', 'P_4__last', 'B_28__max', 'D_115__min', 'D_119__last', 'D_119__mean__log', 'S_13__min', 'D_56__mean2std', 'D_54__mean', 'S_5__last__log', 'D_92__max', 'S_15__first', 'D_39__mean2std', 'B_32__std', 'S_6__last2max', 'S_22__max', 'D_121__max', 'S_6__std', 'D_121__last', 'D_118__first', 'R_6__last', 'R_12__range', 'D_133__last__log', 'D_121__mean', 'D_89__last', 'B_32__mean__log', 'D_127__first', 'D_119__first', 'D_122__mean', 'R_12__std', 'R_13__last', 'D_92__mean']\n",
    "len(x_cols)"
   ]
  },
  {
   "cell_type": "code",
   "execution_count": 6,
   "metadata": {},
   "outputs": [
    {
     "name": "stdout",
     "output_type": "stream",
     "text": [
      "Wall time: 795 ms\n"
     ]
    }
   ],
   "source": [
    "%%time\n",
    "df = df[x_cols + [target_col]].copy(deep=True)"
   ]
  },
  {
   "cell_type": "raw",
   "metadata": {
    "execution": {
     "iopub.execute_input": "2022-07-14T16:44:45.986423Z",
     "iopub.status.busy": "2022-07-14T16:44:45.985915Z",
     "iopub.status.idle": "2022-07-14T16:44:46.946925Z",
     "shell.execute_reply": "2022-07-14T16:44:46.945753Z",
     "shell.execute_reply.started": "2022-07-14T16:44:45.986386Z"
    }
   },
   "source": [
    "float_cols = df.select_dtypes(include=['float64', 'float32']).columns.tolist()\n",
    "#---convert int64 to int32\n",
    "int_cols = df.select_dtypes(include=['int64', 'int32']).columns.tolist()\n",
    "\n",
    "num_cols = list(set(float_cols + int_cols) - set(['customer_ID', 'S_2', 'D_66|last', 'log_B_28|max', 'log_B_28|mean', 'target']))\n",
    "len(num_cols)"
   ]
  },
  {
   "cell_type": "raw",
   "metadata": {
    "execution": {
     "iopub.execute_input": "2022-07-14T16:45:00.865848Z",
     "iopub.status.busy": "2022-07-14T16:45:00.865517Z",
     "iopub.status.idle": "2022-07-14T16:45:00.873900Z",
     "shell.execute_reply": "2022-07-14T16:45:00.872722Z",
     "shell.execute_reply.started": "2022-07-14T16:45:00.865821Z"
    }
   },
   "source": [
    "x_cols = list(set(x_cols)-set(['D_66|last']))\n",
    "len(x_cols)"
   ]
  },
  {
   "cell_type": "raw",
   "metadata": {
    "execution": {
     "iopub.execute_input": "2022-07-14T16:44:51.721332Z",
     "iopub.status.busy": "2022-07-14T16:44:51.720086Z",
     "iopub.status.idle": "2022-07-14T16:44:51.726027Z",
     "shell.execute_reply": "2022-07-14T16:44:51.725020Z",
     "shell.execute_reply.started": "2022-07-14T16:44:51.721280Z"
    }
   },
   "source": [
    "x_cols = num_cols"
   ]
  },
  {
   "cell_type": "markdown",
   "metadata": {},
   "source": [
    "## spFSR feature selection"
   ]
  },
  {
   "cell_type": "raw",
   "metadata": {
    "execution": {
     "iopub.execute_input": "2022-07-14T16:44:54.311593Z",
     "iopub.status.busy": "2022-07-14T16:44:54.311181Z",
     "iopub.status.idle": "2022-07-14T16:44:54.317150Z",
     "shell.execute_reply": "2022-07-14T16:44:54.315842Z",
     "shell.execute_reply.started": "2022-07-14T16:44:54.311559Z"
    }
   },
   "source": [
    "import sys\n",
    "sys.path.append('/kaggle/input/fsspfsr')"
   ]
  },
  {
   "cell_type": "code",
   "execution_count": 7,
   "metadata": {
    "execution": {
     "iopub.execute_input": "2022-07-14T16:44:54.733463Z",
     "iopub.status.busy": "2022-07-14T16:44:54.733033Z",
     "iopub.status.idle": "2022-07-14T16:44:54.739740Z",
     "shell.execute_reply": "2022-07-14T16:44:54.738436Z",
     "shell.execute_reply.started": "2022-07-14T16:44:54.733429Z"
    }
   },
   "outputs": [],
   "source": [
    "import pandas as pd\n",
    "import numpy as np\n",
    "import os \n",
    "from pathlib import Path\n",
    "\n",
    "from datetime import datetime, timedelta\n",
    "import time \n",
    "from dateutil.relativedelta import relativedelta\n",
    "\n",
    "from sklearn.preprocessing import StandardScaler, MinMaxScaler"
   ]
  },
  {
   "cell_type": "code",
   "execution_count": 8,
   "metadata": {
    "execution": {
     "iopub.execute_input": "2022-07-14T16:44:56.061738Z",
     "iopub.status.busy": "2022-07-14T16:44:56.061035Z",
     "iopub.status.idle": "2022-07-14T16:44:56.066151Z",
     "shell.execute_reply": "2022-07-14T16:44:56.065127Z",
     "shell.execute_reply.started": "2022-07-14T16:44:56.061697Z"
    }
   },
   "outputs": [],
   "source": [
    "import pyarrow.parquet as pq\n",
    "import pyarrow as pa"
   ]
  },
  {
   "cell_type": "code",
   "execution_count": 9,
   "metadata": {
    "execution": {
     "iopub.execute_input": "2022-07-14T16:44:56.325437Z",
     "iopub.status.busy": "2022-07-14T16:44:56.324722Z",
     "iopub.status.idle": "2022-07-14T16:44:56.330828Z",
     "shell.execute_reply": "2022-07-14T16:44:56.329566Z",
     "shell.execute_reply.started": "2022-07-14T16:44:56.325398Z"
    }
   },
   "outputs": [],
   "source": [
    "import warnings\n",
    "warnings.filterwarnings(\"ignore\")\n",
    "\n",
    "pd.options.display.max_rows=999\n",
    "pd.options.display.max_columns=999"
   ]
  },
  {
   "cell_type": "code",
   "execution_count": 10,
   "metadata": {
    "execution": {
     "iopub.execute_input": "2022-07-14T16:44:57.087044Z",
     "iopub.status.busy": "2022-07-14T16:44:57.086397Z",
     "iopub.status.idle": "2022-07-14T16:45:00.863691Z",
     "shell.execute_reply": "2022-07-14T16:45:00.862594Z",
     "shell.execute_reply.started": "2022-07-14T16:44:57.087008Z"
    }
   },
   "outputs": [
    {
     "data": {
      "text/plain": [
       "Series([], dtype: int64)"
      ]
     },
     "execution_count": 10,
     "metadata": {},
     "output_type": "execute_result"
    }
   ],
   "source": [
    "df[x_cols].isna().sum()[df[x_cols].isna().sum()>0]"
   ]
  },
  {
   "cell_type": "code",
   "execution_count": 11,
   "metadata": {},
   "outputs": [
    {
     "name": "stdout",
     "output_type": "stream",
     "text": [
      "<class 'pandas.core.frame.DataFrame'>\n",
      "Int64Index: 458913 entries, 0 to 458912\n",
      "Columns: 661 entries, P_2__last to target\n",
      "dtypes: float32(654), int32(6), uint8(1)\n",
      "memory usage: 1.1 GB\n"
     ]
    }
   ],
   "source": [
    "df.info()"
   ]
  },
  {
   "cell_type": "code",
   "execution_count": 12,
   "metadata": {},
   "outputs": [
    {
     "name": "stdout",
     "output_type": "stream",
     "text": [
      "Wall time: 1min 38s\n"
     ]
    }
   ],
   "source": [
    "%%time\n",
    "float64_cols = df.select_dtypes(include=['float64', 'float32']).columns.tolist()\n",
    "df[float64_cols] = np.float16(df[float64_cols].values)\n",
    "#---convert int64 to int32\n",
    "int64_cols = df.select_dtypes(include=['int64', 'int32']).columns.tolist()\n",
    "df[int64_cols] = np.int16(df[int64_cols].values)"
   ]
  },
  {
   "cell_type": "code",
   "execution_count": 13,
   "metadata": {},
   "outputs": [
    {
     "name": "stdout",
     "output_type": "stream",
     "text": [
      "<class 'pandas.core.frame.DataFrame'>\n",
      "Int64Index: 458913 entries, 0 to 458912\n",
      "Columns: 661 entries, P_2__last to target\n",
      "dtypes: float16(654), int16(6), uint8(1)\n",
      "memory usage: 581.6 MB\n"
     ]
    }
   ],
   "source": [
    "df.info()"
   ]
  },
  {
   "cell_type": "code",
   "execution_count": 14,
   "metadata": {},
   "outputs": [],
   "source": [
    "    \n",
    "def save_log(log_file, log_message, verbose=False):\n",
    "    f = open(log_file, \"a\")\n",
    "    f.write(log_message)\n",
    "    f.close()\n",
    "    \n",
    "    if verbose:\n",
    "        print(log_message)"
   ]
  },
  {
   "cell_type": "code",
   "execution_count": 15,
   "metadata": {},
   "outputs": [],
   "source": [
    "log_file='amex/spfsr-rev3data-top660corrfeats.txt'"
   ]
  },
  {
   "cell_type": "code",
   "execution_count": 16,
   "metadata": {
    "execution": {
     "iopub.execute_input": "2022-07-14T16:45:00.876056Z",
     "iopub.status.busy": "2022-07-14T16:45:00.875381Z",
     "iopub.status.idle": "2022-07-14T16:45:01.156950Z",
     "shell.execute_reply": "2022-07-14T16:45:01.155876Z",
     "shell.execute_reply.started": "2022-07-14T16:45:00.876025Z"
    }
   },
   "outputs": [],
   "source": [
    "\n",
    "from sklearn.tree import DecisionTreeClassifier, DecisionTreeRegressor\n",
    "from sklearn.linear_model import LogisticRegression\n",
    "from sklearn.svm import SVC\n",
    "from spFSR import SpFSR\n"
   ]
  },
  {
   "cell_type": "code",
   "execution_count": 17,
   "metadata": {},
   "outputs": [
    {
     "data": {
      "text/plain": [
       "1250000"
      ]
     },
     "execution_count": 17,
     "metadata": {},
     "output_type": "execute_result"
    }
   ],
   "source": [
    "25000*50"
   ]
  },
  {
   "cell_type": "code",
   "execution_count": null,
   "metadata": {},
   "outputs": [],
   "source": [
    "n_samples = 25000\n",
    "\n",
    "for seed in range(1, 50):\n",
    "    df_ = df.sample(n=n_samples, replace=False, random_state=seed)\n",
    "    x=df_[x_cols]\n",
    "    y=df_['target']\n",
    "    \n",
    "    \n",
    "    # set the engine parameters\n",
    "    #sp_engine = SpFSR(x.values, y.values, pred_type='r', scoring='r2', wrapper=DecisionTreeRegressor(random_state=1))\n",
    "#     wrapper = DecisionTreeClassifier(max_depth=20, random_state=seed)\n",
    "#     wrapper = LogisticRegression(random_state=seed)\n",
    "    wrapper = SVC(random_state=seed)\n",
    "    \n",
    "    sp_engine = SpFSR(x.values, y.values, pred_type='c', scoring='roc_auc', wrapper=wrapper)\n",
    "\n",
    "    sp_run = sp_engine.run(num_features=200, n_samples_max=n_samples, print_freq=5, iter_max=15)  \n",
    "\n",
    "    sp_results = sp_run.results\n",
    "\n",
    "    print('Best value:', sp_results.get('selected_ft_score_mean'))\n",
    "    print('Indices of selected features: ', sp_results.get('selected_features'))\n",
    "    print('Importance of selected features: ', sp_results.get('selected_ft_importance').round(3))\n",
    "    print('Total iterations for the optimal feature set:', sp_results.get('total_iter_for_opt'))\n",
    "\n",
    "    sel_feats=list(np.array(x_cols)[sp_results.get('selected_features')])\n",
    "    print(sel_feats)"
   ]
  },
  {
   "cell_type": "code",
   "execution_count": 20,
   "metadata": {
    "execution": {
     "iopub.execute_input": "2022-07-14T16:45:27.694193Z",
     "iopub.status.busy": "2022-07-14T16:45:27.693766Z"
    },
    "scrolled": false
   },
   "outputs": [
    {
     "name": "stderr",
     "output_type": "stream",
     "text": [
      "SpFSR-INFO: Wrapper: LogisticRegression(random_state=1)\n",
      "SpFSR-INFO: Hot start: True\n",
      "SpFSR-INFO: Hot start range: 0.2\n",
      "SpFSR-INFO: Feature weighting: False\n",
      "SpFSR-INFO: Scoring metric: roc_auc\n",
      "SpFSR-INFO: Number of jobs: 1\n",
      "SpFSR-INFO: Number of observations in the dataset: 25000\n",
      "SpFSR-INFO: Number of observations used: 25000\n",
      "SpFSR-INFO: Number of features available: 660\n",
      "SpFSR-INFO: Number of features to select: 0\n",
      "SpFSR-INFO: iter_no: 0, num_ft: 9, value: 0.936, st_dev: 0.003, best: 0.936 @ iter_no 0\n",
      "SpFSR-INFO: iter_no: 5, num_ft: 12, value: 0.938, st_dev: 0.002, best: 0.938 @ iter_no 5\n",
      "SpFSR-INFO: iter_no: 10, num_ft: 24, value: 0.942, st_dev: 0.002, best: 0.942 @ iter_no 8\n",
      "SpFSR-INFO: iter_no: 15, num_ft: 29, value: 0.943, st_dev: 0.003, best: 0.943 @ iter_no 13\n",
      "SpFSR-INFO: ===> iter_no: 18, same feature stall limit reached, initializing search...\n",
      "SpFSR-INFO: iter_no: 20, num_ft: 7, value: 0.936, st_dev: 0.004, best: 0.943 @ iter_no 13\n",
      "SpFSR-INFO: ===> iter_no: 22, same feature stall limit reached, initializing search...\n",
      "SpFSR-INFO: iter_no: 25, num_ft: 11, value: 0.936, st_dev: 0.003, best: 0.943 @ iter_no 13\n",
      "SpFSR-INFO: SpFSR completed in 2.17 minutes.\n",
      "SpFSR-INFO: Best value = 0.943 with 25 features and 25 total iterations.\n",
      "\n"
     ]
    },
    {
     "name": "stdout",
     "output_type": "stream",
     "text": [
      "Best value: 0.943\n",
      "Indices of selected features:  [2, 26, 39, 9, 11, 0, 450, 51, 5, 15, 187, 103, 133, 25, 38, 3, 84, 4, 425, 7, 107, 89, 52, 88, 87]\n",
      "Importance of selected features:  [0.156 0.121 0.114 0.105 0.102 0.1   0.087 0.085 0.072 0.071 0.07  0.068\n",
      " 0.063 0.056 0.056 0.045 0.042 0.041 0.04  0.035 0.034 0.032 0.019 0.013\n",
      " 0.013]\n",
      "Total iterations for the optimal feature set: 13\n",
      "['P_2__mean', 'D_44__last', 'B_20__last__log', 'B_2__last__log', 'R_1__max', 'P_2__last', 'D_42__last', 'B_9__last__log', 'R_1__mean__log', 'B_18__last', 'D_41__last__log', 'B_9__max', 'B_22__last', 'B_33__last', 'B_2__last2max', 'D_48__last', 'B_1__last', 'P_2__max', 'D_42__max', 'R_1__std', 'B_11__last', 'B_4__last__log', 'D_75__last__log', 'R_1__last__log', 'B_37__last']\n"
     ]
    },
    {
     "name": "stderr",
     "output_type": "stream",
     "text": [
      "SpFSR-INFO: Wrapper: LogisticRegression(random_state=2)\n",
      "SpFSR-INFO: Hot start: True\n",
      "SpFSR-INFO: Hot start range: 0.2\n",
      "SpFSR-INFO: Feature weighting: False\n",
      "SpFSR-INFO: Scoring metric: roc_auc\n",
      "SpFSR-INFO: Number of jobs: 1\n",
      "SpFSR-INFO: Number of observations in the dataset: 25000\n",
      "SpFSR-INFO: Number of observations used: 25000\n",
      "SpFSR-INFO: Number of features available: 660\n",
      "SpFSR-INFO: Number of features to select: 0\n",
      "SpFSR-INFO: iter_no: 0, num_ft: 8, value: 0.935, st_dev: 0.003, best: 0.935 @ iter_no 0\n",
      "SpFSR-INFO: iter_no: 5, num_ft: 11, value: 0.936, st_dev: 0.003, best: 0.936 @ iter_no 2\n",
      "SpFSR-INFO: iter_no: 10, num_ft: 27, value: 0.942, st_dev: 0.003, best: 0.942 @ iter_no 7\n",
      "SpFSR-INFO: iter_no: 15, num_ft: 29, value: 0.944, st_dev: 0.003, best: 0.944 @ iter_no 12\n",
      "SpFSR-INFO: iter_no: 20, num_ft: 28, value: 0.944, st_dev: 0.004, best: 0.944 @ iter_no 12\n",
      "SpFSR-INFO: iter_no: 25, num_ft: 28, value: 0.944, st_dev: 0.003, best: 0.944 @ iter_no 12\n",
      "SpFSR-INFO: SpFSR completed in 2.24 minutes.\n",
      "SpFSR-INFO: Best value = 0.944 with 28 features and 25 total iterations.\n",
      "\n"
     ]
    },
    {
     "name": "stdout",
     "output_type": "stream",
     "text": [
      "Best value: 0.944\n",
      "Indices of selected features:  [2, 9, 15, 169, 26, 41, 39, 7, 184, 3, 55, 16, 35, 450, 4, 72, 38, 232, 107, 137, 0, 211, 11, 429, 49, 349, 27, 370]\n",
      "Importance of selected features:  [0.321 0.178 0.17  0.156 0.134 0.131 0.113 0.107 0.104 0.095 0.093 0.081\n",
      " 0.08  0.075 0.072 0.072 0.072 0.063 0.062 0.051 0.046 0.038 0.034 0.027\n",
      " 0.026 0.019 0.017 0.005]\n",
      "Total iterations for the optimal feature set: 12\n",
      "['P_2__mean', 'B_2__last__log', 'B_18__last', 'D_41__last', 'D_44__last', 'R_10__mean__log', 'B_20__last__log', 'R_1__std', 'P_3__mean', 'D_48__last', 'R_1__last', 'B_9__last', 'B_11__last__log', 'D_42__last', 'P_2__max', 'B_19__last__log', 'B_2__last2max', 'P_3__last', 'B_11__last', 'B_37__mean', 'P_2__last', 'R_2__last__log', 'R_1__max', 'D_42__first', 'D_75__mean__log', 'D_45__first', 'D_44__max', 'D_65__last__log']\n"
     ]
    },
    {
     "name": "stderr",
     "output_type": "stream",
     "text": [
      "SpFSR-INFO: Wrapper: LogisticRegression(random_state=3)\n",
      "SpFSR-INFO: Hot start: True\n",
      "SpFSR-INFO: Hot start range: 0.2\n",
      "SpFSR-INFO: Feature weighting: False\n",
      "SpFSR-INFO: Scoring metric: roc_auc\n",
      "SpFSR-INFO: Number of jobs: 1\n",
      "SpFSR-INFO: Number of observations in the dataset: 25000\n",
      "SpFSR-INFO: Number of observations used: 25000\n",
      "SpFSR-INFO: Number of features available: 660\n",
      "SpFSR-INFO: Number of features to select: 0\n",
      "SpFSR-INFO: iter_no: 0, num_ft: 9, value: 0.935, st_dev: 0.003, best: 0.935 @ iter_no 0\n",
      "SpFSR-INFO: iter_no: 5, num_ft: 12, value: 0.939, st_dev: 0.004, best: 0.939 @ iter_no 5\n",
      "SpFSR-INFO: iter_no: 10, num_ft: 25, value: 0.943, st_dev: 0.003, best: 0.943 @ iter_no 8\n",
      "SpFSR-INFO: iter_no: 15, num_ft: 23, value: 0.943, st_dev: 0.002, best: 0.943 @ iter_no 8\n",
      "SpFSR-INFO: ===> iter_no: 15, same feature stall limit reached, initializing search...\n",
      "SpFSR-INFO: iter_no: 20, num_ft: 9, value: 0.935, st_dev: 0.003, best: 0.943 @ iter_no 8\n",
      "SpFSR-INFO: iter_no: 25, num_ft: 18, value: 0.942, st_dev: 0.003, best: 0.943 @ iter_no 8\n",
      "SpFSR-INFO: SpFSR completed in 2.14 minutes.\n",
      "SpFSR-INFO: Best value = 0.943 with 25 features and 25 total iterations.\n",
      "\n"
     ]
    },
    {
     "name": "stdout",
     "output_type": "stream",
     "text": [
      "Best value: 0.943\n",
      "Indices of selected features:  [4, 167, 9, 11, 107, 2, 169, 25, 26, 15, 0, 32, 34, 3, 40, 87, 16, 309, 88, 51, 8, 55, 64, 84, 429]\n",
      "Importance of selected features:  [0.19  0.132 0.117 0.113 0.101 0.101 0.093 0.092 0.088 0.065 0.059 0.057\n",
      " 0.054 0.052 0.049 0.048 0.04  0.033 0.032 0.026 0.021 0.014 0.012 0.011\n",
      " 0.008]\n",
      "Total iterations for the optimal feature set: 8\n",
      "['P_2__max', 'S_7__mean', 'B_2__last__log', 'R_1__max', 'B_11__last', 'P_2__mean', 'D_41__last', 'B_33__last', 'D_44__last', 'B_18__last', 'P_2__last', 'B_3__last', 'B_7__last', 'D_48__last', 'B_23__last', 'B_37__last', 'B_9__last', 'D_44__last2max', 'R_1__last__log', 'B_9__last__log', 'D_44__mean__log', 'R_1__last', 'B_9__mean__log', 'B_1__last', 'D_42__first']\n"
     ]
    },
    {
     "name": "stderr",
     "output_type": "stream",
     "text": [
      "SpFSR-INFO: Wrapper: LogisticRegression(random_state=4)\n",
      "SpFSR-INFO: Hot start: True\n",
      "SpFSR-INFO: Hot start range: 0.2\n",
      "SpFSR-INFO: Feature weighting: False\n",
      "SpFSR-INFO: Scoring metric: roc_auc\n",
      "SpFSR-INFO: Number of jobs: 1\n",
      "SpFSR-INFO: Number of observations in the dataset: 25000\n",
      "SpFSR-INFO: Number of observations used: 25000\n",
      "SpFSR-INFO: Number of features available: 660\n",
      "SpFSR-INFO: Number of features to select: 0\n",
      "SpFSR-INFO: iter_no: 0, num_ft: 9, value: 0.938, st_dev: 0.003, best: 0.938 @ iter_no 0\n",
      "SpFSR-INFO: iter_no: 5, num_ft: 15, value: 0.942, st_dev: 0.003, best: 0.942 @ iter_no 5\n",
      "SpFSR-INFO: iter_no: 10, num_ft: 20, value: 0.947, st_dev: 0.003, best: 0.947 @ iter_no 10\n",
      "SpFSR-INFO: iter_no: 15, num_ft: 24, value: 0.948, st_dev: 0.002, best: 0.948 @ iter_no 15\n",
      "SpFSR-INFO: iter_no: 20, num_ft: 28, value: 0.948, st_dev: 0.003, best: 0.948 @ iter_no 15\n",
      "SpFSR-INFO: iter_no: 25, num_ft: 28, value: 0.949, st_dev: 0.003, best: 0.949 @ iter_no 21\n",
      "SpFSR-INFO: SpFSR completed in 2.29 minutes.\n",
      "SpFSR-INFO: Best value = 0.949 with 27 features and 25 total iterations.\n",
      "\n"
     ]
    },
    {
     "name": "stdout",
     "output_type": "stream",
     "text": [
      "Best value: 0.949\n",
      "Indices of selected features:  [3, 15, 251, 51, 2, 0, 27, 218, 178, 9, 39, 53, 26, 211, 107, 38, 425, 40, 32, 179, 19, 7, 138, 429, 158, 151, 20]\n",
      "Importance of selected features:  [0.204 0.203 0.203 0.191 0.183 0.179 0.142 0.13  0.099 0.098 0.093 0.088\n",
      " 0.088 0.077 0.074 0.074 0.074 0.069 0.064 0.061 0.057 0.033 0.024 0.024\n",
      " 0.021 0.009 0.002]\n",
      "Total iterations for the optimal feature set: 21\n",
      "['D_48__last', 'B_18__last', 'D_45__mean__log', 'B_9__last__log', 'P_2__mean', 'P_2__last', 'D_44__max', 'R_3__mean', 'P_3__min', 'B_2__last__log', 'B_20__last__log', 'D_44__mean', 'D_44__last', 'R_2__last__log', 'B_11__last', 'B_2__last2max', 'D_42__max', 'B_23__last', 'B_3__last', 'S_3__mean', 'B_2__mean', 'R_1__std', 'R_10__mean', 'D_42__first', 'B_14__last2max', 'R_6__mean__log', 'D_48__max']\n"
     ]
    },
    {
     "name": "stderr",
     "output_type": "stream",
     "text": [
      "SpFSR-INFO: Wrapper: LogisticRegression(random_state=5)\n",
      "SpFSR-INFO: Hot start: True\n",
      "SpFSR-INFO: Hot start range: 0.2\n",
      "SpFSR-INFO: Feature weighting: False\n",
      "SpFSR-INFO: Scoring metric: roc_auc\n",
      "SpFSR-INFO: Number of jobs: 1\n",
      "SpFSR-INFO: Number of observations in the dataset: 25000\n",
      "SpFSR-INFO: Number of observations used: 25000\n",
      "SpFSR-INFO: Number of features available: 660\n",
      "SpFSR-INFO: Number of features to select: 0\n",
      "SpFSR-INFO: iter_no: 0, num_ft: 9, value: 0.938, st_dev: 0.002, best: 0.938 @ iter_no 0\n",
      "SpFSR-INFO: iter_no: 5, num_ft: 20, value: 0.945, st_dev: 0.003, best: 0.945 @ iter_no 4\n",
      "SpFSR-INFO: iter_no: 10, num_ft: 21, value: 0.947, st_dev: 0.003, best: 0.947 @ iter_no 10\n",
      "SpFSR-INFO: iter_no: 15, num_ft: 24, value: 0.947, st_dev: 0.003, best: 0.947 @ iter_no 10\n",
      "SpFSR-INFO: iter_no: 20, num_ft: 27, value: 0.948, st_dev: 0.002, best: 0.948 @ iter_no 18\n",
      "SpFSR-INFO: iter_no: 25, num_ft: 27, value: 0.948, st_dev: 0.002, best: 0.948 @ iter_no 18\n",
      "SpFSR-INFO: ===> iter_no: 25, same feature stall limit reached, initializing search...\n",
      "SpFSR-INFO: SpFSR completed in 2.28 minutes.\n",
      "SpFSR-INFO: Best value = 0.948 with 25 features and 25 total iterations.\n",
      "\n"
     ]
    },
    {
     "name": "stdout",
     "output_type": "stream",
     "text": [
      "Best value: 0.948\n",
      "Indices of selected features:  [0, 15, 2, 9, 49, 273, 26, 429, 53, 11, 159, 184, 34, 179, 17, 154, 35, 4, 208, 119, 32, 211, 107, 16, 425]\n",
      "Importance of selected features:  [0.2   0.13  0.119 0.11  0.086 0.079 0.078 0.068 0.065 0.063 0.061 0.059\n",
      " 0.059 0.05  0.044 0.041 0.037 0.031 0.029 0.027 0.022 0.006 0.004 0.002\n",
      " 0.002]\n",
      "Total iterations for the optimal feature set: 18\n",
      "['P_2__last', 'B_18__last', 'P_2__mean', 'B_2__last__log', 'D_75__mean__log', 'R_3__mean__log', 'D_44__last', 'D_42__first', 'D_44__mean', 'R_1__max', 'D_39__range', 'P_3__mean', 'B_7__last', 'S_3__mean', 'B_3__last__log', 'D_39__std', 'B_11__last__log', 'P_2__max', 'S_7__last', 'B_33__last2max', 'B_3__last', 'R_2__last__log', 'B_11__last', 'B_9__last', 'D_42__max']\n"
     ]
    },
    {
     "name": "stderr",
     "output_type": "stream",
     "text": [
      "SpFSR-INFO: Wrapper: LogisticRegression(random_state=6)\n",
      "SpFSR-INFO: Hot start: True\n",
      "SpFSR-INFO: Hot start range: 0.2\n",
      "SpFSR-INFO: Feature weighting: False\n",
      "SpFSR-INFO: Scoring metric: roc_auc\n",
      "SpFSR-INFO: Number of jobs: 1\n",
      "SpFSR-INFO: Number of observations in the dataset: 25000\n",
      "SpFSR-INFO: Number of observations used: 25000\n",
      "SpFSR-INFO: Number of features available: 660\n",
      "SpFSR-INFO: Number of features to select: 0\n",
      "SpFSR-INFO: iter_no: 0, num_ft: 9, value: 0.939, st_dev: 0.003, best: 0.939 @ iter_no 0\n",
      "SpFSR-INFO: iter_no: 5, num_ft: 13, value: 0.94, st_dev: 0.002, best: 0.94 @ iter_no 3\n",
      "SpFSR-INFO: iter_no: 10, num_ft: 21, value: 0.944, st_dev: 0.003, best: 0.944 @ iter_no 10\n",
      "SpFSR-INFO: iter_no: 15, num_ft: 27, value: 0.947, st_dev: 0.003, best: 0.947 @ iter_no 13\n",
      "SpFSR-INFO: iter_no: 20, num_ft: 26, value: 0.948, st_dev: 0.002, best: 0.948 @ iter_no 18\n",
      "SpFSR-INFO: iter_no: 25, num_ft: 32, value: 0.948, st_dev: 0.002, best: 0.948 @ iter_no 18\n",
      "SpFSR-INFO: SpFSR completed in 2.29 minutes.\n",
      "SpFSR-INFO: Best value = 0.948 with 25 features and 25 total iterations.\n",
      "\n"
     ]
    },
    {
     "name": "stdout",
     "output_type": "stream",
     "text": [
      "Best value: 0.948\n",
      "Indices of selected features:  [16, 103, 273, 2, 9, 88, 12, 448, 117, 55, 17, 51, 71, 3, 11, 0, 38, 34, 66, 349, 8, 26, 107, 39, 25]\n",
      "Importance of selected features:  [0.15  0.148 0.145 0.123 0.121 0.114 0.112 0.097 0.075 0.074 0.068 0.067\n",
      " 0.063 0.055 0.046 0.039 0.032 0.032 0.03  0.023 0.023 0.021 0.018 0.016\n",
      " 0.001]\n",
      "Total iterations for the optimal feature set: 18\n",
      "['B_9__last', 'B_9__max', 'R_3__mean__log', 'P_2__mean', 'B_2__last__log', 'R_1__last__log', 'P_2__first', 'D_42__min', 'R_2__last', 'R_1__last', 'B_3__last__log', 'B_9__last__log', 'B_20__last', 'D_48__last', 'R_1__max', 'P_2__last', 'B_2__last2max', 'B_7__last', 'B_4__last', 'D_45__first', 'D_44__mean__log', 'D_44__last', 'B_11__last', 'B_20__last__log', 'B_33__last']\n"
     ]
    },
    {
     "name": "stderr",
     "output_type": "stream",
     "text": [
      "SpFSR-INFO: Wrapper: LogisticRegression(random_state=7)\n",
      "SpFSR-INFO: Hot start: True\n",
      "SpFSR-INFO: Hot start range: 0.2\n",
      "SpFSR-INFO: Feature weighting: False\n",
      "SpFSR-INFO: Scoring metric: roc_auc\n",
      "SpFSR-INFO: Number of jobs: 1\n",
      "SpFSR-INFO: Number of observations in the dataset: 25000\n",
      "SpFSR-INFO: Number of observations used: 25000\n",
      "SpFSR-INFO: Number of features available: 660\n",
      "SpFSR-INFO: Number of features to select: 0\n",
      "SpFSR-INFO: iter_no: 0, num_ft: 6, value: 0.936, st_dev: 0.003, best: 0.936 @ iter_no 0\n",
      "SpFSR-INFO: iter_no: 5, num_ft: 8, value: 0.937, st_dev: 0.003, best: 0.937 @ iter_no 3\n",
      "SpFSR-INFO: iter_no: 10, num_ft: 12, value: 0.94, st_dev: 0.003, best: 0.94 @ iter_no 8\n",
      "SpFSR-INFO: iter_no: 15, num_ft: 16, value: 0.94, st_dev: 0.004, best: 0.94 @ iter_no 8\n",
      "SpFSR-INFO: iter_no: 20, num_ft: 16, value: 0.94, st_dev: 0.003, best: 0.941 @ iter_no 19\n",
      "SpFSR-INFO: iter_no: 25, num_ft: 20, value: 0.945, st_dev: 0.004, best: 0.945 @ iter_no 24\n",
      "SpFSR-INFO: SpFSR completed in 2.09 minutes.\n",
      "SpFSR-INFO: Best value = 0.945 with 21 features and 25 total iterations.\n",
      "\n"
     ]
    },
    {
     "name": "stdout",
     "output_type": "stream",
     "text": [
      "Best value: 0.945\n",
      "Indices of selected features:  [9, 4, 11, 18, 2, 218, 76, 7, 107, 26, 30, 27, 59, 425, 0, 17, 51, 187, 39, 97, 103]\n",
      "Importance of selected features:  [0.13  0.108 0.099 0.087 0.082 0.08  0.07  0.068 0.065 0.064 0.03  0.03\n",
      " 0.029 0.026 0.025 0.02  0.016 0.013 0.007 0.003 0.002]\n",
      "Total iterations for the optimal feature set: 24\n",
      "['B_2__last__log', 'P_2__max', 'R_1__max', 'D_61__last', 'P_2__mean', 'R_3__mean', 'D_44__range', 'R_1__std', 'B_11__last', 'D_44__last', 'B_23__last__log', 'D_44__max', 'B_18__min', 'D_42__max', 'P_2__last', 'B_3__last__log', 'B_9__last__log', 'D_41__last__log', 'B_20__last__log', 'R_2__std', 'B_9__max']\n"
     ]
    },
    {
     "name": "stderr",
     "output_type": "stream",
     "text": [
      "SpFSR-INFO: Wrapper: LogisticRegression(random_state=8)\n",
      "SpFSR-INFO: Hot start: True\n",
      "SpFSR-INFO: Hot start range: 0.2\n",
      "SpFSR-INFO: Feature weighting: False\n",
      "SpFSR-INFO: Scoring metric: roc_auc\n",
      "SpFSR-INFO: Number of jobs: 1\n",
      "SpFSR-INFO: Number of observations in the dataset: 25000\n",
      "SpFSR-INFO: Number of observations used: 25000\n",
      "SpFSR-INFO: Number of features available: 660\n",
      "SpFSR-INFO: Number of features to select: 0\n",
      "SpFSR-INFO: iter_no: 0, num_ft: 8, value: 0.935, st_dev: 0.004, best: 0.935 @ iter_no 0\n",
      "SpFSR-INFO: iter_no: 5, num_ft: 11, value: 0.937, st_dev: 0.003, best: 0.937 @ iter_no 3\n",
      "SpFSR-INFO: iter_no: 10, num_ft: 25, value: 0.944, st_dev: 0.003, best: 0.944 @ iter_no 8\n",
      "SpFSR-INFO: iter_no: 15, num_ft: 36, value: 0.947, st_dev: 0.003, best: 0.947 @ iter_no 15\n",
      "SpFSR-INFO: iter_no: 20, num_ft: 35, value: 0.948, st_dev: 0.002, best: 0.948 @ iter_no 17\n",
      "SpFSR-INFO: iter_no: 25, num_ft: 37, value: 0.948, st_dev: 0.002, best: 0.948 @ iter_no 17\n",
      "SpFSR-INFO: SpFSR completed in 2.27 minutes.\n",
      "SpFSR-INFO: Best value = 0.948 with 35 features and 25 total iterations.\n",
      "\n"
     ]
    },
    {
     "name": "stdout",
     "output_type": "stream",
     "text": [
      "Best value: 0.948\n",
      "Indices of selected features:  [51, 4, 11, 208, 66, 245, 3, 84, 26, 9, 5, 6, 107, 38, 0, 167, 15, 103, 429, 40, 13, 39, 27, 55, 10, 16, 8, 2, 412, 34, 169, 32, 35, 53, 281]\n",
      "Importance of selected features:  [0.267 0.153 0.148 0.143 0.12  0.119 0.117 0.098 0.096 0.095 0.078 0.076\n",
      " 0.074 0.068 0.067 0.064 0.064 0.062 0.05  0.049 0.045 0.044 0.041 0.038\n",
      " 0.036 0.031 0.028 0.025 0.021 0.019 0.019 0.011 0.01  0.009 0.   ]\n",
      "Total iterations for the optimal feature set: 17\n",
      "['B_9__last__log', 'P_2__max', 'R_1__max', 'S_7__last', 'B_4__last', 'B_37__last2max', 'D_48__last', 'B_1__last', 'D_44__last', 'B_2__last__log', 'R_1__mean__log', 'D_48__mean', 'B_11__last', 'B_2__last2max', 'P_2__last', 'S_7__mean', 'B_18__last', 'B_9__max', 'D_42__first', 'B_23__last', 'D_44__last__log', 'B_20__last__log', 'D_44__max', 'R_1__last', 'B_2__last', 'B_9__last', 'D_44__mean__log', 'P_2__mean', 'B_26__last__log', 'B_7__last', 'D_41__last', 'B_3__last', 'B_11__last__log', 'D_44__mean', 'R_5__range']\n"
     ]
    },
    {
     "name": "stderr",
     "output_type": "stream",
     "text": [
      "SpFSR-INFO: Wrapper: LogisticRegression(random_state=9)\n",
      "SpFSR-INFO: Hot start: True\n",
      "SpFSR-INFO: Hot start range: 0.2\n",
      "SpFSR-INFO: Feature weighting: False\n",
      "SpFSR-INFO: Scoring metric: roc_auc\n",
      "SpFSR-INFO: Number of jobs: 1\n",
      "SpFSR-INFO: Number of observations in the dataset: 25000\n",
      "SpFSR-INFO: Number of observations used: 25000\n",
      "SpFSR-INFO: Number of features available: 660\n",
      "SpFSR-INFO: Number of features to select: 0\n",
      "SpFSR-INFO: iter_no: 0, num_ft: 10, value: 0.937, st_dev: 0.003, best: 0.937 @ iter_no 0\n",
      "SpFSR-INFO: iter_no: 5, num_ft: 10, value: 0.938, st_dev: 0.003, best: 0.938 @ iter_no 3\n",
      "SpFSR-INFO: iter_no: 10, num_ft: 21, value: 0.943, st_dev: 0.004, best: 0.943 @ iter_no 9\n",
      "SpFSR-INFO: iter_no: 15, num_ft: 22, value: 0.945, st_dev: 0.003, best: 0.945 @ iter_no 12\n",
      "SpFSR-INFO: iter_no: 20, num_ft: 24, value: 0.946, st_dev: 0.002, best: 0.946 @ iter_no 16\n",
      "SpFSR-INFO: iter_no: 25, num_ft: 27, value: 0.947, st_dev: 0.003, best: 0.947 @ iter_no 24\n",
      "SpFSR-INFO: SpFSR completed in 2.29 minutes.\n",
      "SpFSR-INFO: Best value = 0.947 with 25 features and 25 total iterations.\n",
      "\n"
     ]
    },
    {
     "name": "stdout",
     "output_type": "stream",
     "text": [
      "Best value: 0.947\n",
      "Indices of selected features:  [2, 51, 377, 9, 4, 0, 159, 107, 273, 10, 237, 431, 26, 15, 179, 187, 219, 211, 309, 16, 58, 3, 84, 29, 49]\n",
      "Importance of selected features:  [0.32  0.138 0.138 0.128 0.117 0.116 0.11  0.1   0.092 0.087 0.084 0.081\n",
      " 0.074 0.067 0.062 0.057 0.052 0.051 0.05  0.049 0.043 0.041 0.031 0.014\n",
      " 0.   ]\n",
      "Total iterations for the optimal feature set: 24\n",
      "['P_2__mean', 'B_9__last__log', 'D_39__last__log', 'B_2__last__log', 'P_2__max', 'P_2__last', 'D_39__range', 'B_11__last', 'R_3__mean__log', 'B_2__last', 'D_39__last', 'D_42__mean', 'D_44__last', 'B_18__last', 'S_3__mean', 'D_41__last__log', 'R_3__max', 'R_2__last__log', 'D_44__last2max', 'B_9__last', 'R_10__std', 'D_48__last', 'B_1__last', 'D_48__min', 'D_75__mean__log']\n"
     ]
    },
    {
     "name": "stderr",
     "output_type": "stream",
     "text": [
      "SpFSR-INFO: Wrapper: LogisticRegression(random_state=10)\n",
      "SpFSR-INFO: Hot start: True\n",
      "SpFSR-INFO: Hot start range: 0.2\n",
      "SpFSR-INFO: Feature weighting: False\n",
      "SpFSR-INFO: Scoring metric: roc_auc\n",
      "SpFSR-INFO: Number of jobs: 1\n",
      "SpFSR-INFO: Number of observations in the dataset: 25000\n",
      "SpFSR-INFO: Number of observations used: 25000\n",
      "SpFSR-INFO: Number of features available: 660\n",
      "SpFSR-INFO: Number of features to select: 0\n",
      "SpFSR-INFO: iter_no: 0, num_ft: 8, value: 0.933, st_dev: 0.003, best: 0.933 @ iter_no 0\n",
      "SpFSR-INFO: iter_no: 5, num_ft: 9, value: 0.935, st_dev: 0.003, best: 0.935 @ iter_no 5\n",
      "SpFSR-INFO: iter_no: 10, num_ft: 12, value: 0.939, st_dev: 0.002, best: 0.939 @ iter_no 7\n",
      "SpFSR-INFO: iter_no: 15, num_ft: 17, value: 0.941, st_dev: 0.004, best: 0.941 @ iter_no 13\n",
      "SpFSR-INFO: iter_no: 20, num_ft: 18, value: 0.943, st_dev: 0.003, best: 0.943 @ iter_no 16\n",
      "SpFSR-INFO: iter_no: 25, num_ft: 18, value: 0.944, st_dev: 0.004, best: 0.944 @ iter_no 22\n",
      "SpFSR-INFO: SpFSR completed in 2.24 minutes.\n",
      "SpFSR-INFO: Best value = 0.944 with 17 features and 25 total iterations.\n",
      "\n"
     ]
    },
    {
     "name": "stdout",
     "output_type": "stream",
     "text": [
      "Best value: 0.944\n",
      "Indices of selected features:  [174, 51, 9, 1, 273, 0, 3, 107, 5, 39, 425, 4, 17, 27, 40, 6, 377]\n",
      "Importance of selected features:  [0.148 0.124 0.116 0.089 0.085 0.083 0.073 0.069 0.067 0.062 0.058 0.057\n",
      " 0.046 0.022 0.021 0.021 0.005]\n",
      "Total iterations for the optimal feature set: 22\n",
      "['S_3__max', 'B_9__last__log', 'B_2__last__log', 'P_2__min', 'R_3__mean__log', 'P_2__last', 'D_48__last', 'B_11__last', 'R_1__mean__log', 'B_20__last__log', 'D_42__max', 'P_2__max', 'B_3__last__log', 'D_44__max', 'B_23__last', 'D_48__mean', 'D_39__last__log']\n"
     ]
    },
    {
     "name": "stderr",
     "output_type": "stream",
     "text": [
      "SpFSR-INFO: Wrapper: LogisticRegression(random_state=11)\n",
      "SpFSR-INFO: Hot start: True\n",
      "SpFSR-INFO: Hot start range: 0.2\n",
      "SpFSR-INFO: Feature weighting: False\n",
      "SpFSR-INFO: Scoring metric: roc_auc\n",
      "SpFSR-INFO: Number of jobs: 1\n",
      "SpFSR-INFO: Number of observations in the dataset: 25000\n",
      "SpFSR-INFO: Number of observations used: 25000\n",
      "SpFSR-INFO: Number of features available: 660\n",
      "SpFSR-INFO: Number of features to select: 0\n",
      "SpFSR-INFO: iter_no: 0, num_ft: 9, value: 0.938, st_dev: 0.003, best: 0.938 @ iter_no 0\n",
      "SpFSR-INFO: iter_no: 5, num_ft: 10, value: 0.938, st_dev: 0.003, best: 0.938 @ iter_no 0\n",
      "SpFSR-INFO: iter_no: 10, num_ft: 13, value: 0.94, st_dev: 0.003, best: 0.94 @ iter_no 10\n",
      "SpFSR-INFO: iter_no: 15, num_ft: 23, value: 0.945, st_dev: 0.004, best: 0.945 @ iter_no 15\n",
      "SpFSR-INFO: iter_no: 20, num_ft: 22, value: 0.948, st_dev: 0.003, best: 0.948 @ iter_no 19\n",
      "SpFSR-INFO: iter_no: 25, num_ft: 23, value: 0.949, st_dev: 0.002, best: 0.949 @ iter_no 23\n",
      "SpFSR-INFO: SpFSR completed in 2.25 minutes.\n",
      "SpFSR-INFO: Best value = 0.949 with 23 features and 25 total iterations.\n",
      "\n"
     ]
    },
    {
     "name": "stdout",
     "output_type": "stream",
     "text": [
      "Best value: 0.949\n",
      "Indices of selected features:  [107, 15, 55, 38, 9, 2, 25, 39, 34, 219, 64, 448, 51, 0, 233, 237, 103, 26, 3, 117, 87, 35, 11]\n",
      "Importance of selected features:  [0.177 0.165 0.162 0.158 0.144 0.125 0.11  0.079 0.077 0.076 0.068 0.066\n",
      " 0.065 0.064 0.056 0.052 0.041 0.027 0.026 0.025 0.017 0.003 0.002]\n",
      "Total iterations for the optimal feature set: 23\n",
      "['B_11__last', 'B_18__last', 'R_1__last', 'B_2__last2max', 'B_2__last__log', 'P_2__mean', 'B_33__last', 'B_20__last__log', 'B_7__last', 'R_3__max', 'B_9__mean__log', 'D_42__min', 'B_9__last__log', 'P_2__last', 'S_3__last', 'D_39__last', 'B_9__max', 'D_44__last', 'D_48__last', 'R_2__last', 'B_37__last', 'B_11__last__log', 'R_1__max']\n"
     ]
    },
    {
     "name": "stderr",
     "output_type": "stream",
     "text": [
      "SpFSR-INFO: Wrapper: LogisticRegression(random_state=12)\n",
      "SpFSR-INFO: Hot start: True\n",
      "SpFSR-INFO: Hot start range: 0.2\n",
      "SpFSR-INFO: Feature weighting: False\n",
      "SpFSR-INFO: Scoring metric: roc_auc\n",
      "SpFSR-INFO: Number of jobs: 1\n",
      "SpFSR-INFO: Number of observations in the dataset: 25000\n",
      "SpFSR-INFO: Number of observations used: 25000\n",
      "SpFSR-INFO: Number of features available: 660\n",
      "SpFSR-INFO: Number of features to select: 0\n",
      "SpFSR-INFO: iter_no: 0, num_ft: 9, value: 0.936, st_dev: 0.003, best: 0.936 @ iter_no 0\n",
      "SpFSR-INFO: iter_no: 5, num_ft: 24, value: 0.946, st_dev: 0.002, best: 0.946 @ iter_no 5\n",
      "SpFSR-INFO: iter_no: 10, num_ft: 26, value: 0.946, st_dev: 0.003, best: 0.946 @ iter_no 5\n",
      "SpFSR-INFO: ===> iter_no: 14, same feature stall limit reached, initializing search...\n",
      "SpFSR-INFO: iter_no: 15, num_ft: 7, value: 0.936, st_dev: 0.003, best: 0.946 @ iter_no 5\n",
      "SpFSR-INFO: iter_no: 20, num_ft: 11, value: 0.941, st_dev: 0.003, best: 0.946 @ iter_no 5\n",
      "SpFSR-INFO: iter_no: 25, num_ft: 26, value: 0.946, st_dev: 0.002, best: 0.946 @ iter_no 5\n",
      "SpFSR-INFO: SpFSR completed in 2.21 minutes.\n",
      "SpFSR-INFO: Best value = 0.946 with 24 features and 25 total iterations.\n",
      "\n"
     ]
    },
    {
     "name": "stdout",
     "output_type": "stream",
     "text": [
      "Best value: 0.946\n",
      "Indices of selected features:  [26, 0, 1, 4, 2, 12, 117, 107, 9, 448, 237, 51, 16, 161, 88, 119, 25, 7, 154, 27, 13, 59, 8, 55]\n",
      "Importance of selected features:  [0.14  0.138 0.124 0.123 0.117 0.117 0.088 0.085 0.084 0.063 0.063 0.055\n",
      " 0.054 0.051 0.048 0.041 0.036 0.036 0.029 0.013 0.008 0.004 0.004 0.   ]\n",
      "Total iterations for the optimal feature set: 5\n",
      "['D_44__last', 'P_2__last', 'P_2__min', 'P_2__max', 'P_2__mean', 'P_2__first', 'R_2__last', 'B_11__last', 'B_2__last__log', 'D_42__min', 'D_39__last', 'B_9__last__log', 'B_9__last', 'S_7__max', 'R_1__last__log', 'B_33__last2max', 'B_33__last', 'R_1__std', 'D_39__std', 'D_44__max', 'D_44__last__log', 'B_18__min', 'D_44__mean__log', 'R_1__last']\n"
     ]
    },
    {
     "name": "stderr",
     "output_type": "stream",
     "text": [
      "SpFSR-INFO: Wrapper: LogisticRegression(random_state=13)\n",
      "SpFSR-INFO: Hot start: True\n",
      "SpFSR-INFO: Hot start range: 0.2\n",
      "SpFSR-INFO: Feature weighting: False\n",
      "SpFSR-INFO: Scoring metric: roc_auc\n",
      "SpFSR-INFO: Number of jobs: 1\n",
      "SpFSR-INFO: Number of observations in the dataset: 25000\n",
      "SpFSR-INFO: Number of observations used: 25000\n",
      "SpFSR-INFO: Number of features available: 660\n",
      "SpFSR-INFO: Number of features to select: 0\n",
      "SpFSR-INFO: iter_no: 0, num_ft: 9, value: 0.937, st_dev: 0.004, best: 0.937 @ iter_no 0\n",
      "SpFSR-INFO: iter_no: 5, num_ft: 20, value: 0.943, st_dev: 0.003, best: 0.943 @ iter_no 5\n",
      "SpFSR-INFO: iter_no: 10, num_ft: 32, value: 0.946, st_dev: 0.002, best: 0.946 @ iter_no 7\n",
      "SpFSR-INFO: iter_no: 15, num_ft: 29, value: 0.948, st_dev: 0.002, best: 0.948 @ iter_no 11\n",
      "SpFSR-INFO: iter_no: 20, num_ft: 34, value: 0.949, st_dev: 0.003, best: 0.949 @ iter_no 20\n",
      "SpFSR-INFO: iter_no: 25, num_ft: 36, value: 0.949, st_dev: 0.002, best: 0.949 @ iter_no 20\n",
      "SpFSR-INFO: SpFSR completed in 2.27 minutes.\n",
      "SpFSR-INFO: Best value = 0.949 with 34 features and 25 total iterations.\n",
      "\n"
     ]
    },
    {
     "name": "stdout",
     "output_type": "stream",
     "text": [
      "Best value: 0.949\n",
      "Indices of selected features:  [0, 9, 51, 273, 429, 32, 119, 448, 103, 187, 4, 233, 192, 107, 25, 2, 34, 15, 27, 84, 17, 12, 92, 90, 13, 178, 117, 55, 237, 29, 153, 59, 87, 3]\n",
      "Importance of selected features:  [0.473 0.287 0.259 0.254 0.24  0.202 0.199 0.187 0.173 0.164 0.163 0.162\n",
      " 0.149 0.138 0.121 0.117 0.114 0.095 0.091 0.087 0.066 0.065 0.064 0.063\n",
      " 0.057 0.057 0.056 0.048 0.043 0.025 0.013 0.012 0.004 0.001]\n",
      "Total iterations for the optimal feature set: 20\n",
      "['P_2__last', 'B_2__last__log', 'B_9__last__log', 'R_3__mean__log', 'D_42__first', 'B_3__last', 'B_33__last2max', 'D_42__min', 'B_9__max', 'D_41__last__log', 'P_2__max', 'S_3__last', 'R_4__mean', 'B_11__last', 'B_33__last', 'P_2__mean', 'B_7__last', 'B_18__last', 'D_44__max', 'B_1__last', 'B_3__last__log', 'P_2__first', 'R_2__max', 'R_2__mean__log', 'D_44__last__log', 'P_3__min', 'R_2__last', 'R_1__last', 'D_39__last', 'D_48__min', 'B_11__mean', 'B_18__min', 'B_37__last', 'D_48__last']\n"
     ]
    },
    {
     "name": "stderr",
     "output_type": "stream",
     "text": [
      "SpFSR-INFO: Wrapper: LogisticRegression(random_state=14)\n",
      "SpFSR-INFO: Hot start: True\n",
      "SpFSR-INFO: Hot start range: 0.2\n",
      "SpFSR-INFO: Feature weighting: False\n",
      "SpFSR-INFO: Scoring metric: roc_auc\n",
      "SpFSR-INFO: Number of jobs: 1\n",
      "SpFSR-INFO: Number of observations in the dataset: 25000\n",
      "SpFSR-INFO: Number of observations used: 25000\n",
      "SpFSR-INFO: Number of features available: 660\n",
      "SpFSR-INFO: Number of features to select: 0\n",
      "SpFSR-INFO: iter_no: 0, num_ft: 8, value: 0.937, st_dev: 0.002, best: 0.937 @ iter_no 0\n",
      "SpFSR-INFO: ===> iter_no: 0, same feature stall limit reached, initializing search...\n",
      "SpFSR-INFO: iter_no: 5, num_ft: 17, value: 0.942, st_dev: 0.004, best: 0.942 @ iter_no 5\n",
      "SpFSR-INFO: iter_no: 10, num_ft: 22, value: 0.943, st_dev: 0.003, best: 0.943 @ iter_no 8\n",
      "SpFSR-INFO: iter_no: 15, num_ft: 25, value: 0.945, st_dev: 0.003, best: 0.945 @ iter_no 12\n",
      "SpFSR-INFO: iter_no: 20, num_ft: 27, value: 0.947, st_dev: 0.002, best: 0.947 @ iter_no 19\n",
      "SpFSR-INFO: iter_no: 25, num_ft: 34, value: 0.949, st_dev: 0.002, best: 0.949 @ iter_no 23\n",
      "SpFSR-INFO: SpFSR completed in 2.29 minutes.\n",
      "SpFSR-INFO: Best value = 0.949 with 32 features and 25 total iterations.\n",
      "\n"
     ]
    },
    {
     "name": "stdout",
     "output_type": "stream",
     "text": [
      "Best value: 0.949\n",
      "Indices of selected features:  [429, 450, 0, 9, 55, 17, 119, 11, 2, 3, 187, 88, 35, 39, 273, 342, 20, 34, 26, 87, 51, 377, 72, 107, 237, 69, 47, 120, 1, 27, 125, 53]\n",
      "Importance of selected features:  [0.212 0.201 0.192 0.188 0.185 0.184 0.157 0.157 0.124 0.114 0.109 0.107\n",
      " 0.096 0.094 0.087 0.083 0.079 0.075 0.074 0.071 0.07  0.069 0.066 0.058\n",
      " 0.056 0.051 0.046 0.044 0.028 0.021 0.021 0.003]\n",
      "Total iterations for the optimal feature set: 23\n",
      "['D_42__first', 'D_42__last', 'P_2__last', 'B_2__last__log', 'R_1__last', 'B_3__last__log', 'B_33__last2max', 'R_1__max', 'P_2__mean', 'D_48__last', 'D_41__last__log', 'R_1__last__log', 'B_11__last__log', 'B_20__last__log', 'R_3__mean__log', 'D_43__last', 'D_48__max', 'B_7__last', 'D_44__last', 'B_37__last', 'B_9__last__log', 'D_39__last__log', 'B_19__last__log', 'B_11__last', 'D_39__last', 'B_3__std', 'B_18__last__log', 'D_78__max', 'P_2__min', 'D_44__max', 'R_5__mean__log', 'D_44__mean']\n"
     ]
    },
    {
     "name": "stderr",
     "output_type": "stream",
     "text": [
      "SpFSR-INFO: Wrapper: LogisticRegression(random_state=15)\n",
      "SpFSR-INFO: Hot start: True\n",
      "SpFSR-INFO: Hot start range: 0.2\n",
      "SpFSR-INFO: Feature weighting: False\n",
      "SpFSR-INFO: Scoring metric: roc_auc\n",
      "SpFSR-INFO: Number of jobs: 1\n",
      "SpFSR-INFO: Number of observations in the dataset: 25000\n",
      "SpFSR-INFO: Number of observations used: 25000\n",
      "SpFSR-INFO: Number of features available: 660\n",
      "SpFSR-INFO: Number of features to select: 0\n",
      "SpFSR-INFO: iter_no: 0, num_ft: 9, value: 0.936, st_dev: 0.004, best: 0.936 @ iter_no 0\n",
      "SpFSR-INFO: iter_no: 5, num_ft: 16, value: 0.942, st_dev: 0.003, best: 0.942 @ iter_no 5\n",
      "SpFSR-INFO: iter_no: 10, num_ft: 21, value: 0.944, st_dev: 0.003, best: 0.944 @ iter_no 7\n",
      "SpFSR-INFO: iter_no: 15, num_ft: 24, value: 0.948, st_dev: 0.002, best: 0.948 @ iter_no 15\n",
      "SpFSR-INFO: iter_no: 20, num_ft: 26, value: 0.948, st_dev: 0.002, best: 0.948 @ iter_no 15\n",
      "SpFSR-INFO: ===> iter_no: 24, same feature stall limit reached, initializing search...\n",
      "SpFSR-INFO: iter_no: 25, num_ft: 7, value: 0.936, st_dev: 0.003, best: 0.948 @ iter_no 15\n",
      "SpFSR-INFO: SpFSR completed in 2.26 minutes.\n",
      "SpFSR-INFO: Best value = 0.948 with 24 features and 25 total iterations.\n",
      "\n"
     ]
    },
    {
     "name": "stdout",
     "output_type": "stream",
     "text": [
      "Best value: 0.948\n",
      "Indices of selected features:  [2, 58, 0, 26, 9, 52, 350, 15, 107, 179, 425, 133, 24, 11, 35, 274, 237, 69, 211, 34, 349, 88, 119, 12]\n",
      "Importance of selected features:  [0.198 0.18  0.136 0.132 0.103 0.103 0.096 0.095 0.093 0.081 0.073 0.068\n",
      " 0.061 0.053 0.044 0.041 0.039 0.029 0.019 0.016 0.009 0.007 0.003 0.001]\n",
      "Total iterations for the optimal feature set: 15\n",
      "['P_2__mean', 'R_10__std', 'P_2__last', 'D_44__last', 'B_2__last__log', 'D_75__last__log', 'D_45__max', 'B_18__last', 'B_11__last', 'S_3__mean', 'D_42__max', 'B_22__last', 'R_1__mean', 'R_1__max', 'B_11__last__log', 'D_43__mean', 'D_39__last', 'B_3__std', 'R_2__last__log', 'B_7__last', 'D_45__first', 'R_1__last__log', 'B_33__last2max', 'P_2__first']\n"
     ]
    },
    {
     "name": "stderr",
     "output_type": "stream",
     "text": [
      "SpFSR-INFO: Wrapper: LogisticRegression(random_state=16)\n",
      "SpFSR-INFO: Hot start: True\n",
      "SpFSR-INFO: Hot start range: 0.2\n",
      "SpFSR-INFO: Feature weighting: False\n",
      "SpFSR-INFO: Scoring metric: roc_auc\n",
      "SpFSR-INFO: Number of jobs: 1\n",
      "SpFSR-INFO: Number of observations in the dataset: 25000\n",
      "SpFSR-INFO: Number of observations used: 25000\n",
      "SpFSR-INFO: Number of features available: 660\n",
      "SpFSR-INFO: Number of features to select: 0\n",
      "SpFSR-INFO: iter_no: 0, num_ft: 8, value: 0.932, st_dev: 0.004, best: 0.932 @ iter_no 0\n",
      "SpFSR-INFO: iter_no: 5, num_ft: 9, value: 0.933, st_dev: 0.004, best: 0.933 @ iter_no 5\n",
      "SpFSR-INFO: iter_no: 10, num_ft: 13, value: 0.934, st_dev: 0.004, best: 0.934 @ iter_no 10\n",
      "SpFSR-INFO: iter_no: 15, num_ft: 29, value: 0.947, st_dev: 0.003, best: 0.947 @ iter_no 13\n",
      "SpFSR-INFO: iter_no: 20, num_ft: 31, value: 0.948, st_dev: 0.003, best: 0.948 @ iter_no 16\n",
      "SpFSR-INFO: iter_no: 25, num_ft: 31, value: 0.948, st_dev: 0.002, best: 0.948 @ iter_no 16\n",
      "SpFSR-INFO: SpFSR completed in 2.2 minutes.\n",
      "SpFSR-INFO: Best value = 0.948 with 28 features and 25 total iterations.\n",
      "\n"
     ]
    },
    {
     "name": "stdout",
     "output_type": "stream",
     "text": [
      "Best value: 0.948\n",
      "Indices of selected features:  [2, 3, 26, 377, 11, 208, 15, 17, 342, 34, 237, 49, 179, 429, 169, 64, 251, 40, 9, 0, 431, 22, 32, 51, 7, 55, 58, 10]\n",
      "Importance of selected features:  [0.278 0.188 0.181 0.151 0.129 0.096 0.092 0.091 0.089 0.087 0.087 0.08\n",
      " 0.079 0.076 0.071 0.069 0.059 0.042 0.036 0.033 0.028 0.021 0.02  0.019\n",
      " 0.018 0.015 0.007 0.002]\n",
      "Total iterations for the optimal feature set: 16\n",
      "['P_2__mean', 'D_48__last', 'D_44__last', 'D_39__last__log', 'R_1__max', 'S_7__last', 'B_18__last', 'B_3__last__log', 'D_43__last', 'B_7__last', 'D_39__last', 'D_75__mean__log', 'S_3__mean', 'D_42__first', 'D_41__last', 'B_9__mean__log', 'D_45__mean__log', 'B_23__last', 'B_2__last__log', 'P_2__last', 'D_42__mean', 'B_9__mean', 'B_3__last', 'B_9__last__log', 'R_1__std', 'R_1__last', 'R_10__std', 'B_2__last']\n"
     ]
    },
    {
     "name": "stderr",
     "output_type": "stream",
     "text": [
      "SpFSR-INFO: Wrapper: LogisticRegression(random_state=17)\n",
      "SpFSR-INFO: Hot start: True\n",
      "SpFSR-INFO: Hot start range: 0.2\n",
      "SpFSR-INFO: Feature weighting: False\n",
      "SpFSR-INFO: Scoring metric: roc_auc\n",
      "SpFSR-INFO: Number of jobs: 1\n",
      "SpFSR-INFO: Number of observations in the dataset: 25000\n",
      "SpFSR-INFO: Number of observations used: 25000\n",
      "SpFSR-INFO: Number of features available: 660\n",
      "SpFSR-INFO: Number of features to select: 0\n",
      "SpFSR-INFO: iter_no: 0, num_ft: 7, value: 0.933, st_dev: 0.003, best: 0.933 @ iter_no 0\n",
      "SpFSR-INFO: iter_no: 5, num_ft: 8, value: 0.933, st_dev: 0.003, best: 0.933 @ iter_no 0\n",
      "SpFSR-INFO: iter_no: 10, num_ft: 9, value: 0.934, st_dev: 0.004, best: 0.934 @ iter_no 9\n",
      "SpFSR-INFO: iter_no: 15, num_ft: 21, value: 0.944, st_dev: 0.003, best: 0.944 @ iter_no 14\n",
      "SpFSR-INFO: iter_no: 20, num_ft: 28, value: 0.945, st_dev: 0.003, best: 0.945 @ iter_no 19\n",
      "SpFSR-INFO: iter_no: 25, num_ft: 28, value: 0.944, st_dev: 0.004, best: 0.945 @ iter_no 19\n",
      "SpFSR-INFO: SpFSR completed in 2.14 minutes.\n",
      "SpFSR-INFO: Best value = 0.945 with 27 features and 25 total iterations.\n",
      "\n"
     ]
    },
    {
     "name": "stdout",
     "output_type": "stream",
     "text": [
      "Best value: 0.945\n",
      "Indices of selected features:  [2, 0, 174, 274, 13, 9, 326, 87, 27, 55, 103, 425, 5, 151, 107, 39, 35, 26, 377, 49, 429, 17, 313, 16, 88, 22, 137]\n",
      "Importance of selected features:  [0.286 0.175 0.126 0.121 0.106 0.097 0.096 0.092 0.089 0.08  0.061 0.059\n",
      " 0.059 0.055 0.053 0.05  0.045 0.039 0.034 0.032 0.022 0.021 0.02  0.014\n",
      " 0.012 0.009 0.   ]\n",
      "Total iterations for the optimal feature set: 19\n",
      "['P_2__mean', 'P_2__last', 'S_3__max', 'D_43__mean', 'D_44__last__log', 'B_2__last__log', 'S_3__min', 'B_37__last', 'D_44__max', 'R_1__last', 'B_9__max', 'D_42__max', 'R_1__mean__log', 'R_6__mean__log', 'B_11__last', 'B_20__last__log', 'B_11__last__log', 'D_44__last', 'D_39__last__log', 'D_75__mean__log', 'D_42__first', 'B_3__last__log', 'D_43__mean__log', 'B_9__last', 'R_1__last__log', 'B_9__mean', 'B_37__mean']\n"
     ]
    },
    {
     "name": "stderr",
     "output_type": "stream",
     "text": [
      "SpFSR-INFO: Wrapper: LogisticRegression(random_state=18)\n",
      "SpFSR-INFO: Hot start: True\n",
      "SpFSR-INFO: Hot start range: 0.2\n",
      "SpFSR-INFO: Feature weighting: False\n",
      "SpFSR-INFO: Scoring metric: roc_auc\n",
      "SpFSR-INFO: Number of jobs: 1\n",
      "SpFSR-INFO: Number of observations in the dataset: 25000\n",
      "SpFSR-INFO: Number of observations used: 25000\n",
      "SpFSR-INFO: Number of features available: 660\n",
      "SpFSR-INFO: Number of features to select: 0\n",
      "SpFSR-INFO: iter_no: 0, num_ft: 9, value: 0.936, st_dev: 0.003, best: 0.936 @ iter_no 0\n",
      "SpFSR-INFO: iter_no: 5, num_ft: 15, value: 0.939, st_dev: 0.003, best: 0.939 @ iter_no 5\n",
      "SpFSR-INFO: iter_no: 10, num_ft: 24, value: 0.944, st_dev: 0.003, best: 0.944 @ iter_no 7\n",
      "SpFSR-INFO: iter_no: 15, num_ft: 28, value: 0.944, st_dev: 0.003, best: 0.945 @ iter_no 13\n",
      "SpFSR-INFO: iter_no: 20, num_ft: 28, value: 0.946, st_dev: 0.004, best: 0.946 @ iter_no 20\n",
      "SpFSR-INFO: iter_no: 25, num_ft: 30, value: 0.946, st_dev: 0.002, best: 0.946 @ iter_no 20\n",
      "SpFSR-INFO: SpFSR completed in 2.27 minutes.\n",
      "SpFSR-INFO: Best value = 0.946 with 28 features and 25 total iterations.\n",
      "\n"
     ]
    },
    {
     "name": "stdout",
     "output_type": "stream",
     "text": [
      "Best value: 0.946\n",
      "Indices of selected features:  [425, 26, 117, 24, 9, 3, 174, 232, 431, 16, 15, 34, 13, 0, 39, 4, 187, 412, 104, 59, 420, 7, 107, 87, 38, 64, 25, 216]\n",
      "Importance of selected features:  [0.24  0.197 0.154 0.141 0.136 0.135 0.12  0.115 0.113 0.11  0.108 0.108\n",
      " 0.102 0.081 0.079 0.075 0.074 0.069 0.069 0.06  0.054 0.042 0.04  0.037\n",
      " 0.021 0.016 0.01  0.   ]\n",
      "Total iterations for the optimal feature set: 20\n",
      "['D_42__max', 'D_44__last', 'R_2__last', 'R_1__mean', 'B_2__last__log', 'D_48__last', 'S_3__max', 'P_3__last', 'D_42__mean', 'B_9__last', 'B_18__last', 'B_7__last', 'D_44__last__log', 'P_2__last', 'B_20__last__log', 'P_2__max', 'D_41__last__log', 'B_26__last__log', 'R_2__range', 'B_18__min', 'S_15__mean', 'R_1__std', 'B_11__last', 'B_37__last', 'B_2__last2max', 'B_9__mean__log', 'B_33__last', 'D_112__last']\n"
     ]
    },
    {
     "name": "stderr",
     "output_type": "stream",
     "text": [
      "SpFSR-INFO: Wrapper: LogisticRegression(random_state=19)\n",
      "SpFSR-INFO: Hot start: True\n",
      "SpFSR-INFO: Hot start range: 0.2\n",
      "SpFSR-INFO: Feature weighting: False\n",
      "SpFSR-INFO: Scoring metric: roc_auc\n",
      "SpFSR-INFO: Number of jobs: 1\n",
      "SpFSR-INFO: Number of observations in the dataset: 25000\n",
      "SpFSR-INFO: Number of observations used: 25000\n",
      "SpFSR-INFO: Number of features available: 660\n",
      "SpFSR-INFO: Number of features to select: 0\n",
      "SpFSR-INFO: iter_no: 0, num_ft: 9, value: 0.936, st_dev: 0.003, best: 0.936 @ iter_no 0\n",
      "SpFSR-INFO: iter_no: 5, num_ft: 12, value: 0.939, st_dev: 0.004, best: 0.939 @ iter_no 3\n",
      "SpFSR-INFO: iter_no: 10, num_ft: 27, value: 0.946, st_dev: 0.003, best: 0.946 @ iter_no 8\n",
      "SpFSR-INFO: ===> iter_no: 11, same feature stall limit reached, initializing search...\n",
      "SpFSR-INFO: iter_no: 15, num_ft: 12, value: 0.937, st_dev: 0.003, best: 0.946 @ iter_no 8\n",
      "SpFSR-INFO: iter_no: 20, num_ft: 21, value: 0.946, st_dev: 0.003, best: 0.946 @ iter_no 8\n",
      "SpFSR-INFO: iter_no: 25, num_ft: 24, value: 0.947, st_dev: 0.002, best: 0.947 @ iter_no 25\n",
      "SpFSR-INFO: SpFSR completed in 2.27 minutes.\n",
      "SpFSR-INFO: Best value = 0.947 with 24 features and 25 total iterations.\n",
      "\n"
     ]
    },
    {
     "name": "stdout",
     "output_type": "stream",
     "text": [
      "Best value: 0.947\n",
      "Indices of selected features:  [15, 34, 2, 9, 233, 16, 35, 39, 178, 26, 117, 0, 87, 431, 51, 10, 169, 377, 3, 55, 47, 64, 179, 5]\n",
      "Importance of selected features:  [0.134 0.132 0.125 0.123 0.116 0.111 0.107 0.103 0.102 0.099 0.076 0.072\n",
      " 0.071 0.069 0.068 0.063 0.058 0.043 0.043 0.04  0.013 0.013 0.012 0.005]\n",
      "Total iterations for the optimal feature set: 25\n",
      "['B_18__last', 'B_7__last', 'P_2__mean', 'B_2__last__log', 'S_3__last', 'B_9__last', 'B_11__last__log', 'B_20__last__log', 'P_3__min', 'D_44__last', 'R_2__last', 'P_2__last', 'B_37__last', 'D_42__mean', 'B_9__last__log', 'B_2__last', 'D_41__last', 'D_39__last__log', 'D_48__last', 'R_1__last', 'B_18__last__log', 'B_9__mean__log', 'S_3__mean', 'R_1__mean__log']\n"
     ]
    },
    {
     "name": "stderr",
     "output_type": "stream",
     "text": [
      "SpFSR-INFO: Wrapper: LogisticRegression(random_state=20)\n",
      "SpFSR-INFO: Hot start: True\n",
      "SpFSR-INFO: Hot start range: 0.2\n",
      "SpFSR-INFO: Feature weighting: False\n",
      "SpFSR-INFO: Scoring metric: roc_auc\n",
      "SpFSR-INFO: Number of jobs: 1\n",
      "SpFSR-INFO: Number of observations in the dataset: 25000\n",
      "SpFSR-INFO: Number of observations used: 25000\n",
      "SpFSR-INFO: Number of features available: 660\n",
      "SpFSR-INFO: Number of features to select: 0\n",
      "SpFSR-INFO: iter_no: 0, num_ft: 9, value: 0.936, st_dev: 0.004, best: 0.936 @ iter_no 0\n",
      "SpFSR-INFO: iter_no: 5, num_ft: 20, value: 0.941, st_dev: 0.002, best: 0.941 @ iter_no 5\n",
      "SpFSR-INFO: iter_no: 10, num_ft: 30, value: 0.945, st_dev: 0.002, best: 0.945 @ iter_no 9\n",
      "SpFSR-INFO: iter_no: 15, num_ft: 30, value: 0.946, st_dev: 0.003, best: 0.947 @ iter_no 14\n",
      "SpFSR-INFO: iter_no: 20, num_ft: 32, value: 0.947, st_dev: 0.003, best: 0.947 @ iter_no 14\n",
      "SpFSR-INFO: ===> iter_no: 22, same feature stall limit reached, initializing search...\n",
      "SpFSR-INFO: iter_no: 25, num_ft: 18, value: 0.94, st_dev: 0.003, best: 0.947 @ iter_no 14\n",
      "SpFSR-INFO: SpFSR completed in 2.26 minutes.\n",
      "SpFSR-INFO: Best value = 0.947 with 28 features and 25 total iterations.\n",
      "\n"
     ]
    },
    {
     "name": "stdout",
     "output_type": "stream",
     "text": [
      "Best value: 0.947\n",
      "Indices of selected features:  [2, 51, 15, 55, 117, 87, 0, 38, 9, 107, 159, 27, 273, 39, 69, 104, 103, 35, 12, 450, 13, 14, 24, 218, 16, 17, 26, 34]\n",
      "Importance of selected features:  [0.31  0.241 0.24  0.228 0.211 0.191 0.176 0.144 0.135 0.135 0.112 0.103\n",
      " 0.098 0.085 0.083 0.082 0.073 0.064 0.06  0.059 0.058 0.055 0.047 0.031\n",
      " 0.027 0.022 0.015 0.012]\n",
      "Total iterations for the optimal feature set: 14\n",
      "['P_2__mean', 'B_9__last__log', 'B_18__last', 'R_1__last', 'R_2__last', 'B_37__last', 'P_2__last', 'B_2__last2max', 'B_2__last__log', 'B_11__last', 'D_39__range', 'D_44__max', 'R_3__mean__log', 'B_20__last__log', 'B_3__std', 'R_2__range', 'B_9__max', 'B_11__last__log', 'P_2__first', 'D_42__last', 'D_44__last__log', 'R_1__range', 'R_1__mean', 'R_3__mean', 'B_9__last', 'B_3__last__log', 'D_44__last', 'B_7__last']\n"
     ]
    },
    {
     "name": "stderr",
     "output_type": "stream",
     "text": [
      "SpFSR-INFO: Wrapper: LogisticRegression(random_state=21)\n",
      "SpFSR-INFO: Hot start: True\n",
      "SpFSR-INFO: Hot start range: 0.2\n",
      "SpFSR-INFO: Feature weighting: False\n",
      "SpFSR-INFO: Scoring metric: roc_auc\n",
      "SpFSR-INFO: Number of jobs: 1\n",
      "SpFSR-INFO: Number of observations in the dataset: 25000\n",
      "SpFSR-INFO: Number of observations used: 25000\n",
      "SpFSR-INFO: Number of features available: 660\n",
      "SpFSR-INFO: Number of features to select: 0\n",
      "SpFSR-INFO: iter_no: 0, num_ft: 8, value: 0.935, st_dev: 0.003, best: 0.935 @ iter_no 0\n",
      "SpFSR-INFO: ===> iter_no: 1, same feature stall limit reached, initializing search...\n",
      "SpFSR-INFO: iter_no: 5, num_ft: 7, value: 0.935, st_dev: 0.003, best: 0.936 @ iter_no 4\n",
      "SpFSR-INFO: iter_no: 10, num_ft: 18, value: 0.945, st_dev: 0.003, best: 0.945 @ iter_no 10\n",
      "SpFSR-INFO: iter_no: 15, num_ft: 26, value: 0.947, st_dev: 0.003, best: 0.947 @ iter_no 14\n",
      "SpFSR-INFO: iter_no: 20, num_ft: 31, value: 0.948, st_dev: 0.003, best: 0.948 @ iter_no 19\n",
      "SpFSR-INFO: iter_no: 25, num_ft: 32, value: 0.948, st_dev: 0.003, best: 0.948 @ iter_no 19\n",
      "SpFSR-INFO: SpFSR completed in 2.19 minutes.\n",
      "SpFSR-INFO: Best value = 0.948 with 30 features and 25 total iterations.\n",
      "\n"
     ]
    },
    {
     "name": "stdout",
     "output_type": "stream",
     "text": [
      "Best value: 0.948\n",
      "Indices of selected features:  [2, 9, 349, 51, 237, 87, 12, 117, 3, 17, 273, 425, 0, 26, 59, 10, 179, 84, 92, 350, 184, 32, 34, 88, 73, 16, 8, 174, 1, 55]\n",
      "Importance of selected features:  [0.355 0.151 0.149 0.139 0.131 0.101 0.099 0.096 0.093 0.089 0.089 0.084\n",
      " 0.076 0.075 0.073 0.072 0.066 0.06  0.056 0.05  0.047 0.042 0.04  0.035\n",
      " 0.031 0.03  0.025 0.013 0.01  0.   ]\n",
      "Total iterations for the optimal feature set: 19\n",
      "['P_2__mean', 'B_2__last__log', 'D_45__first', 'B_9__last__log', 'D_39__last', 'B_37__last', 'P_2__first', 'R_2__last', 'D_48__last', 'B_3__last__log', 'R_3__mean__log', 'D_42__max', 'P_2__last', 'D_44__last', 'B_18__min', 'B_2__last', 'S_3__mean', 'B_1__last', 'R_2__max', 'D_45__max', 'P_3__mean', 'B_3__last', 'B_7__last', 'R_1__last__log', 'R_10__max', 'B_9__last', 'D_44__mean__log', 'S_3__max', 'P_2__min', 'R_1__last']\n"
     ]
    },
    {
     "name": "stderr",
     "output_type": "stream",
     "text": [
      "SpFSR-INFO: Wrapper: LogisticRegression(random_state=22)\n",
      "SpFSR-INFO: Hot start: True\n",
      "SpFSR-INFO: Hot start range: 0.2\n",
      "SpFSR-INFO: Feature weighting: False\n",
      "SpFSR-INFO: Scoring metric: roc_auc\n",
      "SpFSR-INFO: Number of jobs: 1\n",
      "SpFSR-INFO: Number of observations in the dataset: 25000\n",
      "SpFSR-INFO: Number of observations used: 25000\n",
      "SpFSR-INFO: Number of features available: 660\n",
      "SpFSR-INFO: Number of features to select: 0\n",
      "SpFSR-INFO: iter_no: 0, num_ft: 8, value: 0.937, st_dev: 0.003, best: 0.937 @ iter_no 0\n",
      "SpFSR-INFO: iter_no: 5, num_ft: 14, value: 0.939, st_dev: 0.004, best: 0.941 @ iter_no 4\n",
      "SpFSR-INFO: iter_no: 10, num_ft: 33, value: 0.948, st_dev: 0.002, best: 0.948 @ iter_no 10\n",
      "SpFSR-INFO: iter_no: 15, num_ft: 33, value: 0.948, st_dev: 0.003, best: 0.948 @ iter_no 10\n",
      "SpFSR-INFO: iter_no: 20, num_ft: 33, value: 0.949, st_dev: 0.003, best: 0.949 @ iter_no 18\n",
      "SpFSR-INFO: iter_no: 25, num_ft: 36, value: 0.949, st_dev: 0.003, best: 0.949 @ iter_no 18\n",
      "SpFSR-INFO: SpFSR completed in 2.32 minutes.\n",
      "SpFSR-INFO: Best value = 0.949 with 34 features and 25 total iterations.\n",
      "\n"
     ]
    },
    {
     "name": "stdout",
     "output_type": "stream",
     "text": [
      "Best value: 0.949\n",
      "Indices of selected features:  [450, 4, 3, 0, 5, 161, 26, 13, 53, 273, 169, 49, 19, 107, 7, 425, 117, 2, 9, 11, 87, 274, 51, 27, 34, 40, 12, 1, 47, 119, 17, 16, 137, 237]\n",
      "Importance of selected features:  [0.191 0.145 0.129 0.118 0.118 0.098 0.09  0.088 0.087 0.087 0.086 0.086\n",
      " 0.084 0.083 0.079 0.071 0.067 0.063 0.061 0.061 0.06  0.057 0.05  0.04\n",
      " 0.035 0.033 0.032 0.032 0.029 0.029 0.028 0.02  0.006 0.   ]\n",
      "Total iterations for the optimal feature set: 18\n",
      "['D_42__last', 'P_2__max', 'D_48__last', 'P_2__last', 'R_1__mean__log', 'S_7__max', 'D_44__last', 'D_44__last__log', 'D_44__mean', 'R_3__mean__log', 'D_41__last', 'D_75__mean__log', 'B_2__mean', 'B_11__last', 'R_1__std', 'D_42__max', 'R_2__last', 'P_2__mean', 'B_2__last__log', 'R_1__max', 'B_37__last', 'D_43__mean', 'B_9__last__log', 'D_44__max', 'B_7__last', 'B_23__last', 'P_2__first', 'P_2__min', 'B_18__last__log', 'B_33__last2max', 'B_3__last__log', 'B_9__last', 'B_37__mean', 'D_39__last']\n"
     ]
    },
    {
     "name": "stderr",
     "output_type": "stream",
     "text": [
      "SpFSR-INFO: Wrapper: LogisticRegression(random_state=23)\n",
      "SpFSR-INFO: Hot start: True\n",
      "SpFSR-INFO: Hot start range: 0.2\n",
      "SpFSR-INFO: Feature weighting: False\n",
      "SpFSR-INFO: Scoring metric: roc_auc\n",
      "SpFSR-INFO: Number of jobs: 1\n",
      "SpFSR-INFO: Number of observations in the dataset: 25000\n",
      "SpFSR-INFO: Number of observations used: 25000\n",
      "SpFSR-INFO: Number of features available: 660\n",
      "SpFSR-INFO: Number of features to select: 0\n",
      "SpFSR-INFO: iter_no: 0, num_ft: 10, value: 0.935, st_dev: 0.004, best: 0.935 @ iter_no 0\n",
      "SpFSR-INFO: iter_no: 5, num_ft: 13, value: 0.939, st_dev: 0.003, best: 0.94 @ iter_no 4\n",
      "SpFSR-INFO: iter_no: 10, num_ft: 25, value: 0.945, st_dev: 0.003, best: 0.945 @ iter_no 7\n",
      "SpFSR-INFO: iter_no: 15, num_ft: 26, value: 0.946, st_dev: 0.004, best: 0.946 @ iter_no 15\n",
      "SpFSR-INFO: iter_no: 20, num_ft: 27, value: 0.946, st_dev: 0.003, best: 0.946 @ iter_no 15\n",
      "SpFSR-INFO: iter_no: 25, num_ft: 30, value: 0.947, st_dev: 0.002, best: 0.947 @ iter_no 23\n",
      "SpFSR-INFO: SpFSR completed in 2.32 minutes.\n",
      "SpFSR-INFO: Best value = 0.947 with 30 features and 25 total iterations.\n",
      "\n"
     ]
    },
    {
     "name": "stdout",
     "output_type": "stream",
     "text": [
      "Best value: 0.947\n",
      "Indices of selected features:  [6, 154, 107, 4, 2, 51, 3, 158, 0, 174, 117, 66, 39, 104, 112, 40, 38, 13, 55, 16, 26, 137, 233, 12, 179, 169, 58, 87, 1, 24]\n",
      "Importance of selected features:  [0.225 0.148 0.131 0.115 0.114 0.112 0.111 0.096 0.084 0.075 0.074 0.073\n",
      " 0.072 0.064 0.062 0.06  0.057 0.049 0.041 0.037 0.036 0.034 0.033 0.025\n",
      " 0.023 0.015 0.014 0.009 0.006 0.002]\n",
      "Total iterations for the optimal feature set: 23\n",
      "['D_48__mean', 'D_39__std', 'B_11__last', 'P_2__max', 'P_2__mean', 'B_9__last__log', 'D_48__last', 'B_14__last2max', 'P_2__last', 'S_3__max', 'R_2__last', 'B_4__last', 'B_20__last__log', 'R_2__range', 'B_30=0.0', 'B_23__last', 'B_2__last2max', 'D_44__last__log', 'R_1__last', 'B_9__last', 'D_44__last', 'B_37__mean', 'S_3__last', 'P_2__first', 'S_3__mean', 'D_41__last', 'R_10__std', 'B_37__last', 'P_2__min', 'R_1__mean']\n"
     ]
    },
    {
     "name": "stderr",
     "output_type": "stream",
     "text": [
      "SpFSR-INFO: Wrapper: LogisticRegression(random_state=24)\n",
      "SpFSR-INFO: Hot start: True\n",
      "SpFSR-INFO: Hot start range: 0.2\n",
      "SpFSR-INFO: Feature weighting: False\n",
      "SpFSR-INFO: Scoring metric: roc_auc\n",
      "SpFSR-INFO: Number of jobs: 1\n",
      "SpFSR-INFO: Number of observations in the dataset: 25000\n",
      "SpFSR-INFO: Number of observations used: 25000\n",
      "SpFSR-INFO: Number of features available: 660\n",
      "SpFSR-INFO: Number of features to select: 0\n",
      "SpFSR-INFO: iter_no: 0, num_ft: 10, value: 0.935, st_dev: 0.003, best: 0.935 @ iter_no 0\n",
      "SpFSR-INFO: iter_no: 5, num_ft: 24, value: 0.943, st_dev: 0.003, best: 0.943 @ iter_no 5\n",
      "SpFSR-INFO: iter_no: 10, num_ft: 28, value: 0.944, st_dev: 0.003, best: 0.944 @ iter_no 6\n",
      "SpFSR-INFO: iter_no: 15, num_ft: 33, value: 0.945, st_dev: 0.004, best: 0.945 @ iter_no 13\n",
      "SpFSR-INFO: iter_no: 20, num_ft: 31, value: 0.944, st_dev: 0.003, best: 0.945 @ iter_no 13\n",
      "SpFSR-INFO: ===> iter_no: 21, same feature stall limit reached, initializing search...\n",
      "SpFSR-INFO: iter_no: 25, num_ft: 18, value: 0.939, st_dev: 0.004, best: 0.945 @ iter_no 13\n",
      "SpFSR-INFO: SpFSR completed in 2.32 minutes.\n",
      "SpFSR-INFO: Best value = 0.945 with 31 features and 25 total iterations.\n",
      "\n"
     ]
    },
    {
     "name": "stdout",
     "output_type": "stream",
     "text": [
      "Best value: 0.945\n",
      "Indices of selected features:  [1, 26, 2, 4, 9, 16, 374, 51, 169, 450, 11, 0, 104, 281, 107, 211, 22, 117, 18, 88, 425, 412, 3, 34, 7, 30, 64, 187, 67, 90, 47]\n",
      "Importance of selected features:  [0.174 0.157 0.147 0.139 0.13  0.12  0.116 0.112 0.097 0.094 0.089 0.079\n",
      " 0.074 0.064 0.063 0.059 0.057 0.055 0.055 0.052 0.048 0.046 0.046 0.038\n",
      " 0.034 0.034 0.033 0.03  0.017 0.01  0.002]\n",
      "Total iterations for the optimal feature set: 13\n",
      "['P_2__min', 'D_44__last', 'P_2__mean', 'P_2__max', 'B_2__last__log', 'B_9__last', 'D_45__mean', 'B_9__last__log', 'D_41__last', 'D_42__last', 'R_1__max', 'P_2__last', 'R_2__range', 'R_5__range', 'B_11__last', 'R_2__last__log', 'B_9__mean', 'R_2__last', 'D_61__last', 'R_1__last__log', 'D_42__max', 'B_26__last__log', 'D_48__last', 'B_7__last', 'R_1__std', 'B_23__last__log', 'B_9__mean__log', 'D_41__last__log', 'D_44__std', 'R_2__mean__log', 'B_18__last__log']\n"
     ]
    },
    {
     "name": "stderr",
     "output_type": "stream",
     "text": [
      "SpFSR-INFO: Wrapper: LogisticRegression(random_state=25)\n",
      "SpFSR-INFO: Hot start: True\n",
      "SpFSR-INFO: Hot start range: 0.2\n",
      "SpFSR-INFO: Feature weighting: False\n",
      "SpFSR-INFO: Scoring metric: roc_auc\n",
      "SpFSR-INFO: Number of jobs: 1\n",
      "SpFSR-INFO: Number of observations in the dataset: 25000\n",
      "SpFSR-INFO: Number of observations used: 25000\n",
      "SpFSR-INFO: Number of features available: 660\n",
      "SpFSR-INFO: Number of features to select: 0\n",
      "SpFSR-INFO: iter_no: 0, num_ft: 9, value: 0.934, st_dev: 0.004, best: 0.934 @ iter_no 0\n",
      "SpFSR-INFO: iter_no: 5, num_ft: 17, value: 0.942, st_dev: 0.004, best: 0.942 @ iter_no 5\n",
      "SpFSR-INFO: iter_no: 10, num_ft: 23, value: 0.945, st_dev: 0.003, best: 0.945 @ iter_no 10\n",
      "SpFSR-INFO: iter_no: 15, num_ft: 26, value: 0.947, st_dev: 0.002, best: 0.947 @ iter_no 13\n",
      "SpFSR-INFO: iter_no: 20, num_ft: 29, value: 0.947, st_dev: 0.004, best: 0.947 @ iter_no 13\n",
      "SpFSR-INFO: iter_no: 25, num_ft: 34, value: 0.947, st_dev: 0.002, best: 0.948 @ iter_no 24\n",
      "SpFSR-INFO: SpFSR completed in 2.29 minutes.\n",
      "SpFSR-INFO: Best value = 0.948 with 36 features and 25 total iterations.\n",
      "\n"
     ]
    },
    {
     "name": "stdout",
     "output_type": "stream",
     "text": [
      "Best value: 0.948\n",
      "Indices of selected features:  [16, 179, 0, 38, 377, 233, 2, 3, 9, 237, 4, 341, 169, 87, 40, 1, 450, 55, 26, 27, 59, 273, 49, 84, 69, 39, 174, 107, 5, 8, 12, 15, 167, 138, 11, 34]\n",
      "Importance of selected features:  [0.258 0.163 0.153 0.15  0.139 0.138 0.119 0.113 0.1   0.094 0.081 0.078\n",
      " 0.075 0.071 0.066 0.064 0.063 0.063 0.061 0.055 0.05  0.047 0.039 0.031\n",
      " 0.022 0.014 0.011 0.009 0.009 0.008 0.007 0.006 0.003 0.002 0.002 0.002]\n",
      "Total iterations for the optimal feature set: 24\n",
      "['B_9__last', 'S_3__mean', 'P_2__last', 'B_2__last2max', 'D_39__last__log', 'S_3__last', 'P_2__mean', 'D_48__last', 'B_2__last__log', 'D_39__last', 'P_2__max', 'R_6__last__log', 'D_41__last', 'B_37__last', 'B_23__last', 'P_2__min', 'D_42__last', 'R_1__last', 'D_44__last', 'D_44__max', 'B_18__min', 'R_3__mean__log', 'D_75__mean__log', 'B_1__last', 'B_3__std', 'B_20__last__log', 'S_3__max', 'B_11__last', 'R_1__mean__log', 'D_44__mean__log', 'P_2__first', 'B_18__last', 'S_7__mean', 'R_10__mean', 'R_1__max', 'B_7__last']\n"
     ]
    },
    {
     "name": "stderr",
     "output_type": "stream",
     "text": [
      "SpFSR-INFO: Wrapper: LogisticRegression(random_state=26)\n",
      "SpFSR-INFO: Hot start: True\n",
      "SpFSR-INFO: Hot start range: 0.2\n",
      "SpFSR-INFO: Feature weighting: False\n",
      "SpFSR-INFO: Scoring metric: roc_auc\n",
      "SpFSR-INFO: Number of jobs: 1\n",
      "SpFSR-INFO: Number of observations in the dataset: 25000\n",
      "SpFSR-INFO: Number of observations used: 25000\n",
      "SpFSR-INFO: Number of features available: 660\n",
      "SpFSR-INFO: Number of features to select: 0\n",
      "SpFSR-INFO: iter_no: 0, num_ft: 8, value: 0.936, st_dev: 0.002, best: 0.936 @ iter_no 0\n",
      "SpFSR-INFO: iter_no: 5, num_ft: 11, value: 0.938, st_dev: 0.003, best: 0.938 @ iter_no 3\n",
      "SpFSR-INFO: ===> iter_no: 7, same feature stall limit reached, initializing search...\n",
      "SpFSR-INFO: ===> iter_no: 8, same feature stall limit reached, initializing search...\n",
      "SpFSR-INFO: iter_no: 10, num_ft: 8, value: 0.936, st_dev: 0.002, best: 0.938 @ iter_no 3\n",
      "SpFSR-INFO: iter_no: 15, num_ft: 16, value: 0.945, st_dev: 0.002, best: 0.945 @ iter_no 15\n",
      "SpFSR-INFO: iter_no: 20, num_ft: 22, value: 0.946, st_dev: 0.003, best: 0.946 @ iter_no 19\n",
      "SpFSR-INFO: ===> iter_no: 22, same feature stall limit reached, initializing search...\n",
      "SpFSR-INFO: iter_no: 25, num_ft: 8, value: 0.936, st_dev: 0.003, best: 0.946 @ iter_no 19\n",
      "SpFSR-INFO: SpFSR completed in 2.11 minutes.\n",
      "SpFSR-INFO: Best value = 0.946 with 22 features and 25 total iterations.\n",
      "\n"
     ]
    },
    {
     "name": "stdout",
     "output_type": "stream",
     "text": [
      "Best value: 0.946\n",
      "Indices of selected features:  [273, 0, 448, 51, 9, 26, 2, 4, 32, 30, 216, 187, 377, 7, 88, 17, 107, 24, 87, 450, 55, 341]\n",
      "Importance of selected features:  [0.268 0.183 0.181 0.112 0.109 0.103 0.101 0.099 0.086 0.069 0.056 0.053\n",
      " 0.052 0.04  0.036 0.029 0.024 0.015 0.014 0.012 0.007 0.003]\n",
      "Total iterations for the optimal feature set: 19\n",
      "['R_3__mean__log', 'P_2__last', 'D_42__min', 'B_9__last__log', 'B_2__last__log', 'D_44__last', 'P_2__mean', 'P_2__max', 'B_3__last', 'B_23__last__log', 'D_112__last', 'D_41__last__log', 'D_39__last__log', 'R_1__std', 'R_1__last__log', 'B_3__last__log', 'B_11__last', 'R_1__mean', 'B_37__last', 'D_42__last', 'R_1__last', 'R_6__last__log']\n"
     ]
    },
    {
     "name": "stderr",
     "output_type": "stream",
     "text": [
      "SpFSR-INFO: Wrapper: LogisticRegression(random_state=27)\n",
      "SpFSR-INFO: Hot start: True\n",
      "SpFSR-INFO: Hot start range: 0.2\n",
      "SpFSR-INFO: Feature weighting: False\n",
      "SpFSR-INFO: Scoring metric: roc_auc\n",
      "SpFSR-INFO: Number of jobs: 1\n",
      "SpFSR-INFO: Number of observations in the dataset: 25000\n",
      "SpFSR-INFO: Number of observations used: 25000\n",
      "SpFSR-INFO: Number of features available: 660\n",
      "SpFSR-INFO: Number of features to select: 0\n",
      "SpFSR-INFO: iter_no: 0, num_ft: 11, value: 0.94, st_dev: 0.005, best: 0.94 @ iter_no 0\n",
      "SpFSR-INFO: iter_no: 5, num_ft: 24, value: 0.951, st_dev: 0.002, best: 0.951 @ iter_no 5\n",
      "SpFSR-INFO: iter_no: 10, num_ft: 23, value: 0.951, st_dev: 0.002, best: 0.951 @ iter_no 5\n",
      "SpFSR-INFO: ===> iter_no: 12, same feature stall limit reached, initializing search...\n",
      "SpFSR-INFO: iter_no: 15, num_ft: 15, value: 0.943, st_dev: 0.003, best: 0.951 @ iter_no 5\n",
      "SpFSR-INFO: iter_no: 20, num_ft: 29, value: 0.95, st_dev: 0.003, best: 0.951 @ iter_no 5\n",
      "SpFSR-INFO: iter_no: 25, num_ft: 31, value: 0.952, st_dev: 0.002, best: 0.952 @ iter_no 25\n",
      "SpFSR-INFO: SpFSR completed in 2.29 minutes.\n",
      "SpFSR-INFO: Best value = 0.952 with 31 features and 25 total iterations.\n",
      "\n"
     ]
    },
    {
     "name": "stdout",
     "output_type": "stream",
     "text": [
      "Best value: 0.952\n",
      "Indices of selected features:  [7, 9, 107, 0, 59, 16, 2, 15, 3, 51, 66, 117, 12, 167, 34, 11, 14, 39, 237, 274, 425, 52, 32, 22, 19, 8, 76, 58, 103, 87, 179]\n",
      "Importance of selected features:  [0.294 0.199 0.163 0.151 0.139 0.129 0.102 0.096 0.09  0.088 0.074 0.073\n",
      " 0.07  0.066 0.065 0.05  0.045 0.044 0.04  0.039 0.037 0.035 0.026 0.025\n",
      " 0.018 0.014 0.013 0.009 0.008 0.006 0.003]\n",
      "Total iterations for the optimal feature set: 25\n",
      "['R_1__std', 'B_2__last__log', 'B_11__last', 'P_2__last', 'B_18__min', 'B_9__last', 'P_2__mean', 'B_18__last', 'D_48__last', 'B_9__last__log', 'B_4__last', 'R_2__last', 'P_2__first', 'S_7__mean', 'B_7__last', 'R_1__max', 'R_1__range', 'B_20__last__log', 'D_39__last', 'D_43__mean', 'D_42__max', 'D_75__last__log', 'B_3__last', 'B_9__mean', 'B_2__mean', 'D_44__mean__log', 'D_44__range', 'R_10__std', 'B_9__max', 'B_37__last', 'S_3__mean']\n"
     ]
    },
    {
     "name": "stderr",
     "output_type": "stream",
     "text": [
      "SpFSR-INFO: Wrapper: LogisticRegression(random_state=28)\n",
      "SpFSR-INFO: Hot start: True\n",
      "SpFSR-INFO: Hot start range: 0.2\n",
      "SpFSR-INFO: Feature weighting: False\n",
      "SpFSR-INFO: Scoring metric: roc_auc\n",
      "SpFSR-INFO: Number of jobs: 1\n",
      "SpFSR-INFO: Number of observations in the dataset: 25000\n",
      "SpFSR-INFO: Number of observations used: 25000\n",
      "SpFSR-INFO: Number of features available: 660\n",
      "SpFSR-INFO: Number of features to select: 0\n",
      "SpFSR-INFO: iter_no: 0, num_ft: 8, value: 0.938, st_dev: 0.003, best: 0.938 @ iter_no 0\n",
      "SpFSR-INFO: iter_no: 5, num_ft: 9, value: 0.938, st_dev: 0.003, best: 0.938 @ iter_no 0\n",
      "SpFSR-INFO: iter_no: 10, num_ft: 21, value: 0.945, st_dev: 0.003, best: 0.945 @ iter_no 10\n",
      "SpFSR-INFO: iter_no: 15, num_ft: 29, value: 0.948, st_dev: 0.003, best: 0.948 @ iter_no 14\n",
      "SpFSR-INFO: iter_no: 20, num_ft: 31, value: 0.949, st_dev: 0.003, best: 0.949 @ iter_no 19\n",
      "SpFSR-INFO: iter_no: 25, num_ft: 36, value: 0.949, st_dev: 0.004, best: 0.949 @ iter_no 19\n",
      "SpFSR-INFO: SpFSR completed in 2.27 minutes.\n",
      "SpFSR-INFO: Best value = 0.949 with 33 features and 25 total iterations.\n",
      "\n"
     ]
    },
    {
     "name": "stdout",
     "output_type": "stream",
     "text": [
      "Best value: 0.949\n",
      "Indices of selected features:  [179, 0, 51, 55, 11, 169, 2, 9, 23, 15, 370, 349, 431, 35, 26, 53, 49, 168, 1, 7, 211, 12, 137, 14, 39, 146, 64, 611, 4, 34, 32, 16, 3]\n",
      "Importance of selected features:  [0.193 0.173 0.163 0.126 0.119 0.111 0.107 0.102 0.097 0.097 0.096 0.094\n",
      " 0.094 0.086 0.084 0.079 0.072 0.071 0.07  0.069 0.064 0.062 0.049 0.048\n",
      " 0.042 0.039 0.031 0.022 0.017 0.014 0.008 0.005 0.003]\n",
      "Total iterations for the optimal feature set: 19\n",
      "['S_3__mean', 'P_2__last', 'B_9__last__log', 'R_1__last', 'R_1__max', 'D_41__last', 'P_2__mean', 'B_2__last__log', 'B_3__mean__log', 'B_18__last', 'D_65__last__log', 'D_45__first', 'D_42__mean', 'B_11__last__log', 'D_44__last', 'D_44__mean', 'D_75__mean__log', 'S_25__std', 'P_2__min', 'R_1__std', 'R_2__last__log', 'P_2__first', 'B_37__mean', 'R_1__range', 'B_20__last__log', 'B_4__last2max', 'B_9__mean__log', 'S_8__mean', 'P_2__max', 'B_7__last', 'B_3__last', 'B_9__last', 'D_48__last']\n"
     ]
    },
    {
     "name": "stderr",
     "output_type": "stream",
     "text": [
      "SpFSR-INFO: Wrapper: LogisticRegression(random_state=29)\n",
      "SpFSR-INFO: Hot start: True\n",
      "SpFSR-INFO: Hot start range: 0.2\n",
      "SpFSR-INFO: Feature weighting: False\n",
      "SpFSR-INFO: Scoring metric: roc_auc\n",
      "SpFSR-INFO: Number of jobs: 1\n",
      "SpFSR-INFO: Number of observations in the dataset: 25000\n",
      "SpFSR-INFO: Number of observations used: 25000\n",
      "SpFSR-INFO: Number of features available: 660\n",
      "SpFSR-INFO: Number of features to select: 0\n",
      "SpFSR-INFO: iter_no: 0, num_ft: 9, value: 0.937, st_dev: 0.004, best: 0.937 @ iter_no 0\n",
      "SpFSR-INFO: iter_no: 5, num_ft: 11, value: 0.939, st_dev: 0.003, best: 0.939 @ iter_no 5\n",
      "SpFSR-INFO: iter_no: 10, num_ft: 21, value: 0.946, st_dev: 0.003, best: 0.946 @ iter_no 9\n",
      "SpFSR-INFO: iter_no: 15, num_ft: 27, value: 0.948, st_dev: 0.003, best: 0.948 @ iter_no 11\n",
      "SpFSR-INFO: iter_no: 20, num_ft: 26, value: 0.948, st_dev: 0.002, best: 0.948 @ iter_no 11\n",
      "SpFSR-INFO: iter_no: 25, num_ft: 29, value: 0.948, st_dev: 0.002, best: 0.948 @ iter_no 11\n",
      "SpFSR-INFO: SpFSR completed in 2.29 minutes.\n",
      "SpFSR-INFO: Best value = 0.948 with 25 features and 25 total iterations.\n",
      "\n"
     ]
    },
    {
     "name": "stdout",
     "output_type": "stream",
     "text": [
      "Best value: 0.948\n",
      "Indices of selected features:  [26, 179, 16, 38, 480, 4, 9, 49, 5, 450, 107, 34, 64, 167, 2, 24, 291, 84, 0, 7, 104, 3, 6, 349, 208]\n",
      "Importance of selected features:  [0.152 0.119 0.113 0.113 0.112 0.109 0.1   0.077 0.077 0.071 0.067 0.065\n",
      " 0.06  0.055 0.049 0.047 0.044 0.03  0.025 0.021 0.02  0.018 0.013 0.009\n",
      " 0.004]\n",
      "Total iterations for the optimal feature set: 11\n",
      "['D_44__last', 'S_3__mean', 'B_9__last', 'B_2__last2max', 'R_3__min', 'P_2__max', 'B_2__last__log', 'D_75__mean__log', 'R_1__mean__log', 'D_42__last', 'B_11__last', 'B_7__last', 'B_9__mean__log', 'S_7__mean', 'P_2__mean', 'R_1__mean', 'B_8__mean__log', 'B_1__last', 'P_2__last', 'R_1__std', 'R_2__range', 'D_48__last', 'D_48__mean', 'D_45__first', 'S_7__last']\n"
     ]
    },
    {
     "name": "stderr",
     "output_type": "stream",
     "text": [
      "SpFSR-INFO: Wrapper: LogisticRegression(random_state=30)\n",
      "SpFSR-INFO: Hot start: True\n",
      "SpFSR-INFO: Hot start range: 0.2\n",
      "SpFSR-INFO: Feature weighting: False\n",
      "SpFSR-INFO: Scoring metric: roc_auc\n",
      "SpFSR-INFO: Number of jobs: 1\n",
      "SpFSR-INFO: Number of observations in the dataset: 25000\n",
      "SpFSR-INFO: Number of observations used: 25000\n",
      "SpFSR-INFO: Number of features available: 660\n",
      "SpFSR-INFO: Number of features to select: 0\n",
      "SpFSR-INFO: iter_no: 0, num_ft: 8, value: 0.938, st_dev: 0.003, best: 0.938 @ iter_no 0\n",
      "SpFSR-INFO: ===> iter_no: 4, same feature stall limit reached, initializing search...\n",
      "SpFSR-INFO: iter_no: 5, num_ft: 8, value: 0.938, st_dev: 0.003, best: 0.939 @ iter_no 3\n",
      "SpFSR-INFO: iter_no: 10, num_ft: 19, value: 0.945, st_dev: 0.003, best: 0.945 @ iter_no 9\n",
      "SpFSR-INFO: iter_no: 15, num_ft: 28, value: 0.949, st_dev: 0.002, best: 0.949 @ iter_no 13\n",
      "SpFSR-INFO: iter_no: 20, num_ft: 31, value: 0.949, st_dev: 0.002, best: 0.949 @ iter_no 13\n",
      "SpFSR-INFO: iter_no: 25, num_ft: 34, value: 0.95, st_dev: 0.003, best: 0.95 @ iter_no 24\n",
      "SpFSR-INFO: SpFSR completed in 2.26 minutes.\n",
      "SpFSR-INFO: Best value = 0.95 with 33 features and 25 total iterations.\n",
      "\n"
     ]
    },
    {
     "name": "stdout",
     "output_type": "stream",
     "text": [
      "Best value: 0.95\n",
      "Indices of selected features:  [0, 90, 9, 187, 611, 237, 67, 280, 26, 87, 431, 15, 6, 12, 128, 158, 92, 5, 117, 19, 72, 3, 38, 1, 16, 59, 275, 2, 34, 485, 39, 412, 169]\n",
      "Importance of selected features:  [0.198 0.198 0.16  0.16  0.148 0.095 0.093 0.089 0.085 0.081 0.076 0.069\n",
      " 0.061 0.061 0.054 0.049 0.048 0.046 0.046 0.045 0.041 0.039 0.039 0.038\n",
      " 0.032 0.03  0.029 0.028 0.027 0.025 0.007 0.002 0.001]\n",
      "Total iterations for the optimal feature set: 24\n",
      "['P_2__last', 'R_2__mean__log', 'B_2__last__log', 'D_41__last__log', 'S_8__mean', 'D_39__last', 'D_44__std', 'B_1__last2max', 'D_44__last', 'B_37__last', 'D_42__mean', 'B_18__last', 'D_48__mean', 'P_2__first', 'R_4__mean__log', 'B_14__last2max', 'R_2__max', 'R_1__mean__log', 'R_2__last', 'B_2__mean', 'B_19__last__log', 'D_48__last', 'B_2__last2max', 'P_2__min', 'B_9__last', 'B_18__min', 'D_53__last__log', 'P_2__mean', 'B_7__last', 'S_25__last2max', 'B_20__last__log', 'B_26__last__log', 'D_41__last']\n"
     ]
    },
    {
     "name": "stderr",
     "output_type": "stream",
     "text": [
      "SpFSR-INFO: Wrapper: LogisticRegression(random_state=31)\n",
      "SpFSR-INFO: Hot start: True\n",
      "SpFSR-INFO: Hot start range: 0.2\n",
      "SpFSR-INFO: Feature weighting: False\n",
      "SpFSR-INFO: Scoring metric: roc_auc\n",
      "SpFSR-INFO: Number of jobs: 1\n",
      "SpFSR-INFO: Number of observations in the dataset: 25000\n",
      "SpFSR-INFO: Number of observations used: 25000\n",
      "SpFSR-INFO: Number of features available: 660\n",
      "SpFSR-INFO: Number of features to select: 0\n",
      "SpFSR-INFO: iter_no: 0, num_ft: 9, value: 0.939, st_dev: 0.003, best: 0.939 @ iter_no 0\n",
      "SpFSR-INFO: iter_no: 5, num_ft: 11, value: 0.939, st_dev: 0.003, best: 0.94 @ iter_no 4\n",
      "SpFSR-INFO: iter_no: 10, num_ft: 15, value: 0.945, st_dev: 0.002, best: 0.945 @ iter_no 10\n",
      "SpFSR-INFO: iter_no: 15, num_ft: 26, value: 0.947, st_dev: 0.004, best: 0.947 @ iter_no 13\n",
      "SpFSR-INFO: iter_no: 20, num_ft: 32, value: 0.95, st_dev: 0.003, best: 0.95 @ iter_no 19\n",
      "SpFSR-INFO: iter_no: 25, num_ft: 29, value: 0.95, st_dev: 0.002, best: 0.95 @ iter_no 19\n",
      "SpFSR-INFO: SpFSR completed in 2.27 minutes.\n",
      "SpFSR-INFO: Best value = 0.95 with 30 features and 25 total iterations.\n",
      "\n"
     ]
    },
    {
     "name": "stdout",
     "output_type": "stream",
     "text": [
      "Best value: 0.95\n",
      "Indices of selected features:  [26, 35, 103, 7, 72, 429, 0, 9, 55, 39, 179, 16, 187, 1, 218, 3, 51, 38, 11, 15, 88, 87, 5, 119, 27, 64, 291, 159, 305, 2]\n",
      "Importance of selected features:  [0.173 0.15  0.129 0.123 0.115 0.11  0.096 0.095 0.091 0.083 0.072 0.066\n",
      " 0.062 0.062 0.049 0.045 0.041 0.04  0.039 0.038 0.033 0.032 0.03  0.025\n",
      " 0.024 0.014 0.014 0.01  0.01  0.003]\n",
      "Total iterations for the optimal feature set: 19\n",
      "['D_44__last', 'B_11__last__log', 'B_9__max', 'R_1__std', 'B_19__last__log', 'D_42__first', 'P_2__last', 'B_2__last__log', 'R_1__last', 'B_20__last__log', 'S_3__mean', 'B_9__last', 'D_41__last__log', 'P_2__min', 'R_3__mean', 'D_48__last', 'B_9__last__log', 'B_2__last2max', 'R_1__max', 'B_18__last', 'R_1__last__log', 'B_37__last', 'R_1__mean__log', 'B_33__last2max', 'D_44__max', 'B_9__mean__log', 'B_8__mean__log', 'D_39__range', 'D_43__max', 'P_2__mean']\n"
     ]
    },
    {
     "name": "stderr",
     "output_type": "stream",
     "text": [
      "SpFSR-INFO: Wrapper: LogisticRegression(random_state=32)\n",
      "SpFSR-INFO: Hot start: True\n",
      "SpFSR-INFO: Hot start range: 0.2\n",
      "SpFSR-INFO: Feature weighting: False\n",
      "SpFSR-INFO: Scoring metric: roc_auc\n",
      "SpFSR-INFO: Number of jobs: 1\n",
      "SpFSR-INFO: Number of observations in the dataset: 25000\n",
      "SpFSR-INFO: Number of observations used: 25000\n",
      "SpFSR-INFO: Number of features available: 660\n",
      "SpFSR-INFO: Number of features to select: 0\n",
      "SpFSR-INFO: iter_no: 0, num_ft: 9, value: 0.935, st_dev: 0.004, best: 0.935 @ iter_no 0\n",
      "SpFSR-INFO: iter_no: 5, num_ft: 18, value: 0.943, st_dev: 0.002, best: 0.943 @ iter_no 5\n",
      "SpFSR-INFO: iter_no: 10, num_ft: 21, value: 0.944, st_dev: 0.004, best: 0.944 @ iter_no 6\n",
      "SpFSR-INFO: iter_no: 15, num_ft: 25, value: 0.945, st_dev: 0.002, best: 0.945 @ iter_no 13\n",
      "SpFSR-INFO: iter_no: 20, num_ft: 26, value: 0.946, st_dev: 0.002, best: 0.946 @ iter_no 20\n",
      "SpFSR-INFO: iter_no: 25, num_ft: 28, value: 0.946, st_dev: 0.004, best: 0.946 @ iter_no 20\n",
      "SpFSR-INFO: SpFSR completed in 2.3 minutes.\n",
      "SpFSR-INFO: Best value = 0.946 with 26 features and 25 total iterations.\n",
      "\n"
     ]
    },
    {
     "name": "stdout",
     "output_type": "stream",
     "text": [
      "Best value: 0.946\n",
      "Indices of selected features:  [51, 3, 0, 326, 9, 169, 450, 377, 1, 107, 26, 6, 179, 20, 32, 40, 69, 39, 19, 11, 89, 374, 448, 425, 13, 35]\n",
      "Importance of selected features:  [0.249 0.183 0.181 0.162 0.135 0.13  0.116 0.1   0.094 0.093 0.088 0.087\n",
      " 0.086 0.085 0.076 0.069 0.061 0.055 0.05  0.047 0.02  0.013 0.011 0.007\n",
      " 0.005 0.002]\n",
      "Total iterations for the optimal feature set: 20\n",
      "['B_9__last__log', 'D_48__last', 'P_2__last', 'S_3__min', 'B_2__last__log', 'D_41__last', 'D_42__last', 'D_39__last__log', 'P_2__min', 'B_11__last', 'D_44__last', 'D_48__mean', 'S_3__mean', 'D_48__max', 'B_3__last', 'B_23__last', 'B_3__std', 'B_20__last__log', 'B_2__mean', 'R_1__max', 'B_4__last__log', 'D_45__mean', 'D_42__min', 'D_42__max', 'D_44__last__log', 'B_11__last__log']\n"
     ]
    },
    {
     "name": "stderr",
     "output_type": "stream",
     "text": [
      "SpFSR-INFO: Wrapper: LogisticRegression(random_state=33)\n",
      "SpFSR-INFO: Hot start: True\n",
      "SpFSR-INFO: Hot start range: 0.2\n",
      "SpFSR-INFO: Feature weighting: False\n",
      "SpFSR-INFO: Scoring metric: roc_auc\n",
      "SpFSR-INFO: Number of jobs: 1\n",
      "SpFSR-INFO: Number of observations in the dataset: 25000\n",
      "SpFSR-INFO: Number of observations used: 25000\n",
      "SpFSR-INFO: Number of features available: 660\n",
      "SpFSR-INFO: Number of features to select: 0\n",
      "SpFSR-INFO: iter_no: 0, num_ft: 9, value: 0.936, st_dev: 0.003, best: 0.936 @ iter_no 0\n",
      "SpFSR-INFO: iter_no: 5, num_ft: 14, value: 0.942, st_dev: 0.003, best: 0.942 @ iter_no 5\n",
      "SpFSR-INFO: iter_no: 10, num_ft: 17, value: 0.945, st_dev: 0.003, best: 0.945 @ iter_no 10\n",
      "SpFSR-INFO: iter_no: 15, num_ft: 20, value: 0.946, st_dev: 0.003, best: 0.946 @ iter_no 12\n",
      "SpFSR-INFO: iter_no: 20, num_ft: 28, value: 0.947, st_dev: 0.003, best: 0.947 @ iter_no 20\n",
      "SpFSR-INFO: iter_no: 25, num_ft: 28, value: 0.947, st_dev: 0.002, best: 0.947 @ iter_no 20\n",
      "SpFSR-INFO: SpFSR completed in 2.26 minutes.\n",
      "SpFSR-INFO: Best value = 0.947 with 28 features and 25 total iterations.\n",
      "\n"
     ]
    },
    {
     "name": "stdout",
     "output_type": "stream",
     "text": [
      "Best value: 0.947\n",
      "Indices of selected features:  [0, 107, 2, 26, 179, 16, 55, 38, 420, 233, 9, 3, 40, 158, 450, 103, 377, 412, 51, 425, 1, 13, 87, 50, 370, 184, 429, 471]\n",
      "Importance of selected features:  [0.215 0.182 0.167 0.15  0.15  0.146 0.128 0.1   0.099 0.097 0.093 0.087\n",
      " 0.076 0.067 0.052 0.044 0.043 0.029 0.029 0.027 0.021 0.02  0.02  0.019\n",
      " 0.017 0.01  0.007 0.   ]\n",
      "Total iterations for the optimal feature set: 20\n",
      "['P_2__last', 'B_11__last', 'P_2__mean', 'D_44__last', 'S_3__mean', 'B_9__last', 'R_1__last', 'B_2__last2max', 'S_15__mean', 'S_3__last', 'B_2__last__log', 'D_48__last', 'B_23__last', 'B_14__last2max', 'D_42__last', 'B_9__max', 'D_39__last__log', 'B_26__last__log', 'B_9__last__log', 'D_42__max', 'P_2__min', 'D_44__last__log', 'B_37__last', 'B_2__min', 'D_65__last__log', 'P_3__mean', 'D_42__first', 'R_3__last__log']\n"
     ]
    },
    {
     "name": "stderr",
     "output_type": "stream",
     "text": [
      "SpFSR-INFO: Wrapper: LogisticRegression(random_state=34)\n",
      "SpFSR-INFO: Hot start: True\n",
      "SpFSR-INFO: Hot start range: 0.2\n",
      "SpFSR-INFO: Feature weighting: False\n",
      "SpFSR-INFO: Scoring metric: roc_auc\n",
      "SpFSR-INFO: Number of jobs: 1\n",
      "SpFSR-INFO: Number of observations in the dataset: 25000\n",
      "SpFSR-INFO: Number of observations used: 25000\n",
      "SpFSR-INFO: Number of features available: 660\n",
      "SpFSR-INFO: Number of features to select: 0\n",
      "SpFSR-INFO: iter_no: 0, num_ft: 9, value: 0.934, st_dev: 0.004, best: 0.934 @ iter_no 0\n",
      "SpFSR-INFO: iter_no: 5, num_ft: 18, value: 0.942, st_dev: 0.002, best: 0.942 @ iter_no 5\n",
      "SpFSR-INFO: iter_no: 10, num_ft: 32, value: 0.945, st_dev: 0.003, best: 0.945 @ iter_no 8\n",
      "SpFSR-INFO: iter_no: 15, num_ft: 30, value: 0.945, st_dev: 0.003, best: 0.945 @ iter_no 8\n",
      "SpFSR-INFO: iter_no: 20, num_ft: 32, value: 0.945, st_dev: 0.003, best: 0.945 @ iter_no 8\n",
      "SpFSR-INFO: ===> iter_no: 21, same feature stall limit reached, initializing search...\n",
      "SpFSR-INFO: iter_no: 25, num_ft: 12, value: 0.936, st_dev: 0.003, best: 0.945 @ iter_no 8\n",
      "SpFSR-INFO: SpFSR completed in 2.27 minutes.\n",
      "SpFSR-INFO: Best value = 0.945 with 32 features and 25 total iterations.\n",
      "\n"
     ]
    },
    {
     "name": "stdout",
     "output_type": "stream",
     "text": [
      "Best value: 0.945\n",
      "Indices of selected features:  [3, 35, 51, 11, 377, 2, 137, 233, 0, 9, 55, 167, 4, 25, 251, 7, 17, 8, 117, 184, 450, 1, 174, 13, 49, 245, 16, 104, 80, 26, 58, 30]\n",
      "Importance of selected features:  [0.191 0.158 0.149 0.147 0.144 0.105 0.095 0.089 0.078 0.078 0.077 0.074\n",
      " 0.065 0.061 0.056 0.05  0.044 0.043 0.043 0.043 0.038 0.036 0.034 0.033\n",
      " 0.031 0.029 0.023 0.023 0.022 0.015 0.008 0.004]\n",
      "Total iterations for the optimal feature set: 8\n",
      "['D_48__last', 'B_11__last__log', 'B_9__last__log', 'R_1__max', 'D_39__last__log', 'P_2__mean', 'B_37__mean', 'S_3__last', 'P_2__last', 'B_2__last__log', 'R_1__last', 'S_7__mean', 'P_2__max', 'B_33__last', 'D_45__mean__log', 'R_1__std', 'B_3__last__log', 'D_44__mean__log', 'R_2__last', 'P_3__mean', 'D_42__last', 'P_2__min', 'S_3__max', 'D_44__last__log', 'D_75__mean__log', 'B_37__last2max', 'B_9__last', 'R_2__range', 'B_19__last', 'D_44__last', 'R_10__std', 'B_23__last__log']\n"
     ]
    },
    {
     "name": "stderr",
     "output_type": "stream",
     "text": [
      "SpFSR-INFO: Wrapper: LogisticRegression(random_state=35)\n",
      "SpFSR-INFO: Hot start: True\n",
      "SpFSR-INFO: Hot start range: 0.2\n",
      "SpFSR-INFO: Feature weighting: False\n",
      "SpFSR-INFO: Scoring metric: roc_auc\n",
      "SpFSR-INFO: Number of jobs: 1\n",
      "SpFSR-INFO: Number of observations in the dataset: 25000\n",
      "SpFSR-INFO: Number of observations used: 25000\n",
      "SpFSR-INFO: Number of features available: 660\n",
      "SpFSR-INFO: Number of features to select: 0\n",
      "SpFSR-INFO: iter_no: 0, num_ft: 7, value: 0.935, st_dev: 0.002, best: 0.935 @ iter_no 0\n",
      "SpFSR-INFO: iter_no: 5, num_ft: 14, value: 0.941, st_dev: 0.003, best: 0.941 @ iter_no 5\n",
      "SpFSR-INFO: iter_no: 10, num_ft: 20, value: 0.945, st_dev: 0.004, best: 0.945 @ iter_no 9\n",
      "SpFSR-INFO: iter_no: 15, num_ft: 30, value: 0.947, st_dev: 0.003, best: 0.947 @ iter_no 13\n",
      "SpFSR-INFO: iter_no: 20, num_ft: 35, value: 0.948, st_dev: 0.002, best: 0.948 @ iter_no 16\n",
      "SpFSR-INFO: iter_no: 25, num_ft: 35, value: 0.948, st_dev: 0.004, best: 0.948 @ iter_no 16\n",
      "SpFSR-INFO: SpFSR completed in 2.25 minutes.\n",
      "SpFSR-INFO: Best value = 0.948 with 30 features and 25 total iterations.\n",
      "\n"
     ]
    },
    {
     "name": "stdout",
     "output_type": "stream",
     "text": [
      "Best value: 0.948\n",
      "Indices of selected features:  [0, 15, 7, 237, 26, 1, 27, 16, 179, 30, 4, 88, 5, 425, 107, 12, 3, 208, 211, 2, 9, 8, 35, 53, 34, 51, 17, 11, 117, 59]\n",
      "Importance of selected features:  [0.128 0.094 0.092 0.089 0.088 0.086 0.084 0.082 0.064 0.06  0.058 0.056\n",
      " 0.054 0.052 0.049 0.041 0.038 0.036 0.035 0.033 0.028 0.027 0.02  0.009\n",
      " 0.007 0.005 0.005 0.003 0.002 0.001]\n",
      "Total iterations for the optimal feature set: 16\n",
      "['P_2__last', 'B_18__last', 'R_1__std', 'D_39__last', 'D_44__last', 'P_2__min', 'D_44__max', 'B_9__last', 'S_3__mean', 'B_23__last__log', 'P_2__max', 'R_1__last__log', 'R_1__mean__log', 'D_42__max', 'B_11__last', 'P_2__first', 'D_48__last', 'S_7__last', 'R_2__last__log', 'P_2__mean', 'B_2__last__log', 'D_44__mean__log', 'B_11__last__log', 'D_44__mean', 'B_7__last', 'B_9__last__log', 'B_3__last__log', 'R_1__max', 'R_2__last', 'B_18__min']\n"
     ]
    },
    {
     "name": "stderr",
     "output_type": "stream",
     "text": [
      "SpFSR-INFO: Wrapper: LogisticRegression(random_state=36)\n",
      "SpFSR-INFO: Hot start: True\n",
      "SpFSR-INFO: Hot start range: 0.2\n",
      "SpFSR-INFO: Feature weighting: False\n",
      "SpFSR-INFO: Scoring metric: roc_auc\n",
      "SpFSR-INFO: Number of jobs: 1\n",
      "SpFSR-INFO: Number of observations in the dataset: 25000\n",
      "SpFSR-INFO: Number of observations used: 25000\n",
      "SpFSR-INFO: Number of features available: 660\n",
      "SpFSR-INFO: Number of features to select: 0\n",
      "SpFSR-INFO: iter_no: 0, num_ft: 7, value: 0.937, st_dev: 0.002, best: 0.937 @ iter_no 0\n",
      "SpFSR-INFO: ===> iter_no: 0, same feature stall limit reached, initializing search...\n",
      "SpFSR-INFO: iter_no: 5, num_ft: 13, value: 0.942, st_dev: 0.003, best: 0.942 @ iter_no 5\n",
      "SpFSR-INFO: iter_no: 10, num_ft: 30, value: 0.951, st_dev: 0.002, best: 0.951 @ iter_no 10\n",
      "SpFSR-INFO: iter_no: 15, num_ft: 27, value: 0.951, st_dev: 0.003, best: 0.951 @ iter_no 10\n",
      "SpFSR-INFO: iter_no: 20, num_ft: 28, value: 0.951, st_dev: 0.003, best: 0.951 @ iter_no 10\n",
      "SpFSR-INFO: iter_no: 25, num_ft: 28, value: 0.951, st_dev: 0.002, best: 0.951 @ iter_no 10\n",
      "SpFSR-INFO: ===> iter_no: 25, same feature stall limit reached, initializing search...\n",
      "SpFSR-INFO: SpFSR completed in 2.27 minutes.\n",
      "SpFSR-INFO: Best value = 0.951 with 30 features and 25 total iterations.\n",
      "\n"
     ]
    },
    {
     "name": "stdout",
     "output_type": "stream",
     "text": [
      "Best value: 0.951\n",
      "Indices of selected features:  [2, 25, 9, 11, 0, 20, 107, 179, 237, 32, 425, 4, 72, 34, 7, 67, 3, 178, 377, 55, 400, 18, 26, 273, 92, 88, 64, 349, 52, 218]\n",
      "Importance of selected features:  [0.223 0.176 0.165 0.148 0.147 0.121 0.09  0.082 0.08  0.07  0.067 0.052\n",
      " 0.05  0.048 0.045 0.045 0.035 0.035 0.035 0.033 0.029 0.025 0.024 0.02\n",
      " 0.019 0.019 0.018 0.018 0.011 0.006]\n",
      "Total iterations for the optimal feature set: 10\n",
      "['P_2__mean', 'B_33__last', 'B_2__last__log', 'R_1__max', 'P_2__last', 'D_48__max', 'B_11__last', 'S_3__mean', 'D_39__last', 'B_3__last', 'D_42__max', 'P_2__max', 'B_19__last__log', 'B_7__last', 'R_1__std', 'D_44__std', 'D_48__last', 'P_3__min', 'D_39__last__log', 'R_1__last', 'D_45__min', 'D_61__last', 'D_44__last', 'R_3__mean__log', 'R_2__max', 'R_1__last__log', 'B_9__mean__log', 'D_45__first', 'D_75__last__log', 'R_3__mean']\n"
     ]
    },
    {
     "name": "stderr",
     "output_type": "stream",
     "text": [
      "SpFSR-INFO: Wrapper: LogisticRegression(random_state=37)\n",
      "SpFSR-INFO: Hot start: True\n",
      "SpFSR-INFO: Hot start range: 0.2\n",
      "SpFSR-INFO: Feature weighting: False\n",
      "SpFSR-INFO: Scoring metric: roc_auc\n",
      "SpFSR-INFO: Number of jobs: 1\n",
      "SpFSR-INFO: Number of observations in the dataset: 25000\n",
      "SpFSR-INFO: Number of observations used: 25000\n",
      "SpFSR-INFO: Number of features available: 660\n",
      "SpFSR-INFO: Number of features to select: 0\n",
      "SpFSR-INFO: iter_no: 0, num_ft: 10, value: 0.936, st_dev: 0.004, best: 0.936 @ iter_no 0\n",
      "SpFSR-INFO: iter_no: 5, num_ft: 11, value: 0.937, st_dev: 0.003, best: 0.937 @ iter_no 5\n",
      "SpFSR-INFO: iter_no: 10, num_ft: 20, value: 0.944, st_dev: 0.003, best: 0.944 @ iter_no 10\n",
      "SpFSR-INFO: iter_no: 15, num_ft: 26, value: 0.946, st_dev: 0.002, best: 0.946 @ iter_no 13\n",
      "SpFSR-INFO: iter_no: 20, num_ft: 27, value: 0.947, st_dev: 0.002, best: 0.947 @ iter_no 20\n",
      "SpFSR-INFO: iter_no: 25, num_ft: 27, value: 0.947, st_dev: 0.003, best: 0.947 @ iter_no 20\n",
      "SpFSR-INFO: SpFSR completed in 2.27 minutes.\n",
      "SpFSR-INFO: Best value = 0.947 with 27 features and 25 total iterations.\n",
      "\n"
     ]
    },
    {
     "name": "stdout",
     "output_type": "stream",
     "text": [
      "Best value: 0.947\n",
      "Indices of selected features:  [0, 26, 5, 3, 107, 17, 51, 237, 233, 4, 2, 87, 88, 611, 450, 1, 326, 158, 9, 7, 38, 25, 165, 138, 22, 35, 187]\n",
      "Importance of selected features:  [0.219 0.206 0.134 0.131 0.123 0.12  0.111 0.084 0.082 0.08  0.064 0.05\n",
      " 0.049 0.048 0.047 0.033 0.027 0.025 0.024 0.021 0.017 0.011 0.011 0.009\n",
      " 0.003 0.001 0.001]\n",
      "Total iterations for the optimal feature set: 20\n",
      "['P_2__last', 'D_44__last', 'R_1__mean__log', 'D_48__last', 'B_11__last', 'B_3__last__log', 'B_9__last__log', 'D_39__last', 'S_3__last', 'P_2__max', 'P_2__mean', 'B_37__last', 'R_1__last__log', 'S_8__mean', 'D_42__last', 'P_2__min', 'S_3__min', 'B_14__last2max', 'B_2__last__log', 'R_1__std', 'B_2__last2max', 'B_33__last', 'B_11__last2max', 'R_10__mean', 'B_9__mean', 'B_11__last__log', 'D_41__last__log']\n"
     ]
    },
    {
     "name": "stderr",
     "output_type": "stream",
     "text": [
      "SpFSR-INFO: Wrapper: LogisticRegression(random_state=38)\n",
      "SpFSR-INFO: Hot start: True\n",
      "SpFSR-INFO: Hot start range: 0.2\n",
      "SpFSR-INFO: Feature weighting: False\n",
      "SpFSR-INFO: Scoring metric: roc_auc\n",
      "SpFSR-INFO: Number of jobs: 1\n",
      "SpFSR-INFO: Number of observations in the dataset: 25000\n",
      "SpFSR-INFO: Number of observations used: 25000\n",
      "SpFSR-INFO: Number of features available: 660\n",
      "SpFSR-INFO: Number of features to select: 0\n",
      "SpFSR-INFO: iter_no: 0, num_ft: 7, value: 0.938, st_dev: 0.002, best: 0.938 @ iter_no 0\n",
      "SpFSR-INFO: iter_no: 5, num_ft: 10, value: 0.939, st_dev: 0.003, best: 0.939 @ iter_no 1\n",
      "SpFSR-INFO: iter_no: 10, num_ft: 29, value: 0.948, st_dev: 0.002, best: 0.948 @ iter_no 9\n",
      "SpFSR-INFO: iter_no: 15, num_ft: 32, value: 0.951, st_dev: 0.003, best: 0.951 @ iter_no 15\n",
      "SpFSR-INFO: iter_no: 20, num_ft: 35, value: 0.953, st_dev: 0.002, best: 0.953 @ iter_no 19\n",
      "SpFSR-INFO: iter_no: 25, num_ft: 36, value: 0.954, st_dev: 0.003, best: 0.954 @ iter_no 25\n",
      "SpFSR-INFO: SpFSR completed in 2.25 minutes.\n",
      "SpFSR-INFO: Best value = 0.954 with 36 features and 25 total iterations.\n",
      "\n"
     ]
    },
    {
     "name": "stdout",
     "output_type": "stream",
     "text": [
      "Best value: 0.954\n",
      "Indices of selected features:  [9, 301, 420, 2, 25, 237, 103, 34, 0, 15, 64, 431, 6, 3, 23, 117, 16, 187, 88, 22, 26, 19, 66, 119, 11, 107, 179, 89, 7, 273, 39, 211, 12, 425, 52, 377]\n",
      "Importance of selected features:  [0.274 0.236 0.235 0.179 0.178 0.166 0.165 0.162 0.16  0.159 0.159 0.154\n",
      " 0.145 0.117 0.115 0.105 0.103 0.099 0.084 0.081 0.077 0.075 0.072 0.06\n",
      " 0.06  0.058 0.057 0.054 0.05  0.047 0.037 0.035 0.02  0.019 0.004 0.002]\n",
      "Total iterations for the optimal feature set: 25\n",
      "['B_2__last__log', 'D_45__last__log', 'S_15__mean', 'P_2__mean', 'B_33__last', 'D_39__last', 'B_9__max', 'B_7__last', 'P_2__last', 'B_18__last', 'B_9__mean__log', 'D_42__mean', 'D_48__mean', 'D_48__last', 'B_3__mean__log', 'R_2__last', 'B_9__last', 'D_41__last__log', 'R_1__last__log', 'B_9__mean', 'D_44__last', 'B_2__mean', 'B_4__last', 'B_33__last2max', 'R_1__max', 'B_11__last', 'S_3__mean', 'B_4__last__log', 'R_1__std', 'R_3__mean__log', 'B_20__last__log', 'R_2__last__log', 'P_2__first', 'D_42__max', 'D_75__last__log', 'D_39__last__log']\n"
     ]
    },
    {
     "name": "stderr",
     "output_type": "stream",
     "text": [
      "SpFSR-INFO: Wrapper: LogisticRegression(random_state=39)\n",
      "SpFSR-INFO: Hot start: True\n",
      "SpFSR-INFO: Hot start range: 0.2\n",
      "SpFSR-INFO: Feature weighting: False\n",
      "SpFSR-INFO: Scoring metric: roc_auc\n",
      "SpFSR-INFO: Number of jobs: 1\n",
      "SpFSR-INFO: Number of observations in the dataset: 25000\n",
      "SpFSR-INFO: Number of observations used: 25000\n",
      "SpFSR-INFO: Number of features available: 660\n",
      "SpFSR-INFO: Number of features to select: 0\n",
      "SpFSR-INFO: iter_no: 0, num_ft: 9, value: 0.934, st_dev: 0.003, best: 0.934 @ iter_no 0\n",
      "SpFSR-INFO: iter_no: 5, num_ft: 21, value: 0.94, st_dev: 0.002, best: 0.94 @ iter_no 5\n",
      "SpFSR-INFO: iter_no: 10, num_ft: 27, value: 0.945, st_dev: 0.003, best: 0.945 @ iter_no 7\n",
      "SpFSR-INFO: ===> iter_no: 14, same feature stall limit reached, initializing search...\n",
      "SpFSR-INFO: iter_no: 15, num_ft: 7, value: 0.934, st_dev: 0.004, best: 0.946 @ iter_no 14\n",
      "SpFSR-INFO: iter_no: 20, num_ft: 23, value: 0.944, st_dev: 0.002, best: 0.946 @ iter_no 14\n",
      "SpFSR-INFO: iter_no: 25, num_ft: 24, value: 0.944, st_dev: 0.003, best: 0.946 @ iter_no 14\n",
      "SpFSR-INFO: SpFSR completed in 2.26 minutes.\n",
      "SpFSR-INFO: Best value = 0.946 with 27 features and 25 total iterations.\n",
      "\n"
     ]
    },
    {
     "name": "stdout",
     "output_type": "stream",
     "text": [
      "Best value: 0.946\n",
      "Indices of selected features:  [51, 9, 425, 233, 4, 232, 38, 30, 3, 0, 97, 377, 5, 15, 26, 218, 154, 211, 1, 174, 34, 84, 24, 66, 88, 87, 2]\n",
      "Importance of selected features:  [0.206 0.159 0.124 0.123 0.116 0.105 0.097 0.095 0.086 0.086 0.084 0.078\n",
      " 0.074 0.067 0.066 0.066 0.057 0.051 0.05  0.042 0.034 0.033 0.024 0.021\n",
      " 0.015 0.013 0.01 ]\n",
      "Total iterations for the optimal feature set: 14\n",
      "['B_9__last__log', 'B_2__last__log', 'D_42__max', 'S_3__last', 'P_2__max', 'P_3__last', 'B_2__last2max', 'B_23__last__log', 'D_48__last', 'P_2__last', 'R_2__std', 'D_39__last__log', 'R_1__mean__log', 'B_18__last', 'D_44__last', 'R_3__mean', 'D_39__std', 'R_2__last__log', 'P_2__min', 'S_3__max', 'B_7__last', 'B_1__last', 'R_1__mean', 'B_4__last', 'R_1__last__log', 'B_37__last', 'P_2__mean']\n"
     ]
    },
    {
     "name": "stderr",
     "output_type": "stream",
     "text": [
      "SpFSR-INFO: Wrapper: LogisticRegression(random_state=40)\n",
      "SpFSR-INFO: Hot start: True\n",
      "SpFSR-INFO: Hot start range: 0.2\n",
      "SpFSR-INFO: Feature weighting: False\n",
      "SpFSR-INFO: Scoring metric: roc_auc\n",
      "SpFSR-INFO: Number of jobs: 1\n",
      "SpFSR-INFO: Number of observations in the dataset: 25000\n",
      "SpFSR-INFO: Number of observations used: 25000\n",
      "SpFSR-INFO: Number of features available: 660\n",
      "SpFSR-INFO: Number of features to select: 0\n",
      "SpFSR-INFO: iter_no: 0, num_ft: 9, value: 0.934, st_dev: 0.004, best: 0.934 @ iter_no 0\n",
      "SpFSR-INFO: iter_no: 5, num_ft: 11, value: 0.936, st_dev: 0.004, best: 0.936 @ iter_no 5\n",
      "SpFSR-INFO: iter_no: 10, num_ft: 14, value: 0.937, st_dev: 0.003, best: 0.937 @ iter_no 8\n",
      "SpFSR-INFO: iter_no: 15, num_ft: 23, value: 0.943, st_dev: 0.002, best: 0.943 @ iter_no 15\n",
      "SpFSR-INFO: iter_no: 20, num_ft: 27, value: 0.945, st_dev: 0.003, best: 0.945 @ iter_no 17\n",
      "SpFSR-INFO: iter_no: 25, num_ft: 29, value: 0.945, st_dev: 0.003, best: 0.945 @ iter_no 17\n",
      "SpFSR-INFO: SpFSR completed in 2.25 minutes.\n",
      "SpFSR-INFO: Best value = 0.945 with 26 features and 25 total iterations.\n",
      "\n"
     ]
    },
    {
     "name": "stdout",
     "output_type": "stream",
     "text": [
      "Best value: 0.945\n",
      "Indices of selected features:  [107, 26, 0, 208, 187, 11, 9, 47, 15, 450, 39, 2, 49, 18, 35, 32, 237, 58, 178, 1, 4, 72, 10, 7, 59, 16]\n",
      "Importance of selected features:  [0.184 0.157 0.145 0.143 0.118 0.088 0.087 0.085 0.085 0.082 0.077 0.055\n",
      " 0.052 0.036 0.036 0.032 0.028 0.027 0.025 0.024 0.023 0.021 0.014 0.012\n",
      " 0.003 0.001]\n",
      "Total iterations for the optimal feature set: 17\n",
      "['B_11__last', 'D_44__last', 'P_2__last', 'S_7__last', 'D_41__last__log', 'R_1__max', 'B_2__last__log', 'B_18__last__log', 'B_18__last', 'D_42__last', 'B_20__last__log', 'P_2__mean', 'D_75__mean__log', 'D_61__last', 'B_11__last__log', 'B_3__last', 'D_39__last', 'R_10__std', 'P_3__min', 'P_2__min', 'P_2__max', 'B_19__last__log', 'B_2__last', 'R_1__std', 'B_18__min', 'B_9__last']\n"
     ]
    },
    {
     "name": "stderr",
     "output_type": "stream",
     "text": [
      "SpFSR-INFO: Wrapper: LogisticRegression(random_state=41)\n",
      "SpFSR-INFO: Hot start: True\n",
      "SpFSR-INFO: Hot start range: 0.2\n",
      "SpFSR-INFO: Feature weighting: False\n",
      "SpFSR-INFO: Scoring metric: roc_auc\n",
      "SpFSR-INFO: Number of jobs: 1\n",
      "SpFSR-INFO: Number of observations in the dataset: 25000\n",
      "SpFSR-INFO: Number of observations used: 25000\n",
      "SpFSR-INFO: Number of features available: 660\n",
      "SpFSR-INFO: Number of features to select: 0\n",
      "SpFSR-INFO: iter_no: 0, num_ft: 9, value: 0.937, st_dev: 0.003, best: 0.937 @ iter_no 0\n",
      "SpFSR-INFO: ===> iter_no: 2, same feature stall limit reached, initializing search...\n",
      "SpFSR-INFO: iter_no: 5, num_ft: 13, value: 0.94, st_dev: 0.003, best: 0.94 @ iter_no 5\n",
      "SpFSR-INFO: iter_no: 10, num_ft: 20, value: 0.942, st_dev: 0.002, best: 0.942 @ iter_no 10\n",
      "SpFSR-INFO: iter_no: 15, num_ft: 21, value: 0.943, st_dev: 0.003, best: 0.943 @ iter_no 14\n",
      "SpFSR-INFO: iter_no: 20, num_ft: 29, value: 0.945, st_dev: 0.002, best: 0.945 @ iter_no 18\n",
      "SpFSR-INFO: iter_no: 25, num_ft: 27, value: 0.946, st_dev: 0.004, best: 0.946 @ iter_no 23\n",
      "SpFSR-INFO: SpFSR completed in 2.26 minutes.\n",
      "SpFSR-INFO: Best value = 0.946 with 28 features and 25 total iterations.\n",
      "\n"
     ]
    },
    {
     "name": "stdout",
     "output_type": "stream",
     "text": [
      "Best value: 0.946\n",
      "Indices of selected features:  [0, 47, 431, 103, 158, 377, 16, 156, 55, 66, 9, 89, 34, 187, 67, 107, 76, 3, 15, 51, 11, 245, 39, 10, 40, 59, 133, 69]\n",
      "Importance of selected features:  [0.191 0.169 0.152 0.116 0.11  0.106 0.078 0.072 0.072 0.07  0.069 0.061\n",
      " 0.06  0.06  0.045 0.044 0.044 0.043 0.042 0.034 0.031 0.027 0.026 0.019\n",
      " 0.019 0.018 0.007 0.005]\n",
      "Total iterations for the optimal feature set: 23\n",
      "['P_2__last', 'B_18__last__log', 'D_42__mean', 'B_9__max', 'B_14__last2max', 'D_39__last__log', 'B_9__last', 'R_2__mean', 'R_1__last', 'B_4__last', 'B_2__last__log', 'B_4__last__log', 'B_7__last', 'D_41__last__log', 'D_44__std', 'B_11__last', 'D_44__range', 'D_48__last', 'B_18__last', 'B_9__last__log', 'R_1__max', 'B_37__last2max', 'B_20__last__log', 'B_2__last', 'B_23__last', 'B_18__min', 'B_22__last', 'B_3__std']\n"
     ]
    },
    {
     "name": "stderr",
     "output_type": "stream",
     "text": [
      "SpFSR-INFO: Wrapper: LogisticRegression(random_state=42)\n",
      "SpFSR-INFO: Hot start: True\n",
      "SpFSR-INFO: Hot start range: 0.2\n",
      "SpFSR-INFO: Feature weighting: False\n",
      "SpFSR-INFO: Scoring metric: roc_auc\n",
      "SpFSR-INFO: Number of jobs: 1\n",
      "SpFSR-INFO: Number of observations in the dataset: 25000\n",
      "SpFSR-INFO: Number of observations used: 25000\n",
      "SpFSR-INFO: Number of features available: 660\n",
      "SpFSR-INFO: Number of features to select: 0\n",
      "SpFSR-INFO: iter_no: 0, num_ft: 10, value: 0.934, st_dev: 0.004, best: 0.934 @ iter_no 0\n",
      "SpFSR-INFO: iter_no: 5, num_ft: 21, value: 0.938, st_dev: 0.003, best: 0.938 @ iter_no 4\n",
      "SpFSR-INFO: iter_no: 10, num_ft: 19, value: 0.94, st_dev: 0.004, best: 0.94 @ iter_no 7\n",
      "SpFSR-INFO: iter_no: 15, num_ft: 23, value: 0.941, st_dev: 0.003, best: 0.941 @ iter_no 11\n",
      "SpFSR-INFO: iter_no: 20, num_ft: 25, value: 0.942, st_dev: 0.002, best: 0.942 @ iter_no 18\n",
      "SpFSR-INFO: ===> iter_no: 22, same feature stall limit reached, initializing search...\n",
      "SpFSR-INFO: iter_no: 25, num_ft: 11, value: 0.933, st_dev: 0.004, best: 0.942 @ iter_no 18\n",
      "SpFSR-INFO: ===> iter_no: 25, same feature stall limit reached, initializing search...\n",
      "SpFSR-INFO: SpFSR completed in 2.28 minutes.\n",
      "SpFSR-INFO: Best value = 0.942 with 25 features and 25 total iterations.\n",
      "\n"
     ]
    },
    {
     "name": "stdout",
     "output_type": "stream",
     "text": [
      "Best value: 0.942\n",
      "Indices of selected features:  [9, 2, 107, 26, 4, 38, 400, 237, 0, 429, 3, 51, 13, 7, 19, 1, 87, 15, 58, 17, 16, 151, 40, 39, 34]\n",
      "Importance of selected features:  [0.174 0.149 0.127 0.107 0.101 0.082 0.07  0.07  0.066 0.06  0.059 0.052\n",
      " 0.048 0.044 0.043 0.036 0.031 0.023 0.023 0.015 0.011 0.009 0.005 0.004\n",
      " 0.002]\n",
      "Total iterations for the optimal feature set: 18\n",
      "['B_2__last__log', 'P_2__mean', 'B_11__last', 'D_44__last', 'P_2__max', 'B_2__last2max', 'D_45__min', 'D_39__last', 'P_2__last', 'D_42__first', 'D_48__last', 'B_9__last__log', 'D_44__last__log', 'R_1__std', 'B_2__mean', 'P_2__min', 'B_37__last', 'B_18__last', 'R_10__std', 'B_3__last__log', 'B_9__last', 'R_6__mean__log', 'B_23__last', 'B_20__last__log', 'B_7__last']\n"
     ]
    },
    {
     "name": "stderr",
     "output_type": "stream",
     "text": [
      "SpFSR-INFO: Wrapper: LogisticRegression(random_state=43)\n",
      "SpFSR-INFO: Hot start: True\n",
      "SpFSR-INFO: Hot start range: 0.2\n",
      "SpFSR-INFO: Feature weighting: False\n",
      "SpFSR-INFO: Scoring metric: roc_auc\n",
      "SpFSR-INFO: Number of jobs: 1\n",
      "SpFSR-INFO: Number of observations in the dataset: 25000\n",
      "SpFSR-INFO: Number of observations used: 25000\n",
      "SpFSR-INFO: Number of features available: 660\n",
      "SpFSR-INFO: Number of features to select: 0\n",
      "SpFSR-INFO: iter_no: 0, num_ft: 8, value: 0.937, st_dev: 0.003, best: 0.937 @ iter_no 0\n",
      "SpFSR-INFO: iter_no: 5, num_ft: 16, value: 0.941, st_dev: 0.002, best: 0.941 @ iter_no 5\n",
      "SpFSR-INFO: iter_no: 10, num_ft: 22, value: 0.947, st_dev: 0.003, best: 0.947 @ iter_no 8\n",
      "SpFSR-INFO: iter_no: 15, num_ft: 28, value: 0.948, st_dev: 0.003, best: 0.948 @ iter_no 13\n",
      "SpFSR-INFO: iter_no: 20, num_ft: 30, value: 0.948, st_dev: 0.003, best: 0.948 @ iter_no 13\n",
      "SpFSR-INFO: iter_no: 25, num_ft: 29, value: 0.948, st_dev: 0.003, best: 0.948 @ iter_no 13\n",
      "SpFSR-INFO: ===> iter_no: 25, same feature stall limit reached, initializing search...\n",
      "SpFSR-INFO: SpFSR completed in 2.27 minutes.\n",
      "SpFSR-INFO: Best value = 0.948 with 23 features and 25 total iterations.\n",
      "\n"
     ]
    },
    {
     "name": "stdout",
     "output_type": "stream",
     "text": [
      "Best value: 0.948\n",
      "Indices of selected features:  [26, 0, 2, 4, 87, 3, 51, 184, 233, 15, 9, 119, 53, 377, 611, 39, 448, 92, 88, 219, 69, 49, 40]\n",
      "Importance of selected features:  [0.21  0.176 0.147 0.137 0.117 0.104 0.103 0.099 0.073 0.073 0.072 0.067\n",
      " 0.066 0.064 0.053 0.051 0.047 0.046 0.042 0.04  0.022 0.02  0.005]\n",
      "Total iterations for the optimal feature set: 13\n",
      "['D_44__last', 'P_2__last', 'P_2__mean', 'P_2__max', 'B_37__last', 'D_48__last', 'B_9__last__log', 'P_3__mean', 'S_3__last', 'B_18__last', 'B_2__last__log', 'B_33__last2max', 'D_44__mean', 'D_39__last__log', 'S_8__mean', 'B_20__last__log', 'D_42__min', 'R_2__max', 'R_1__last__log', 'R_3__max', 'B_3__std', 'D_75__mean__log', 'B_23__last']\n"
     ]
    },
    {
     "name": "stderr",
     "output_type": "stream",
     "text": [
      "SpFSR-INFO: Wrapper: LogisticRegression(random_state=44)\n",
      "SpFSR-INFO: Hot start: True\n",
      "SpFSR-INFO: Hot start range: 0.2\n",
      "SpFSR-INFO: Feature weighting: False\n",
      "SpFSR-INFO: Scoring metric: roc_auc\n",
      "SpFSR-INFO: Number of jobs: 1\n",
      "SpFSR-INFO: Number of observations in the dataset: 25000\n",
      "SpFSR-INFO: Number of observations used: 25000\n",
      "SpFSR-INFO: Number of features available: 660\n",
      "SpFSR-INFO: Number of features to select: 0\n",
      "SpFSR-INFO: iter_no: 0, num_ft: 9, value: 0.938, st_dev: 0.003, best: 0.938 @ iter_no 0\n",
      "SpFSR-INFO: iter_no: 5, num_ft: 13, value: 0.944, st_dev: 0.002, best: 0.944 @ iter_no 5\n",
      "SpFSR-INFO: iter_no: 10, num_ft: 23, value: 0.949, st_dev: 0.003, best: 0.95 @ iter_no 8\n",
      "SpFSR-INFO: iter_no: 15, num_ft: 27, value: 0.95, st_dev: 0.003, best: 0.95 @ iter_no 8\n",
      "SpFSR-INFO: iter_no: 20, num_ft: 29, value: 0.951, st_dev: 0.002, best: 0.951 @ iter_no 20\n",
      "SpFSR-INFO: iter_no: 25, num_ft: 32, value: 0.951, st_dev: 0.003, best: 0.951 @ iter_no 20\n",
      "SpFSR-INFO: SpFSR completed in 2.28 minutes.\n",
      "SpFSR-INFO: Best value = 0.951 with 29 features and 25 total iterations.\n",
      "\n"
     ]
    },
    {
     "name": "stdout",
     "output_type": "stream",
     "text": [
      "Best value: 0.951\n",
      "Indices of selected features:  [169, 3, 9, 26, 11, 179, 0, 10, 425, 226, 19, 273, 32, 107, 66, 39, 47, 4, 51, 90, 119, 59, 87, 58, 2, 15, 55, 72, 40]\n",
      "Importance of selected features:  [0.123 0.123 0.122 0.111 0.094 0.087 0.075 0.072 0.065 0.057 0.056 0.054\n",
      " 0.054 0.054 0.054 0.038 0.03  0.029 0.027 0.025 0.022 0.017 0.016 0.015\n",
      " 0.015 0.01  0.009 0.005 0.005]\n",
      "Total iterations for the optimal feature set: 20\n",
      "['D_41__last', 'D_48__last', 'B_2__last__log', 'D_44__last', 'R_1__max', 'S_3__mean', 'P_2__last', 'B_2__last', 'D_42__max', 'B_25__last2max', 'B_2__mean', 'R_3__mean__log', 'B_3__last', 'B_11__last', 'B_4__last', 'B_20__last__log', 'B_18__last__log', 'P_2__max', 'B_9__last__log', 'R_2__mean__log', 'B_33__last2max', 'B_18__min', 'B_37__last', 'R_10__std', 'P_2__mean', 'B_18__last', 'R_1__last', 'B_19__last__log', 'B_23__last']\n"
     ]
    },
    {
     "name": "stderr",
     "output_type": "stream",
     "text": [
      "SpFSR-INFO: Wrapper: LogisticRegression(random_state=45)\n",
      "SpFSR-INFO: Hot start: True\n",
      "SpFSR-INFO: Hot start range: 0.2\n",
      "SpFSR-INFO: Feature weighting: False\n",
      "SpFSR-INFO: Scoring metric: roc_auc\n",
      "SpFSR-INFO: Number of jobs: 1\n",
      "SpFSR-INFO: Number of observations in the dataset: 25000\n",
      "SpFSR-INFO: Number of observations used: 25000\n",
      "SpFSR-INFO: Number of features available: 660\n",
      "SpFSR-INFO: Number of features to select: 0\n",
      "SpFSR-INFO: iter_no: 0, num_ft: 9, value: 0.934, st_dev: 0.002, best: 0.934 @ iter_no 0\n",
      "SpFSR-INFO: iter_no: 5, num_ft: 16, value: 0.936, st_dev: 0.003, best: 0.937 @ iter_no 4\n",
      "SpFSR-INFO: iter_no: 10, num_ft: 24, value: 0.944, st_dev: 0.002, best: 0.944 @ iter_no 10\n",
      "SpFSR-INFO: iter_no: 15, num_ft: 23, value: 0.944, st_dev: 0.002, best: 0.944 @ iter_no 10\n",
      "SpFSR-INFO: iter_no: 20, num_ft: 29, value: 0.945, st_dev: 0.003, best: 0.945 @ iter_no 16\n",
      "SpFSR-INFO: iter_no: 25, num_ft: 28, value: 0.945, st_dev: 0.003, best: 0.945 @ iter_no 16\n",
      "SpFSR-INFO: SpFSR completed in 2.27 minutes.\n",
      "SpFSR-INFO: Best value = 0.945 with 26 features and 25 total iterations.\n",
      "\n"
     ]
    },
    {
     "name": "stdout",
     "output_type": "stream",
     "text": [
      "Best value: 0.945\n",
      "Indices of selected features:  [0, 26, 9, 13, 146, 55, 16, 15, 39, 1, 189, 22, 87, 167, 103, 2, 179, 425, 32, 19, 18, 17, 168, 24, 233, 76]\n",
      "Importance of selected features:  [0.283 0.108 0.091 0.081 0.077 0.076 0.072 0.066 0.065 0.061 0.061 0.057\n",
      " 0.054 0.051 0.034 0.034 0.031 0.028 0.027 0.019 0.013 0.013 0.008 0.007\n",
      " 0.005 0.003]\n",
      "Total iterations for the optimal feature set: 16\n",
      "['P_2__last', 'D_44__last', 'B_2__last__log', 'D_44__last__log', 'B_4__last2max', 'R_1__last', 'B_9__last', 'B_18__last', 'B_20__last__log', 'P_2__min', 'D_112__last__log', 'B_9__mean', 'B_37__last', 'S_7__mean', 'B_9__max', 'P_2__mean', 'S_3__mean', 'D_42__max', 'B_3__last', 'B_2__mean', 'D_61__last', 'B_3__last__log', 'S_25__std', 'R_1__mean', 'S_3__last', 'D_44__range']\n"
     ]
    },
    {
     "name": "stderr",
     "output_type": "stream",
     "text": [
      "SpFSR-INFO: Wrapper: LogisticRegression(random_state=46)\n",
      "SpFSR-INFO: Hot start: True\n",
      "SpFSR-INFO: Hot start range: 0.2\n",
      "SpFSR-INFO: Feature weighting: False\n",
      "SpFSR-INFO: Scoring metric: roc_auc\n",
      "SpFSR-INFO: Number of jobs: 1\n",
      "SpFSR-INFO: Number of observations in the dataset: 25000\n",
      "SpFSR-INFO: Number of observations used: 25000\n",
      "SpFSR-INFO: Number of features available: 660\n",
      "SpFSR-INFO: Number of features to select: 0\n",
      "SpFSR-INFO: iter_no: 0, num_ft: 10, value: 0.935, st_dev: 0.003, best: 0.935 @ iter_no 0\n",
      "SpFSR-INFO: iter_no: 5, num_ft: 12, value: 0.937, st_dev: 0.003, best: 0.937 @ iter_no 5\n",
      "SpFSR-INFO: iter_no: 10, num_ft: 17, value: 0.943, st_dev: 0.002, best: 0.943 @ iter_no 10\n",
      "SpFSR-INFO: iter_no: 15, num_ft: 22, value: 0.945, st_dev: 0.002, best: 0.945 @ iter_no 14\n",
      "SpFSR-INFO: iter_no: 20, num_ft: 24, value: 0.946, st_dev: 0.002, best: 0.946 @ iter_no 16\n",
      "SpFSR-INFO: iter_no: 25, num_ft: 24, value: 0.947, st_dev: 0.003, best: 0.947 @ iter_no 22\n",
      "SpFSR-INFO: ===> iter_no: 25, same feature stall limit reached, initializing search...\n",
      "SpFSR-INFO: SpFSR completed in 2.26 minutes.\n",
      "SpFSR-INFO: Best value = 0.947 with 23 features and 25 total iterations.\n",
      "\n"
     ]
    },
    {
     "name": "stdout",
     "output_type": "stream",
     "text": [
      "Best value: 0.947\n",
      "Indices of selected features:  [26, 107, 0, 3, 69, 349, 243, 51, 9, 450, 237, 208, 429, 187, 11, 179, 87, 88, 6, 4, 1, 34, 15]\n",
      "Importance of selected features:  [0.2   0.187 0.176 0.147 0.144 0.144 0.115 0.11  0.097 0.084 0.081 0.079\n",
      " 0.076 0.067 0.056 0.051 0.039 0.036 0.031 0.021 0.018 0.018 0.013]\n",
      "Total iterations for the optimal feature set: 22\n",
      "['D_44__last', 'B_11__last', 'P_2__last', 'D_48__last', 'B_3__std', 'D_45__first', 'S_15__max', 'B_9__last__log', 'B_2__last__log', 'D_42__last', 'D_39__last', 'S_7__last', 'D_42__first', 'D_41__last__log', 'R_1__max', 'S_3__mean', 'B_37__last', 'R_1__last__log', 'D_48__mean', 'P_2__max', 'P_2__min', 'B_7__last', 'B_18__last']\n"
     ]
    },
    {
     "name": "stderr",
     "output_type": "stream",
     "text": [
      "SpFSR-INFO: Wrapper: LogisticRegression(random_state=47)\n",
      "SpFSR-INFO: Hot start: True\n",
      "SpFSR-INFO: Hot start range: 0.2\n",
      "SpFSR-INFO: Feature weighting: False\n",
      "SpFSR-INFO: Scoring metric: roc_auc\n",
      "SpFSR-INFO: Number of jobs: 1\n",
      "SpFSR-INFO: Number of observations in the dataset: 25000\n",
      "SpFSR-INFO: Number of observations used: 25000\n",
      "SpFSR-INFO: Number of features available: 660\n",
      "SpFSR-INFO: Number of features to select: 0\n",
      "SpFSR-INFO: iter_no: 0, num_ft: 8, value: 0.937, st_dev: 0.004, best: 0.937 @ iter_no 0\n",
      "SpFSR-INFO: iter_no: 5, num_ft: 10, value: 0.938, st_dev: 0.003, best: 0.938 @ iter_no 5\n",
      "SpFSR-INFO: iter_no: 10, num_ft: 27, value: 0.947, st_dev: 0.003, best: 0.947 @ iter_no 8\n",
      "SpFSR-INFO: iter_no: 15, num_ft: 27, value: 0.947, st_dev: 0.004, best: 0.947 @ iter_no 8\n",
      "SpFSR-INFO: iter_no: 20, num_ft: 30, value: 0.947, st_dev: 0.002, best: 0.947 @ iter_no 8\n",
      "SpFSR-INFO: iter_no: 25, num_ft: 30, value: 0.948, st_dev: 0.002, best: 0.948 @ iter_no 22\n",
      "SpFSR-INFO: SpFSR completed in 2.28 minutes.\n",
      "SpFSR-INFO: Best value = 0.948 with 29 features and 25 total iterations.\n",
      "\n"
     ]
    },
    {
     "name": "stdout",
     "output_type": "stream",
     "text": [
      "Best value: 0.948\n",
      "Indices of selected features:  [10, 2, 0, 39, 237, 137, 429, 55, 35, 277, 88, 38, 1, 273, 208, 8, 4, 89, 17, 34, 11, 425, 9, 15, 107, 26, 87, 53, 32]\n",
      "Importance of selected features:  [0.232 0.196 0.159 0.133 0.121 0.117 0.111 0.099 0.097 0.079 0.075 0.067\n",
      " 0.066 0.063 0.063 0.054 0.051 0.049 0.049 0.045 0.042 0.037 0.035 0.03\n",
      " 0.029 0.016 0.013 0.    0.   ]\n",
      "Total iterations for the optimal feature set: 22\n",
      "['B_2__last', 'P_2__mean', 'P_2__last', 'B_20__last__log', 'D_39__last', 'B_37__mean', 'D_42__first', 'R_1__last', 'B_11__last__log', 'R_5__max', 'R_1__last__log', 'B_2__last2max', 'P_2__min', 'R_3__mean__log', 'S_7__last', 'D_44__mean__log', 'P_2__max', 'B_4__last__log', 'B_3__last__log', 'B_7__last', 'R_1__max', 'D_42__max', 'B_2__last__log', 'B_18__last', 'B_11__last', 'D_44__last', 'B_37__last', 'D_44__mean', 'B_3__last']\n"
     ]
    },
    {
     "name": "stderr",
     "output_type": "stream",
     "text": [
      "SpFSR-INFO: Wrapper: LogisticRegression(random_state=48)\n",
      "SpFSR-INFO: Hot start: True\n",
      "SpFSR-INFO: Hot start range: 0.2\n",
      "SpFSR-INFO: Feature weighting: False\n",
      "SpFSR-INFO: Scoring metric: roc_auc\n",
      "SpFSR-INFO: Number of jobs: 1\n",
      "SpFSR-INFO: Number of observations in the dataset: 25000\n",
      "SpFSR-INFO: Number of observations used: 25000\n",
      "SpFSR-INFO: Number of features available: 660\n",
      "SpFSR-INFO: Number of features to select: 0\n",
      "SpFSR-INFO: iter_no: 0, num_ft: 8, value: 0.938, st_dev: 0.002, best: 0.938 @ iter_no 0\n",
      "SpFSR-INFO: iter_no: 5, num_ft: 21, value: 0.948, st_dev: 0.002, best: 0.948 @ iter_no 5\n",
      "SpFSR-INFO: iter_no: 10, num_ft: 28, value: 0.95, st_dev: 0.003, best: 0.95 @ iter_no 10\n",
      "SpFSR-INFO: iter_no: 15, num_ft: 29, value: 0.95, st_dev: 0.003, best: 0.95 @ iter_no 10\n",
      "SpFSR-INFO: iter_no: 20, num_ft: 29, value: 0.95, st_dev: 0.003, best: 0.95 @ iter_no 10\n",
      "SpFSR-INFO: iter_no: 25, num_ft: 31, value: 0.95, st_dev: 0.003, best: 0.95 @ iter_no 10\n",
      "SpFSR-INFO: SpFSR completed in 2.31 minutes.\n",
      "SpFSR-INFO: Best value = 0.95 with 28 features and 25 total iterations.\n",
      "\n"
     ]
    },
    {
     "name": "stdout",
     "output_type": "stream",
     "text": [
      "Best value: 0.95\n",
      "Indices of selected features:  [0, 1, 2, 7, 26, 233, 349, 9, 15, 6, 425, 12, 412, 169, 51, 212, 3, 32, 64, 87, 377, 159, 5, 192, 158, 117, 17, 107]\n",
      "Importance of selected features:  [0.268 0.202 0.164 0.123 0.123 0.118 0.107 0.09  0.078 0.077 0.071 0.057\n",
      " 0.055 0.053 0.053 0.043 0.043 0.042 0.036 0.036 0.03  0.025 0.019 0.012\n",
      " 0.009 0.004 0.003 0.001]\n",
      "Total iterations for the optimal feature set: 10\n",
      "['P_2__last', 'P_2__min', 'P_2__mean', 'R_1__std', 'D_44__last', 'S_3__last', 'D_45__first', 'B_2__last__log', 'B_18__last', 'D_48__mean', 'D_42__max', 'P_2__first', 'B_26__last__log', 'D_41__last', 'B_9__last__log', 'D_65__mean__log', 'D_48__last', 'B_3__last', 'B_9__mean__log', 'B_37__last', 'D_39__last__log', 'D_39__range', 'R_1__mean__log', 'R_4__mean', 'B_14__last2max', 'R_2__last', 'B_3__last__log', 'B_11__last']\n"
     ]
    },
    {
     "name": "stderr",
     "output_type": "stream",
     "text": [
      "SpFSR-INFO: Wrapper: LogisticRegression(random_state=49)\n",
      "SpFSR-INFO: Hot start: True\n",
      "SpFSR-INFO: Hot start range: 0.2\n",
      "SpFSR-INFO: Feature weighting: False\n",
      "SpFSR-INFO: Scoring metric: roc_auc\n",
      "SpFSR-INFO: Number of jobs: 1\n",
      "SpFSR-INFO: Number of observations in the dataset: 25000\n",
      "SpFSR-INFO: Number of observations used: 25000\n",
      "SpFSR-INFO: Number of features available: 660\n",
      "SpFSR-INFO: Number of features to select: 0\n",
      "SpFSR-INFO: iter_no: 0, num_ft: 9, value: 0.937, st_dev: 0.003, best: 0.937 @ iter_no 0\n",
      "SpFSR-INFO: iter_no: 5, num_ft: 21, value: 0.945, st_dev: 0.002, best: 0.945 @ iter_no 4\n",
      "SpFSR-INFO: iter_no: 10, num_ft: 27, value: 0.947, st_dev: 0.003, best: 0.947 @ iter_no 8\n",
      "SpFSR-INFO: iter_no: 15, num_ft: 27, value: 0.947, st_dev: 0.002, best: 0.947 @ iter_no 8\n",
      "SpFSR-INFO: iter_no: 20, num_ft: 28, value: 0.948, st_dev: 0.004, best: 0.948 @ iter_no 16\n",
      "SpFSR-INFO: iter_no: 25, num_ft: 31, value: 0.948, st_dev: 0.002, best: 0.948 @ iter_no 16\n",
      "SpFSR-INFO: SpFSR completed in 2.29 minutes.\n",
      "SpFSR-INFO: Best value = 0.948 with 28 features and 25 total iterations.\n",
      "\n"
     ]
    },
    {
     "name": "stdout",
     "output_type": "stream",
     "text": [
      "Best value: 0.948\n",
      "Indices of selected features:  [15, 9, 233, 107, 49, 51, 3, 12, 39, 219, 26, 69, 117, 0, 88, 450, 377, 429, 19, 208, 64, 137, 55, 5, 27, 274, 4, 1]\n",
      "Importance of selected features:  [0.203 0.186 0.175 0.129 0.128 0.125 0.118 0.113 0.105 0.103 0.085 0.077\n",
      " 0.076 0.074 0.069 0.069 0.065 0.063 0.041 0.041 0.036 0.025 0.021 0.017\n",
      " 0.006 0.005 0.005 0.004]\n",
      "Total iterations for the optimal feature set: 16\n",
      "['B_18__last', 'B_2__last__log', 'S_3__last', 'B_11__last', 'D_75__mean__log', 'B_9__last__log', 'D_48__last', 'P_2__first', 'B_20__last__log', 'R_3__max', 'D_44__last', 'B_3__std', 'R_2__last', 'P_2__last', 'R_1__last__log', 'D_42__last', 'D_39__last__log', 'D_42__first', 'B_2__mean', 'S_7__last', 'B_9__mean__log', 'B_37__mean', 'R_1__last', 'R_1__mean__log', 'D_44__max', 'D_43__mean', 'P_2__max', 'P_2__min']\n"
     ]
    }
   ],
   "source": [
    "n_samples = 25000\n",
    "\n",
    "for seed in range(1, 50):\n",
    "    df_ = df.sample(n=n_samples, replace=False, random_state=seed)\n",
    "    x=df_[x_cols]\n",
    "    y=df_['target']\n",
    "    \n",
    "    \n",
    "    # set the engine parameters\n",
    "    #sp_engine = SpFSR(x.values, y.values, pred_type='r', scoring='r2', wrapper=DecisionTreeRegressor(random_state=1))\n",
    "#     wrapper = DecisionTreeClassifier(max_depth=20, random_state=seed)\n",
    "    wrapper = LogisticRegression(random_state=seed)\n",
    "#     wrapper = SVC(random_state=seed)\n",
    "    \n",
    "    sp_engine = SpFSR(x.values, y.values, pred_type='c', scoring='roc_auc', wrapper=wrapper)\n",
    "\n",
    "    sp_run = sp_engine.run(num_features=0, n_samples_max=n_samples, print_freq=5, iter_max=25)  \n",
    "\n",
    "    sp_results = sp_run.results\n",
    "\n",
    "    print('Best value:', sp_results.get('selected_ft_score_mean'))\n",
    "    print('Indices of selected features: ', sp_results.get('selected_features'))\n",
    "    print('Importance of selected features: ', sp_results.get('selected_ft_importance').round(3))\n",
    "    print('Total iterations for the optimal feature set:', sp_results.get('total_iter_for_opt'))\n",
    "\n",
    "    sel_feats=list(np.array(x_cols)[sp_results.get('selected_features')])\n",
    "    print(sel_feats)\n",
    "    save_log(log_file, f'{sel_feats}\\n\\n')"
   ]
  },
  {
   "cell_type": "code",
   "execution_count": null,
   "metadata": {
    "execution": {
     "iopub.execute_input": "2022-07-13T15:12:29.570575Z",
     "iopub.status.busy": "2022-07-13T15:12:29.569806Z"
    }
   },
   "outputs": [],
   "source": [
    "n_samples = 45000\n",
    "\n",
    "for seed in range(20):\n",
    "    df_ = df.sample(n=n_samples, replace=False, random_state=seed)\n",
    "    x=df_[x_cols]\n",
    "    y=df_['target']\n",
    "    \n",
    "    \n",
    "    # set the engine parameters\n",
    "    #sp_engine = SpFSR(x.values, y.values, pred_type='r', scoring='r2', wrapper=DecisionTreeRegressor(random_state=1))\n",
    "    sp_engine = SpFSR(x.values, y.values, pred_type='c', scoring='roc_auc', wrapper=DecisionTreeClassifier(random_state=1))\n",
    "\n",
    "    sp_run = sp_engine.run(num_features=100, n_samples_max=n_samples, print_freq=5, iter_max=20)  \n",
    "\n",
    "    sp_results = sp_run.results\n",
    "\n",
    "    print('Best value:', sp_results.get('selected_ft_score_mean'))\n",
    "    print('Indices of selected features: ', sp_results.get('selected_features'))\n",
    "    print('Importance of selected features: ', sp_results.get('selected_ft_importance').round(3))\n",
    "    print('Total iterations for the optimal feature set:', sp_results.get('total_iter_for_opt'))\n",
    "\n",
    "    sel_feats=list(np.array(x_cols)[sp_results.get('selected_features')])\n",
    "    print(sel_feats)"
   ]
  },
  {
   "cell_type": "code",
   "execution_count": null,
   "metadata": {
    "execution": {
     "iopub.execute_input": "2022-07-13T01:47:57.555695Z",
     "iopub.status.busy": "2022-07-13T01:47:57.555344Z"
    }
   },
   "outputs": [],
   "source": [
    "n_samples = 45000\n",
    "\n",
    "for seed in range(20):\n",
    "    df_ = df.sample(n=n_samples, replace=False, random_state=seed)\n",
    "    x=df_[x_cols]\n",
    "    y=df_['target']\n",
    "    \n",
    "    \n",
    "    # set the engine parameters\n",
    "    #sp_engine = SpFSR(x.values, y.values, pred_type='r', scoring='r2', wrapper=DecisionTreeRegressor(random_state=1))\n",
    "    sp_engine = SpFSR(x.values, y.values, pred_type='c', scoring='roc_auc', wrapper=DecisionTreeClassifier(random_state=1))\n",
    "\n",
    "    sp_run = sp_engine.run(num_features=100, n_samples_max=n_samples, print_freq=5, iter_max=20)  \n",
    "\n",
    "    sp_results = sp_run.results\n",
    "\n",
    "    print('Best value:', sp_results.get('selected_ft_score_mean'))\n",
    "    print('Indices of selected features: ', sp_results.get('selected_features'))\n",
    "    print('Importance of selected features: ', sp_results.get('selected_ft_importance').round(3))\n",
    "    print('Total iterations for the optimal feature set:', sp_results.get('total_iter_for_opt'))\n",
    "\n",
    "    sel_feats=list(np.array(x_cols)[sp_results.get('selected_features')])\n",
    "    print(sel_feats)"
   ]
  },
  {
   "cell_type": "code",
   "execution_count": null,
   "metadata": {
    "execution": {
     "iopub.execute_input": "2022-07-12T13:43:24.967982Z",
     "iopub.status.busy": "2022-07-12T13:43:24.967534Z"
    }
   },
   "outputs": [],
   "source": [
    "n_samples = 45000\n",
    "\n",
    "for seed in range(20):\n",
    "    df_ = df.sample(n=n_samples, replace=False, random_state=seed)\n",
    "    x=df_[x_cols]\n",
    "    y=df_['target']\n",
    "    \n",
    "    \n",
    "    # set the engine parameters\n",
    "    #sp_engine = SpFSR(x.values, y.values, pred_type='r', scoring='r2', wrapper=DecisionTreeRegressor(random_state=1))\n",
    "    sp_engine = SpFSR(x.values, y.values, pred_type='c', scoring='roc_auc', wrapper=DecisionTreeClassifier)\n",
    "\n",
    "    sp_run = sp_engine.run(num_features=100, n_samples_max=n_samples, print_freq=5, iter_max=20)  \n",
    "\n",
    "    sp_results = sp_run.results\n",
    "\n",
    "    print('Best value:', sp_results.get('selected_ft_score_mean'))\n",
    "    print('Indices of selected features: ', sp_results.get('selected_features'))\n",
    "    print('Importance of selected features: ', sp_results.get('selected_ft_importance').round(3))\n",
    "    print('Total iterations for the optimal feature set:', sp_results.get('total_iter_for_opt'))\n",
    "\n",
    "    sel_feats=list(np.array(x_cols)[sp_results.get('selected_features')])\n",
    "    print(sel_feats)"
   ]
  },
  {
   "cell_type": "raw",
   "metadata": {
    "execution": {
     "iopub.execute_input": "2022-07-11T02:12:35.033611Z",
     "iopub.status.busy": "2022-07-11T02:12:35.033204Z",
     "iopub.status.idle": "2022-07-11T02:12:35.040177Z",
     "shell.execute_reply": "2022-07-11T02:12:35.038966Z",
     "shell.execute_reply.started": "2022-07-11T02:12:35.033579Z"
    }
   },
   "source": [
    "for pct in [0.35, 0.5, 0.75, 0.95]:\n",
    "    print('{:,.0f}'.format(pct*x.shape[0])) # print(\"%.2f\" % z)  print(\"{:.2f}\".format(z))"
   ]
  },
  {
   "cell_type": "raw",
   "metadata": {
    "execution": {
     "iopub.execute_input": "2022-07-11T02:13:13.673784Z",
     "iopub.status.busy": "2022-07-11T02:13:13.673377Z"
    }
   },
   "source": [
    "# set the engine parameters\n",
    "#sp_engine = SpFSR(x.values, y.values, pred_type='r', scoring='r2', wrapper=DecisionTreeRegressor(random_state=1))\n",
    "sp_engine = SpFSR(x.values, y.values, pred_type='c', scoring='roc_auc', wrapper=DecisionTreeClassifier(random_state=1))\n",
    "\n",
    "for n_samples in [150000, 250000, 350000, 450000]:\n",
    "# for n_samples in [200000, 32000, 450000]:    \n",
    "    print(n_samples, '='*100)\n",
    "\n",
    "    sp_run = sp_engine.run(num_features=50, n_samples_max=n_samples, print_freq=5, iter_max=50)  \n",
    "\n",
    "    sp_results = sp_run.results\n",
    "\n",
    "    print('Best value:', sp_results.get('selected_ft_score_mean'))\n",
    "    print('Indices of selected features: ', sp_results.get('selected_features'))\n",
    "    print('Importance of selected features: ', sp_results.get('selected_ft_importance').round(3))\n",
    "    print('Total iterations for the optimal feature set:', sp_results.get('total_iter_for_opt'))\n",
    "\n",
    "    sel_feats=list(np.array(x_cols)[sp_results.get('selected_features')])\n",
    "    print(sel_feats)"
   ]
  },
  {
   "cell_type": "code",
   "execution_count": null,
   "metadata": {},
   "outputs": [],
   "source": []
  }
 ],
 "metadata": {
  "kernelspec": {
   "display_name": "Python 3",
   "language": "python",
   "name": "python3"
  },
  "language_info": {
   "codemirror_mode": {
    "name": "ipython",
    "version": 3
   },
   "file_extension": ".py",
   "mimetype": "text/x-python",
   "name": "python",
   "nbconvert_exporter": "python",
   "pygments_lexer": "ipython3",
   "version": "3.6.3"
  }
 },
 "nbformat": 4,
 "nbformat_minor": 4
}
