{
 "cells": [
  {
   "cell_type": "code",
   "execution_count": 3,
   "id": "dd2a28bb",
   "metadata": {},
   "outputs": [],
   "source": [
    "import pandas as pd\n",
    "from pathlib import Path"
   ]
  },
  {
   "cell_type": "markdown",
   "id": "715471f7",
   "metadata": {},
   "source": [
    "## from v2 data"
   ]
  },
  {
   "cell_type": "code",
   "execution_count": 9,
   "id": "06bebb24",
   "metadata": {},
   "outputs": [
    {
     "data": {
      "text/plain": [
       "(150, 150)"
      ]
     },
     "execution_count": 9,
     "metadata": {},
     "output_type": "execute_result"
    }
   ],
   "source": [
    "corr85_150feats = ['D_48|last', 'R_1|max', 'log_D_44|mean', 'B_9|last', 'log_B_3|last', 'D_61|last', 'D_55|last', 'D_44|last', 'log_B_23|last', 'B_3|last', 'D_48|min', 'B_7|last', 'log_B_11|last', 'D_75|last', 'D_61|mean', 'log_B_22|mean', 'log_B_9|last', 'log_B_11|mean', 'R_1|last', 'log_B_23|max', 'B_4|last', 'B_20|last', 'R_10|max', 'B_19|last', 'B_1|last', 'log_B_4|last', 'R_2|max', 'log_B_40|last', 'log_D_44|min', 'B_9|max', 'log_B_40|mean', 'B_9|min', 'log_B_9|max', 'B_30|nunique', 'log_B_23|min', 'B_16|max', 'R_2|last', 'D_78|max', 'log_B_11|min', 'log_B_9|min', 'R_4|max', 'B_22|last', 'log_B_4|max', 'log_B_3|min', 'D_39|max', 'R_2|mean', 'D_58|min', 'B_7|min', 'D_41|last', 'log_D_41|max', 'S_7|max', 'log_D_41|last', 'D_70|max', 'D_44|min', 'R_4|last', 'R_3|mean', 'D_78|last', 'B_8|min', 'D_55|min', 'D_39|last', 'B_17|mean', 'S_15|max', 'log_B_40|min', 'B_17|last', 'B_38=4.0', 'B_1|min', 'S_7|last', 'R_8|max', 'D_70|last', 'R_15|max', 'B_38|nunique', 'B_3|min', 'D_84|max', 'B_16|min', 'D_43|mean', 'B_38=5.0', 'log_B_26|max', 'D_39|mean', 'P_4|max', 'R_15|mean', 'R_10|last', 'log_D_39|max', 'B_17|min', 'S_3|min', 'D_41|mean', 'B_19|min', 'R_8|mean', 'B_40|min', 'B_20|min', 'R_24|max', 'R_16|mean', 'log_D_39|last', 'R_3|last', 'D_43|last', 'B_28|last', 'log_D_43|mean', 'D_84|last', 'R_16|max', 'D_131|max', 'R_26_mean2std', 'D_81|max', 'log_B_26|last', 'S_15|mean', 'D_72|max', 'R_5|last', 'B_30=2.0', 'B_17_mean2std', 'D_79|max', 'log_B_22|min', 'R_13|max', 'log_B_21|mean', 'R_8|last', 'D_42_mean2std', 'D_130|last', 'R_3|min', 'D_49_mean2std', 'R_24|mean', 'D_120=1.0', 'R_11|mean', 'D_46|mean', 'B_25|last', 'D_53_mean2std', 'log_D_131|last', 'D_59|last', 'R_24|last', 'R_6|max', 'S_15|last', 'R_9_mean2std', 'D_70|min', 'R_20|max', 'D_135_mean2std', 'B_25|min', 'D_89|mean', 'D_132_mean2std', 'R_15|last', 'log_S_5|mean', 'log_D_43|min', 'D_131|min', 'S_20|max', 'D_53|last', 'R_13|mean', 'R_11|max', 'log_D_131|min', 'D_42|max', 'R_17|max', 'B_38=6.0', 'log_B_24|mean', 'B_32|max', 'B_22|min', 'P_4|min']\n",
    "corr75_150feats = ['D_48|last', 'R_1|max', 'B_9|last', 'log_B_3|last', 'D_44|last', 'log_B_23|last', 'log_B_11|last', 'D_58|last', 'R_1|last', 'log_B_9|mean', 'D_61|min', 'B_4|last', 'R_10|max', 'B_22|max', 'B_19|last', 'B_7|max', 'R_2|max', 'log_D_44|min', 'B_11|last', 'B_9|min', 'B_30|nunique', 'R_2|last', 'log_B_22|last', 'D_39|max', 'R_2|mean', 'log_B_40|max', 'D_41|last', 'B_20|mean', 'log_D_41|max', 'B_23|min', 'S_7|max', 'log_B_4|min', 'D_70|max', 'R_3|mean', 'D_78|last', 'B_8|min', 'D_55|min', 'D_39|last', 'B_17|mean', 'S_15|max', 'log_B_40|min', 'B_38=4.0', 'B_1|min', 'R_8|max', 'R_15|max', 'S_3|last', 'B_38|nunique', 'D_84|max', 'D_43|mean', 'B_38=5.0', 'P_4|max', 'R_10|last', 'S_3|min', 'log_B_26|mean', 'B_40|min', 'R_24|max', 'log_D_39|last', 'B_28|last', 'log_D_43|mean', 'R_16|max', 'log_B_28|max', 'D_131|max', 'R_26_mean2std', 'log_B_26|last', 'S_15|mean', 'D_72|max', 'R_5|last', 'B_30=2.0', 'B_17_mean2std', 'log_B_22|min', 'log_B_21|mean', 'R_3|min', 'D_130|max', 'D_120=1.0', 'R_11|mean', 'D_46|mean', 'B_25|last', 'D_53_mean2std', 'D_59|last', 'R_24|last', 'R_6|max', 'S_15|last', 'R_9_mean2std', 'D_81|mean', 'D_70|min', 'D_135_mean2std', 'D_89|mean', 'R_15|last', 'log_S_5|mean', 'D_131|min', 'D_53|last', 'R_13|mean', 'D_42|max', 'R_17|max', 'B_38=6.0', 'log_B_24|mean', 'B_32|max', 'B_22|min', 'R_20|mean', 'P_4|min', 'S_22|max', 'R_6|last', 'log_D_133|last', 'D_89|last', 'log_D_113|min', 'R_21|last', 'log_D_41|min', 'B_17|max', 'D_133|max', 'D_113|max', 'D_120|nunique', 'log_D_60|min', 'D_114=0.0', 'R_20|last', 'D_133|last', 'B_31|nunique', 'R_25|max', 'R_22|max', 'D_46|last', 'S_22|mean', 'R_1|min', 'B_38=7.0', 'B_24|mean', 'log_B_24|last', 'B_24|last', 'log_D_39|min', 'S_27_mean2std', 'log_D_133|min', 'D_41|min', 'D_140|max', 'B_32|last', 'R_7|max', 'B_21|max', 'R_19|last', 'D_143|last', 'log_D_107|min', 'D_64=U', 'log_B_41|max', 'D_53|min', 'B_14|min', 'R_17|last', 'B_41|last', 'R_16|last', 'D_61|max', 'D_65|max', 'D_107|max', 'S_23|mean', 'D_145|last', 'D_46|min', 'log_B_21|last']\n",
    "len(corr85_150feats), len(corr75_150feats)"
   ]
  },
  {
   "cell_type": "code",
   "execution_count": 46,
   "id": "37dcc3fe",
   "metadata": {},
   "outputs": [
    {
     "name": "stdout",
     "output_type": "stream",
     "text": [
      "276 ['B_10|last', 'B_10|mean', 'B_11|last', 'B_11|mean', 'B_11|min', 'B_15|mean', 'B_17|min', 'B_18|last', 'B_18|min', 'B_19|last', 'B_1|last', 'B_1|max', 'B_1|mean', 'B_20|last', 'B_20|max', 'B_20|mean', 'B_20|min', 'B_21|max', 'B_22|last', 'B_22|max', 'B_22|mean', 'B_23|last', 'B_23|mean', 'B_25|last', 'B_25|min', 'B_26|last', 'B_2|last', 'B_2|mean', 'B_2|min', 'B_30=0.0', 'B_30=1.0', 'B_33|last', 'B_33|max', 'B_33|mean', 'B_33|min', 'B_37|last', 'B_37|max', 'B_37|mean', 'B_38|last', 'B_3|last', 'B_3|max', 'B_3|mean', 'B_3|min', 'B_40|last', 'B_4_mean2std', 'B_4|last', 'B_4|max', 'B_5|last', 'B_5|mean', 'B_6|last', 'B_6|min', 'B_7|last', 'B_7|mean', 'B_8|last', 'B_8|max', 'B_8|mean', 'B_8|min', 'B_9|last', 'B_9|max', 'B_9|mean', 'D_102|max', 'D_105|max', 'D_106|last', 'D_109|mean', 'D_112|last', 'D_114|nunique', 'D_122|last', 'D_122|max', 'D_122|min', 'D_123|mean', 'D_128|max', 'D_128|min', 'D_129|last', 'D_129|max', 'D_130|max', 'D_132|min', 'D_133|min', 'D_134|min', 'D_139|mean', 'D_39|last', 'D_39|max', 'D_41|last', 'D_41|max', 'D_41|mean', 'D_42|last', 'D_42|max', 'D_42|mean', 'D_42|min', 'D_43|last', 'D_43|max', 'D_43|mean', 'D_44|last', 'D_44|max', 'D_44|mean', 'D_45|last', 'D_45|max', 'D_45|mean', 'D_45|min', 'D_46_mean2std', 'D_46|last', 'D_46|mean', 'D_46|min', 'D_47|last', 'D_48|last', 'D_48|max', 'D_48|mean', 'D_48|min', 'D_51|mean', 'D_52_mean2std', 'D_52|max', 'D_52|mean', 'D_52|min', 'D_53|last', 'D_56|min', 'D_58|last', 'D_59|max', 'D_60|max', 'D_61|last', 'D_61|max', 'D_61|mean', 'D_61|min', 'D_62|last', 'D_62|max', 'D_62|mean', 'D_62|min', 'D_65|last', 'D_65|max', 'D_65|mean', 'D_68=1.0', 'D_69|min', 'D_70_mean2std', 'D_70|last', 'D_72|min', 'D_74|last', 'D_74|mean', 'D_75|last', 'D_75|max', 'D_75|mean', 'D_77|last', 'D_77|mean', 'D_77|min', 'D_78|last', 'D_78|max', 'D_78|mean', 'D_81|mean', 'D_84|last', 'D_84|mean', 'D_89|max', 'D_91|last', 'P_2|last', 'P_2|max', 'P_2|mean', 'P_2|min', 'P_3|last', 'P_3|mean', 'P_3|min', 'P_4|mean', 'R_10|last', 'R_10|max', 'R_10|mean', 'R_11|mean', 'R_12|max', 'R_12|mean', 'R_13_mean2std', 'R_13|last', 'R_16|mean', 'R_18|max', 'R_19|min', 'R_1|last', 'R_1|max', 'R_1|mean', 'R_27|last', 'R_27|max', 'R_27|mean', 'R_27|min', 'R_2|last', 'R_2|max', 'R_2|mean', 'R_2|min', 'R_3|last', 'R_3|max', 'R_3|mean', 'R_3|min', 'R_4|last', 'R_4|max', 'R_4|mean', 'R_4|min', 'R_5|last', 'R_5|max', 'R_5|mean', 'R_6|last', 'R_6|max', 'R_6|mean', 'R_7|last', 'R_7|max', 'R_7|mean', 'R_8|max', 'R_8|mean', 'S_15|max', 'S_15|mean', 'S_17|min', 'S_22|last', 'S_22|max', 'S_23|last', 'S_23|max', 'S_23|mean', 'S_25|last', 'S_25|mean', 'S_25|min', 'S_26|last', 'S_3|last', 'S_3|max', 'S_3|mean', 'S_3|min', 'S_6|max', 'S_6|min', 'S_7|last', 'S_7|max', 'S_7|mean', 'S_7|min', 'S_8|last', 'S_8|min', 'S_9|max', 'log_B_11|last', 'log_B_11|max', 'log_B_11|mean', 'log_B_11|min', 'log_B_12|last', 'log_B_12|max', 'log_B_18|last', 'log_B_18|max', 'log_B_18|mean', 'log_B_18|min', 'log_B_22|last', 'log_B_22|max', 'log_B_22|mean', 'log_B_23|last', 'log_B_23|max', 'log_B_23|min', 'log_B_26|last', 'log_B_26|mean', 'log_B_3|last', 'log_B_3|max', 'log_B_3|mean', 'log_B_40|last', 'log_B_4|last', 'log_B_4|max', 'log_B_4|mean', 'log_B_9|last', 'log_B_9|max', 'log_B_9|mean', 'log_B_9|min', 'log_D_102|max', 'log_D_107|mean', 'log_D_118|mean', 'log_D_123|last', 'log_D_125|min', 'log_D_131|last', 'log_D_131|min', 'log_D_39|last', 'log_D_39|max', 'log_D_41|last', 'log_D_41|max', 'log_D_43|last', 'log_D_43|max', 'log_D_43|mean', 'log_D_44|last', 'log_D_44|max', 'log_D_44|mean', 'log_D_45|last', 'log_D_45|max', 'log_D_45|mean', 'log_D_45|min', 'log_D_49|last', 'log_D_51|max', 'log_D_51|min']\n",
      "26 ['B_1|last', 'B_2|last', 'B_3|last', 'B_9|last', 'B_9|max', 'D_39|last', 'D_42|mean', 'D_44|last', 'D_44|max', 'D_48|last', 'P_2|last', 'P_2|max', 'P_2|mean', 'P_2|min', 'R_1|last', 'R_1|max', 'R_1|mean', 'log_B_11|last', 'log_B_18|last', 'log_B_3|last', 'log_B_9|last', 'log_B_9|mean', 'log_D_39|last', 'log_D_44|last', 'log_D_44|max', 'log_D_44|mean']\n"
     ]
    }
   ],
   "source": [
    "sfr_lists = [\n",
    "    ['B_9|last', 'P_2|last', 'R_1|mean', 'B_2|mean', 'B_37|last', 'log_B_18|last', 'P_2|mean', 'log_B_3|last', 'R_1|last', 'B_18|last', 'D_48|last', 'B_1|last', 'log_D_44|last', 'B_23|last', 'B_2|last', 'P_2|min', 'D_44|max', 'B_9|max', 'D_48|max', 'B_3|last', 'log_B_9|last', 'log_D_44|mean', 'log_B_3|max', 'R_1|max', 'log_B_9|mean', 'log_B_23|max', 'B_7|last', 'D_62|mean', 'S_25|min', 'B_3|max', 'D_75|last', 'D_61|mean', 'D_62|min', 'log_B_3|mean', 'B_33|mean', 'log_B_11|mean', 'B_18|min', 'D_75|max', 'R_2|last', 'B_6|min', 'D_78|max', 'B_22|last', 'R_2|mean', 'log_B_9|min', 'B_30=1.0', 'B_11|last', 'D_44|mean', 'P_2|max', 'D_44|last', 'log_B_23|last', 'log_D_44|max', 'D_45|mean', 'log_D_41|last', 'D_42|last', 'D_61|last', 'D_42|mean', 'log_B_11|last', 'B_20|mean', 'log_D_39|last', 'B_19|last', 'P_3|last', 'D_41|last', 'D_45|max', 'D_39|last', 'D_39|max', 'D_42|max', 'R_6|last', 'R_3|mean', 'S_7|max', 'S_7|mean', 'log_D_45|max', 'R_4|mean', 'log_B_4|last', 'R_3|max', 'D_42|min', 'log_B_9|max', 'log_B_26|last', 'R_8|mean', 'D_78|last', 'P_3|min', 'B_8|min', 'R_2|max', 'B_6|last', 'D_48|mean', 'S_3|last', 'D_65|last', 'S_7|last', 'B_22|mean', 'D_62|last', 'R_5|max', 'R_7|last', 'S_3|max', 'log_D_45|mean', 'R_3|last', 'D_74|last', 'R_10|max', 'B_8|last', 'D_77|min', 'S_3|mean', 'S_15|max', 'B_26|last', 'B_20|last', 'B_10|last', 'S_23|last', 'B_8|mean', 'P_3|mean', 'R_4|last', 'S_3|min', 'R_10|mean', 'D_43|max', 'D_112|last', 'log_D_39|max', 'R_3|min', 'D_53|last', 'D_52|min', 'D_77|mean', 'D_45|last', 'log_D_45|last', 'D_41|max', 'D_43|last', 'R_16|mean', 'S_23|max', 'D_65|max', 'D_65|mean', 'log_D_43|last', 'B_5|mean', 'R_27|last', 'B_8|max', 'D_47|last', 'S_15|mean', 'D_43|mean', 'B_2|min', 'R_8|max', 'S_23|mean', 'R_27|mean', 'log_D_43|max', 'R_5|mean', 'B_4|last', 'B_22|max', 'D_61|max', 'D_48|min', 'B_38|last', 'D_46|last', 'S_7|min', 'log_B_26|mean', 'log_D_43|mean', 'B_37|max', 'log_B_12|last', 'B_17|min', 'B_20|min'],\n",
    "    \n",
    "    ['P_2|last', 'P_2|mean', 'D_44|max', 'B_9|last', 'log_B_18|last', 'P_2|min', 'D_48|last', 'log_B_9|mean', 'B_3|last', 'log_B_9|last', 'B_33|mean', 'R_1|mean', 'B_11|last', 'B_20|last', 'R_1|max', 'R_1|last', 'P_2|max', 'log_B_9|max', 'B_3|mean', 'D_48|max', 'B_6|last', 'log_D_44|mean', 'D_48|mean', 'D_61|last', 'B_18|last', 'log_D_44|max', 'B_2|mean', 'B_20|mean', 'B_7|mean', 'D_44|last', 'B_2|last', 'S_23|mean', 'B_7|last', 'B_37|mean', 'B_23|last', 'log_B_11|last', 'S_23|max', 'D_61|min', 'D_62|max', 'B_1|last', 'D_61|mean', 'log_D_44|last', 'S_23|last', 'log_B_3|last', 'log_D_41|last', 'B_9|max', 'B_30=1.0', 'S_3|last', 'B_4|last', 'B_8|min', 'D_44|mean', 'D_42|mean', 'R_10|mean', 'log_B_12|max', 'D_78|max', 'log_B_11|min', 'log_B_40|last', 'D_56|min', 'log_B_11|max', 'S_3|min', 'R_6|max', 'D_53|last', 'D_39|last', 'D_45|mean', 'D_89|max', 'log_D_39|last', 'log_B_4|max', 'D_39|max', 'D_68=1.0', 'S_3|max', 'log_D_43|last', 'S_3|mean', 'R_3|last', 'log_D_102|max', 'D_84|last', 'D_114|nunique', 'D_109|mean', 'P_4|mean', 'S_25|min', 'B_22|last', 'D_129|max', 'D_77|mean', 'R_19|min', 'B_20|max', 'log_D_125|min', 'R_18|max', 'P_3|min', 'log_D_51|min', 'B_4_mean2std', 'S_7|mean', 'D_52_mean2std', 'D_41|last', 'R_11|mean', 'R_4|min', 'log_B_23|min', 'D_91|last', 'D_42|max', 'R_2|min', 'B_33|min', 'log_D_45|mean'],\n",
    "    ['P_2|last', 'P_2|mean', 'D_44|max', 'B_9|last', 'log_B_18|last', 'P_2|min', 'B_3|last', 'D_48|last', 'R_1|mean', 'D_44|last', 'B_33|mean', 'P_2|max', 'R_1|max', 'B_11|last', 'B_18|last', 'log_B_9|max', 'log_D_44|max', 'B_7|last', 'log_B_9|last', 'D_48|mean', 'log_D_44|mean', 'B_20|last', 'B_3|mean', 'D_48|max', 'B_23|last', 'log_B_9|mean', 'B_2|mean', 'D_61|last', 'B_6|last', 'R_1|last', 'D_41|last', 'B_7|mean', 'B_20|mean', 'B_37|mean', 'D_61|mean', 'S_23|max', 'D_62|max', 'B_1|last', 'log_D_44|last', 'S_23|mean', 'D_61|min', 'B_30=1.0', 'B_2|last', 'B_19|last', 'S_23|last', 'P_3|mean', 'D_39|last', 'S_3|mean', 'R_10|max', 'D_42|mean', 'B_37|last', 'B_33|last', 'R_7|max', 'B_2|min', 'R_5|last', 'log_D_39|last', 'R_2|last', 'P_3|last', 'R_2|mean', 'S_3|max', 'B_9|max', 'B_23|mean', 'S_7|max', 'D_42|last', 'log_B_11|last', 'D_62|min', 'log_B_11|mean', 'D_45|max', 'log_B_22|last', 'R_4|mean', 'D_45|mean', 'R_2|max', 'log_B_23|last', 'B_4|last', 'B_3|max', 'P_3|min', 'D_58|last', 'D_39|max', 'D_46|last', 'R_3|max', 'log_D_41|last', 'D_77|mean', 'D_112|last', 'D_65|last', 'log_B_3|last', 'D_42|min', 'D_43|last', 'log_B_4|last', 'D_75|last', 'D_43|mean', 'R_6|max', 'R_5|max', 'D_46|mean', 'R_7|mean', 'D_51|mean', 'log_D_45|min', 'R_4|last', 'D_45|last', 'R_6|last', 'log_D_43|last'],\n",
    "    ['P_2|last', 'B_9|last', 'P_2|mean', 'D_44|max', 'log_B_18|last', 'P_2|min', 'D_48|last', 'B_3|last', 'log_B_9|mean', 'R_1|mean', 'B_33|mean', 'P_2|max', 'B_11|last', 'log_B_9|max', 'B_18|last', 'log_B_9|last', 'R_1|max', 'D_48|mean', 'D_48|max', 'log_D_44|mean', 'log_D_44|max', 'D_61|last', 'B_3|mean', 'B_3|max', 'B_23|last', 'R_10|mean', 'B_20|last', 'B_2|mean', 'B_7|mean', 'R_1|last', 'B_6|last', 'D_44|last', 'log_D_44|last', 'B_1|last', 'D_61|mean', 'S_23|mean', 'B_20|mean', 'S_23|max', 'R_2|last', 'B_30=1.0', 'B_2|last', 'D_61|min', 'D_42|mean', 'D_62|max', 'log_B_11|min', 'R_2|max', 'R_4|mean', 'B_37|last', 'D_62|min', 'log_D_45|max', 'log_B_11|last', 'log_D_39|last', 'B_7|last', 'P_3|mean', 'D_45|max', 'log_B_23|last', 'R_2|mean', 'D_39|last', 'B_10|last', 'D_75|last', 'B_9|max', 'R_5|last', 'B_19|last', 'R_3|mean', 'P_3|min', 'D_42|max', 'log_B_4|last', 'B_2|min', 'R_5|mean', 'D_39|max', 'R_5|max', 'S_7|last', 'log_D_41|last', 'R_6|last', 'S_3|max', 'D_42|min', 'S_7|mean', 'D_78|max', 'D_42|last', 'log_B_3|last', 'D_84|mean', 'log_D_39|max', 'S_3|mean', 'log_D_45|min', 'D_41|last', 'D_41|mean', 'B_8|min', 'R_7|last', 'R_10|max', 'log_B_26|last', 'B_26|last', 'R_3|max', 'S_3|min', 'B_4|last', 'D_75|mean', 'log_B_18|min', 'D_45|last', 'D_77|last', 'S_3|last', 'log_D_45|last'],\n",
    "    ['P_2|mean', 'P_2|min', 'P_2|last', 'log_B_9|last', 'B_9|mean', 'R_1|last', 'D_48|last', 'D_44|max', 'B_9|max', 'R_1|mean', 'D_44|last', 'B_9|last', 'B_6|last', 'log_B_3|last', 'B_23|mean', 'D_44|mean', 'B_33|last', 'log_B_18|last', 'R_10|max', 'B_2|last', 'B_2|mean', 'B_2|min', 'B_1|last', 'R_1|max', 'R_2|max', 'log_B_9|max', 'R_10|mean', 'log_B_9|mean', 'log_D_44|mean', 'log_B_11|last', 'B_1|mean', 'D_61|mean', 'log_D_44|last', 'B_3|last', 'D_45|max', 'log_D_44|max', 'log_B_11|mean', 'D_42|mean', 'D_42|max', 'S_23|last', 'B_30=1.0', 'D_75|last', 'log_B_3|mean', 'B_17|min', 'B_3|max', 'D_42|last', 'B_26|last', 'D_59|max', 'R_6|last', 'S_6|max', 'B_33|max', 'S_3|mean', 'log_D_39|last', 'D_62|mean', 'R_2|last', 'R_5|last', 'B_11|last', 'D_39|last', 'log_D_39|max', 'B_33|mean', 'D_72|min', 'log_B_22|max', 'B_37|last', 'D_41|last', 'B_18|last', 'D_70_mean2std', 'D_62|min', 'R_3|max', 'R_6|mean', 'D_134|min', 'log_D_43|mean', 'B_23|last', 'R_12|max', 'D_69|min', 'log_B_18|min', 'D_65|last', 'P_3|last', 'S_22|max', 'D_70|last', 'D_130|max', 'S_3|max', 'S_26|last', 'S_15|mean', 'R_27|mean', 'D_133|min', 'S_23|max', 'B_10|last', 'B_5|last', 'D_132|min', 'S_6|min', 'R_3|last', 'R_12|mean', 'log_B_18|mean', 'P_2|max', 'D_61|last', 'log_B_4|last', 'D_74|mean', 'B_25|last', 'log_B_18|max', 'R_13|last'],\n",
    "    ['P_2|min', 'P_2|mean', 'P_2|last', 'log_B_9|last', 'D_48|last', 'D_44|max', 'log_B_9|max', 'B_9|max', 'D_44|last', 'R_1|mean', 'B_3|last', 'R_10|max', 'B_2|min', 'R_1|max', 'B_6|last', 'log_B_18|last', 'D_44|mean', 'B_2|last', 'B_23|mean', 'log_D_44|max', 'B_33|last', 'B_1|last', 'log_B_3|last', 'log_B_3|mean', 'B_9|last', 'R_1|last', 'D_61|mean', 'B_1|mean', 'B_2|mean', 'D_75|last', 'log_B_9|mean', 'R_10|mean', 'B_17|min', 'log_D_44|mean', 'log_D_44|last', 'B_30=1.0', 'log_B_11|last', 'B_33|mean', 'D_42|last', 'S_3|mean', 'log_B_11|mean', 'B_33|max', 'log_B_4|last', 'log_D_131|min', 'D_39|max', 'log_B_22|max', 'log_D_39|last', 'D_42|mean', 'D_78|last', 'D_62|min', 'D_122|min', 'D_42|max', 'B_9|mean', 'S_9|max', 'D_45|max', 'B_26|last', 'B_37|last', 'log_D_41|last', 'D_128|min', 'log_B_26|last', 'D_43|last', 'log_B_40|last', 'log_D_49|last', 'D_112|last', 'D_62|mean', 'D_46_mean2std', 'S_7|mean', 'D_122|last', 'D_53|last', 'S_7|last', 'D_46|last', 'R_6|mean', 'B_5|last', 'D_139|mean', 'log_D_45|min', 'log_D_131|last', 'log_B_4|mean', 'B_40|last', 'R_4|max', 'R_6|last', 'D_41|last', 'D_43|max', 'log_D_51|max', 'P_3|last', 'D_105|max', 'D_39|last', 'S_25|mean', 'log_D_118|mean', 'B_33|min', 'log_D_43|max', 'D_106|last', 'P_2|max', 'R_10|last', 'D_81|mean', 'B_3|min', 'S_25|last', 'D_129|last', 'log_D_123|last', 'D_123|mean', 'D_46|min'],\n",
    "    ['P_2|mean', 'P_2|min', 'P_2|last', 'log_B_9|last', 'D_48|last', 'R_10|max', 'D_44|max', 'log_B_9|max', 'R_1|mean', 'B_9|max', 'log_D_44|max', 'D_44|last', 'B_3|last', 'B_6|last', 'log_B_3|last', 'B_2|last', 'R_1|max', 'B_23|mean', 'D_44|mean', 'B_1|last', 'R_1|last', 'log_B_18|last', 'R_10|mean', 'B_2|mean', 'B_33|last', 'log_D_44|mean', 'B_2|min', 'log_B_9|mean', 'B_9|last', 'log_B_3|mean', 'B_33|mean', 'D_75|last', 'D_61|mean', 'P_2|max', 'B_1|mean', 'B_9|mean', 'log_B_11|mean', 'log_B_22|max', 'log_B_11|last', 'B_30=1.0', 'log_D_44|last', 'R_2|last', 'B_17|min', 'B_33|max', 'D_42|max', 'D_42|last', 'D_61|last', 'R_2|max', 'P_3|last', 'log_D_41|last', 'B_37|last', 'B_18|last', 'P_3|mean', 'D_41|last', 'D_42|min', 'log_B_18|min', 'B_26|last', 'R_8|mean', 'log_D_39|last', 'S_3|mean', 'R_3|max', 'log_B_4|last', 'log_D_45|max', 'D_112|last', 'B_11|last', 'B_23|last', 'B_38|last', 'D_42|mean', 'B_4|last', 'R_4|max', 'D_39|last', 'R_5|last', 'R_3|mean', 'D_46|last', 'S_23|last', 'D_62|mean', 'S_25|last', 'D_45|max', 'B_19|last', 'S_3|max', 'S_3|min', 'S_7|last', 'R_2|mean', 'R_5|max', 'R_4|mean', 'R_5|mean', 'D_39|max', 'log_B_23|last', 'log_D_45|last', 'R_7|last', 'log_D_39|max', 'log_D_45|mean', 'B_25|last', 'S_7|max', 'R_7|max', 'B_22|last', 'R_6|mean', 'D_45|mean', 'D_62|last', 'P_4|mean'],\n",
    "    ['B_9|mean', 'log_B_9|last', 'B_20|last', 'R_1|last', 'log_B_11|last', 'D_48|max', 'P_2|min', 'P_2|last', 'log_D_44|last', 'P_2|max', 'R_1|mean', 'log_B_9|mean', 'P_2|mean', 'D_48|last', 'D_61|last', 'log_B_23|last', 'B_18|last', 'R_10|mean', 'D_44|max', 'B_9|max', 'D_75|last', 'B_11|last', 'B_2|min', 'D_44|mean', 'B_23|last', 'log_D_44|max', 'log_B_18|last', 'log_B_11|mean', 'D_44|last', 'B_7|last', 'R_1|max', 'B_1|last', 'B_11|mean', 'D_78|last', 'B_10|mean', 'B_37|last', 'B_4|last', 'log_D_39|max', 'D_39|last', 'B_9|last', 'log_D_45|max', 'B_1|max', 'log_B_3|last', 'D_42|max', 'S_25|min', 'log_B_3|mean', 'R_5|mean', 'D_42|last', 'R_2|last', 'log_D_44|mean', 'D_42|min', 'D_41|last', 'log_D_39|last', 'D_42|mean', 'log_D_41|last', 'log_B_4|last', 'R_4|mean', 'R_2|max', 'S_3|last', 'log_D_45|min', 'B_8|min', 'R_3|mean', 'D_65|max', 'D_46|last', 'D_52|min', 'R_27|min', 'S_23|last', 'B_15|mean', 'D_129|max', 'P_3|last', 'D_78|mean', 'B_33|max', 'R_8|max', 'B_2|last', 'D_43|last', 'P_3|min', 'B_11|min', 'B_19|last', 'log_B_40|last', 'S_23|max', 'log_D_43|last', 'R_3|max', 'D_112|last', 'R_16|mean', 'log_B_22|last', 'R_10|max', 'log_B_22|mean', 'D_75|max', 'B_3|last', 'R_10|last', 'log_D_107|mean', 'D_39|max', 'R_2|mean', 'S_22|last', 'R_13_mean2std', 'S_7|last', 'R_6|mean', 'D_65|last', 'log_B_18|min', 'D_102|max'],\n",
    "    ['B_9|mean', 'B_20|last', 'log_B_9|last', 'R_1|last', 'D_48|max', 'log_B_11|last', 'P_2|mean', 'P_2|last', 'P_2|min', 'P_2|max', 'D_61|last', 'log_B_23|last', 'log_D_44|last', 'B_18|last', 'R_10|mean', 'D_48|last', 'R_1|mean', 'log_B_3|last', 'B_9|last', 'D_75|last', 'B_9|max', 'B_11|last', 'D_44|max', 'log_B_9|mean', 'B_2|min', 'log_B_18|last', 'D_44|mean', 'B_23|last', 'log_B_11|mean', 'log_D_44|max', 'B_7|last', 'B_4|last', 'D_42|last', 'D_44|last', 'B_37|last', 'B_10|mean', 'log_D_39|last', 'B_2|last', 'D_78|last', 'B_11|mean', 'log_D_44|mean', 'R_5|mean', 'P_3|mean', 'log_B_3|mean', 'S_25|min', 'R_2|last', 'R_7|max', 'R_1|max', 'B_1|last', 'S_7|mean', 'P_3|last', 'log_D_45|last', 'B_1|max', 'B_33|last', 'S_3|last', 'D_42|mean', 'R_2|mean', 'B_33|max', 'log_D_41|max', 'R_6|mean', 'B_3|last', 'D_45|min', 'B_22|last', 'D_77|mean', 'D_45|max', 'log_B_40|last', 'log_D_45|min', 'B_4|max', 'log_B_26|last', 'D_42|min', 'D_46|last', 'D_48|mean', 'log_D_39|max', 'S_3|mean', 'D_39|last', 'D_78|mean', 'B_3|mean', 'D_42|max', 'log_B_18|mean', 'D_39|max', 'R_10|max', 'B_33|min', 'D_41|max', 'D_58|last', 'D_52|mean', 'D_61|mean', 'R_6|max', 'B_26|last', 'D_60|max', 'S_8|last', 'log_D_43|max', 'S_3|max', 'D_45|last', 'S_17|min', 'B_37|mean', 'S_25|last', 'D_122|max', 'B_21|max', 'log_B_4|last', 'B_25|min'],\n",
    "    ['B_9|mean', 'log_B_9|last', 'B_20|last', 'R_1|last', 'log_B_11|last', 'D_48|max', 'P_2|min', 'P_2|last', 'R_1|mean', 'P_2|mean', 'B_18|last', 'log_D_44|max', 'D_61|last', 'D_48|last', 'log_B_23|last', 'R_10|mean', 'log_D_44|last', 'log_B_3|last', 'D_44|mean', 'P_2|max', 'D_44|max', 'B_9|max', 'R_1|max', 'B_23|last', 'log_B_9|mean', 'log_B_18|last', 'B_2|last', 'B_9|last', 'B_2|min', 'D_75|last', 'B_37|last', 'log_B_11|mean', 'B_4|last', 'B_7|last', 'B_1|last', 'B_11|mean', 'D_44|last', 'log_D_44|mean', 'B_1|max', 'log_B_3|mean', 'D_61|mean', 'B_10|mean', 'R_2|last', 'R_2|mean', 'R_2|max', 'D_42|min', 'D_78|last', 'D_48|mean', 'S_25|min', 'B_3|last', 'D_78|max', 'log_D_41|last', 'D_61|max', 'log_D_45|last', 'S_7|mean', 'log_D_39|last', 'log_D_45|min', 'D_42|max', 'P_3|min', 'D_39|last', 'R_6|mean', 'R_3|mean', 'D_42|last', 'log_B_9|max', 'P_3|last', 'B_8|min', 'S_3|last', 'D_62|min', 'D_45|mean', 'R_5|max', 'B_30=0.0', 'D_42|mean', 'B_11|last', 'R_27|max', 'D_41|max', 'S_15|mean', 'B_33|max', 'P_3|mean', 'B_1|mean', 'R_3|max', 'R_6|last', 'log_B_4|last', 'R_5|last', 'D_39|max', 'D_52|max', 'log_D_45|mean', 'log_B_26|last', 'log_D_39|max', 'log_D_43|last', 'R_27|min', 'D_46|last', 'D_128|max', 'D_128|min', 'S_3|mean', 'log_D_51|max', 'D_78|mean', 'R_7|mean', 'R_27|last', 'D_62|last', 'S_8|min'],    \n",
    "    \n",
    "]\n",
    "\n",
    "union_list = set()\n",
    "inter_list = set(sfr_lists[0])\n",
    "for sfr_ in sfr_lists:\n",
    "    union_list = union_list | set(sfr_)\n",
    "    inter_list = inter_list & set(sfr_)\n",
    "\n",
    "union_list = list(union_list)\n",
    "inter_list = list(inter_list)\n",
    "union_list.sort()\n",
    "inter_list.sort()\n",
    "print(len(union_list), union_list)\n",
    "print(len(inter_list), inter_list)"
   ]
  },
  {
   "cell_type": "code",
   "execution_count": 47,
   "id": "3379df9b",
   "metadata": {},
   "outputs": [
    {
     "data": {
      "text/plain": [
       "393"
      ]
     },
     "execution_count": 47,
     "metadata": {},
     "output_type": "execute_result"
    }
   ],
   "source": [
    "x_cols = list(set(union_list + corr85_150feats + corr75_150feats))\n",
    "len(x_cols)"
   ]
  },
  {
   "cell_type": "code",
   "execution_count": 48,
   "id": "231a30e8",
   "metadata": {},
   "outputs": [
    {
     "data": {
      "text/plain": [
       "408"
      ]
     },
     "execution_count": 48,
     "metadata": {},
     "output_type": "execute_result"
    }
   ],
   "source": [
    "x_cols = ['B_10|last', 'B_10|mean', 'B_11|last', 'B_11|mean', 'B_11|min', 'B_14|last', 'B_14|min', 'B_15|mean', 'B_16|max', 'B_16|min', 'B_17_mean2std', 'B_17|last', 'B_17|max', 'B_17|mean', 'B_17|min', 'B_18|last', 'B_18|min', 'B_19|last', 'B_19|min', 'B_1|last', 'B_1|max', 'B_1|mean', 'B_1|min', 'B_20|last', 'B_20|max', 'B_20|mean', 'B_20|min', 'B_21|last', 'B_21|max', 'B_22|last', 'B_22|max', 'B_22|mean', 'B_22|min', 'B_23|last', 'B_23|mean', 'B_23|min', 'B_24|last', 'B_24|mean', 'B_25|last', 'B_25|min', 'B_26|last', 'B_28|last', 'B_2|last', 'B_2|mean', 'B_2|min', 'B_30=0.0', 'B_30=1.0', 'B_30=2.0', 'B_30|nunique', 'B_31|nunique', 'B_32|last', 'B_32|max', 'B_33|last', 'B_33|max', 'B_33|mean', 'B_33|min', 'B_37|last', 'B_37|max', 'B_37|mean', 'B_38=4.0', 'B_38=5.0', 'B_38=6.0', 'B_38=7.0', 'B_38|last', 'B_38|nunique', 'B_3|last', 'B_3|max', 'B_3|mean', 'B_3|min', 'B_40|last', 'B_40|min', 'B_41|last', 'B_4_mean2std', 'B_4|last', 'B_4|max', 'B_5|last', 'B_5|mean', 'B_6|last', 'B_6|min', 'B_7|last', 'B_7|max', 'B_7|mean', 'B_7|min', 'B_8|last', 'B_8|max', 'B_8|mean', 'B_8|min', 'B_9|last', 'B_9|max', 'B_9|mean', 'B_9|min', 'D_102|max', 'D_105|max', 'D_106|last', 'D_107|max', 'D_109|mean', 'D_112|last', 'D_113|max', 'D_114=0.0', 'D_114|nunique', 'D_120=1.0', 'D_120|nunique', 'D_122|last', 'D_122|max', 'D_122|min', 'D_123|mean', 'D_128|max', 'D_128|min', 'D_129|last', 'D_129|max', 'D_129|mean', 'D_130|last', 'D_130|max', 'D_131|max', 'D_131|min', 'D_132_mean2std', 'D_132|min', 'D_133|last', 'D_133|max', 'D_133|min', 'D_134|min', 'D_135_mean2std', 'D_139|mean', 'D_140|max', 'D_143|last', 'D_145|last', 'D_39|last', 'D_39|max', 'D_39|mean', 'D_41|last', 'D_41|max', 'D_41|mean', 'D_41|min', 'D_42_mean2std', 'D_42|last', 'D_42|max', 'D_42|mean', 'D_42|min', 'D_43|last', 'D_43|max', 'D_43|mean', 'D_43|min', 'D_44|last', 'D_44|max', 'D_44|mean', 'D_44|min', 'D_45|last', 'D_45|max', 'D_45|mean', 'D_45|min', 'D_46_mean2std', 'D_46|last', 'D_46|mean', 'D_46|min', 'D_47|last', 'D_48|last', 'D_48|max', 'D_48|mean', 'D_48|min', 'D_49_mean2std', 'D_51|last', 'D_51|mean', 'D_52_mean2std', 'D_52|last', 'D_52|max', 'D_52|mean', 'D_52|min', 'D_53_mean2std', 'D_53|last', 'D_53|max', 'D_53|min', 'D_54|last', 'D_55|last', 'D_55|min', 'D_56|min', 'D_58|last', 'D_58|min', 'D_59|last', 'D_59|max', 'D_60|max', 'D_61|last', 'D_61|max', 'D_61|mean', 'D_61|min', 'D_62|last', 'D_62|max', 'D_62|mean', 'D_62|min', 'D_64=U', 'D_65|last', 'D_65|max', 'D_65|mean', 'D_68=1.0', 'D_69|min', 'D_70_mean2std', 'D_70|last', 'D_70|max', 'D_70|min', 'D_72|max', 'D_72|min', 'D_74|last', 'D_74|max', 'D_74|mean', 'D_75|last', 'D_75|max', 'D_75|mean', 'D_77|last', 'D_77|max', 'D_77|mean', 'D_77|min', 'D_78|last', 'D_78|max', 'D_78|mean', 'D_79|max', 'D_81|max', 'D_81|mean', 'D_84|last', 'D_84|max', 'D_84|mean', 'D_89|last', 'D_89|max', 'D_89|mean', 'D_91|last', 'P_2|last', 'P_2|max', 'P_2|mean', 'P_2|min', 'P_3|last', 'P_3|max', 'P_3|mean', 'P_3|min', 'P_4|max', 'P_4|mean', 'P_4|min', 'R_10|last', 'R_10|max', 'R_10|mean', 'R_11|last', 'R_11|max', 'R_11|mean', 'R_12|max', 'R_12|mean', 'R_13_mean2std', 'R_13|last', 'R_13|max', 'R_13|mean', 'R_15|last', 'R_15|max', 'R_15|mean', 'R_16|last', 'R_16|max', 'R_16|mean', 'R_17|last', 'R_17|max', 'R_18|max', 'R_19|last', 'R_19|min', 'R_1|last', 'R_1|max', 'R_1|mean', 'R_1|min', 'R_20|last', 'R_20|max', 'R_20|mean', 'R_21|last', 'R_22|max', 'R_24|last', 'R_24|max', 'R_24|mean', 'R_25|max', 'R_26_mean2std', 'R_27|last', 'R_27|max', 'R_27|mean', 'R_27|min', 'R_2|last', 'R_2|max', 'R_2|mean', 'R_2|min', 'R_3|last', 'R_3|max', 'R_3|mean', 'R_3|min', 'R_4|last', 'R_4|max', 'R_4|mean', 'R_4|min', 'R_5|last', 'R_5|max', 'R_5|mean', 'R_6|last', 'R_6|max', 'R_6|mean', 'R_7|last', 'R_7|max', 'R_7|mean', 'R_8|last', 'R_8|max', 'R_8|mean', 'R_9_mean2std', 'S_11|mean', 'S_12|max', 'S_15|last', 'S_15|max', 'S_15|mean', 'S_17|min', 'S_20|max', 'S_22|last', 'S_22|max', 'S_22|mean', 'S_23|last', 'S_23|max', 'S_23|mean', 'S_25|last', 'S_25|mean', 'S_25|min', 'S_26|last', 'S_27_mean2std', 'S_3|last', 'S_3|max', 'S_3|mean', 'S_3|min', 'S_6|max', 'S_6|min', 'S_7|last', 'S_7|max', 'S_7|mean', 'S_7|min', 'S_8|last', 'S_8|mean', 'S_8|min', 'S_9|max', 'log_B_11|last', 'log_B_11|max', 'log_B_11|mean', 'log_B_11|min', 'log_B_12|last', 'log_B_12|max', 'log_B_18|last', 'log_B_18|max', 'log_B_18|mean', 'log_B_18|min', 'log_B_21|last', 'log_B_21|mean', 'log_B_22|last', 'log_B_22|max', 'log_B_22|mean', 'log_B_22|min', 'log_B_23|last', 'log_B_23|max', 'log_B_23|min', 'log_B_24|last', 'log_B_24|mean', 'log_B_26|last', 'log_B_26|max', 'log_B_26|mean', 'log_B_3|last', 'log_B_3|max', 'log_B_3|mean', 'log_B_3|min', 'log_B_40|last', 'log_B_40|max', 'log_B_40|mean', 'log_B_40|min', 'log_B_41|max', 'log_B_4|last', 'log_B_4|max', 'log_B_4|mean', 'log_B_4|min', 'log_B_5|last', 'log_B_9|last', 'log_B_9|max', 'log_B_9|mean', 'log_B_9|min', 'log_D_102|max', 'log_D_107|mean', 'log_D_107|min', 'log_D_113|min', 'log_D_118|mean', 'log_D_123|last', 'log_D_125|min', 'log_D_131|last', 'log_D_131|min', 'log_D_133|last', 'log_D_133|min', 'log_D_39|last', 'log_D_39|max', 'log_D_39|min', 'log_D_41|last', 'log_D_41|max', 'log_D_41|min', 'log_D_43|last', 'log_D_43|max', 'log_D_43|mean', 'log_D_43|min', 'log_D_44|last', 'log_D_44|max', 'log_D_44|mean', 'log_D_44|min', 'log_D_45|last', 'log_D_45|max', 'log_D_45|mean', 'log_D_45|min', 'log_D_49|last', 'log_D_51|max', 'log_D_51|min', 'log_D_60|min', 'log_S_5|mean']\n",
    "\n",
    "\n",
    "len(x_cols)\n",
    "\n"
   ]
  },
  {
   "cell_type": "code",
   "execution_count": 49,
   "id": "1d519277",
   "metadata": {},
   "outputs": [
    {
     "data": {
      "text/plain": [
       "527"
      ]
     },
     "execution_count": 49,
     "metadata": {},
     "output_type": "execute_result"
    }
   ],
   "source": [
    "x_cols = ['log_D_45|mean', 'R_28|last', 'D_49|last', 'D_42|min', 'D_130|max', 'B_20|max', 'B_11|min', 'R_16|last', 'R_5|mean', 'D_62|min', 'D_133|last', 'R_20|max', 'B_17|last', 'D_139|last', 'R_3|max', 'log_B_40|last', 'S_22|last', 'B_23|min', 'log_B_40|max', 'B_14|min', 'R_7|max', 'B_22|last', 'B_23|mean', 'D_83|last', 'D_123|mean', 'log_B_4|last', 'log_D_49|last', 'D_114|last', 'B_24|last', 'log_S_5|mean', 'D_127|last', 'log_B_4|max', 'R_1|last', 'D_70|min', 'D_62|last', 'R_9_mean2std', 'D_105|max', 'B_7|min', 'R_5|last', 'D_120=1.0', 'D_129|max', 'R_22|max', 'B_7|last', 'S_25|mean', 'D_120|nunique', 'log_D_131|min', 'S_27_mean2std', 'P_2|max', 'R_17|last', 'R_2|last', 'D_142|last', 'B_38|nunique', 'D_52|mean', 'log_B_22|last', 'B_18|last', 'D_58|last', 'S_8|min', 'R_20|last', 'S_20|last', 'B_26|last', 'D_70_mean2std', 'B_11|mean', 'D_138|last', 'R_6|max', 'B_3|mean', 'log_D_107|last', 'log_D_43|last', 'D_43|max', 'D_45|min', 'D_58|min', 'B_15|mean', 'log_B_24|last', 'log_B_18|max', 'D_113|last', 'D_56|last', 'B_31|last', 'D_88|last', 'S_8|mean', 'D_139|mean', 'log_D_133|last', 'S_15|max', 'D_143|last', 'D_102|last', 'B_19|last', 'R_4|min', 'B_3|last', 'S_3|mean', 'D_60|last', 'log_D_115|last', 'D_44|last', 'D_131|max', 'R_23|last', 'D_48|last', 'S_12|last', 'D_79|last', 'S_22|mean', 'D_109|last', 'B_1|min', 'log_D_131|last', 'D_113|max', 'S_7|max', 'log_B_4|mean', 'log_B_27|last', 'D_46|min', 'D_43|min', 'S_17|last', 'B_10|mean', 'B_15|last', 'log_B_3|mean', 'log_D_39|last', 'B_12|last', 'B_11|last', 'S_22|max', 'B_20|mean', 'R_26|last', 'log_B_3|min', 'B_39|last', 'log_B_23|last', 'R_19|last', 'D_122|min', 'D_84|mean', 'B_4_mean2std', 'S_7|last', 'P_2|last', 'D_39|max', 'B_9|min', 'D_48|min', 'D_61|max', 'D_73|last', 'R_13|mean', 'log_B_11|min', 'log_B_12|max', 'log_D_118|last', 'log_B_40|mean', 'D_111|last', 'R_1|mean', 'R_13|last', 'S_7|min', 'log_D_118|mean', 'log_D_135|last', 'B_38|last', 'D_132|min', 'log_D_51|last', 'D_102|max', 'B_22|mean', 'R_8|last', 'log_D_119|last', 'B_25|last', 'B_30=1.0', 'D_56|min', 'D_71|last', 'B_25|min', 'B_38=5.0', 'D_140|last', 'D_52_mean2std', 'R_12|max', 'R_14|last', 'D_62|max', 'R_26_mean2std', 'log_B_29|last', 'D_89|last', 'R_18|last', 'S_23|mean', 'D_44|min', 'B_8|min', 'D_75|max', 'D_45|max', 'B_38=7.0', 'R_6|last', 'log_B_18|mean', 'S_3|min', 'P_3|max', 'D_114=0.0', 'log_B_22|min', 'D_108|last', 'D_129|mean', 'B_20|min', 'D_87|last', 'D_126|last', 'log_D_106|last', 'log_B_3|last', 'D_70|max', 'D_115|last', 'D_39|last', 'D_44|mean', 'log_B_23|max', 'B_17|mean', 'B_6|min', 'log_B_26|mean', 'B_23|last', 'log_B_24|mean', 'R_27|max', 'D_53|min', 'log_D_45|max', 'B_3|max', 'B_33|mean', 'log_D_137|last', 'S_27|last', 'S_6|max', 'B_37|mean', 'D_89|max', 'log_D_125|min', 'D_74|mean', 'log_B_32|last', 'P_4|last', 'D_110|last', 'D_77|min', 'D_128|min', 'D_106|last', 'R_10|max', 'log_D_60|min', 'D_122|max', 'D_120|last', 'D_133|max', 'log_B_21|last', 'B_10|last', 'D_49_mean2std', 'B_40|min', 'D_84|max', 'log_B_11|last', 'S_26|last', 'log_S_26|last', 'D_45|last', 'D_91|last', 'D_61|min', 'R_16|max', 'B_24|mean', 'R_10|last', 'B_8|last', 'D_109|mean', 'R_2|mean', 'R_4|mean', 'S_15|mean', 'S_25|min', 'B_38=6.0', 'B_4|max', 'D_105|last', 'log_B_9|min', 'log_D_123|last', 'P_2|mean', 'D_43|last', 'B_31|nunique', 'R_27|last', 'R_9|last', 'S_9|max', 'D_75|mean', 'B_30|nunique', 'R_24|last', 'D_42|last', 'R_13|max', 'D_86|last', 'R_10|mean', 'log_R_28|last', 'B_7|max', 'log_B_9|last', 'D_104|last', 'P_2|min', 'D_117|last', 'D_68=1.0', 'R_8|max', 'S_3|last', 'D_137|last', 'D_59|max', 'log_B_12|last', 'D_47|last', 'D_132|last', 'R_3|last', 'R_2|min', 'R_11|last', 'B_1|last', 'B_21|last', 'D_41|mean', 'D_119|last', 'D_93|last', 'D_46|mean', 'D_51|mean', 'B_33|min', 'R_13_mean2std', 'D_132_mean2std', 'log_B_3|max', 'log_D_44|min', 'R_25|max', 'D_107|max', 'B_30=0.0', 'S_19|last', 'log_D_45|min', 'D_81|max', 'S_15|last', 'R_8|mean', 'D_82|last', 'log_B_13|last', 'B_22|max', 'B_3|min', 'log_D_41|last', 'D_123|last', 'D_81|mean', 'R_1|max', 'R_27|mean', 'D_121|last', 'D_74|max', 'R_7|last', 'D_41|last', 'log_B_11|max', 'B_8|max', 'B_5|last', 'log_D_113|last', 'P_3|min', 'R_7|mean', 'D_53_mean2std', 'S_7|mean', 'D_133|min', 'D_41|min', 'log_D_133|min', 'log_B_26|max', 'D_96|last', 'D_48|max', 'B_2|mean', 'D_61|mean', 'log_B_36|last', 'D_60|max', 'D_125|last', 'log_D_39|min', 'D_75|last', 'B_9|last', 'log_D_44|max', 'D_65|last', 'B_8|mean', 'D_62|mean', 'log_D_43|min', 'D_114|nunique', 'P_4|max', 'B_28|last', 'D_128|max', 'D_131|min', 'R_27|min', 'D_144|last', 'B_16|min', 'log_B_22|max', 'R_4|last', 'S_3|max', 'B_36|last', 'D_69|min', 'R_22|last', 'log_D_39|max', 'log_B_41|max', 'D_135_mean2std', 'D_77|max', 'B_21|max', 'D_118|last', 'D_53|last', 'log_B_42|last', 'D_112|last', 'B_33|last', 'S_12|max', 'log_B_26|last', 'log_D_43|max', 'R_11|max', 'log_B_22|mean', 'R_6|mean', 'B_9|max', 'D_41|max', 'log_B_9|max', 'S_11|mean', 'B_27|last', 'S_8|last', 'D_68|last', 'R_5|max', 'log_D_109|last', 'B_33|max', 'B_16|last', 'D_43|mean', 'D_124|last', 'D_52|min', 'B_17|min', 'D_134|min', 'D_45|mean', 'D_140|max', 'D_131|last', 'D_48|mean', 'S_5|last', 'B_19|min', 'D_94|last', 'log_D_45|last', 'R_3|mean', 'S_17|min', 'R_12|last', 'D_46_mean2std', 'D_72|min', 'D_81|last', 'D_77|last', 'B_32|last', 'log_B_11|mean', 'B_37|last', 'D_53|max', 'log_B_18|last', 'log_B_40|min', 'log_D_107|min', 'D_54|last', 'D_52|last', 'R_18|max', 'D_135|last', 'D_64=U', 'log_D_51|max', 'B_41|last', 'B_7|mean', 'log_B_5|last', 'D_103|last', 'S_9|last', 'D_107|last', 'log_B_41|last', 'D_122|last', 'D_46|last', 'D_78|max', 'P_3|last', 'D_70|last', 'R_4|max', 'P_3|mean', 'log_D_44|mean', 'S_16|last', 'D_80|last', 'log_B_18|min', 'B_29|last', 'D_128|last', 'log_D_44|last', 'S_20|max', 'D_52|max', 'D_77|mean', 'S_25|last', 'B_37|max', 'log_D_41|min', 'B_9|mean', 'log_B_23|min', 'log_B_21|mean', 'R_15|max', 'D_59|last', 'D_129|last', 'S_6|min', 'B_5|mean', 'D_65|mean', 'R_21|last', 'D_42|mean', 'D_130|last', 'D_69|last', 'D_42_mean2std', 'D_65|max', 'D_141|last', 'B_13|last', 'S_13|last', 'D_42|max', 'D_78|last', 'log_D_102|last', 'B_30=2.0', 'B_20|last', 'D_55|min', 'log_D_140|last', 'R_24|max', 'P_4|mean', 'log_D_107|mean', 'D_50|last', 'D_72|max', 'R_1|min', 'B_17|max', 'B_30|last', 'B_18|min', 'D_134|last', 'D_76|last', 'log_D_125|last', 'log_S_5|last', 'R_17|max', 'log_B_4|min', 'B_42|last', 'log_D_138|last', 'B_1|max', 'B_40|last', 'D_74|last', 'D_84|last', 'R_24|mean', 'log_D_60|last', 'R_19|min', 'S_11|last', 'B_17_mean2std', 'B_2|last', 'S_18|last', 'B_16|max', 'log_D_41|max', 'B_32|max', 'B_2|min', 'D_44|max', 'S_23|last', 'D_61|last', 'P_4|min', 'log_D_51|min', 'R_3|min', 'D_136|last', 'S_6|last', 'S_24|last', 'log_D_108|last', 'R_2|max', 'D_89|mean', 'R_16|mean', 'log_D_102|max', 'D_39|mean', 'log_B_9|mean', 'B_1|mean', 'D_145|last', 'R_25|last', 'S_23|max', 'D_51|last', 'D_72|last', 'log_D_113|min', 'R_12|mean', 'R_15|mean', 'B_38=4.0', 'D_92|last', 'B_6|last', 'D_55|last', 'log_D_136|last', 'D_79|max', 'log_D_43|mean', 'R_20|mean', 'B_4|last', 'B_22|min', 'D_116|last', 'B_14|last', 'R_11|mean', 'D_78|mean', 'R_15|last']\n",
    "\n",
    "\n",
    "len(x_cols)"
   ]
  },
  {
   "cell_type": "code",
   "execution_count": 50,
   "id": "6e44c61f",
   "metadata": {},
   "outputs": [],
   "source": [
    "a = ['log_D_45|mean', 'R_28|last', 'D_49|last', 'D_42|min', 'D_130|max', 'B_20|max', 'B_11|min', 'R_16|last', 'R_5|mean', 'D_62|min', 'D_133|last', 'R_20|max', 'B_17|last', 'D_139|last', 'R_3|max', 'log_B_40|last', 'S_22|last', 'B_23|min', 'log_B_40|max', 'B_14|min', 'R_7|max', 'B_22|last', 'B_23|mean', 'D_83|last', 'D_123|mean', 'log_B_4|last', 'log_D_49|last', 'D_114|last', 'B_24|last', 'log_S_5|mean', 'D_127|last', 'log_B_4|max', 'R_1|last', 'D_70|min', 'D_62|last', 'R_9_mean2std', 'D_105|max', 'B_7|min', 'R_5|last', 'D_120=1.0', 'D_129|max', 'R_22|max', 'B_7|last', 'S_25|mean', 'D_120|nunique', 'log_D_131|min', 'S_27_mean2std', 'P_2|max', 'R_17|last', 'R_2|last', 'D_142|last', 'B_38|nunique', 'D_52|mean', 'log_B_22|last', 'B_18|last', 'D_58|last', 'S_8|min', 'R_20|last', 'S_20|last', 'B_26|last', 'D_70_mean2std', 'B_11|mean', 'D_138|last', 'R_6|max', 'B_3|mean', 'log_D_107|last', 'log_D_43|last', 'D_43|max', 'D_45|min', 'D_58|min', 'B_15|mean', 'log_B_24|last', 'log_B_18|max', 'D_113|last', 'D_56|last', 'B_31|last', 'D_88|last', 'S_8|mean', 'D_139|mean', 'log_D_133|last', 'S_15|max', 'D_143|last', 'D_102|last', 'B_19|last', 'R_4|min', 'B_3|last', 'S_3|mean', 'D_60|last', 'log_D_115|last', 'D_44|last', 'D_131|max', 'R_23|last', 'D_48|last', 'S_12|last', 'D_79|last', 'S_22|mean', 'D_109|last', 'B_1|min', 'log_D_131|last', 'D_113|max', 'S_7|max', 'log_B_4|mean', 'log_B_27|last', 'D_46|min', 'D_43|min', 'S_17|last', 'B_10|mean', 'B_15|last', 'log_B_3|mean', 'log_D_39|last', 'B_12|last', 'B_11|last', 'S_22|max', 'B_20|mean', 'R_26|last', 'log_B_3|min', 'B_39|last', 'log_B_23|last', 'R_19|last', 'D_122|min', 'D_84|mean', 'B_4_mean2std', 'S_7|last', 'P_2|last', 'D_39|max', 'B_9|min', 'D_48|min', 'D_61|max', 'D_73|last', 'R_13|mean', 'log_B_11|min', 'log_B_12|max', 'log_D_118|last', 'log_B_40|mean', 'D_111|last', 'R_1|mean', 'R_13|last', 'S_7|min', 'log_D_118|mean', 'log_D_135|last', 'B_38|last', 'D_132|min', 'log_D_51|last', 'D_102|max', 'B_22|mean', 'R_8|last', 'log_D_119|last', 'B_25|last', 'B_30=1.0', 'D_56|min', 'D_71|last', 'B_25|min', 'B_38=5.0', 'D_140|last', 'D_52_mean2std', 'R_12|max', 'R_14|last', 'D_62|max', 'R_26_mean2std', 'log_B_29|last', 'D_89|last', 'R_18|last', 'S_23|mean', 'D_44|min', 'B_8|min', 'D_75|max', 'D_45|max', 'B_38=7.0', 'R_6|last', 'log_B_18|mean', 'S_3|min', 'P_3|max', 'D_114=0.0', 'log_B_22|min', 'D_108|last', 'D_129|mean', 'B_20|min', 'D_87|last', 'D_126|last', 'log_D_106|last', 'log_B_3|last', 'D_70|max', 'D_115|last', 'D_39|last', 'D_44|mean', 'log_B_23|max', 'B_17|mean', 'B_6|min', 'log_B_26|mean', 'B_23|last', 'log_B_24|mean', 'R_27|max', 'D_53|min', 'log_D_45|max', 'B_3|max', 'B_33|mean', 'log_D_137|last', 'S_27|last', 'S_6|max', 'B_37|mean', 'D_89|max', 'log_D_125|min', 'D_74|mean', 'log_B_32|last', 'P_4|last', 'D_110|last', 'D_77|min', 'D_128|min', 'D_106|last', 'R_10|max', 'log_D_60|min', 'D_122|max', 'D_120|last', 'D_133|max', 'log_B_21|last', 'B_10|last', 'D_49_mean2std', 'B_40|min', 'D_84|max', 'log_B_11|last', 'S_26|last', 'log_S_26|last', 'D_45|last', 'D_91|last', 'D_61|min', 'R_16|max', 'B_24|mean', 'R_10|last', 'B_8|last', 'D_109|mean', 'R_2|mean', 'R_4|mean', 'S_15|mean', 'S_25|min', 'B_38=6.0', 'B_4|max', 'D_105|last', 'log_B_9|min', 'log_D_123|last', 'P_2|mean', 'D_43|last', 'B_31|nunique', 'R_27|last', 'R_9|last', 'S_9|max', 'D_75|mean', 'B_30|nunique', 'R_24|last', 'D_42|last', 'R_13|max', 'D_86|last', 'R_10|mean', 'log_R_28|last', 'B_7|max', 'log_B_9|last', 'D_104|last', 'P_2|min', 'D_117|last', 'D_68=1.0', 'R_8|max', 'S_3|last', 'D_137|last', 'D_59|max', 'log_B_12|last', 'D_47|last', 'D_132|last', 'R_3|last', 'R_2|min', 'R_11|last', 'B_1|last', 'B_21|last', 'D_41|mean', 'D_119|last', 'D_93|last', 'D_46|mean', 'D_51|mean', 'B_33|min', 'R_13_mean2std', 'D_132_mean2std', 'log_B_3|max', 'log_D_44|min', 'R_25|max', 'D_107|max', 'B_30=0.0', 'S_19|last', 'log_D_45|min', 'D_81|max', 'S_15|last', 'R_8|mean', 'D_82|last', 'log_B_13|last', 'B_22|max', 'B_3|min', 'log_D_41|last', 'D_123|last', 'D_81|mean', 'R_1|max', 'R_27|mean', 'D_121|last', 'D_74|max', 'R_7|last', 'D_41|last', 'log_B_11|max', 'B_8|max', 'B_5|last', 'log_D_113|last', 'P_3|min', 'R_7|mean', 'D_53_mean2std', 'S_7|mean', 'D_133|min', 'D_41|min', 'log_D_133|min', 'log_B_26|max', 'D_96|last', 'D_48|max', 'B_2|mean', 'D_61|mean', 'log_B_36|last', 'D_60|max', 'D_125|last', 'log_D_39|min', 'D_75|last', 'B_9|last', 'log_D_44|max', 'D_65|last', 'B_8|mean', 'D_62|mean', 'log_D_43|min', 'D_114|nunique', 'P_4|max', 'B_28|last', 'D_128|max', 'D_131|min', 'R_27|min', 'D_144|last', 'B_16|min', 'log_B_22|max', 'R_4|last', 'S_3|max', 'B_36|last', 'D_69|min', 'R_22|last', 'log_D_39|max', 'log_B_41|max', 'D_135_mean2std', 'D_77|max', 'B_21|max', 'D_118|last', 'D_53|last', 'log_B_42|last', 'D_112|last', 'B_33|last', 'S_12|max', 'log_B_26|last', 'log_D_43|max', 'R_11|max', 'log_B_22|mean', 'R_6|mean', 'B_9|max', 'D_41|max', 'log_B_9|max', 'S_11|mean', 'B_27|last', 'S_8|last', 'D_68|last', 'R_5|max', 'log_D_109|last', 'B_33|max', 'B_16|last', 'D_43|mean', 'D_124|last', 'D_52|min', 'B_17|min', 'D_134|min', 'D_45|mean', 'D_140|max', 'D_131|last', 'D_48|mean', 'S_5|last', 'B_19|min', 'D_94|last', 'log_D_45|last', 'R_3|mean', 'S_17|min', 'R_12|last', 'D_46_mean2std', 'D_72|min', 'D_81|last', 'D_77|last', 'B_32|last', 'log_B_11|mean', 'B_37|last', 'D_53|max', 'log_B_18|last', 'log_B_40|min', 'log_D_107|min', 'D_54|last', 'D_52|last', 'R_18|max', 'D_135|last', 'D_64=U', 'log_D_51|max', 'B_41|last', 'B_7|mean', 'log_B_5|last', 'D_103|last', 'S_9|last', 'D_107|last', 'log_B_41|last', 'D_122|last', 'D_46|last', 'D_78|max', 'P_3|last', 'D_70|last', 'R_4|max', 'P_3|mean', 'log_D_44|mean', 'S_16|last', 'D_80|last', 'log_B_18|min', 'B_29|last', 'D_128|last', 'log_D_44|last', 'S_20|max', 'D_52|max', 'D_77|mean', 'S_25|last', 'B_37|max', 'log_D_41|min', 'B_9|mean', 'log_B_23|min', 'log_B_21|mean', 'R_15|max', 'D_59|last', 'D_129|last', 'S_6|min', 'B_5|mean', 'D_65|mean', 'R_21|last', 'D_42|mean', 'D_130|last', 'D_69|last', 'D_42_mean2std', 'D_65|max', 'D_141|last', 'B_13|last', 'S_13|last', 'D_42|max', 'D_78|last', 'log_D_102|last', 'B_30=2.0', 'B_20|last', 'D_55|min', 'log_D_140|last', 'R_24|max', 'P_4|mean', 'log_D_107|mean', 'D_50|last', 'D_72|max', 'R_1|min', 'B_17|max', 'B_30|last', 'B_18|min', 'D_134|last', 'D_76|last', 'log_D_125|last', 'log_S_5|last', 'R_17|max', 'log_B_4|min', 'B_42|last', 'log_D_138|last', 'B_1|max', 'B_40|last', 'D_74|last', 'D_84|last', 'R_24|mean', 'log_D_60|last', 'R_19|min', 'S_11|last', 'B_17_mean2std', 'B_2|last', 'S_18|last', 'B_16|max', 'log_D_41|max', 'B_32|max', 'B_2|min', 'D_44|max', 'S_23|last', 'D_61|last', 'P_4|min', 'log_D_51|min', 'R_3|min', 'D_136|last', 'S_6|last', 'S_24|last', 'log_D_108|last', 'R_2|max', 'D_89|mean', 'R_16|mean', 'log_D_102|max', 'D_39|mean', 'log_B_9|mean', 'B_1|mean', 'D_145|last', 'R_25|last', 'S_23|max', 'D_51|last', 'D_72|last', 'log_D_113|min', 'R_12|mean', 'R_15|mean', 'B_38=4.0', 'D_92|last', 'B_6|last', 'D_55|last', 'log_D_136|last', 'D_79|max', 'log_D_43|mean', 'R_20|mean', 'B_4|last', 'B_22|min', 'D_116|last', 'B_14|last', 'R_11|mean', 'D_78|mean', 'R_15|last']\n",
    "\n",
    "b =  ['B_10|last', 'B_10|mean', 'B_11|last', 'B_11|mean', 'B_11|min', 'B_14|last', 'B_14|min', 'B_15|mean', 'B_16|max', 'B_16|min', 'B_17_mean2std', 'B_17|last', 'B_17|max', 'B_17|mean', 'B_17|min', 'B_18|last', 'B_18|min', 'B_19|last', 'B_19|min', 'B_1|last', 'B_1|max', 'B_1|mean', 'B_1|min', 'B_20|last', 'B_20|max', 'B_20|mean', 'B_20|min', 'B_21|last', 'B_21|max', 'B_22|last', 'B_22|max', 'B_22|mean', 'B_22|min', 'B_23|last', 'B_23|mean', 'B_23|min', 'B_24|last', 'B_24|mean', 'B_25|last', 'B_25|min', 'B_26|last', 'B_28|last', 'B_2|last', 'B_2|mean', 'B_2|min', 'B_30=0.0', 'B_30=1.0', 'B_30=2.0', 'B_30|nunique', 'B_31|nunique', 'B_32|last', 'B_32|max', 'B_33|last', 'B_33|max', 'B_33|mean', 'B_33|min', 'B_37|last', 'B_37|max', 'B_37|mean', 'B_38=4.0', 'B_38=5.0', 'B_38=6.0', 'B_38=7.0', 'B_38|last', 'B_38|nunique', 'B_3|last', 'B_3|max', 'B_3|mean', 'B_3|min', 'B_40|last', 'B_40|min', 'B_41|last', 'B_4_mean2std', 'B_4|last', 'B_4|max', 'B_5|last', 'B_5|mean', 'B_6|last', 'B_6|min', 'B_7|last', 'B_7|max', 'B_7|mean', 'B_7|min', 'B_8|last', 'B_8|max', 'B_8|mean', 'B_8|min', 'B_9|last', 'B_9|max', 'B_9|mean', 'B_9|min', 'D_102|max', 'D_105|max', 'D_106|last', 'D_107|max', 'D_109|mean', 'D_112|last', 'D_113|max', 'D_114=0.0', 'D_114|nunique', 'D_120=1.0', 'D_120|nunique', 'D_122|last', 'D_122|max', 'D_122|min', 'D_123|mean', 'D_128|max', 'D_128|min', 'D_129|last', 'D_129|max', 'D_129|mean', 'D_130|last', 'D_130|max', 'D_131|max', 'D_131|min', 'D_132_mean2std', 'D_132|min', 'D_133|last', 'D_133|max', 'D_133|min', 'D_134|min', 'D_135_mean2std', 'D_139|mean', 'D_140|max', 'D_143|last', 'D_145|last', 'D_39|last', 'D_39|max', 'D_39|mean', 'D_41|last', 'D_41|max', 'D_41|mean', 'D_41|min', 'D_42_mean2std', 'D_42|last', 'D_42|max', 'D_42|mean', 'D_42|min', 'D_43|last', 'D_43|max', 'D_43|mean', 'D_43|min', 'D_44|last', 'D_44|max', 'D_44|mean', 'D_44|min', 'D_45|last', 'D_45|max', 'D_45|mean', 'D_45|min', 'D_46_mean2std', 'D_46|last', 'D_46|mean', 'D_46|min', 'D_47|last', 'D_48|last', 'D_48|max', 'D_48|mean', 'D_48|min', 'D_49_mean2std', 'D_51|last', 'D_51|mean', 'D_52_mean2std', 'D_52|last', 'D_52|max', 'D_52|mean', 'D_52|min', 'D_53_mean2std', 'D_53|last', 'D_53|max', 'D_53|min', 'D_54|last', 'D_55|last', 'D_55|min', 'D_56|min', 'D_58|last', 'D_58|min', 'D_59|last', 'D_59|max', 'D_60|max', 'D_61|last', 'D_61|max', 'D_61|mean', 'D_61|min', 'D_62|last', 'D_62|max', 'D_62|mean', 'D_62|min', 'D_64=U', 'D_65|last', 'D_65|max', 'D_65|mean', 'D_68=1.0', 'D_69|min', 'D_70_mean2std', 'D_70|last', 'D_70|max', 'D_70|min', 'D_72|max', 'D_72|min', 'D_74|last', 'D_74|max', 'D_74|mean', 'D_75|last', 'D_75|max', 'D_75|mean', 'D_77|last', 'D_77|max', 'D_77|mean', 'D_77|min', 'D_78|last', 'D_78|max', 'D_78|mean', 'D_79|max', 'D_81|max', 'D_81|mean', 'D_84|last', 'D_84|max', 'D_84|mean', 'D_89|last', 'D_89|max', 'D_89|mean', 'D_91|last', 'P_2|last', 'P_2|max', 'P_2|mean', 'P_2|min', 'P_3|last', 'P_3|max', 'P_3|mean', 'P_3|min', 'P_4|max', 'P_4|mean', 'P_4|min', 'R_10|last', 'R_10|max', 'R_10|mean', 'R_11|last', 'R_11|max', 'R_11|mean', 'R_12|max', 'R_12|mean', 'R_13_mean2std', 'R_13|last', 'R_13|max', 'R_13|mean', 'R_15|last', 'R_15|max', 'R_15|mean', 'R_16|last', 'R_16|max', 'R_16|mean', 'R_17|last', 'R_17|max', 'R_18|max', 'R_19|last', 'R_19|min', 'R_1|last', 'R_1|max', 'R_1|mean', 'R_1|min', 'R_20|last', 'R_20|max', 'R_20|mean', 'R_21|last', 'R_22|max', 'R_24|last', 'R_24|max', 'R_24|mean', 'R_25|max', 'R_26_mean2std', 'R_27|last', 'R_27|max', 'R_27|mean', 'R_27|min', 'R_2|last', 'R_2|max', 'R_2|mean', 'R_2|min', 'R_3|last', 'R_3|max', 'R_3|mean', 'R_3|min', 'R_4|last', 'R_4|max', 'R_4|mean', 'R_4|min', 'R_5|last', 'R_5|max', 'R_5|mean', 'R_6|last', 'R_6|max', 'R_6|mean', 'R_7|last', 'R_7|max', 'R_7|mean', 'R_8|last', 'R_8|max', 'R_8|mean', 'R_9_mean2std', 'S_11|mean', 'S_12|max', 'S_15|last', 'S_15|max', 'S_15|mean', 'S_17|min', 'S_20|max', 'S_22|last', 'S_22|max', 'S_22|mean', 'S_23|last', 'S_23|max', 'S_23|mean', 'S_25|last', 'S_25|mean', 'S_25|min', 'S_26|last', 'S_27_mean2std', 'S_3|last', 'S_3|max', 'S_3|mean', 'S_3|min', 'S_6|max', 'S_6|min', 'S_7|last', 'S_7|max', 'S_7|mean', 'S_7|min', 'S_8|last', 'S_8|mean', 'S_8|min', 'S_9|max', 'log_B_11|last', 'log_B_11|max', 'log_B_11|mean', 'log_B_11|min', 'log_B_12|last', 'log_B_12|max', 'log_B_18|last', 'log_B_18|max', 'log_B_18|mean', 'log_B_18|min', 'log_B_21|last', 'log_B_21|mean', 'log_B_22|last', 'log_B_22|max', 'log_B_22|mean', 'log_B_22|min', 'log_B_23|last', 'log_B_23|max', 'log_B_23|min', 'log_B_24|last', 'log_B_24|mean', 'log_B_26|last', 'log_B_26|max', 'log_B_26|mean', 'log_B_3|last', 'log_B_3|max', 'log_B_3|mean', 'log_B_3|min', 'log_B_40|last', 'log_B_40|max', 'log_B_40|mean', 'log_B_40|min', 'log_B_41|max', 'log_B_4|last', 'log_B_4|max', 'log_B_4|mean', 'log_B_4|min', 'log_B_5|last', 'log_B_9|last', 'log_B_9|max', 'log_B_9|mean', 'log_B_9|min', 'log_D_102|max', 'log_D_107|mean', 'log_D_107|min', 'log_D_113|min', 'log_D_118|mean', 'log_D_123|last', 'log_D_125|min', 'log_D_131|last', 'log_D_131|min', 'log_D_133|last', 'log_D_133|min', 'log_D_39|last', 'log_D_39|max', 'log_D_39|min', 'log_D_41|last', 'log_D_41|max', 'log_D_41|min', 'log_D_43|last', 'log_D_43|max', 'log_D_43|mean', 'log_D_43|min', 'log_D_44|last', 'log_D_44|max', 'log_D_44|mean', 'log_D_44|min', 'log_D_45|last', 'log_D_45|max', 'log_D_45|mean', 'log_D_45|min', 'log_D_49|last', 'log_D_51|max', 'log_D_51|min', 'log_D_60|min', 'log_S_5|mean']\n",
    "\n",
    "c = list(set(union_list + corr85_150feats + corr75_150feats))\n"
   ]
  },
  {
   "cell_type": "code",
   "execution_count": 51,
   "id": "cd2d968b",
   "metadata": {},
   "outputs": [
    {
     "data": {
      "text/plain": [
       "{'log_B_28|max'}"
      ]
     },
     "execution_count": 51,
     "metadata": {},
     "output_type": "execute_result"
    }
   ],
   "source": [
    "set(c)-set(b)"
   ]
  },
  {
   "cell_type": "code",
   "execution_count": 52,
   "id": "4761f5db",
   "metadata": {},
   "outputs": [
    {
     "data": {
      "text/plain": [
       "{'B_10|last',\n",
       " 'B_10|mean',\n",
       " 'B_11|last',\n",
       " 'B_11|mean',\n",
       " 'B_11|min',\n",
       " 'B_12|last',\n",
       " 'B_13|last',\n",
       " 'B_14|last',\n",
       " 'B_14|min',\n",
       " 'B_15|last',\n",
       " 'B_15|mean',\n",
       " 'B_16|last',\n",
       " 'B_16|max',\n",
       " 'B_16|min',\n",
       " 'B_17_mean2std',\n",
       " 'B_17|last',\n",
       " 'B_17|max',\n",
       " 'B_17|mean',\n",
       " 'B_17|min',\n",
       " 'B_18|last',\n",
       " 'B_18|min',\n",
       " 'B_19|last',\n",
       " 'B_19|min',\n",
       " 'B_1|last',\n",
       " 'B_1|max',\n",
       " 'B_1|mean',\n",
       " 'B_1|min',\n",
       " 'B_20|last',\n",
       " 'B_20|max',\n",
       " 'B_20|mean',\n",
       " 'B_20|min',\n",
       " 'B_21|last',\n",
       " 'B_21|max',\n",
       " 'B_22|last',\n",
       " 'B_22|max',\n",
       " 'B_22|mean',\n",
       " 'B_22|min',\n",
       " 'B_23|last',\n",
       " 'B_23|mean',\n",
       " 'B_23|min',\n",
       " 'B_24|last',\n",
       " 'B_24|mean',\n",
       " 'B_25|last',\n",
       " 'B_25|min',\n",
       " 'B_26|last',\n",
       " 'B_27|last',\n",
       " 'B_28|last',\n",
       " 'B_29|last',\n",
       " 'B_2|last',\n",
       " 'B_2|mean',\n",
       " 'B_2|min',\n",
       " 'B_30=0.0',\n",
       " 'B_30=1.0',\n",
       " 'B_30=2.0',\n",
       " 'B_30|last',\n",
       " 'B_30|nunique',\n",
       " 'B_31|last',\n",
       " 'B_31|nunique',\n",
       " 'B_32|last',\n",
       " 'B_32|max',\n",
       " 'B_33|last',\n",
       " 'B_33|max',\n",
       " 'B_33|mean',\n",
       " 'B_33|min',\n",
       " 'B_36|last',\n",
       " 'B_37|last',\n",
       " 'B_37|max',\n",
       " 'B_37|mean',\n",
       " 'B_38=4.0',\n",
       " 'B_38=5.0',\n",
       " 'B_38=6.0',\n",
       " 'B_38=7.0',\n",
       " 'B_38|last',\n",
       " 'B_38|nunique',\n",
       " 'B_39|last',\n",
       " 'B_3|last',\n",
       " 'B_3|max',\n",
       " 'B_3|mean',\n",
       " 'B_3|min',\n",
       " 'B_40|last',\n",
       " 'B_40|min',\n",
       " 'B_41|last',\n",
       " 'B_42|last',\n",
       " 'B_4_mean2std',\n",
       " 'B_4|last',\n",
       " 'B_4|max',\n",
       " 'B_5|last',\n",
       " 'B_5|mean',\n",
       " 'B_6|last',\n",
       " 'B_6|min',\n",
       " 'B_7|last',\n",
       " 'B_7|max',\n",
       " 'B_7|mean',\n",
       " 'B_7|min',\n",
       " 'B_8|last',\n",
       " 'B_8|max',\n",
       " 'B_8|mean',\n",
       " 'B_8|min',\n",
       " 'B_9|last',\n",
       " 'B_9|max',\n",
       " 'B_9|mean',\n",
       " 'B_9|min',\n",
       " 'D_102|last',\n",
       " 'D_102|max',\n",
       " 'D_103|last',\n",
       " 'D_104|last',\n",
       " 'D_105|last',\n",
       " 'D_105|max',\n",
       " 'D_106|last',\n",
       " 'D_107|last',\n",
       " 'D_107|max',\n",
       " 'D_108|last',\n",
       " 'D_109|last',\n",
       " 'D_109|mean',\n",
       " 'D_110|last',\n",
       " 'D_111|last',\n",
       " 'D_112|last',\n",
       " 'D_113|last',\n",
       " 'D_113|max',\n",
       " 'D_114=0.0',\n",
       " 'D_114|last',\n",
       " 'D_114|nunique',\n",
       " 'D_115|last',\n",
       " 'D_116|last',\n",
       " 'D_117|last',\n",
       " 'D_118|last',\n",
       " 'D_119|last',\n",
       " 'D_120=1.0',\n",
       " 'D_120|last',\n",
       " 'D_120|nunique',\n",
       " 'D_121|last',\n",
       " 'D_122|last',\n",
       " 'D_122|max',\n",
       " 'D_122|min',\n",
       " 'D_123|last',\n",
       " 'D_123|mean',\n",
       " 'D_124|last',\n",
       " 'D_125|last',\n",
       " 'D_126|last',\n",
       " 'D_127|last',\n",
       " 'D_128|last',\n",
       " 'D_128|max',\n",
       " 'D_128|min',\n",
       " 'D_129|last',\n",
       " 'D_129|max',\n",
       " 'D_129|mean',\n",
       " 'D_130|last',\n",
       " 'D_130|max',\n",
       " 'D_131|last',\n",
       " 'D_131|max',\n",
       " 'D_131|min',\n",
       " 'D_132_mean2std',\n",
       " 'D_132|last',\n",
       " 'D_132|min',\n",
       " 'D_133|last',\n",
       " 'D_133|max',\n",
       " 'D_133|min',\n",
       " 'D_134|last',\n",
       " 'D_134|min',\n",
       " 'D_135_mean2std',\n",
       " 'D_135|last',\n",
       " 'D_136|last',\n",
       " 'D_137|last',\n",
       " 'D_138|last',\n",
       " 'D_139|last',\n",
       " 'D_139|mean',\n",
       " 'D_140|last',\n",
       " 'D_140|max',\n",
       " 'D_141|last',\n",
       " 'D_142|last',\n",
       " 'D_143|last',\n",
       " 'D_144|last',\n",
       " 'D_145|last',\n",
       " 'D_39|last',\n",
       " 'D_39|max',\n",
       " 'D_39|mean',\n",
       " 'D_41|last',\n",
       " 'D_41|max',\n",
       " 'D_41|mean',\n",
       " 'D_41|min',\n",
       " 'D_42_mean2std',\n",
       " 'D_42|last',\n",
       " 'D_42|max',\n",
       " 'D_42|mean',\n",
       " 'D_42|min',\n",
       " 'D_43|last',\n",
       " 'D_43|max',\n",
       " 'D_43|mean',\n",
       " 'D_43|min',\n",
       " 'D_44|last',\n",
       " 'D_44|max',\n",
       " 'D_44|mean',\n",
       " 'D_44|min',\n",
       " 'D_45|last',\n",
       " 'D_45|max',\n",
       " 'D_45|mean',\n",
       " 'D_45|min',\n",
       " 'D_46_mean2std',\n",
       " 'D_46|last',\n",
       " 'D_46|mean',\n",
       " 'D_46|min',\n",
       " 'D_47|last',\n",
       " 'D_48|last',\n",
       " 'D_48|max',\n",
       " 'D_48|mean',\n",
       " 'D_48|min',\n",
       " 'D_49_mean2std',\n",
       " 'D_49|last',\n",
       " 'D_50|last',\n",
       " 'D_51|last',\n",
       " 'D_51|mean',\n",
       " 'D_52_mean2std',\n",
       " 'D_52|last',\n",
       " 'D_52|max',\n",
       " 'D_52|mean',\n",
       " 'D_52|min',\n",
       " 'D_53_mean2std',\n",
       " 'D_53|last',\n",
       " 'D_53|max',\n",
       " 'D_53|min',\n",
       " 'D_54|last',\n",
       " 'D_55|last',\n",
       " 'D_55|min',\n",
       " 'D_56|last',\n",
       " 'D_56|min',\n",
       " 'D_58|last',\n",
       " 'D_58|min',\n",
       " 'D_59|last',\n",
       " 'D_59|max',\n",
       " 'D_60|last',\n",
       " 'D_60|max',\n",
       " 'D_61|last',\n",
       " 'D_61|max',\n",
       " 'D_61|mean',\n",
       " 'D_61|min',\n",
       " 'D_62|last',\n",
       " 'D_62|max',\n",
       " 'D_62|mean',\n",
       " 'D_62|min',\n",
       " 'D_64=U',\n",
       " 'D_65|last',\n",
       " 'D_65|max',\n",
       " 'D_65|mean',\n",
       " 'D_68=1.0',\n",
       " 'D_68|last',\n",
       " 'D_69|last',\n",
       " 'D_69|min',\n",
       " 'D_70_mean2std',\n",
       " 'D_70|last',\n",
       " 'D_70|max',\n",
       " 'D_70|min',\n",
       " 'D_71|last',\n",
       " 'D_72|last',\n",
       " 'D_72|max',\n",
       " 'D_72|min',\n",
       " 'D_73|last',\n",
       " 'D_74|last',\n",
       " 'D_74|max',\n",
       " 'D_74|mean',\n",
       " 'D_75|last',\n",
       " 'D_75|max',\n",
       " 'D_75|mean',\n",
       " 'D_76|last',\n",
       " 'D_77|last',\n",
       " 'D_77|max',\n",
       " 'D_77|mean',\n",
       " 'D_77|min',\n",
       " 'D_78|last',\n",
       " 'D_78|max',\n",
       " 'D_78|mean',\n",
       " 'D_79|last',\n",
       " 'D_79|max',\n",
       " 'D_80|last',\n",
       " 'D_81|last',\n",
       " 'D_81|max',\n",
       " 'D_81|mean',\n",
       " 'D_82|last',\n",
       " 'D_83|last',\n",
       " 'D_84|last',\n",
       " 'D_84|max',\n",
       " 'D_84|mean',\n",
       " 'D_86|last',\n",
       " 'D_87|last',\n",
       " 'D_88|last',\n",
       " 'D_89|last',\n",
       " 'D_89|max',\n",
       " 'D_89|mean',\n",
       " 'D_91|last',\n",
       " 'D_92|last',\n",
       " 'D_93|last',\n",
       " 'D_94|last',\n",
       " 'D_96|last',\n",
       " 'P_2|last',\n",
       " 'P_2|max',\n",
       " 'P_2|mean',\n",
       " 'P_2|min',\n",
       " 'P_3|last',\n",
       " 'P_3|max',\n",
       " 'P_3|mean',\n",
       " 'P_3|min',\n",
       " 'P_4|last',\n",
       " 'P_4|max',\n",
       " 'P_4|mean',\n",
       " 'P_4|min',\n",
       " 'R_10|last',\n",
       " 'R_10|max',\n",
       " 'R_10|mean',\n",
       " 'R_11|last',\n",
       " 'R_11|max',\n",
       " 'R_11|mean',\n",
       " 'R_12|last',\n",
       " 'R_12|max',\n",
       " 'R_12|mean',\n",
       " 'R_13_mean2std',\n",
       " 'R_13|last',\n",
       " 'R_13|max',\n",
       " 'R_13|mean',\n",
       " 'R_14|last',\n",
       " 'R_15|last',\n",
       " 'R_15|max',\n",
       " 'R_15|mean',\n",
       " 'R_16|last',\n",
       " 'R_16|max',\n",
       " 'R_16|mean',\n",
       " 'R_17|last',\n",
       " 'R_17|max',\n",
       " 'R_18|last',\n",
       " 'R_18|max',\n",
       " 'R_19|last',\n",
       " 'R_19|min',\n",
       " 'R_1|last',\n",
       " 'R_1|max',\n",
       " 'R_1|mean',\n",
       " 'R_1|min',\n",
       " 'R_20|last',\n",
       " 'R_20|max',\n",
       " 'R_20|mean',\n",
       " 'R_21|last',\n",
       " 'R_22|last',\n",
       " 'R_22|max',\n",
       " 'R_23|last',\n",
       " 'R_24|last',\n",
       " 'R_24|max',\n",
       " 'R_24|mean',\n",
       " 'R_25|last',\n",
       " 'R_25|max',\n",
       " 'R_26_mean2std',\n",
       " 'R_26|last',\n",
       " 'R_27|last',\n",
       " 'R_27|max',\n",
       " 'R_27|mean',\n",
       " 'R_27|min',\n",
       " 'R_28|last',\n",
       " 'R_2|last',\n",
       " 'R_2|max',\n",
       " 'R_2|mean',\n",
       " 'R_2|min',\n",
       " 'R_3|last',\n",
       " 'R_3|max',\n",
       " 'R_3|mean',\n",
       " 'R_3|min',\n",
       " 'R_4|last',\n",
       " 'R_4|max',\n",
       " 'R_4|mean',\n",
       " 'R_4|min',\n",
       " 'R_5|last',\n",
       " 'R_5|max',\n",
       " 'R_5|mean',\n",
       " 'R_6|last',\n",
       " 'R_6|max',\n",
       " 'R_6|mean',\n",
       " 'R_7|last',\n",
       " 'R_7|max',\n",
       " 'R_7|mean',\n",
       " 'R_8|last',\n",
       " 'R_8|max',\n",
       " 'R_8|mean',\n",
       " 'R_9_mean2std',\n",
       " 'R_9|last',\n",
       " 'S_11|last',\n",
       " 'S_11|mean',\n",
       " 'S_12|last',\n",
       " 'S_12|max',\n",
       " 'S_13|last',\n",
       " 'S_15|last',\n",
       " 'S_15|max',\n",
       " 'S_15|mean',\n",
       " 'S_16|last',\n",
       " 'S_17|last',\n",
       " 'S_17|min',\n",
       " 'S_18|last',\n",
       " 'S_19|last',\n",
       " 'S_20|last',\n",
       " 'S_20|max',\n",
       " 'S_22|last',\n",
       " 'S_22|max',\n",
       " 'S_22|mean',\n",
       " 'S_23|last',\n",
       " 'S_23|max',\n",
       " 'S_23|mean',\n",
       " 'S_24|last',\n",
       " 'S_25|last',\n",
       " 'S_25|mean',\n",
       " 'S_25|min',\n",
       " 'S_26|last',\n",
       " 'S_27_mean2std',\n",
       " 'S_27|last',\n",
       " 'S_3|last',\n",
       " 'S_3|max',\n",
       " 'S_3|mean',\n",
       " 'S_3|min',\n",
       " 'S_5|last',\n",
       " 'S_6|last',\n",
       " 'S_6|max',\n",
       " 'S_6|min',\n",
       " 'S_7|last',\n",
       " 'S_7|max',\n",
       " 'S_7|mean',\n",
       " 'S_7|min',\n",
       " 'S_8|last',\n",
       " 'S_8|mean',\n",
       " 'S_8|min',\n",
       " 'S_9|last',\n",
       " 'S_9|max',\n",
       " 'log_B_11|last',\n",
       " 'log_B_11|max',\n",
       " 'log_B_11|mean',\n",
       " 'log_B_11|min',\n",
       " 'log_B_12|last',\n",
       " 'log_B_12|max',\n",
       " 'log_B_13|last',\n",
       " 'log_B_18|last',\n",
       " 'log_B_18|max',\n",
       " 'log_B_18|mean',\n",
       " 'log_B_18|min',\n",
       " 'log_B_21|last',\n",
       " 'log_B_21|mean',\n",
       " 'log_B_22|last',\n",
       " 'log_B_22|max',\n",
       " 'log_B_22|mean',\n",
       " 'log_B_22|min',\n",
       " 'log_B_23|last',\n",
       " 'log_B_23|max',\n",
       " 'log_B_23|min',\n",
       " 'log_B_24|last',\n",
       " 'log_B_24|mean',\n",
       " 'log_B_26|last',\n",
       " 'log_B_26|max',\n",
       " 'log_B_26|mean',\n",
       " 'log_B_27|last',\n",
       " 'log_B_29|last',\n",
       " 'log_B_32|last',\n",
       " 'log_B_36|last',\n",
       " 'log_B_3|last',\n",
       " 'log_B_3|max',\n",
       " 'log_B_3|mean',\n",
       " 'log_B_3|min',\n",
       " 'log_B_40|last',\n",
       " 'log_B_40|max',\n",
       " 'log_B_40|mean',\n",
       " 'log_B_40|min',\n",
       " 'log_B_41|last',\n",
       " 'log_B_41|max',\n",
       " 'log_B_42|last',\n",
       " 'log_B_4|last',\n",
       " 'log_B_4|max',\n",
       " 'log_B_4|mean',\n",
       " 'log_B_4|min',\n",
       " 'log_B_5|last',\n",
       " 'log_B_9|last',\n",
       " 'log_B_9|max',\n",
       " 'log_B_9|mean',\n",
       " 'log_B_9|min',\n",
       " 'log_D_102|last',\n",
       " 'log_D_102|max',\n",
       " 'log_D_106|last',\n",
       " 'log_D_107|last',\n",
       " 'log_D_107|mean',\n",
       " 'log_D_107|min',\n",
       " 'log_D_108|last',\n",
       " 'log_D_109|last',\n",
       " 'log_D_113|last',\n",
       " 'log_D_113|min',\n",
       " 'log_D_115|last',\n",
       " 'log_D_118|last',\n",
       " 'log_D_118|mean',\n",
       " 'log_D_119|last',\n",
       " 'log_D_123|last',\n",
       " 'log_D_125|last',\n",
       " 'log_D_125|min',\n",
       " 'log_D_131|last',\n",
       " 'log_D_131|min',\n",
       " 'log_D_133|last',\n",
       " 'log_D_133|min',\n",
       " 'log_D_135|last',\n",
       " 'log_D_136|last',\n",
       " 'log_D_137|last',\n",
       " 'log_D_138|last',\n",
       " 'log_D_140|last',\n",
       " 'log_D_39|last',\n",
       " 'log_D_39|max',\n",
       " 'log_D_39|min',\n",
       " 'log_D_41|last',\n",
       " 'log_D_41|max',\n",
       " 'log_D_41|min',\n",
       " 'log_D_43|last',\n",
       " 'log_D_43|max',\n",
       " 'log_D_43|mean',\n",
       " 'log_D_43|min',\n",
       " 'log_D_44|last',\n",
       " 'log_D_44|max',\n",
       " 'log_D_44|mean',\n",
       " 'log_D_44|min',\n",
       " 'log_D_45|last',\n",
       " 'log_D_45|max',\n",
       " 'log_D_45|mean',\n",
       " 'log_D_45|min',\n",
       " 'log_D_49|last',\n",
       " 'log_D_51|last',\n",
       " 'log_D_51|max',\n",
       " 'log_D_51|min',\n",
       " 'log_D_60|last',\n",
       " 'log_D_60|min',\n",
       " 'log_R_28|last',\n",
       " 'log_S_26|last',\n",
       " 'log_S_5|last',\n",
       " 'log_S_5|mean'}"
      ]
     },
     "execution_count": 52,
     "metadata": {},
     "output_type": "execute_result"
    }
   ],
   "source": [
    "set(a)"
   ]
  },
  {
   "cell_type": "code",
   "execution_count": 53,
   "id": "985172e5",
   "metadata": {},
   "outputs": [
    {
     "name": "stdout",
     "output_type": "stream",
     "text": [
      "D_120=1.0\n",
      "B_30=1.0\n",
      "B_38=5.0\n",
      "B_38=7.0\n",
      "D_114=0.0\n",
      "B_38=6.0\n",
      "D_68=1.0\n",
      "B_30=0.0\n",
      "D_64=U\n",
      "B_30=2.0\n",
      "B_38=4.0\n"
     ]
    }
   ],
   "source": [
    "aa = []\n",
    "\n",
    "for c_ in a:\n",
    "    if '=' in c_:\n",
    "        aa.append(c_)\n",
    "        print(c_)\n",
    "    elif '|' in c_:\n",
    "        if 'log' not in c_:\n",
    "            aa.append(c_.replace('|', '__'))\n",
    "        else:\n",
    "            aa.append(c_.replace('log_', '').replace('|', '__') + '__log')\n",
    "    elif '_mean2std' in c_:\n",
    "        aa.append(c_.replace('_mean2std', '').replace('|', '__') + '__mean2std')\n",
    "    else:\n",
    "        print(c_)"
   ]
  },
  {
   "cell_type": "code",
   "execution_count": 54,
   "id": "c1f009aa",
   "metadata": {},
   "outputs": [
    {
     "name": "stdout",
     "output_type": "stream",
     "text": [
      "B_30=0.0\n",
      "B_30__nunique\n"
     ]
    }
   ],
   "source": [
    "for ff_ in final_list:\n",
    "    if 'B_30' in ff_:\n",
    "        print(ff_)"
   ]
  },
  {
   "cell_type": "code",
   "execution_count": 114,
   "id": "1b0eec34",
   "metadata": {},
   "outputs": [
    {
     "data": {
      "text/plain": [
       "(328, 527, 42)"
      ]
     },
     "execution_count": 114,
     "metadata": {},
     "output_type": "execute_result"
    }
   ],
   "source": [
    "len(final_list), len(aa), len(a)"
   ]
  },
  {
   "cell_type": "code",
   "execution_count": 59,
   "id": "e983ba39",
   "metadata": {},
   "outputs": [
    {
     "data": {
      "text/plain": [
       "(381, 343, 88)"
      ]
     },
     "execution_count": 59,
     "metadata": {},
     "output_type": "execute_result"
    }
   ],
   "source": [
    "len(set(aa)-set(final_list)), len((set(aa)-set(final_list)) & set(all_corr_feats)), len(set(final_list)-set(aa))"
   ]
  },
  {
   "cell_type": "code",
   "execution_count": 61,
   "id": "ddd6949c",
   "metadata": {},
   "outputs": [
    {
     "data": {
      "text/plain": [
       "(615, 146)"
      ]
     },
     "execution_count": 61,
     "metadata": {},
     "output_type": "execute_result"
    }
   ],
   "source": [
    "len(), len(set(aa)&set(final_list))"
   ]
  },
  {
   "cell_type": "code",
   "execution_count": 115,
   "id": "db733981",
   "metadata": {},
   "outputs": [
    {
     "name": "stdout",
     "output_type": "stream",
     "text": [
      "180\n",
      "['B_10__last', 'B_10__mean', 'B_11__last', 'B_11__last__log', 'B_11__mean', 'B_11__mean__log', 'B_11__min', 'B_16__last', 'B_16__max', 'B_18__last', 'B_18__last__log', 'B_18__mean__log', 'B_18__min', 'B_19__last', 'B_1__last', 'B_1__max', 'B_1__mean', 'B_1__min', 'B_20__last', 'B_20__max', 'B_20__mean', 'B_22__last', 'B_22__last__log', 'B_22__max', 'B_22__mean', 'B_22__mean__log', 'B_23__last', 'B_23__last__log', 'B_23__mean', 'B_23__min', 'B_26__last__log', 'B_28__last', 'B_2__last', 'B_2__mean', 'B_2__min', 'B_30=0.0', 'B_30=1.0', 'B_30__nunique', 'B_33__last', 'B_33__max', 'B_33__mean', 'B_33__min', 'B_37__last', 'B_37__max', 'B_37__mean', 'B_38__last', 'B_3__last', 'B_3__last__log', 'B_3__max', 'B_3__mean', 'B_3__mean__log', 'B_3__min', 'B_40__last', 'B_40__last__log', 'B_40__mean__log', 'B_40__min', 'B_4__last', 'B_4__last__log', 'B_4__max', 'B_4__mean__log', 'B_5__last__log', 'B_6__last', 'B_6__min', 'B_7__last', 'B_7__max', 'B_7__mean', 'B_7__min', 'B_8__last', 'B_8__min', 'B_9__last', 'B_9__last__log', 'B_9__max', 'B_9__mean', 'B_9__mean__log', 'B_9__min', 'D_112__last', 'D_39__last', 'D_39__last__log', 'D_39__max', 'D_41__last', 'D_41__last__log', 'D_41__max', 'D_42__last', 'D_42__max', 'D_42__mean', 'D_42__min', 'D_43__last', 'D_43__max', 'D_43__mean', 'D_43__mean__log', 'D_44__last', 'D_44__last__log', 'D_44__max', 'D_44__mean', 'D_44__mean__log', 'D_44__min', 'D_45__last', 'D_45__last__log', 'D_45__max', 'D_45__mean', 'D_45__mean__log', 'D_45__min', 'D_48__last', 'D_48__max', 'D_48__mean', 'D_48__min', 'D_52__last', 'D_52__max', 'D_52__mean', 'D_52__min', 'D_53__max', 'D_55__last', 'D_58__last', 'D_58__min', 'D_61__last', 'D_61__max', 'D_61__mean', 'D_61__min', 'D_62__last', 'D_62__max', 'D_62__mean', 'D_62__min', 'D_70__max', 'D_74__last', 'D_74__max', 'D_74__mean', 'D_75__last', 'D_75__max', 'D_75__mean', 'D_77__last', 'D_77__max', 'D_77__mean', 'D_77__min', 'D_78__max', 'D_78__mean', 'D_84__mean', 'P_2__last', 'P_2__max', 'P_2__mean', 'P_2__min', 'P_3__last', 'P_3__mean', 'P_3__min', 'R_10__max', 'R_10__mean', 'R_1__last', 'R_1__max', 'R_1__mean', 'R_2__last', 'R_2__max', 'R_2__mean', 'R_3__max', 'R_3__mean', 'R_3__min', 'R_4__last', 'R_4__max', 'R_4__mean', 'R_5__last', 'R_5__max', 'R_5__mean', 'R_6__max', 'R_6__mean', 'R_7__mean', 'R_8__mean', 'S_15__max', 'S_15__mean', 'S_22__last', 'S_23__last', 'S_25__mean', 'S_25__min', 'S_3__last', 'S_3__max', 'S_3__mean', 'S_3__min', 'S_7__last', 'S_7__max', 'S_7__mean', 'S_8__last', 'S_8__mean', 'S_8__min']\n"
     ]
    }
   ],
   "source": [
    "ss = list(set(aa)&set(final_list)-set(not_in_test))\n",
    "ss.sort()\n",
    "print(len(ss))\n",
    "print(ss)"
   ]
  },
  {
   "cell_type": "code",
   "execution_count": 98,
   "id": "4aa614cc",
   "metadata": {},
   "outputs": [
    {
     "name": "stdout",
     "output_type": "stream",
     "text": [
      "527\n",
      "['B_10__last', 'B_10__mean', 'B_11__last', 'B_11__last__log', 'B_11__max__log', 'B_11__mean', 'B_11__mean__log', 'B_11__min', 'B_11__min__log', 'B_12__last', 'B_12__last__log', 'B_12__max__log', 'B_13__last', 'B_13__last__log', 'B_14__last', 'B_14__min', 'B_15__last', 'B_15__mean', 'B_16__last', 'B_16__max', 'B_16__min', 'B_17__last', 'B_17__max', 'B_17__mean', 'B_17__mean2std', 'B_17__min', 'B_18__last', 'B_18__last__log', 'B_18__max__log', 'B_18__mean__log', 'B_18__min', 'B_18__min__log', 'B_19__last', 'B_19__min', 'B_1__last', 'B_1__max', 'B_1__mean', 'B_1__min', 'B_20__last', 'B_20__max', 'B_20__mean', 'B_20__min', 'B_21__last', 'B_21__last__log', 'B_21__max', 'B_21__mean__log', 'B_22__last', 'B_22__last__log', 'B_22__max', 'B_22__max__log', 'B_22__mean', 'B_22__mean__log', 'B_22__min', 'B_22__min__log', 'B_23__last', 'B_23__last__log', 'B_23__max__log', 'B_23__mean', 'B_23__min', 'B_23__min__log', 'B_24__last', 'B_24__last__log', 'B_24__mean', 'B_24__mean__log', 'B_25__last', 'B_25__min', 'B_26__last', 'B_26__last__log', 'B_26__max__log', 'B_26__mean__log', 'B_27__last', 'B_27__last__log', 'B_28__last', 'B_29__last', 'B_29__last__log', 'B_2__last', 'B_2__mean', 'B_2__min', 'B_30=0.0', 'B_30=1.0', 'B_30=2.0', 'B_30__last', 'B_30__nunique', 'B_31__last', 'B_31__nunique', 'B_32__last', 'B_32__last__log', 'B_32__max', 'B_33__last', 'B_33__max', 'B_33__mean', 'B_33__min', 'B_36__last', 'B_36__last__log', 'B_37__last', 'B_37__max', 'B_37__mean', 'B_38=4.0', 'B_38=5.0', 'B_38=6.0', 'B_38=7.0', 'B_38__last', 'B_38__nunique', 'B_39__last', 'B_3__last', 'B_3__last__log', 'B_3__max', 'B_3__max__log', 'B_3__mean', 'B_3__mean__log', 'B_3__min', 'B_3__min__log', 'B_40__last', 'B_40__last__log', 'B_40__max__log', 'B_40__mean__log', 'B_40__min', 'B_40__min__log', 'B_41__last', 'B_41__last__log', 'B_41__max__log', 'B_42__last', 'B_42__last__log', 'B_4__last', 'B_4__last__log', 'B_4__max', 'B_4__max__log', 'B_4__mean2std', 'B_4__mean__log', 'B_4__min__log', 'B_5__last', 'B_5__last__log', 'B_5__mean', 'B_6__last', 'B_6__min', 'B_7__last', 'B_7__max', 'B_7__mean', 'B_7__min', 'B_8__last', 'B_8__max', 'B_8__mean', 'B_8__min', 'B_9__last', 'B_9__last__log', 'B_9__max', 'B_9__max__log', 'B_9__mean', 'B_9__mean__log', 'B_9__min', 'B_9__min__log', 'D_102__last', 'D_102__last__log', 'D_102__max', 'D_102__max__log', 'D_103__last', 'D_104__last', 'D_105__last', 'D_105__max', 'D_106__last', 'D_106__last__log', 'D_107__last', 'D_107__last__log', 'D_107__max', 'D_107__mean__log', 'D_107__min__log', 'D_108__last', 'D_108__last__log', 'D_109__last', 'D_109__last__log', 'D_109__mean', 'D_110__last', 'D_111__last', 'D_112__last', 'D_113__last', 'D_113__last__log', 'D_113__max', 'D_113__min__log', 'D_114=0.0', 'D_114__last', 'D_114__nunique', 'D_115__last', 'D_115__last__log', 'D_116__last', 'D_117__last', 'D_118__last', 'D_118__last__log', 'D_118__mean__log', 'D_119__last', 'D_119__last__log', 'D_120=1.0', 'D_120__last', 'D_120__nunique', 'D_121__last', 'D_122__last', 'D_122__max', 'D_122__min', 'D_123__last', 'D_123__last__log', 'D_123__mean', 'D_124__last', 'D_125__last', 'D_125__last__log', 'D_125__min__log', 'D_126__last', 'D_127__last', 'D_128__last', 'D_128__max', 'D_128__min', 'D_129__last', 'D_129__max', 'D_129__mean', 'D_130__last', 'D_130__max', 'D_131__last', 'D_131__last__log', 'D_131__max', 'D_131__min', 'D_131__min__log', 'D_132__last', 'D_132__mean2std', 'D_132__min', 'D_133__last', 'D_133__last__log', 'D_133__max', 'D_133__min', 'D_133__min__log', 'D_134__last', 'D_134__min', 'D_135__last', 'D_135__last__log', 'D_135__mean2std', 'D_136__last', 'D_136__last__log', 'D_137__last', 'D_137__last__log', 'D_138__last', 'D_138__last__log', 'D_139__last', 'D_139__mean', 'D_140__last', 'D_140__last__log', 'D_140__max', 'D_141__last', 'D_142__last', 'D_143__last', 'D_144__last', 'D_145__last', 'D_39__last', 'D_39__last__log', 'D_39__max', 'D_39__max__log', 'D_39__mean', 'D_39__min__log', 'D_41__last', 'D_41__last__log', 'D_41__max', 'D_41__max__log', 'D_41__mean', 'D_41__min', 'D_41__min__log', 'D_42__last', 'D_42__max', 'D_42__mean', 'D_42__mean2std', 'D_42__min', 'D_43__last', 'D_43__last__log', 'D_43__max', 'D_43__max__log', 'D_43__mean', 'D_43__mean__log', 'D_43__min', 'D_43__min__log', 'D_44__last', 'D_44__last__log', 'D_44__max', 'D_44__max__log', 'D_44__mean', 'D_44__mean__log', 'D_44__min', 'D_44__min__log', 'D_45__last', 'D_45__last__log', 'D_45__max', 'D_45__max__log', 'D_45__mean', 'D_45__mean__log', 'D_45__min', 'D_45__min__log', 'D_46__last', 'D_46__mean', 'D_46__mean2std', 'D_46__min', 'D_47__last', 'D_48__last', 'D_48__max', 'D_48__mean', 'D_48__min', 'D_49__last', 'D_49__last__log', 'D_49__mean2std', 'D_50__last', 'D_51__last', 'D_51__last__log', 'D_51__max__log', 'D_51__mean', 'D_51__min__log', 'D_52__last', 'D_52__max', 'D_52__mean', 'D_52__mean2std', 'D_52__min', 'D_53__last', 'D_53__max', 'D_53__mean2std', 'D_53__min', 'D_54__last', 'D_55__last', 'D_55__min', 'D_56__last', 'D_56__min', 'D_58__last', 'D_58__min', 'D_59__last', 'D_59__max', 'D_60__last', 'D_60__last__log', 'D_60__max', 'D_60__min__log', 'D_61__last', 'D_61__max', 'D_61__mean', 'D_61__min', 'D_62__last', 'D_62__max', 'D_62__mean', 'D_62__min', 'D_64=U', 'D_65__last', 'D_65__max', 'D_65__mean', 'D_68=1.0', 'D_68__last', 'D_69__last', 'D_69__min', 'D_70__last', 'D_70__max', 'D_70__mean2std', 'D_70__min', 'D_71__last', 'D_72__last', 'D_72__max', 'D_72__min', 'D_73__last', 'D_74__last', 'D_74__max', 'D_74__mean', 'D_75__last', 'D_75__max', 'D_75__mean', 'D_76__last', 'D_77__last', 'D_77__max', 'D_77__mean', 'D_77__min', 'D_78__last', 'D_78__max', 'D_78__mean', 'D_79__last', 'D_79__max', 'D_80__last', 'D_81__last', 'D_81__max', 'D_81__mean', 'D_82__last', 'D_83__last', 'D_84__last', 'D_84__max', 'D_84__mean', 'D_86__last', 'D_87__last', 'D_88__last', 'D_89__last', 'D_89__max', 'D_89__mean', 'D_91__last', 'D_92__last', 'D_93__last', 'D_94__last', 'D_96__last', 'P_2__last', 'P_2__max', 'P_2__mean', 'P_2__min', 'P_3__last', 'P_3__max', 'P_3__mean', 'P_3__min', 'P_4__last', 'P_4__max', 'P_4__mean', 'P_4__min', 'R_10__last', 'R_10__max', 'R_10__mean', 'R_11__last', 'R_11__max', 'R_11__mean', 'R_12__last', 'R_12__max', 'R_12__mean', 'R_13__last', 'R_13__max', 'R_13__mean', 'R_13__mean2std', 'R_14__last', 'R_15__last', 'R_15__max', 'R_15__mean', 'R_16__last', 'R_16__max', 'R_16__mean', 'R_17__last', 'R_17__max', 'R_18__last', 'R_18__max', 'R_19__last', 'R_19__min', 'R_1__last', 'R_1__max', 'R_1__mean', 'R_1__min', 'R_20__last', 'R_20__max', 'R_20__mean', 'R_21__last', 'R_22__last', 'R_22__max', 'R_23__last', 'R_24__last', 'R_24__max', 'R_24__mean', 'R_25__last', 'R_25__max', 'R_26__last', 'R_26__mean2std', 'R_27__last', 'R_27__max', 'R_27__mean', 'R_27__min', 'R_28__last', 'R_28__last__log', 'R_2__last', 'R_2__max', 'R_2__mean', 'R_2__min', 'R_3__last', 'R_3__max', 'R_3__mean', 'R_3__min', 'R_4__last', 'R_4__max', 'R_4__mean', 'R_4__min', 'R_5__last', 'R_5__max', 'R_5__mean', 'R_6__last', 'R_6__max', 'R_6__mean', 'R_7__last', 'R_7__max', 'R_7__mean', 'R_8__last', 'R_8__max', 'R_8__mean', 'R_9__last', 'R_9__mean2std', 'S_11__last', 'S_11__mean', 'S_12__last', 'S_12__max', 'S_13__last', 'S_15__last', 'S_15__max', 'S_15__mean', 'S_16__last', 'S_17__last', 'S_17__min', 'S_18__last', 'S_19__last', 'S_20__last', 'S_20__max', 'S_22__last', 'S_22__max', 'S_22__mean', 'S_23__last', 'S_23__max', 'S_23__mean', 'S_24__last', 'S_25__last', 'S_25__mean', 'S_25__min', 'S_26__last', 'S_26__last__log', 'S_27__last', 'S_27__mean2std', 'S_3__last', 'S_3__max', 'S_3__mean', 'S_3__min', 'S_5__last', 'S_5__last__log', 'S_5__mean__log', 'S_6__last', 'S_6__max', 'S_6__min', 'S_7__last', 'S_7__max', 'S_7__mean', 'S_7__min', 'S_8__last', 'S_8__mean', 'S_8__min', 'S_9__last', 'S_9__max']\n"
     ]
    }
   ],
   "source": [
    "ss = list(set(aa)-set(not_in_test))\n",
    "ss.sort()\n",
    "print(len(ss))\n",
    "print(ss)"
   ]
  },
  {
   "cell_type": "code",
   "execution_count": 97,
   "id": "4e35382a",
   "metadata": {},
   "outputs": [
    {
     "name": "stdout",
     "output_type": "stream",
     "text": [
      "589\n",
      "['B_10__last', 'B_10__mean', 'B_11__last', 'B_11__last2max', 'B_11__last__log', 'B_11__max__log', 'B_11__mean', 'B_11__mean__log', 'B_11__min', 'B_11__min__log', 'B_12__last', 'B_12__last__log', 'B_12__max__log', 'B_13__last', 'B_13__last__log', 'B_14__last', 'B_14__last2max', 'B_14__min', 'B_15__last', 'B_15__mean', 'B_16__last', 'B_16__max', 'B_16__min', 'B_17__last', 'B_17__max', 'B_17__mean', 'B_17__mean2std', 'B_17__min', 'B_18__last', 'B_18__last__log', 'B_18__max__log', 'B_18__mean', 'B_18__mean__log', 'B_18__min', 'B_18__min__log', 'B_19__last', 'B_19__last__log', 'B_19__min', 'B_1__last', 'B_1__last2max', 'B_1__max', 'B_1__mean', 'B_1__min', 'B_20__last', 'B_20__last__log', 'B_20__max', 'B_20__mean', 'B_20__mean__log', 'B_20__min', 'B_21__last', 'B_21__last__log', 'B_21__max', 'B_21__mean__log', 'B_22__last', 'B_22__last__log', 'B_22__max', 'B_22__max__log', 'B_22__mean', 'B_22__mean__log', 'B_22__min', 'B_22__min__log', 'B_23__last', 'B_23__last__log', 'B_23__max__log', 'B_23__mean', 'B_23__min', 'B_23__min__log', 'B_24__last', 'B_24__last__log', 'B_24__mean', 'B_24__mean__log', 'B_25__last', 'B_25__last2max', 'B_25__min', 'B_26__last', 'B_26__last__log', 'B_26__max__log', 'B_26__mean__log', 'B_27__last', 'B_27__last__log', 'B_28__last', 'B_29__last', 'B_29__last__log', 'B_2__last', 'B_2__last2max', 'B_2__last__log', 'B_2__mean', 'B_2__mean__log', 'B_2__min', 'B_30=0.0', 'B_30=1.0', 'B_30=2.0', 'B_30__last', 'B_30__nunique', 'B_31__last', 'B_31__nunique', 'B_32__last', 'B_32__last__log', 'B_32__max', 'B_33__last', 'B_33__last2max', 'B_33__last__log', 'B_33__max', 'B_33__mean', 'B_33__mean__log', 'B_33__min', 'B_36__last', 'B_36__last__log', 'B_37__last', 'B_37__last2max', 'B_37__max', 'B_37__mean', 'B_38=4.0', 'B_38=5.0', 'B_38=6.0', 'B_38=7.0', 'B_38__last', 'B_38__nunique', 'B_39__last', 'B_3__last', 'B_3__last__log', 'B_3__max', 'B_3__max__log', 'B_3__mean', 'B_3__mean__log', 'B_3__min', 'B_3__min__log', 'B_3__std', 'B_40__last', 'B_40__last__log', 'B_40__max__log', 'B_40__mean__log', 'B_40__min', 'B_40__min__log', 'B_41__last', 'B_41__last__log', 'B_41__max__log', 'B_42__last', 'B_42__last__log', 'B_4__last', 'B_4__last2max', 'B_4__last__log', 'B_4__max', 'B_4__max__log', 'B_4__mean2std', 'B_4__mean__log', 'B_4__min__log', 'B_5__last', 'B_5__last__log', 'B_5__mean', 'B_6__last', 'B_6__min', 'B_7__last', 'B_7__max', 'B_7__mean', 'B_7__min', 'B_8__last', 'B_8__last__log', 'B_8__max', 'B_8__mean', 'B_8__mean__log', 'B_8__min', 'B_9__last', 'B_9__last2max', 'B_9__last__log', 'B_9__max', 'B_9__max__log', 'B_9__mean', 'B_9__mean__log', 'B_9__min', 'B_9__min__log', 'D_102__last', 'D_102__last__log', 'D_102__max', 'D_102__max__log', 'D_103__last', 'D_104__last', 'D_105__last', 'D_105__max', 'D_106__last', 'D_106__last__log', 'D_107__last', 'D_107__last__log', 'D_107__max', 'D_107__mean__log', 'D_107__min__log', 'D_108__last', 'D_108__last__log', 'D_109__last', 'D_109__last__log', 'D_109__mean', 'D_110__last', 'D_111__last', 'D_112__last', 'D_112__last__log', 'D_113__last', 'D_113__last__log', 'D_113__max', 'D_113__min__log', 'D_114=0.0', 'D_114__last', 'D_114__nunique', 'D_115__last', 'D_115__last__log', 'D_116__last', 'D_117__last', 'D_118__last', 'D_118__last__log', 'D_118__mean__log', 'D_119__last', 'D_119__last__log', 'D_120=1.0', 'D_120__last', 'D_120__nunique', 'D_121__last', 'D_122__last', 'D_122__max', 'D_122__min', 'D_123__last', 'D_123__last__log', 'D_123__mean', 'D_124__last', 'D_125__last', 'D_125__last__log', 'D_125__min__log', 'D_126__last', 'D_127__last', 'D_128__last', 'D_128__max', 'D_128__min', 'D_129__last', 'D_129__max', 'D_129__mean', 'D_130__last', 'D_130__max', 'D_131__last', 'D_131__last__log', 'D_131__max', 'D_131__min', 'D_131__min__log', 'D_132__last', 'D_132__mean2std', 'D_132__min', 'D_133__last', 'D_133__last__log', 'D_133__max', 'D_133__min', 'D_133__min__log', 'D_134__last', 'D_134__min', 'D_135__last', 'D_135__last__log', 'D_135__mean2std', 'D_136__last', 'D_136__last__log', 'D_137__last', 'D_137__last__log', 'D_138__last', 'D_138__last__log', 'D_139__last', 'D_139__mean', 'D_140__last', 'D_140__last__log', 'D_140__max', 'D_141__last', 'D_142__last', 'D_143__last', 'D_144__last', 'D_145__last', 'D_39__last', 'D_39__last__log', 'D_39__max', 'D_39__max__log', 'D_39__mean', 'D_39__min__log', 'D_39__range', 'D_39__std', 'D_41__last', 'D_41__last__log', 'D_41__max', 'D_41__max__log', 'D_41__mean', 'D_41__min', 'D_41__min__log', 'D_42__first', 'D_42__last', 'D_42__max', 'D_42__mean', 'D_42__mean2std', 'D_42__min', 'D_43__last', 'D_43__last__log', 'D_43__max', 'D_43__max__log', 'D_43__mean', 'D_43__mean__log', 'D_43__min', 'D_43__min__log', 'D_44__last', 'D_44__last2max', 'D_44__last__log', 'D_44__max', 'D_44__max__log', 'D_44__mean', 'D_44__mean__log', 'D_44__min', 'D_44__min__log', 'D_44__range', 'D_44__std', 'D_45__first', 'D_45__last', 'D_45__last__log', 'D_45__max', 'D_45__max__log', 'D_45__mean', 'D_45__mean__log', 'D_45__min', 'D_45__min__log', 'D_46__last', 'D_46__mean', 'D_46__mean2std', 'D_46__min', 'D_47__last', 'D_48__first', 'D_48__last', 'D_48__max', 'D_48__mean', 'D_48__min', 'D_49__last', 'D_49__last__log', 'D_49__mean2std', 'D_50__last', 'D_51__last', 'D_51__last__log', 'D_51__max__log', 'D_51__mean', 'D_51__min__log', 'D_52__last', 'D_52__max', 'D_52__mean', 'D_52__mean2std', 'D_52__min', 'D_53__last', 'D_53__last__log', 'D_53__max', 'D_53__mean2std', 'D_53__min', 'D_54__last', 'D_55__last', 'D_55__last__log', 'D_55__max', 'D_55__min', 'D_56__last', 'D_56__min', 'D_58__last', 'D_58__min', 'D_59__last', 'D_59__max', 'D_60__last', 'D_60__last__log', 'D_60__max', 'D_60__min__log', 'D_61__last', 'D_61__max', 'D_61__mean', 'D_61__min', 'D_62__last', 'D_62__max', 'D_62__mean', 'D_62__min', 'D_64=U', 'D_65__last', 'D_65__last__log', 'D_65__max', 'D_65__mean', 'D_65__mean__log', 'D_68=1.0', 'D_68__last', 'D_69__last', 'D_69__min', 'D_70__last', 'D_70__max', 'D_70__mean2std', 'D_70__min', 'D_71__last', 'D_72__last', 'D_72__max', 'D_72__min', 'D_73__last', 'D_74__last', 'D_74__max', 'D_74__mean', 'D_75__last', 'D_75__last__log', 'D_75__max', 'D_75__mean', 'D_75__mean__log', 'D_76__last', 'D_77__last', 'D_77__max', 'D_77__mean', 'D_77__min', 'D_78__last', 'D_78__max', 'D_78__mean', 'D_78__mean__log', 'D_79__last', 'D_79__max', 'D_80__last', 'D_81__last', 'D_81__max', 'D_81__mean', 'D_82__last', 'D_83__last', 'D_84__last', 'D_84__max', 'D_84__mean', 'D_86__last', 'D_87__last', 'D_88__last', 'D_89__last', 'D_89__max', 'D_89__mean', 'D_91__last', 'D_92__last', 'D_93__last', 'D_94__last', 'D_96__last', 'P_2__first', 'P_2__last', 'P_2__last2max', 'P_2__max', 'P_2__mean', 'P_2__min', 'P_3__last', 'P_3__max', 'P_3__mean', 'P_3__min', 'P_4__last', 'P_4__max', 'P_4__mean', 'P_4__min', 'R_10__last', 'R_10__max', 'R_10__mean', 'R_10__mean__log', 'R_10__std', 'R_11__last', 'R_11__max', 'R_11__mean', 'R_12__last', 'R_12__max', 'R_12__mean', 'R_13__last', 'R_13__max', 'R_13__mean', 'R_13__mean2std', 'R_14__last', 'R_15__last', 'R_15__max', 'R_15__mean', 'R_16__last', 'R_16__max', 'R_16__mean', 'R_16__mean__log', 'R_17__last', 'R_17__max', 'R_18__last', 'R_18__max', 'R_19__last', 'R_19__min', 'R_1__last', 'R_1__last__log', 'R_1__max', 'R_1__mean', 'R_1__mean__log', 'R_1__min', 'R_1__range', 'R_1__std', 'R_20__last', 'R_20__max', 'R_20__mean', 'R_21__last', 'R_22__last', 'R_22__max', 'R_23__last', 'R_24__last', 'R_24__max', 'R_24__mean', 'R_25__last', 'R_25__max', 'R_26__last', 'R_26__mean2std', 'R_27__last', 'R_27__max', 'R_27__mean', 'R_27__min', 'R_28__last', 'R_28__last__log', 'R_2__last', 'R_2__last__log', 'R_2__max', 'R_2__mean', 'R_2__mean__log', 'R_2__min', 'R_2__range', 'R_2__std', 'R_3__last', 'R_3__last__log', 'R_3__max', 'R_3__mean', 'R_3__mean__log', 'R_3__min', 'R_4__last', 'R_4__max', 'R_4__mean', 'R_4__mean__log', 'R_4__min', 'R_5__last', 'R_5__max', 'R_5__mean', 'R_5__mean__log', 'R_5__range', 'R_6__last', 'R_6__last__log', 'R_6__max', 'R_6__mean', 'R_6__mean__log', 'R_7__last', 'R_7__max', 'R_7__mean', 'R_7__range', 'R_8__last', 'R_8__max', 'R_8__mean', 'R_8__mean__log', 'R_9__last', 'R_9__mean2std', 'S_11__last', 'S_11__mean', 'S_12__last', 'S_12__max', 'S_13__last', 'S_15__last', 'S_15__max', 'S_15__mean', 'S_16__last', 'S_17__last', 'S_17__min', 'S_18__last', 'S_19__last', 'S_20__last', 'S_20__max', 'S_22__last', 'S_22__max', 'S_22__mean', 'S_23__last', 'S_23__max', 'S_23__mean', 'S_24__last', 'S_25__last', 'S_25__last2max', 'S_25__mean', 'S_25__min', 'S_25__range', 'S_25__std', 'S_26__last', 'S_26__last__log', 'S_27__last', 'S_27__mean2std', 'S_3__last', 'S_3__max', 'S_3__mean', 'S_3__min', 'S_5__last', 'S_5__last__log', 'S_5__mean__log', 'S_6__last', 'S_6__max', 'S_6__min', 'S_7__last', 'S_7__max', 'S_7__mean', 'S_7__min', 'S_8__last', 'S_8__mean', 'S_8__min', 'S_9__last', 'S_9__max']\n"
     ]
    }
   ],
   "source": [
    "ss = list(set(aa)|set(final_list)-set(not_in_test))\n",
    "ss.sort()\n",
    "print(len(ss))\n",
    "print(ss)"
   ]
  },
  {
   "cell_type": "code",
   "execution_count": 75,
   "id": "3266cc59",
   "metadata": {},
   "outputs": [],
   "source": [
    "addtional155 = list((set(aa)-set(final_list)) & set(all_corr_feats))"
   ]
  },
  {
   "cell_type": "code",
   "execution_count": 81,
   "id": "60d9692e",
   "metadata": {},
   "outputs": [
    {
     "name": "stdout",
     "output_type": "stream",
     "text": [
      "['B_13__last', 'B_13__last__log', 'B_15__last', 'B_15__mean', 'B_17__max', 'B_21__last', 'B_21__last__log', 'B_21__max', 'B_24__last', 'B_24__last__log', 'B_24__mean', 'B_27__last', 'B_27__last__log', 'B_29__last', 'B_29__last__log', 'B_31__last', 'B_32__last', 'B_32__last__log', 'B_36__last', 'B_36__last__log', 'B_38=7.0', 'B_39__last', 'B_41__last', 'B_41__last__log', 'B_42__last', 'B_42__last__log', 'B_4__mean2std', 'B_5__last', 'B_5__mean', 'D_102__last', 'D_102__last__log', 'D_102__max', 'D_103__last', 'D_104__last', 'D_105__last', 'D_105__max', 'D_106__last', 'D_106__last__log', 'D_107__last', 'D_107__last__log', 'D_107__max', 'D_107__mean__log', 'D_108__last', 'D_108__last__log', 'D_109__last', 'D_109__last__log', 'D_109__mean', 'D_110__last', 'D_111__last', 'D_114__last', 'D_116__last', 'D_117__last', 'D_120__last', 'D_123__last', 'D_123__last__log', 'D_123__mean', 'D_124__last', 'D_125__last', 'D_125__last__log', 'D_126__last', 'D_129__last', 'D_129__max', 'D_129__mean', 'D_132__last', 'D_132__min', 'D_133__min', 'D_134__last', 'D_134__min', 'D_135__last', 'D_135__last__log', 'D_136__last', 'D_136__last__log', 'D_137__last', 'D_137__last__log', 'D_138__last', 'D_138__last__log', 'D_139__last', 'D_139__mean', 'D_140__last', 'D_140__last__log', 'D_140__max', 'D_141__last', 'D_142__last', 'D_143__last', 'D_144__last', 'D_145__last', 'D_41__min', 'D_46__mean2std', 'D_49__last', 'D_49__last__log', 'D_50__last', 'D_52__mean2std', 'D_56__last', 'D_56__min', 'D_60__last', 'D_60__last__log', 'D_60__max', 'D_64=U', 'D_68=1.0', 'D_68__last', 'D_69__last', 'D_69__min', 'D_70__mean2std', 'D_72__min', 'D_73__last', 'D_76__last', 'D_80__last', 'D_82__last', 'D_83__last', 'D_86__last', 'D_87__last', 'D_88__last', 'D_91__last', 'D_93__last', 'D_94__last', 'D_96__last', 'R_11__last', 'R_12__max', 'R_13__mean2std', 'R_14__last', 'R_16__last', 'R_17__last', 'R_18__last', 'R_18__max', 'R_19__last', 'R_19__min', 'R_22__last', 'R_23__last', 'R_25__last', 'R_26__last', 'R_28__last', 'R_28__last__log', 'R_2__min', 'R_4__min', 'R_9__last', 'S_11__last', 'S_11__mean', 'S_12__last', 'S_12__max', 'S_16__last', 'S_17__last', 'S_17__min', 'S_18__last', 'S_19__last', 'S_20__last', 'S_26__last', 'S_26__last__log', 'S_27__last', 'S_27__mean2std', 'S_5__last', 'S_6__last', 'S_6__max', 'S_6__min', 'S_9__last', 'S_9__max']\n"
     ]
    }
   ],
   "source": [
    "addtional155.sort()\n",
    "print(addtional155)"
   ]
  },
  {
   "cell_type": "code",
   "execution_count": 80,
   "id": "3f4e14b9",
   "metadata": {},
   "outputs": [
    {
     "name": "stdout",
     "output_type": "stream",
     "text": [
      "D_60__min__log False\n",
      "B_40__max__log True\n",
      "D_43__min__log True\n",
      "D_39__min__log False\n",
      "D_113__min__log True\n",
      "B_40__min__log True\n",
      "B_3__min__log True\n",
      "D_44__max__log True\n",
      "B_18__max__log True\n",
      "D_107__min__log False\n",
      "B_41__max__log False\n",
      "D_44__min__log True\n",
      "D_51__max__log True\n",
      "B_11__min__log True\n",
      "D_133__min__log False\n",
      "B_9__max__log True\n",
      "B_23__max__log True\n",
      "D_131__min__log True\n",
      "D_41__min__log False\n",
      "B_4__max__log True\n",
      "B_23__min__log True\n",
      "D_51__min__log True\n",
      "D_125__min__log False\n",
      "D_43__max__log True\n",
      "D_39__max__log True\n",
      "B_11__max__log True\n",
      "D_102__max__log False\n",
      "B_4__min__log True\n",
      "D_41__max__log True\n",
      "D_45__min__log True\n",
      "B_22__min__log True\n",
      "B_22__max__log True\n",
      "B_9__min__log True\n",
      "B_18__min__log True\n",
      "B_3__max__log True\n",
      "D_45__max__log True\n",
      "B_12__max__log True\n",
      "B_26__max__log True\n"
     ]
    }
   ],
   "source": [
    "for cc0_ in set(aa)-set(all_corr_feats):\n",
    "    print(cc0_, cc0_.replace('__log', '') in final_list)"
   ]
  },
  {
   "cell_type": "code",
   "execution_count": 79,
   "id": "b56278c4",
   "metadata": {},
   "outputs": [
    {
     "data": {
      "text/plain": [
       "True"
      ]
     },
     "execution_count": 79,
     "metadata": {},
     "output_type": "execute_result"
    }
   ],
   "source": [
    "'B_11__min' in final_list"
   ]
  },
  {
   "cell_type": "code",
   "execution_count": 73,
   "id": "3434ce4f",
   "metadata": {},
   "outputs": [
    {
     "data": {
      "text/plain": [
       "(38,\n",
       " {'B_11__max__log',\n",
       "  'B_11__min__log',\n",
       "  'B_12__max__log',\n",
       "  'B_18__max__log',\n",
       "  'B_18__min__log',\n",
       "  'B_22__max__log',\n",
       "  'B_22__min__log',\n",
       "  'B_23__max__log',\n",
       "  'B_23__min__log',\n",
       "  'B_26__max__log',\n",
       "  'B_3__max__log',\n",
       "  'B_3__min__log',\n",
       "  'B_40__max__log',\n",
       "  'B_40__min__log',\n",
       "  'B_41__max__log',\n",
       "  'B_4__max__log',\n",
       "  'B_4__min__log',\n",
       "  'B_9__max__log',\n",
       "  'B_9__min__log',\n",
       "  'D_102__max__log',\n",
       "  'D_107__min__log',\n",
       "  'D_113__min__log',\n",
       "  'D_125__min__log',\n",
       "  'D_131__min__log',\n",
       "  'D_133__min__log',\n",
       "  'D_39__max__log',\n",
       "  'D_39__min__log',\n",
       "  'D_41__max__log',\n",
       "  'D_41__min__log',\n",
       "  'D_43__max__log',\n",
       "  'D_43__min__log',\n",
       "  'D_44__max__log',\n",
       "  'D_44__min__log',\n",
       "  'D_45__max__log',\n",
       "  'D_45__min__log',\n",
       "  'D_51__max__log',\n",
       "  'D_51__min__log',\n",
       "  'D_60__min__log'})"
      ]
     },
     "execution_count": 73,
     "metadata": {},
     "output_type": "execute_result"
    }
   ],
   "source": [
    "\n",
    "len(set(aa)-set(all_corr_feats)), set(aa)-set(all_corr_feats)"
   ]
  },
  {
   "cell_type": "markdown",
   "id": "e90f1016",
   "metadata": {},
   "source": [
    "## from v3 data"
   ]
  },
  {
   "cell_type": "code",
   "execution_count": 6,
   "id": "848b06d6",
   "metadata": {},
   "outputs": [
    {
     "data": {
      "text/plain": [
       "(185, 185)"
      ]
     },
     "execution_count": 6,
     "metadata": {},
     "output_type": "execute_result"
    }
   ],
   "source": [
    "log_file='amex/agg_v3/test_agg_median.csv'\n",
    "test_agg_median = pd.read_csv(log_file)\n",
    "\n",
    "log_file='amex/agg_v3/train_agg_median.csv'\n",
    "train_agg_median = pd.read_csv(log_file)\n",
    "\n",
    "test_agg_feats = test_agg_median['feat'].values.tolist()\n",
    "train_agg_feats = train_agg_median['feat'].values.tolist()\n",
    "\n",
    "len(test_agg_feats), len(train_agg_feats)"
   ]
  },
  {
   "cell_type": "code",
   "execution_count": 7,
   "id": "1068c8d7",
   "metadata": {},
   "outputs": [],
   "source": [
    "log_file='amex/agg_v3/fs-rev3data-1304lr.txt'\n",
    "log_file='amex/agg_v3/fs-rev3data-2109lr.txt'"
   ]
  },
  {
   "cell_type": "code",
   "execution_count": 8,
   "id": "16cef0fa",
   "metadata": {},
   "outputs": [],
   "source": [
    "not_in_test = ['B_28__mean__log', 'D_64=-1', 'D_64__last=-1', 'D_66=0.0', 'D_68=0.0']"
   ]
  },
  {
   "cell_type": "code",
   "execution_count": 9,
   "id": "f573a611",
   "metadata": {},
   "outputs": [],
   "source": [
    "corr_target = pd.read_csv('amex/agg_v3/corr_w_target.csv')"
   ]
  },
  {
   "cell_type": "code",
   "execution_count": 10,
   "id": "1f25d1f6",
   "metadata": {},
   "outputs": [
    {
     "data": {
      "text/plain": [
       "2115"
      ]
     },
     "execution_count": 10,
     "metadata": {},
     "output_type": "execute_result"
    }
   ],
   "source": [
    "all_corr_feats = corr_target['feat'].values.tolist()\n",
    "all_corr_feats = list(set(all_corr_feats) - set(not_in_test))\n",
    "len(all_corr_feats)"
   ]
  },
  {
   "cell_type": "code",
   "execution_count": 13,
   "id": "6e5efa9c",
   "metadata": {},
   "outputs": [
    {
     "data": {
      "text/plain": [
       "728"
      ]
     },
     "execution_count": 13,
     "metadata": {},
     "output_type": "execute_result"
    }
   ],
   "source": [
    "corr_score = 0.15\n",
    "corr_feats = corr_target[corr_target['corr_abs']>=corr_score]['feat'].tolist()\n",
    "len(corr_feats)"
   ]
  },
  {
   "cell_type": "code",
   "execution_count": 14,
   "id": "10f68aa5",
   "metadata": {},
   "outputs": [],
   "source": [
    "df = pd.read_csv(log_file,sep='|', header=None)\n",
    "df.columns = ['feat', 'lr']"
   ]
  },
  {
   "cell_type": "code",
   "execution_count": 15,
   "id": "3023860b",
   "metadata": {},
   "outputs": [
    {
     "data": {
      "text/plain": [
       "<AxesSubplot:>"
      ]
     },
     "execution_count": 15,
     "metadata": {},
     "output_type": "execute_result"
    },
    {
     "data": {
      "image/png": "[encoded data removed]",
      "text/plain": [
       "<Figure size 432x288 with 1 Axes>"
      ]
     },
     "metadata": {
      "needs_background": "light"
     },
     "output_type": "display_data"
    }
   ],
   "source": [
    "df.iloc[1304:]['lr'].hist(bins=50)"
   ]
  },
  {
   "cell_type": "code",
   "execution_count": 16,
   "id": "121fc6bd",
   "metadata": {},
   "outputs": [
    {
     "name": "stdout",
     "output_type": "stream",
     "text": [
      "489\n"
     ]
    },
    {
     "data": {
      "image/png": "[encoded data removed]",
      "text/plain": [
       "<Figure size 432x288 with 1 Axes>"
      ]
     },
     "metadata": {
      "needs_background": "light"
     },
     "output_type": "display_data"
    }
   ],
   "source": [
    "lr_score = 0.2\n",
    "df[df['lr']>=lr_score]['lr'].hist(bins=50)\n",
    "lrfeats = df[df['lr']>=lr_score]['feat'].values.tolist()\n",
    "print(len(lrfeats))"
   ]
  },
  {
   "cell_type": "code",
   "execution_count": 17,
   "id": "5cc2235c",
   "metadata": {},
   "outputs": [
    {
     "data": {
      "text/plain": [
       "(49, 288, 777)"
      ]
     },
     "execution_count": 17,
     "metadata": {},
     "output_type": "execute_result"
    }
   ],
   "source": [
    "len(set(lrfeats)-set(corr_feats)), len(set(corr_feats)-set(lrfeats)), len(set(corr_feats)|set(lrfeats))"
   ]
  },
  {
   "cell_type": "code",
   "execution_count": 18,
   "id": "7c63c722",
   "metadata": {},
   "outputs": [
    {
     "data": {
      "text/plain": [
       "49"
      ]
     },
     "execution_count": 18,
     "metadata": {},
     "output_type": "execute_result"
    }
   ],
   "source": [
    "spr_lists1 = [\n",
    "    ['P_2__mean', 'D_44__last', 'B_20__last__log', 'B_2__last__log', 'R_1__max', 'P_2__last', 'D_42__last', 'B_9__last__log', 'R_1__mean__log', 'B_18__last', 'D_41__last__log', 'B_9__max', 'B_22__last', 'B_33__last', 'B_2__last2max', 'D_48__last', 'B_1__last', 'P_2__max', 'D_42__max', 'R_1__std', 'B_11__last', 'B_4__last__log', 'D_75__last__log', 'R_1__last__log', 'B_37__last'],\n",
    "\n",
    "['P_2__mean', 'B_2__last__log', 'B_18__last', 'D_41__last', 'D_44__last', 'R_10__mean__log', 'B_20__last__log', 'R_1__std', 'P_3__mean', 'D_48__last', 'R_1__last', 'B_9__last', 'B_11__last__log', 'D_42__last', 'P_2__max', 'B_19__last__log', 'B_2__last2max', 'P_3__last', 'B_11__last', 'B_37__mean', 'P_2__last', 'R_2__last__log', 'R_1__max', 'D_42__first', 'D_75__mean__log', 'D_45__first', 'D_44__max', 'D_65__last__log'],\n",
    "\n",
    "['P_2__max', 'S_7__mean', 'B_2__last__log', 'R_1__max', 'B_11__last', 'P_2__mean', 'D_41__last', 'B_33__last', 'D_44__last', 'B_18__last', 'P_2__last', 'B_3__last', 'B_7__last', 'D_48__last', 'B_23__last', 'B_37__last', 'B_9__last', 'D_44__last2max', 'R_1__last__log', 'B_9__last__log', 'D_44__mean__log', 'R_1__last', 'B_9__mean__log', 'B_1__last', 'D_42__first'],\n",
    "\n",
    "['D_48__last', 'B_18__last', 'D_45__mean__log', 'B_9__last__log', 'P_2__mean', 'P_2__last', 'D_44__max', 'R_3__mean', 'P_3__min', 'B_2__last__log', 'B_20__last__log', 'D_44__mean', 'D_44__last', 'R_2__last__log', 'B_11__last', 'B_2__last2max', 'D_42__max', 'B_23__last', 'B_3__last', 'S_3__mean', 'B_2__mean', 'R_1__std', 'R_10__mean', 'D_42__first', 'B_14__last2max', 'R_6__mean__log', 'D_48__max'],\n",
    "\n",
    "['P_2__last', 'B_18__last', 'P_2__mean', 'B_2__last__log', 'D_75__mean__log', 'R_3__mean__log', 'D_44__last', 'D_42__first', 'D_44__mean', 'R_1__max', 'D_39__range', 'P_3__mean', 'B_7__last', 'S_3__mean', 'B_3__last__log', 'D_39__std', 'B_11__last__log', 'P_2__max', 'S_7__last', 'B_33__last2max', 'B_3__last', 'R_2__last__log', 'B_11__last', 'B_9__last', 'D_42__max'],\n",
    "\n",
    "['B_9__last', 'B_9__max', 'R_3__mean__log', 'P_2__mean', 'B_2__last__log', 'R_1__last__log', 'P_2__first', 'D_42__min', 'R_2__last', 'R_1__last', 'B_3__last__log', 'B_9__last__log', 'B_20__last', 'D_48__last', 'R_1__max', 'P_2__last', 'B_2__last2max', 'B_7__last', 'B_4__last', 'D_45__first', 'D_44__mean__log', 'D_44__last', 'B_11__last', 'B_20__last__log', 'B_33__last'],\n",
    "\n",
    "['B_2__last__log', 'P_2__max', 'R_1__max', 'D_61__last', 'P_2__mean', 'R_3__mean', 'D_44__range', 'R_1__std', 'B_11__last', 'D_44__last', 'B_23__last__log', 'D_44__max', 'B_18__min', 'D_42__max', 'P_2__last', 'B_3__last__log', 'B_9__last__log', 'D_41__last__log', 'B_20__last__log', 'R_2__std', 'B_9__max'],\n",
    "\n",
    "['B_9__last__log', 'P_2__max', 'R_1__max', 'S_7__last', 'B_4__last', 'B_37__last2max', 'D_48__last', 'B_1__last', 'D_44__last', 'B_2__last__log', 'R_1__mean__log', 'D_48__mean', 'B_11__last', 'B_2__last2max', 'P_2__last', 'S_7__mean', 'B_18__last', 'B_9__max', 'D_42__first', 'B_23__last', 'D_44__last__log', 'B_20__last__log', 'D_44__max', 'R_1__last', 'B_2__last', 'B_9__last', 'D_44__mean__log', 'P_2__mean', 'B_26__last__log', 'B_7__last', 'D_41__last', 'B_3__last', 'B_11__last__log', 'D_44__mean', 'R_5__range'],\n",
    "\n",
    "['P_2__mean', 'B_9__last__log', 'D_39__last__log', 'B_2__last__log', 'P_2__max', 'P_2__last', 'D_39__range', 'B_11__last', 'R_3__mean__log', 'B_2__last', 'D_39__last', 'D_42__mean', 'D_44__last', 'B_18__last', 'S_3__mean', 'D_41__last__log', 'R_3__max', 'R_2__last__log', 'D_44__last2max', 'B_9__last', 'R_10__std', 'D_48__last', 'B_1__last', 'D_48__min', 'D_75__mean__log'],\n",
    "\n",
    "['S_3__max', 'B_9__last__log', 'B_2__last__log', 'P_2__min', 'R_3__mean__log', 'P_2__last', 'D_48__last', 'B_11__last', 'R_1__mean__log', 'B_20__last__log', 'D_42__max', 'P_2__max', 'B_3__last__log', 'D_44__max', 'B_23__last', 'D_48__mean', 'D_39__last__log'],\n",
    "\n",
    "['B_11__last', 'B_18__last', 'R_1__last', 'B_2__last2max', 'B_2__last__log', 'P_2__mean', 'B_33__last', 'B_20__last__log', 'B_7__last', 'R_3__max', 'B_9__mean__log', 'D_42__min', 'B_9__last__log', 'P_2__last', 'S_3__last', 'D_39__last', 'B_9__max', 'D_44__last', 'D_48__last', 'R_2__last', 'B_37__last', 'B_11__last__log', 'R_1__max'],\n",
    "\n",
    "['D_44__last', 'P_2__last', 'P_2__min', 'P_2__max', 'P_2__mean', 'P_2__first', 'R_2__last', 'B_11__last', 'B_2__last__log', 'D_42__min', 'D_39__last', 'B_9__last__log', 'B_9__last', 'S_7__max', 'R_1__last__log', 'B_33__last2max', 'B_33__last', 'R_1__std', 'D_39__std', 'D_44__max', 'D_44__last__log', 'B_18__min', 'D_44__mean__log', 'R_1__last'],\n",
    "\n",
    "['P_2__last', 'B_2__last__log', 'B_9__last__log', 'R_3__mean__log', 'D_42__first', 'B_3__last', 'B_33__last2max', 'D_42__min', 'B_9__max', 'D_41__last__log', 'P_2__max', 'S_3__last', 'R_4__mean', 'B_11__last', 'B_33__last', 'P_2__mean', 'B_7__last', 'B_18__last', 'D_44__max', 'B_1__last', 'B_3__last__log', 'P_2__first', 'R_2__max', 'R_2__mean__log', 'D_44__last__log', 'P_3__min', 'R_2__last', 'R_1__last', 'D_39__last', 'D_48__min', 'B_11__mean', 'B_18__min', 'B_37__last', 'D_48__last'],\n",
    "\n",
    "['D_42__first', 'D_42__last', 'P_2__last', 'B_2__last__log', 'R_1__last', 'B_3__last__log', 'B_33__last2max', 'R_1__max', 'P_2__mean', 'D_48__last', 'D_41__last__log', 'R_1__last__log', 'B_11__last__log', 'B_20__last__log', 'R_3__mean__log', 'D_43__last', 'D_48__max', 'B_7__last', 'D_44__last', 'B_37__last', 'B_9__last__log', 'D_39__last__log', 'B_19__last__log', 'B_11__last', 'D_39__last', 'B_3__std', 'B_18__last__log', 'D_78__max', 'P_2__min', 'D_44__max', 'R_5__mean__log', 'D_44__mean'],\n",
    "\n",
    "['P_2__mean', 'R_10__std', 'P_2__last', 'D_44__last', 'B_2__last__log', 'D_75__last__log', 'D_45__max', 'B_18__last', 'B_11__last', 'S_3__mean', 'D_42__max', 'B_22__last', 'R_1__mean', 'R_1__max', 'B_11__last__log', 'D_43__mean', 'D_39__last', 'B_3__std', 'R_2__last__log', 'B_7__last', 'D_45__first', 'R_1__last__log', 'B_33__last2max', 'P_2__first'],\n",
    "\n",
    "['P_2__mean', 'D_48__last', 'D_44__last', 'D_39__last__log', 'R_1__max', 'S_7__last', 'B_18__last', 'B_3__last__log', 'D_43__last', 'B_7__last', 'D_39__last', 'D_75__mean__log', 'S_3__mean', 'D_42__first', 'D_41__last', 'B_9__mean__log', 'D_45__mean__log', 'B_23__last', 'B_2__last__log', 'P_2__last', 'D_42__mean', 'B_9__mean', 'B_3__last', 'B_9__last__log', 'R_1__std', 'R_1__last', 'R_10__std', 'B_2__last'],\n",
    "\n",
    "['P_2__mean', 'P_2__last', 'S_3__max', 'D_43__mean', 'D_44__last__log', 'B_2__last__log', 'S_3__min', 'B_37__last', 'D_44__max', 'R_1__last', 'B_9__max', 'D_42__max', 'R_1__mean__log', 'R_6__mean__log', 'B_11__last', 'B_20__last__log', 'B_11__last__log', 'D_44__last', 'D_39__last__log', 'D_75__mean__log', 'D_42__first', 'B_3__last__log', 'D_43__mean__log', 'B_9__last', 'R_1__last__log', 'B_9__mean', 'B_37__mean'],\n",
    "\n",
    "['D_42__max', 'D_44__last', 'R_2__last', 'R_1__mean', 'B_2__last__log', 'D_48__last', 'S_3__max', 'P_3__last', 'D_42__mean', 'B_9__last', 'B_18__last', 'B_7__last', 'D_44__last__log', 'P_2__last', 'B_20__last__log', 'P_2__max', 'D_41__last__log', 'B_26__last__log', 'R_2__range', 'B_18__min', 'S_15__mean', 'R_1__std', 'B_11__last', 'B_37__last', 'B_2__last2max', 'B_9__mean__log', 'B_33__last', 'D_112__last'],\n",
    "\n",
    "['B_18__last', 'B_7__last', 'P_2__mean', 'B_2__last__log', 'S_3__last', 'B_9__last', 'B_11__last__log', 'B_20__last__log', 'P_3__min', 'D_44__last', 'R_2__last', 'P_2__last', 'B_37__last', 'D_42__mean', 'B_9__last__log', 'B_2__last', 'D_41__last', 'D_39__last__log', 'D_48__last', 'R_1__last', 'B_18__last__log', 'B_9__mean__log', 'S_3__mean', 'R_1__mean__log'],\n",
    "\n",
    "['P_2__mean', 'B_9__last__log', 'B_18__last', 'R_1__last', 'R_2__last', 'B_37__last', 'P_2__last', 'B_2__last2max', 'B_2__last__log', 'B_11__last', 'D_39__range', 'D_44__max', 'R_3__mean__log', 'B_20__last__log', 'B_3__std', 'R_2__range', 'B_9__max', 'B_11__last__log', 'P_2__first', 'D_42__last', 'D_44__last__log', 'R_1__range', 'R_1__mean', 'R_3__mean', 'B_9__last', 'B_3__last__log', 'D_44__last', 'B_7__last'],\n",
    "\n",
    "['P_2__mean', 'B_2__last__log', 'D_45__first', 'B_9__last__log', 'D_39__last', 'B_37__last', 'P_2__first', 'R_2__last', 'D_48__last', 'B_3__last__log', 'R_3__mean__log', 'D_42__max', 'P_2__last', 'D_44__last', 'B_18__min', 'B_2__last', 'S_3__mean', 'B_1__last', 'R_2__max', 'D_45__max', 'P_3__mean', 'B_3__last', 'B_7__last', 'R_1__last__log', 'R_10__max', 'B_9__last', 'D_44__mean__log', 'S_3__max', 'P_2__min', 'R_1__last'],\n",
    "\n",
    "['D_42__last', 'P_2__max', 'D_48__last', 'P_2__last', 'R_1__mean__log', 'S_7__max', 'D_44__last', 'D_44__last__log', 'D_44__mean', 'R_3__mean__log', 'D_41__last', 'D_75__mean__log', 'B_2__mean', 'B_11__last', 'R_1__std', 'D_42__max', 'R_2__last', 'P_2__mean', 'B_2__last__log', 'R_1__max', 'B_37__last', 'D_43__mean', 'B_9__last__log', 'D_44__max', 'B_7__last', 'B_23__last', 'P_2__first', 'P_2__min', 'B_18__last__log', 'B_33__last2max', 'B_3__last__log', 'B_9__last', 'B_37__mean', 'D_39__last'],\n",
    "\n",
    "['D_48__mean', 'D_39__std', 'B_11__last', 'P_2__max', 'P_2__mean', 'B_9__last__log', 'D_48__last', 'B_14__last2max', 'P_2__last', 'S_3__max', 'R_2__last', 'B_4__last', 'B_20__last__log', 'R_2__range', 'B_30=0.0', 'B_23__last', 'B_2__last2max', 'D_44__last__log', 'R_1__last', 'B_9__last', 'D_44__last', 'B_37__mean', 'S_3__last', 'P_2__first', 'S_3__mean', 'D_41__last', 'R_10__std', 'B_37__last', 'P_2__min', 'R_1__mean'],\n",
    "\n",
    "['P_2__min', 'D_44__last', 'P_2__mean', 'P_2__max', 'B_2__last__log', 'B_9__last', 'D_45__mean', 'B_9__last__log', 'D_41__last', 'D_42__last', 'R_1__max', 'P_2__last', 'R_2__range', 'R_5__range', 'B_11__last', 'R_2__last__log', 'B_9__mean', 'R_2__last', 'D_61__last', 'R_1__last__log', 'D_42__max', 'B_26__last__log', 'D_48__last', 'B_7__last', 'R_1__std', 'B_23__last__log', 'B_9__mean__log', 'D_41__last__log', 'D_44__std', 'R_2__mean__log', 'B_18__last__log'],\n",
    "\n",
    "['B_9__last', 'S_3__mean', 'P_2__last', 'B_2__last2max', 'D_39__last__log', 'S_3__last', 'P_2__mean', 'D_48__last', 'B_2__last__log', 'D_39__last', 'P_2__max', 'R_6__last__log', 'D_41__last', 'B_37__last', 'B_23__last', 'P_2__min', 'D_42__last', 'R_1__last', 'D_44__last', 'D_44__max', 'B_18__min', 'R_3__mean__log', 'D_75__mean__log', 'B_1__last', 'B_3__std', 'B_20__last__log', 'S_3__max', 'B_11__last', 'R_1__mean__log', 'D_44__mean__log', 'P_2__first', 'B_18__last', 'S_7__mean', 'R_10__mean', 'R_1__max', 'B_7__last'],\n",
    "\n",
    "['R_3__mean__log', 'P_2__last', 'D_42__min', 'B_9__last__log', 'B_2__last__log', 'D_44__last', 'P_2__mean', 'P_2__max', 'B_3__last', 'B_23__last__log', 'D_112__last', 'D_41__last__log', 'D_39__last__log', 'R_1__std', 'R_1__last__log', 'B_3__last__log', 'B_11__last', 'R_1__mean', 'B_37__last', 'D_42__last', 'R_1__last', 'R_6__last__log'],\n",
    "\n",
    "['R_1__std', 'B_2__last__log', 'B_11__last', 'P_2__last', 'B_18__min', 'B_9__last', 'P_2__mean', 'B_18__last', 'D_48__last', 'B_9__last__log', 'B_4__last', 'R_2__last', 'P_2__first', 'S_7__mean', 'B_7__last', 'R_1__max', 'R_1__range', 'B_20__last__log', 'D_39__last', 'D_43__mean', 'D_42__max', 'D_75__last__log', 'B_3__last', 'B_9__mean', 'B_2__mean', 'D_44__mean__log', 'D_44__range', 'R_10__std', 'B_9__max', 'B_37__last', 'S_3__mean'],\n",
    "\n",
    "['S_3__mean', 'P_2__last', 'B_9__last__log', 'R_1__last', 'R_1__max', 'D_41__last', 'P_2__mean', 'B_2__last__log', 'B_3__mean__log', 'B_18__last', 'D_65__last__log', 'D_45__first', 'D_42__mean', 'B_11__last__log', 'D_44__last', 'D_44__mean', 'D_75__mean__log', 'S_25__std', 'P_2__min', 'R_1__std', 'R_2__last__log', 'P_2__first', 'B_37__mean', 'R_1__range', 'B_20__last__log', 'B_4__last2max', 'B_9__mean__log', 'S_8__mean', 'P_2__max', 'B_7__last', 'B_3__last', 'B_9__last', 'D_48__last'],\n",
    "\n",
    "['D_44__last', 'S_3__mean', 'B_9__last', 'B_2__last2max', 'R_3__min', 'P_2__max', 'B_2__last__log', 'D_75__mean__log', 'R_1__mean__log', 'D_42__last', 'B_11__last', 'B_7__last', 'B_9__mean__log', 'S_7__mean', 'P_2__mean', 'R_1__mean', 'B_8__mean__log', 'B_1__last', 'P_2__last', 'R_1__std', 'R_2__range', 'D_48__last', 'D_48__mean', 'D_45__first', 'S_7__last'],\n",
    "\n",
    "['P_2__last', 'R_2__mean__log', 'B_2__last__log', 'D_41__last__log', 'S_8__mean', 'D_39__last', 'D_44__std', 'B_1__last2max', 'D_44__last', 'B_37__last', 'D_42__mean', 'B_18__last', 'D_48__mean', 'P_2__first', 'R_4__mean__log', 'B_14__last2max', 'R_2__max', 'R_1__mean__log', 'R_2__last', 'B_2__mean', 'B_19__last__log', 'D_48__last', 'B_2__last2max', 'P_2__min', 'B_9__last', 'B_18__min', 'D_53__last__log', 'P_2__mean', 'B_7__last', 'S_25__last2max', 'B_20__last__log', 'B_26__last__log', 'D_41__last'],\n",
    "\n",
    "['D_44__last', 'B_11__last__log', 'B_9__max', 'R_1__std', 'B_19__last__log', 'D_42__first', 'P_2__last', 'B_2__last__log', 'R_1__last', 'B_20__last__log', 'S_3__mean', 'B_9__last', 'D_41__last__log', 'P_2__min', 'R_3__mean', 'D_48__last', 'B_9__last__log', 'B_2__last2max', 'R_1__max', 'B_18__last', 'R_1__last__log', 'B_37__last', 'R_1__mean__log', 'B_33__last2max', 'D_44__max', 'B_9__mean__log', 'B_8__mean__log', 'D_39__range', 'D_43__max', 'P_2__mean'],\n",
    "\n",
    "['B_9__last__log', 'D_48__last', 'P_2__last', 'S_3__min', 'B_2__last__log', 'D_41__last', 'D_42__last', 'D_39__last__log', 'P_2__min', 'B_11__last', 'D_44__last', 'D_48__mean', 'S_3__mean', 'D_48__max', 'B_3__last', 'B_23__last', 'B_3__std', 'B_20__last__log', 'B_2__mean', 'R_1__max', 'B_4__last__log', 'D_45__mean', 'D_42__min', 'D_42__max', 'D_44__last__log', 'B_11__last__log'],\n",
    "\n",
    "['P_2__last', 'B_11__last', 'P_2__mean', 'D_44__last', 'S_3__mean', 'B_9__last', 'R_1__last', 'B_2__last2max', 'S_15__mean', 'S_3__last', 'B_2__last__log', 'D_48__last', 'B_23__last', 'B_14__last2max', 'D_42__last', 'B_9__max', 'D_39__last__log', 'B_26__last__log', 'B_9__last__log', 'D_42__max', 'P_2__min', 'D_44__last__log', 'B_37__last', 'B_2__min', 'D_65__last__log', 'P_3__mean', 'D_42__first', 'R_3__last__log'],\n",
    "\n",
    "['D_48__last', 'B_11__last__log', 'B_9__last__log', 'R_1__max', 'D_39__last__log', 'P_2__mean', 'B_37__mean', 'S_3__last', 'P_2__last', 'B_2__last__log', 'R_1__last', 'S_7__mean', 'P_2__max', 'B_33__last', 'D_45__mean__log', 'R_1__std', 'B_3__last__log', 'D_44__mean__log', 'R_2__last', 'P_3__mean', 'D_42__last', 'P_2__min', 'S_3__max', 'D_44__last__log', 'D_75__mean__log', 'B_37__last2max', 'B_9__last', 'R_2__range', 'B_19__last', 'D_44__last', 'R_10__std', 'B_23__last__log'],\n",
    "\n",
    "['P_2__last', 'B_18__last', 'R_1__std', 'D_39__last', 'D_44__last', 'P_2__min', 'D_44__max', 'B_9__last', 'S_3__mean', 'B_23__last__log', 'P_2__max', 'R_1__last__log', 'R_1__mean__log', 'D_42__max', 'B_11__last', 'P_2__first', 'D_48__last', 'S_7__last', 'R_2__last__log', 'P_2__mean', 'B_2__last__log', 'D_44__mean__log', 'B_11__last__log', 'D_44__mean', 'B_7__last', 'B_9__last__log', 'B_3__last__log', 'R_1__max', 'R_2__last', 'B_18__min'],\n",
    "\n",
    "['P_2__mean', 'B_33__last', 'B_2__last__log', 'R_1__max', 'P_2__last', 'D_48__max', 'B_11__last', 'S_3__mean', 'D_39__last', 'B_3__last', 'D_42__max', 'P_2__max', 'B_19__last__log', 'B_7__last', 'R_1__std', 'D_44__std', 'D_48__last', 'P_3__min', 'D_39__last__log', 'R_1__last', 'D_45__min', 'D_61__last', 'D_44__last', 'R_3__mean__log', 'R_2__max', 'R_1__last__log', 'B_9__mean__log', 'D_45__first', 'D_75__last__log', 'R_3__mean'],\n",
    "\n",
    "['P_2__last', 'D_44__last', 'R_1__mean__log', 'D_48__last', 'B_11__last', 'B_3__last__log', 'B_9__last__log', 'D_39__last', 'S_3__last', 'P_2__max', 'P_2__mean', 'B_37__last', 'R_1__last__log', 'S_8__mean', 'D_42__last', 'P_2__min', 'S_3__min', 'B_14__last2max', 'B_2__last__log', 'R_1__std', 'B_2__last2max', 'B_33__last', 'B_11__last2max', 'R_10__mean', 'B_9__mean', 'B_11__last__log', 'D_41__last__log'],\n",
    "\n",
    "['B_2__last__log', 'D_45__last__log', 'S_15__mean', 'P_2__mean', 'B_33__last', 'D_39__last', 'B_9__max', 'B_7__last', 'P_2__last', 'B_18__last', 'B_9__mean__log', 'D_42__mean', 'D_48__mean', 'D_48__last', 'B_3__mean__log', 'R_2__last', 'B_9__last', 'D_41__last__log', 'R_1__last__log', 'B_9__mean', 'D_44__last', 'B_2__mean', 'B_4__last', 'B_33__last2max', 'R_1__max', 'B_11__last', 'S_3__mean', 'B_4__last__log', 'R_1__std', 'R_3__mean__log', 'B_20__last__log', 'R_2__last__log', 'P_2__first', 'D_42__max', 'D_75__last__log', 'D_39__last__log'],\n",
    "\n",
    "['B_9__last__log', 'B_2__last__log', 'D_42__max', 'S_3__last', 'P_2__max', 'P_3__last', 'B_2__last2max', 'B_23__last__log', 'D_48__last', 'P_2__last', 'R_2__std', 'D_39__last__log', 'R_1__mean__log', 'B_18__last', 'D_44__last', 'R_3__mean', 'D_39__std', 'R_2__last__log', 'P_2__min', 'S_3__max', 'B_7__last', 'B_1__last', 'R_1__mean', 'B_4__last', 'R_1__last__log', 'B_37__last', 'P_2__mean'],\n",
    "\n",
    "['B_11__last', 'D_44__last', 'P_2__last', 'S_7__last', 'D_41__last__log', 'R_1__max', 'B_2__last__log', 'B_18__last__log', 'B_18__last', 'D_42__last', 'B_20__last__log', 'P_2__mean', 'D_75__mean__log', 'D_61__last', 'B_11__last__log', 'B_3__last', 'D_39__last', 'R_10__std', 'P_3__min', 'P_2__min', 'P_2__max', 'B_19__last__log', 'B_2__last', 'R_1__std', 'B_18__min', 'B_9__last'],\n",
    "\n",
    "['P_2__last', 'B_18__last__log', 'D_42__mean', 'B_9__max', 'B_14__last2max', 'D_39__last__log', 'B_9__last', 'R_2__mean', 'R_1__last', 'B_4__last', 'B_2__last__log', 'B_4__last__log', 'B_7__last', 'D_41__last__log', 'D_44__std', 'B_11__last', 'D_44__range', 'D_48__last', 'B_18__last', 'B_9__last__log', 'R_1__max', 'B_37__last2max', 'B_20__last__log', 'B_2__last', 'B_23__last', 'B_18__min', 'B_22__last', 'B_3__std'],\n",
    "\n",
    "['B_2__last__log', 'P_2__mean', 'B_11__last', 'D_44__last', 'P_2__max', 'B_2__last2max', 'D_45__min', 'D_39__last', 'P_2__last', 'D_42__first', 'D_48__last', 'B_9__last__log', 'D_44__last__log', 'R_1__std', 'B_2__mean', 'P_2__min', 'B_37__last', 'B_18__last', 'R_10__std', 'B_3__last__log', 'B_9__last', 'R_6__mean__log', 'B_23__last', 'B_20__last__log', 'B_7__last'],\n",
    "\n",
    "['D_44__last', 'P_2__last', 'P_2__mean', 'P_2__max', 'B_37__last', 'D_48__last', 'B_9__last__log', 'P_3__mean', 'S_3__last', 'B_18__last', 'B_2__last__log', 'B_33__last2max', 'D_44__mean', 'D_39__last__log', 'S_8__mean', 'B_20__last__log', 'D_42__min', 'R_2__max', 'R_1__last__log', 'R_3__max', 'B_3__std', 'D_75__mean__log', 'B_23__last'],\n",
    "\n",
    "['D_41__last', 'D_48__last', 'B_2__last__log', 'D_44__last', 'R_1__max', 'S_3__mean', 'P_2__last', 'B_2__last', 'D_42__max', 'B_25__last2max', 'B_2__mean', 'R_3__mean__log', 'B_3__last', 'B_11__last', 'B_4__last', 'B_20__last__log', 'B_18__last__log', 'P_2__max', 'B_9__last__log', 'R_2__mean__log', 'B_33__last2max', 'B_18__min', 'B_37__last', 'R_10__std', 'P_2__mean', 'B_18__last', 'R_1__last', 'B_19__last__log', 'B_23__last'],\n",
    "\n",
    "['P_2__last', 'D_44__last', 'B_2__last__log', 'D_44__last__log', 'B_4__last2max', 'R_1__last', 'B_9__last', 'B_18__last', 'B_20__last__log', 'P_2__min', 'D_112__last__log', 'B_9__mean', 'B_37__last', 'S_7__mean', 'B_9__max', 'P_2__mean', 'S_3__mean', 'D_42__max', 'B_3__last', 'B_2__mean', 'D_61__last', 'B_3__last__log', 'S_25__std', 'R_1__mean', 'S_3__last', 'D_44__range'],\n",
    "\n",
    "['D_44__last', 'B_11__last', 'P_2__last', 'D_48__last', 'B_3__std', 'D_45__first', 'S_15__max', 'B_9__last__log', 'B_2__last__log', 'D_42__last', 'D_39__last', 'S_7__last', 'D_42__first', 'D_41__last__log', 'R_1__max', 'S_3__mean', 'B_37__last', 'R_1__last__log', 'D_48__mean', 'P_2__max', 'P_2__min', 'B_7__last', 'B_18__last'],\n",
    "\n",
    "['B_2__last', 'P_2__mean', 'P_2__last', 'B_20__last__log', 'D_39__last', 'B_37__mean', 'D_42__first', 'R_1__last', 'B_11__last__log', 'R_5__max', 'R_1__last__log', 'B_2__last2max', 'P_2__min', 'R_3__mean__log', 'S_7__last', 'D_44__mean__log', 'P_2__max', 'B_4__last__log', 'B_3__last__log', 'B_7__last', 'R_1__max', 'D_42__max', 'B_2__last__log', 'B_18__last', 'B_11__last', 'D_44__last', 'B_37__last', 'D_44__mean', 'B_3__last'],\n",
    "\n",
    "['P_2__last', 'P_2__min', 'P_2__mean', 'R_1__std', 'D_44__last', 'S_3__last', 'D_45__first', 'B_2__last__log', 'B_18__last', 'D_48__mean', 'D_42__max', 'P_2__first', 'B_26__last__log', 'D_41__last', 'B_9__last__log', 'D_65__mean__log', 'D_48__last', 'B_3__last', 'B_9__mean__log', 'B_37__last', 'D_39__last__log', 'D_39__range', 'R_1__mean__log', 'R_4__mean', 'B_14__last2max', 'R_2__last', 'B_3__last__log', 'B_11__last'],\n",
    "\n",
    "['B_18__last', 'B_2__last__log', 'S_3__last', 'B_11__last', 'D_75__mean__log', 'B_9__last__log', 'D_48__last', 'P_2__first', 'B_20__last__log', 'R_3__max', 'D_44__last', 'B_3__std', 'R_2__last', 'P_2__last', 'R_1__last__log', 'D_42__last', 'D_39__last__log', 'D_42__first', 'B_2__mean', 'S_7__last', 'B_9__mean__log', 'B_37__mean', 'R_1__last', 'R_1__mean__log', 'D_44__max', 'D_43__mean', 'P_2__max', 'P_2__min'],\n",
    "\n",
    "\n",
    "   \n",
    "    \n",
    "    \n",
    "]\n",
    "\n",
    "len(spr_lists1)"
   ]
  },
  {
   "cell_type": "code",
   "execution_count": 19,
   "id": "558954a2",
   "metadata": {},
   "outputs": [
    {
     "data": {
      "text/plain": [
       "51"
      ]
     },
     "execution_count": 19,
     "metadata": {},
     "output_type": "execute_result"
    }
   ],
   "source": [
    "spr_lists2 = [\n",
    "    \n",
    "['B_23__last', 'D_44__mean', 'B_11__last__log', 'B_18__last', 'B_4__last', 'B_9__mean__log', 'R_1__last', 'B_7__last', 'P_2__mean', 'R_2__last', 'B_2__min', 'B_1__last', 'B_9__last__log', 'R_1__mean', 'S_25__range', 'D_61__min', 'P_2__last', 'D_44__last', 'D_42__max', 'R_1__range', 'D_44__mean__log', 'R_2__last__log', 'P_2__max', 'B_2__last__log', 'B_3__std', 'B_14__last2max', 'R_1__std', 'B_20__mean__log', 'B_37__last', 'R_1__mean__log', 'B_18__last__log', 'D_42__min'],\n",
    "\n",
    "['P_2__min', 'B_3__max', 'R_1__last', 'B_8__last', 'D_44__last', 'D_44__max', 'B_9__mean', 'D_44__mean__log', 'B_2__last__log', 'D_48__last', 'D_44__last__log', 'D_44__mean', 'B_33__mean__log', 'B_9__last', 'B_9__last__log', 'P_2__mean', 'B_1__last', 'R_2__last', 'D_42__min', 'P_2__last', 'B_2__last', 'D_42__first', 'D_39__last', 'R_1__mean', 'B_9__mean__log', 'D_61__min'],\n",
    "\n",
    "['D_44__last', 'B_2__last__log', 'P_2__last', 'D_44__std', 'P_2__mean', 'R_1__last__log', 'B_23__last', 'B_26__last__log', 'B_11__last__log', 'B_2__last', 'D_44__mean', 'R_3__mean__log', 'B_1__last', 'P_2__max', 'B_23__last__log', 'B_9__last__log', 'D_42__last', 'P_2__min', 'B_14__last2max', 'B_9__mean__log', 'B_9__last', 'D_42__min', 'B_33__last', 'B_9__mean', 'R_2__last__log', 'B_3__last__log', 'D_42__first', 'R_1__last', 'S_3__mean', 'B_20__last', 'R_6__mean__log'],\n",
    "\n",
    "['P_2__mean', 'B_18__last__log', 'B_4__last', 'P_2__min', 'B_3__last__log', 'B_3__mean__log', 'R_3__mean', 'B_1__last', 'D_44__last__log', 'B_9__last', 'D_44__std', 'P_2__max', 'B_20__mean__log', 'D_48__max', 'R_1__last', 'B_20__mean', 'B_11__last__log', 'R_1__mean__log', 'D_39__last__log', 'R_1__max', 'R_5__mean__log', 'B_2__last__log', 'D_42__last', 'D_62__mean', 'R_5__last', 'B_33__last', 'P_2__last', 'D_44__mean', 'B_18__last', 'R_1__mean', 'D_44__last', 'D_41__last', 'R_10__mean', 'D_44__max', 'B_14__last2max', 'B_9__mean__log'],\n",
    "\n",
    "['P_2__last', 'P_2__mean', 'B_2__last__log', 'R_2__std', 'D_42__mean', 'D_44__last', 'D_55__last__log', 'D_44__mean__log', 'D_42__last', 'D_44__last__log', 'B_33__mean__log', 'S_23__last', 'R_3__mean', 'D_41__last__log', 'P_2__min', 'B_9__last', 'B_9__last__log', 'R_1__last', 'B_18__last', 'B_3__last', 'B_1__last', 'D_62__mean', 'B_9__last2max', 'R_2__last', 'B_9__mean__log', 'D_44__mean', 'R_1__mean', 'D_53__max', 'B_7__last', 'B_11__last__log', 'B_9__mean', 'B_4__last__log', 'B_18__last__log', 'R_10__mean', 'D_39__std'],\n",
    "\n",
    "['P_2__last', 'R_1__mean', 'S_3__last', 'D_44__std', 'D_42__mean', 'P_2__first', 'B_2__last', 'B_19__last', 'D_44__mean__log', 'R_1__mean__log', 'B_2__last__log', 'B_1__last', 'B_9__mean', 'B_3__last', 'D_39__last', 'B_4__last', 'D_42__last', 'B_9__last', 'B_9__last__log', 'D_44__last', 'B_23__last', 'D_44__mean', 'B_11__last__log', 'D_42__first', 'P_2__mean', 'D_44__last__log', 'D_62__mean'],\n",
    "\n",
    "['B_23__last', 'B_9__last', 'B_9__last__log', 'R_1__mean', 'B_2__last__log', 'P_2__last', 'D_44__mean', 'P_2__mean', 'D_44__max', 'B_3__max', 'R_2__last', 'B_8__last', 'D_78__mean__log', 'R_1__last', 'B_1__last', 'R_2__max', 'B_11__last__log', 'B_33__mean__log', 'R_1__std', 'B_9__mean', 'D_44__last', 'R_3__max', 'S_3__max', 'S_3__last', 'R_5__mean', 'D_42__first', 'P_2__first', 'R_3__mean', 'R_1__max', 'P_2__max', 'B_2__last', 'B_3__last__log', 'R_16__mean__log', 'S_8__last', 'D_44__last__log'],\n",
    "\n",
    "['R_10__mean', 'B_9__last__log', 'B_33__last2max', 'B_2__last__log', 'D_42__min', 'R_1__last__log', 'D_44__mean', 'R_1__mean', 'B_33__mean__log', 'B_3__mean__log', 'B_4__last', 'B_18__last__log', 'D_39__last', 'P_2__last', 'B_7__last', 'B_23__last', 'B_2__last', 'B_20__mean__log', 'B_11__last', 'R_1__last', 'D_44__std', 'P_2__first', 'D_44__mean__log', 'B_37__last', 'D_44__last', 'R_2__mean', 'B_1__last', 'P_2__min', 'D_41__last', 'D_43__mean__log', 'D_44__last__log', 'B_9__last'],\n",
    "\n",
    "['D_44__mean', 'B_9__last', 'P_2__last', 'D_55__last__log', 'B_2__last__log', 'D_42__last', 'B_3__last__log', 'D_41__last__log', 'B_33__mean__log', 'B_9__mean__log', 'D_44__last', 'D_62__mean', 'D_44__last__log', 'R_10__max', 'B_3__max', 'R_2__last', 'R_1__last__log', 'B_9__last__log', 'P_2__mean', 'R_1__mean', 'B_11__mean__log', 'B_3__last', 'D_44__max', 'B_9__mean', 'D_44__mean__log', 'B_23__last', 'D_39__last__log', 'R_1__range', 'R_2__last__log'],\n",
    "\n",
    "['D_44__mean', 'B_2__last__log', 'R_1__range', 'R_2__last', 'S_3__last', 'B_9__mean__log', 'B_2__last', 'B_7__last', 'D_39__last__log', 'D_44__max', 'B_3__std', 'D_41__last__log', 'D_45__max', 'B_11__last__log', 'R_3__mean', 'P_2__last', 'S_3__mean', 'D_44__last', 'R_1__std', 'R_1__last', 'B_18__last__log', 'B_23__last', 'B_9__last__log', 'B_3__last', 'B_18__last', 'B_4__last', 'D_62__mean', 'B_9__last', 'D_42__last', 'D_42__mean', 'D_48__max', 'D_61__min', 'R_1__last__log', 'D_48__last', 'P_2__mean', 'B_1__last', 'R_2__last__log'],\n",
    "\n",
    "['D_39__last', 'R_2__mean__log', 'B_33__mean__log', 'B_9__last', 'S_23__last', 'D_42__min', 'B_9__last__log', 'B_3__max', 'R_10__mean', 'P_2__last', 'D_44__last__log', 'P_2__first', 'D_44__mean', 'S_3__last', 'B_1__last', 'D_39__last__log', 'B_2__mean', 'R_3__max', 'D_48__mean', 'D_78__mean__log', 'B_11__last__log', 'B_4__last', 'D_61__min', 'B_4__last__log', 'B_18__last__log', 'D_62__mean', 'B_9__mean', 'P_2__mean', 'R_1__last', 'D_48__last', 'D_55__last__log', 'B_2__last__log', 'B_9__max', 'R_1__range', 'R_2__mean', 'B_20__mean__log', 'D_44__std'],\n",
    "\n",
    "['P_2__mean', 'R_3__mean', 'B_9__last__log', 'B_3__max', 'D_42__first', 'R_1__max', 'B_23__last', 'B_9__mean__log', 'P_2__last', 'B_2__last', 'S_3__last', 'D_44__last', 'R_1__last', 'B_2__last__log', 'B_11__last__log', 'B_9__last', 'D_44__mean__log', 'B_1__last', 'B_33__mean__log', 'D_44__mean', 'R_1__range', 'D_44__last__log', 'B_18__last', 'D_55__last__log', 'R_2__last', 'R_1__mean', 'B_3__std', 'P_2__first', 'B_3__mean__log', 'R_7__range', 'D_62__mean', 'R_1__mean__log', 'D_75__last'],\n",
    "\n",
    "['B_1__last', 'P_2__mean', 'D_39__last__log', 'D_61__min', 'D_62__mean', 'D_42__min', 'P_2__last', 'D_44__std', 'P_2__min', 'B_9__last', 'B_23__last', 'R_1__max', 'B_2__last', 'B_18__last__log', 'D_39__last', 'B_33__last', 'R_1__mean__log', 'B_9__last__log', 'B_3__mean__log', 'D_44__mean', 'S_3__mean', 'R_1__last', 'B_2__last__log', 'B_3__last__log', 'D_44__last__log', 'B_3__std', 'B_20__mean__log', 'S_3__max', 'D_44__last', 'D_44__max', 'B_33__last__log', 'D_75__last', 'D_41__last', 'B_33__last2max'],\n",
    "\n",
    "['B_9__last__log', 'D_44__max', 'D_44__last__log', 'D_44__last', 'P_2__last', 'B_3__last__log', 'B_1__last', 'R_1__last', 'R_2__last__log', 'P_2__mean', 'B_2__last__log', 'D_42__min', 'D_44__mean', 'R_2__last', 'B_14__last2max', 'D_42__mean', 'R_1__mean__log', 'D_62__mean', 'B_2__last', 'R_1__mean', 'B_33__last__log', 'R_2__mean', 'S_3__mean', 'D_44__std', 'D_39__last', 'B_20__mean__log', 'B_18__last__log', 'B_4__last__log', 'S_23__last', 'B_33__last', 'B_20__mean'],\n",
    "\n",
    "['B_2__last', 'B_3__std', 'B_18__last__log', 'P_2__mean', 'B_18__last', 'B_4__last__log', 'D_41__last', 'B_3__max', 'R_1__max', 'S_3__mean', 'D_62__mean', 'B_9__mean__log', 'D_44__last', 'B_9__last__log', 'D_42__min', 'D_44__mean', 'B_20__mean__log', 'D_61__last', 'B_33__last2max', 'B_11__last__log', 'B_3__last__log', 'B_33__last', 'B_11__last', 'R_3__mean', 'B_37__last', 'P_2__last', 'R_1__last__log', 'B_2__last__log', 'D_44__last__log', 'D_44__mean__log', 'B_14__last2max', 'S_7__max', 'D_61__min', 'D_39__last', 'P_2__min', 'R_2__last__log'],\n",
    "\n",
    "['B_9__last', 'D_42__last', 'D_44__mean__log', 'B_2__mean__log', 'B_2__last', 'D_44__mean', 'R_1__last', 'S_3__mean', 'R_1__mean__log', 'B_2__mean', 'D_44__last', 'P_2__last', 'D_62__mean', 'B_2__last__log', 'B_9__last__log', 'S_3__max', 'R_1__range', 'B_23__last', 'B_37__last', 'B_1__last', 'D_42__first', 'R_2__last', 'B_20__mean__log', 'S_3__last', 'R_1__last__log', 'B_3__last__log', 'B_3__std', 'D_44__max', 'P_2__max', 'B_18__mean', 'B_18__last__log', 'B_11__last__log', 'B_4__last', 'P_2__min', 'D_44__std'],\n",
    "\n",
    "['D_44__last__log', 'D_42__first', 'D_44__mean', 'B_23__last', 'B_11__last', 'S_25__mean', 'D_44__last', 'B_18__last__log', 'D_44__mean__log', 'D_39__last__log', 'P_2__last', 'P_2__min', 'B_3__last__log', 'B_3__std', 'P_2__max', 'R_2__last', 'B_9__mean__log', 'D_44__max', 'R_1__last', 'D_42__mean', 'P_2__mean', 'R_1__std', 'B_2__last__log', 'B_9__last__log', 'B_4__last', 'B_9__last', 'B_25__last2max', 'R_1__range', 'B_33__mean__log', 'B_2__mean', 'R_1__last__log', 'B_7__last', 'B_2__last', 'R_10__mean'],\n",
    "\n",
    "['B_2__last__log', 'D_44__last__log', 'P_2__last', 'D_44__mean', 'B_33__mean__log', 'P_2__first', 'B_3__max', 'D_41__last', 'B_11__last2max', 'B_3__last__log', 'B_1__last', 'B_2__mean', 'R_1__last', 'D_42__min', 'R_2__last', 'D_62__mean', 'D_44__std', 'B_9__mean__log', 'D_42__first', 'B_3__mean__log', 'R_2__mean', 'D_42__mean', 'B_23__last', 'D_44__last', 'R_1__mean__log', 'R_1__std', 'B_4__last', 'P_2__min', 'P_2__mean', 'B_11__last__log'],\n",
    "\n",
    "['B_2__last__log', 'B_9__mean', 'S_3__mean', 'R_2__last', 'R_3__mean', 'D_44__last', 'P_2__last', 'B_9__last__log', 'R_1__mean', 'B_23__last', 'B_2__last', 'D_55__last__log', 'B_11__last', 'P_2__min', 'B_18__last', 'D_42__max', 'P_2__max', 'D_39__last__log', 'D_41__last', 'P_2__mean', 'B_3__max', 'R_1__std', 'B_37__last', 'R_1__last__log', 'B_9__mean__log', 'D_45__max', 'B_9__last'],\n",
    "\n",
    "['P_2__mean', 'B_9__last__log', 'B_9__last', 'S_3__mean', 'R_1__mean', 'P_2__min', 'D_44__last', 'B_4__last', 'D_55__last__log', 'B_2__last__log', 'B_3__last', 'R_3__mean', 'B_23__last', 'B_33__last', 'R_1__last', 'B_1__last', 'D_44__mean', 'R_3__max', 'R_1__mean__log', 'D_44__last__log', 'D_44__mean__log', 'B_3__last__log', 'B_2__last', 'B_20__mean', 'R_1__range', 'B_33__mean__log', 'P_2__last', 'B_9__mean__log', 'R_2__last', 'D_61__last', 'B_9__mean', 'B_7__last', 'B_3__max'],\n",
    "\n",
    "['R_3__mean', 'D_39__last__log', 'R_1__last', 'B_2__last__log', 'D_55__max', 'D_44__mean', 'B_9__last', 'B_9__mean__log', 'D_44__mean__log', 'D_44__last', 'R_1__mean__log', 'P_2__first', 'D_48__last', 'B_9__last__log', 'B_4__last', 'B_2__last', 'B_3__std', 'B_7__last', 'D_65__last__log', 'R_1__mean', 'P_2__last', 'P_2__mean', 'D_42__first', 'B_23__last', 'B_11__last__log', 'P_2__min', 'R_1__std', 'S_25__mean', 'P_3__last', 'B_18__last__log', 'R_2__last', 'D_44__max', 'B_20__mean__log', 'B_2__mean__log'],\n",
    "\n",
    "['B_2__last__log', 'B_1__last', 'B_3__std', 'B_9__last', 'P_2__last', 'D_44__last', 'D_42__last', 'D_44__mean', 'D_55__last__log', 'D_39__last__log', 'S_3__mean', 'R_1__mean', 'B_11__last__log', 'R_1__std', 'R_1__mean__log', 'P_2__mean', 'P_2__min', 'D_44__last__log', 'D_44__std'],\n",
    "\n",
    "['B_9__last', 'B_9__last__log', 'B_2__last__log', 'B_1__last', 'D_44__mean', 'B_9__mean__log', 'P_2__last', 'B_23__last', 'R_1__last__log', 'S_25__mean', 'D_44__last', 'D_44__max', 'B_33__mean__log', 'D_41__last__log', 'R_1__mean', 'D_78__mean__log', 'D_42__mean', 'D_44__last__log', 'B_2__last', 'D_55__last__log', 'D_39__range', 'R_1__last', 'B_4__last__log', 'B_33__last2max', 'S_3__last', 'R_4__last', 'B_9__mean', 'B_33__last', 'D_44__std', 'P_2__min', 'B_9__max', 'B_3__last__log', 'B_11__last__log'],\n",
    "\n",
    "['R_1__last', 'P_2__last', 'D_44__mean', 'R_1__mean', 'D_44__last', 'P_2__mean', 'B_11__last__log', 'S_3__last', 'B_1__last', 'R_1__mean__log', 'B_33__last2max', 'B_9__last', 'D_55__last', 'D_45__last', 'D_42__min', 'D_55__max', 'B_2__mean__log', 'D_44__last__log', 'D_62__mean', 'B_2__last', 'R_2__last', 'B_2__last__log', 'B_9__mean__log', 'B_23__last', 'D_55__last__log', 'D_75__last', 'B_18__last', 'B_11__last', 'B_4__last', 'P_2__min', 'B_9__last__log', 'D_61__min'],\n",
    "\n",
    "['P_2__last', 'D_42__mean', 'B_9__mean__log', 'D_44__mean', 'B_2__last__log', 'B_33__last', 'B_37__last', 'B_3__max', 'B_1__last', 'R_3__mean', 'D_44__max', 'P_2__mean', 'B_3__last__log', 'B_20__mean', 'R_1__mean__log', 'D_44__std', 'B_14__last2max', 'D_41__last', 'D_44__last__log', 'D_62__mean', 'R_1__last__log', 'B_9__last', 'B_2__mean', 'P_2__min', 'D_39__last__log', 'D_61__min', 'B_18__min', 'D_48__last', 'D_44__last', 'B_7__last', 'B_2__last', 'B_9__max', 'D_55__last__log', 'D_42__min', 'S_25__mean', 'P_2__first', 'S_3__mean'],\n",
    "\n",
    "['B_9__mean__log', 'D_39__last', 'B_2__last__log', 'D_61__min', 'B_37__last', 'P_2__first', 'D_48__first', 'P_2__min', 'R_3__mean', 'D_42__last', 'R_2__last__log', 'B_23__last', 'B_33__mean__log', 'R_1__mean', 'B_3__last__log', 'R_1__mean__log', 'D_42__mean', 'R_1__last', 'D_44__mean', 'S_8__min', 'D_39__last__log', 'B_3__std', 'B_9__last__log', 'B_20__last__log', 'P_2__last', 'B_11__last__log', 'B_2__last', 'D_44__last', 'B_1__last', 'R_1__last__log', 'B_9__last', 'B_3__max', 'R_10__mean', 'D_44__mean__log', 'D_44__max'],\n",
    "\n",
    "['P_2__last', 'D_41__last', 'D_44__range', 'D_42__last', 'D_44__max', 'B_33__mean__log', 'B_9__last__log', 'D_48__last', 'R_1__mean', 'D_42__max', 'D_44__last', 'D_44__mean', 'B_9__last', 'B_23__last', 'R_1__last__log', 'B_2__last__log', 'B_3__max', 'B_1__last', 'B_9__mean', 'R_1__last', 'B_9__mean__log', 'P_2__mean', 'R_10__mean', 'D_55__max', 'B_11__last', 'B_3__std', 'S_3__mean'],\n",
    "\n",
    "['D_39__range', 'D_45__mean__log', 'B_9__last', 'D_44__last', 'B_9__max', 'B_5__last__log', 'P_2__first', 'P_2__last', 'B_33__last', 'B_9__mean__log', 'D_44__mean', 'B_3__std', 'P_2__mean', 'D_42__min', 'B_11__last', 'R_1__last', 'D_39__last__log', 'B_23__last', 'B_7__last', 'D_45__max', 'B_2__last__log', 'P_2__min', 'B_11__last2max', 'D_44__max', 'B_9__mean', 'S_3__mean', 'D_42__first', 'R_1__mean'],\n",
    "\n",
    "['D_42__last', 'D_44__last', 'R_1__mean', 'B_3__std', 'B_8__mean__log', 'D_42__max', 'P_2__last', 'P_3__last', 'B_3__max', 'B_33__last2max', 'R_3__mean', 'R_1__last', 'B_2__last', 'R_2__last__log', 'B_11__last__log', 'P_2__min', 'B_11__last', 'B_1__last', 'B_2__last__log', 'B_3__last', 'D_44__max', 'D_44__last__log', 'B_9__max', 'R_2__last', 'D_62__mean', 'B_33__mean__log', 'D_44__mean', 'S_25__mean', 'B_9__mean', 'R_6__max', 'B_4__last'],\n",
    "\n",
    "['D_45__mean__log', 'P_2__min', 'S_3__mean', 'B_2__mean', 'R_10__mean', 'B_9__last__log', 'B_9__mean__log', 'B_2__last__log', 'S_23__last', 'B_9__last', 'B_33__mean__log', 'D_42__last', 'B_3__mean__log', 'D_55__last__log', 'R_1__std', 'B_20__last__log', 'D_44__last__log', 'R_1__mean__log', 'B_1__last', 'B_2__last', 'B_4__last__log', 'P_3__last', 'R_3__mean', 'S_25__mean', 'D_44__mean', 'D_44__max', 'B_4__last2max', 'R_2__mean__log', 'P_2__last', 'D_48__last', 'B_3__last__log', 'B_3__std', 'B_18__last', 'D_42__max', 'R_1__last'],\n",
    "\n",
    "['D_44__last', 'P_2__last', 'B_2__last', 'B_9__last__log', 'D_44__mean', 'R_1__max', 'P_3__last', 'B_2__mean', 'D_41__last', 'S_3__mean', 'B_33__last2max', 'B_11__last', 'R_1__last', 'B_9__last', 'B_18__last__log', 'B_19__last', 'R_2__last__log', 'P_2__min', 'B_20__mean__log', 'D_44__std', 'B_4__last__log', 'R_3__max', 'D_44__max', 'R_3__mean', 'B_3__std', 'D_42__mean', 'B_11__last2max', 'S_25__mean', 'D_48__last', 'P_2__mean', 'B_1__last', 'P_3__mean'],\n",
    "\n",
    "['B_9__mean__log', 'B_9__last__log', 'B_23__last__log', 'D_45__last', 'D_44__mean', 'B_18__last', 'B_2__last__log', 'R_1__last', 'B_33__last', 'P_2__last', 'P_2__min', 'P_2__mean', 'B_18__last__log', 'B_9__last', 'R_1__mean', 'B_20__mean__log', 'B_3__last__log', 'B_1__last', 'D_44__last', 'B_33__mean__log', 'D_42__mean', 'B_23__last', 'R_3__mean__log', 'D_41__last', 'D_39__last__log', 'B_2__last', 'D_55__max', 'R_6__mean__log', 'D_42__last', 'D_42__first', 'D_61__min', 'R_1__mean__log', 'R_3__mean', 'D_75__max'],\n",
    "\n",
    "['P_2__max', 'P_2__last', 'B_9__last__log', 'D_62__mean', 'D_44__last', 'D_39__last__log', 'B_2__last__log', 'B_18__last', 'B_2__mean', 'P_2__min', 'B_11__last', 'S_3__mean', 'B_33__mean__log', 'R_1__mean__log', 'R_1__last__log', 'D_48__last', 'R_1__last', 'P_2__mean', 'D_42__min', 'R_2__last__log', 'D_44__mean__log', 'B_23__last', 'D_55__max', 'B_9__last', 'R_1__range', 'B_3__std'],\n",
    "\n",
    "['D_44__last', 'B_20__mean__log', 'D_42__min', 'B_8__min', 'B_1__last', 'P_2__last', 'B_9__last', 'B_20__last', 'D_44__mean', 'B_3__max', 'B_3__std', 'B_2__last__log', 'R_1__mean', 'D_44__max', 'R_1__last', 'B_19__last', 'P_2__mean', 'R_2__mean', 'R_1__mean__log', 'S_3__mean', 'D_44__mean__log', 'B_2__mean', 'R_1__range', 'P_2__min', 'R_10__mean', 'B_3__last__log', 'B_2__last', 'B_4__last', 'D_48__mean', 'R_2__last', 'B_18__last', 'B_9__last__log', 'P_2__first'],\n",
    "\n",
    "['B_9__last__log', 'P_2__last', 'B_23__last', 'P_2__max', 'R_3__mean', 'B_9__mean__log', 'P_2__mean', 'B_2__last__log', 'B_20__last', 'D_62__mean', 'B_11__last__log', 'D_42__min', 'B_9__last', 'D_44__max', 'R_1__last', 'R_1__mean', 'B_3__std', 'D_78__mean', 'D_39__last', 'D_44__last', 'D_44__mean', 'S_25__mean', 'B_33__last', 'P_3__mean', 'B_2__last', 'R_8__mean__log'],\n",
    "\n",
    "['D_44__mean', 'S_25__mean', 'P_2__mean', 'B_3__std', 'B_2__last__log', 'P_2__last', 'B_18__last', 'S_3__last', 'D_44__last', 'D_42__mean', 'D_45__first', 'B_9__last__log', 'R_1__last__log', 'B_1__last', 'B_23__last', 'P_2__min', 'B_20__last', 'D_39__last__log', 'D_44__mean__log', 'B_33__last', 'R_1__last', 'B_9__last', 'R_3__mean', 'R_2__mean__log', 'B_33__last__log', 'R_1__mean__log', 'B_3__max', 'B_4__last__log', 'B_3__mean__log', 'D_55__last__log', 'B_9__mean__log'],\n",
    "\n",
    "['P_2__last', 'B_18__last', 'P_2__mean', 'S_3__max', 'D_55__last__log', 'B_4__last__log', 'R_1__last', 'B_1__last', 'B_2__last__log', 'B_9__last__log', 'S_7__mean', 'D_42__last', 'B_20__mean__log', 'D_44__mean', 'S_7__max', 'B_18__last__log', 'D_44__last', 'R_2__last__log', 'D_44__mean__log', 'B_23__last', 'B_11__last__log', 'R_1__mean', 'D_44__std', 'R_1__mean__log', 'B_4__last', 'B_37__last', 'B_3__max', 'R_2__max', 'B_23__last__log', 'B_33__last'],\n",
    "\n",
    "['D_44__mean', 'B_37__last', 'P_2__last', 'P_2__min', 'D_42__min', 'B_9__min', 'B_2__last', 'B_9__mean__log', 'B_4__last', 'D_41__last', 'B_9__last', 'B_2__last__log', 'D_62__mean', 'D_45__first', 'B_3__last__log', 'B_18__last__log', 'B_9__last__log', 'B_18__last', 'R_1__mean', 'R_2__last', 'D_55__last__log', 'R_2__mean', 'R_1__std', 'D_55__max', 'P_2__max', 'D_44__last__log', 'D_112__last__log', 'D_42__last', 'B_33__last', 'B_33__mean__log', 'P_3__last', 'P_2__mean', 'D_44__last', 'B_8__last__log'],\n",
    "\n",
    "['P_2__last', 'D_42__min', 'R_3__mean__log', 'B_4__last', 'P_2__mean', 'D_44__mean', 'B_2__last__log', 'P_2__min', 'B_9__last', 'B_33__last2max', 'D_48__last', 'S_3__last', 'D_44__last', 'D_44__mean__log', 'R_1__last', 'D_39__last', 'B_3__max', 'B_23__last', 'R_6__mean__log', 'B_1__last', 'B_33__last', 'B_3__last__log', 'S_25__mean', 'R_1__mean__log', 'D_55__last__log', 'B_11__last__log'],\n",
    "\n",
    "['B_9__last', 'B_9__last__log', 'P_2__mean', 'D_44__max', 'D_44__mean', 'D_42__last', 'B_11__last__log', 'R_1__std', 'D_41__last', 'P_2__min', 'D_44__last', 'D_42__first', 'B_23__last', 'P_2__last', 'B_9__mean', 'R_1__mean', 'B_3__last__log', 'S_3__mean', 'R_2__max', 'B_3__max', 'D_42__min', 'D_44__std', 'B_2__last__log', 'B_1__last', 'D_44__mean__log', 'S_25__range', 'D_44__last__log', 'B_9__mean__log', 'R_2__last', 'R_1__max', 'B_2__mean__log', 'S_25__min', 'B_18__last', 'R_1__mean__log', 'B_20__mean__log'],\n",
    "\n",
    "['B_2__last__log', 'B_18__last__log', 'P_2__last', 'R_1__last', 'D_44__last', 'D_44__mean', 'D_42__last', 'B_2__last', 'B_23__last', 'B_4__last', 'D_42__first', 'D_44__max', 'B_3__max', 'P_2__mean', 'B_11__last__log', 'P_2__max', 'B_9__last', 'B_9__last__log', 'S_3__max', 'B_18__last', 'P_2__min', 'D_44__std', 'D_44__last__log', 'R_6__max'],\n",
    "\n",
    "['D_42__last', 'P_2__mean', 'B_3__max', 'P_2__last', 'R_1__last', 'B_9__last', 'D_44__last__log', 'B_23__last', 'B_2__last__log', 'R_3__mean__log', 'R_2__last', 'S_3__last', 'D_42__min', 'D_62__mean', 'B_3__mean__log', 'B_3__std', 'D_61__min', 'B_20__mean__log', 'D_61__last', 'B_1__last', 'B_11__last__log', 'B_33__last__log', 'D_55__last__log', 'B_9__last__log', 'B_18__last__log', 'R_6__max', 'B_2__last', 'P_2__first', 'B_14__last2max'],\n",
    "\n",
    "['R_1__mean', 'P_2__mean', 'B_3__max', 'R_1__mean__log', 'B_2__last__log', 'B_9__last', 'D_44__mean', 'B_2__last', 'R_1__last', 'B_3__last__log', 'D_44__mean__log', 'D_44__last', 'B_23__last', 'R_3__mean__log', 'P_2__first', 'D_62__mean', 'B_11__last__log', 'P_2__last', 'D_39__last', 'R_1__std', 'B_20__mean__log', 'P_2__max', 'R_7__range', 'B_18__last', 'R_5__mean__log', 'B_9__mean', 'D_42__first', 'B_19__last', 'R_10__max', 'B_18__last__log', 'P_2__min', 'S_7__mean', 'D_42__mean', 'D_39__range'],\n",
    "\n",
    "['P_2__last', 'B_9__last', 'D_41__last', 'D_44__last__log', 'B_2__last__log', 'D_62__mean', 'B_23__last', 'D_44__mean', 'D_44__std', 'B_37__last', 'B_3__last__log', 'R_3__mean', 'B_11__last__log', 'D_42__last', 'R_1__last', 'B_14__last2max', 'R_1__last__log', 'B_1__last', 'D_44__last', 'S_15__mean', 'B_20__last', 'B_3__mean__log', 'B_33__mean__log', 'B_20__last__log', 'R_1__mean', 'P_2__mean', 'R_10__std', 'R_10__mean', 'B_2__min', 'B_19__last__log', 'B_23__last__log', 'B_9__last__log'],\n",
    "\n",
    "['P_2__last', 'B_2__last__log', 'D_44__last__log', 'D_42__last', 'D_44__last', 'D_44__std', 'D_62__mean', 'R_1__std', 'D_78__mean__log', 'B_4__last__log', 'S_3__mean', 'P_2__mean', 'B_2__last', 'B_9__last', 'R_3__mean', 'B_18__last', 'R_6__max', 'D_44__mean', 'B_3__mean__log', 'B_3__std', 'B_1__last', 'S_25__mean', 'D_41__last', 'R_1__mean__log', 'D_55__last__log', 'D_44__mean__log', 'B_7__last', 'B_9__mean__log', 'D_61__min', 'D_48__last', 'R_3__mean__log', 'R_1__last'],\n",
    "\n",
    "['P_2__last', 'B_23__last', 'B_9__last__log', 'D_45__first', 'P_2__mean', 'D_44__mean', 'B_18__last', 'D_44__last', 'D_44__last__log', 'B_3__std', 'D_42__min', 'D_44__std', 'B_3__max', 'S_3__mean', 'D_44__mean__log', 'B_9__mean__log', 'P_2__first', 'B_9__max', 'R_1__std', 'R_2__last', 'R_1__mean', 'B_2__last__log', 'R_3__mean', 'D_39__last__log', 'B_1__last', 'B_2__mean', 'P_2__min', 'B_18__last__log', 'R_1__last', 'D_62__mean', 'B_20__mean', 'D_42__last', 'R_6__mean__log', 'B_9__mean', 'D_42__mean', 'B_18__mean'],\n",
    "\n",
    "['B_9__last', 'B_2__last', 'B_3__std', 'R_3__mean', 'P_2__last', 'D_39__last', 'R_1__mean', 'B_18__last__log', 'B_3__last__log', 'B_2__last__log', 'B_9__mean', 'B_7__last', 'S_3__mean', 'B_9__last__log', 'B_9__last2max', 'D_44__max', 'D_55__max', 'D_44__range', 'B_9__max', 'B_2__mean', 'R_1__max', 'B_7__mean', 'B_37__mean', 'D_62__mean', 'B_1__last', 'D_44__mean', 'R_1__mean__log', 'R_6__mean', 'S_3__last', 'B_3__max', 'D_48__last', 'R_6__mean__log', 'B_18__last'],\n",
    "\n",
    "['B_2__last__log', 'B_1__last', 'B_2__last', 'B_9__mean', 'P_2__last', 'B_3__max', 'S_3__last', 'D_41__last', 'P_2__mean', 'B_18__last__log', 'B_3__last__log', 'R_3__mean', 'D_44__max', 'B_9__last', 'R_6__mean__log', 'D_44__mean__log', 'B_23__last', 'B_2__mean__log', 'D_42__min', 'D_42__max', 'R_1__last', 'B_9__last__log', 'D_44__last', 'R_2__last', 'D_62__mean', 'D_44__std', 'D_55__last__log', 'R_1__mean', 'D_44__last__log'],\n",
    "\n",
    "['R_2__mean', 'D_44__mean', 'D_62__mean', 'D_44__last', 'B_2__last', 'B_18__last', 'B_3__std', 'R_1__last', 'B_1__last2max', 'D_39__last', 'B_1__last', 'P_2__last', 'P_2__min', 'R_3__mean', 'B_7__last', 'P_2__mean', 'D_42__last', 'S_23__last', 'R_1__mean', 'B_18__last__log', 'D_44__std', 'B_9__last__log', 'P_3__mean', 'D_78__mean__log', 'R_1__mean__log', 'S_3__max', 'B_20__mean__log', 'B_9__mean__log', 'B_20__last__log', 'P_2__max', 'B_33__last', 'B_2__last__log', 'P_2__first'],\n",
    "\n",
    "['P_2__last', 'B_4__last', 'D_42__min', 'B_2__last__log', 'B_3__last__log', 'D_44__last', 'R_1__std', 'D_41__last__log', 'B_33__last', 'R_1__last', 'S_3__min', 'B_2__last', 'S_23__last', 'D_44__last__log', 'P_2__min', 'B_2__mean__log', 'D_62__mean', 'B_3__max', 'D_45__min', 'B_2__mean', 'B_1__last', 'B_23__last', 'D_44__std', 'B_9__last__log', 'B_9__mean', 'B_20__mean__log', 'B_3__mean__log', 'P_2__first', 'R_2__last__log', 'R_10__mean', 'B_18__last__log', 'D_42__mean'],\n",
    "\n",
    "['D_44__last', 'P_2__mean', 'B_37__last', 'B_1__last', 'D_42__last', 'B_2__last__log', 'P_2__last', 'B_9__mean__log', 'B_2__last', 'R_1__last', 'P_3__mean', 'D_44__mean', 'B_11__last__log', 'D_62__mean', 'D_44__last__log', 'B_4__last__log', 'S_8__mean', 'D_39__max', 'S_25__mean', 'D_48__last', 'D_39__range', 'B_19__last', 'B_3__last__log', 'D_39__last__log', 'B_9__mean', 'D_44__range', 'B_9__last', 'B_2__mean', 'B_3__max', 'B_3__std', 'D_42__min', 'B_37__last2max', 'B_33__last2max', 'P_2__max', 'D_42__mean', 'D_61__min', 'B_9__last__log', 'R_1__mean', 'R_1__mean__log', 'B_3__last', 'B_20__last__log', 'B_20__mean'],\n",
    "\n",
    "\n",
    "\n",
    "]\n",
    "len(spr_lists2)"
   ]
  },
  {
   "cell_type": "code",
   "execution_count": 20,
   "id": "94101e45",
   "metadata": {},
   "outputs": [
    {
     "data": {
      "text/plain": [
       "(49, 51)"
      ]
     },
     "execution_count": 20,
     "metadata": {},
     "output_type": "execute_result"
    }
   ],
   "source": [
    "len(spr_lists1), len(spr_lists2)"
   ]
  },
  {
   "cell_type": "code",
   "execution_count": 21,
   "id": "844122c3",
   "metadata": {},
   "outputs": [
    {
     "data": {
      "text/plain": [
       "(178, 0)"
      ]
     },
     "execution_count": 21,
     "metadata": {},
     "output_type": "execute_result"
    }
   ],
   "source": [
    "union_list = set()\n",
    "overlap_list = set()\n",
    "all_feats = []\n",
    "for a in spr_lists1+spr_lists2:\n",
    "    union_list = union_list|set(a)\n",
    "    overlap_list = overlap_list & set(a)\n",
    "    all_feats.extend(a)\n",
    "    \n",
    "len(union_list), len(overlap_list)"
   ]
  },
  {
   "cell_type": "code",
   "execution_count": 22,
   "id": "6d74bef0",
   "metadata": {},
   "outputs": [
    {
     "data": {
      "text/plain": [
       "(49, 288, 778)"
      ]
     },
     "execution_count": 22,
     "metadata": {},
     "output_type": "execute_result"
    }
   ],
   "source": [
    "len(set(lrfeats)-set(corr_feats)), len(set(corr_feats)-set(lrfeats)), len(set(corr_feats)|set(lrfeats)|union_list)"
   ]
  },
  {
   "cell_type": "code",
   "execution_count": 23,
   "id": "8251b62b",
   "metadata": {},
   "outputs": [
    {
     "data": {
      "text/plain": [
       "(777, 778)"
      ]
     },
     "execution_count": 23,
     "metadata": {},
     "output_type": "execute_result"
    }
   ],
   "source": [
    "len(set(corr_feats)|set(lrfeats)), len(set(corr_feats)|set(lrfeats)|union_list)"
   ]
  },
  {
   "cell_type": "code",
   "execution_count": 24,
   "id": "1e686b53",
   "metadata": {},
   "outputs": [
    {
     "data": {
      "text/plain": [
       "{'B_5__last__log'}"
      ]
     },
     "execution_count": 24,
     "metadata": {},
     "output_type": "execute_result"
    }
   ],
   "source": [
    "union_list-set(set(corr_feats)|set(lrfeats))"
   ]
  },
  {
   "cell_type": "code",
   "execution_count": 25,
   "id": "a988e0da",
   "metadata": {},
   "outputs": [],
   "source": [
    "final_list = set(set(corr_feats)|set(lrfeats)|union_list)-set(not_in_test)"
   ]
  },
  {
   "cell_type": "code",
   "execution_count": 26,
   "id": "8ee9fe5f",
   "metadata": {},
   "outputs": [
    {
     "name": "stdout",
     "output_type": "stream",
     "text": [
      "{'R_6__last', 'B_22__max', 'R_24__mean', 'B_16__min', 'R_3__range', 'D_75__mean', 'R_10__last', 'B_18__first', 'D_127__first', 'B_2__min', 'D_55__last', 'B_19__std', 'B_11__mean__log', 'B_8__last2max', 'B_23__mean__log', 'D_77__mean__log', 'B_19__range', 'D_55__first', 'P_3__std', 'S_3__range', 'D_130__last__log', 'B_24__max', 'B_8__min', 'B_11__range', 'D_55__mean__log', 'B_2__std', 'B_18__mean', 'B_25__min', 'R_12__range', 'D_135__mean2std', 'R_12__last', 'B_11__max', 'D_122__first', 'R_5__last__log', 'D_45__max', 'B_18__last', 'R_10__range', 'D_54__std', 'D_89__last', 'B_24__mean__log', 'D_130__mean', 'D_113__first', 'B_11__last', 'S_15__max', 'D_54__last2max', 'B_11__first', 'B_4__range', 'D_131__min', 'D_43__last__log', 'R_24__std', 'D_53__last__log', 'B_1__std', 'B_40__first', 'D_48__mean', 'D_75__mean__log', 'P_2__mean', 'B_3__mean', 'B_4__last2max', 'D_44__std', 'B_28__min', 'D_39__mean__log', 'P_3__min', 'B_11__last__log', 'D_114=1.0', 'D_53__mean__log', 'D_45__last', 'D_118__min', 'B_19__min', 'D_120=0.0', 'D_119__min', 'D_58__std', 'D_44__max', 'S_5__last__log', 'D_131__last', 'B_9__max', 'R_2__std', 'D_74__mean', 'B_22__range', 'B_8__last__log', 'S_3__first', 'D_121__mean', 'B_12__last__log', 'D_41__mean', 'B_22__min', 'D_61__min', 'R_3__last', 'D_133__last__log', 'D_48__range', 'P_2__std', 'D_39__range', 'S_24__max', 'B_10__mean', 'D_70__first', 'S_15__first', 'B_20__mean__log', 'R_15__max', 'D_75__last', 'R_10__first', 'R_15__std', 'P_3__range', 'D_44__last', 'D_79__std', 'D_131__range', 'D_71__mean__log', 'D_39__max', 'D_51__mean__log', 'D_61__mean', 'B_2__max', 'B_1__max', 'D_53__mean2std', 'R_7__range', 'D_74__last2max', 'D_51__last', 'D_53__min', 'D_70__max', 'D_56__mean2std', 'B_4__mean__log', 'D_48__min', 'D_116=999.0', 'S_8__mean', 'S_13__last2max', 'R_10__mean__log', 'B_30=0.0', 'D_70__mean__log', 'B_32__mean__log', 'B_23__first', 'B_38__last', 'R_16__mean', 'B_19__last', 'D_41__last', 'S_24__mean', 'R_2__range', 'P_4__last__log', 'D_48__last', 'R_4__mean', 'B_14__min', 'D_136__mean2std', 'B_30=2.0', 'D_138__mean2std', 'S_24__last', 'D_54__min', 'R_21__std', 'D_112__last__log', 'B_2__first', 'B_20__mean2std', 'D_84__mean', 'B_10__first', 'D_92__max', 'D_72__last', 'D_68=6.0', 'B_16__last', 'D_44__min', 'D_72__mean', 'R_1__last__log', 'B_6__mean', 'D_115__min', 'S_20__max', 'B_19__mean', 'B_25__last2max', 'D_53__last', 'B_4__max', 'B_7__range', 'D_52__max', 'D_113__mean__log', 'B_18__last2max', 'B_3__mean__log', 'D_78__first', 'S_7__min', 'D_65__range', 'D_81__std', 'D_115__last', 'D_133__max', 'D_70__std', 'S_25__mean', 'D_77__last__log', 'D_53__mean', 'P_3__first', 'R_1__max', 'D_58__last__log', 'B_7__last', 'D_131__max', 'R_20__std', 'D_128__max', 'D_43__max', 'D_43__range', 'D_79__range', 'R_1__range', 'P_4__first', 'D_81__range', 'R_5__mean__log', 'R_8__max', 'B_33__first', 'B_8__last', 'D_112__std', 'B_28__max', 'B_18__min', 'D_55__mean', 'S_8__last', 'D_45__mean__log', 'B_38=4.0', 'B_33__last', 'R_8__last', 'D_41__std', 'D_128__first', 'B_18__mean__log', 'B_30__last', 'R_24__range', 'B_24__std', 'R_2__mean', 'D_119__first', 'R_12__std', 'D_121__first', 'D_78__mean', 'B_17__mean', 'R_7__mean__log', 'B_2__range', 'S_11__std', 'R_4__std', 'B_7__first', 'D_92__mean__log', 'D_115__mean__log', 'B_17__mean2std', 'R_12__mean', 'B_17__last__log', 'R_21__mean__log', 'B_22__last__log', 'D_44__first', 'S_3__last', 'B_22__last', 'B_11__min', 'D_121__last', 'D_131__first', 'D_70__mean', 'D_122__last', 'D_65__last__log', 'D_51__min', 'D_91__max', 'B_14__last', 'B_1__last', 'B_10__min', 'D_55__max', 'R_8__mean__log', 'B_25__mean', 'D_39__mean2std', 'D_120=1.0', 'D_48__last2max', 'R_4__last', 'B_33__last__log', 'D_116__nunique', 'D_62__min', 'D_72__max', 'B_16__std', 'D_126=999.0', 'D_55__last2max', 'D_81__mean__log', 'D_72__mean__log', 'B_9__range', 'D_77__last', 'D_51__max', 'D_127__mean__log', 'D_74__last__log', 'D_54__range', 'S_22__mean', 'R_14__mean__log', 'S_20__range', 'B_7__min', 'B_17__last2max', 'D_77__range', 'D_65__mean', 'S_11__min', 'S_7__range', 'R_25__std', 'R_4__max', 'B_20__range', 'D_55__last__log', 'S_15__mean', 'B_32__max', 'B_5__mean__log', 'B_40__mean__log', 'R_1__std', 'D_72__std', 'B_11__mean', 'B_16__mean__log', 'B_22__mean', 'B_33__last2max', 'D_59__mean', 'R_24__last', 'D_127__mean', 'B_28__last2max', 'S_20__mean__log', 'D_42__std', 'R_10__std', 'D_70__last', 'D_43__last', 'D_131__mean__log', 'R_17__std', 'R_2__mean__log', 'S_23__mean', 'D_121__max', 'B_37__mean', 'R_6__range', 'D_118__first', 'B_33__max', 'R_1__mean__log', 'S_20__mean', 'B_23__min', 'D_48__std', 'B_14__last2max', 'D_59__last', 'B_40__last', 'S_23__std', 'D_106__mean2std', 'D_84__mean__log', 'B_12__mean__log', 'S_23__last', 'D_42__last', 'D_58__max', 'D_75__min', 'D_112__min', 'P_2__last', 'D_45__first', 'B_23__std', 'P_2__min', 'D_91__mean__log', 'R_22__max', 'D_112__last2max', 'D_42__mean2std', 'R_7__last__log', 'D_43__first', 'B_2__last__log', 'D_39__last', 'D_64=O', 'B_7__std', 'S_23__max', 'B_16__first', 'D_81__mean', 'B_7__max', 'D_117=999.0', 'R_25__range', 'D_71__last__log', 'D_54__mean', 'D_59__first', 'D_39__std', 'R_15__range', 'S_22__first', 'R_7__mean', 'R_27__last', 'B_4__last', 'R_6__max', 'D_42__range', 'B_9__min', 'R_13__mean__log', 'D_115__mean', 'D_79__max', 'R_7__max', 'D_89__max', 'R_2__last', 'B_30=1.0', 'B_7__last2max', 'D_77__min', 'B_4__std', 'P_4__min', 'P_2__range', 'B_18__last__log', 'B_17__mean__log', 'D_92__last', 'D_65__std', 'D_78__std', 'D_75__max', 'D_84__range', 'D_39__last__log', 'D_121__min', 'B_33__min', 'D_113__last__log', 'S_23__range', 'D_58__last', 'B_9__last', 'D_81__last__log', 'S_3__std', 'S_25__std', 'D_119__last__log', 'B_6__last', 'R_1__last', 'R_6__mean__log', 'D_119__max', 'R_13__max', 'B_19__mean__log', 'D_41__range', 'D_131__last__log', 'R_1__last2min', 'D_75__first', 'B_23__max', 'B_4__first', 'D_78__max', 'D_113__mean', 'P_3__last2max', 'D_52__first', 'B_25__last', 'R_21__range', 'D_51__mean', 'D_44__range', 'P_2__max', 'S_7__std', 'D_52__mean', 'B_23__range', 'S_16__mean__log', 'B_24__range', 'B_28__first', 'B_5__last__log', 'D_127__last__log', 'D_127__max', 'B_23__last__log', 'S_25__last', 'D_113__min', 'D_92__mean', 'B_9__first', 'D_130__min', 'R_24__max', 'R_15__last', 'B_17__min', 'R_4__mean__log', 'B_32__std', 'R_11__range', 'R_5__std', 'D_47__mean', 'D_51__first', 'B_6__min', 'B_17__last', 'D_58__mean__log', 'B_16__max', 'D_62__max', 'D_79__last', 'S_3__mean', 'R_17__mean__log', 'D_75__range', 'B_33__mean', 'D_128__last', 'S_3__min', 'R_17__range', 'S_6__range', 'D_78__last__log', 'D_54__last', 'S_8__min', 'R_16__std', 'B_10__last2max', 'D_112__range', 'D_58__mean', 'D_74__first', 'D_55__min', 'D_62__last', 'B_37__first', 'B_3__last2max', 'D_55__range', 'D_122__min', 'R_3__last__log', 'B_9__mean__log', 'D_62__first', 'D_43__std', 'B_28__last', 'R_8__std', 'B_1__mean', 'D_79__last__log', 'P_2__last2max', 'D_118__mean', 'D_55__std', 'B_22__mean__log', 'B_22__std', 'D_127__range', 'P_2__first', 'R_1__first', 'S_13__min', 'D_79__mean', 'S_6__std', 'B_37__max', 'D_41__max', 'R_5__max', 'D_58__min', 'R_26__mean2std', 'D_72__last__log', 'R_6__std', 'D_118__max', 'B_2__mean__log', 'D_130__first', 'B_1__range', 'P_4__last', 'B_40__last__log', 'D_137__mean2std', 'D_44__mean', 'B_3__first', 'B_40__max', 'B_37__min', 'R_1__mean', 'D_128__min', 'R_14__last__log', 'B_3__std', 'D_42__min', 'S_25__range', 'D_62__std', 'D_68__nunique', 'B_3__last', 'D_61__first', 'R_16__max', 'B_37__std', 'B_26__last__log', 'S_6__last2max', 'D_62__range', 'B_30__nunique', 'D_41__mean2std', 'R_6__mean', 'D_48__first', 'R_20__last', 'D_79__min', 'B_31__nunique', 'D_59__min', 'R_20__mean', 'B_16__mean', 'D_118__last__log', 'D_58__first', 'B_37__range', 'B_26__mean__log', 'R_3__std', 'S_3__max', 'R_13__range', 'B_9__mean', 'R_20__max', 'D_64__last=U', 'B_38=6.0', 'R_4__range', 'D_64__last=O', 'R_2__last__log', 'B_19__first', 'D_127__last', 'D_47__max', 'D_53__std', 'R_5__last', 'D_52__last', 'D_58__last2max', 'D_53__first', 'D_45__mean', 'R_17__max', 'D_133__last', 'R_27__min', 'S_7__last', 'D_41__last__log', 'B_40__last2max', 'B_14__mean', 'R_10__mean', 'S_7__mean', 'R_7__std', 'B_7__mean', 'B_33__mean__log', 'B_32__range', 'D_75__std', 'R_8__mean', 'S_20__std', 'B_37__last', 'R_3__min', 'B_37__last2max', 'D_113__last', 'R_6__last__log', 'R_8__last__log', 'R_10__max', 'B_38=2.0', 'D_43__mean', 'D_62__mean', 'D_84__std', 'D_72__range', 'B_38=5.0', 'D_65__mean__log', 'D_59__max', 'D_61__last2max', 'R_16__mean__log', 'B_23__mean', 'D_45__last__log', 'P_4__range', 'D_51__std', 'B_40__mean', 'B_23__last2max', 'R_3__first', 'R_13__std', 'D_77__first', 'D_122__mean', 'B_6__last2max', 'D_46__last', 'P_4__mean__log', 'D_112__last', 'B_38=1.0', 'D_43__mean__log', 'B_9__last2max', 'D_42__mean', 'R_2__first', 'R_22__range', 'B_20__last', 'D_39__mean', 'B_11__last2max', 'D_47__last', 'B_3__last__log', 'D_78__last', 'R_21__last', 'R_27__first', 'D_133__mean__log', 'D_128__mean__log', 'D_44__mean__log', 'R_15__mean__log', 'D_42__max', 'B_16__range', 'D_122__max', 'D_127__std', 'R_25__max', 'D_74__last', 'B_16__last2max', 'D_115__last__log', 'S_15__range', 'D_74__std', 'D_42__first', 'R_21__mean', 'D_114=0.0', 'S_7__max', 'B_8__max', 'D_79__first', 'D_51__range', 'D_81__last', 'D_130__last', 'S_15__last', 'R_2__last2min', 'D_113__max', 'S_5__mean__log', 'D_128__mean', 'B_9__std', 'D_131__mean', 'D_46__mean', 'D_79__mean__log', 'D_65__max', 'R_17__mean', 'S_25__min', 'B_20__max', 'D_114=999.0', 'R_21__max', 'R_11__std', 'R_13__last', 'R_5__range', 'B_10__last', 'S_15__std', 'D_53__max', 'B_6__max', 'R_20__mean__log', 'D_74__min', 'S_22__last', 'D_134__mean2std', 'B_8__first', 'D_61__max', 'R_27__max', 'R_11__mean', 'D_119__last', 'B_16__last__log', 'R_24__mean__log', 'P_4__max', 'B_18__max', 'R_3__mean__log', 'R_16__range', 'B_2__last', 'P_3__mean', 'B_20__last2max', 'D_78__mean__log', 'B_3__min', 'D_84__last', 'D_52__min', 'B_10__max', 'D_47__min', 'B_3__range', 'D_70__range', 'D_130__max', 'B_19__last__log', 'D_119__mean', 'D_51__last__log', 'D_132__mean2std', 'D_44__last__log', 'B_26__last', 'R_9__mean2std', 'D_44__last2max', 'B_20__mean', 'D_45__min', 'R_5__mean', 'D_62__last2max', 'R_4__last__log', 'B_22__first', 'R_3__max', 'B_1__min', 'B_1__first', 'R_8__range', 'B_4__mean', 'D_74__max', 'S_7__first', 'B_20__first', 'B_6__first', 'S_13__last', 'P_4__std', 'D_77__mean', 'D_47__first', 'D_118__last', 'D_78__range', 'R_13__mean', 'R_10__last__log', 'D_75__last2max', 'B_21__mean__log', 'B_1__last2max', 'D_89__std', 'D_118__mean__log', 'B_19__last2max', 'D_75__last__log', 'D_58__range', 'D_61__last', 'R_11__mean__log', 'D_89__mean', 'B_23__last', 'B_4__last__log', 'B_38__nunique', 'B_11__std', 'D_74__range', 'R_11__max', 'D_70__last__log', 'S_22__max', 'D_84__max', 'D_114__nunique', 'B_2__last2max', 'D_120=999.0', 'D_115__max', 'D_112__mean', 'R_20__range', 'D_53__range', 'P_4__mean', 'D_70__min', 'D_48__max', 'B_20__std', 'R_27__mean', 'D_43__min', 'D_46__min', 'B_4__min', 'D_89__mean__log', 'B_2__mean', 'D_84__last__log', 'D_115__first', 'B_8__mean', 'R_2__max', 'S_25__first', 'D_81__max', 'B_3__max', 'S_27__last2max', 'R_12__min', 'S_8__last2max', 'R_15__mean', 'D_89__range', 'S_27__last__log', 'S_27__std', 'D_119__mean__log', 'B_20__last__log', 'D_74__mean__log', 'D_41__mean__log', 'B_28__mean', 'D_65__last', 'D_77__max', 'B_9__last__log', 'D_128__last__log', 'P_3__last', 'D_120__nunique', 'D_131__std', 'D_122__mean__log', 'D_49__mean2std', 'R_3__mean', 'B_40__min', 'D_112__mean__log', 'S_25__last2max', 'S_23__mean2std', 'D_130__mean__log', 'B_20__min', 'B_19__max', 'B_8__mean__log'}\n"
     ]
    }
   ],
   "source": [
    "print(final_list)"
   ]
  },
  {
   "cell_type": "code",
   "execution_count": 90,
   "id": "9b85326a",
   "metadata": {},
   "outputs": [
    {
     "data": {
      "text/plain": [
       "(180,\n",
       " {'B_11__last',\n",
       "  'B_11__last2max',\n",
       "  'B_11__last__log',\n",
       "  'B_11__mean',\n",
       "  'B_11__mean__log',\n",
       "  'B_14__last2max',\n",
       "  'B_18__last__log',\n",
       "  'B_18__min',\n",
       "  'B_19__last',\n",
       "  'B_19__last__log',\n",
       "  'B_1__last2max',\n",
       "  'B_20__last',\n",
       "  'B_20__last__log',\n",
       "  'B_20__mean',\n",
       "  'B_20__mean__log',\n",
       "  'B_22__last',\n",
       "  'B_25__last2max',\n",
       "  'B_26__last__log',\n",
       "  'B_2__last2max',\n",
       "  'B_2__mean__log',\n",
       "  'B_2__min',\n",
       "  'B_30=0.0',\n",
       "  'B_33__last2max',\n",
       "  'B_33__mean__log',\n",
       "  'B_37__last',\n",
       "  'B_37__last2max',\n",
       "  'B_37__mean',\n",
       "  'B_3__max',\n",
       "  'B_3__std',\n",
       "  'B_4__last',\n",
       "  'B_4__last2max',\n",
       "  'B_4__last__log',\n",
       "  'B_5__last__log',\n",
       "  'B_7__mean',\n",
       "  'B_8__last',\n",
       "  'B_8__last__log',\n",
       "  'B_8__mean__log',\n",
       "  'B_8__min',\n",
       "  'B_9__last2max',\n",
       "  'B_9__max',\n",
       "  'B_9__mean__log',\n",
       "  'B_9__min',\n",
       "  'D_112__last',\n",
       "  'D_112__last__log',\n",
       "  'D_39__last',\n",
       "  'D_39__last__log',\n",
       "  'D_39__max',\n",
       "  'D_39__range',\n",
       "  'D_39__std',\n",
       "  'D_41__last',\n",
       "  'D_41__last__log',\n",
       "  'D_42__first',\n",
       "  'D_42__last',\n",
       "  'D_42__max',\n",
       "  'D_42__mean',\n",
       "  'D_42__min',\n",
       "  'D_43__last',\n",
       "  'D_43__max',\n",
       "  'D_43__mean',\n",
       "  'D_43__mean__log',\n",
       "  'D_44__last2max',\n",
       "  'D_44__range',\n",
       "  'D_44__std',\n",
       "  'D_45__first',\n",
       "  'D_45__last',\n",
       "  'D_45__last__log',\n",
       "  'D_45__max',\n",
       "  'D_45__mean',\n",
       "  'D_45__mean__log',\n",
       "  'D_45__min',\n",
       "  'D_48__first',\n",
       "  'D_53__last__log',\n",
       "  'D_53__max',\n",
       "  'D_55__last__log',\n",
       "  'D_55__max',\n",
       "  'D_61__min',\n",
       "  'D_62__mean',\n",
       "  'D_65__last__log',\n",
       "  'D_65__mean__log',\n",
       "  'D_75__max',\n",
       "  'D_75__mean__log',\n",
       "  'D_78__max',\n",
       "  'D_78__mean',\n",
       "  'D_78__mean__log',\n",
       "  'P_3__last',\n",
       "  'P_3__mean',\n",
       "  'P_3__min',\n",
       "  'R_10__max',\n",
       "  'R_10__mean',\n",
       "  'R_10__mean__log',\n",
       "  'R_10__std',\n",
       "  'R_16__mean__log',\n",
       "  'R_1__last',\n",
       "  'R_1__last__log',\n",
       "  'R_2__last',\n",
       "  'R_2__last__log',\n",
       "  'R_2__max',\n",
       "  'R_2__mean',\n",
       "  'R_2__mean__log',\n",
       "  'R_2__range',\n",
       "  'R_2__std',\n",
       "  'R_3__last__log',\n",
       "  'R_3__max',\n",
       "  'R_3__mean',\n",
       "  'R_3__mean__log',\n",
       "  'R_3__min',\n",
       "  'R_4__last',\n",
       "  'R_4__mean',\n",
       "  'R_4__mean__log',\n",
       "  'R_5__last',\n",
       "  'R_5__max',\n",
       "  'R_5__mean',\n",
       "  'R_5__mean__log',\n",
       "  'R_5__range',\n",
       "  'R_6__last__log',\n",
       "  'R_6__max',\n",
       "  'R_6__mean',\n",
       "  'R_6__mean__log',\n",
       "  'R_7__range',\n",
       "  'R_8__mean__log',\n",
       "  'S_15__max',\n",
       "  'S_15__mean',\n",
       "  'S_23__last',\n",
       "  'S_25__last2max',\n",
       "  'S_25__mean',\n",
       "  'S_25__min',\n",
       "  'S_25__range',\n",
       "  'S_25__std',\n",
       "  'S_3__last',\n",
       "  'S_3__max',\n",
       "  'S_3__mean',\n",
       "  'S_3__min',\n",
       "  'S_7__last',\n",
       "  'S_7__max',\n",
       "  'S_7__mean',\n",
       "  'S_8__last',\n",
       "  'S_8__mean',\n",
       "  'S_8__min'})"
      ]
     },
     "execution_count": 90,
     "metadata": {},
     "output_type": "execute_result"
    }
   ],
   "source": [
    "len(final_list), final_list-set(set(corr_feats)|set(lrfeats))"
   ]
  },
  {
   "cell_type": "code",
   "execution_count": 91,
   "id": "3dedfe79",
   "metadata": {},
   "outputs": [
    {
     "data": {
      "text/plain": [
       "['B_28__mean__log', 'D_64=-1', 'D_64__last=-1', 'D_66=0.0', 'D_68=0.0']"
      ]
     },
     "execution_count": 91,
     "metadata": {},
     "output_type": "execute_result"
    }
   ],
   "source": [
    "not_in_test"
   ]
  },
  {
   "cell_type": "code",
   "execution_count": 92,
   "id": "d2e8fb37",
   "metadata": {},
   "outputs": [
    {
     "data": {
      "text/plain": [
       "set()"
      ]
     },
     "execution_count": 92,
     "metadata": {},
     "output_type": "execute_result"
    }
   ],
   "source": [
    "set(set(corr_feats)|set(lrfeats)|union_list)&set(not_in_test)"
   ]
  },
  {
   "cell_type": "code",
   "execution_count": 93,
   "id": "230fa1e7",
   "metadata": {},
   "outputs": [],
   "source": [
    "id_feats = ['customer_ID']\n",
    "date_col =  'S_2'\n",
    "target_col = 'target'"
   ]
  },
  {
   "cell_type": "code",
   "execution_count": 94,
   "id": "4623790d",
   "metadata": {},
   "outputs": [],
   "source": [
    "final_list = list(final_list)\n",
    "final_list.sort()"
   ]
  },
  {
   "cell_type": "code",
   "execution_count": 44,
   "id": "6a605976",
   "metadata": {},
   "outputs": [
    {
     "data": {
      "text/plain": [
       "(False,)"
      ]
     },
     "execution_count": 44,
     "metadata": {},
     "output_type": "execute_result"
    }
   ],
   "source": [
    "target_col in final_list, "
   ]
  },
  {
   "cell_type": "code",
   "execution_count": 2,
   "id": "d4d9a387",
   "metadata": {},
   "outputs": [],
   "source": [
    "import numpy as np\n",
    "import pandas as pd\n",
    "import gc\n",
    "import copy\n",
    "import os\n",
    "import sys\n",
    "\n",
    "from pathlib import Path\n",
    "from datetime import datetime, date, time, timedelta\n",
    "from dateutil import relativedelta\n",
    "\n",
    "import pyarrow.parquet as pq\n",
    "import pyarrow as pa\n",
    "\n",
    "import dask.dataframe as dd"
   ]
  },
  {
   "cell_type": "code",
   "execution_count": 24,
   "id": "46cfe98f",
   "metadata": {},
   "outputs": [
    {
     "name": "stdout",
     "output_type": "stream",
     "text": [
      "Wall time: 36.1 s\n"
     ]
    }
   ],
   "source": [
    "%%time\n",
    "\n",
    "train_file = r'amex/agg_v3/agg_train_all_rev3.parquet'\n",
    "df=pd.read_parquet(train_file, engine='pyarrow')"
   ]
  },
  {
   "cell_type": "code",
   "execution_count": 137,
   "id": "0d01dcbb",
   "metadata": {},
   "outputs": [
    {
     "name": "stdout",
     "output_type": "stream",
     "text": [
      "<class 'pandas.core.frame.DataFrame'>\n",
      "Int64Index: 458913 entries, 0 to 458912\n",
      "Columns: 2122 entries, customer_ID to S_9__mean__log\n",
      "dtypes: float32(2094), int32(16), object(1), uint8(11)\n",
      "memory usage: 3.6+ GB\n"
     ]
    }
   ],
   "source": [
    "df.info()"
   ]
  },
  {
   "cell_type": "code",
   "execution_count": 25,
   "id": "6a8aae17",
   "metadata": {},
   "outputs": [
    {
     "name": "stdout",
     "output_type": "stream",
     "text": [
      "Wall time: 842 ms\n"
     ]
    }
   ],
   "source": [
    "%%time\n",
    "\n",
    "df = df[id_feats + ['target'] + final_list].copy(deep=True)"
   ]
  },
  {
   "cell_type": "code",
   "execution_count": 26,
   "id": "30514179",
   "metadata": {},
   "outputs": [
    {
     "name": "stdout",
     "output_type": "stream",
     "text": [
      "Wall time: 1min 33s\n"
     ]
    }
   ],
   "source": [
    "%%time\n",
    "pq.write_table(pa.Table.from_pandas(df),\n",
    "               f'amex/agg_v3/agg_train_all_small.parquet', compression = 'GZIP')"
   ]
  },
  {
   "cell_type": "code",
   "execution_count": null,
   "id": "ca4c9060",
   "metadata": {},
   "outputs": [],
   "source": []
  },
  {
   "cell_type": "code",
   "execution_count": null,
   "id": "d0507650",
   "metadata": {},
   "outputs": [],
   "source": []
  },
  {
   "cell_type": "markdown",
   "id": "3b00589c",
   "metadata": {},
   "source": [
    "## test data"
   ]
  },
  {
   "cell_type": "code",
   "execution_count": 33,
   "id": "62c92f58",
   "metadata": {},
   "outputs": [
    {
     "data": {
      "text/plain": [
       "819"
      ]
     },
     "execution_count": 33,
     "metadata": {},
     "output_type": "execute_result"
    }
   ],
   "source": [
    "len(id_feats + final_list)"
   ]
  },
  {
   "cell_type": "code",
   "execution_count": 26,
   "id": "69a68a2f",
   "metadata": {},
   "outputs": [],
   "source": [
    "test_file = r'amex/agg_v3/agg_test_all_rev3.parquet'"
   ]
  },
  {
   "cell_type": "code",
   "execution_count": 52,
   "id": "b5b6c162",
   "metadata": {},
   "outputs": [
    {
     "name": "stdout",
     "output_type": "stream",
     "text": [
      "0 50 0 50\n",
      "50 100 0 50\n",
      "100 150 0 50\n",
      "150 200 0 50\n",
      "200 250 0 50\n",
      "250 300 0 50\n",
      "300 350 0 50\n",
      "350 400 0 50\n",
      "400 450 0 50\n",
      "450 500 0 50\n",
      "500 550 0 50\n",
      "550 600 0 50\n",
      "600 650 0 50\n",
      "650 700 0 50\n",
      "700 750 0 50\n",
      "750 800 0 50\n",
      "800 850 0 18\n",
      "Wall time: 5min 10s\n"
     ]
    }
   ],
   "source": [
    "%%time\n",
    "for i in range(0, len(final_list)+1, 50):\n",
    "    aa_ = final_list[i:i+50]\n",
    "    print(i, i+50 ,i%50, len(aa_))\n",
    "    df = dd.read_parquet(test_file, columns=id_feats+aa_, engine='pyarrow')\n",
    "    pq.write_table(pa.Table.from_pandas(df.compute()),  f'amex/agg_v3/test/{i}.parquet', compression = 'GZIP')\n",
    " \n",
    "    "
   ]
  },
  {
   "cell_type": "code",
   "execution_count": 54,
   "id": "7860ec16",
   "metadata": {},
   "outputs": [
    {
     "data": {
      "text/plain": [
       "17"
      ]
     },
     "execution_count": 54,
     "metadata": {},
     "output_type": "execute_result"
    }
   ],
   "source": [
    "files = next(os.walk('amex/agg_v3/test'))[2]\n",
    "len(files)"
   ]
  },
  {
   "cell_type": "code",
   "execution_count": 55,
   "id": "ced4ba90",
   "metadata": {},
   "outputs": [
    {
     "name": "stdout",
     "output_type": "stream",
     "text": [
      "Wall time: 2.52 s\n"
     ]
    },
    {
     "data": {
      "text/html": [
       "<div>\n",
       "<style scoped>\n",
       "    .dataframe tbody tr th:only-of-type {\n",
       "        vertical-align: middle;\n",
       "    }\n",
       "\n",
       "    .dataframe tbody tr th {\n",
       "        vertical-align: top;\n",
       "    }\n",
       "\n",
       "    .dataframe thead th {\n",
       "        text-align: right;\n",
       "    }\n",
       "</style>\n",
       "<table border=\"1\" class=\"dataframe\">\n",
       "  <thead>\n",
       "    <tr style=\"text-align: right;\">\n",
       "      <th></th>\n",
       "      <th>customer_ID</th>\n",
       "      <th>B_10__first</th>\n",
       "      <th>B_10__last</th>\n",
       "      <th>B_10__last2max</th>\n",
       "      <th>B_10__max</th>\n",
       "      <th>B_10__mean</th>\n",
       "      <th>B_10__min</th>\n",
       "      <th>B_11__first</th>\n",
       "      <th>B_11__last</th>\n",
       "      <th>B_11__last2max</th>\n",
       "      <th>...</th>\n",
       "      <th>B_17__last__log</th>\n",
       "      <th>B_17__mean</th>\n",
       "      <th>B_17__mean2std</th>\n",
       "      <th>B_17__mean__log</th>\n",
       "      <th>B_17__min</th>\n",
       "      <th>B_17__range</th>\n",
       "      <th>B_17__std</th>\n",
       "      <th>B_18__first</th>\n",
       "      <th>B_18__last</th>\n",
       "      <th>B_18__last2max</th>\n",
       "    </tr>\n",
       "  </thead>\n",
       "  <tbody>\n",
       "    <tr>\n",
       "      <th>0</th>\n",
       "      <td>00000469ba478561f23a92a868bd366de6f6527a684c9a...</td>\n",
       "      <td>-0.002919</td>\n",
       "      <td>0.033599</td>\n",
       "      <td>0.468266</td>\n",
       "      <td>0.063187</td>\n",
       "      <td>0.037069</td>\n",
       "      <td>-0.002919</td>\n",
       "      <td>0.004416</td>\n",
       "      <td>0.005188</td>\n",
       "      <td>0.610170</td>\n",
       "      <td>...</td>\n",
       "      <td>-0.127376</td>\n",
       "      <td>0.798967</td>\n",
       "      <td>0.0</td>\n",
       "      <td>-0.224436</td>\n",
       "      <td>0.301517</td>\n",
       "      <td>0.44319</td>\n",
       "      <td>0.187185</td>\n",
       "      <td>0.592103</td>\n",
       "      <td>0.590569</td>\n",
       "      <td>0.004714</td>\n",
       "    </tr>\n",
       "    <tr>\n",
       "      <th>1</th>\n",
       "      <td>00001bf2e77ff879fab36aa4fac689b9ba411dae63ae39...</td>\n",
       "      <td>0.295178</td>\n",
       "      <td>0.298735</td>\n",
       "      <td>0.015144</td>\n",
       "      <td>0.303329</td>\n",
       "      <td>0.298050</td>\n",
       "      <td>0.293422</td>\n",
       "      <td>0.010088</td>\n",
       "      <td>0.002235</td>\n",
       "      <td>0.990571</td>\n",
       "      <td>...</td>\n",
       "      <td>-0.127376</td>\n",
       "      <td>0.798967</td>\n",
       "      <td>0.0</td>\n",
       "      <td>-0.224436</td>\n",
       "      <td>0.301517</td>\n",
       "      <td>0.44319</td>\n",
       "      <td>0.187185</td>\n",
       "      <td>1.006304</td>\n",
       "      <td>1.005304</td>\n",
       "      <td>0.002974</td>\n",
       "    </tr>\n",
       "  </tbody>\n",
       "</table>\n",
       "<p>2 rows × 51 columns</p>\n",
       "</div>"
      ],
      "text/plain": [
       "                                         customer_ID  B_10__first  B_10__last  \\\n",
       "0  00000469ba478561f23a92a868bd366de6f6527a684c9a...    -0.002919    0.033599   \n",
       "1  00001bf2e77ff879fab36aa4fac689b9ba411dae63ae39...     0.295178    0.298735   \n",
       "\n",
       "   B_10__last2max  B_10__max  B_10__mean  B_10__min  B_11__first  B_11__last  \\\n",
       "0        0.468266   0.063187    0.037069  -0.002919     0.004416    0.005188   \n",
       "1        0.015144   0.303329    0.298050   0.293422     0.010088    0.002235   \n",
       "\n",
       "   B_11__last2max  ...  B_17__last__log  B_17__mean  B_17__mean2std  \\\n",
       "0        0.610170  ...        -0.127376    0.798967             0.0   \n",
       "1        0.990571  ...        -0.127376    0.798967             0.0   \n",
       "\n",
       "   B_17__mean__log  B_17__min  B_17__range  B_17__std  B_18__first  \\\n",
       "0        -0.224436   0.301517      0.44319   0.187185     0.592103   \n",
       "1        -0.224436   0.301517      0.44319   0.187185     1.006304   \n",
       "\n",
       "   B_18__last  B_18__last2max  \n",
       "0    0.590569        0.004714  \n",
       "1    1.005304        0.002974  \n",
       "\n",
       "[2 rows x 51 columns]"
      ]
     },
     "execution_count": 55,
     "metadata": {},
     "output_type": "execute_result"
    }
   ],
   "source": [
    "%%time\n",
    "df = pd.read_parquet(f'amex/agg_v3/test/{files[0]}', engine='pyarrow')\n",
    "df.head(2)"
   ]
  },
  {
   "cell_type": "code",
   "execution_count": 56,
   "id": "6e3cc3aa",
   "metadata": {},
   "outputs": [
    {
     "name": "stdout",
     "output_type": "stream",
     "text": [
      "Wall time: 3min 50s\n"
     ]
    }
   ],
   "source": [
    "%%time\n",
    "df = pd.read_parquet(f'amex/agg_v3/test/{files[0]}', engine='pyarrow')\n",
    "for f in files[1:]:\n",
    "    x = pd.read_parquet(f'amex/agg_v3/test/{f}', engine='pyarrow')\n",
    "    df = df.merge(x, on='customer_ID', how='inner')\n",
    "    \n",
    "pq.write_table(pa.Table.from_pandas(df),\n",
    "               f'amex/agg_v3/agg_test_all_small.parquet', compression = 'GZIP')"
   ]
  },
  {
   "cell_type": "code",
   "execution_count": 58,
   "id": "757eb2b1",
   "metadata": {},
   "outputs": [
    {
     "data": {
      "text/plain": [
       "(set(), set())"
      ]
     },
     "execution_count": 58,
     "metadata": {},
     "output_type": "execute_result"
    }
   ],
   "source": [
    "test_cols = df.columns.tolist()\n",
    "set(test_cols)-set(id_feats + final_list), set(id_feats + final_list) - set(test_cols)"
   ]
  },
  {
   "cell_type": "raw",
   "id": "71bc6871",
   "metadata": {},
   "source": [
    "%%time\n",
    "\n",
    "test_file = r'amex/agg_v3/agg_test_all_rev3.parquet'\n",
    "df=pd.read_parquet(test_file, engine='pyarrow')"
   ]
  },
  {
   "cell_type": "raw",
   "id": "95257c9a",
   "metadata": {},
   "source": [
    "%%time\n",
    "for c in final_list:\n",
    "    pq.write_table(pa.Table.from_pandas(df[id_feats+[c]]),\n",
    "                   f'amex/agg_v3/test/{c}.parquet', compression = 'GZIP')"
   ]
  },
  {
   "cell_type": "raw",
   "id": "538f176c",
   "metadata": {},
   "source": [
    "%%time\n",
    "df = df[id_feats + final_list].copy(deep=True)"
   ]
  },
  {
   "cell_type": "raw",
   "id": "f8574615",
   "metadata": {},
   "source": [
    "%%time\n",
    "pq.write_table(pa.Table.from_pandas(df[id_feats + final_list]),\n",
    "               f'amex/agg_v3/agg_test_all_small.parquet', compression = 'GZIP')"
   ]
  },
  {
   "cell_type": "markdown",
   "id": "9134d0c4",
   "metadata": {},
   "source": [
    "### to add addtional 155 features"
   ]
  },
  {
   "cell_type": "code",
   "execution_count": 85,
   "id": "c2c066e9",
   "metadata": {},
   "outputs": [
    {
     "name": "stdout",
     "output_type": "stream",
     "text": [
      "['B_13__last', 'B_13__last__log', 'B_15__last', 'B_15__mean', 'B_17__max', 'B_21__last', 'B_21__last__log', 'B_21__max', 'B_24__last', 'B_24__last__log', 'B_24__mean', 'B_27__last', 'B_27__last__log', 'B_29__last', 'B_29__last__log', 'B_31__last', 'B_32__last', 'B_32__last__log', 'B_36__last', 'B_36__last__log', 'B_38=7.0', 'B_39__last', 'B_41__last', 'B_41__last__log', 'B_42__last', 'B_42__last__log', 'B_4__mean2std', 'B_5__last', 'B_5__mean', 'D_102__last', 'D_102__last__log', 'D_102__max', 'D_103__last', 'D_104__last', 'D_105__last', 'D_105__max', 'D_106__last', 'D_106__last__log', 'D_107__last', 'D_107__last__log', 'D_107__max', 'D_107__mean__log', 'D_108__last', 'D_108__last__log', 'D_109__last', 'D_109__last__log', 'D_109__mean', 'D_110__last', 'D_111__last', 'D_114__last', 'D_116__last', 'D_117__last', 'D_120__last', 'D_123__last', 'D_123__last__log', 'D_123__mean', 'D_124__last', 'D_125__last', 'D_125__last__log', 'D_126__last', 'D_129__last', 'D_129__max', 'D_129__mean', 'D_132__last', 'D_132__min', 'D_133__min', 'D_134__last', 'D_134__min', 'D_135__last', 'D_135__last__log', 'D_136__last', 'D_136__last__log', 'D_137__last', 'D_137__last__log', 'D_138__last', 'D_138__last__log', 'D_139__last', 'D_139__mean', 'D_140__last', 'D_140__last__log', 'D_140__max', 'D_141__last', 'D_142__last', 'D_143__last', 'D_144__last', 'D_145__last', 'D_41__min', 'D_46__mean2std', 'D_49__last', 'D_49__last__log', 'D_50__last', 'D_52__mean2std', 'D_56__last', 'D_56__min', 'D_60__last', 'D_60__last__log', 'D_60__max', 'D_64=U', 'D_68=1.0', 'D_68__last', 'D_69__last', 'D_69__min', 'D_70__mean2std', 'D_72__min', 'D_73__last', 'D_76__last', 'D_80__last', 'D_82__last', 'D_83__last', 'D_86__last', 'D_87__last', 'D_88__last', 'D_91__last', 'D_93__last', 'D_94__last', 'D_96__last', 'R_11__last', 'R_12__max', 'R_13__mean2std', 'R_14__last', 'R_16__last', 'R_17__last', 'R_18__last', 'R_18__max', 'R_19__last', 'R_19__min', 'R_22__last', 'R_23__last', 'R_25__last', 'R_26__last', 'R_28__last', 'R_28__last__log', 'R_2__min', 'R_4__min', 'R_9__last', 'S_11__last', 'S_11__mean', 'S_12__last', 'S_12__max', 'S_16__last', 'S_17__last', 'S_17__min', 'S_18__last', 'S_19__last', 'S_20__last', 'S_26__last', 'S_26__last__log', 'S_27__last', 'S_27__mean2std', 'S_5__last', 'S_6__last', 'S_6__max', 'S_6__min', 'S_9__last', 'S_9__max']\n"
     ]
    }
   ],
   "source": [
    "print(addtional155)"
   ]
  },
  {
   "cell_type": "code",
   "execution_count": 86,
   "id": "1e4cbb45",
   "metadata": {},
   "outputs": [
    {
     "name": "stdout",
     "output_type": "stream",
     "text": [
      "Wall time: 24.9 s\n"
     ]
    }
   ],
   "source": [
    "%%time\n",
    "train_file = r'amex/agg_v3/agg_train_all_rev3.parquet'\n",
    "df = dd.read_parquet(train_file, columns=id_feats+addtional155, engine='pyarrow')\n",
    "pq.write_table(pa.Table.from_pandas(df.compute()),  \n",
    "               f'amex/agg_v3/train/addtioanl155.parquet', \n",
    "               compression = 'GZIP')\n",
    "\n",
    "del df\n",
    "gc.collect()   "
   ]
  },
  {
   "cell_type": "code",
   "execution_count": 89,
   "id": "2cf212af",
   "metadata": {},
   "outputs": [
    {
     "name": "stdout",
     "output_type": "stream",
     "text": [
      "Wall time: 26.7 s\n"
     ]
    }
   ],
   "source": [
    "%%time\n",
    "train_file_small = 'amex/agg_v3/agg_train_all_small.parquet'\n",
    "df = pd.read_parquet(train_file_small, engine='pyarrow') \n",
    "x = pd.read_parquet('amex/agg_v3/train/addtioanl155.parquet', engine='pyarrow')\n",
    "df = df.merge(x, on='customer_ID', how='inner')\n",
    "\n"
   ]
  },
  {
   "cell_type": "code",
   "execution_count": 90,
   "id": "b50c0262",
   "metadata": {},
   "outputs": [
    {
     "name": "stdout",
     "output_type": "stream",
     "text": [
      "Wall time: 1min 50s\n"
     ]
    },
    {
     "data": {
      "text/plain": [
       "0"
      ]
     },
     "execution_count": 90,
     "metadata": {},
     "output_type": "execute_result"
    }
   ],
   "source": [
    "%%time\n",
    "pq.write_table(pa.Table.from_pandas(df),  \n",
    "               train_file_small, \n",
    "               compression = 'GZIP')\n",
    "\n",
    "del df\n",
    "gc.collect()"
   ]
  },
  {
   "cell_type": "code",
   "execution_count": 88,
   "id": "5560541c",
   "metadata": {},
   "outputs": [
    {
     "name": "stdout",
     "output_type": "stream",
     "text": [
      "Wall time: 41.7 s\n"
     ]
    },
    {
     "data": {
      "text/plain": [
       "0"
      ]
     },
     "execution_count": 88,
     "metadata": {},
     "output_type": "execute_result"
    }
   ],
   "source": [
    "%%time\n",
    "test_file = r'amex/agg_v3/agg_test_all_rev3.parquet'\n",
    "df = dd.read_parquet(test_file, columns=id_feats+addtional155, engine='pyarrow')\n",
    "pq.write_table(pa.Table.from_pandas(df.compute()),  \n",
    "               f'amex/agg_v3/test/addtioanl155.parquet', \n",
    "               compression = 'GZIP')\n",
    "\n",
    "del df\n",
    "gc.collect()   "
   ]
  },
  {
   "cell_type": "code",
   "execution_count": 3,
   "id": "a376b531",
   "metadata": {},
   "outputs": [
    {
     "name": "stdout",
     "output_type": "stream",
     "text": [
      "Wall time: 4min 2s\n"
     ]
    },
    {
     "data": {
      "text/plain": [
       "0"
      ]
     },
     "execution_count": 3,
     "metadata": {},
     "output_type": "execute_result"
    }
   ],
   "source": [
    "%%time\n",
    "test_file_small = 'amex/agg_v3/agg_test_all_small.parquet'\n",
    "df = pd.read_parquet(test_file_small, engine='pyarrow') \n",
    "x = pd.read_parquet('amex/agg_v3/test/addtioanl155.parquet', engine='pyarrow')\n",
    "df = df.merge(x, on='customer_ID', how='inner')\n",
    "\n",
    "\n",
    "pq.write_table(pa.Table.from_pandas(df),  \n",
    "               test_file_small, \n",
    "               compression = 'GZIP')\n",
    "\n",
    "del df\n",
    "gc.collect()"
   ]
  },
  {
   "cell_type": "code",
   "execution_count": null,
   "id": "4e997701",
   "metadata": {},
   "outputs": [],
   "source": []
  },
  {
   "cell_type": "code",
   "execution_count": null,
   "id": "b4603a73",
   "metadata": {},
   "outputs": [],
   "source": []
  }
 ],
 "metadata": {
  "kernelspec": {
   "display_name": "Python 3",
   "language": "python",
   "name": "python3"
  },
  "language_info": {
   "codemirror_mode": {
    "name": "ipython",
    "version": 3
   },
   "file_extension": ".py",
   "mimetype": "text/x-python",
   "name": "python",
   "nbconvert_exporter": "python",
   "pygments_lexer": "ipython3",
   "version": "3.6.3"
  }
 },
 "nbformat": 4,
 "nbformat_minor": 5
}
