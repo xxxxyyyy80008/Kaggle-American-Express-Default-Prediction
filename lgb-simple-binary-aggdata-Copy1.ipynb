{
 "cells": [
  {
   "cell_type": "markdown",
   "id": "7f63fdc3",
   "metadata": {
    "papermill": {
     "duration": 0.012734,
     "end_time": "2022-07-10T10:59:55.205684",
     "exception": false,
     "start_time": "2022-07-10T10:59:55.192950",
     "status": "completed"
    },
    "tags": []
   },
   "source": [
    "# simple lgb"
   ]
  },
  {
   "cell_type": "code",
   "execution_count": 1,
   "id": "54232051",
   "metadata": {
    "_cell_guid": "b1076dfc-b9ad-4769-8c92-a6c4dae69d19",
    "_uuid": "8f2839f25d086af736a60e9eeb907d3b93b6e0e5",
    "execution": {
     "iopub.execute_input": "2022-07-10T10:59:55.231125Z",
     "iopub.status.busy": "2022-07-10T10:59:55.229758Z",
     "iopub.status.idle": "2022-07-10T10:59:55.256024Z",
     "shell.execute_reply": "2022-07-10T10:59:55.255198Z"
    },
    "papermill": {
     "duration": 0.042359,
     "end_time": "2022-07-10T10:59:55.259460",
     "exception": false,
     "start_time": "2022-07-10T10:59:55.217101",
     "status": "completed"
    },
    "tags": []
   },
   "outputs": [
    {
     "name": "stdout",
     "output_type": "stream",
     "text": [
      "/kaggle/input/amexdataagg/test_agg_stats.csv\n",
      "/kaggle/input/amexdataagg/agg_test_all.parquet\n",
      "/kaggle/input/amexdataagg/agg_train_all.parquet\n",
      "/kaggle/input/amexdataagg/train_agg_stats.csv\n",
      "/kaggle/input/amex-default-prediction/sample_submission.csv\n",
      "/kaggle/input/amex-default-prediction/train_data.csv\n",
      "/kaggle/input/amex-default-prediction/test_data.csv\n",
      "/kaggle/input/amex-default-prediction/train_labels.csv\n"
     ]
    }
   ],
   "source": [
    "# This Python 3 environment comes with many helpful analytics libraries installed\n",
    "# It is defined by the kaggle/python Docker image: https://github.com/kaggle/docker-python\n",
    "# For example, here's several helpful packages to load\n",
    "\n",
    "import numpy as np # linear algebra\n",
    "import pandas as pd # data processing, CSV file I/O (e.g. pd.read_csv)\n",
    "\n",
    "# Input data files are available in the read-only \"../input/\" directory\n",
    "# For example, running this (by clicking run or pressing Shift+Enter) will list all files under the input directory\n",
    "\n",
    "import os\n",
    "for dirname, _, filenames in os.walk('/kaggle/input'):\n",
    "    for filename in filenames:\n",
    "        print(os.path.join(dirname, filename))\n",
    "\n",
    "# You can write up to 20GB to the current directory (/kaggle/working/) that gets preserved as output when you create a version using \"Save & Run All\" \n",
    "# You can also write temporary files to /kaggle/temp/, but they won't be saved outside of the current session"
   ]
  },
  {
   "cell_type": "code",
   "execution_count": 2,
   "id": "502cbb4f",
   "metadata": {
    "execution": {
     "iopub.execute_input": "2022-07-10T10:59:55.285441Z",
     "iopub.status.busy": "2022-07-10T10:59:55.284746Z",
     "iopub.status.idle": "2022-07-10T10:59:56.159300Z",
     "shell.execute_reply": "2022-07-10T10:59:56.158336Z"
    },
    "papermill": {
     "duration": 0.890727,
     "end_time": "2022-07-10T10:59:56.162522",
     "exception": false,
     "start_time": "2022-07-10T10:59:55.271795",
     "status": "completed"
    },
    "tags": []
   },
   "outputs": [],
   "source": [
    "import numpy as np\n",
    "import pandas as pd\n",
    "import gc\n",
    "import copy\n",
    "import os\n",
    "import sys\n",
    "\n",
    "from pathlib import Path\n",
    "from datetime import datetime, date, time, timedelta\n",
    "from dateutil import relativedelta\n",
    "\n",
    "import pyarrow.parquet as pq\n",
    "import pyarrow as pa\n",
    "\n",
    "import dask.dataframe as dd"
   ]
  },
  {
   "cell_type": "code",
   "execution_count": 3,
   "id": "d3593b1e",
   "metadata": {
    "execution": {
     "iopub.execute_input": "2022-07-10T10:59:56.187675Z",
     "iopub.status.busy": "2022-07-10T10:59:56.187296Z",
     "iopub.status.idle": "2022-07-10T11:00:10.427915Z",
     "shell.execute_reply": "2022-07-10T11:00:10.426757Z"
    },
    "papermill": {
     "duration": 14.256236,
     "end_time": "2022-07-10T11:00:10.430465",
     "exception": false,
     "start_time": "2022-07-10T10:59:56.174229",
     "status": "completed"
    },
    "tags": []
   },
   "outputs": [
    {
     "data": {
      "text/plain": [
       "1234"
      ]
     },
     "execution_count": 3,
     "metadata": {},
     "output_type": "execute_result"
    }
   ],
   "source": [
    "import warnings\n",
    "warnings.filterwarnings(\"ignore\")\n",
    "\n",
    "pd.options.display.max_rows = 100\n",
    "pd.options.display.max_columns = 100\n",
    "\n",
    "\n",
    "import pytorch_lightning as pl\n",
    "random_seed=1234\n",
    "pl.seed_everything(random_seed)"
   ]
  },
  {
   "cell_type": "markdown",
   "id": "a9ac3134",
   "metadata": {
    "papermill": {
     "duration": 0.012707,
     "end_time": "2022-07-10T11:00:10.455575",
     "exception": false,
     "start_time": "2022-07-10T11:00:10.442868",
     "status": "completed"
    },
    "tags": []
   },
   "source": [
    "## load data"
   ]
  },
  {
   "cell_type": "code",
   "execution_count": 4,
   "id": "e37269ec",
   "metadata": {
    "execution": {
     "iopub.execute_input": "2022-07-10T11:00:10.482986Z",
     "iopub.status.busy": "2022-07-10T11:00:10.481932Z",
     "iopub.status.idle": "2022-07-10T11:00:16.007165Z",
     "shell.execute_reply": "2022-07-10T11:00:16.005724Z"
    },
    "papermill": {
     "duration": 5.541726,
     "end_time": "2022-07-10T11:00:16.009639",
     "exception": false,
     "start_time": "2022-07-10T11:00:10.467913",
     "status": "completed"
    },
    "tags": []
   },
   "outputs": [
    {
     "name": "stdout",
     "output_type": "stream",
     "text": [
      "CPU times: user 5.07 s, sys: 1.88 s, total: 6.95 s\n",
      "Wall time: 5.52 s\n"
     ]
    }
   ],
   "source": [
    "%%time\n",
    "df = pd.read_parquet('/kaggle/input/amexdataagg/agg_train_all.parquet')"
   ]
  },
  {
   "cell_type": "code",
   "execution_count": 5,
   "id": "e0b6f098",
   "metadata": {
    "execution": {
     "iopub.execute_input": "2022-07-10T11:00:16.044273Z",
     "iopub.status.busy": "2022-07-10T11:00:16.043408Z",
     "iopub.status.idle": "2022-07-10T11:00:16.051475Z",
     "shell.execute_reply": "2022-07-10T11:00:16.050363Z"
    },
    "papermill": {
     "duration": 0.027096,
     "end_time": "2022-07-10T11:00:16.053984",
     "exception": false,
     "start_time": "2022-07-10T11:00:16.026888",
     "status": "completed"
    },
    "tags": []
   },
   "outputs": [],
   "source": [
    "df.rename(columns={'0':'cnt'}, inplace=True)"
   ]
  },
  {
   "cell_type": "code",
   "execution_count": 6,
   "id": "779188c9",
   "metadata": {
    "execution": {
     "iopub.execute_input": "2022-07-10T11:00:16.083285Z",
     "iopub.status.busy": "2022-07-10T11:00:16.082493Z",
     "iopub.status.idle": "2022-07-10T11:00:16.998710Z",
     "shell.execute_reply": "2022-07-10T11:00:16.997034Z"
    },
    "papermill": {
     "duration": 0.933053,
     "end_time": "2022-07-10T11:00:17.001208",
     "exception": false,
     "start_time": "2022-07-10T11:00:16.068155",
     "status": "completed"
    },
    "tags": []
   },
   "outputs": [
    {
     "name": "stdout",
     "output_type": "stream",
     "text": [
      "(458913, 2)\n"
     ]
    },
    {
     "data": {
      "text/html": [
       "<div>\n",
       "<style scoped>\n",
       "    .dataframe tbody tr th:only-of-type {\n",
       "        vertical-align: middle;\n",
       "    }\n",
       "\n",
       "    .dataframe tbody tr th {\n",
       "        vertical-align: top;\n",
       "    }\n",
       "\n",
       "    .dataframe thead th {\n",
       "        text-align: right;\n",
       "    }\n",
       "</style>\n",
       "<table border=\"1\" class=\"dataframe\">\n",
       "  <thead>\n",
       "    <tr style=\"text-align: right;\">\n",
       "      <th></th>\n",
       "      <th>customer_ID</th>\n",
       "      <th>target</th>\n",
       "    </tr>\n",
       "  </thead>\n",
       "  <tbody>\n",
       "    <tr>\n",
       "      <th>0</th>\n",
       "      <td>0000099d6bd597052cdcda90ffabf56573fe9d7c79be5f...</td>\n",
       "      <td>0</td>\n",
       "    </tr>\n",
       "    <tr>\n",
       "      <th>1</th>\n",
       "      <td>00000fd6641609c6ece5454664794f0340ad84dddce9a2...</td>\n",
       "      <td>0</td>\n",
       "    </tr>\n",
       "  </tbody>\n",
       "</table>\n",
       "</div>"
      ],
      "text/plain": [
       "                                         customer_ID  target\n",
       "0  0000099d6bd597052cdcda90ffabf56573fe9d7c79be5f...       0\n",
       "1  00000fd6641609c6ece5454664794f0340ad84dddce9a2...       0"
      ]
     },
     "metadata": {},
     "output_type": "display_data"
    },
    {
     "name": "stdout",
     "output_type": "stream",
     "text": [
      "CPU times: user 529 ms, sys: 181 ms, total: 710 ms\n",
      "Wall time: 909 ms\n"
     ]
    }
   ],
   "source": [
    "%%time\n",
    "train_labels = pd.read_csv('/kaggle/input/amex-default-prediction/train_labels.csv')\n",
    "print(train_labels.shape)\n",
    "display(train_labels.head(2))"
   ]
  },
  {
   "cell_type": "markdown",
   "id": "e4f78e38",
   "metadata": {
    "papermill": {
     "duration": 0.012018,
     "end_time": "2022-07-10T11:00:17.025509",
     "exception": false,
     "start_time": "2022-07-10T11:00:17.013491",
     "status": "completed"
    },
    "tags": []
   },
   "source": [
    "### load stats data"
   ]
  },
  {
   "cell_type": "code",
   "execution_count": 7,
   "id": "9154a2aa",
   "metadata": {
    "execution": {
     "iopub.execute_input": "2022-07-10T11:00:17.052178Z",
     "iopub.status.busy": "2022-07-10T11:00:17.051285Z",
     "iopub.status.idle": "2022-07-10T11:00:17.066991Z",
     "shell.execute_reply": "2022-07-10T11:00:17.065553Z"
    },
    "papermill": {
     "duration": 0.032059,
     "end_time": "2022-07-10T11:00:17.069731",
     "exception": false,
     "start_time": "2022-07-10T11:00:17.037672",
     "status": "completed"
    },
    "tags": []
   },
   "outputs": [],
   "source": [
    "agg_stats = pd.read_csv('/kaggle/input/amexdataagg/train_agg_stats.csv', sep='|', index_col=0)"
   ]
  },
  {
   "cell_type": "code",
   "execution_count": 8,
   "id": "8226646a",
   "metadata": {
    "execution": {
     "iopub.execute_input": "2022-07-10T11:00:17.096562Z",
     "iopub.status.busy": "2022-07-10T11:00:17.096173Z",
     "iopub.status.idle": "2022-07-10T11:00:17.106903Z",
     "shell.execute_reply": "2022-07-10T11:00:17.105506Z"
    },
    "papermill": {
     "duration": 0.02701,
     "end_time": "2022-07-10T11:00:17.109523",
     "exception": false,
     "start_time": "2022-07-10T11:00:17.082513",
     "status": "completed"
    },
    "tags": []
   },
   "outputs": [
    {
     "data": {
      "text/plain": [
       "feat            0\n",
       "min             0\n",
       "max             0\n",
       "mean            0\n",
       "std             0\n",
       "median          0\n",
       "skew            0\n",
       "kurtosis        0\n",
       "quantile0.05    0\n",
       "quantile0.15    0\n",
       "quantile0.25    0\n",
       "quantile0.75    0\n",
       "quantile0.85    0\n",
       "quantile0.95    0\n",
       "dtype: int64"
      ]
     },
     "execution_count": 8,
     "metadata": {},
     "output_type": "execute_result"
    }
   ],
   "source": [
    "agg_stats.isna().sum()"
   ]
  },
  {
   "cell_type": "code",
   "execution_count": 9,
   "id": "70c71dfe",
   "metadata": {
    "execution": {
     "iopub.execute_input": "2022-07-10T11:00:17.135592Z",
     "iopub.status.busy": "2022-07-10T11:00:17.135210Z",
     "iopub.status.idle": "2022-07-10T11:00:17.154184Z",
     "shell.execute_reply": "2022-07-10T11:00:17.153089Z"
    },
    "papermill": {
     "duration": 0.034485,
     "end_time": "2022-07-10T11:00:17.156286",
     "exception": false,
     "start_time": "2022-07-10T11:00:17.121801",
     "status": "completed"
    },
    "tags": []
   },
   "outputs": [
    {
     "data": {
      "text/html": [
       "<div>\n",
       "<style scoped>\n",
       "    .dataframe tbody tr th:only-of-type {\n",
       "        vertical-align: middle;\n",
       "    }\n",
       "\n",
       "    .dataframe tbody tr th {\n",
       "        vertical-align: top;\n",
       "    }\n",
       "\n",
       "    .dataframe thead th {\n",
       "        text-align: right;\n",
       "    }\n",
       "</style>\n",
       "<table border=\"1\" class=\"dataframe\">\n",
       "  <thead>\n",
       "    <tr style=\"text-align: right;\">\n",
       "      <th></th>\n",
       "      <th>feat</th>\n",
       "      <th>min</th>\n",
       "      <th>max</th>\n",
       "      <th>mean</th>\n",
       "      <th>std</th>\n",
       "      <th>median</th>\n",
       "      <th>skew</th>\n",
       "      <th>kurtosis</th>\n",
       "      <th>quantile0.05</th>\n",
       "      <th>quantile0.15</th>\n",
       "      <th>quantile0.25</th>\n",
       "      <th>quantile0.75</th>\n",
       "      <th>quantile0.85</th>\n",
       "      <th>quantile0.95</th>\n",
       "    </tr>\n",
       "  </thead>\n",
       "  <tbody>\n",
       "    <tr>\n",
       "      <th>0</th>\n",
       "      <td>D_144</td>\n",
       "      <td>0.000004</td>\n",
       "      <td>1.342895</td>\n",
       "      <td>0.051679</td>\n",
       "      <td>0.173223</td>\n",
       "      <td>0.005127</td>\n",
       "      <td>4.289567</td>\n",
       "      <td>18.931978</td>\n",
       "      <td>0.003598</td>\n",
       "      <td>0.004168</td>\n",
       "      <td>0.004498</td>\n",
       "      <td>0.005852</td>\n",
       "      <td>0.006462</td>\n",
       "      <td>0.415345</td>\n",
       "    </tr>\n",
       "    <tr>\n",
       "      <th>1</th>\n",
       "      <td>S_26</td>\n",
       "      <td>0.000002</td>\n",
       "      <td>84.508010</td>\n",
       "      <td>0.063837</td>\n",
       "      <td>0.411714</td>\n",
       "      <td>0.005889</td>\n",
       "      <td>75.542442</td>\n",
       "      <td>10092.106445</td>\n",
       "      <td>0.003786</td>\n",
       "      <td>0.004434</td>\n",
       "      <td>0.004844</td>\n",
       "      <td>0.032713</td>\n",
       "      <td>0.078652</td>\n",
       "      <td>0.253601</td>\n",
       "    </tr>\n",
       "  </tbody>\n",
       "</table>\n",
       "</div>"
      ],
      "text/plain": [
       "    feat       min        max      mean       std    median       skew  \\\n",
       "0  D_144  0.000004   1.342895  0.051679  0.173223  0.005127   4.289567   \n",
       "1   S_26  0.000002  84.508010  0.063837  0.411714  0.005889  75.542442   \n",
       "\n",
       "       kurtosis  quantile0.05  quantile0.15  quantile0.25  quantile0.75  \\\n",
       "0     18.931978      0.003598      0.004168      0.004498      0.005852   \n",
       "1  10092.106445      0.003786      0.004434      0.004844      0.032713   \n",
       "\n",
       "   quantile0.85  quantile0.95  \n",
       "0      0.006462      0.415345  \n",
       "1      0.078652      0.253601  "
      ]
     },
     "execution_count": 9,
     "metadata": {},
     "output_type": "execute_result"
    }
   ],
   "source": [
    "agg_stats.head(2)"
   ]
  },
  {
   "cell_type": "code",
   "execution_count": 10,
   "id": "0c818b2e",
   "metadata": {
    "execution": {
     "iopub.execute_input": "2022-07-10T11:00:17.185341Z",
     "iopub.status.busy": "2022-07-10T11:00:17.184928Z",
     "iopub.status.idle": "2022-07-10T11:00:17.227498Z",
     "shell.execute_reply": "2022-07-10T11:00:17.225921Z"
    },
    "papermill": {
     "duration": 0.059969,
     "end_time": "2022-07-10T11:00:17.230412",
     "exception": false,
     "start_time": "2022-07-10T11:00:17.170443",
     "status": "completed"
    },
    "tags": []
   },
   "outputs": [
    {
     "name": "stdout",
     "output_type": "stream",
     "text": [
      "228\n",
      "<class 'pandas.core.frame.DataFrame'>\n",
      "Int64Index: 458913 entries, 0 to 458912\n",
      "Columns: 228 entries, customer_ID to D_129\n",
      "dtypes: float32(176), float64(47), int64(2), object(3)\n",
      "memory usage: 493.7+ MB\n",
      "CPU times: user 17.5 ms, sys: 4.14 ms, total: 21.7 ms\n",
      "Wall time: 23.5 ms\n"
     ]
    }
   ],
   "source": [
    "%%time\n",
    "\n",
    "id_feats = ['customer_ID']\n",
    "date_col =  'S_2'\n",
    "\n",
    "all_cols = ['cnt', 'B_1', 'B_10', 'B_11', 'B_12', 'B_13', 'B_14', 'B_15', 'B_16', 'B_17', 'B_18', 'B_19', 'B_2', 'B_20', 'B_21', 'B_22', 'B_23', 'B_24', 'B_25', 'B_26', 'B_27', 'B_28', 'B_29', 'B_3', 'B_30=0.0', 'B_30=1.0', 'B_30=2.0', 'B_31=0', 'B_31=1', 'B_32', 'B_33', 'B_36', 'B_37', 'B_38=1.0', 'B_38=2.0', 'B_38=3.0', 'B_38=4.0', 'B_38=5.0', 'B_38=6.0', 'B_38=7.0', 'B_39', 'B_4', 'B_40', 'B_41', 'B_42', 'B_5', 'B_6', 'B_7', 'B_8', 'B_9', 'D_102', 'D_103', 'D_104', 'D_105', 'D_106', 'D_107', 'D_108', 'D_109', 'D_110', 'D_111', 'D_112', 'D_113', 'D_114=0.0', 'D_114=1.0', 'D_115', 'D_116=0.0', 'D_116=1.0', 'D_117=-1.0', 'D_117=1.0', 'D_117=2.0', 'D_117=3.0', 'D_117=4.0', 'D_117=5.0', 'D_117=6.0', 'D_118', 'D_119', 'D_120=0.0', 'D_120=1.0', 'D_121', 'D_122', 'D_123', 'D_124', 'D_125', 'D_126=-1.0', 'D_126=0.0', 'D_126=1.0', 'D_127', 'D_128', 'D_129', 'D_130', 'D_131', 'D_132', 'D_133', 'D_134', 'D_135', 'D_136', 'D_137', 'D_138', 'D_139', 'D_140', 'D_141', 'D_142', 'D_143', 'D_144', 'D_145', 'D_39', 'D_41', 'D_42', 'D_43', 'D_44', 'D_45', 'D_46', 'D_47', 'D_48', 'D_49', 'D_50', 'D_51', 'D_52', 'D_53', 'D_54', 'D_55', 'D_56', 'D_58', 'D_59', 'D_60', 'D_61', 'D_62', 'D_63=CL', 'D_63=CO', 'D_63=CR', 'D_63=XL', 'D_63=XM', 'D_63=XZ', 'D_64=-1', 'D_64=O', 'D_64=R', 'D_64=U', 'D_65', 'D_66=0.0', 'D_66=1.0', 'D_68=0.0', 'D_68=1.0', 'D_68=2.0', 'D_68=3.0', 'D_68=4.0', 'D_68=5.0', 'D_68=6.0', 'D_69', 'D_70', 'D_71', 'D_72', 'D_73', 'D_74', 'D_75', 'D_76', 'D_77', 'D_78', 'D_79', 'D_80', 'D_81', 'D_82', 'D_83', 'D_84', 'D_86', 'D_87', 'D_88', 'D_89', 'D_91', 'D_92', 'D_93', 'D_94', 'D_96', 'P_2', 'P_3', 'P_4', 'R_1', 'R_10', 'R_11', 'R_12', 'R_13', 'R_14', 'R_15', 'R_16', 'R_17', 'R_18', 'R_19', 'R_2', 'R_20', 'R_21', 'R_22', 'R_23', 'R_24', 'R_25', 'R_26', 'R_27', 'R_28', 'R_3', 'R_4', 'R_5', 'R_6', 'R_7', 'R_8', 'R_9', 'S_11', 'S_12', 'S_13', 'S_15', 'S_16', 'S_17', 'S_18', 'S_19', 'S_20', 'S_22', 'S_23', 'S_24', 'S_25', 'S_26', 'S_27', 'S_2=max', 'S_2=min', 'S_3', 'S_5', 'S_6', 'S_7', 'S_8', 'S_9', 'customer_ID', 'days']\n",
    "\n",
    "cat_feats = ['B_30=0.0', 'B_30=1.0', 'B_30=2.0', 'B_31=0', 'B_31=1', 'B_38=1.0', 'B_38=2.0', 'B_38=3.0', 'B_38=4.0', 'B_38=5.0', 'B_38=6.0', 'B_38=7.0', 'D_114=0.0', 'D_114=1.0', 'D_116=0.0', 'D_116=1.0', 'D_117=-1.0', 'D_117=1.0', 'D_117=2.0', 'D_117=3.0', 'D_117=4.0', 'D_117=5.0', 'D_117=6.0', 'D_120=0.0', 'D_120=1.0', 'D_126=-1.0', 'D_126=0.0', 'D_126=1.0', 'D_63=CL', 'D_63=CO', 'D_63=CR', 'D_63=XL', 'D_63=XM', 'D_63=XZ', 'D_64=-1', 'D_64=O', 'D_64=R', 'D_64=U', 'D_66=0.0', 'D_66=1.0', 'D_68=0.0', 'D_68=1.0', 'D_68=2.0', 'D_68=3.0', 'D_68=4.0', 'D_68=5.0', 'D_68=6.0']\n",
    "s2_feats = ['S_2=max', 'S_2=min']\n",
    "float_feats = ['cnt', 'B_1', 'B_10', 'B_11', 'B_12', 'B_13', 'B_14', 'B_15', 'B_16', 'B_17', 'B_18', 'B_19', 'B_2', 'B_20', 'B_21', 'B_22', 'B_23', 'B_24', 'B_25', 'B_26', 'B_27', 'B_28', 'B_29', 'B_3', 'B_32', 'B_33', 'B_36', 'B_37', 'B_39', 'B_4', 'B_40', 'B_41', 'B_42', 'B_5', 'B_6', 'B_7', 'B_8', 'B_9', 'D_102', 'D_103', 'D_104', 'D_105', 'D_106', 'D_107', 'D_108', 'D_109', 'D_110', 'D_111', 'D_112', 'D_113', 'D_115', 'D_118', 'D_119', 'D_121', 'D_122', 'D_123', 'D_124', 'D_125', 'D_127', 'D_128', 'D_129', 'D_130', 'D_131', 'D_132', 'D_133', 'D_134', 'D_135', 'D_136', 'D_137', 'D_138', 'D_139', 'D_140', 'D_141', 'D_142', 'D_143', 'D_144', 'D_145', 'D_39', 'D_41', 'D_42', 'D_43', 'D_44', 'D_45', 'D_46', 'D_47', 'D_48', 'D_49', 'D_50', 'D_51', 'D_52', 'D_53', 'D_54', 'D_55', 'D_56', 'D_58', 'D_59', 'D_60', 'D_61', 'D_62', 'D_65', 'D_69', 'D_70', 'D_71', 'D_72', 'D_73', 'D_74', 'D_75', 'D_76', 'D_77', 'D_78', 'D_79', 'D_80', 'D_81', 'D_82', 'D_83', 'D_84', 'D_86', 'D_87', 'D_88', 'D_89', 'D_91', 'D_92', 'D_93', 'D_94', 'D_96', 'P_2', 'P_3', 'P_4', 'R_1', 'R_10', 'R_11', 'R_12', 'R_13', 'R_14', 'R_15', 'R_16', 'R_17', 'R_18', 'R_19', 'R_2', 'R_20', 'R_21', 'R_22', 'R_23', 'R_24', 'R_25', 'R_26', 'R_27', 'R_28', 'R_3', 'R_4', 'R_5', 'R_6', 'R_7', 'R_8', 'R_9', 'S_11', 'S_12', 'S_13', 'S_15', 'S_16', 'S_17', 'S_18', 'S_19', 'S_20', 'S_22', 'S_23', 'S_24', 'S_25', 'S_26', 'S_27', 'S_3', 'S_5', 'S_6', 'S_7', 'S_8', 'S_9', 'days']\n",
    "\n",
    "print(len(all_cols))\n",
    "df.info()\n"
   ]
  },
  {
   "cell_type": "code",
   "execution_count": 11,
   "id": "bfc97255",
   "metadata": {
    "execution": {
     "iopub.execute_input": "2022-07-10T11:00:17.257221Z",
     "iopub.status.busy": "2022-07-10T11:00:17.256814Z",
     "iopub.status.idle": "2022-07-10T11:00:17.264691Z",
     "shell.execute_reply": "2022-07-10T11:00:17.263366Z"
    },
    "papermill": {
     "duration": 0.024321,
     "end_time": "2022-07-10T11:00:17.267065",
     "exception": false,
     "start_time": "2022-07-10T11:00:17.242744",
     "status": "completed"
    },
    "tags": []
   },
   "outputs": [
    {
     "name": "stdout",
     "output_type": "stream",
     "text": [
      "47 178\n"
     ]
    }
   ],
   "source": [
    "print(len(cat_feats), len(float_feats))"
   ]
  },
  {
   "cell_type": "markdown",
   "id": "77e0209c",
   "metadata": {
    "papermill": {
     "duration": 0.01242,
     "end_time": "2022-07-10T11:00:17.292108",
     "exception": false,
     "start_time": "2022-07-10T11:00:17.279688",
     "status": "completed"
    },
    "tags": []
   },
   "source": [
    "## process data\n",
    "\n",
    "- drop columns with 20% data missing\n",
    "- for float features: fill missing values with mean\n",
    "- for categorical features:\n",
    " - fill values per feature\n",
    "- log transforma a few columns"
   ]
  },
  {
   "cell_type": "code",
   "execution_count": 12,
   "id": "7815444e",
   "metadata": {
    "execution": {
     "iopub.execute_input": "2022-07-10T11:00:17.319652Z",
     "iopub.status.busy": "2022-07-10T11:00:17.319236Z",
     "iopub.status.idle": "2022-07-10T11:00:19.176076Z",
     "shell.execute_reply": "2022-07-10T11:00:19.174804Z"
    },
    "papermill": {
     "duration": 1.874198,
     "end_time": "2022-07-10T11:00:19.178841",
     "exception": false,
     "start_time": "2022-07-10T11:00:17.304643",
     "status": "completed"
    },
    "tags": []
   },
   "outputs": [],
   "source": [
    "for c in cat_feats:\n",
    "    df[c] = df[c].fillna(0)\n",
    "    df[c] = df[c].astype('category')\n",
    "    "
   ]
  },
  {
   "cell_type": "code",
   "execution_count": 13,
   "id": "c6dc9dfb",
   "metadata": {
    "execution": {
     "iopub.execute_input": "2022-07-10T11:00:19.206154Z",
     "iopub.status.busy": "2022-07-10T11:00:19.205270Z",
     "iopub.status.idle": "2022-07-10T11:00:19.210597Z",
     "shell.execute_reply": "2022-07-10T11:00:19.209352Z"
    },
    "papermill": {
     "duration": 0.021493,
     "end_time": "2022-07-10T11:00:19.212885",
     "exception": false,
     "start_time": "2022-07-10T11:00:19.191392",
     "status": "completed"
    },
    "tags": []
   },
   "outputs": [],
   "source": [
    "n_samples = train_labels.shape[0]"
   ]
  },
  {
   "cell_type": "code",
   "execution_count": 14,
   "id": "eec74744",
   "metadata": {
    "execution": {
     "iopub.execute_input": "2022-07-10T11:00:19.239344Z",
     "iopub.status.busy": "2022-07-10T11:00:19.238925Z",
     "iopub.status.idle": "2022-07-10T11:00:19.573397Z",
     "shell.execute_reply": "2022-07-10T11:00:19.572101Z"
    },
    "papermill": {
     "duration": 0.350998,
     "end_time": "2022-07-10T11:00:19.576247",
     "exception": false,
     "start_time": "2022-07-10T11:00:19.225249",
     "status": "completed"
    },
    "tags": []
   },
   "outputs": [],
   "source": [
    "na_cnts = df.isna().sum().to_frame()\n",
    "na_cnts.columns = ['na_cnt']\n",
    "na_cnts['na_pct'] = 100*na_cnts['na_cnt']/n_samples"
   ]
  },
  {
   "cell_type": "code",
   "execution_count": 15,
   "id": "90da05f6",
   "metadata": {
    "execution": {
     "iopub.execute_input": "2022-07-10T11:00:19.603626Z",
     "iopub.status.busy": "2022-07-10T11:00:19.603251Z",
     "iopub.status.idle": "2022-07-10T11:00:19.619004Z",
     "shell.execute_reply": "2022-07-10T11:00:19.617561Z"
    },
    "papermill": {
     "duration": 0.032632,
     "end_time": "2022-07-10T11:00:19.621458",
     "exception": false,
     "start_time": "2022-07-10T11:00:19.588826",
     "status": "completed"
    },
    "tags": []
   },
   "outputs": [
    {
     "data": {
      "text/html": [
       "<div>\n",
       "<style scoped>\n",
       "    .dataframe tbody tr th:only-of-type {\n",
       "        vertical-align: middle;\n",
       "    }\n",
       "\n",
       "    .dataframe tbody tr th {\n",
       "        vertical-align: top;\n",
       "    }\n",
       "\n",
       "    .dataframe thead th {\n",
       "        text-align: right;\n",
       "    }\n",
       "</style>\n",
       "<table border=\"1\" class=\"dataframe\">\n",
       "  <thead>\n",
       "    <tr style=\"text-align: right;\">\n",
       "      <th></th>\n",
       "      <th>na_cnt</th>\n",
       "      <th>na_pct</th>\n",
       "    </tr>\n",
       "  </thead>\n",
       "  <tbody>\n",
       "    <tr>\n",
       "      <th>D_87</th>\n",
       "      <td>458084</td>\n",
       "      <td>99.819356</td>\n",
       "    </tr>\n",
       "    <tr>\n",
       "      <th>D_88</th>\n",
       "      <td>456494</td>\n",
       "      <td>99.472885</td>\n",
       "    </tr>\n",
       "    <tr>\n",
       "      <th>D_111</th>\n",
       "      <td>454826</td>\n",
       "      <td>99.109417</td>\n",
       "    </tr>\n",
       "    <tr>\n",
       "      <th>D_110</th>\n",
       "      <td>454826</td>\n",
       "      <td>99.109417</td>\n",
       "    </tr>\n",
       "    <tr>\n",
       "      <th>B_39</th>\n",
       "      <td>454807</td>\n",
       "      <td>99.105277</td>\n",
       "    </tr>\n",
       "    <tr>\n",
       "      <th>...</th>\n",
       "      <td>...</td>\n",
       "      <td>...</td>\n",
       "    </tr>\n",
       "    <tr>\n",
       "      <th>D_68=0.0</th>\n",
       "      <td>0</td>\n",
       "      <td>0.000000</td>\n",
       "    </tr>\n",
       "    <tr>\n",
       "      <th>D_120=0.0</th>\n",
       "      <td>0</td>\n",
       "      <td>0.000000</td>\n",
       "    </tr>\n",
       "    <tr>\n",
       "      <th>D_120=1.0</th>\n",
       "      <td>0</td>\n",
       "      <td>0.000000</td>\n",
       "    </tr>\n",
       "    <tr>\n",
       "      <th>B_23</th>\n",
       "      <td>0</td>\n",
       "      <td>0.000000</td>\n",
       "    </tr>\n",
       "    <tr>\n",
       "      <th>customer_ID</th>\n",
       "      <td>0</td>\n",
       "      <td>0.000000</td>\n",
       "    </tr>\n",
       "  </tbody>\n",
       "</table>\n",
       "<p>228 rows × 2 columns</p>\n",
       "</div>"
      ],
      "text/plain": [
       "             na_cnt     na_pct\n",
       "D_87         458084  99.819356\n",
       "D_88         456494  99.472885\n",
       "D_111        454826  99.109417\n",
       "D_110        454826  99.109417\n",
       "B_39         454807  99.105277\n",
       "...             ...        ...\n",
       "D_68=0.0          0   0.000000\n",
       "D_120=0.0         0   0.000000\n",
       "D_120=1.0         0   0.000000\n",
       "B_23              0   0.000000\n",
       "customer_ID       0   0.000000\n",
       "\n",
       "[228 rows x 2 columns]"
      ]
     },
     "execution_count": 15,
     "metadata": {},
     "output_type": "execute_result"
    }
   ],
   "source": [
    "na_cnts.sort_values(by=['na_cnt'], ascending=False)"
   ]
  },
  {
   "cell_type": "code",
   "execution_count": 16,
   "id": "38a88d07",
   "metadata": {
    "execution": {
     "iopub.execute_input": "2022-07-10T11:00:19.648940Z",
     "iopub.status.busy": "2022-07-10T11:00:19.648558Z",
     "iopub.status.idle": "2022-07-10T11:00:19.662104Z",
     "shell.execute_reply": "2022-07-10T11:00:19.661028Z"
    },
    "papermill": {
     "duration": 0.030144,
     "end_time": "2022-07-10T11:00:19.664514",
     "exception": false,
     "start_time": "2022-07-10T11:00:19.634370",
     "status": "completed"
    },
    "tags": []
   },
   "outputs": [
    {
     "data": {
      "text/html": [
       "<div>\n",
       "<style scoped>\n",
       "    .dataframe tbody tr th:only-of-type {\n",
       "        vertical-align: middle;\n",
       "    }\n",
       "\n",
       "    .dataframe tbody tr th {\n",
       "        vertical-align: top;\n",
       "    }\n",
       "\n",
       "    .dataframe thead th {\n",
       "        text-align: right;\n",
       "    }\n",
       "</style>\n",
       "<table border=\"1\" class=\"dataframe\">\n",
       "  <thead>\n",
       "    <tr style=\"text-align: right;\">\n",
       "      <th></th>\n",
       "      <th>na_cnt</th>\n",
       "      <th>na_pct</th>\n",
       "    </tr>\n",
       "  </thead>\n",
       "  <tbody>\n",
       "    <tr>\n",
       "      <th>D_73</th>\n",
       "      <td>450905</td>\n",
       "      <td>98.255007</td>\n",
       "    </tr>\n",
       "    <tr>\n",
       "      <th>D_135</th>\n",
       "      <td>424357</td>\n",
       "      <td>92.470032</td>\n",
       "    </tr>\n",
       "    <tr>\n",
       "      <th>D_106</th>\n",
       "      <td>397376</td>\n",
       "      <td>86.590705</td>\n",
       "    </tr>\n",
       "    <tr>\n",
       "      <th>D_108</th>\n",
       "      <td>437983</td>\n",
       "      <td>95.439223</td>\n",
       "    </tr>\n",
       "    <tr>\n",
       "      <th>B_39</th>\n",
       "      <td>454807</td>\n",
       "      <td>99.105277</td>\n",
       "    </tr>\n",
       "    <tr>\n",
       "      <th>D_53</th>\n",
       "      <td>314857</td>\n",
       "      <td>68.609301</td>\n",
       "    </tr>\n",
       "    <tr>\n",
       "      <th>D_56</th>\n",
       "      <td>214314</td>\n",
       "      <td>46.700355</td>\n",
       "    </tr>\n",
       "    <tr>\n",
       "      <th>D_137</th>\n",
       "      <td>424357</td>\n",
       "      <td>92.470032</td>\n",
       "    </tr>\n",
       "    <tr>\n",
       "      <th>D_142</th>\n",
       "      <td>373333</td>\n",
       "      <td>81.351585</td>\n",
       "    </tr>\n",
       "    <tr>\n",
       "      <th>D_43</th>\n",
       "      <td>103075</td>\n",
       "      <td>22.460684</td>\n",
       "    </tr>\n",
       "    <tr>\n",
       "      <th>D_136</th>\n",
       "      <td>424357</td>\n",
       "      <td>92.470032</td>\n",
       "    </tr>\n",
       "    <tr>\n",
       "      <th>D_138</th>\n",
       "      <td>424357</td>\n",
       "      <td>92.470032</td>\n",
       "    </tr>\n",
       "    <tr>\n",
       "      <th>D_105</th>\n",
       "      <td>222059</td>\n",
       "      <td>48.388039</td>\n",
       "    </tr>\n",
       "    <tr>\n",
       "      <th>D_50</th>\n",
       "      <td>249021</td>\n",
       "      <td>54.263226</td>\n",
       "    </tr>\n",
       "    <tr>\n",
       "      <th>D_134</th>\n",
       "      <td>424357</td>\n",
       "      <td>92.470032</td>\n",
       "    </tr>\n",
       "    <tr>\n",
       "      <th>D_132</th>\n",
       "      <td>397300</td>\n",
       "      <td>86.574144</td>\n",
       "    </tr>\n",
       "    <tr>\n",
       "      <th>B_42</th>\n",
       "      <td>452404</td>\n",
       "      <td>98.581648</td>\n",
       "    </tr>\n",
       "    <tr>\n",
       "      <th>S_9</th>\n",
       "      <td>145234</td>\n",
       "      <td>31.647393</td>\n",
       "    </tr>\n",
       "    <tr>\n",
       "      <th>B_29</th>\n",
       "      <td>422100</td>\n",
       "      <td>91.978218</td>\n",
       "    </tr>\n",
       "    <tr>\n",
       "      <th>D_49</th>\n",
       "      <td>397298</td>\n",
       "      <td>86.573708</td>\n",
       "    </tr>\n",
       "    <tr>\n",
       "      <th>B_17</th>\n",
       "      <td>213430</td>\n",
       "      <td>46.507726</td>\n",
       "    </tr>\n",
       "    <tr>\n",
       "      <th>D_87</th>\n",
       "      <td>458084</td>\n",
       "      <td>99.819356</td>\n",
       "    </tr>\n",
       "    <tr>\n",
       "      <th>D_111</th>\n",
       "      <td>454826</td>\n",
       "      <td>99.109417</td>\n",
       "    </tr>\n",
       "    <tr>\n",
       "      <th>D_110</th>\n",
       "      <td>454826</td>\n",
       "      <td>99.109417</td>\n",
       "    </tr>\n",
       "    <tr>\n",
       "      <th>R_26</th>\n",
       "      <td>407647</td>\n",
       "      <td>88.828819</td>\n",
       "    </tr>\n",
       "    <tr>\n",
       "      <th>D_82</th>\n",
       "      <td>335428</td>\n",
       "      <td>73.091850</td>\n",
       "    </tr>\n",
       "    <tr>\n",
       "      <th>D_88</th>\n",
       "      <td>456494</td>\n",
       "      <td>99.472885</td>\n",
       "    </tr>\n",
       "    <tr>\n",
       "      <th>R_9</th>\n",
       "      <td>419377</td>\n",
       "      <td>91.384859</td>\n",
       "    </tr>\n",
       "    <tr>\n",
       "      <th>D_76</th>\n",
       "      <td>402992</td>\n",
       "      <td>87.814466</td>\n",
       "    </tr>\n",
       "    <tr>\n",
       "      <th>D_42</th>\n",
       "      <td>345389</td>\n",
       "      <td>75.262414</td>\n",
       "    </tr>\n",
       "  </tbody>\n",
       "</table>\n",
       "</div>"
      ],
      "text/plain": [
       "       na_cnt     na_pct\n",
       "D_73   450905  98.255007\n",
       "D_135  424357  92.470032\n",
       "D_106  397376  86.590705\n",
       "D_108  437983  95.439223\n",
       "B_39   454807  99.105277\n",
       "D_53   314857  68.609301\n",
       "D_56   214314  46.700355\n",
       "D_137  424357  92.470032\n",
       "D_142  373333  81.351585\n",
       "D_43   103075  22.460684\n",
       "D_136  424357  92.470032\n",
       "D_138  424357  92.470032\n",
       "D_105  222059  48.388039\n",
       "D_50   249021  54.263226\n",
       "D_134  424357  92.470032\n",
       "D_132  397300  86.574144\n",
       "B_42   452404  98.581648\n",
       "S_9    145234  31.647393\n",
       "B_29   422100  91.978218\n",
       "D_49   397298  86.573708\n",
       "B_17   213430  46.507726\n",
       "D_87   458084  99.819356\n",
       "D_111  454826  99.109417\n",
       "D_110  454826  99.109417\n",
       "R_26   407647  88.828819\n",
       "D_82   335428  73.091850\n",
       "D_88   456494  99.472885\n",
       "R_9    419377  91.384859\n",
       "D_76   402992  87.814466\n",
       "D_42   345389  75.262414"
      ]
     },
     "execution_count": 16,
     "metadata": {},
     "output_type": "execute_result"
    }
   ],
   "source": [
    "na_cnts[na_cnts['na_pct']>=20]"
   ]
  },
  {
   "cell_type": "code",
   "execution_count": 17,
   "id": "3e1e3c13",
   "metadata": {
    "execution": {
     "iopub.execute_input": "2022-07-10T11:00:19.692846Z",
     "iopub.status.busy": "2022-07-10T11:00:19.692469Z",
     "iopub.status.idle": "2022-07-10T11:00:19.699347Z",
     "shell.execute_reply": "2022-07-10T11:00:19.698153Z"
    },
    "papermill": {
     "duration": 0.024082,
     "end_time": "2022-07-10T11:00:19.701824",
     "exception": false,
     "start_time": "2022-07-10T11:00:19.677742",
     "status": "completed"
    },
    "tags": []
   },
   "outputs": [
    {
     "name": "stdout",
     "output_type": "stream",
     "text": [
      "30\n",
      "['B_17', 'B_29', 'B_39', 'B_42', 'D_105', 'D_106', 'D_108', 'D_110', 'D_111', 'D_132', 'D_134', 'D_135', 'D_136', 'D_137', 'D_138', 'D_142', 'D_42', 'D_43', 'D_49', 'D_50', 'D_53', 'D_56', 'D_73', 'D_76', 'D_82', 'D_87', 'D_88', 'R_26', 'R_9', 'S_9']\n"
     ]
    }
   ],
   "source": [
    "missing20 = na_cnts[na_cnts['na_pct']>=20].index.tolist()\n",
    "print(len(missing20))\n",
    "missing20.sort()\n",
    "print(missing20)"
   ]
  },
  {
   "cell_type": "code",
   "execution_count": 18,
   "id": "ef1daee7",
   "metadata": {
    "execution": {
     "iopub.execute_input": "2022-07-10T11:00:19.730767Z",
     "iopub.status.busy": "2022-07-10T11:00:19.730306Z",
     "iopub.status.idle": "2022-07-10T11:00:19.841287Z",
     "shell.execute_reply": "2022-07-10T11:00:19.839930Z"
    },
    "papermill": {
     "duration": 0.128632,
     "end_time": "2022-07-10T11:00:19.844075",
     "exception": false,
     "start_time": "2022-07-10T11:00:19.715443",
     "status": "completed"
    },
    "tags": []
   },
   "outputs": [],
   "source": [
    "df.drop(columns = missing20, inplace=True)"
   ]
  },
  {
   "cell_type": "code",
   "execution_count": 19,
   "id": "566036c1",
   "metadata": {
    "execution": {
     "iopub.execute_input": "2022-07-10T11:00:19.873829Z",
     "iopub.status.busy": "2022-07-10T11:00:19.873030Z",
     "iopub.status.idle": "2022-07-10T11:00:19.880989Z",
     "shell.execute_reply": "2022-07-10T11:00:19.879570Z"
    },
    "papermill": {
     "duration": 0.026389,
     "end_time": "2022-07-10T11:00:19.884271",
     "exception": false,
     "start_time": "2022-07-10T11:00:19.857882",
     "status": "completed"
    },
    "tags": []
   },
   "outputs": [
    {
     "name": "stdout",
     "output_type": "stream",
     "text": [
      "before:  228\n",
      "after:  198\n",
      "before:  178\n",
      "after:  148\n"
     ]
    }
   ],
   "source": [
    "print('before: ', len(all_cols))\n",
    "all_cols = list(set(all_cols) - set(missing20))\n",
    "print('after: ', len(all_cols))\n",
    "\n",
    "print('before: ', len(float_feats))\n",
    "float_feats = list(set(float_feats) - set(missing20))\n",
    "print('after: ', len(float_feats))\n"
   ]
  },
  {
   "cell_type": "code",
   "execution_count": 20,
   "id": "dbace1a2",
   "metadata": {
    "execution": {
     "iopub.execute_input": "2022-07-10T11:00:19.913486Z",
     "iopub.status.busy": "2022-07-10T11:00:19.913067Z",
     "iopub.status.idle": "2022-07-10T11:00:20.149506Z",
     "shell.execute_reply": "2022-07-10T11:00:20.148099Z"
    },
    "papermill": {
     "duration": 0.253836,
     "end_time": "2022-07-10T11:00:20.152352",
     "exception": false,
     "start_time": "2022-07-10T11:00:19.898516",
     "status": "completed"
    },
    "tags": []
   },
   "outputs": [],
   "source": [
    "\n",
    "#fill na\n",
    "for _, row in agg_stats.iterrows():\n",
    "    if row['feat'] in float_feats:\n",
    "        df[row['feat']] = df[row['feat']].fillna(row['mean'])\n",
    "   \n",
    "    "
   ]
  },
  {
   "cell_type": "code",
   "execution_count": 21,
   "id": "b3336522",
   "metadata": {
    "execution": {
     "iopub.execute_input": "2022-07-10T11:00:20.180937Z",
     "iopub.status.busy": "2022-07-10T11:00:20.180524Z",
     "iopub.status.idle": "2022-07-10T11:00:20.487165Z",
     "shell.execute_reply": "2022-07-10T11:00:20.485808Z"
    },
    "papermill": {
     "duration": 0.323993,
     "end_time": "2022-07-10T11:00:20.489796",
     "exception": false,
     "start_time": "2022-07-10T11:00:20.165803",
     "status": "completed"
    },
    "tags": []
   },
   "outputs": [
    {
     "data": {
      "text/plain": [
       "customer_ID    0\n",
       "D_86           0\n",
       "B_20           0\n",
       "S_13           0\n",
       "D_126=-1.0     0\n",
       "              ..\n",
       "B_30=1.0       0\n",
       "B_30=2.0       0\n",
       "B_27           0\n",
       "D_66=0.0       0\n",
       "D_129          0\n",
       "Length: 198, dtype: int64"
      ]
     },
     "execution_count": 21,
     "metadata": {},
     "output_type": "execute_result"
    }
   ],
   "source": [
    "df.isna().sum().sort_values(ascending=False)"
   ]
  },
  {
   "cell_type": "markdown",
   "id": "0dbc544f",
   "metadata": {
    "papermill": {
     "duration": 0.013832,
     "end_time": "2022-07-10T11:00:20.517430",
     "exception": false,
     "start_time": "2022-07-10T11:00:20.503598",
     "status": "completed"
    },
    "tags": []
   },
   "source": [
    "### combine train data with train labels\n",
    "\n"
   ]
  },
  {
   "cell_type": "code",
   "execution_count": 22,
   "id": "38261074",
   "metadata": {
    "execution": {
     "iopub.execute_input": "2022-07-10T11:00:20.546958Z",
     "iopub.status.busy": "2022-07-10T11:00:20.545785Z",
     "iopub.status.idle": "2022-07-10T11:00:20.552404Z",
     "shell.execute_reply": "2022-07-10T11:00:20.551585Z"
    },
    "papermill": {
     "duration": 0.023513,
     "end_time": "2022-07-10T11:00:20.554458",
     "exception": false,
     "start_time": "2022-07-10T11:00:20.530945",
     "status": "completed"
    },
    "tags": []
   },
   "outputs": [
    {
     "data": {
      "text/plain": [
       "((458913, 198), (458913, 2), ['customer_ID'])"
      ]
     },
     "execution_count": 22,
     "metadata": {},
     "output_type": "execute_result"
    }
   ],
   "source": [
    "df.shape, train_labels.shape, id_feats"
   ]
  },
  {
   "cell_type": "code",
   "execution_count": 23,
   "id": "0f5c68e6",
   "metadata": {
    "execution": {
     "iopub.execute_input": "2022-07-10T11:00:20.584849Z",
     "iopub.status.busy": "2022-07-10T11:00:20.584126Z",
     "iopub.status.idle": "2022-07-10T11:00:23.378814Z",
     "shell.execute_reply": "2022-07-10T11:00:23.377445Z"
    },
    "papermill": {
     "duration": 2.813208,
     "end_time": "2022-07-10T11:00:23.381371",
     "exception": false,
     "start_time": "2022-07-10T11:00:20.568163",
     "status": "completed"
    },
    "tags": []
   },
   "outputs": [
    {
     "data": {
      "text/plain": [
       "(458913, 199)"
      ]
     },
     "execution_count": 23,
     "metadata": {},
     "output_type": "execute_result"
    }
   ],
   "source": [
    "df = df.merge(train_labels, on=id_feats, how='inner')\n",
    "df.shape"
   ]
  },
  {
   "cell_type": "code",
   "execution_count": 24,
   "id": "5be5463d",
   "metadata": {
    "execution": {
     "iopub.execute_input": "2022-07-10T11:00:23.412657Z",
     "iopub.status.busy": "2022-07-10T11:00:23.411551Z",
     "iopub.status.idle": "2022-07-10T11:00:23.814865Z",
     "shell.execute_reply": "2022-07-10T11:00:23.813938Z"
    },
    "papermill": {
     "duration": 0.421039,
     "end_time": "2022-07-10T11:00:23.817074",
     "exception": false,
     "start_time": "2022-07-10T11:00:23.396035",
     "status": "completed"
    },
    "tags": []
   },
   "outputs": [
    {
     "data": {
      "text/plain": [
       "21"
      ]
     },
     "execution_count": 24,
     "metadata": {},
     "output_type": "execute_result"
    }
   ],
   "source": [
    "del train_labels\n",
    "gc.collect()"
   ]
  },
  {
   "cell_type": "code",
   "execution_count": 25,
   "id": "6dc93d5b",
   "metadata": {
    "execution": {
     "iopub.execute_input": "2022-07-10T11:00:23.851020Z",
     "iopub.status.busy": "2022-07-10T11:00:23.850429Z",
     "iopub.status.idle": "2022-07-10T11:00:24.609084Z",
     "shell.execute_reply": "2022-07-10T11:00:24.607760Z"
    },
    "papermill": {
     "duration": 0.778233,
     "end_time": "2022-07-10T11:00:24.611847",
     "exception": false,
     "start_time": "2022-07-10T11:00:23.833614",
     "status": "completed"
    },
    "tags": []
   },
   "outputs": [
    {
     "data": {
      "text/plain": [
       "Series([], dtype: int64)"
      ]
     },
     "execution_count": 25,
     "metadata": {},
     "output_type": "execute_result"
    }
   ],
   "source": [
    "df.isna().sum()[df.isna().sum()>0]"
   ]
  },
  {
   "cell_type": "markdown",
   "id": "2d66b077",
   "metadata": {
    "papermill": {
     "duration": 0.013766,
     "end_time": "2022-07-10T11:00:24.640522",
     "exception": false,
     "start_time": "2022-07-10T11:00:24.626756",
     "status": "completed"
    },
    "tags": []
   },
   "source": [
    "## train lightgbm models"
   ]
  },
  {
   "cell_type": "code",
   "execution_count": 26,
   "id": "b1130a76",
   "metadata": {
    "execution": {
     "iopub.execute_input": "2022-07-10T11:00:24.670423Z",
     "iopub.status.busy": "2022-07-10T11:00:24.669759Z",
     "iopub.status.idle": "2022-07-10T11:00:26.017991Z",
     "shell.execute_reply": "2022-07-10T11:00:26.016893Z"
    },
    "papermill": {
     "duration": 1.366426,
     "end_time": "2022-07-10T11:00:26.020931",
     "exception": false,
     "start_time": "2022-07-10T11:00:24.654505",
     "status": "completed"
    },
    "tags": []
   },
   "outputs": [
    {
     "data": {
      "text/html": [
       "<style type='text/css'>\n",
       ".datatable table.frame { margin-bottom: 0; }\n",
       ".datatable table.frame thead { border-bottom: none; }\n",
       ".datatable table.frame tr.coltypes td {  color: #FFFFFF;  line-height: 6px;  padding: 0 0.5em;}\n",
       ".datatable .bool    { background: #DDDD99; }\n",
       ".datatable .object  { background: #565656; }\n",
       ".datatable .int     { background: #5D9E5D; }\n",
       ".datatable .float   { background: #4040CC; }\n",
       ".datatable .str     { background: #CC4040; }\n",
       ".datatable .time    { background: #40CC40; }\n",
       ".datatable .row_index {  background: var(--jp-border-color3);  border-right: 1px solid var(--jp-border-color0);  color: var(--jp-ui-font-color3);  font-size: 9px;}\n",
       ".datatable .frame tbody td { text-align: left; }\n",
       ".datatable .frame tr.coltypes .row_index {  background: var(--jp-border-color0);}\n",
       ".datatable th:nth-child(2) { padding-left: 12px; }\n",
       ".datatable .hellipsis {  color: var(--jp-cell-editor-border-color);}\n",
       ".datatable .vellipsis {  background: var(--jp-layout-color0);  color: var(--jp-cell-editor-border-color);}\n",
       ".datatable .na {  color: var(--jp-cell-editor-border-color);  font-size: 80%;}\n",
       ".datatable .sp {  opacity: 0.25;}\n",
       ".datatable .footer { font-size: 9px; }\n",
       ".datatable .frame_dimensions {  background: var(--jp-border-color3);  border-top: 1px solid var(--jp-border-color0);  color: var(--jp-ui-font-color3);  display: inline-block;  opacity: 0.6;  padding: 1px 10px 1px 5px;}\n",
       "</style>\n"
      ],
      "text/plain": [
       "<IPython.core.display.HTML object>"
      ]
     },
     "metadata": {},
     "output_type": "display_data"
    }
   ],
   "source": [
    "import lightgbm as lgb\n",
    "import json\n",
    "import pickle\n",
    "from sklearn.metrics import roc_auc_score, average_precision_score, accuracy_score\n",
    "from lightgbm import LGBMClassifier\n",
    "from sklearn.preprocessing import label_binarize\n",
    "import copy\n",
    "\n",
    "\n",
    "def train_trees(X_train, y_train, num_round=100, params={}, \n",
    "                verbosity=-1, \n",
    "                save_model = False, model_file = None):\n",
    "    \n",
    "    dtrain = lgb.Dataset(X_train, y_train)\n",
    "    params['verbosity']=verbosity\n",
    "    \n",
    "    tree_model = lgb.train(params,\n",
    "                dtrain,\n",
    "                num_boost_round=num_round\n",
    "                          )\n",
    "                           \n",
    "    if save_model:\n",
    "        if model_file is None:\n",
    "            model_file = 'lgb.pkl'\n",
    "        with open(model_file, 'wb') as fout:\n",
    "            pickle.dump(tree_model, fout)\n",
    "   \n",
    "    del dtrain, tree_model\n",
    "    gc.collect()\n"
   ]
  },
  {
   "cell_type": "code",
   "execution_count": 27,
   "id": "defab9fb",
   "metadata": {
    "execution": {
     "iopub.execute_input": "2022-07-10T11:00:26.053134Z",
     "iopub.status.busy": "2022-07-10T11:00:26.052479Z",
     "iopub.status.idle": "2022-07-10T11:00:26.069499Z",
     "shell.execute_reply": "2022-07-10T11:00:26.068068Z"
    },
    "papermill": {
     "duration": 0.036137,
     "end_time": "2022-07-10T11:00:26.072271",
     "exception": false,
     "start_time": "2022-07-10T11:00:26.036134",
     "status": "completed"
    },
    "tags": []
   },
   "outputs": [],
   "source": [
    "binary_params = [\n",
    "#     {'boosting_type': 'gbdt', 'colsample_bytree': 0.4, 'learning_rate': 0.007, 'max_bin': 1650, 'max_depth': 14, 'metric': 'auc', 'min_child_samples': 4200, 'min_data_in_bin': 6650, 'n_estimators': 1700, 'n_jobs': 4, 'num_leaves': 111, 'objective': 'binary', 'random_state': 8696, 'reg_alpha': 15, 'reg_lambda': 0.01, 'subsample': 0.1, 'subsample_freq': 11},\n",
    "#     {'boosting_type': 'gbdt', 'colsample_bytree': 0.4, 'learning_rate': 0.007, 'max_bin': 1650, 'max_depth': 14, 'metric': 'auc', 'min_child_samples': 4200, 'min_data_in_bin': 6650, 'n_estimators': 1700, 'n_jobs': 4, 'num_leaves': 111, 'objective': 'binary', 'random_state': 1, 'reg_alpha': 15, 'reg_lambda': 0.01, 'subsample': 0.1, 'subsample_freq': 11},\n",
    "#     {'boosting_type': 'gbdt', 'colsample_bytree': 0.4, 'learning_rate': 0.007, 'max_bin': 1650, 'max_depth': 14, 'metric': 'auc', 'min_child_samples': 4200, 'min_data_in_bin': 6650, 'n_estimators': 1700, 'n_jobs': 4, 'num_leaves': 111, 'objective': 'binary', 'random_state': 33, 'reg_alpha': 15, 'reg_lambda': 0.01, 'subsample': 0.1, 'subsample_freq': 11},\n",
    "#     {'boosting_type': 'gbdt', 'colsample_bytree': 0.4, 'learning_rate': 0.007, 'max_bin': 1650, 'max_depth': 14, 'metric': 'auc', 'min_child_samples': 4200, 'min_data_in_bin': 6650, 'n_estimators': 1700, 'n_jobs': 4, 'num_leaves': 111, 'objective': 'binary', 'random_state': 666, 'reg_alpha': 15, 'reg_lambda': 0.01, 'subsample': 0.1, 'subsample_freq': 11},\n",
    "#     {'boosting_type': 'gbdt', 'colsample_bytree': 0.4, 'learning_rate': 0.007, 'max_bin': 1650, 'max_depth': 14, 'metric': 'auc', 'min_child_samples': 4200, 'min_data_in_bin': 6650, 'n_estimators': 1700, 'n_jobs': 4, 'num_leaves': 111, 'objective': 'binary', 'random_state': 12345, 'reg_alpha': 15, 'reg_lambda': 0.01, 'subsample': 0.1, 'subsample_freq': 11},\n",
    "    {'boosting_type': 'gbdt', 'colsample_bytree': 0.65, 'learning_rate': 0.0004, 'max_bin': 750, 'max_depth': 15, 'metric': 'auc', 'min_child_samples': 1500, 'min_data_in_bin': 4450, 'n_estimators': 500, 'n_jobs': 4, 'num_leaves': 81, 'objective': 'binary', 'random_state': 8696, 'reg_alpha': 0.0001, 'reg_lambda': 0.001, 'subsample': 0.1, 'subsample_freq': 45},\n",
    "    {'boosting_type': 'gbdt', 'colsample_bytree': 0.65, 'learning_rate': 0.0004, 'max_bin': 750, 'max_depth': 15, 'metric': 'auc', 'min_child_samples': 1500, 'min_data_in_bin': 4450, 'n_estimators': 500, 'n_jobs': 4, 'num_leaves': 81, 'objective': 'binary', 'random_state': 1, 'reg_alpha': 0.0001, 'reg_lambda': 0.001, 'subsample': 0.1, 'subsample_freq': 45},\n",
    "    {'boosting_type': 'gbdt', 'colsample_bytree': 0.65, 'learning_rate': 0.0004, 'max_bin': 750, 'max_depth': 15, 'metric': 'auc', 'min_child_samples': 1500, 'min_data_in_bin': 4450, 'n_estimators': 500, 'n_jobs': 4, 'num_leaves': 81, 'objective': 'binary', 'random_state': 21, 'reg_alpha': 0.0001, 'reg_lambda': 0.001, 'subsample': 0.1, 'subsample_freq': 45},\n",
    "    {'boosting_type': 'gbdt', 'colsample_bytree': 0.65, 'learning_rate': 0.0004, 'max_bin': 750, 'max_depth': 15, 'metric': 'auc', 'min_child_samples': 1500, 'min_data_in_bin': 4450, 'n_estimators': 500, 'n_jobs': 4, 'num_leaves': 81, 'objective': 'binary', 'random_state': 345, 'reg_alpha': 0.0001, 'reg_lambda': 0.001, 'subsample': 0.1, 'subsample_freq': 45},\n",
    "    {'boosting_type': 'gbdt', 'colsample_bytree': 0.65, 'learning_rate': 0.0004, 'max_bin': 750, 'max_depth': 15, 'metric': 'auc', 'min_child_samples': 1500, 'min_data_in_bin': 4450, 'n_estimators': 500, 'n_jobs': 4, 'num_leaves': 81, 'objective': 'binary', 'random_state': 90000, 'reg_alpha': 0.0001, 'reg_lambda': 0.001, 'subsample': 0.1, 'subsample_freq': 45},\n",
    "    \n",
    "]\n",
    "\n",
    "model_files = ['lgb1.pkl', 'lgb2.pkl', 'lgb3.pkl', 'lgb4.pkl', 'lgb5.pkl']"
   ]
  },
  {
   "cell_type": "code",
   "execution_count": 28,
   "id": "23de232a",
   "metadata": {
    "execution": {
     "iopub.execute_input": "2022-07-10T11:00:26.103424Z",
     "iopub.status.busy": "2022-07-10T11:00:26.102622Z",
     "iopub.status.idle": "2022-07-10T11:03:06.001060Z",
     "shell.execute_reply": "2022-07-10T11:03:05.999809Z"
    },
    "papermill": {
     "duration": 159.936097,
     "end_time": "2022-07-10T11:03:06.023020",
     "exception": false,
     "start_time": "2022-07-10T11:00:26.086923",
     "status": "completed"
    },
    "tags": []
   },
   "outputs": [
    {
     "name": "stdout",
     "output_type": "stream",
     "text": [
      "CPU times: user 9min 41s, sys: 4.32 s, total: 9min 46s\n",
      "Wall time: 2min 39s\n"
     ]
    }
   ],
   "source": [
    "%%time\n",
    "for params, model_file in zip(binary_params, model_files):\n",
    "    num_boost_round = params['n_estimators']\n",
    "    params_ = copy.deepcopy(params)\n",
    "    del params_['n_estimators']\n",
    "\n",
    "\n",
    "    #-----------------lgb train start-------------------------------------\n",
    "\n",
    "    train_trees(df[float_feats + cat_feats].values, df['target'].values, \n",
    "                num_round=num_boost_round, params=params_, \n",
    "                verbosity=-1, \n",
    "                save_model = True, model_file = model_file)"
   ]
  },
  {
   "cell_type": "markdown",
   "id": "241a967d",
   "metadata": {
    "papermill": {
     "duration": 0.014187,
     "end_time": "2022-07-10T11:03:06.051605",
     "exception": false,
     "start_time": "2022-07-10T11:03:06.037418",
     "status": "completed"
    },
    "tags": []
   },
   "source": [
    "## Inference"
   ]
  },
  {
   "cell_type": "code",
   "execution_count": 29,
   "id": "756751c2",
   "metadata": {
    "execution": {
     "iopub.execute_input": "2022-07-10T11:03:06.082924Z",
     "iopub.status.busy": "2022-07-10T11:03:06.081985Z",
     "iopub.status.idle": "2022-07-10T11:03:06.088737Z",
     "shell.execute_reply": "2022-07-10T11:03:06.087775Z"
    },
    "papermill": {
     "duration": 0.025264,
     "end_time": "2022-07-10T11:03:06.091065",
     "exception": false,
     "start_time": "2022-07-10T11:03:06.065801",
     "status": "completed"
    },
    "tags": []
   },
   "outputs": [],
   "source": [
    "def make_preds(X, model_files):\n",
    "    \n",
    "    pred_list=[]\n",
    "\n",
    "    for model_file in model_files:\n",
    "        with open(model_file, 'rb') as f_in:\n",
    "            tree_model = pickle.load(f_in)\n",
    "            y_preds = tree_model.predict(X, num_iteration=tree_model.best_iteration)\n",
    "            \n",
    "        pred_list.append(y_preds)\n",
    "    \n",
    "    \n",
    "    return np.array(pred_list)"
   ]
  },
  {
   "cell_type": "raw",
   "id": "b6583c04",
   "metadata": {
    "papermill": {
     "duration": 0.013973,
     "end_time": "2022-07-10T11:03:06.119549",
     "exception": false,
     "start_time": "2022-07-10T11:03:06.105576",
     "status": "completed"
    },
    "tags": []
   },
   "source": [
    "def lgb_load_predict(X:pd.DataFrame, model_file):\n",
    "    y_pred = 0\n",
    "    \n",
    "    if not Path(model_file).exists(): \n",
    "        #if model file does not exist, return 0\n",
    "        return y_pred\n",
    "    \n",
    "    with open(model_file, 'rb') as f_in:\n",
    "        reg_lgb = pickle.load(f_in)\n",
    "    \n",
    "    #lgb feature names do not allow space\n",
    "    #a feature name like 'A B C' will be saved as 'A_B_C' in pickle file\n",
    "    lgb_columns = []\n",
    "    for col in X.columns:\n",
    "        lgb_columns.extend([col.replace(' ','_')])\n",
    "    X.columns =  lgb_columns   \n",
    "        \n",
    "    if not reg_lgb.feature_name() == X.columns.to_list():\n",
    "        return y_pred\n",
    "        \n",
    "    y_pred = reg_lgb.predict(X, num_iteration=reg_lgb.best_iteration)\n",
    "    return y_pred"
   ]
  },
  {
   "cell_type": "raw",
   "id": "8e477b4d",
   "metadata": {
    "papermill": {
     "duration": 0.014205,
     "end_time": "2022-07-10T11:03:06.147905",
     "exception": false,
     "start_time": "2022-07-10T11:03:06.133700",
     "status": "completed"
    },
    "tags": []
   },
   "source": [
    "/kaggle/input/amexdataagg/test_agg_stats.csv\n",
    "/kaggle/input/amexdataagg/agg_test_all.parquet\n",
    "/kaggle/input/amexdataagg/agg_train_all.parquet\n",
    "/kaggle/input/amexdataagg/train_agg_stats.csv"
   ]
  },
  {
   "cell_type": "code",
   "execution_count": 30,
   "id": "ce792df1",
   "metadata": {
    "execution": {
     "iopub.execute_input": "2022-07-10T11:03:06.178325Z",
     "iopub.status.busy": "2022-07-10T11:03:06.177903Z",
     "iopub.status.idle": "2022-07-10T11:03:06.186948Z",
     "shell.execute_reply": "2022-07-10T11:03:06.186103Z"
    },
    "papermill": {
     "duration": 0.026835,
     "end_time": "2022-07-10T11:03:06.189070",
     "exception": false,
     "start_time": "2022-07-10T11:03:06.162235",
     "status": "completed"
    },
    "tags": []
   },
   "outputs": [],
   "source": [
    "def process_features(test_file):\n",
    "    data = pd.read_parquet(test_file)\n",
    "    data.rename(columns={'0':'cnt'}, inplace=True)\n",
    "    #drop columns with 20% missing values\n",
    "    data.drop(columns=missing20, inplace=True)\n",
    "    \n",
    "    cur_cols = data.columns.tolist()\n",
    "#     print(cur_cols)\n",
    "    \n",
    "    #fill na\n",
    "    for _, row in agg_stats.iterrows():\n",
    "        if row['feat'] in float_feats:\n",
    "            if row['feat'] in cur_cols:\n",
    "                data[row['feat']] = data[row['feat']].fillna(row['mean'])\n",
    "        \n",
    "\n",
    "    for c in cat_feats:\n",
    "        if c in cur_cols:\n",
    "            data[c] = data[c].fillna(0)   \n",
    "        else:\n",
    "            data[c] = 0\n",
    "        data[c] = data[c].astype('category')  \n",
    "        \n",
    "    return data[id_feats + float_feats + cat_feats]"
   ]
  },
  {
   "cell_type": "code",
   "execution_count": 31,
   "id": "6d039d57",
   "metadata": {
    "execution": {
     "iopub.execute_input": "2022-07-10T11:03:06.219303Z",
     "iopub.status.busy": "2022-07-10T11:03:06.218882Z",
     "iopub.status.idle": "2022-07-10T11:03:06.223023Z",
     "shell.execute_reply": "2022-07-10T11:03:06.222229Z"
    },
    "papermill": {
     "duration": 0.021566,
     "end_time": "2022-07-10T11:03:06.224949",
     "exception": false,
     "start_time": "2022-07-10T11:03:06.203383",
     "status": "completed"
    },
    "tags": []
   },
   "outputs": [],
   "source": [
    "submission_file = '/kaggle/input/amex-default-prediction/sample_submission.csv'\n",
    "test_file = '/kaggle/input/amexdataagg/agg_test_all.parquet'"
   ]
  },
  {
   "cell_type": "code",
   "execution_count": 32,
   "id": "160b9521",
   "metadata": {
    "execution": {
     "iopub.execute_input": "2022-07-10T11:03:06.255151Z",
     "iopub.status.busy": "2022-07-10T11:03:06.254438Z",
     "iopub.status.idle": "2022-07-10T11:04:27.621769Z",
     "shell.execute_reply": "2022-07-10T11:04:27.620501Z"
    },
    "papermill": {
     "duration": 81.400324,
     "end_time": "2022-07-10T11:04:27.639339",
     "exception": false,
     "start_time": "2022-07-10T11:03:06.239015",
     "status": "completed"
    },
    "tags": []
   },
   "outputs": [
    {
     "name": "stdout",
     "output_type": "stream",
     "text": [
      "CPU times: user 4min 7s, sys: 11.1 s, total: 4min 18s\n",
      "Wall time: 1min 21s\n"
     ]
    }
   ],
   "source": [
    "%%time\n",
    "data = process_features(test_file)\n",
    "all_preds = make_preds(data[float_feats + cat_feats], model_files)"
   ]
  },
  {
   "cell_type": "code",
   "execution_count": 33,
   "id": "f1d6d375",
   "metadata": {
    "execution": {
     "iopub.execute_input": "2022-07-10T11:04:27.670762Z",
     "iopub.status.busy": "2022-07-10T11:04:27.670383Z",
     "iopub.status.idle": "2022-07-10T11:04:30.604383Z",
     "shell.execute_reply": "2022-07-10T11:04:30.602992Z"
    },
    "papermill": {
     "duration": 2.952618,
     "end_time": "2022-07-10T11:04:30.607116",
     "exception": false,
     "start_time": "2022-07-10T11:04:27.654498",
     "status": "completed"
    },
    "tags": []
   },
   "outputs": [
    {
     "name": "stdout",
     "output_type": "stream",
     "text": [
      "CPU times: user 2.19 s, sys: 105 ms, total: 2.29 s\n",
      "Wall time: 2.92 s\n"
     ]
    },
    {
     "data": {
      "text/plain": [
       "customer_ID    0\n",
       "prediction     0\n",
       "dtype: int64"
      ]
     },
     "execution_count": 33,
     "metadata": {},
     "output_type": "execute_result"
    }
   ],
   "source": [
    "%%time\n",
    "test_preds = pd.DataFrame(data={'customer_ID': data['customer_ID'].values, 'prediction':all_preds.mean(axis=0)})\n",
    "\n",
    "\n",
    "submission = pd.read_csv('/kaggle/input/amex-default-prediction/sample_submission.csv')\n",
    "submission = submission[['customer_ID']].merge(test_preds[['customer_ID', 'prediction']], \n",
    "                                               on=['customer_ID'], how='left')\n",
    "\n",
    "submission.isna().sum()"
   ]
  },
  {
   "cell_type": "code",
   "execution_count": 34,
   "id": "f71fb1cc",
   "metadata": {
    "execution": {
     "iopub.execute_input": "2022-07-10T11:04:30.638649Z",
     "iopub.status.busy": "2022-07-10T11:04:30.638257Z",
     "iopub.status.idle": "2022-07-10T11:04:30.921335Z",
     "shell.execute_reply": "2022-07-10T11:04:30.920088Z"
    },
    "papermill": {
     "duration": 0.301859,
     "end_time": "2022-07-10T11:04:30.924195",
     "exception": false,
     "start_time": "2022-07-10T11:04:30.622336",
     "status": "completed"
    },
    "tags": []
   },
   "outputs": [
    {
     "data": {
      "text/plain": [
       "46"
      ]
     },
     "execution_count": 34,
     "metadata": {},
     "output_type": "execute_result"
    }
   ],
   "source": [
    "del data, all_preds\n",
    "gc.collect()"
   ]
  },
  {
   "cell_type": "code",
   "execution_count": 35,
   "id": "bc7edafe",
   "metadata": {
    "execution": {
     "iopub.execute_input": "2022-07-10T11:04:30.956471Z",
     "iopub.status.busy": "2022-07-10T11:04:30.956025Z",
     "iopub.status.idle": "2022-07-10T11:04:36.362891Z",
     "shell.execute_reply": "2022-07-10T11:04:36.361912Z"
    },
    "papermill": {
     "duration": 5.425924,
     "end_time": "2022-07-10T11:04:36.365523",
     "exception": false,
     "start_time": "2022-07-10T11:04:30.939599",
     "status": "completed"
    },
    "tags": []
   },
   "outputs": [],
   "source": [
    "submission.fillna(value=0, inplace=True)\n",
    "submission.to_csv('submission.csv', index=False)"
   ]
  },
  {
   "cell_type": "code",
   "execution_count": null,
   "id": "7b1051a5",
   "metadata": {
    "papermill": {
     "duration": 0.014131,
     "end_time": "2022-07-10T11:04:36.394760",
     "exception": false,
     "start_time": "2022-07-10T11:04:36.380629",
     "status": "completed"
    },
    "tags": []
   },
   "outputs": [],
   "source": []
  }
 ],
 "metadata": {
  "kernelspec": {
   "display_name": "Python 3",
   "language": "python",
   "name": "python3"
  },
  "language_info": {
   "codemirror_mode": {
    "name": "ipython",
    "version": 3
   },
   "file_extension": ".py",
   "mimetype": "text/x-python",
   "name": "python",
   "nbconvert_exporter": "python",
   "pygments_lexer": "ipython3",
   "version": "3.6.3"
  },
  "papermill": {
   "default_parameters": {},
   "duration": 293.888279,
   "end_time": "2022-07-10T11:04:39.030860",
   "environment_variables": {},
   "exception": null,
   "input_path": "__notebook__.ipynb",
   "output_path": "__notebook__.ipynb",
   "parameters": {},
   "start_time": "2022-07-10T10:59:45.142581",
   "version": "2.3.4"
  }
 },
 "nbformat": 4,
 "nbformat_minor": 5
}
