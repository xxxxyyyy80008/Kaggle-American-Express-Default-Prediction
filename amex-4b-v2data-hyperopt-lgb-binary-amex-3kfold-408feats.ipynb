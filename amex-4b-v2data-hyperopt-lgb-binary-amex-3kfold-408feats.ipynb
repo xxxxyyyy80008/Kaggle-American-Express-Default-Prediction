{
 "cells": [
  {
   "cell_type": "raw",
   "metadata": {
    "execution": {
     "iopub.execute_input": "2022-07-14T04:55:29.759256Z",
     "iopub.status.busy": "2022-07-14T04:55:29.758659Z",
     "iopub.status.idle": "2022-07-14T04:55:29.778715Z",
     "shell.execute_reply": "2022-07-14T04:55:29.777010Z",
     "shell.execute_reply.started": "2022-07-14T04:55:29.759223Z"
    }
   },
   "source": [
    "# This Python 3 environment comes with many helpful analytics libraries installed\n",
    "# It is defined by the kaggle/python Docker image: https://github.com/kaggle/docker-python\n",
    "# For example, here's several helpful packages to load\n",
    "\n",
    "import numpy as np # linear algebra\n",
    "import pandas as pd # data processing, CSV file I/O (e.g. pd.read_csv)\n",
    "\n",
    "# Input data files are available in the read-only \"../input/\" directory\n",
    "# For example, running this (by clicking run or pressing Shift+Enter) will list all files under the input directory\n",
    "\n",
    "import os\n",
    "for dirname, _, filenames in os.walk('/kaggle/input'):\n",
    "    for filename in filenames:\n",
    "        print(os.path.join(dirname, filename))\n",
    "\n",
    "# You can write up to 20GB to the current directory (/kaggle/working/) that gets preserved as output when you create a version using \"Save & Run All\" \n",
    "# You can also write temporary files to /kaggle/temp/, but they won't be saved outside of the current session"
   ]
  },
  {
   "cell_type": "code",
   "execution_count": 2,
   "metadata": {
    "execution": {
     "iopub.execute_input": "2022-07-14T04:55:29.781353Z",
     "iopub.status.busy": "2022-07-14T04:55:29.780400Z",
     "iopub.status.idle": "2022-07-14T04:55:29.826295Z",
     "shell.execute_reply": "2022-07-14T04:55:29.825207Z",
     "shell.execute_reply.started": "2022-07-14T04:55:29.781309Z"
    }
   },
   "outputs": [],
   "source": [
    "import pandas as pd\n",
    "import numpy as np\n",
    "import os\n",
    "from pathlib import Path\n",
    "\n",
    "from datetime import datetime, date, time\n",
    "\n",
    "import gc\n",
    "import copy\n",
    "\n",
    "import pyarrow.parquet as pq\n",
    "import pyarrow as pa"
   ]
  },
  {
   "cell_type": "code",
   "execution_count": 3,
   "metadata": {
    "execution": {
     "iopub.execute_input": "2022-07-14T04:55:29.830030Z",
     "iopub.status.busy": "2022-07-14T04:55:29.829488Z",
     "iopub.status.idle": "2022-07-14T04:55:29.838606Z",
     "shell.execute_reply": "2022-07-14T04:55:29.837521Z",
     "shell.execute_reply.started": "2022-07-14T04:55:29.829996Z"
    }
   },
   "outputs": [],
   "source": [
    "from sklearn.metrics import mean_squared_error, roc_auc_score\n",
    "from sklearn.metrics import f1_score\n",
    "from sklearn.model_selection import StratifiedKFold, KFold"
   ]
  },
  {
   "cell_type": "code",
   "execution_count": 4,
   "metadata": {
    "execution": {
     "iopub.execute_input": "2022-07-14T04:55:29.840312Z",
     "iopub.status.busy": "2022-07-14T04:55:29.839826Z",
     "iopub.status.idle": "2022-07-14T04:55:29.854059Z",
     "shell.execute_reply": "2022-07-14T04:55:29.853084Z",
     "shell.execute_reply.started": "2022-07-14T04:55:29.840282Z"
    }
   },
   "outputs": [
    {
     "name": "stderr",
     "output_type": "stream",
     "text": [
      "Global seed set to 1234\n"
     ]
    },
    {
     "data": {
      "text/plain": [
       "1234"
      ]
     },
     "execution_count": 4,
     "metadata": {},
     "output_type": "execute_result"
    }
   ],
   "source": [
    "pd.options.display.max_rows = 100\n",
    "pd.options.display.max_columns = 100\n",
    "\n",
    "import warnings\n",
    "warnings.filterwarnings(\"ignore\")\n",
    "\n",
    "import pytorch_lightning as pl\n",
    "random_seed=1234\n",
    "pl.seed_everything(random_seed)"
   ]
  },
  {
   "cell_type": "code",
   "execution_count": 5,
   "metadata": {
    "execution": {
     "iopub.execute_input": "2022-07-14T04:55:29.858043Z",
     "iopub.status.busy": "2022-07-14T04:55:29.857693Z",
     "iopub.status.idle": "2022-07-14T04:55:53.179905Z",
     "shell.execute_reply": "2022-07-14T04:55:53.179047Z",
     "shell.execute_reply.started": "2022-07-14T04:55:29.858011Z"
    }
   },
   "outputs": [
    {
     "name": "stdout",
     "output_type": "stream",
     "text": [
      "Wall time: 17.9 s\n"
     ]
    }
   ],
   "source": [
    "%%time\n",
    "# train_file = r'/kaggle/input/amex-agg-data-rev2/agg_train_all_rev2_rev.parquet'\n",
    "train_file = r'amex\\agg_train_all_rev2_rev.parquet'\n",
    "df=pd.read_parquet(train_file, engine='pyarrow')"
   ]
  },
  {
   "cell_type": "code",
   "execution_count": 6,
   "metadata": {
    "execution": {
     "iopub.execute_input": "2022-07-14T04:55:53.181839Z",
     "iopub.status.busy": "2022-07-14T04:55:53.181253Z",
     "iopub.status.idle": "2022-07-14T04:55:53.205693Z",
     "shell.execute_reply": "2022-07-14T04:55:53.204645Z",
     "shell.execute_reply.started": "2022-07-14T04:55:53.181798Z"
    }
   },
   "outputs": [
    {
     "data": {
      "text/plain": [
       "(150, 150)"
      ]
     },
     "execution_count": 6,
     "metadata": {},
     "output_type": "execute_result"
    }
   ],
   "source": [
    "corr85_150feats = ['D_48|last', 'R_1|max', 'log_D_44|mean', 'B_9|last', 'log_B_3|last', 'D_61|last', 'D_55|last', 'D_44|last', 'log_B_23|last', 'B_3|last', 'D_48|min', 'B_7|last', 'log_B_11|last', 'D_75|last', 'D_61|mean', 'log_B_22|mean', 'log_B_9|last', 'log_B_11|mean', 'R_1|last', 'log_B_23|max', 'B_4|last', 'B_20|last', 'R_10|max', 'B_19|last', 'B_1|last', 'log_B_4|last', 'R_2|max', 'log_B_40|last', 'log_D_44|min', 'B_9|max', 'log_B_40|mean', 'B_9|min', 'log_B_9|max', 'B_30|nunique', 'log_B_23|min', 'B_16|max', 'R_2|last', 'D_78|max', 'log_B_11|min', 'log_B_9|min', 'R_4|max', 'B_22|last', 'log_B_4|max', 'log_B_3|min', 'D_39|max', 'R_2|mean', 'D_58|min', 'B_7|min', 'D_41|last', 'log_D_41|max', 'S_7|max', 'log_D_41|last', 'D_70|max', 'D_44|min', 'R_4|last', 'R_3|mean', 'D_78|last', 'B_8|min', 'D_55|min', 'D_39|last', 'B_17|mean', 'S_15|max', 'log_B_40|min', 'B_17|last', 'B_38=4.0', 'B_1|min', 'S_7|last', 'R_8|max', 'D_70|last', 'R_15|max', 'B_38|nunique', 'B_3|min', 'D_84|max', 'B_16|min', 'D_43|mean', 'B_38=5.0', 'log_B_26|max', 'D_39|mean', 'P_4|max', 'R_15|mean', 'R_10|last', 'log_D_39|max', 'B_17|min', 'S_3|min', 'D_41|mean', 'B_19|min', 'R_8|mean', 'B_40|min', 'B_20|min', 'R_24|max', 'R_16|mean', 'log_D_39|last', 'R_3|last', 'D_43|last', 'B_28|last', 'log_D_43|mean', 'D_84|last', 'R_16|max', 'D_131|max', 'R_26_mean2std', 'D_81|max', 'log_B_26|last', 'S_15|mean', 'D_72|max', 'R_5|last', 'B_30=2.0', 'B_17_mean2std', 'D_79|max', 'log_B_22|min', 'R_13|max', 'log_B_21|mean', 'R_8|last', 'D_42_mean2std', 'D_130|last', 'R_3|min', 'D_49_mean2std', 'R_24|mean', 'D_120=1.0', 'R_11|mean', 'D_46|mean', 'B_25|last', 'D_53_mean2std', 'log_D_131|last', 'D_59|last', 'R_24|last', 'R_6|max', 'S_15|last', 'R_9_mean2std', 'D_70|min', 'R_20|max', 'D_135_mean2std', 'B_25|min', 'D_89|mean', 'D_132_mean2std', 'R_15|last', 'log_S_5|mean', 'log_D_43|min', 'D_131|min', 'S_20|max', 'D_53|last', 'R_13|mean', 'R_11|max', 'log_D_131|min', 'D_42|max', 'R_17|max', 'B_38=6.0', 'log_B_24|mean', 'B_32|max', 'B_22|min', 'P_4|min']\n",
    "corr75_150feats = ['D_48|last', 'R_1|max', 'B_9|last', 'log_B_3|last', 'D_44|last', 'log_B_23|last', 'log_B_11|last', 'D_58|last', 'R_1|last', 'log_B_9|mean', 'D_61|min', 'B_4|last', 'R_10|max', 'B_22|max', 'B_19|last', 'B_7|max', 'R_2|max', 'log_D_44|min', 'B_11|last', 'B_9|min', 'B_30|nunique', 'R_2|last', 'log_B_22|last', 'D_39|max', 'R_2|mean', 'log_B_40|max', 'D_41|last', 'B_20|mean', 'log_D_41|max', 'B_23|min', 'S_7|max', 'log_B_4|min', 'D_70|max', 'R_3|mean', 'D_78|last', 'B_8|min', 'D_55|min', 'D_39|last', 'B_17|mean', 'S_15|max', 'log_B_40|min', 'B_38=4.0', 'B_1|min', 'R_8|max', 'R_15|max', 'S_3|last', 'B_38|nunique', 'D_84|max', 'D_43|mean', 'B_38=5.0', 'P_4|max', 'R_10|last', 'S_3|min', 'log_B_26|mean', 'B_40|min', 'R_24|max', 'log_D_39|last', 'B_28|last', 'log_D_43|mean', 'R_16|max', 'log_B_28|max', 'D_131|max', 'R_26_mean2std', 'log_B_26|last', 'S_15|mean', 'D_72|max', 'R_5|last', 'B_30=2.0', 'B_17_mean2std', 'log_B_22|min', 'log_B_21|mean', 'R_3|min', 'D_130|max', 'D_120=1.0', 'R_11|mean', 'D_46|mean', 'B_25|last', 'D_53_mean2std', 'D_59|last', 'R_24|last', 'R_6|max', 'S_15|last', 'R_9_mean2std', 'D_81|mean', 'D_70|min', 'D_135_mean2std', 'D_89|mean', 'R_15|last', 'log_S_5|mean', 'D_131|min', 'D_53|last', 'R_13|mean', 'D_42|max', 'R_17|max', 'B_38=6.0', 'log_B_24|mean', 'B_32|max', 'B_22|min', 'R_20|mean', 'P_4|min', 'S_22|max', 'R_6|last', 'log_D_133|last', 'D_89|last', 'log_D_113|min', 'R_21|last', 'log_D_41|min', 'B_17|max', 'D_133|max', 'D_113|max', 'D_120|nunique', 'log_D_60|min', 'D_114=0.0', 'R_20|last', 'D_133|last', 'B_31|nunique', 'R_25|max', 'R_22|max', 'D_46|last', 'S_22|mean', 'R_1|min', 'B_38=7.0', 'B_24|mean', 'log_B_24|last', 'B_24|last', 'log_D_39|min', 'S_27_mean2std', 'log_D_133|min', 'D_41|min', 'D_140|max', 'B_32|last', 'R_7|max', 'B_21|max', 'R_19|last', 'D_143|last', 'log_D_107|min', 'D_64=U', 'log_B_41|max', 'D_53|min', 'B_14|min', 'R_17|last', 'B_41|last', 'R_16|last', 'D_61|max', 'D_65|max', 'D_107|max', 'S_23|mean', 'D_145|last', 'D_46|min', 'log_B_21|last']\n",
    "len(corr85_150feats), len(corr75_150feats)"
   ]
  },
  {
   "cell_type": "code",
   "execution_count": 7,
   "metadata": {
    "execution": {
     "iopub.execute_input": "2022-07-14T04:55:53.207495Z",
     "iopub.status.busy": "2022-07-14T04:55:53.207156Z",
     "iopub.status.idle": "2022-07-14T04:55:53.700439Z",
     "shell.execute_reply": "2022-07-14T04:55:53.699588Z",
     "shell.execute_reply.started": "2022-07-14T04:55:53.207464Z"
    }
   },
   "outputs": [
    {
     "data": {
      "text/plain": [
       "Series([], dtype: int64)"
      ]
     },
     "execution_count": 7,
     "metadata": {},
     "output_type": "execute_result"
    }
   ],
   "source": [
    "df[corr85_150feats].isna().sum()[df[corr85_150feats].isna().sum()>0]"
   ]
  },
  {
   "cell_type": "code",
   "execution_count": 8,
   "metadata": {
    "execution": {
     "iopub.execute_input": "2022-07-14T04:56:14.246681Z",
     "iopub.status.busy": "2022-07-14T04:56:14.246288Z",
     "iopub.status.idle": "2022-07-14T04:56:14.674848Z",
     "shell.execute_reply": "2022-07-14T04:56:14.673738Z",
     "shell.execute_reply.started": "2022-07-14T04:56:14.246643Z"
    }
   },
   "outputs": [
    {
     "data": {
      "text/plain": [
       "Series([], dtype: int64)"
      ]
     },
     "execution_count": 8,
     "metadata": {},
     "output_type": "execute_result"
    }
   ],
   "source": [
    "df[corr75_150feats].isna().sum()[df[corr75_150feats].isna().sum()>0]"
   ]
  },
  {
   "cell_type": "code",
   "execution_count": 9,
   "metadata": {
    "execution": {
     "iopub.execute_input": "2022-07-14T04:56:15.295032Z",
     "iopub.status.busy": "2022-07-14T04:56:15.294654Z",
     "iopub.status.idle": "2022-07-14T04:56:15.347569Z",
     "shell.execute_reply": "2022-07-14T04:56:15.346314Z",
     "shell.execute_reply.started": "2022-07-14T04:56:15.295002Z"
    }
   },
   "outputs": [
    {
     "name": "stdout",
     "output_type": "stream",
     "text": [
      "276 ['B_10|last', 'B_10|mean', 'B_11|last', 'B_11|mean', 'B_11|min', 'B_15|mean', 'B_17|min', 'B_18|last', 'B_18|min', 'B_19|last', 'B_1|last', 'B_1|max', 'B_1|mean', 'B_20|last', 'B_20|max', 'B_20|mean', 'B_20|min', 'B_21|max', 'B_22|last', 'B_22|max', 'B_22|mean', 'B_23|last', 'B_23|mean', 'B_25|last', 'B_25|min', 'B_26|last', 'B_2|last', 'B_2|mean', 'B_2|min', 'B_30=0.0', 'B_30=1.0', 'B_33|last', 'B_33|max', 'B_33|mean', 'B_33|min', 'B_37|last', 'B_37|max', 'B_37|mean', 'B_38|last', 'B_3|last', 'B_3|max', 'B_3|mean', 'B_3|min', 'B_40|last', 'B_4_mean2std', 'B_4|last', 'B_4|max', 'B_5|last', 'B_5|mean', 'B_6|last', 'B_6|min', 'B_7|last', 'B_7|mean', 'B_8|last', 'B_8|max', 'B_8|mean', 'B_8|min', 'B_9|last', 'B_9|max', 'B_9|mean', 'D_102|max', 'D_105|max', 'D_106|last', 'D_109|mean', 'D_112|last', 'D_114|nunique', 'D_122|last', 'D_122|max', 'D_122|min', 'D_123|mean', 'D_128|max', 'D_128|min', 'D_129|last', 'D_129|max', 'D_130|max', 'D_132|min', 'D_133|min', 'D_134|min', 'D_139|mean', 'D_39|last', 'D_39|max', 'D_41|last', 'D_41|max', 'D_41|mean', 'D_42|last', 'D_42|max', 'D_42|mean', 'D_42|min', 'D_43|last', 'D_43|max', 'D_43|mean', 'D_44|last', 'D_44|max', 'D_44|mean', 'D_45|last', 'D_45|max', 'D_45|mean', 'D_45|min', 'D_46_mean2std', 'D_46|last', 'D_46|mean', 'D_46|min', 'D_47|last', 'D_48|last', 'D_48|max', 'D_48|mean', 'D_48|min', 'D_51|mean', 'D_52_mean2std', 'D_52|max', 'D_52|mean', 'D_52|min', 'D_53|last', 'D_56|min', 'D_58|last', 'D_59|max', 'D_60|max', 'D_61|last', 'D_61|max', 'D_61|mean', 'D_61|min', 'D_62|last', 'D_62|max', 'D_62|mean', 'D_62|min', 'D_65|last', 'D_65|max', 'D_65|mean', 'D_68=1.0', 'D_69|min', 'D_70_mean2std', 'D_70|last', 'D_72|min', 'D_74|last', 'D_74|mean', 'D_75|last', 'D_75|max', 'D_75|mean', 'D_77|last', 'D_77|mean', 'D_77|min', 'D_78|last', 'D_78|max', 'D_78|mean', 'D_81|mean', 'D_84|last', 'D_84|mean', 'D_89|max', 'D_91|last', 'P_2|last', 'P_2|max', 'P_2|mean', 'P_2|min', 'P_3|last', 'P_3|mean', 'P_3|min', 'P_4|mean', 'R_10|last', 'R_10|max', 'R_10|mean', 'R_11|mean', 'R_12|max', 'R_12|mean', 'R_13_mean2std', 'R_13|last', 'R_16|mean', 'R_18|max', 'R_19|min', 'R_1|last', 'R_1|max', 'R_1|mean', 'R_27|last', 'R_27|max', 'R_27|mean', 'R_27|min', 'R_2|last', 'R_2|max', 'R_2|mean', 'R_2|min', 'R_3|last', 'R_3|max', 'R_3|mean', 'R_3|min', 'R_4|last', 'R_4|max', 'R_4|mean', 'R_4|min', 'R_5|last', 'R_5|max', 'R_5|mean', 'R_6|last', 'R_6|max', 'R_6|mean', 'R_7|last', 'R_7|max', 'R_7|mean', 'R_8|max', 'R_8|mean', 'S_15|max', 'S_15|mean', 'S_17|min', 'S_22|last', 'S_22|max', 'S_23|last', 'S_23|max', 'S_23|mean', 'S_25|last', 'S_25|mean', 'S_25|min', 'S_26|last', 'S_3|last', 'S_3|max', 'S_3|mean', 'S_3|min', 'S_6|max', 'S_6|min', 'S_7|last', 'S_7|max', 'S_7|mean', 'S_7|min', 'S_8|last', 'S_8|min', 'S_9|max', 'log_B_11|last', 'log_B_11|max', 'log_B_11|mean', 'log_B_11|min', 'log_B_12|last', 'log_B_12|max', 'log_B_18|last', 'log_B_18|max', 'log_B_18|mean', 'log_B_18|min', 'log_B_22|last', 'log_B_22|max', 'log_B_22|mean', 'log_B_23|last', 'log_B_23|max', 'log_B_23|min', 'log_B_26|last', 'log_B_26|mean', 'log_B_3|last', 'log_B_3|max', 'log_B_3|mean', 'log_B_40|last', 'log_B_4|last', 'log_B_4|max', 'log_B_4|mean', 'log_B_9|last', 'log_B_9|max', 'log_B_9|mean', 'log_B_9|min', 'log_D_102|max', 'log_D_107|mean', 'log_D_118|mean', 'log_D_123|last', 'log_D_125|min', 'log_D_131|last', 'log_D_131|min', 'log_D_39|last', 'log_D_39|max', 'log_D_41|last', 'log_D_41|max', 'log_D_43|last', 'log_D_43|max', 'log_D_43|mean', 'log_D_44|last', 'log_D_44|max', 'log_D_44|mean', 'log_D_45|last', 'log_D_45|max', 'log_D_45|mean', 'log_D_45|min', 'log_D_49|last', 'log_D_51|max', 'log_D_51|min']\n",
      "26 ['B_1|last', 'B_2|last', 'B_3|last', 'B_9|last', 'B_9|max', 'D_39|last', 'D_42|mean', 'D_44|last', 'D_44|max', 'D_48|last', 'P_2|last', 'P_2|max', 'P_2|mean', 'P_2|min', 'R_1|last', 'R_1|max', 'R_1|mean', 'log_B_11|last', 'log_B_18|last', 'log_B_3|last', 'log_B_9|last', 'log_B_9|mean', 'log_D_39|last', 'log_D_44|last', 'log_D_44|max', 'log_D_44|mean']\n"
     ]
    }
   ],
   "source": [
    "sfr_lists = [\n",
    "    ['B_9|last', 'P_2|last', 'R_1|mean', 'B_2|mean', 'B_37|last', 'log_B_18|last', 'P_2|mean', 'log_B_3|last', 'R_1|last', 'B_18|last', 'D_48|last', 'B_1|last', 'log_D_44|last', 'B_23|last', 'B_2|last', 'P_2|min', 'D_44|max', 'B_9|max', 'D_48|max', 'B_3|last', 'log_B_9|last', 'log_D_44|mean', 'log_B_3|max', 'R_1|max', 'log_B_9|mean', 'log_B_23|max', 'B_7|last', 'D_62|mean', 'S_25|min', 'B_3|max', 'D_75|last', 'D_61|mean', 'D_62|min', 'log_B_3|mean', 'B_33|mean', 'log_B_11|mean', 'B_18|min', 'D_75|max', 'R_2|last', 'B_6|min', 'D_78|max', 'B_22|last', 'R_2|mean', 'log_B_9|min', 'B_30=1.0', 'B_11|last', 'D_44|mean', 'P_2|max', 'D_44|last', 'log_B_23|last', 'log_D_44|max', 'D_45|mean', 'log_D_41|last', 'D_42|last', 'D_61|last', 'D_42|mean', 'log_B_11|last', 'B_20|mean', 'log_D_39|last', 'B_19|last', 'P_3|last', 'D_41|last', 'D_45|max', 'D_39|last', 'D_39|max', 'D_42|max', 'R_6|last', 'R_3|mean', 'S_7|max', 'S_7|mean', 'log_D_45|max', 'R_4|mean', 'log_B_4|last', 'R_3|max', 'D_42|min', 'log_B_9|max', 'log_B_26|last', 'R_8|mean', 'D_78|last', 'P_3|min', 'B_8|min', 'R_2|max', 'B_6|last', 'D_48|mean', 'S_3|last', 'D_65|last', 'S_7|last', 'B_22|mean', 'D_62|last', 'R_5|max', 'R_7|last', 'S_3|max', 'log_D_45|mean', 'R_3|last', 'D_74|last', 'R_10|max', 'B_8|last', 'D_77|min', 'S_3|mean', 'S_15|max', 'B_26|last', 'B_20|last', 'B_10|last', 'S_23|last', 'B_8|mean', 'P_3|mean', 'R_4|last', 'S_3|min', 'R_10|mean', 'D_43|max', 'D_112|last', 'log_D_39|max', 'R_3|min', 'D_53|last', 'D_52|min', 'D_77|mean', 'D_45|last', 'log_D_45|last', 'D_41|max', 'D_43|last', 'R_16|mean', 'S_23|max', 'D_65|max', 'D_65|mean', 'log_D_43|last', 'B_5|mean', 'R_27|last', 'B_8|max', 'D_47|last', 'S_15|mean', 'D_43|mean', 'B_2|min', 'R_8|max', 'S_23|mean', 'R_27|mean', 'log_D_43|max', 'R_5|mean', 'B_4|last', 'B_22|max', 'D_61|max', 'D_48|min', 'B_38|last', 'D_46|last', 'S_7|min', 'log_B_26|mean', 'log_D_43|mean', 'B_37|max', 'log_B_12|last', 'B_17|min', 'B_20|min'],\n",
    "    \n",
    "    ['P_2|last', 'P_2|mean', 'D_44|max', 'B_9|last', 'log_B_18|last', 'P_2|min', 'D_48|last', 'log_B_9|mean', 'B_3|last', 'log_B_9|last', 'B_33|mean', 'R_1|mean', 'B_11|last', 'B_20|last', 'R_1|max', 'R_1|last', 'P_2|max', 'log_B_9|max', 'B_3|mean', 'D_48|max', 'B_6|last', 'log_D_44|mean', 'D_48|mean', 'D_61|last', 'B_18|last', 'log_D_44|max', 'B_2|mean', 'B_20|mean', 'B_7|mean', 'D_44|last', 'B_2|last', 'S_23|mean', 'B_7|last', 'B_37|mean', 'B_23|last', 'log_B_11|last', 'S_23|max', 'D_61|min', 'D_62|max', 'B_1|last', 'D_61|mean', 'log_D_44|last', 'S_23|last', 'log_B_3|last', 'log_D_41|last', 'B_9|max', 'B_30=1.0', 'S_3|last', 'B_4|last', 'B_8|min', 'D_44|mean', 'D_42|mean', 'R_10|mean', 'log_B_12|max', 'D_78|max', 'log_B_11|min', 'log_B_40|last', 'D_56|min', 'log_B_11|max', 'S_3|min', 'R_6|max', 'D_53|last', 'D_39|last', 'D_45|mean', 'D_89|max', 'log_D_39|last', 'log_B_4|max', 'D_39|max', 'D_68=1.0', 'S_3|max', 'log_D_43|last', 'S_3|mean', 'R_3|last', 'log_D_102|max', 'D_84|last', 'D_114|nunique', 'D_109|mean', 'P_4|mean', 'S_25|min', 'B_22|last', 'D_129|max', 'D_77|mean', 'R_19|min', 'B_20|max', 'log_D_125|min', 'R_18|max', 'P_3|min', 'log_D_51|min', 'B_4_mean2std', 'S_7|mean', 'D_52_mean2std', 'D_41|last', 'R_11|mean', 'R_4|min', 'log_B_23|min', 'D_91|last', 'D_42|max', 'R_2|min', 'B_33|min', 'log_D_45|mean'],\n",
    "    ['P_2|last', 'P_2|mean', 'D_44|max', 'B_9|last', 'log_B_18|last', 'P_2|min', 'B_3|last', 'D_48|last', 'R_1|mean', 'D_44|last', 'B_33|mean', 'P_2|max', 'R_1|max', 'B_11|last', 'B_18|last', 'log_B_9|max', 'log_D_44|max', 'B_7|last', 'log_B_9|last', 'D_48|mean', 'log_D_44|mean', 'B_20|last', 'B_3|mean', 'D_48|max', 'B_23|last', 'log_B_9|mean', 'B_2|mean', 'D_61|last', 'B_6|last', 'R_1|last', 'D_41|last', 'B_7|mean', 'B_20|mean', 'B_37|mean', 'D_61|mean', 'S_23|max', 'D_62|max', 'B_1|last', 'log_D_44|last', 'S_23|mean', 'D_61|min', 'B_30=1.0', 'B_2|last', 'B_19|last', 'S_23|last', 'P_3|mean', 'D_39|last', 'S_3|mean', 'R_10|max', 'D_42|mean', 'B_37|last', 'B_33|last', 'R_7|max', 'B_2|min', 'R_5|last', 'log_D_39|last', 'R_2|last', 'P_3|last', 'R_2|mean', 'S_3|max', 'B_9|max', 'B_23|mean', 'S_7|max', 'D_42|last', 'log_B_11|last', 'D_62|min', 'log_B_11|mean', 'D_45|max', 'log_B_22|last', 'R_4|mean', 'D_45|mean', 'R_2|max', 'log_B_23|last', 'B_4|last', 'B_3|max', 'P_3|min', 'D_58|last', 'D_39|max', 'D_46|last', 'R_3|max', 'log_D_41|last', 'D_77|mean', 'D_112|last', 'D_65|last', 'log_B_3|last', 'D_42|min', 'D_43|last', 'log_B_4|last', 'D_75|last', 'D_43|mean', 'R_6|max', 'R_5|max', 'D_46|mean', 'R_7|mean', 'D_51|mean', 'log_D_45|min', 'R_4|last', 'D_45|last', 'R_6|last', 'log_D_43|last'],\n",
    "    ['P_2|last', 'B_9|last', 'P_2|mean', 'D_44|max', 'log_B_18|last', 'P_2|min', 'D_48|last', 'B_3|last', 'log_B_9|mean', 'R_1|mean', 'B_33|mean', 'P_2|max', 'B_11|last', 'log_B_9|max', 'B_18|last', 'log_B_9|last', 'R_1|max', 'D_48|mean', 'D_48|max', 'log_D_44|mean', 'log_D_44|max', 'D_61|last', 'B_3|mean', 'B_3|max', 'B_23|last', 'R_10|mean', 'B_20|last', 'B_2|mean', 'B_7|mean', 'R_1|last', 'B_6|last', 'D_44|last', 'log_D_44|last', 'B_1|last', 'D_61|mean', 'S_23|mean', 'B_20|mean', 'S_23|max', 'R_2|last', 'B_30=1.0', 'B_2|last', 'D_61|min', 'D_42|mean', 'D_62|max', 'log_B_11|min', 'R_2|max', 'R_4|mean', 'B_37|last', 'D_62|min', 'log_D_45|max', 'log_B_11|last', 'log_D_39|last', 'B_7|last', 'P_3|mean', 'D_45|max', 'log_B_23|last', 'R_2|mean', 'D_39|last', 'B_10|last', 'D_75|last', 'B_9|max', 'R_5|last', 'B_19|last', 'R_3|mean', 'P_3|min', 'D_42|max', 'log_B_4|last', 'B_2|min', 'R_5|mean', 'D_39|max', 'R_5|max', 'S_7|last', 'log_D_41|last', 'R_6|last', 'S_3|max', 'D_42|min', 'S_7|mean', 'D_78|max', 'D_42|last', 'log_B_3|last', 'D_84|mean', 'log_D_39|max', 'S_3|mean', 'log_D_45|min', 'D_41|last', 'D_41|mean', 'B_8|min', 'R_7|last', 'R_10|max', 'log_B_26|last', 'B_26|last', 'R_3|max', 'S_3|min', 'B_4|last', 'D_75|mean', 'log_B_18|min', 'D_45|last', 'D_77|last', 'S_3|last', 'log_D_45|last'],\n",
    "    ['P_2|mean', 'P_2|min', 'P_2|last', 'log_B_9|last', 'B_9|mean', 'R_1|last', 'D_48|last', 'D_44|max', 'B_9|max', 'R_1|mean', 'D_44|last', 'B_9|last', 'B_6|last', 'log_B_3|last', 'B_23|mean', 'D_44|mean', 'B_33|last', 'log_B_18|last', 'R_10|max', 'B_2|last', 'B_2|mean', 'B_2|min', 'B_1|last', 'R_1|max', 'R_2|max', 'log_B_9|max', 'R_10|mean', 'log_B_9|mean', 'log_D_44|mean', 'log_B_11|last', 'B_1|mean', 'D_61|mean', 'log_D_44|last', 'B_3|last', 'D_45|max', 'log_D_44|max', 'log_B_11|mean', 'D_42|mean', 'D_42|max', 'S_23|last', 'B_30=1.0', 'D_75|last', 'log_B_3|mean', 'B_17|min', 'B_3|max', 'D_42|last', 'B_26|last', 'D_59|max', 'R_6|last', 'S_6|max', 'B_33|max', 'S_3|mean', 'log_D_39|last', 'D_62|mean', 'R_2|last', 'R_5|last', 'B_11|last', 'D_39|last', 'log_D_39|max', 'B_33|mean', 'D_72|min', 'log_B_22|max', 'B_37|last', 'D_41|last', 'B_18|last', 'D_70_mean2std', 'D_62|min', 'R_3|max', 'R_6|mean', 'D_134|min', 'log_D_43|mean', 'B_23|last', 'R_12|max', 'D_69|min', 'log_B_18|min', 'D_65|last', 'P_3|last', 'S_22|max', 'D_70|last', 'D_130|max', 'S_3|max', 'S_26|last', 'S_15|mean', 'R_27|mean', 'D_133|min', 'S_23|max', 'B_10|last', 'B_5|last', 'D_132|min', 'S_6|min', 'R_3|last', 'R_12|mean', 'log_B_18|mean', 'P_2|max', 'D_61|last', 'log_B_4|last', 'D_74|mean', 'B_25|last', 'log_B_18|max', 'R_13|last'],\n",
    "    ['P_2|min', 'P_2|mean', 'P_2|last', 'log_B_9|last', 'D_48|last', 'D_44|max', 'log_B_9|max', 'B_9|max', 'D_44|last', 'R_1|mean', 'B_3|last', 'R_10|max', 'B_2|min', 'R_1|max', 'B_6|last', 'log_B_18|last', 'D_44|mean', 'B_2|last', 'B_23|mean', 'log_D_44|max', 'B_33|last', 'B_1|last', 'log_B_3|last', 'log_B_3|mean', 'B_9|last', 'R_1|last', 'D_61|mean', 'B_1|mean', 'B_2|mean', 'D_75|last', 'log_B_9|mean', 'R_10|mean', 'B_17|min', 'log_D_44|mean', 'log_D_44|last', 'B_30=1.0', 'log_B_11|last', 'B_33|mean', 'D_42|last', 'S_3|mean', 'log_B_11|mean', 'B_33|max', 'log_B_4|last', 'log_D_131|min', 'D_39|max', 'log_B_22|max', 'log_D_39|last', 'D_42|mean', 'D_78|last', 'D_62|min', 'D_122|min', 'D_42|max', 'B_9|mean', 'S_9|max', 'D_45|max', 'B_26|last', 'B_37|last', 'log_D_41|last', 'D_128|min', 'log_B_26|last', 'D_43|last', 'log_B_40|last', 'log_D_49|last', 'D_112|last', 'D_62|mean', 'D_46_mean2std', 'S_7|mean', 'D_122|last', 'D_53|last', 'S_7|last', 'D_46|last', 'R_6|mean', 'B_5|last', 'D_139|mean', 'log_D_45|min', 'log_D_131|last', 'log_B_4|mean', 'B_40|last', 'R_4|max', 'R_6|last', 'D_41|last', 'D_43|max', 'log_D_51|max', 'P_3|last', 'D_105|max', 'D_39|last', 'S_25|mean', 'log_D_118|mean', 'B_33|min', 'log_D_43|max', 'D_106|last', 'P_2|max', 'R_10|last', 'D_81|mean', 'B_3|min', 'S_25|last', 'D_129|last', 'log_D_123|last', 'D_123|mean', 'D_46|min'],\n",
    "    ['P_2|mean', 'P_2|min', 'P_2|last', 'log_B_9|last', 'D_48|last', 'R_10|max', 'D_44|max', 'log_B_9|max', 'R_1|mean', 'B_9|max', 'log_D_44|max', 'D_44|last', 'B_3|last', 'B_6|last', 'log_B_3|last', 'B_2|last', 'R_1|max', 'B_23|mean', 'D_44|mean', 'B_1|last', 'R_1|last', 'log_B_18|last', 'R_10|mean', 'B_2|mean', 'B_33|last', 'log_D_44|mean', 'B_2|min', 'log_B_9|mean', 'B_9|last', 'log_B_3|mean', 'B_33|mean', 'D_75|last', 'D_61|mean', 'P_2|max', 'B_1|mean', 'B_9|mean', 'log_B_11|mean', 'log_B_22|max', 'log_B_11|last', 'B_30=1.0', 'log_D_44|last', 'R_2|last', 'B_17|min', 'B_33|max', 'D_42|max', 'D_42|last', 'D_61|last', 'R_2|max', 'P_3|last', 'log_D_41|last', 'B_37|last', 'B_18|last', 'P_3|mean', 'D_41|last', 'D_42|min', 'log_B_18|min', 'B_26|last', 'R_8|mean', 'log_D_39|last', 'S_3|mean', 'R_3|max', 'log_B_4|last', 'log_D_45|max', 'D_112|last', 'B_11|last', 'B_23|last', 'B_38|last', 'D_42|mean', 'B_4|last', 'R_4|max', 'D_39|last', 'R_5|last', 'R_3|mean', 'D_46|last', 'S_23|last', 'D_62|mean', 'S_25|last', 'D_45|max', 'B_19|last', 'S_3|max', 'S_3|min', 'S_7|last', 'R_2|mean', 'R_5|max', 'R_4|mean', 'R_5|mean', 'D_39|max', 'log_B_23|last', 'log_D_45|last', 'R_7|last', 'log_D_39|max', 'log_D_45|mean', 'B_25|last', 'S_7|max', 'R_7|max', 'B_22|last', 'R_6|mean', 'D_45|mean', 'D_62|last', 'P_4|mean'],\n",
    "    ['B_9|mean', 'log_B_9|last', 'B_20|last', 'R_1|last', 'log_B_11|last', 'D_48|max', 'P_2|min', 'P_2|last', 'log_D_44|last', 'P_2|max', 'R_1|mean', 'log_B_9|mean', 'P_2|mean', 'D_48|last', 'D_61|last', 'log_B_23|last', 'B_18|last', 'R_10|mean', 'D_44|max', 'B_9|max', 'D_75|last', 'B_11|last', 'B_2|min', 'D_44|mean', 'B_23|last', 'log_D_44|max', 'log_B_18|last', 'log_B_11|mean', 'D_44|last', 'B_7|last', 'R_1|max', 'B_1|last', 'B_11|mean', 'D_78|last', 'B_10|mean', 'B_37|last', 'B_4|last', 'log_D_39|max', 'D_39|last', 'B_9|last', 'log_D_45|max', 'B_1|max', 'log_B_3|last', 'D_42|max', 'S_25|min', 'log_B_3|mean', 'R_5|mean', 'D_42|last', 'R_2|last', 'log_D_44|mean', 'D_42|min', 'D_41|last', 'log_D_39|last', 'D_42|mean', 'log_D_41|last', 'log_B_4|last', 'R_4|mean', 'R_2|max', 'S_3|last', 'log_D_45|min', 'B_8|min', 'R_3|mean', 'D_65|max', 'D_46|last', 'D_52|min', 'R_27|min', 'S_23|last', 'B_15|mean', 'D_129|max', 'P_3|last', 'D_78|mean', 'B_33|max', 'R_8|max', 'B_2|last', 'D_43|last', 'P_3|min', 'B_11|min', 'B_19|last', 'log_B_40|last', 'S_23|max', 'log_D_43|last', 'R_3|max', 'D_112|last', 'R_16|mean', 'log_B_22|last', 'R_10|max', 'log_B_22|mean', 'D_75|max', 'B_3|last', 'R_10|last', 'log_D_107|mean', 'D_39|max', 'R_2|mean', 'S_22|last', 'R_13_mean2std', 'S_7|last', 'R_6|mean', 'D_65|last', 'log_B_18|min', 'D_102|max'],\n",
    "    ['B_9|mean', 'B_20|last', 'log_B_9|last', 'R_1|last', 'D_48|max', 'log_B_11|last', 'P_2|mean', 'P_2|last', 'P_2|min', 'P_2|max', 'D_61|last', 'log_B_23|last', 'log_D_44|last', 'B_18|last', 'R_10|mean', 'D_48|last', 'R_1|mean', 'log_B_3|last', 'B_9|last', 'D_75|last', 'B_9|max', 'B_11|last', 'D_44|max', 'log_B_9|mean', 'B_2|min', 'log_B_18|last', 'D_44|mean', 'B_23|last', 'log_B_11|mean', 'log_D_44|max', 'B_7|last', 'B_4|last', 'D_42|last', 'D_44|last', 'B_37|last', 'B_10|mean', 'log_D_39|last', 'B_2|last', 'D_78|last', 'B_11|mean', 'log_D_44|mean', 'R_5|mean', 'P_3|mean', 'log_B_3|mean', 'S_25|min', 'R_2|last', 'R_7|max', 'R_1|max', 'B_1|last', 'S_7|mean', 'P_3|last', 'log_D_45|last', 'B_1|max', 'B_33|last', 'S_3|last', 'D_42|mean', 'R_2|mean', 'B_33|max', 'log_D_41|max', 'R_6|mean', 'B_3|last', 'D_45|min', 'B_22|last', 'D_77|mean', 'D_45|max', 'log_B_40|last', 'log_D_45|min', 'B_4|max', 'log_B_26|last', 'D_42|min', 'D_46|last', 'D_48|mean', 'log_D_39|max', 'S_3|mean', 'D_39|last', 'D_78|mean', 'B_3|mean', 'D_42|max', 'log_B_18|mean', 'D_39|max', 'R_10|max', 'B_33|min', 'D_41|max', 'D_58|last', 'D_52|mean', 'D_61|mean', 'R_6|max', 'B_26|last', 'D_60|max', 'S_8|last', 'log_D_43|max', 'S_3|max', 'D_45|last', 'S_17|min', 'B_37|mean', 'S_25|last', 'D_122|max', 'B_21|max', 'log_B_4|last', 'B_25|min'],\n",
    "    ['B_9|mean', 'log_B_9|last', 'B_20|last', 'R_1|last', 'log_B_11|last', 'D_48|max', 'P_2|min', 'P_2|last', 'R_1|mean', 'P_2|mean', 'B_18|last', 'log_D_44|max', 'D_61|last', 'D_48|last', 'log_B_23|last', 'R_10|mean', 'log_D_44|last', 'log_B_3|last', 'D_44|mean', 'P_2|max', 'D_44|max', 'B_9|max', 'R_1|max', 'B_23|last', 'log_B_9|mean', 'log_B_18|last', 'B_2|last', 'B_9|last', 'B_2|min', 'D_75|last', 'B_37|last', 'log_B_11|mean', 'B_4|last', 'B_7|last', 'B_1|last', 'B_11|mean', 'D_44|last', 'log_D_44|mean', 'B_1|max', 'log_B_3|mean', 'D_61|mean', 'B_10|mean', 'R_2|last', 'R_2|mean', 'R_2|max', 'D_42|min', 'D_78|last', 'D_48|mean', 'S_25|min', 'B_3|last', 'D_78|max', 'log_D_41|last', 'D_61|max', 'log_D_45|last', 'S_7|mean', 'log_D_39|last', 'log_D_45|min', 'D_42|max', 'P_3|min', 'D_39|last', 'R_6|mean', 'R_3|mean', 'D_42|last', 'log_B_9|max', 'P_3|last', 'B_8|min', 'S_3|last', 'D_62|min', 'D_45|mean', 'R_5|max', 'B_30=0.0', 'D_42|mean', 'B_11|last', 'R_27|max', 'D_41|max', 'S_15|mean', 'B_33|max', 'P_3|mean', 'B_1|mean', 'R_3|max', 'R_6|last', 'log_B_4|last', 'R_5|last', 'D_39|max', 'D_52|max', 'log_D_45|mean', 'log_B_26|last', 'log_D_39|max', 'log_D_43|last', 'R_27|min', 'D_46|last', 'D_128|max', 'D_128|min', 'S_3|mean', 'log_D_51|max', 'D_78|mean', 'R_7|mean', 'R_27|last', 'D_62|last', 'S_8|min'],    \n",
    "    \n",
    "]\n",
    "\n",
    "union_list = set()\n",
    "inter_list = set(sfr_lists[0])\n",
    "for sfr_ in sfr_lists:\n",
    "    union_list = union_list | set(sfr_)\n",
    "    inter_list = inter_list & set(sfr_)\n",
    "\n",
    "union_list = list(union_list)\n",
    "inter_list = list(inter_list)\n",
    "union_list.sort()\n",
    "inter_list.sort()\n",
    "print(len(union_list), union_list)\n",
    "print(len(inter_list), inter_list)"
   ]
  },
  {
   "cell_type": "code",
   "execution_count": 10,
   "metadata": {
    "execution": {
     "iopub.execute_input": "2022-07-14T04:56:17.866916Z",
     "iopub.status.busy": "2022-07-14T04:56:17.866489Z",
     "iopub.status.idle": "2022-07-14T04:56:17.874315Z",
     "shell.execute_reply": "2022-07-14T04:56:17.873228Z",
     "shell.execute_reply.started": "2022-07-14T04:56:17.866882Z"
    }
   },
   "outputs": [
    {
     "data": {
      "text/plain": [
       "393"
      ]
     },
     "execution_count": 10,
     "metadata": {},
     "output_type": "execute_result"
    }
   ],
   "source": [
    "x_cols = list(set(union_list + corr85_150feats + corr75_150feats))\n",
    "len(x_cols)"
   ]
  },
  {
   "cell_type": "code",
   "execution_count": 11,
   "metadata": {},
   "outputs": [
    {
     "data": {
      "text/plain": [
       "408"
      ]
     },
     "execution_count": 11,
     "metadata": {},
     "output_type": "execute_result"
    }
   ],
   "source": [
    "x_cols = ['B_10|last', 'B_10|mean', 'B_11|last', 'B_11|mean', 'B_11|min', 'B_14|last', 'B_14|min', 'B_15|mean', 'B_16|max', 'B_16|min', 'B_17_mean2std', 'B_17|last', 'B_17|max', 'B_17|mean', 'B_17|min', 'B_18|last', 'B_18|min', 'B_19|last', 'B_19|min', 'B_1|last', 'B_1|max', 'B_1|mean', 'B_1|min', 'B_20|last', 'B_20|max', 'B_20|mean', 'B_20|min', 'B_21|last', 'B_21|max', 'B_22|last', 'B_22|max', 'B_22|mean', 'B_22|min', 'B_23|last', 'B_23|mean', 'B_23|min', 'B_24|last', 'B_24|mean', 'B_25|last', 'B_25|min', 'B_26|last', 'B_28|last', 'B_2|last', 'B_2|mean', 'B_2|min', 'B_30=0.0', 'B_30=1.0', 'B_30=2.0', 'B_30|nunique', 'B_31|nunique', 'B_32|last', 'B_32|max', 'B_33|last', 'B_33|max', 'B_33|mean', 'B_33|min', 'B_37|last', 'B_37|max', 'B_37|mean', 'B_38=4.0', 'B_38=5.0', 'B_38=6.0', 'B_38=7.0', 'B_38|last', 'B_38|nunique', 'B_3|last', 'B_3|max', 'B_3|mean', 'B_3|min', 'B_40|last', 'B_40|min', 'B_41|last', 'B_4_mean2std', 'B_4|last', 'B_4|max', 'B_5|last', 'B_5|mean', 'B_6|last', 'B_6|min', 'B_7|last', 'B_7|max', 'B_7|mean', 'B_7|min', 'B_8|last', 'B_8|max', 'B_8|mean', 'B_8|min', 'B_9|last', 'B_9|max', 'B_9|mean', 'B_9|min', 'D_102|max', 'D_105|max', 'D_106|last', 'D_107|max', 'D_109|mean', 'D_112|last', 'D_113|max', 'D_114=0.0', 'D_114|nunique', 'D_120=1.0', 'D_120|nunique', 'D_122|last', 'D_122|max', 'D_122|min', 'D_123|mean', 'D_128|max', 'D_128|min', 'D_129|last', 'D_129|max', 'D_129|mean', 'D_130|last', 'D_130|max', 'D_131|max', 'D_131|min', 'D_132_mean2std', 'D_132|min', 'D_133|last', 'D_133|max', 'D_133|min', 'D_134|min', 'D_135_mean2std', 'D_139|mean', 'D_140|max', 'D_143|last', 'D_145|last', 'D_39|last', 'D_39|max', 'D_39|mean', 'D_41|last', 'D_41|max', 'D_41|mean', 'D_41|min', 'D_42_mean2std', 'D_42|last', 'D_42|max', 'D_42|mean', 'D_42|min', 'D_43|last', 'D_43|max', 'D_43|mean', 'D_43|min', 'D_44|last', 'D_44|max', 'D_44|mean', 'D_44|min', 'D_45|last', 'D_45|max', 'D_45|mean', 'D_45|min', 'D_46_mean2std', 'D_46|last', 'D_46|mean', 'D_46|min', 'D_47|last', 'D_48|last', 'D_48|max', 'D_48|mean', 'D_48|min', 'D_49_mean2std', 'D_51|last', 'D_51|mean', 'D_52_mean2std', 'D_52|last', 'D_52|max', 'D_52|mean', 'D_52|min', 'D_53_mean2std', 'D_53|last', 'D_53|max', 'D_53|min', 'D_54|last', 'D_55|last', 'D_55|min', 'D_56|min', 'D_58|last', 'D_58|min', 'D_59|last', 'D_59|max', 'D_60|max', 'D_61|last', 'D_61|max', 'D_61|mean', 'D_61|min', 'D_62|last', 'D_62|max', 'D_62|mean', 'D_62|min', 'D_64=U', 'D_65|last', 'D_65|max', 'D_65|mean', 'D_68=1.0', 'D_69|min', 'D_70_mean2std', 'D_70|last', 'D_70|max', 'D_70|min', 'D_72|max', 'D_72|min', 'D_74|last', 'D_74|max', 'D_74|mean', 'D_75|last', 'D_75|max', 'D_75|mean', 'D_77|last', 'D_77|max', 'D_77|mean', 'D_77|min', 'D_78|last', 'D_78|max', 'D_78|mean', 'D_79|max', 'D_81|max', 'D_81|mean', 'D_84|last', 'D_84|max', 'D_84|mean', 'D_89|last', 'D_89|max', 'D_89|mean', 'D_91|last', 'P_2|last', 'P_2|max', 'P_2|mean', 'P_2|min', 'P_3|last', 'P_3|max', 'P_3|mean', 'P_3|min', 'P_4|max', 'P_4|mean', 'P_4|min', 'R_10|last', 'R_10|max', 'R_10|mean', 'R_11|last', 'R_11|max', 'R_11|mean', 'R_12|max', 'R_12|mean', 'R_13_mean2std', 'R_13|last', 'R_13|max', 'R_13|mean', 'R_15|last', 'R_15|max', 'R_15|mean', 'R_16|last', 'R_16|max', 'R_16|mean', 'R_17|last', 'R_17|max', 'R_18|max', 'R_19|last', 'R_19|min', 'R_1|last', 'R_1|max', 'R_1|mean', 'R_1|min', 'R_20|last', 'R_20|max', 'R_20|mean', 'R_21|last', 'R_22|max', 'R_24|last', 'R_24|max', 'R_24|mean', 'R_25|max', 'R_26_mean2std', 'R_27|last', 'R_27|max', 'R_27|mean', 'R_27|min', 'R_2|last', 'R_2|max', 'R_2|mean', 'R_2|min', 'R_3|last', 'R_3|max', 'R_3|mean', 'R_3|min', 'R_4|last', 'R_4|max', 'R_4|mean', 'R_4|min', 'R_5|last', 'R_5|max', 'R_5|mean', 'R_6|last', 'R_6|max', 'R_6|mean', 'R_7|last', 'R_7|max', 'R_7|mean', 'R_8|last', 'R_8|max', 'R_8|mean', 'R_9_mean2std', 'S_11|mean', 'S_12|max', 'S_15|last', 'S_15|max', 'S_15|mean', 'S_17|min', 'S_20|max', 'S_22|last', 'S_22|max', 'S_22|mean', 'S_23|last', 'S_23|max', 'S_23|mean', 'S_25|last', 'S_25|mean', 'S_25|min', 'S_26|last', 'S_27_mean2std', 'S_3|last', 'S_3|max', 'S_3|mean', 'S_3|min', 'S_6|max', 'S_6|min', 'S_7|last', 'S_7|max', 'S_7|mean', 'S_7|min', 'S_8|last', 'S_8|mean', 'S_8|min', 'S_9|max', 'log_B_11|last', 'log_B_11|max', 'log_B_11|mean', 'log_B_11|min', 'log_B_12|last', 'log_B_12|max', 'log_B_18|last', 'log_B_18|max', 'log_B_18|mean', 'log_B_18|min', 'log_B_21|last', 'log_B_21|mean', 'log_B_22|last', 'log_B_22|max', 'log_B_22|mean', 'log_B_22|min', 'log_B_23|last', 'log_B_23|max', 'log_B_23|min', 'log_B_24|last', 'log_B_24|mean', 'log_B_26|last', 'log_B_26|max', 'log_B_26|mean', 'log_B_3|last', 'log_B_3|max', 'log_B_3|mean', 'log_B_3|min', 'log_B_40|last', 'log_B_40|max', 'log_B_40|mean', 'log_B_40|min', 'log_B_41|max', 'log_B_4|last', 'log_B_4|max', 'log_B_4|mean', 'log_B_4|min', 'log_B_5|last', 'log_B_9|last', 'log_B_9|max', 'log_B_9|mean', 'log_B_9|min', 'log_D_102|max', 'log_D_107|mean', 'log_D_107|min', 'log_D_113|min', 'log_D_118|mean', 'log_D_123|last', 'log_D_125|min', 'log_D_131|last', 'log_D_131|min', 'log_D_133|last', 'log_D_133|min', 'log_D_39|last', 'log_D_39|max', 'log_D_39|min', 'log_D_41|last', 'log_D_41|max', 'log_D_41|min', 'log_D_43|last', 'log_D_43|max', 'log_D_43|mean', 'log_D_43|min', 'log_D_44|last', 'log_D_44|max', 'log_D_44|mean', 'log_D_44|min', 'log_D_45|last', 'log_D_45|max', 'log_D_45|mean', 'log_D_45|min', 'log_D_49|last', 'log_D_51|max', 'log_D_51|min', 'log_D_60|min', 'log_S_5|mean']\n",
    "len(x_cols)"
   ]
  },
  {
   "cell_type": "markdown",
   "metadata": {},
   "source": [
    "## hyperopt parameters"
   ]
  },
  {
   "cell_type": "code",
   "execution_count": 12,
   "metadata": {
    "execution": {
     "iopub.execute_input": "2022-07-14T04:56:30.244072Z",
     "iopub.status.busy": "2022-07-14T04:56:30.242862Z",
     "iopub.status.idle": "2022-07-14T04:56:30.252666Z",
     "shell.execute_reply": "2022-07-14T04:56:30.251727Z",
     "shell.execute_reply.started": "2022-07-14T04:56:30.244012Z"
    }
   },
   "outputs": [
    {
     "data": {
      "text/plain": [
       "27"
      ]
     },
     "execution_count": 12,
     "metadata": {},
     "output_type": "execute_result"
    }
   ],
   "source": [
    "learn_rates = np.concatenate((\n",
    "#                            np.arange(0.00001, 0.0001, 0.00001),  \n",
    "                           np.arange(0.0001, 0.001, 0.0001), \n",
    "                           np.arange(0.001, 0.01, 0.001), \n",
    "                           np.arange(0.01, 0.1, 0.01)\n",
    "                          ), \n",
    "                          axis=0)\n",
    "\n",
    "\n",
    "len(learn_rates)"
   ]
  },
  {
   "cell_type": "code",
   "execution_count": 13,
   "metadata": {
    "execution": {
     "iopub.execute_input": "2022-07-14T04:56:30.645644Z",
     "iopub.status.busy": "2022-07-14T04:56:30.645011Z",
     "iopub.status.idle": "2022-07-14T04:56:30.889333Z",
     "shell.execute_reply": "2022-07-14T04:56:30.888117Z",
     "shell.execute_reply.started": "2022-07-14T04:56:30.645602Z"
    }
   },
   "outputs": [],
   "source": [
    "#https://lightgbm.readthedocs.io/en/latest/Parameters.html\n",
    "#https://lightgbm.readthedocs.io/en/latest/pythonapi/lightgbm.LGBMClassifier.html?highlight=classifier#lightgbm.LGBMClassifier\n",
    "\n",
    "from hyperopt import hp\n",
    "import numpy as np\n",
    "space  = { \n",
    "    \n",
    "                 'n_estimators': hp.choice('n_estimators', range(500, 2000, 50)),#num_boost_round\n",
    "                 'boosting_type':hp.choice('boosting_type', ['gbdt']),#boosting\n",
    "                 'objective':hp.choice('objective', ['binary'] ),\n",
    "                 'metric':hp.choice('metric', ['auc']),\n",
    "                 'learning_rate':  hp.choice('learning_rate', learn_rates), \n",
    "                 'colsample_bytree': hp.choice('colsample_bytree', np.round(np.arange(0.1, 0.86, 0.05),3)), #feature_fraction\n",
    "                 'max_depth': hp.choice('max_depth', range(7, 36, 1)), #int type\n",
    "                 'min_child_samples': hp.choice('min_child_samples',range(100, 5001, 50)), #min_data_in_leaf\n",
    "                 'reg_alpha':hp.choice('reg_alpha', [0.0001, 0.001, 0.01, 0.05, 0.1, 0.5, 1, 5, 10,15]),#lambda_l1\n",
    "                 'reg_lambda':hp.choice('reg_lambda', [0.0001, 0.001, 0.01, 0.05, 0.1, 0.5, 1, 5, 10,15]),#lambda_l2\n",
    "                 'max_bin':hp.choice('max_bin', range(500, 10000, 50)),\n",
    "                 'min_data_in_bin':hp.choice('min_data_in_bin', range(500, 9000, 50)),\n",
    "                 'subsample':hp.choice('subsample', np.round(np.arange(0.1, 0.96, 0.05),3)), #bagging_fraction\n",
    "                 'subsample_freq':hp.choice('subsample_freq', range(1, 100, 2)),#bagging_freq\n",
    "                 #max number of leaves in one tree. 1 < num_leaves <= 131072. classes< num_leaves< 2^max_depth  \n",
    "                 'num_leaves':hp.choice('num_leaves', range(31, 300, 5)),#max_leaves. \n",
    "                 'random_state':hp.choice('random_state', [1234]),\n",
    "                 'n_jobs':hp.choice('n_jobs', [4]),#nthread\n",
    "                 #'min_split_gain':hp.choice('min_split_gain', [0.0]), #min_gain_to_split\n",
    "                 #'min_child_weight':hp.choice('min_child_weight', [0.001]),   #min_sum_hessian_in_leaf\n",
    "                 #'subsample_for_bin':hp.choice('subsample_for_bin', [200000]),   #bin_construct_sample_cnt \n",
    "                 #'importance_type':hp.choice('importance_type', ['split']),   \n",
    "    \n",
    "                  }\n",
    "                  \n",
    "    \n"
   ]
  },
  {
   "cell_type": "markdown",
   "metadata": {},
   "source": [
    "### lightgbm"
   ]
  },
  {
   "cell_type": "code",
   "execution_count": 14,
   "metadata": {
    "execution": {
     "iopub.execute_input": "2022-07-14T04:56:31.888340Z",
     "iopub.status.busy": "2022-07-14T04:56:31.887937Z",
     "iopub.status.idle": "2022-07-14T04:56:32.811837Z",
     "shell.execute_reply": "2022-07-14T04:56:32.810649Z",
     "shell.execute_reply.started": "2022-07-14T04:56:31.888309Z"
    }
   },
   "outputs": [],
   "source": [
    "import lightgbm as lgb\n",
    "def train_trees(X_train, y_train, num_round=100, params={} ):\n",
    "    \n",
    "    params['verbosity'] = -1\n",
    "    dtrain = lgb.Dataset(X_train, y_train)\n",
    "    \n",
    "    tree_model = lgb.train(params,\n",
    "                dtrain,\n",
    "                num_boost_round=num_round)\n",
    "    \n",
    "    \n",
    "    del dtrain\n",
    "    gc.collect()\n",
    "\n",
    "    return tree_model"
   ]
  },
  {
   "cell_type": "code",
   "execution_count": 15,
   "metadata": {
    "execution": {
     "iopub.execute_input": "2022-07-14T04:56:32.814342Z",
     "iopub.status.busy": "2022-07-14T04:56:32.813616Z",
     "iopub.status.idle": "2022-07-14T04:56:32.824557Z",
     "shell.execute_reply": "2022-07-14T04:56:32.823303Z",
     "shell.execute_reply.started": "2022-07-14T04:56:32.814302Z"
    }
   },
   "outputs": [],
   "source": [
    "# @yunchonggan's fast metric implementation\n",
    "# From https://www.kaggle.com/competitions/amex-default-prediction/discussion/328020\n",
    "# https://www.kaggle.com/code/ambrosm/amex-lightgbm-quickstart\n",
    "def amex_metric(y_true: np.array, y_pred: np.array) -> float:\n",
    "\n",
    "    # count of positives and negatives\n",
    "    n_pos = y_true.sum()\n",
    "    n_neg = y_true.shape[0] - n_pos\n",
    "\n",
    "    # sorting by descring prediction values\n",
    "    indices = np.argsort(y_pred)[::-1]\n",
    "    preds, target = y_pred[indices], y_true[indices]\n",
    "\n",
    "    # filter the top 4% by cumulative row weights\n",
    "    weight = 20.0 - target * 19.0\n",
    "    cum_norm_weight = (weight / weight.sum()).cumsum()\n",
    "    four_pct_filter = cum_norm_weight <= 0.04\n",
    "\n",
    "    # default rate captured at 4%\n",
    "    d = target[four_pct_filter].sum() / n_pos\n",
    "\n",
    "    # weighted gini coefficient\n",
    "    lorentz = (target / n_pos).cumsum()\n",
    "    gini = ((lorentz - cum_norm_weight) * weight).sum()\n",
    "\n",
    "    # max weighted gini coefficient\n",
    "    gini_max = 10 * n_neg * (1 - 19 / (n_pos + 20 * n_neg))\n",
    "\n",
    "    # normalized weighted gini coefficient\n",
    "    g = gini / gini_max\n",
    "\n",
    "    return 0.5 * (g + d)\n"
   ]
  },
  {
   "cell_type": "raw",
   "metadata": {
    "execution": {
     "iopub.execute_input": "2022-07-14T01:53:30.259601Z",
     "iopub.status.busy": "2022-07-14T01:53:30.25927Z",
     "iopub.status.idle": "2022-07-14T01:53:30.271963Z",
     "shell.execute_reply": "2022-07-14T01:53:30.270859Z",
     "shell.execute_reply.started": "2022-07-14T01:53:30.259572Z"
    }
   },
   "source": [
    "def amex_metric(y_true: pd.DataFrame, y_pred: pd.DataFrame) -> float:\n",
    "\n",
    "    def top_four_percent_captured(y_true: pd.DataFrame, y_pred: pd.DataFrame) -> float:\n",
    "        df = (pd.concat([y_true, y_pred], axis='columns')\n",
    "              .sort_values('prediction', ascending=False))\n",
    "        df['weight'] = df['target'].apply(lambda x: 20 if x==0 else 1)\n",
    "        four_pct_cutoff = int(0.04 * df['weight'].sum())\n",
    "        df['weight_cumsum'] = df['weight'].cumsum()\n",
    "        df_cutoff = df.loc[df['weight_cumsum'] <= four_pct_cutoff]\n",
    "        return (df_cutoff['target'] == 1).sum() / (df['target'] == 1).sum()\n",
    "        \n",
    "    def weighted_gini(y_true: pd.DataFrame, y_pred: pd.DataFrame) -> float:\n",
    "        df = (pd.concat([y_true, y_pred], axis='columns')\n",
    "              .sort_values('prediction', ascending=False))\n",
    "        df['weight'] = df['target'].apply(lambda x: 20 if x==0 else 1)\n",
    "        df['random'] = (df['weight'] / df['weight'].sum()).cumsum()\n",
    "        total_pos = (df['target'] * df['weight']).sum()\n",
    "        df['cum_pos_found'] = (df['target'] * df['weight']).cumsum()\n",
    "        df['lorentz'] = df['cum_pos_found'] / total_pos\n",
    "        df['gini'] = (df['lorentz'] - df['random']) * df['weight']\n",
    "        return df['gini'].sum()\n",
    "\n",
    "    def normalized_weighted_gini(y_true: pd.DataFrame, y_pred: pd.DataFrame) -> float:\n",
    "        y_true_pred = y_true.rename(columns={'target': 'prediction'})\n",
    "        return weighted_gini(y_true, y_pred) / weighted_gini(y_true, y_true_pred)\n",
    "\n",
    "    g = normalized_weighted_gini(y_true, y_pred)\n",
    "    d = top_four_percent_captured(y_true, y_pred)\n",
    "\n",
    "    return 0.5 * (g + d)"
   ]
  },
  {
   "cell_type": "raw",
   "metadata": {},
   "source": [
    "trues = [np.random.randint(2) for i in range(100)]\n",
    "\n",
    "\n",
    "amex_metric(pd.DataFrame(data={'target': trues}), \n",
    "            pd.DataFrame(data={'prediction': np.random.rand(100)}))\n",
    "\n"
   ]
  },
  {
   "cell_type": "code",
   "execution_count": 16,
   "metadata": {
    "execution": {
     "iopub.execute_input": "2022-07-14T04:56:33.832975Z",
     "iopub.status.busy": "2022-07-14T04:56:33.832535Z",
     "iopub.status.idle": "2022-07-14T04:56:34.057519Z",
     "shell.execute_reply": "2022-07-14T04:56:34.056089Z",
     "shell.execute_reply.started": "2022-07-14T04:56:33.832931Z"
    }
   },
   "outputs": [],
   "source": [
    "X = df[x_cols]\n",
    "y = df[['target']]"
   ]
  },
  {
   "cell_type": "code",
   "execution_count": 17,
   "metadata": {
    "execution": {
     "iopub.execute_input": "2022-07-14T04:56:34.096438Z",
     "iopub.status.busy": "2022-07-14T04:56:34.095611Z",
     "iopub.status.idle": "2022-07-14T04:56:34.103130Z",
     "shell.execute_reply": "2022-07-14T04:56:34.102270Z",
     "shell.execute_reply.started": "2022-07-14T04:56:34.096396Z"
    }
   },
   "outputs": [
    {
     "data": {
      "text/plain": [
       "3"
      ]
     },
     "execution_count": 17,
     "metadata": {},
     "output_type": "execute_result"
    }
   ],
   "source": [
    "skf = KFold(n_splits=3)\n",
    "skf.get_n_splits(X, y)"
   ]
  },
  {
   "cell_type": "code",
   "execution_count": 18,
   "metadata": {
    "execution": {
     "iopub.execute_input": "2022-07-14T04:56:34.977361Z",
     "iopub.status.busy": "2022-07-14T04:56:34.976765Z",
     "iopub.status.idle": "2022-07-14T04:56:35.037781Z",
     "shell.execute_reply": "2022-07-14T04:56:35.036381Z",
     "shell.execute_reply.started": "2022-07-14T04:56:34.977325Z"
    }
   },
   "outputs": [
    {
     "name": "stdout",
     "output_type": "stream",
     "text": [
      "KFold(n_splits=3, random_state=None, shuffle=False)\n",
      "0    0.740565\n",
      "1    0.259435\n",
      "Name: target, dtype: float64\n",
      "0    0.741317\n",
      "1    0.258683\n",
      "Name: target, dtype: float64\n",
      "0    0.739552\n",
      "1    0.260448\n",
      "Name: target, dtype: float64\n",
      "0    0.741824\n",
      "1    0.258176\n",
      "Name: target, dtype: float64\n",
      "0    0.743082\n",
      "1    0.256918\n",
      "Name: target, dtype: float64\n",
      "0    0.740059\n",
      "1    0.259941\n",
      "Name: target, dtype: float64\n"
     ]
    }
   ],
   "source": [
    "print(skf)\n",
    "\n",
    "for train_index, test_index in skf.split(X, y):\n",
    "#     print(\"TRAIN:\", train_index, \"TEST:\", test_index)\n",
    "#     print(\"TRAIN:\", len(train_index), \"TEST:\", len(test_index), len(test_index)/(len(test_index)+len(train_index)))\n",
    "    print(y.iloc[test_index]['target'].value_counts()/len(test_index)) \n",
    "    print(y.iloc[train_index]['target'].value_counts()/len(train_index))"
   ]
  },
  {
   "cell_type": "code",
   "execution_count": 19,
   "metadata": {
    "execution": {
     "iopub.execute_input": "2022-07-14T04:56:35.305240Z",
     "iopub.status.busy": "2022-07-14T04:56:35.304856Z",
     "iopub.status.idle": "2022-07-14T04:56:35.311399Z",
     "shell.execute_reply": "2022-07-14T04:56:35.310627Z",
     "shell.execute_reply.started": "2022-07-14T04:56:35.305208Z"
    }
   },
   "outputs": [
    {
     "data": {
      "text/plain": [
       "(305942, 152971)"
      ]
     },
     "execution_count": 19,
     "metadata": {},
     "output_type": "execute_result"
    }
   ],
   "source": [
    "len(train_index), len(test_index)"
   ]
  },
  {
   "cell_type": "code",
   "execution_count": 20,
   "metadata": {
    "execution": {
     "iopub.execute_input": "2022-07-14T04:56:35.633498Z",
     "iopub.status.busy": "2022-07-14T04:56:35.632803Z",
     "iopub.status.idle": "2022-07-14T04:56:35.643346Z",
     "shell.execute_reply": "2022-07-14T04:56:35.642086Z",
     "shell.execute_reply.started": "2022-07-14T04:56:35.633463Z"
    }
   },
   "outputs": [],
   "source": [
    "loss_dict = []\n",
    "\n",
    "\n",
    "def score(params):\n",
    "#     print(params)\n",
    "    num_boost_round = params['n_estimators']\n",
    "    params_ = copy.deepcopy(params)\n",
    "    del params_['n_estimators']\n",
    "    \n",
    "    losses = []\n",
    "    \n",
    "    for train_index, test_index in skf.split(X, y):\n",
    "        \n",
    "        #----start: data prep-------------------------------------\n",
    "        X_train, X_test = X.iloc[train_index], X.iloc[test_index]\n",
    "        y_train, y_test = y.iloc[train_index], y.iloc[test_index]\n",
    "\n",
    "        #----end: data prep-------------------------------------\n",
    "        \n",
    "        #-----start: train trees---------------------------------------\n",
    "        tree_model = train_trees(X_train, y_train['target'].values,\n",
    "                                 num_round=num_boost_round, \n",
    "                                 params=params_\n",
    "                                )\n",
    "\n",
    "        y_preds = tree_model.predict(X_test, num_iteration=tree_model.best_iteration)\n",
    "#         loss = roc_auc_score(y_test, y_preds)\n",
    "#         loss = f1_score(y_test['target'].values, (y_preds>=0.9).astype(int))\n",
    "#         loss = amex_metric(y_test, \n",
    "#                            pd.DataFrame(data={'prediction': y_preds}))\n",
    "        loss = amex_metric(y_test['target'].values, y_preds)\n",
    "        losses.append(loss)\n",
    "        #-----end: train trees---------------------------------------\n",
    "        \n",
    "    loss = np.mean(losses)\n",
    "#     print(loss)\n",
    "    loss_dict.append({'params': params, 'losses': losses, 'mean_loss': loss})\n",
    "    \n",
    "    if len(loss_dict)%10==0:\n",
    "        pd.DataFrame(data=loss_dict).to_excel('amex-hyperopt-lgb-rev2-spsfr-3kfold-corr75-union3.xlsx', index=False)\n",
    "    return {'loss': -loss, 'status': STATUS_OK}"
   ]
  },
  {
   "cell_type": "code",
   "execution_count": 21,
   "metadata": {
    "execution": {
     "iopub.execute_input": "2022-07-14T04:56:36.562585Z",
     "iopub.status.busy": "2022-07-14T04:56:36.561382Z",
     "iopub.status.idle": "2022-07-14T04:56:36.570600Z",
     "shell.execute_reply": "2022-07-14T04:56:36.569371Z",
     "shell.execute_reply.started": "2022-07-14T04:56:36.562462Z"
    }
   },
   "outputs": [],
   "source": [
    "from hyperopt import hp\n",
    "from hyperopt import fmin, tpe, hp, STATUS_OK, Trials, anneal, rand\n",
    "from functools import partial\n",
    "def optimize(space, evals, cores, trials, optimizer=tpe.suggest, random_state=1234, n_startup_jobs=10):\n",
    "    algo = partial(optimizer, n_startup_jobs=n_startup_jobs)\n",
    "    best = fmin(score, space, algo=algo, max_evals=evals, trials = trials)\n",
    "    print(best)\n",
    "    return best"
   ]
  },
  {
   "cell_type": "code",
   "execution_count": 24,
   "metadata": {
    "execution": {
     "iopub.execute_input": "2022-07-14T04:56:37.203450Z",
     "iopub.status.busy": "2022-07-14T04:56:37.202290Z",
     "iopub.status.idle": "2022-07-14T04:56:37.209376Z",
     "shell.execute_reply": "2022-07-14T04:56:37.208282Z",
     "shell.execute_reply.started": "2022-07-14T04:56:37.203401Z"
    }
   },
   "outputs": [],
   "source": [
    "cores = 4\n",
    "n=500\n",
    "verbose = False\n",
    "trials = Trials()"
   ]
  },
  {
   "cell_type": "code",
   "execution_count": null,
   "metadata": {},
   "outputs": [],
   "source": [
    "best_param = optimize(space,\n",
    "                      evals = n,\n",
    "                      optimizer=tpe.suggest,\n",
    "                      cores = cores,\n",
    "                      trials = trials, random_state=1234, \n",
    "                      n_startup_jobs=10)"
   ]
  },
  {
   "cell_type": "code",
   "execution_count": 31,
   "metadata": {},
   "outputs": [],
   "source": [
    "pd.DataFrame(data=loss_dict).to_excel('amex-hyperopt-lgb-rev2-spsfr-3kfold-corr75-union3.xlsx', index=False)"
   ]
  },
  {
   "cell_type": "code",
   "execution_count": null,
   "metadata": {},
   "outputs": [],
   "source": []
  }
 ],
 "metadata": {
  "kernelspec": {
   "display_name": "Python 3",
   "language": "python",
   "name": "python3"
  },
  "language_info": {
   "codemirror_mode": {
    "name": "ipython",
    "version": 3
   },
   "file_extension": ".py",
   "mimetype": "text/x-python",
   "name": "python",
   "nbconvert_exporter": "python",
   "pygments_lexer": "ipython3",
   "version": "3.6.3"
  }
 },
 "nbformat": 4,
 "nbformat_minor": 4
}
