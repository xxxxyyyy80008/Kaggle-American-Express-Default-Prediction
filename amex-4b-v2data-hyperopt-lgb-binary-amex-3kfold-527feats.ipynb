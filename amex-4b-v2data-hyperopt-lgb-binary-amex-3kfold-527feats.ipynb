{
 "cells": [
  {
   "cell_type": "raw",
   "metadata": {
    "execution": {
     "iopub.execute_input": "2022-07-14T04:55:29.759256Z",
     "iopub.status.busy": "2022-07-14T04:55:29.758659Z",
     "iopub.status.idle": "2022-07-14T04:55:29.778715Z",
     "shell.execute_reply": "2022-07-14T04:55:29.777010Z",
     "shell.execute_reply.started": "2022-07-14T04:55:29.759223Z"
    }
   },
   "source": [
    "# This Python 3 environment comes with many helpful analytics libraries installed\n",
    "# It is defined by the kaggle/python Docker image: https://github.com/kaggle/docker-python\n",
    "# For example, here's several helpful packages to load\n",
    "\n",
    "import numpy as np # linear algebra\n",
    "import pandas as pd # data processing, CSV file I/O (e.g. pd.read_csv)\n",
    "\n",
    "# Input data files are available in the read-only \"../input/\" directory\n",
    "# For example, running this (by clicking run or pressing Shift+Enter) will list all files under the input directory\n",
    "\n",
    "import os\n",
    "for dirname, _, filenames in os.walk('/kaggle/input'):\n",
    "    for filename in filenames:\n",
    "        print(os.path.join(dirname, filename))\n",
    "\n",
    "# You can write up to 20GB to the current directory (/kaggle/working/) that gets preserved as output when you create a version using \"Save & Run All\" \n",
    "# You can also write temporary files to /kaggle/temp/, but they won't be saved outside of the current session"
   ]
  },
  {
   "cell_type": "code",
   "execution_count": 1,
   "metadata": {
    "execution": {
     "iopub.execute_input": "2022-07-14T04:55:29.781353Z",
     "iopub.status.busy": "2022-07-14T04:55:29.780400Z",
     "iopub.status.idle": "2022-07-14T04:55:29.826295Z",
     "shell.execute_reply": "2022-07-14T04:55:29.825207Z",
     "shell.execute_reply.started": "2022-07-14T04:55:29.781309Z"
    }
   },
   "outputs": [],
   "source": [
    "import pandas as pd\n",
    "import numpy as np\n",
    "import os\n",
    "from pathlib import Path\n",
    "\n",
    "from datetime import datetime, date, time\n",
    "\n",
    "import gc\n",
    "import copy\n",
    "\n",
    "import pyarrow.parquet as pq\n",
    "import pyarrow as pa"
   ]
  },
  {
   "cell_type": "code",
   "execution_count": 2,
   "metadata": {
    "execution": {
     "iopub.execute_input": "2022-07-14T04:55:29.830030Z",
     "iopub.status.busy": "2022-07-14T04:55:29.829488Z",
     "iopub.status.idle": "2022-07-14T04:55:29.838606Z",
     "shell.execute_reply": "2022-07-14T04:55:29.837521Z",
     "shell.execute_reply.started": "2022-07-14T04:55:29.829996Z"
    }
   },
   "outputs": [],
   "source": [
    "from sklearn.metrics import mean_squared_error, roc_auc_score\n",
    "from sklearn.metrics import f1_score\n",
    "from sklearn.model_selection import StratifiedKFold, KFold"
   ]
  },
  {
   "cell_type": "code",
   "execution_count": 3,
   "metadata": {
    "execution": {
     "iopub.execute_input": "2022-07-14T04:55:29.840312Z",
     "iopub.status.busy": "2022-07-14T04:55:29.839826Z",
     "iopub.status.idle": "2022-07-14T04:55:29.854059Z",
     "shell.execute_reply": "2022-07-14T04:55:29.853084Z",
     "shell.execute_reply.started": "2022-07-14T04:55:29.840282Z"
    }
   },
   "outputs": [
    {
     "name": "stderr",
     "output_type": "stream",
     "text": [
      "Global seed set to 1234\n"
     ]
    },
    {
     "data": {
      "text/plain": [
       "1234"
      ]
     },
     "execution_count": 3,
     "metadata": {},
     "output_type": "execute_result"
    }
   ],
   "source": [
    "pd.options.display.max_rows = 100\n",
    "pd.options.display.max_columns = 100\n",
    "\n",
    "import warnings\n",
    "warnings.filterwarnings(\"ignore\")\n",
    "\n",
    "import pytorch_lightning as pl\n",
    "random_seed=1234\n",
    "pl.seed_everything(random_seed)"
   ]
  },
  {
   "cell_type": "code",
   "execution_count": 4,
   "metadata": {
    "execution": {
     "iopub.execute_input": "2022-07-14T04:55:29.858043Z",
     "iopub.status.busy": "2022-07-14T04:55:29.857693Z",
     "iopub.status.idle": "2022-07-14T04:55:53.179905Z",
     "shell.execute_reply": "2022-07-14T04:55:53.179047Z",
     "shell.execute_reply.started": "2022-07-14T04:55:29.858011Z"
    }
   },
   "outputs": [
    {
     "name": "stdout",
     "output_type": "stream",
     "text": [
      "Wall time: 18.1 s\n"
     ]
    }
   ],
   "source": [
    "%%time\n",
    "# train_file = r'/kaggle/input/amex-agg-data-rev2/agg_train_all_rev2_rev.parquet'\n",
    "train_file = r'amex\\agg_train_all_rev2_rev.parquet'\n",
    "df=pd.read_parquet(train_file, engine='pyarrow')"
   ]
  },
  {
   "cell_type": "code",
   "execution_count": 5,
   "metadata": {},
   "outputs": [
    {
     "data": {
      "text/plain": [
       "527"
      ]
     },
     "execution_count": 5,
     "metadata": {},
     "output_type": "execute_result"
    }
   ],
   "source": [
    "x_cols = ['log_D_45|mean', 'R_28|last', 'D_49|last', 'D_42|min', 'D_130|max', 'B_20|max', 'B_11|min', 'R_16|last', 'R_5|mean', 'D_62|min', 'D_133|last', 'R_20|max', 'B_17|last', 'D_139|last', 'R_3|max', 'log_B_40|last', 'S_22|last', 'B_23|min', 'log_B_40|max', 'B_14|min', 'R_7|max', 'B_22|last', 'B_23|mean', 'D_83|last', 'D_123|mean', 'log_B_4|last', 'log_D_49|last', 'D_114|last', 'B_24|last', 'log_S_5|mean', 'D_127|last', 'log_B_4|max', 'R_1|last', 'D_70|min', 'D_62|last', 'R_9_mean2std', 'D_105|max', 'B_7|min', 'R_5|last', 'D_120=1.0', 'D_129|max', 'R_22|max', 'B_7|last', 'S_25|mean', 'D_120|nunique', 'log_D_131|min', 'S_27_mean2std', 'P_2|max', 'R_17|last', 'R_2|last', 'D_142|last', 'B_38|nunique', 'D_52|mean', 'log_B_22|last', 'B_18|last', 'D_58|last', 'S_8|min', 'R_20|last', 'S_20|last', 'B_26|last', 'D_70_mean2std', 'B_11|mean', 'D_138|last', 'R_6|max', 'B_3|mean', 'log_D_107|last', 'log_D_43|last', 'D_43|max', 'D_45|min', 'D_58|min', 'B_15|mean', 'log_B_24|last', 'log_B_18|max', 'D_113|last', 'D_56|last', 'B_31|last', 'D_88|last', 'S_8|mean', 'D_139|mean', 'log_D_133|last', 'S_15|max', 'D_143|last', 'D_102|last', 'B_19|last', 'R_4|min', 'B_3|last', 'S_3|mean', 'D_60|last', 'log_D_115|last', 'D_44|last', 'D_131|max', 'R_23|last', 'D_48|last', 'S_12|last', 'D_79|last', 'S_22|mean', 'D_109|last', 'B_1|min', 'log_D_131|last', 'D_113|max', 'S_7|max', 'log_B_4|mean', 'log_B_27|last', 'D_46|min', 'D_43|min', 'S_17|last', 'B_10|mean', 'B_15|last', 'log_B_3|mean', 'log_D_39|last', 'B_12|last', 'B_11|last', 'S_22|max', 'B_20|mean', 'R_26|last', 'log_B_3|min', 'B_39|last', 'log_B_23|last', 'R_19|last', 'D_122|min', 'D_84|mean', 'B_4_mean2std', 'S_7|last', 'P_2|last', 'D_39|max', 'B_9|min', 'D_48|min', 'D_61|max', 'D_73|last', 'R_13|mean', 'log_B_11|min', 'log_B_12|max', 'log_D_118|last', 'log_B_40|mean', 'D_111|last', 'R_1|mean', 'R_13|last', 'S_7|min', 'log_D_118|mean', 'log_D_135|last', 'B_38|last', 'D_132|min', 'log_D_51|last', 'D_102|max', 'B_22|mean', 'R_8|last', 'log_D_119|last', 'B_25|last', 'B_30=1.0', 'D_56|min', 'D_71|last', 'B_25|min', 'B_38=5.0', 'D_140|last', 'D_52_mean2std', 'R_12|max', 'R_14|last', 'D_62|max', 'R_26_mean2std', 'log_B_29|last', 'D_89|last', 'R_18|last', 'S_23|mean', 'D_44|min', 'B_8|min', 'D_75|max', 'D_45|max', 'B_38=7.0', 'R_6|last', 'log_B_18|mean', 'S_3|min', 'P_3|max', 'D_114=0.0', 'log_B_22|min', 'D_108|last', 'D_129|mean', 'B_20|min', 'D_87|last', 'D_126|last', 'log_D_106|last', 'log_B_3|last', 'D_70|max', 'D_115|last', 'D_39|last', 'D_44|mean', 'log_B_23|max', 'B_17|mean', 'B_6|min', 'log_B_26|mean', 'B_23|last', 'log_B_24|mean', 'R_27|max', 'D_53|min', 'log_D_45|max', 'B_3|max', 'B_33|mean', 'log_D_137|last', 'S_27|last', 'S_6|max', 'B_37|mean', 'D_89|max', 'log_D_125|min', 'D_74|mean', 'log_B_32|last', 'P_4|last', 'D_110|last', 'D_77|min', 'D_128|min', 'D_106|last', 'R_10|max', 'log_D_60|min', 'D_122|max', 'D_120|last', 'D_133|max', 'log_B_21|last', 'B_10|last', 'D_49_mean2std', 'B_40|min', 'D_84|max', 'log_B_11|last', 'S_26|last', 'log_S_26|last', 'D_45|last', 'D_91|last', 'D_61|min', 'R_16|max', 'B_24|mean', 'R_10|last', 'B_8|last', 'D_109|mean', 'R_2|mean', 'R_4|mean', 'S_15|mean', 'S_25|min', 'B_38=6.0', 'B_4|max', 'D_105|last', 'log_B_9|min', 'log_D_123|last', 'P_2|mean', 'D_43|last', 'B_31|nunique', 'R_27|last', 'R_9|last', 'S_9|max', 'D_75|mean', 'B_30|nunique', 'R_24|last', 'D_42|last', 'R_13|max', 'D_86|last', 'R_10|mean', 'log_R_28|last', 'B_7|max', 'log_B_9|last', 'D_104|last', 'P_2|min', 'D_117|last', 'D_68=1.0', 'R_8|max', 'S_3|last', 'D_137|last', 'D_59|max', 'log_B_12|last', 'D_47|last', 'D_132|last', 'R_3|last', 'R_2|min', 'R_11|last', 'B_1|last', 'B_21|last', 'D_41|mean', 'D_119|last', 'D_93|last', 'D_46|mean', 'D_51|mean', 'B_33|min', 'R_13_mean2std', 'D_132_mean2std', 'log_B_3|max', 'log_D_44|min', 'R_25|max', 'D_107|max', 'B_30=0.0', 'S_19|last', 'log_D_45|min', 'D_81|max', 'S_15|last', 'R_8|mean', 'D_82|last', 'log_B_13|last', 'B_22|max', 'B_3|min', 'log_D_41|last', 'D_123|last', 'D_81|mean', 'R_1|max', 'R_27|mean', 'D_121|last', 'D_74|max', 'R_7|last', 'D_41|last', 'log_B_11|max', 'B_8|max', 'B_5|last', 'log_D_113|last', 'P_3|min', 'R_7|mean', 'D_53_mean2std', 'S_7|mean', 'D_133|min', 'D_41|min', 'log_D_133|min', 'log_B_26|max', 'D_96|last', 'D_48|max', 'B_2|mean', 'D_61|mean', 'log_B_36|last', 'D_60|max', 'D_125|last', 'log_D_39|min', 'D_75|last', 'B_9|last', 'log_D_44|max', 'D_65|last', 'B_8|mean', 'D_62|mean', 'log_D_43|min', 'D_114|nunique', 'P_4|max', 'B_28|last', 'D_128|max', 'D_131|min', 'R_27|min', 'D_144|last', 'B_16|min', 'log_B_22|max', 'R_4|last', 'S_3|max', 'B_36|last', 'D_69|min', 'R_22|last', 'log_D_39|max', 'log_B_41|max', 'D_135_mean2std', 'D_77|max', 'B_21|max', 'D_118|last', 'D_53|last', 'log_B_42|last', 'D_112|last', 'B_33|last', 'S_12|max', 'log_B_26|last', 'log_D_43|max', 'R_11|max', 'log_B_22|mean', 'R_6|mean', 'B_9|max', 'D_41|max', 'log_B_9|max', 'S_11|mean', 'B_27|last', 'S_8|last', 'D_68|last', 'R_5|max', 'log_D_109|last', 'B_33|max', 'B_16|last', 'D_43|mean', 'D_124|last', 'D_52|min', 'B_17|min', 'D_134|min', 'D_45|mean', 'D_140|max', 'D_131|last', 'D_48|mean', 'S_5|last', 'B_19|min', 'D_94|last', 'log_D_45|last', 'R_3|mean', 'S_17|min', 'R_12|last', 'D_46_mean2std', 'D_72|min', 'D_81|last', 'D_77|last', 'B_32|last', 'log_B_11|mean', 'B_37|last', 'D_53|max', 'log_B_18|last', 'log_B_40|min', 'log_D_107|min', 'D_54|last', 'D_52|last', 'R_18|max', 'D_135|last', 'D_64=U', 'log_D_51|max', 'B_41|last', 'B_7|mean', 'log_B_5|last', 'D_103|last', 'S_9|last', 'D_107|last', 'log_B_41|last', 'D_122|last', 'D_46|last', 'D_78|max', 'P_3|last', 'D_70|last', 'R_4|max', 'P_3|mean', 'log_D_44|mean', 'S_16|last', 'D_80|last', 'log_B_18|min', 'B_29|last', 'D_128|last', 'log_D_44|last', 'S_20|max', 'D_52|max', 'D_77|mean', 'S_25|last', 'B_37|max', 'log_D_41|min', 'B_9|mean', 'log_B_23|min', 'log_B_21|mean', 'R_15|max', 'D_59|last', 'D_129|last', 'S_6|min', 'B_5|mean', 'D_65|mean', 'R_21|last', 'D_42|mean', 'D_130|last', 'D_69|last', 'D_42_mean2std', 'D_65|max', 'D_141|last', 'B_13|last', 'S_13|last', 'D_42|max', 'D_78|last', 'log_D_102|last', 'B_30=2.0', 'B_20|last', 'D_55|min', 'log_D_140|last', 'R_24|max', 'P_4|mean', 'log_D_107|mean', 'D_50|last', 'D_72|max', 'R_1|min', 'B_17|max', 'B_30|last', 'B_18|min', 'D_134|last', 'D_76|last', 'log_D_125|last', 'log_S_5|last', 'R_17|max', 'log_B_4|min', 'B_42|last', 'log_D_138|last', 'B_1|max', 'B_40|last', 'D_74|last', 'D_84|last', 'R_24|mean', 'log_D_60|last', 'R_19|min', 'S_11|last', 'B_17_mean2std', 'B_2|last', 'S_18|last', 'B_16|max', 'log_D_41|max', 'B_32|max', 'B_2|min', 'D_44|max', 'S_23|last', 'D_61|last', 'P_4|min', 'log_D_51|min', 'R_3|min', 'D_136|last', 'S_6|last', 'S_24|last', 'log_D_108|last', 'R_2|max', 'D_89|mean', 'R_16|mean', 'log_D_102|max', 'D_39|mean', 'log_B_9|mean', 'B_1|mean', 'D_145|last', 'R_25|last', 'S_23|max', 'D_51|last', 'D_72|last', 'log_D_113|min', 'R_12|mean', 'R_15|mean', 'B_38=4.0', 'D_92|last', 'B_6|last', 'D_55|last', 'log_D_136|last', 'D_79|max', 'log_D_43|mean', 'R_20|mean', 'B_4|last', 'B_22|min', 'D_116|last', 'B_14|last', 'R_11|mean', 'D_78|mean', 'R_15|last']\n",
    "\n",
    "\n",
    "len(x_cols)"
   ]
  },
  {
   "cell_type": "markdown",
   "metadata": {},
   "source": [
    "## hyperopt parameters"
   ]
  },
  {
   "cell_type": "code",
   "execution_count": 6,
   "metadata": {
    "execution": {
     "iopub.execute_input": "2022-07-14T04:56:30.244072Z",
     "iopub.status.busy": "2022-07-14T04:56:30.242862Z",
     "iopub.status.idle": "2022-07-14T04:56:30.252666Z",
     "shell.execute_reply": "2022-07-14T04:56:30.251727Z",
     "shell.execute_reply.started": "2022-07-14T04:56:30.244012Z"
    }
   },
   "outputs": [
    {
     "data": {
      "text/plain": [
       "27"
      ]
     },
     "execution_count": 6,
     "metadata": {},
     "output_type": "execute_result"
    }
   ],
   "source": [
    "learn_rates = np.concatenate((\n",
    "#                            np.arange(0.00001, 0.0001, 0.00001),  \n",
    "                           np.arange(0.0001, 0.001, 0.0001), \n",
    "                           np.arange(0.001, 0.01, 0.001), \n",
    "                           np.arange(0.01, 0.1, 0.01)\n",
    "                          ), \n",
    "                          axis=0)\n",
    "\n",
    "\n",
    "len(learn_rates)"
   ]
  },
  {
   "cell_type": "code",
   "execution_count": 7,
   "metadata": {
    "execution": {
     "iopub.execute_input": "2022-07-14T04:56:30.645644Z",
     "iopub.status.busy": "2022-07-14T04:56:30.645011Z",
     "iopub.status.idle": "2022-07-14T04:56:30.889333Z",
     "shell.execute_reply": "2022-07-14T04:56:30.888117Z",
     "shell.execute_reply.started": "2022-07-14T04:56:30.645602Z"
    }
   },
   "outputs": [],
   "source": [
    "#https://lightgbm.readthedocs.io/en/latest/Parameters.html\n",
    "#https://lightgbm.readthedocs.io/en/latest/pythonapi/lightgbm.LGBMClassifier.html?highlight=classifier#lightgbm.LGBMClassifier\n",
    "\n",
    "from hyperopt import hp\n",
    "import numpy as np\n",
    "space  = { \n",
    "    \n",
    "                 'n_estimators': hp.choice('n_estimators', range(500, 2000, 50)),#num_boost_round\n",
    "                 'boosting_type':hp.choice('boosting_type', ['gbdt']),#boosting\n",
    "                 'objective':hp.choice('objective', ['binary'] ),\n",
    "                 'metric':hp.choice('metric', ['auc']),\n",
    "                 'learning_rate':  hp.choice('learning_rate', learn_rates), \n",
    "                 'colsample_bytree': hp.choice('colsample_bytree', np.round(np.arange(0.1, 0.86, 0.05),3)), #feature_fraction\n",
    "                 'max_depth': hp.choice('max_depth', range(7, 36, 1)), #int type\n",
    "                 'min_child_samples': hp.choice('min_child_samples',range(100, 5001, 50)), #min_data_in_leaf\n",
    "                 'reg_alpha':hp.choice('reg_alpha', [0.0001, 0.001, 0.01, 0.05, 0.1, 0.5, 1, 5, 10,15]),#lambda_l1\n",
    "                 'reg_lambda':hp.choice('reg_lambda', [0.0001, 0.001, 0.01, 0.05, 0.1, 0.5, 1, 5, 10,15]),#lambda_l2\n",
    "                 'max_bin':hp.choice('max_bin', range(500, 10000, 50)),\n",
    "                 'min_data_in_bin':hp.choice('min_data_in_bin', range(500, 9000, 50)),\n",
    "                 'subsample':hp.choice('subsample', np.round(np.arange(0.1, 0.96, 0.05),3)), #bagging_fraction\n",
    "                 'subsample_freq':hp.choice('subsample_freq', range(1, 100, 2)),#bagging_freq\n",
    "                 #max number of leaves in one tree. 1 < num_leaves <= 131072. classes< num_leaves< 2^max_depth  \n",
    "                 'num_leaves':hp.choice('num_leaves', range(31, 300, 5)),#max_leaves. \n",
    "                 'random_state':hp.choice('random_state', [1234]),\n",
    "                 'n_jobs':hp.choice('n_jobs', [4]),#nthread\n",
    "                 #'min_split_gain':hp.choice('min_split_gain', [0.0]), #min_gain_to_split\n",
    "                 #'min_child_weight':hp.choice('min_child_weight', [0.001]),   #min_sum_hessian_in_leaf\n",
    "                 #'subsample_for_bin':hp.choice('subsample_for_bin', [200000]),   #bin_construct_sample_cnt \n",
    "                 #'importance_type':hp.choice('importance_type', ['split']),   \n",
    "    \n",
    "                  }\n",
    "                  \n",
    "    \n"
   ]
  },
  {
   "cell_type": "markdown",
   "metadata": {},
   "source": [
    "### lightgbm"
   ]
  },
  {
   "cell_type": "code",
   "execution_count": 8,
   "metadata": {
    "execution": {
     "iopub.execute_input": "2022-07-14T04:56:31.888340Z",
     "iopub.status.busy": "2022-07-14T04:56:31.887937Z",
     "iopub.status.idle": "2022-07-14T04:56:32.811837Z",
     "shell.execute_reply": "2022-07-14T04:56:32.810649Z",
     "shell.execute_reply.started": "2022-07-14T04:56:31.888309Z"
    }
   },
   "outputs": [],
   "source": [
    "import lightgbm as lgb\n",
    "def train_trees(X_train, y_train, num_round=100, params={} ):\n",
    "    \n",
    "    params['verbosity'] = -1\n",
    "    dtrain = lgb.Dataset(X_train, y_train)\n",
    "    \n",
    "    tree_model = lgb.train(params,\n",
    "                dtrain,\n",
    "                num_boost_round=num_round)\n",
    "    \n",
    "    \n",
    "    del dtrain\n",
    "    gc.collect()\n",
    "\n",
    "    return tree_model"
   ]
  },
  {
   "cell_type": "code",
   "execution_count": 9,
   "metadata": {
    "execution": {
     "iopub.execute_input": "2022-07-14T04:56:32.814342Z",
     "iopub.status.busy": "2022-07-14T04:56:32.813616Z",
     "iopub.status.idle": "2022-07-14T04:56:32.824557Z",
     "shell.execute_reply": "2022-07-14T04:56:32.823303Z",
     "shell.execute_reply.started": "2022-07-14T04:56:32.814302Z"
    }
   },
   "outputs": [],
   "source": [
    "# @yunchonggan's fast metric implementation\n",
    "# From https://www.kaggle.com/competitions/amex-default-prediction/discussion/328020\n",
    "# https://www.kaggle.com/code/ambrosm/amex-lightgbm-quickstart\n",
    "def amex_metric(y_true: np.array, y_pred: np.array) -> float:\n",
    "\n",
    "    # count of positives and negatives\n",
    "    n_pos = y_true.sum()\n",
    "    n_neg = y_true.shape[0] - n_pos\n",
    "\n",
    "    # sorting by descring prediction values\n",
    "    indices = np.argsort(y_pred)[::-1]\n",
    "    preds, target = y_pred[indices], y_true[indices]\n",
    "\n",
    "    # filter the top 4% by cumulative row weights\n",
    "    weight = 20.0 - target * 19.0\n",
    "    cum_norm_weight = (weight / weight.sum()).cumsum()\n",
    "    four_pct_filter = cum_norm_weight <= 0.04\n",
    "\n",
    "    # default rate captured at 4%\n",
    "    d = target[four_pct_filter].sum() / n_pos\n",
    "\n",
    "    # weighted gini coefficient\n",
    "    lorentz = (target / n_pos).cumsum()\n",
    "    gini = ((lorentz - cum_norm_weight) * weight).sum()\n",
    "\n",
    "    # max weighted gini coefficient\n",
    "    gini_max = 10 * n_neg * (1 - 19 / (n_pos + 20 * n_neg))\n",
    "\n",
    "    # normalized weighted gini coefficient\n",
    "    g = gini / gini_max\n",
    "\n",
    "    return 0.5 * (g + d)\n"
   ]
  },
  {
   "cell_type": "raw",
   "metadata": {
    "execution": {
     "iopub.execute_input": "2022-07-14T01:53:30.259601Z",
     "iopub.status.busy": "2022-07-14T01:53:30.25927Z",
     "iopub.status.idle": "2022-07-14T01:53:30.271963Z",
     "shell.execute_reply": "2022-07-14T01:53:30.270859Z",
     "shell.execute_reply.started": "2022-07-14T01:53:30.259572Z"
    }
   },
   "source": [
    "def amex_metric(y_true: pd.DataFrame, y_pred: pd.DataFrame) -> float:\n",
    "\n",
    "    def top_four_percent_captured(y_true: pd.DataFrame, y_pred: pd.DataFrame) -> float:\n",
    "        df = (pd.concat([y_true, y_pred], axis='columns')\n",
    "              .sort_values('prediction', ascending=False))\n",
    "        df['weight'] = df['target'].apply(lambda x: 20 if x==0 else 1)\n",
    "        four_pct_cutoff = int(0.04 * df['weight'].sum())\n",
    "        df['weight_cumsum'] = df['weight'].cumsum()\n",
    "        df_cutoff = df.loc[df['weight_cumsum'] <= four_pct_cutoff]\n",
    "        return (df_cutoff['target'] == 1).sum() / (df['target'] == 1).sum()\n",
    "        \n",
    "    def weighted_gini(y_true: pd.DataFrame, y_pred: pd.DataFrame) -> float:\n",
    "        df = (pd.concat([y_true, y_pred], axis='columns')\n",
    "              .sort_values('prediction', ascending=False))\n",
    "        df['weight'] = df['target'].apply(lambda x: 20 if x==0 else 1)\n",
    "        df['random'] = (df['weight'] / df['weight'].sum()).cumsum()\n",
    "        total_pos = (df['target'] * df['weight']).sum()\n",
    "        df['cum_pos_found'] = (df['target'] * df['weight']).cumsum()\n",
    "        df['lorentz'] = df['cum_pos_found'] / total_pos\n",
    "        df['gini'] = (df['lorentz'] - df['random']) * df['weight']\n",
    "        return df['gini'].sum()\n",
    "\n",
    "    def normalized_weighted_gini(y_true: pd.DataFrame, y_pred: pd.DataFrame) -> float:\n",
    "        y_true_pred = y_true.rename(columns={'target': 'prediction'})\n",
    "        return weighted_gini(y_true, y_pred) / weighted_gini(y_true, y_true_pred)\n",
    "\n",
    "    g = normalized_weighted_gini(y_true, y_pred)\n",
    "    d = top_four_percent_captured(y_true, y_pred)\n",
    "\n",
    "    return 0.5 * (g + d)"
   ]
  },
  {
   "cell_type": "raw",
   "metadata": {},
   "source": [
    "trues = [np.random.randint(2) for i in range(100)]\n",
    "\n",
    "\n",
    "amex_metric(pd.DataFrame(data={'target': trues}), \n",
    "            pd.DataFrame(data={'prediction': np.random.rand(100)}))\n",
    "\n"
   ]
  },
  {
   "cell_type": "code",
   "execution_count": 10,
   "metadata": {
    "execution": {
     "iopub.execute_input": "2022-07-14T04:56:33.832975Z",
     "iopub.status.busy": "2022-07-14T04:56:33.832535Z",
     "iopub.status.idle": "2022-07-14T04:56:34.057519Z",
     "shell.execute_reply": "2022-07-14T04:56:34.056089Z",
     "shell.execute_reply.started": "2022-07-14T04:56:33.832931Z"
    }
   },
   "outputs": [],
   "source": [
    "X = df[x_cols]\n",
    "y = df[['target']]"
   ]
  },
  {
   "cell_type": "code",
   "execution_count": 11,
   "metadata": {},
   "outputs": [
    {
     "data": {
      "text/plain": [
       "36"
      ]
     },
     "execution_count": 11,
     "metadata": {},
     "output_type": "execute_result"
    }
   ],
   "source": [
    "del df\n",
    "gc.collect(0)"
   ]
  },
  {
   "cell_type": "code",
   "execution_count": 12,
   "metadata": {
    "execution": {
     "iopub.execute_input": "2022-07-14T04:56:34.096438Z",
     "iopub.status.busy": "2022-07-14T04:56:34.095611Z",
     "iopub.status.idle": "2022-07-14T04:56:34.103130Z",
     "shell.execute_reply": "2022-07-14T04:56:34.102270Z",
     "shell.execute_reply.started": "2022-07-14T04:56:34.096396Z"
    }
   },
   "outputs": [
    {
     "data": {
      "text/plain": [
       "3"
      ]
     },
     "execution_count": 12,
     "metadata": {},
     "output_type": "execute_result"
    }
   ],
   "source": [
    "skf = KFold(n_splits=3)\n",
    "skf.get_n_splits(X, y)"
   ]
  },
  {
   "cell_type": "code",
   "execution_count": 13,
   "metadata": {
    "execution": {
     "iopub.execute_input": "2022-07-14T04:56:34.977361Z",
     "iopub.status.busy": "2022-07-14T04:56:34.976765Z",
     "iopub.status.idle": "2022-07-14T04:56:35.037781Z",
     "shell.execute_reply": "2022-07-14T04:56:35.036381Z",
     "shell.execute_reply.started": "2022-07-14T04:56:34.977325Z"
    }
   },
   "outputs": [
    {
     "name": "stdout",
     "output_type": "stream",
     "text": [
      "KFold(n_splits=3, random_state=None, shuffle=False)\n",
      "0    0.740565\n",
      "1    0.259435\n",
      "Name: target, dtype: float64\n",
      "0    0.741317\n",
      "1    0.258683\n",
      "Name: target, dtype: float64\n",
      "0    0.739552\n",
      "1    0.260448\n",
      "Name: target, dtype: float64\n",
      "0    0.741824\n",
      "1    0.258176\n",
      "Name: target, dtype: float64\n",
      "0    0.743082\n",
      "1    0.256918\n",
      "Name: target, dtype: float64\n",
      "0    0.740059\n",
      "1    0.259941\n",
      "Name: target, dtype: float64\n"
     ]
    }
   ],
   "source": [
    "print(skf)\n",
    "\n",
    "for train_index, test_index in skf.split(X, y):\n",
    "#     print(\"TRAIN:\", train_index, \"TEST:\", test_index)\n",
    "#     print(\"TRAIN:\", len(train_index), \"TEST:\", len(test_index), len(test_index)/(len(test_index)+len(train_index)))\n",
    "    print(y.iloc[test_index]['target'].value_counts()/len(test_index)) \n",
    "    print(y.iloc[train_index]['target'].value_counts()/len(train_index))"
   ]
  },
  {
   "cell_type": "code",
   "execution_count": 14,
   "metadata": {
    "execution": {
     "iopub.execute_input": "2022-07-14T04:56:35.305240Z",
     "iopub.status.busy": "2022-07-14T04:56:35.304856Z",
     "iopub.status.idle": "2022-07-14T04:56:35.311399Z",
     "shell.execute_reply": "2022-07-14T04:56:35.310627Z",
     "shell.execute_reply.started": "2022-07-14T04:56:35.305208Z"
    }
   },
   "outputs": [
    {
     "data": {
      "text/plain": [
       "(305942, 152971)"
      ]
     },
     "execution_count": 14,
     "metadata": {},
     "output_type": "execute_result"
    }
   ],
   "source": [
    "len(train_index), len(test_index)"
   ]
  },
  {
   "cell_type": "code",
   "execution_count": 15,
   "metadata": {
    "execution": {
     "iopub.execute_input": "2022-07-14T04:56:35.633498Z",
     "iopub.status.busy": "2022-07-14T04:56:35.632803Z",
     "iopub.status.idle": "2022-07-14T04:56:35.643346Z",
     "shell.execute_reply": "2022-07-14T04:56:35.642086Z",
     "shell.execute_reply.started": "2022-07-14T04:56:35.633463Z"
    }
   },
   "outputs": [],
   "source": [
    "loss_dict = []\n",
    "\n",
    "\n",
    "def score(params):\n",
    "#     print(params)\n",
    "    num_boost_round = params['n_estimators']\n",
    "    params_ = copy.deepcopy(params)\n",
    "    del params_['n_estimators']\n",
    "    \n",
    "    losses = []\n",
    "    \n",
    "    for train_index, test_index in skf.split(X, y):\n",
    "        \n",
    "        #----start: data prep-------------------------------------\n",
    "        X_train, X_test = X.iloc[train_index], X.iloc[test_index]\n",
    "        y_train, y_test = y.iloc[train_index], y.iloc[test_index]\n",
    "\n",
    "        #----end: data prep-------------------------------------\n",
    "        \n",
    "        #-----start: train trees---------------------------------------\n",
    "        tree_model = train_trees(X_train, y_train['target'].values,\n",
    "                                 num_round=num_boost_round, \n",
    "                                 params=params_\n",
    "                                )\n",
    "\n",
    "        y_preds = tree_model.predict(X_test, num_iteration=tree_model.best_iteration)\n",
    "#         loss = roc_auc_score(y_test, y_preds)\n",
    "#         loss = f1_score(y_test['target'].values, (y_preds>=0.9).astype(int))\n",
    "#         loss = amex_metric(y_test, \n",
    "#                            pd.DataFrame(data={'prediction': y_preds}))\n",
    "        loss = amex_metric(y_test['target'].values, y_preds)\n",
    "        losses.append(loss)\n",
    "        #-----end: train trees---------------------------------------\n",
    "        \n",
    "    loss = np.mean(losses)\n",
    "#     print(loss)\n",
    "    loss_dict.append({'params': params, 'losses': losses, 'mean_loss': loss})\n",
    "    \n",
    "    if len(loss_dict)%10==0:\n",
    "        pd.DataFrame(data=loss_dict).to_excel('amex-hyperopt-lgb-rev2-spsfr-3kfold-corr75-527feats.xlsx', index=False)\n",
    "    return {'loss': -loss, 'status': STATUS_OK}"
   ]
  },
  {
   "cell_type": "code",
   "execution_count": 16,
   "metadata": {
    "execution": {
     "iopub.execute_input": "2022-07-14T04:56:36.562585Z",
     "iopub.status.busy": "2022-07-14T04:56:36.561382Z",
     "iopub.status.idle": "2022-07-14T04:56:36.570600Z",
     "shell.execute_reply": "2022-07-14T04:56:36.569371Z",
     "shell.execute_reply.started": "2022-07-14T04:56:36.562462Z"
    }
   },
   "outputs": [],
   "source": [
    "from hyperopt import hp\n",
    "from hyperopt import fmin, tpe, hp, STATUS_OK, Trials, anneal, rand\n",
    "from functools import partial\n",
    "def optimize(space, evals, cores, trials, optimizer=tpe.suggest, random_state=1234, n_startup_jobs=10):\n",
    "    algo = partial(optimizer, n_startup_jobs=n_startup_jobs)\n",
    "    best = fmin(score, space, algo=algo, max_evals=evals, trials = trials)\n",
    "    print(best)\n",
    "    return best"
   ]
  },
  {
   "cell_type": "code",
   "execution_count": 17,
   "metadata": {
    "execution": {
     "iopub.execute_input": "2022-07-14T04:56:37.203450Z",
     "iopub.status.busy": "2022-07-14T04:56:37.202290Z",
     "iopub.status.idle": "2022-07-14T04:56:37.209376Z",
     "shell.execute_reply": "2022-07-14T04:56:37.208282Z",
     "shell.execute_reply.started": "2022-07-14T04:56:37.203401Z"
    }
   },
   "outputs": [],
   "source": [
    "cores = 4\n",
    "n=500\n",
    "verbose = False\n",
    "trials = Trials()"
   ]
  },
  {
   "cell_type": "code",
   "execution_count": null,
   "metadata": {},
   "outputs": [],
   "source": [
    "best_param = optimize(space,\n",
    "                      evals = n,\n",
    "                      optimizer=tpe.suggest,\n",
    "                      cores = cores,\n",
    "                      trials = trials, random_state=1234, \n",
    "                      n_startup_jobs=10)"
   ]
  },
  {
   "cell_type": "code",
   "execution_count": 19,
   "metadata": {},
   "outputs": [],
   "source": [
    "pd.DataFrame(data=loss_dict).to_excel('amex-hyperopt-lgb-rev2-spsfr-3kfold-corr75-527feats.xlsx', index=False)"
   ]
  },
  {
   "cell_type": "code",
   "execution_count": null,
   "metadata": {},
   "outputs": [],
   "source": []
  }
 ],
 "metadata": {
  "kernelspec": {
   "display_name": "Python 3",
   "language": "python",
   "name": "python3"
  },
  "language_info": {
   "codemirror_mode": {
    "name": "ipython",
    "version": 3
   },
   "file_extension": ".py",
   "mimetype": "text/x-python",
   "name": "python",
   "nbconvert_exporter": "python",
   "pygments_lexer": "ipython3",
   "version": "3.6.3"
  }
 },
 "nbformat": 4,
 "nbformat_minor": 4
}
