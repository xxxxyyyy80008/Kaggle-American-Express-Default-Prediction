{
 "cells": [
  {
   "cell_type": "raw",
   "id": "6de8b3e6",
   "metadata": {},
   "source": [
    "# This Python 3 environment comes with many helpful analytics libraries installed\n",
    "# It is defined by the kaggle/python Docker image: https://github.com/kaggle/docker-python\n",
    "# For example, here's several helpful packages to load\n",
    "\n",
    "import numpy as np # linear algebra\n",
    "import pandas as pd # data processing, CSV file I/O (e.g. pd.read_csv)\n",
    "\n",
    "# Input data files are available in the read-only \"../input/\" directory\n",
    "# For example, running this (by clicking run or pressing Shift+Enter) will list all files under the input directory\n",
    "\n",
    "import os\n",
    "for dirname, _, filenames in os.walk('/kaggle/input'):\n",
    "    for filename in filenames:\n",
    "        print(os.path.join(dirname, filename))\n",
    "\n",
    "# You can write up to 20GB to the current directory (/kaggle/working/) that gets preserved as output when you create a version using \"Save & Run All\" \n",
    "# You can also write temporary files to /kaggle/temp/, but they won't be saved outside of the current session"
   ]
  },
  {
   "cell_type": "code",
   "execution_count": 1,
   "id": "d2ad4365",
   "metadata": {},
   "outputs": [],
   "source": [
    "import pandas as pd\n",
    "import numpy as np\n",
    "import os\n",
    "from pathlib import Path\n",
    "\n",
    "from datetime import datetime, timedelta\n",
    "import time\n",
    "\n",
    "import gc\n",
    "import copy\n",
    "\n",
    "import pyarrow.parquet as pq\n",
    "import pyarrow as pa\n",
    "\n",
    " \n",
    "from dateutil.relativedelta import relativedelta\n",
    "from sklearn.preprocessing import StandardScaler, MinMaxScaler"
   ]
  },
  {
   "cell_type": "code",
   "execution_count": 2,
   "id": "29756f29",
   "metadata": {},
   "outputs": [],
   "source": [
    "from sklearn.metrics import mean_squared_error, roc_auc_score\n",
    "from sklearn.model_selection import StratifiedKFold, KFold"
   ]
  },
  {
   "cell_type": "code",
   "execution_count": 3,
   "id": "bbc31417",
   "metadata": {},
   "outputs": [
    {
     "name": "stderr",
     "output_type": "stream",
     "text": [
      "Global seed set to 1234\n"
     ]
    },
    {
     "data": {
      "text/plain": [
       "1234"
      ]
     },
     "execution_count": 3,
     "metadata": {},
     "output_type": "execute_result"
    }
   ],
   "source": [
    "pd.options.display.max_rows = 100\n",
    "pd.options.display.max_columns = 100\n",
    "\n",
    "import warnings\n",
    "warnings.filterwarnings(\"ignore\")\n",
    "\n",
    "import pytorch_lightning as pl\n",
    "random_seed=1234\n",
    "pl.seed_everything(random_seed)"
   ]
  },
  {
   "cell_type": "raw",
   "id": "9a156867",
   "metadata": {},
   "source": [
    "%%time\n",
    "train_file = 'amex/agg_v3/agg_train_all_small.parquet'\n",
    "df=pd.read_parquet(train_file, engine='pyarrow')"
   ]
  },
  {
   "cell_type": "code",
   "execution_count": 14,
   "id": "dbe48d6c",
   "metadata": {},
   "outputs": [
    {
     "data": {
      "text/plain": [
       "937"
      ]
     },
     "execution_count": 14,
     "metadata": {},
     "output_type": "execute_result"
    }
   ],
   "source": [
    "feats937 = ['S_3__range', 'R_27__mean', 'B_11__std', 'D_87__last', 'R_13__range', 'D_61__mean', 'B_41__last', 'R_17__std', 'D_118__last__log', 'B_4__range', 'B_8__last2max', 'S_25__min', 'D_52__mean', 'B_20__first', 'B_4__mean2std', 'D_145__last', 'B_4__last__log', 'D_102__last', 'D_110__last', 'B_32__range', 'R_7__mean__log', 'R_21__range', 'R_16__mean__log', 'D_112__mean__log', 'S_26__last__log', 'S_27__last', 'B_24__range', 'D_74__last__log', 'D_120=0.0', 'B_38__nunique', 'B_19__mean', 'B_23__first', 'B_11__min', 'D_118__mean__log', 'S_22__first', 'D_47__max', 'B_38=2.0', 'B_38=5.0', 'D_41__mean', 'D_94__last', 'B_9__min', 'B_42__last', 'D_122__mean', 'B_22__mean', 'R_7__max', 'R_27__first', 'D_44__max', 'D_79__mean__log', 'R_1__max', 'B_10__min', 'D_139__last', 'D_44__last', 'D_58__mean', 'D_48__mean', 'R_26__last', 'B_7__range', 'S_15__range', 'D_127__max', 'S_13__min', 'B_2__last2max', 'D_47__min', 'D_89__last', 'S_11__last', 'R_3__last__log', 'B_16__first', 'B_12__last', 'B_1__last', 'B_33__mean', 'D_51__range', 'D_62__range', 'B_3__last__log', 'R_4__min', 'D_81__last__log', 'B_11__first', 'S_5__last__log', 'D_43__last__log', 'B_4__mean', 'D_135__last', 'B_4__first', 'D_81__mean', 'R_16__last', 'B_22__range', 'D_119__last', 'B_25__last', 'S_23__std', 'B_29__last', 'R_16__max', 'D_70__last__log', 'D_41__max', 'D_74__max', 'D_79__mean', 'D_44__first', 'B_9__range', 'D_78__range', 'B_16__mean', 'B_2__last__log', 'B_9__first', 'D_122__last', 'D_47__last', 'D_42__std', 'D_43__last', 'S_8__last2max', 'B_24__max', 'D_84__last', 'B_5__mean__log', 'D_107__mean__log', 'D_78__max', 'B_8__last__log', 'D_77__last', 'D_58__range', 'D_82__last', 'B_11__max', 'D_51__first', 'B_1__last2max', 'B_11__last2max', 'D_74__std', 'S_20__std', 'B_3__last2max', 'B_14__mean', 'P_2__last2max', 'D_58__min', 'D_64=O', 'P_2__mean', 'D_131__first', 'D_65__last__log', 'S_24__last', 'R_1__last', 'P_4__mean', 'D_77__mean__log', 'D_44__last2max', 'R_25__max', 'B_2__last', 'D_74__min', 'D_81__last', 'D_43__mean', 'D_70__range', 'D_53__min', 'D_136__last', 'B_23__min', 'D_70__max', 'R_28__last__log', 'B_19__last__log', 'D_129__mean', 'B_40__min', 'D_58__first', 'D_55__std', 'D_135__mean2std', 'D_43__min', 'S_11__std', 'P_2__max', 'D_119__first', 'D_131__range', 'D_62__max', 'R_4__std', 'R_24__mean', 'D_114=999.0', 'D_81__std', 'B_1__range', 'S_6__std', 'B_6__min', 'R_7__mean', 'D_128__mean', 'B_7__std', 'R_24__range', 'B_2__mean', 'D_115__min', 'D_123__last__log', 'D_74__mean', 'R_5__last', 'D_48__max', 'R_10__range', 'D_89__range', 'R_21__last', 'B_9__mean', 'D_124__last', 'S_6__range', 'D_78__first', 'D_77__range', 'B_32__max', 'D_44__last__log', 'D_44__mean', 'D_77__last__log', 'R_1__mean', 'R_12__mean', 'D_115__mean', 'S_7__last', 'D_39__last', 'D_46__mean2std', 'P_2__first', 'D_72__last', 'B_4__last2max', 'R_13__mean', 'B_4__min', 'D_59__first', 'D_128__last', 'B_32__std', 'D_54__std', 'B_24__mean__log', 'R_10__mean', 'D_69__last', 'D_78__mean', 'B_31__last', 'R_10__last', 'D_45__last__log', 'D_140__max', 'D_59__max', 'D_79__std', 'D_55__max', 'B_8__max', 'D_93__last', 'S_8__min', 'D_128__first', 'R_6__range', 'S_20__mean', 'S_9__last', 'D_136__last__log', 'R_21__max', 'D_62__mean', 'R_1__last2min', 'D_56__min', 'D_53__range', 'B_16__range', 'S_27__std', 'B_1__std', 'S_15__mean', 'P_3__mean', 'D_42__max', 'S_23__mean2std', 'B_30__last', 'D_77__max', 'D_126=999.0', 'B_33__first', 'D_112__last2max', 'D_130__first', 'D_105__last', 'B_21__max', 'R_13__last', 'D_54__last', 'D_51__min', 'S_20__mean__log', 'D_106__mean2std', 'D_122__min', 'D_131__last', 'B_8__last', 'B_26__mean__log', 'D_120__last', 'D_61__first', 'R_3__last', 'B_4__std', 'S_7__max', 'D_75__min', 'D_135__last__log', 'D_103__last', 'R_15__std', 'B_36__last__log', 'D_81__range', 'B_20__std', 'D_116__last', 'D_139__mean', 'D_72__last__log', 'R_4__range', 'S_3__mean', 'B_26__last__log', 'R_1__min', 'B_23__last', 'R_2__last2min', 'D_49__mean2std', 'R_24__last', 'D_79__max', 'D_78__last', 'D_113__first', 'D_39__mean', 'D_143__last', 'D_142__last', 'D_45__first', 'D_144__last', 'R_1__last__log', 'B_7__last2max', 'B_22__min', 'B_19__last', 'S_6__last2max', 'B_28__min', 'D_45__mean', 'D_134__last', 'D_53__first', 'B_1__max', 'R_16__mean', 'D_74__mean__log', 'D_125__last__log', 'S_11__mean', 'D_113__min', 'D_134__min', 'S_22__last', 'D_78__std', 'B_32__mean__log', 'B_33__last', 'B_5__last', 'B_42__last__log', 'D_132__last', 'B_20__last', 'D_77__min', 'B_40__mean', 'D_51__mean', 'B_19__range', 'R_17__max', 'D_80__last', 'R_12__max', 'D_62__last2max', 'S_20__range', 'D_106__last', 'D_48__std', 'D_128__mean__log', 'B_18__last__log', 'D_140__last', 'D_59__last', 'D_51__last', 'D_54__range', 'D_89__std', 'D_68__nunique', 'D_118__first', 'S_9__max', 'D_108__last', 'D_59__mean', 'S_24__mean', 'B_21__last', 'D_102__last__log', 'D_77__first', 'B_30=2.0', 'D_79__range', 'D_81__max', 'D_104__last', 'S_20__last', 'D_118__min', 'D_122__first', 'D_106__last__log', 'D_46__last', 'D_53__mean2std', 'B_28__first', 'D_92__mean__log', 'P_3__min', 'B_15__mean', 'B_3__max', 'R_8__std', 'R_7__range', 'D_58__last__log', 'B_18__mean__log', 'D_112__std', 'R_20__mean', 'P_2__range', 'B_17__mean2std', 'R_22__last', 'D_120__nunique', 'D_58__max', 'P_3__max', 'R_27__min', 'S_3__max', 'B_40__first', 'R_16__std', 'B_23__mean__log', 'B_20__min', 'P_2__last', 'D_72__mean__log', 'R_10__std', 'B_11__last', 'S_15__max', 'B_32__last__log', 'P_3__last', 'R_15__mean', 'R_6__mean__log', 'D_127__std', 'D_53__std', 'D_133__last', 'B_23__mean', 'S_7__first', 'D_121__last', 'D_132__min', 'B_2__std', 'B_37__range', 'B_19__first', 'P_4__range', 'D_119__max', 'R_15__mean__log', 'B_2__mean__log', 'D_92__max', 'D_123__mean', 'R_11__range', 'D_112__last__log', 'B_20__last2max', 'S_27__last2max', 'B_27__last', 'D_127__mean', 'D_45__max', 'D_55__mean', 'R_2__mean__log', 'D_96__last', 'P_3__first', 'S_22__mean', 'B_40__max', 'D_92__mean', 'D_44__std', 'B_8__first', 'D_65__mean', 'R_11__std', 'D_45__mean__log', 'D_91__last', 'R_4__mean__log', 'D_72__std', 'B_40__last2max', 'D_68__last', 'D_52__mean2std', 'B_18__last', 'D_128__max', 'R_13__mean2std', 'D_53__mean', 'D_116__nunique', 'B_24__mean', 'D_127__last', 'B_20__mean2std', 'B_18__mean', 'D_109__mean', 'B_28__last', 'R_20__max', 'D_52__first', 'B_4__mean__log', 'D_65__mean__log', 'R_8__mean__log', 'B_19__max', 'B_37__mean', 'D_121__min', 'R_14__last__log', 'R_18__max', 'D_72__range', 'D_113__mean__log', 'D_39__range', 'B_16__mean__log', 'D_107__max', 'D_114__last', 'D_141__last', 'D_70__mean', 'B_37__first', 'D_47__mean', 'D_52__min', 'D_65__std', 'D_112__mean', 'R_3__first', 'D_75__last', 'D_113__last__log', 'D_91__max', 'D_45__last', 'D_52__last', 'R_24__max', 'R_12__std', 'D_107__last', 'D_138__last__log', 'D_59__min', 'D_68=6.0', 'S_26__last', 'D_128__min', 'S_8__last', 'S_7__min', 'D_118__mean', 'B_14__min', 'R_20__range', 'D_39__max', 'D_112__last', 'D_48__first', 'D_60__max', 'D_115__max', 'D_60__last', 'S_23__range', 'S_16__mean__log', 'B_3__first', 'B_38__last', 'D_127__range', 'D_55__last2max', 'S_3__last', 'D_109__last__log', 'B_7__max', 'R_4__max', 'S_6__max', 'S_16__last', 'D_89__mean', 'R_2__last__log', 'B_24__last', 'P_2__min', 'B_29__last__log', 'R_17__last', 'D_132__mean2std', 'D_89__mean__log', 'D_86__last', 'B_22__std', 'D_41__last', 'B_4__last', 'D_64__last=O', 'B_3__min', 'S_3__min', 'D_111__last', 'B_17__min', 'D_70__first', 'B_33__max', 'B_38=4.0', 'D_84__max', 'P_3__std', 'R_13__max', 'D_114=0.0', 'D_44__min', 'B_36__last', 'B_5__last__log', 'R_9__last', 'S_6__last', 'B_22__last', 'D_41__min', 'B_10__last', 'D_130__last', 'R_8__max', 'B_24__last__log', 'S_17__min', 'D_84__mean__log', 'S_11__min', 'D_42__mean2std', 'D_54__mean', 'R_15__last', 'R_21__mean', 'D_79__last__log', 'R_22__max', 'D_53__last__log', 'B_8__mean', 'R_2__std', 'D_55__last', 'D_84__last__log', 'D_109__last', 'S_25__range', 'R_12__last', 'D_44__mean__log', 'D_46__min', 'D_55__range', 'S_8__mean', 'S_12__last', 'D_62__first', 'R_5__range', 'S_5__mean__log', 'S_27__last__log', 'B_18__max', 'D_79__min', 'B_38=1.0', 'D_105__max', 'D_138__last', 'D_54__min', 'R_25__range', 'B_19__mean__log', 'D_53__max', 'B_23__std', 'B_25__min', 'D_61__min', 'R_6__std', 'R_13__mean__log', 'D_127__last__log', 'D_75__mean', 'B_40__mean__log', 'R_26__mean2std', 'D_58__std', 'D_122__max', 'S_18__last', 'D_72__mean', 'R_16__range', 'D_131__max', 'D_129__last', 'D_52__max', 'B_20__mean__log', 'R_2__min', 'S_25__first', 'B_3__std', 'B_21__last__log', 'R_14__last', 'B_3__mean__log', 'D_56__mean2std', 'R_4__mean', 'R_2__max', 'R_8__last', 'B_32__last', 'R_20__last', 'D_74__last2max', 'D_58__last2max', 'R_2__last', 'D_75__max', 'R_15__max', 'D_60__last__log', 'B_33__mean__log', 'S_22__max', 'B_8__min', 'B_40__last', 'D_65__last', 'R_2__first', 'R_1__mean__log', 'D_42__range', 'D_48__last', 'R_18__last', 'R_2__range', 'S_13__last2max', 'B_9__std', 'B_21__mean__log', 'D_72__min', 'R_3__std', 'R_5__mean', 'D_129__max', 'D_74__first', 'D_49__last', 'R_7__std', 'D_43__first', 'D_140__last__log', 'D_48__last2max', 'B_6__mean', 'B_12__last__log', 'R_5__max', 'B_33__min', 'B_23__range', 'R_14__mean__log', 'B_33__last2max', 'D_130__last__log', 'D_75__first', 'R_1__range', 'B_9__max', 'D_138__mean2std', 'R_7__last', 'D_115__last', 'D_55__mean__log', 'B_17__last__log', 'D_43__max', 'D_84__range', 'D_72__max', 'R_23__last', 'P_4__last__log', 'B_2__range', 'R_19__last', 'R_5__last__log', 'B_19__std', 'R_6__mean', 'D_54__last2max', 'D_131__mean__log', 'D_118__last', 'D_84__mean', 'B_22__max', 'B_23__max', 'D_117=999.0', 'D_89__max', 'D_83__last', 'B_4__max', 'B_11__range', 'B_13__last__log', 'D_39__std', 'R_25__last', 'D_118__max', 'S_3__std', 'R_3__range', 'D_115__last__log', 'D_75__last__log', 'D_64=U', 'B_37__std', 'D_65__range', 'B_20__mean', 'D_73__last', 'B_6__max', 'S_17__last', 'B_25__last2max', 'S_5__last', 'D_39__last__log', 'B_16__std', 'D_69__min', 'R_9__mean2std', 'D_74__range', 'B_37__last', 'D_42__last', 'D_81__mean__log', 'R_3__mean', 'B_11__last__log', 'B_20__max', 'S_24__max', 'D_136__mean2std', 'D_121__mean', 'D_114__nunique', 'B_8__mean__log', 'D_78__mean__log', 'B_1__min', 'D_50__last', 'D_55__first', 'D_41__std', 'D_51__std', 'B_16__min', 'R_28__last', 'P_4__min', 'D_75__range', 'D_75__last2max', 'R_27__last', 'D_41__last__log', 'D_70__last', 'D_39__mean__log', 'R_6__last', 'S_23__max', 'D_134__mean2std', 'D_43__std', 'B_11__mean__log', 'B_18__last2max', 'D_107__last__log', 'P_4__std', 'D_48__min', 'R_15__range', 'S_19__last', 'R_10__mean__log', 'D_61__max', 'B_9__last', 'B_2__first', 'D_39__mean2std', 'R_3__max', 'D_43__mean__log', 'B_7__mean', 'R_13__std', 'P_4__mean__log', 'D_55__min', 'D_65__max', 'R_10__max', 'D_58__last', 'D_121__first', 'R_4__last__log', 'D_137__last', 'B_22__mean__log', 'D_130__min', 'S_25__last2max', 'B_6__first', 'D_130__max', 'R_6__max', 'B_17__mean__log', 'R_17__mean__log', 'B_20__range', 'R_1__first', 'D_53__last', 'D_115__first', 'D_41__range', 'D_76__last', 'R_1__std', 'D_41__mean__log', 'B_30=1.0', 'B_30__nunique', 'B_7__first', 'D_120=1.0', 'D_79__first', 'D_112__range', 'D_127__first', 'D_122__mean__log', 'P_3__last2max', 'D_112__min', 'B_10__mean', 'D_55__last__log', 'B_17__last2max', 'D_75__std', 'D_88__last', 'B_3__last', 'B_17__max', 'D_47__first', 'D_42__min', 'S_12__max', 'D_133__max', 'B_7__last', 'D_108__last__log', 'B_23__last__log', 'D_119__mean', 'B_18__min', 'B_15__last', 'D_42__mean', 'R_12__min', 'D_75__mean__log', 'S_3__first', 'P_4__first', 'D_102__max', 'S_25__last', 'D_51__mean__log', 'R_22__range', 'D_78__last__log', 'R_4__last', 'D_130__mean__log', 'D_64__last=U', 'R_7__last__log', 'B_28__last2max', 'D_133__last__log', 'R_27__max', 'B_37__max', 'D_43__range', 'R_2__mean', 'S_25__mean', 'S_15__std', 'B_6__last', 'B_24__std', 'D_48__range', 'B_41__last__log', 'R_17__mean', 'B_31__nunique', 'R_3__min', 'D_70__mean__log', 'R_5__mean__log', 'B_2__max', 'R_8__range', 'D_62__last', 'S_25__std', 'B_11__mean', 'B_33__last__log', 'D_113__last', 'B_27__last__log', 'D_137__mean2std', 'B_14__last2max', 'B_12__mean__log', 'P_2__std', 'D_131__std', 'D_79__last', 'B_17__last', 'B_28__max', 'R_8__mean', 'D_119__mean__log', 'B_30=0.0', 'D_62__std', 'B_13__last', 'D_71__mean__log', 'D_115__mean__log', 'D_45__min', 'D_51__last__log', 'D_70__min', 'B_28__mean', 'B_10__last2max', 'B_3__range', 'D_119__min', 'D_46__mean', 'D_61__last', 'D_51__max', 'B_37__last2max', 'B_10__first', 'R_24__std', 'B_18__first', 'D_121__max', 'B_6__last2max', 'R_24__mean__log', 'D_71__last', 'B_39__last', 'B_25__mean', 'D_126__last', 'S_27__mean2std', 'D_113__max', 'B_38=6.0', 'D_74__last', 'R_21__mean__log', 'D_92__last', 'D_123__last', 'S_23__last', 'B_17__mean', 'B_16__max', 'D_117__last', 'R_19__min', 'R_8__last__log', 'D_53__mean__log', 'S_20__max', 'B_9__mean__log', 'R_21__std', 'D_61__last2max', 'D_58__mean__log', 'B_22__last__log', 'B_38=7.0', 'S_7__std', 'D_42__first', 'D_119__last__log', 'S_15__last', 'S_6__min', 'B_1__mean', 'D_128__last__log', 'R_11__last', 'R_10__first', 'R_6__last__log', 'D_91__mean__log', 'R_17__range', 'D_71__last__log', 'P_3__range', 'S_15__first', 'R_11__max', 'B_10__max', 'B_3__mean', 'R_3__mean__log', 'B_22__first', 'R_11__mean', 'D_44__range', 'S_7__mean', 'B_40__last__log', 'D_120=999.0', 'R_5__std', 'P_4__max', 'D_137__last__log', 'R_11__mean__log', 'D_131__last__log', 'P_4__last', 'D_131__min', 'B_5__mean', 'B_14__last', 'S_23__mean', 'D_130__mean', 'R_12__range', 'D_70__std', 'B_37__min', 'R_20__mean__log', 'D_49__last__log', 'R_10__last__log', 'B_9__last2max', 'D_68=1.0', 'D_62__min', 'D_41__mean2std', 'D_116=999.0', 'S_13__last', 'D_113__mean', 'D_77__mean', 'B_19__min', 'B_20__last__log', 'B_9__last__log', 'B_1__first', 'B_2__min', 'B_16__last__log', 'R_25__std', 'B_26__last', 'R_20__std', 'D_133__min', 'D_56__last', 'D_131__mean', 'D_127__mean__log', 'B_16__last2max', 'D_114=1.0', 'S_7__range', 'D_133__mean__log', 'B_23__last2max', 'B_19__last2max', 'D_125__last', 'B_16__last', 'D_70__mean2std', 'D_84__std', 'B_7__min']\n",
    "\n",
    "feats551 = ['B_10__last', 'B_10__mean', 'B_11__last', 'B_11__last2max', 'B_11__last__log', 'B_11__mean', 'B_11__mean__log', 'B_11__min', 'B_12__last', 'B_12__last__log', 'B_13__last', 'B_13__last__log', 'B_14__last', 'B_14__last2max', 'B_14__min', 'B_15__last', 'B_15__mean', 'B_16__last', 'B_16__max', 'B_16__min', 'B_17__last', 'B_17__max', 'B_17__mean', 'B_17__mean2std', 'B_17__min', 'B_18__last', 'B_18__last__log', 'B_18__mean', 'B_18__mean__log', 'B_18__min', 'B_19__last', 'B_19__last__log', 'B_19__min', 'B_1__last', 'B_1__last2max', 'B_1__max', 'B_1__mean', 'B_1__min', 'B_20__last', 'B_20__last__log', 'B_20__max', 'B_20__mean', 'B_20__mean__log', 'B_20__min', 'B_21__last', 'B_21__last__log', 'B_21__max', 'B_21__mean__log', 'B_22__last', 'B_22__last__log', 'B_22__max', 'B_22__mean', 'B_22__mean__log', 'B_22__min', 'B_23__last', 'B_23__last__log', 'B_23__mean', 'B_23__min', 'B_24__last', 'B_24__last__log', 'B_24__mean', 'B_24__mean__log', 'B_25__last', 'B_25__last2max', 'B_25__min', 'B_26__last', 'B_26__last__log', 'B_26__mean__log', 'B_27__last', 'B_27__last__log', 'B_28__last', 'B_29__last', 'B_29__last__log', 'B_2__last', 'B_2__last2max', 'B_2__last__log', 'B_2__mean', 'B_2__mean__log', 'B_2__min', 'B_30=0.0', 'B_30=1.0', 'B_30=2.0', 'B_30__last', 'B_30__nunique', 'B_31__last', 'B_31__nunique', 'B_32__last', 'B_32__last__log', 'B_32__max', 'B_33__last', 'B_33__last2max', 'B_33__last__log', 'B_33__max', 'B_33__mean', 'B_33__mean__log', 'B_33__min', 'B_36__last', 'B_36__last__log', 'B_37__last', 'B_37__last2max', 'B_37__max', 'B_37__mean', 'B_38=4.0', 'B_38=5.0', 'B_38=6.0', 'B_38=7.0', 'B_38__last', 'B_38__nunique', 'B_39__last', 'B_3__last', 'B_3__last__log', 'B_3__max', 'B_3__mean', 'B_3__mean__log', 'B_3__min', 'B_3__std', 'B_40__last', 'B_40__last__log', 'B_40__mean__log', 'B_40__min', 'B_41__last', 'B_41__last__log', 'B_42__last', 'B_42__last__log', 'B_4__last', 'B_4__last2max', 'B_4__last__log', 'B_4__max', 'B_4__mean2std', 'B_4__mean__log', 'B_5__last', 'B_5__last__log', 'B_5__mean', 'B_6__last', 'B_6__min', 'B_7__last', 'B_7__max', 'B_7__mean', 'B_7__min', 'B_8__last', 'B_8__last__log', 'B_8__max', 'B_8__mean', 'B_8__mean__log', 'B_8__min', 'B_9__last', 'B_9__last2max', 'B_9__last__log', 'B_9__max', 'B_9__mean', 'B_9__mean__log', 'B_9__min', 'D_102__last', 'D_102__last__log', 'D_102__max', 'D_103__last', 'D_104__last', 'D_105__last', 'D_105__max', 'D_106__last', 'D_106__last__log', 'D_107__last', 'D_107__last__log', 'D_107__max', 'D_107__mean__log', 'D_108__last', 'D_108__last__log', 'D_109__last', 'D_109__last__log', 'D_109__mean', 'D_110__last', 'D_111__last', 'D_112__last', 'D_112__last__log', 'D_113__last', 'D_113__last__log', 'D_113__max', 'D_114=0.0', 'D_114__last', 'D_114__nunique', 'D_115__last', 'D_115__last__log', 'D_116__last', 'D_117__last', 'D_118__last', 'D_118__last__log', 'D_118__mean__log', 'D_119__last', 'D_119__last__log', 'D_120=1.0', 'D_120__last', 'D_120__nunique', 'D_121__last', 'D_122__last', 'D_122__max', 'D_122__min', 'D_123__last', 'D_123__last__log', 'D_123__mean', 'D_124__last', 'D_125__last', 'D_125__last__log', 'D_126__last', 'D_127__last', 'D_128__last', 'D_128__max', 'D_128__min', 'D_129__last', 'D_129__max', 'D_129__mean', 'D_130__last', 'D_130__max', 'D_131__last', 'D_131__last__log', 'D_131__max', 'D_131__min', 'D_132__last', 'D_132__mean2std', 'D_132__min', 'D_133__last', 'D_133__last__log', 'D_133__max', 'D_133__min', 'D_134__last', 'D_134__min', 'D_135__last', 'D_135__last__log', 'D_135__mean2std', 'D_136__last', 'D_136__last__log', 'D_137__last', 'D_137__last__log', 'D_138__last', 'D_138__last__log', 'D_139__last', 'D_139__mean', 'D_140__last', 'D_140__last__log', 'D_140__max', 'D_141__last', 'D_142__last', 'D_143__last', 'D_144__last', 'D_145__last', 'D_39__last', 'D_39__last__log', 'D_39__max', 'D_39__mean', 'D_39__range', 'D_39__std', 'D_41__last', 'D_41__last__log', 'D_41__max', 'D_41__mean', 'D_41__min', 'D_42__first', 'D_42__last', 'D_42__max', 'D_42__mean', 'D_42__mean2std', 'D_42__min', 'D_43__last', 'D_43__last__log', 'D_43__max', 'D_43__mean', 'D_43__mean__log', 'D_43__min', 'D_44__last', 'D_44__last2max', 'D_44__last__log', 'D_44__max', 'D_44__mean', 'D_44__mean__log', 'D_44__min', 'D_44__range', 'D_44__std', 'D_45__first', 'D_45__last', 'D_45__last__log', 'D_45__max', 'D_45__mean', 'D_45__mean__log', 'D_45__min', 'D_46__last', 'D_46__mean', 'D_46__mean2std', 'D_46__min', 'D_47__last', 'D_48__first', 'D_48__last', 'D_48__max', 'D_48__mean', 'D_48__min', 'D_49__last', 'D_49__last__log', 'D_49__mean2std', 'D_50__last', 'D_51__last', 'D_51__last__log', 'D_51__mean', 'D_52__last', 'D_52__max', 'D_52__mean', 'D_52__mean2std', 'D_52__min', 'D_53__last', 'D_53__last__log', 'D_53__max', 'D_53__mean2std', 'D_53__min', 'D_54__last', 'D_55__last', 'D_55__last__log', 'D_55__max', 'D_55__min', 'D_56__last', 'D_56__min', 'D_58__last', 'D_58__min', 'D_59__last', 'D_59__max', 'D_60__last', 'D_60__last__log', 'D_60__max', 'D_61__last', 'D_61__max', 'D_61__mean', 'D_61__min', 'D_62__last', 'D_62__max', 'D_62__mean', 'D_62__min', 'D_64=U', 'D_65__last', 'D_65__last__log', 'D_65__max', 'D_65__mean', 'D_65__mean__log', 'D_68=1.0', 'D_68__last', 'D_69__last', 'D_69__min', 'D_70__last', 'D_70__max', 'D_70__mean2std', 'D_70__min', 'D_71__last', 'D_72__last', 'D_72__max', 'D_72__min', 'D_73__last', 'D_74__last', 'D_74__max', 'D_74__mean', 'D_75__last', 'D_75__last__log', 'D_75__max', 'D_75__mean', 'D_75__mean__log', 'D_76__last', 'D_77__last', 'D_77__max', 'D_77__mean', 'D_77__min', 'D_78__last', 'D_78__max', 'D_78__mean', 'D_78__mean__log', 'D_79__last', 'D_79__max', 'D_80__last', 'D_81__last', 'D_81__max', 'D_81__mean', 'D_82__last', 'D_83__last', 'D_84__last', 'D_84__max', 'D_84__mean', 'D_86__last', 'D_87__last', 'D_88__last', 'D_89__last', 'D_89__max', 'D_89__mean', 'D_91__last', 'D_92__last', 'D_93__last', 'D_94__last', 'D_96__last', 'P_2__first', 'P_2__last', 'P_2__last2max', 'P_2__max', 'P_2__mean', 'P_2__min', 'P_3__last', 'P_3__max', 'P_3__mean', 'P_3__min', 'P_4__last', 'P_4__max', 'P_4__mean', 'P_4__min', 'R_10__last', 'R_10__max', 'R_10__mean', 'R_10__mean__log', 'R_10__std', 'R_11__last', 'R_11__max', 'R_11__mean', 'R_12__last', 'R_12__max', 'R_12__mean', 'R_13__last', 'R_13__max', 'R_13__mean', 'R_13__mean2std', 'R_14__last', 'R_15__last', 'R_15__max', 'R_15__mean', 'R_16__last', 'R_16__max', 'R_16__mean', 'R_16__mean__log', 'R_17__last', 'R_17__max', 'R_18__last', 'R_18__max', 'R_19__last', 'R_19__min', 'R_1__last', 'R_1__last__log', 'R_1__max', 'R_1__mean', 'R_1__mean__log', 'R_1__min', 'R_1__range', 'R_1__std', 'R_20__last', 'R_20__max', 'R_20__mean', 'R_21__last', 'R_22__last', 'R_22__max', 'R_23__last', 'R_24__last', 'R_24__max', 'R_24__mean', 'R_25__last', 'R_25__max', 'R_26__last', 'R_26__mean2std', 'R_27__last', 'R_27__max', 'R_27__mean', 'R_27__min', 'R_28__last', 'R_28__last__log', 'R_2__last', 'R_2__last__log', 'R_2__max', 'R_2__mean', 'R_2__mean__log', 'R_2__min', 'R_2__range', 'R_2__std', 'R_3__last', 'R_3__last__log', 'R_3__max', 'R_3__mean', 'R_3__mean__log', 'R_3__min', 'R_4__last', 'R_4__max', 'R_4__mean', 'R_4__mean__log', 'R_4__min', 'R_5__last', 'R_5__max', 'R_5__mean', 'R_5__mean__log', 'R_5__range', 'R_6__last', 'R_6__last__log', 'R_6__max', 'R_6__mean', 'R_6__mean__log', 'R_7__last', 'R_7__max', 'R_7__mean', 'R_7__range', 'R_8__last', 'R_8__max', 'R_8__mean', 'R_8__mean__log', 'R_9__last', 'R_9__mean2std', 'S_11__last', 'S_11__mean', 'S_12__last', 'S_12__max', 'S_13__last', 'S_15__last', 'S_15__max', 'S_15__mean', 'S_16__last', 'S_17__last', 'S_17__min', 'S_18__last', 'S_19__last', 'S_20__last', 'S_20__max', 'S_22__last', 'S_22__max', 'S_22__mean', 'S_23__last', 'S_23__max', 'S_23__mean', 'S_24__last', 'S_25__last', 'S_25__last2max', 'S_25__mean', 'S_25__min', 'S_25__range', 'S_25__std', 'S_26__last', 'S_26__last__log', 'S_27__last', 'S_27__mean2std', 'S_3__last', 'S_3__max', 'S_3__mean', 'S_3__min', 'S_5__last', 'S_5__last__log', 'S_5__mean__log', 'S_6__last', 'S_6__max', 'S_6__min', 'S_7__last', 'S_7__max', 'S_7__mean', 'S_7__min', 'S_8__last', 'S_8__mean', 'S_8__min', 'S_9__last', 'S_9__max']\n",
    "\n",
    "len(feats937)"
   ]
  },
  {
   "cell_type": "code",
   "execution_count": 15,
   "id": "86d98821",
   "metadata": {},
   "outputs": [
    {
     "data": {
      "text/plain": [
       "551"
      ]
     },
     "execution_count": 15,
     "metadata": {},
     "output_type": "execute_result"
    }
   ],
   "source": [
    "feats = feats551\n",
    "len(feats)"
   ]
  },
  {
   "cell_type": "code",
   "execution_count": 16,
   "id": "2d6ab5e8",
   "metadata": {},
   "outputs": [
    {
     "name": "stdout",
     "output_type": "stream",
     "text": [
      "Wall time: 11.2 s\n"
     ]
    }
   ],
   "source": [
    "%%time\n",
    "# train_file = r'/kaggle/input/amex-agg-data-rev2/agg_train_all_rev2_rev.parquet'\n",
    "train_file = r'amex/agg_v3/agg_train_all_small.parquet'\n",
    "df = pd.read_parquet(train_file, columns = ['customer_ID', 'target'] + feats, engine='pyarrow')\n"
   ]
  },
  {
   "cell_type": "markdown",
   "id": "ac39c855",
   "metadata": {},
   "source": [
    "## PCA"
   ]
  },
  {
   "cell_type": "code",
   "execution_count": 17,
   "id": "26a6c9eb",
   "metadata": {},
   "outputs": [],
   "source": [
    "from sklearn.decomposition import PCA"
   ]
  },
  {
   "cell_type": "code",
   "execution_count": 18,
   "id": "4b6fa3e8",
   "metadata": {},
   "outputs": [],
   "source": [
    "import lightgbm as lgb\n",
    "def train_trees(X_train, y_train, num_round=100, params={} ):\n",
    "    \n",
    "    params['verbosity'] = -1\n",
    "    dtrain = lgb.Dataset(X_train, y_train)\n",
    "    \n",
    "    tree_model = lgb.train(params,\n",
    "                dtrain,\n",
    "                num_boost_round=num_round)\n",
    "    \n",
    "    \n",
    "    del dtrain\n",
    "    gc.collect()\n",
    "\n",
    "    return tree_model"
   ]
  },
  {
   "cell_type": "code",
   "execution_count": 19,
   "id": "f32ea6f9",
   "metadata": {},
   "outputs": [],
   "source": [
    "# @yunchonggan's fast metric implementation\n",
    "# From https://www.kaggle.com/competitions/amex-default-prediction/discussion/328020\n",
    "# https://www.kaggle.com/code/ambrosm/amex-lightgbm-quickstart\n",
    "def amex_metric(y_true: np.array, y_pred: np.array) -> float:\n",
    "\n",
    "    # count of positives and negatives\n",
    "    n_pos = y_true.sum()\n",
    "    n_neg = y_true.shape[0] - n_pos\n",
    "\n",
    "    # sorting by descring prediction values\n",
    "    indices = np.argsort(y_pred)[::-1]\n",
    "    preds, target = y_pred[indices], y_true[indices]\n",
    "\n",
    "    # filter the top 4% by cumulative row weights\n",
    "    weight = 20.0 - target * 19.0\n",
    "    cum_norm_weight = (weight / weight.sum()).cumsum()\n",
    "    four_pct_filter = cum_norm_weight <= 0.04\n",
    "\n",
    "    # default rate captured at 4%\n",
    "    d = target[four_pct_filter].sum() / n_pos\n",
    "\n",
    "    # weighted gini coefficient\n",
    "    lorentz = (target / n_pos).cumsum()\n",
    "    gini = ((lorentz - cum_norm_weight) * weight).sum()\n",
    "\n",
    "    # max weighted gini coefficient\n",
    "    gini_max = 10 * n_neg * (1 - 19 / (n_pos + 20 * n_neg))\n",
    "\n",
    "    # normalized weighted gini coefficient\n",
    "    g = gini / gini_max\n",
    "\n",
    "    return 0.5 * (g + d)\n"
   ]
  },
  {
   "cell_type": "code",
   "execution_count": 20,
   "id": "df71a204",
   "metadata": {},
   "outputs": [
    {
     "data": {
      "text/plain": [
       "1"
      ]
     },
     "execution_count": 20,
     "metadata": {},
     "output_type": "execute_result"
    }
   ],
   "source": [
    "binary_params = [{'boosting_type': 'gbdt', 'colsample_bytree': 0.5, 'learning_rate': 0.026, 'max_bin': 3000, 'max_depth': 21, 'metric': 'auc', 'min_child_samples': 3200, 'min_data_in_bin': 600, 'n_estimators': 1950, 'n_jobs': 4, 'num_leaves': 71, 'objective': 'binary', 'random_state': 1234, 'reg_alpha': 5, 'reg_lambda': 1, 'subsample': 0.95, 'subsample_freq': 5}]\n",
    "\n",
    "len(binary_params)"
   ]
  },
  {
   "cell_type": "code",
   "execution_count": 21,
   "id": "c2b26b70",
   "metadata": {},
   "outputs": [
    {
     "name": "stdout",
     "output_type": "stream",
     "text": [
      "{'boosting_type': 'gbdt', 'colsample_bytree': 0.5, 'learning_rate': 0.026, 'max_bin': 3000, 'max_depth': 21, 'metric': 'auc', 'min_child_samples': 3200, 'min_data_in_bin': 600, 'n_estimators': 1950, 'n_jobs': 4, 'num_leaves': 71, 'objective': 'binary', 'random_state': 1234, 'reg_alpha': 5, 'reg_lambda': 1, 'subsample': 0.95, 'subsample_freq': 5}\n",
      "0.7534239617314795\n",
      "0.7465202005872691\n",
      "0.7538131213485993\n",
      "0.7511713226149146\n",
      "0.7521005165742246\n",
      "all: 0.7514058245712975\n"
     ]
    }
   ],
   "source": [
    "X = df[feats]\n",
    "y = df[['target']]\n",
    "skf = KFold(n_splits=5)\n",
    "\n",
    "for params in binary_params:\n",
    "    print(params)\n",
    "    num_boost_round = params['n_estimators']\n",
    "    params_ = copy.deepcopy(params)\n",
    "    del params_['n_estimators']  \n",
    "    \n",
    "    losses = []\n",
    "    \n",
    "    for train_index, test_index in skf.split(X, y):\n",
    "        \n",
    "        #----start: data prep-------------------------------------\n",
    "        X_train, X_test = X.iloc[train_index], X.iloc[test_index]\n",
    "        y_train, y_test = y.iloc[train_index], y.iloc[test_index]\n",
    "        \n",
    "        scaler_ = StandardScaler()\n",
    "        scaler_.fit(X_train)\n",
    "        X_train = pd.DataFrame(data = scaler_.transform(X_train), columns = feats)\n",
    "        X_test = pd.DataFrame(data = scaler_.transform(X_test), columns = feats)\n",
    "        \n",
    "        pca_train_list =  []\n",
    "        pca_test_list =  []\n",
    "        pca = PCA(n_components=5)\n",
    "        pca.fit(X_train)\n",
    "        pca_train_list.append(pca.transform(X_train))\n",
    "        pca_test_list.append(pca.transform(X_test))\n",
    "        \n",
    "        # D_* = Delinquency variables\n",
    "        # S_* = Spend variables\n",
    "        # P_* = Payment variables\n",
    "        # B_* = Balance variables\n",
    "        # R_* = Risk variables\n",
    "\n",
    "        for data_type, ncomp in zip(['D_', 'S_', 'P_', 'B_', 'R_'], [2, 3, 3, 3, 2]):\n",
    "            feats_ = []\n",
    "            for c in feats:\n",
    "                if c[:2]==data_type:\n",
    "                    feats_.append(c)\n",
    "\n",
    "            pca = PCA(n_components=ncomp)\n",
    "            pca.fit(X_train[feats_])\n",
    "            \n",
    "            pca_train_list.append(pca.transform(X_train[feats_]))\n",
    "            pca_test_list.append(pca.transform(X_test[feats_]))\n",
    "\n",
    "        X_train = np.concatenate(pca_train_list, axis=1)\n",
    "        X_test = np.concatenate(pca_test_list, axis=1)\n",
    "        #----end: data prep-------------------------------------\n",
    "        \n",
    "        #-----start: train trees---------------------------------------\n",
    "        tree_model = train_trees(X_train, y_train['target'].values,\n",
    "                                 num_round=num_boost_round, \n",
    "                                 params=params_\n",
    "                                )\n",
    "\n",
    "        y_preds = tree_model.predict(X_test, num_iteration=tree_model.best_iteration)\n",
    "#         loss = roc_auc_score(y_test, y_preds)\n",
    "#         loss = f1_score(y_test['target'].values, (y_preds>=0.9).astype(int))\n",
    "#         loss = amex_metric(y_test, \n",
    "#                            pd.DataFrame(data={'prediction': y_preds}))\n",
    "        loss = amex_metric(y_test['target'].values, y_preds)\n",
    "        print(loss)\n",
    "        losses.append(loss)\n",
    "    print('all:', np.mean(losses))"
   ]
  },
  {
   "cell_type": "code",
   "execution_count": 13,
   "id": "5650df0c",
   "metadata": {},
   "outputs": [
    {
     "name": "stdout",
     "output_type": "stream",
     "text": [
      "0.7442922736407714\n"
     ]
    }
   ],
   "source": [
    "        loss = amex_metric(y_test['target'].values, y_preds)\n",
    "        print(loss)"
   ]
  },
  {
   "cell_type": "code",
   "execution_count": null,
   "id": "d09761d1",
   "metadata": {},
   "outputs": [],
   "source": [
    "a = np.array([[1, 2], [3, 4]])\n",
    "b = np.array([[5, 6]])\n",
    "np.concatenate([a, b.T], axis=1)"
   ]
  },
  {
   "cell_type": "code",
   "execution_count": null,
   "id": "c498d699",
   "metadata": {},
   "outputs": [],
   "source": [
    "np.concatenate((pca_all, b.T), axis=1)"
   ]
  },
  {
   "cell_type": "code",
   "execution_count": null,
   "id": "b561ac97",
   "metadata": {},
   "outputs": [],
   "source": []
  },
  {
   "cell_type": "code",
   "execution_count": null,
   "id": "ff35858d",
   "metadata": {},
   "outputs": [],
   "source": [
    "print(np.round(pca_train.explained_variance_ratio_, 2))"
   ]
  },
  {
   "cell_type": "code",
   "execution_count": 23,
   "id": "ab6ba5ab",
   "metadata": {},
   "outputs": [],
   "source": [
    "from sklearn.manifold import TSNE"
   ]
  },
  {
   "cell_type": "code",
   "execution_count": 24,
   "id": "c59a65aa",
   "metadata": {},
   "outputs": [],
   "source": []
  },
  {
   "cell_type": "code",
   "execution_count": 25,
   "id": "8ac813fc",
   "metadata": {},
   "outputs": [],
   "source": []
  },
  {
   "cell_type": "code",
   "execution_count": 32,
   "id": "1ba796a3",
   "metadata": {},
   "outputs": [
    {
     "data": {
      "text/plain": [
       "(458913,)"
      ]
     },
     "execution_count": 32,
     "metadata": {},
     "output_type": "execute_result"
    }
   ],
   "source": []
  },
  {
   "cell_type": "code",
   "execution_count": 28,
   "id": "70ab5ad2",
   "metadata": {},
   "outputs": [],
   "source": [
    "import matplotlib.pyplot as plt"
   ]
  },
  {
   "cell_type": "code",
   "execution_count": 33,
   "id": "cee18764",
   "metadata": {},
   "outputs": [
    {
     "data": {
      "text/plain": [
       "<matplotlib.collections.PathCollection at 0x18c2e58c5f8>"
      ]
     },
     "execution_count": 33,
     "metadata": {},
     "output_type": "execute_result"
    },
    {
     "data": {
      "image/png": "[encoded data removed]",
      "text/plain": [
       "<Figure size 432x288 with 1 Axes>"
      ]
     },
     "metadata": {
      "needs_background": "light"
     },
     "output_type": "display_data"
    }
   ],
   "source": [
    "plt.scatter(tsne_x[:, 0], tsne_x[:, 1])"
   ]
  },
  {
   "cell_type": "code",
   "execution_count": null,
   "id": "909887f6",
   "metadata": {},
   "outputs": [],
   "source": [
    "X = df[feats]\n",
    "y = df[['target']]\n",
    "skf = KFold(n_splits=5)\n",
    "\n",
    "for params in binary_params:\n",
    "    print(params)\n",
    "    num_boost_round = params['n_estimators']\n",
    "    params_ = copy.deepcopy(params)\n",
    "    del params_['n_estimators']  \n",
    "    \n",
    "    losses = []\n",
    "    \n",
    "    for train_index, test_index in skf.split(X, y):\n",
    "        \n",
    "        #----start: data prep-------------------------------------\n",
    "        X_train, X_test = X.iloc[train_index], X.iloc[test_index]\n",
    "        y_train, y_test = y.iloc[train_index], y.iloc[test_index]\n",
    "        \n",
    "        scaler_ = StandardScaler()\n",
    "        scaler_.fit(X_train)\n",
    "        X_train = pd.DataFrame(data = scaler_.transform(X_train), columns = feats)\n",
    "        X_test = pd.DataFrame(data = scaler_.transform(X_test), columns = feats)\n",
    "        tsne = TSNE(\n",
    "                    n_components=2,\n",
    "                    init=\"random\",\n",
    "                    random_state=0,\n",
    "                    perplexity=5,\n",
    "                    learning_rate=\"auto\",\n",
    "                    n_iter=250,\n",
    "                )\n",
    "        tsne.fit_transform(X_train)\n",
    "        X_train = tsne.transform(X_train)\n",
    "        X_test = tsne.transform(X_test)\n",
    "\n",
    "        #----end: data prep-------------------------------------\n",
    "        \n",
    "        #-----start: train trees---------------------------------------\n",
    "        tree_model = train_trees(X_train, y_train['target'].values,\n",
    "                                 num_round=num_boost_round, \n",
    "                                 params=params_\n",
    "                                )\n",
    "\n",
    "        y_preds = tree_model.predict(X_test, num_iteration=tree_model.best_iteration)\n",
    "#         loss = roc_auc_score(y_test, y_preds)\n",
    "#         loss = f1_score(y_test['target'].values, (y_preds>=0.9).astype(int))\n",
    "#         loss = amex_metric(y_test, \n",
    "#                            pd.DataFrame(data={'prediction': y_preds}))\n",
    "        loss = amex_metric(y_test['target'].values, y_preds)\n",
    "        print(loss)\n",
    "        losses.append(loss)\n",
    "    print('all:', np.mean(losses))"
   ]
  },
  {
   "cell_type": "code",
   "execution_count": null,
   "id": "7f07dee8",
   "metadata": {},
   "outputs": [],
   "source": []
  }
 ],
 "metadata": {
  "kernelspec": {
   "display_name": "Python 3",
   "language": "python",
   "name": "python3"
  },
  "language_info": {
   "codemirror_mode": {
    "name": "ipython",
    "version": 3
   },
   "file_extension": ".py",
   "mimetype": "text/x-python",
   "name": "python",
   "nbconvert_exporter": "python",
   "pygments_lexer": "ipython3",
   "version": "3.6.3"
  }
 },
 "nbformat": 4,
 "nbformat_minor": 5
}
